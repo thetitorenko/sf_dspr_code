{
 "cells": [
  {
   "cell_type": "markdown",
   "metadata": {},
   "source": [
    "### 2 юнит"
   ]
  },
  {
   "cell_type": "code",
   "execution_count": 1,
   "metadata": {},
   "outputs": [],
   "source": [
    "# Импортируем тип Counter\n",
    "from collections import Counter"
   ]
  },
  {
   "cell_type": "code",
   "execution_count": 2,
   "metadata": {},
   "outputs": [
    {
     "name": "stdout",
     "output_type": "stream",
     "text": [
      "Counter({'red': 1})\n"
     ]
    }
   ],
   "source": [
    "c = Counter()   # пустой объект типа Counter\n",
    "c['red'] += 1\n",
    "\n",
    "print(c)"
   ]
  },
  {
   "cell_type": "code",
   "execution_count": 3,
   "metadata": {},
   "outputs": [
    {
     "name": "stdout",
     "output_type": "stream",
     "text": [
      "Counter({'red': 3, 'black': 3, 'blue': 2, 'white': 1})\n"
     ]
    }
   ],
   "source": [
    "c = Counter()\n",
    "cars = ['red', 'blue', 'black', 'black', 'black', 'red', 'blue', 'red', 'white']\n",
    "\n",
    "# Подсчет количества в цикле\n",
    "for car in cars:\n",
    "    c[car] += 1\n",
    "\n",
    "print(c)"
   ]
  },
  {
   "cell_type": "code",
   "execution_count": 4,
   "metadata": {},
   "outputs": [
    {
     "name": "stdout",
     "output_type": "stream",
     "text": [
      "Counter({'red': 3, 'black': 3, 'blue': 2, 'white': 1})\n"
     ]
    }
   ],
   "source": [
    "cars = ['red', 'blue', 'black', 'black', 'black', 'red', 'blue', 'red', 'white']\n",
    "c = Counter(cars)   # подсчет количества при создании\n",
    "\n",
    "print(c)"
   ]
  },
  {
   "cell_type": "code",
   "execution_count": 5,
   "metadata": {},
   "outputs": [
    {
     "name": "stdout",
     "output_type": "stream",
     "text": [
      "0\n"
     ]
    }
   ],
   "source": [
    "print(c['purple'])  # сколько раз встречается purple"
   ]
  },
  {
   "cell_type": "code",
   "execution_count": 6,
   "metadata": {},
   "outputs": [
    {
     "name": "stdout",
     "output_type": "stream",
     "text": [
      "dict_values([3, 2, 3, 1])\n",
      "9\n"
     ]
    }
   ],
   "source": [
    "print(c.values())       # список значений (как у обычного словаря)\n",
    "print(sum(c.values()))  # количество всех машин (сумма значений)"
   ]
  },
  {
   "cell_type": "code",
   "execution_count": 7,
   "metadata": {},
   "outputs": [
    {
     "name": "stdout",
     "output_type": "stream",
     "text": [
      "Counter({'black': 4, 'yellow': 3, 'white': 2})\n",
      "Counter({'white': 3, 'red': 2, 'black': 2, 'yellow': 2})\n"
     ]
    }
   ],
   "source": [
    "# Списки цветов машин из разных городов\n",
    "cars_moscow = ['black', 'black', 'white', 'black', 'black', 'white', 'yellow', 'yellow', 'yellow']\n",
    "cars_spb = ['red', 'black', 'black', 'white', 'white', 'yellow', 'yellow', 'red', 'white']\n",
    "\n",
    "counter_moscow = Counter(cars_moscow)\n",
    "counter_spb = Counter(cars_spb)\n",
    "\n",
    "print(counter_moscow)\n",
    "print(counter_spb)"
   ]
  },
  {
   "cell_type": "code",
   "execution_count": 8,
   "metadata": {},
   "outputs": [
    {
     "name": "stdout",
     "output_type": "stream",
     "text": [
      "Counter({'black': 6, 'white': 5, 'yellow': 5, 'red': 2})\n"
     ]
    }
   ],
   "source": [
    "print(counter_moscow + counter_spb)     # сложение счетчиков"
   ]
  },
  {
   "cell_type": "code",
   "execution_count": 9,
   "metadata": {},
   "outputs": [
    {
     "name": "stdout",
     "output_type": "stream",
     "text": [
      "Counter({'black': 2, 'yellow': 1, 'white': -1, 'red': -2})\n"
     ]
    }
   ],
   "source": [
    "# Вычитание счетчиков. Метод subtract уменьшает значения \n",
    "# в counter_moscow на соответствующие значения из counter_spb\n",
    "counter_moscow.subtract(counter_spb)\n",
    "print(counter_moscow)"
   ]
  },
  {
   "cell_type": "code",
   "execution_count": 10,
   "metadata": {},
   "outputs": [
    {
     "name": "stdout",
     "output_type": "stream",
     "text": [
      "Counter({'black': 2, 'yellow': 1})\n",
      "Counter({'black': 4, 'yellow': 3, 'white': 2})\n"
     ]
    }
   ],
   "source": [
    "counter_moscow = Counter(cars_moscow)\n",
    "counter_spb = Counter(cars_spb)\n",
    "\n",
    "# Вывод разности счетчиков при которой нету отрицательных значений.\n",
    "# Остаются только положительные значения, но объект counter_moscow не изменяется\n",
    "print(counter_moscow - counter_spb)\n",
    "print(counter_moscow)"
   ]
  },
  {
   "cell_type": "code",
   "execution_count": 11,
   "metadata": {},
   "outputs": [
    {
     "name": "stdout",
     "output_type": "stream",
     "text": [
      "black black black black white white yellow yellow yellow\n"
     ]
    }
   ],
   "source": [
    "# Можно получить все элементы счетчика в виде итератора\n",
    "print(*counter_moscow.elements())"
   ]
  },
  {
   "cell_type": "code",
   "execution_count": 12,
   "metadata": {},
   "outputs": [
    {
     "name": "stdout",
     "output_type": "stream",
     "text": [
      "['black', 'white', 'yellow']\n"
     ]
    }
   ],
   "source": [
    "# Получить список уникальных элементов счетчика\n",
    "print(list(counter_moscow))"
   ]
  },
  {
   "cell_type": "code",
   "execution_count": 13,
   "metadata": {},
   "outputs": [
    {
     "name": "stdout",
     "output_type": "stream",
     "text": [
      "{'black': 4, 'white': 2, 'yellow': 3}\n"
     ]
    }
   ],
   "source": [
    "# Преобразование счетчика в обычный словарь\n",
    "print(dict(counter_moscow))"
   ]
  },
  {
   "cell_type": "code",
   "execution_count": 14,
   "metadata": {},
   "outputs": [
    {
     "data": {
      "text/plain": [
       "[('black', 4), ('yellow', 3), ('white', 2)]"
      ]
     },
     "execution_count": 14,
     "metadata": {},
     "output_type": "execute_result"
    }
   ],
   "source": [
    "# Получение наиболее часто встречающихся элементов\n",
    "counter_moscow.most_common()"
   ]
  },
  {
   "cell_type": "code",
   "execution_count": 15,
   "metadata": {},
   "outputs": [
    {
     "data": {
      "text/plain": [
       "[('black', 4), ('yellow', 3)]"
      ]
     },
     "execution_count": 15,
     "metadata": {},
     "output_type": "execute_result"
    }
   ],
   "source": [
    "# Получение двух наиболее часто встречающихся элементов\n",
    "counter_moscow.most_common(2)"
   ]
  },
  {
   "cell_type": "code",
   "execution_count": 16,
   "metadata": {},
   "outputs": [
    {
     "name": "stdout",
     "output_type": "stream",
     "text": [
      "Counter()\n"
     ]
    }
   ],
   "source": [
    "# Удаление всех элементов счетчика\n",
    "counter_moscow.clear()\n",
    "print(counter_moscow)"
   ]
  },
  {
   "cell_type": "code",
   "execution_count": 17,
   "metadata": {},
   "outputs": [
    {
     "name": "stdout",
     "output_type": "stream",
     "text": [
      "953421116\n"
     ]
    }
   ],
   "source": [
    "# Задание 2.3\n",
    "\n",
    "from hidden import clients\n",
    "\n",
    "\n",
    "counter_clients = Counter(clients)\n",
    "\n",
    "# Наиболее часто встречающийся клиент (номер карты)\n",
    "most_freq_customer = counter_clients.most_common(1)[0][0]\n",
    "print(most_freq_customer)"
   ]
  },
  {
   "cell_type": "code",
   "execution_count": 18,
   "metadata": {},
   "outputs": [
    {
     "name": "stdout",
     "output_type": "stream",
     "text": [
      "5\n"
     ]
    }
   ],
   "source": [
    "# Задание 2.4\n",
    "\n",
    "# Количество покупок клиента с картой 953421102\n",
    "print(counter_clients[953421102])"
   ]
  },
  {
   "cell_type": "code",
   "execution_count": 19,
   "metadata": {},
   "outputs": [
    {
     "name": "stdout",
     "output_type": "stream",
     "text": [
      "94\n"
     ]
    }
   ],
   "source": [
    "# Задание 2.5\n",
    "\n",
    "# Количество уникальных номеров карт\n",
    "print(len(list(counter_clients)))"
   ]
  },
  {
   "cell_type": "code",
   "execution_count": 20,
   "metadata": {},
   "outputs": [],
   "source": [
    "# Импортируем тип defaultdict\n",
    "from collections import defaultdict"
   ]
  },
  {
   "cell_type": "code",
   "execution_count": 21,
   "metadata": {},
   "outputs": [],
   "source": [
    "# Список кортежей с фамилиями студентов и их группами\n",
    "students = [('Ivanov', 1), ('Smirnov', 4), ('Petrov', 3), ('Kuznetsova', 1),\n",
    "            ('Nikitina', 2), ('Markov', 3), ('Pavlov', 2)]"
   ]
  },
  {
   "cell_type": "code",
   "execution_count": 22,
   "metadata": {},
   "outputs": [
    {
     "name": "stdout",
     "output_type": "stream",
     "text": [
      "{1: ['Ivanov', 'Kuznetsova'], 4: ['Smirnov'], 3: ['Petrov', 'Markov'], 2: ['Nikitina', 'Pavlov']}\n"
     ]
    }
   ],
   "source": [
    "# Создадим словарь в котором ключ - номер группы,\n",
    "# а значение - список студентов этой группы\n",
    "groups = {}\n",
    "\n",
    "# Перебираем студентов и их группы\n",
    "for student, group in students:\n",
    "\n",
    "    # Проверяем, есть ли уже эта группа в словаре\n",
    "    if group not in groups:\n",
    "\n",
    "        #  Если группы ещё нет в словаре, создаём для неё пустой список\n",
    "        groups[group] = list()\n",
    "\n",
    "    # Добавляем студента в список группы\n",
    "    groups[group].append(student)\n",
    "\n",
    "print(groups)"
   ]
  },
  {
   "cell_type": "code",
   "execution_count": 23,
   "metadata": {},
   "outputs": [
    {
     "name": "stdout",
     "output_type": "stream",
     "text": [
      "defaultdict(<class 'list'>, {1: ['Ivanov', 'Kuznetsova'], 4: ['Smirnov'], 3: ['Petrov', 'Markov'], 2: ['Nikitina', 'Pavlov']})\n"
     ]
    }
   ],
   "source": [
    "# Создадим defaultdict с аргументом типа list\n",
    "groups = defaultdict(list)\n",
    "\n",
    "# Код становится короче, так как defaultdict сам создаёт список для новой группы\n",
    "for student, group in students:\n",
    "    groups[group].append(student)\n",
    "\n",
    "print(groups)"
   ]
  },
  {
   "cell_type": "code",
   "execution_count": 24,
   "metadata": {},
   "outputs": [
    {
     "name": "stdout",
     "output_type": "stream",
     "text": [
      "['Petrov', 'Markov']\n"
     ]
    }
   ],
   "source": [
    "# Получение значений по ключу, как в обычном словаре\n",
    "print(groups[3])"
   ]
  },
  {
   "cell_type": "code",
   "execution_count": 25,
   "metadata": {},
   "outputs": [
    {
     "name": "stdout",
     "output_type": "stream",
     "text": [
      "[]\n",
      "defaultdict(<class 'list'>, {1: ['Ivanov', 'Kuznetsova'], 4: ['Smirnov'], 3: ['Petrov', 'Markov'], 2: ['Nikitina', 'Pavlov'], 2021: []})\n"
     ]
    }
   ],
   "source": [
    "# Если ключа нет, defaultdict создаст пустой список\n",
    "print(groups[2021])\n",
    "print(groups)"
   ]
  },
  {
   "cell_type": "code",
   "execution_count": 26,
   "metadata": {},
   "outputs": [
    {
     "name": "stdout",
     "output_type": "stream",
     "text": [
      "<class 'collections.deque'>\n"
     ]
    }
   ],
   "source": [
    "# Задание 2.8\n",
    "\n",
    "from hidden import *\n",
    "\n",
    "\n",
    "# Какая структура данных задана по умолчанию\n",
    "print(mystery.default_factory)"
   ]
  },
  {
   "cell_type": "markdown",
   "metadata": {},
   "source": [
    "### 3 юнит"
   ]
  },
  {
   "cell_type": "code",
   "execution_count": 27,
   "metadata": {},
   "outputs": [
    {
     "name": "stdout",
     "output_type": "stream",
     "text": [
      "Python 3.12.7\n"
     ]
    }
   ],
   "source": [
    "!python --version"
   ]
  },
  {
   "cell_type": "code",
   "execution_count": 28,
   "metadata": {},
   "outputs": [
    {
     "name": "stdout",
     "output_type": "stream",
     "text": [
      "{'Ivan': 19, 'Mark': 25, 'Andrey': 23, 'Maria': 20}\n"
     ]
    }
   ],
   "source": [
    "# Начиная с версии Python 3.7 порядок элементов в словаре сохраняется\n",
    "data = [\n",
    "    ('Ivan', 19), ('Mark', 25), \n",
    "    ('Andrey', 23), ('Maria', 20)\n",
    "    ]\n",
    "    \n",
    "client_ages = dict(data)\n",
    "print(client_ages)"
   ]
  },
  {
   "cell_type": "code",
   "execution_count": 29,
   "metadata": {},
   "outputs": [],
   "source": [
    "# Импортируем тип OrderedDict\n",
    "from collections import OrderedDict"
   ]
  },
  {
   "cell_type": "code",
   "execution_count": 30,
   "metadata": {},
   "outputs": [
    {
     "name": "stdout",
     "output_type": "stream",
     "text": [
      "OrderedDict({'Ivan': 19, 'Mark': 25, 'Andrey': 23, 'Maria': 20})\n"
     ]
    }
   ],
   "source": [
    "# Словарь OrderedDict, который сохраняет порядка элементов\n",
    "ordered_client_ages = OrderedDict(data)\n",
    "\n",
    "print(ordered_client_ages)"
   ]
  },
  {
   "cell_type": "code",
   "execution_count": 31,
   "metadata": {},
   "outputs": [
    {
     "name": "stdout",
     "output_type": "stream",
     "text": [
      "OrderedDict({'Ivan': 19, 'Maria': 20, 'Andrey': 23, 'Mark': 25})\n"
     ]
    }
   ],
   "source": [
    "# Сортировка словаря по возрасту клиентов при создании OrderedDict\n",
    "ordered_client_ages = OrderedDict(sorted(data, key=lambda x: x[1]))\n",
    "\n",
    "print(ordered_client_ages)"
   ]
  },
  {
   "cell_type": "code",
   "execution_count": 32,
   "metadata": {},
   "outputs": [
    {
     "name": "stdout",
     "output_type": "stream",
     "text": [
      "OrderedDict({'Ivan': 19, 'Maria': 20, 'Andrey': 23, 'Mark': 25, 'Nikita': 18})\n"
     ]
    }
   ],
   "source": [
    "# Новый элемент добавиться в конец словаря\n",
    "ordered_client_ages['Nikita'] = 18\n",
    "\n",
    "print(ordered_client_ages)"
   ]
  },
  {
   "cell_type": "code",
   "execution_count": 33,
   "metadata": {},
   "outputs": [
    {
     "name": "stdout",
     "output_type": "stream",
     "text": [
      "OrderedDict({'Ivan': 19, 'Maria': 20, 'Mark': 25, 'Nikita': 18, 'Andrey': 23})\n"
     ]
    }
   ],
   "source": [
    "# Если удалить элемент, а затем снова его добавить, он окажется в конце\n",
    "del ordered_client_ages['Andrey']\n",
    "ordered_client_ages['Andrey'] = 23\n",
    "\n",
    "print(ordered_client_ages)"
   ]
  },
  {
   "cell_type": "code",
   "execution_count": 34,
   "metadata": {},
   "outputs": [],
   "source": [
    "# Импортируем тип deque\n",
    "from collections import deque"
   ]
  },
  {
   "cell_type": "code",
   "execution_count": 35,
   "metadata": {},
   "outputs": [
    {
     "name": "stdout",
     "output_type": "stream",
     "text": [
      "deque([])\n"
     ]
    }
   ],
   "source": [
    "dq = deque()\n",
    "print(dq)"
   ]
  },
  {
   "cell_type": "code",
   "execution_count": 36,
   "metadata": {},
   "outputs": [
    {
     "name": "stdout",
     "output_type": "stream",
     "text": [
      "deque(['Ivanov', 'Petrov', 'Smirnova', 'Tikhonova'])\n"
     ]
    }
   ],
   "source": [
    "# Создаем объект deque, который будет эмитировать очередь\n",
    "# звонков клиентов в техподдержку\n",
    "clients = deque()\n",
    "\n",
    "# Поступили звонки от клиентов\n",
    "clients.append('Ivanov')\n",
    "clients.append('Petrov')\n",
    "clients.append('Smirnova')\n",
    "clients.append('Tikhonova')\n",
    "\n",
    "print(clients)"
   ]
  },
  {
   "cell_type": "code",
   "execution_count": 37,
   "metadata": {},
   "outputs": [
    {
     "name": "stdout",
     "output_type": "stream",
     "text": [
      "Smirnova\n"
     ]
    }
   ],
   "source": [
    "# deque поддерживает индексацию. \n",
    "# Посмотрим 3 клиента в очереди\n",
    "print(clients[2])"
   ]
  },
  {
   "cell_type": "code",
   "execution_count": 38,
   "metadata": {},
   "outputs": [
    {
     "name": "stdout",
     "output_type": "stream",
     "text": [
      "First client: Ivanov\n",
      "Second client: Petrov\n",
      "deque(['Smirnova', 'Tikhonova'])\n"
     ]
    }
   ],
   "source": [
    "# Освободился оператор техподдержки и забрал \n",
    "# первых двух клиентов из начала очереди\n",
    "first_client = clients.popleft()\n",
    "second_client = clients.popleft()\n",
    "\n",
    "print(f'First client:', first_client)\n",
    "print(f'Second client:', second_client)\n",
    "print(clients)"
   ]
  },
  {
   "cell_type": "code",
   "execution_count": 39,
   "metadata": {},
   "outputs": [
    {
     "name": "stdout",
     "output_type": "stream",
     "text": [
      "deque(['VIP client', 'Smirnova', 'Tikhonova'])\n"
     ]
    }
   ],
   "source": [
    "# Появился VIP клиент, добавим его в начало очереди\n",
    "clients.appendleft('VIP client')\n",
    "print(clients)"
   ]
  },
  {
   "cell_type": "code",
   "execution_count": 40,
   "metadata": {},
   "outputs": [
    {
     "name": "stdout",
     "output_type": "stream",
     "text": [
      "Tikhonova left the queue\n",
      "deque(['VIP client', 'Smirnova'])\n"
     ]
    }
   ],
   "source": [
    "# Последний клиент устал и отменил вызов\n",
    "tired_client = clients.pop()\n",
    "print(tired_client, 'left the queue')\n",
    "print(clients)"
   ]
  },
  {
   "cell_type": "code",
   "execution_count": 41,
   "metadata": {},
   "outputs": [
    {
     "name": "stdout",
     "output_type": "stream",
     "text": [
      "deque(['Smirnova'])\n"
     ]
    }
   ],
   "source": [
    "# Можно удалить элемент (клиента) по индексу\n",
    "del clients[0]\n",
    "print(clients)"
   ]
  },
  {
   "cell_type": "code",
   "execution_count": 42,
   "metadata": {},
   "outputs": [
    {
     "name": "stdout",
     "output_type": "stream",
     "text": [
      "deque([1, 2, 4, 5])\n",
      "deque([1, 2, 4, 5, 11, 12, 13, 14, 15, 16, 17])\n"
     ]
    }
   ],
   "source": [
    "# Сымитируем очередь в сувенирный магазин\n",
    "shop = deque([1, 2, 4, 5])\n",
    "print(shop)\n",
    "\n",
    "# На туристическом автобусе приехали туристы. Добавим их в конец очереди\n",
    "shop.extend([11, 12, 13, 14, 15, 16, 17])\n",
    "print(shop)"
   ]
  },
  {
   "cell_type": "code",
   "execution_count": 43,
   "metadata": {},
   "outputs": [
    {
     "name": "stdout",
     "output_type": "stream",
     "text": [
      "deque([1, 2, 4, 5])\n",
      "deque([17, 16, 15, 14, 13, 12, 11, 1, 2, 4, 5])\n"
     ]
    }
   ],
   "source": [
    "# Оказалось, что клиенты турфирмы обслуживаются вне очереди\n",
    "shop = deque([1, 2, 4, 5])\n",
    "print(shop)\n",
    "\n",
    "# Добавим их в начало очереди.\n",
    "# Обратите внимание, что порядок элементов добавленных\n",
    "# в очередь обратный от того, как они переданы в метод\n",
    "shop.extendleft([11, 12, 13, 14, 15, 16, 17])\n",
    "print(shop)"
   ]
  },
  {
   "cell_type": "code",
   "execution_count": 45,
   "metadata": {},
   "outputs": [
    {
     "name": "stdout",
     "output_type": "stream",
     "text": [
      "deque([], maxlen=3)\n",
      "deque([5, 6, 7], maxlen=3)\n"
     ]
    }
   ],
   "source": [
    "# Создадим ограниченный deque на 3 элемент\n",
    "limited = deque(maxlen=3)\n",
    "print(limited)\n",
    "\n",
    "# В очереди сохраняются только 3 последних элемента списка\n",
    "limited_from_list = deque([1, 2, 3, 4, 5, 6, 7], maxlen=3)\n",
    "print(limited_from_list)"
   ]
  },
  {
   "cell_type": "code",
   "execution_count": 52,
   "metadata": {},
   "outputs": [
    {
     "name": "stdout",
     "output_type": "stream",
     "text": [
      "20.77; 21.27; 22.16; 23.3; 24.44; 24.94; 25.56; 26.2; 25.97; 25.94; 25.57; 25.1; 24.81; 24.21; 23.23; 22.57; 21.41; 20.4; 19.6; 19.1; 19.04; 18.96; 19.44; 20.01; 20.67; "
     ]
    }
   ],
   "source": [
    "# Средние дневные температуры в Москве за июль\n",
    "temps = [20.6, 19.4, 19.0, 19.0, 22.1,\n",
    "        22.5, 22.8, 24.1, 25.6, 27.0,\n",
    "        27.0, 25.6, 26.8, 27.3, 22.5,\n",
    "        25.4, 24.4, 23.7, 23.6, 22.6,\n",
    "        20.4, 17.9, 17.3, 17.3, 18.1,\n",
    "        20.1, 22.2, 19.8, 21.3, 21.3,\n",
    "        21.9]\n",
    "\n",
    "\n",
    "# Посчитаем динамику средней температуры за последние\n",
    "# 7 дней для каждого дня (скользящее среднее)\n",
    "days = deque(maxlen=7)\n",
    "\n",
    "\n",
    "for temp in temps:\n",
    "    days.append(temp)\n",
    "\n",
    "    # Если набралось 7 дней, считаем среднюю температуру\n",
    "    if len(days) == days.maxlen:\n",
    "        # Средняя температура за 7 дней с округлением до 2 знаков\n",
    "        print(f'{round(sum(days) / len(days), 2)}', end='; ')"
   ]
  },
  {
   "cell_type": "code",
   "execution_count": 53,
   "metadata": {},
   "outputs": [
    {
     "name": "stdout",
     "output_type": "stream",
     "text": [
      "deque([1, 2, 3, 4, 5])\n",
      "deque([5, 4, 3, 2, 1])\n"
     ]
    }
   ],
   "source": [
    "dq = deque([1, 2, 3, 4, 5])\n",
    "print(dq)\n",
    "\n",
    "# Разворачиваем очередь\n",
    "dq.reverse()\n",
    "print(dq)"
   ]
  },
  {
   "cell_type": "code",
   "execution_count": 54,
   "metadata": {},
   "outputs": [
    {
     "name": "stdout",
     "output_type": "stream",
     "text": [
      "deque([1, 2, 3, 4, 5])\n",
      "deque([4, 5, 1, 2, 3])\n"
     ]
    }
   ],
   "source": [
    "dq = deque([1, 2, 3, 4, 5])\n",
    "print(dq)\n",
    "\n",
    "# Переносим 2 элемента из конца очереди в начало\n",
    "dq.rotate(2)\n",
    "print(dq)"
   ]
  },
  {
   "cell_type": "code",
   "execution_count": 55,
   "metadata": {},
   "outputs": [
    {
     "name": "stdout",
     "output_type": "stream",
     "text": [
      "deque([1, 2, 3, 4, 5])\n",
      "deque([3, 4, 5, 1, 2])\n"
     ]
    }
   ],
   "source": [
    "dq = deque([1, 2, 3, 4, 5])\n",
    "print(dq)\n",
    "\n",
    "# Переносим 2 элемента из начала очереди в конец\n",
    "dq.rotate(-2)\n",
    "print(dq)"
   ]
  },
  {
   "cell_type": "code",
   "execution_count": null,
   "metadata": {},
   "outputs": [],
   "source": [
    "dq = [1, 2, 4, 2, 3, 1, 5, 4, 4, 4, 4, 4, 3]\n",
    "\n",
    "# Поиск первого вхождения элемента 4\n",
    "print(dq.index(4))\n",
    "\n",
    "# Подсчет количества вхождений элемента 4\n",
    "print(dq.count(4))"
   ]
  },
  {
   "cell_type": "code",
   "execution_count": 56,
   "metadata": {},
   "outputs": [
    {
     "ename": "ValueError",
     "evalue": "25 is not in deque",
     "output_type": "error",
     "traceback": [
      "\u001b[1;31m---------------------------------------------------------------------------\u001b[0m",
      "\u001b[1;31mValueError\u001b[0m                                Traceback (most recent call last)",
      "Cell \u001b[1;32mIn[56], line 1\u001b[0m\n\u001b[1;32m----> 1\u001b[0m \u001b[38;5;28mprint\u001b[39m(dq\u001b[38;5;241m.\u001b[39mindex(\u001b[38;5;241m25\u001b[39m))\n",
      "\u001b[1;31mValueError\u001b[0m: 25 is not in deque"
     ]
    }
   ],
   "source": [
    "# При поиске элемента, которого нет в списке,\n",
    "# возникнет ошибка\n",
    "print(dq.index(25))"
   ]
  },
  {
   "cell_type": "code",
   "execution_count": 57,
   "metadata": {},
   "outputs": [
    {
     "name": "stdout",
     "output_type": "stream",
     "text": [
      "0\n"
     ]
    }
   ],
   "source": [
    "# При подсчете количества вхождений элемента,\n",
    "# которого нет в списке, вернется 0\n",
    "print(dq.count(25))"
   ]
  },
  {
   "cell_type": "code",
   "execution_count": 58,
   "metadata": {},
   "outputs": [
    {
     "name": "stdout",
     "output_type": "stream",
     "text": [
      "deque([])\n"
     ]
    }
   ],
   "source": [
    "# Удаление всех элементов списка\n",
    "dq.clear()\n",
    "print(dq)"
   ]
  },
  {
   "cell_type": "code",
   "execution_count": 65,
   "metadata": {},
   "outputs": [
    {
     "name": "stdout",
     "output_type": "stream",
     "text": [
      "OrderedDict({'2001': -2.5, '2000': -4.4, '2002': -4.4, '2003': -9.5})\n",
      "OrderedDict({'2020': 1.5, '2005': -1.6, '2008': -1.7, '2007': -2.4, '2001': -2.5, '2015': -2.7, '2018': -2.9, '2009': -3.5, '2017': -3.9, '2000': -4.4, '2002': -4.4, '2012': -4.9, '2011': -5.8, '2006': -5.9, '2013': -6.1, '2019': -6.5, '2014': -6.9, '2004': -8.2, '2003': -9.5, '2016': -11.2, '2010': -12.1})\n"
     ]
    }
   ],
   "source": [
    "# Задание 3.2\n",
    "\n",
    "# Списки кортежей, где: 1 - год, 2 - средняя температура в Петербургу\n",
    "temps1 = [('2000', -4.4), ('2001', -2.5), ('2002', -4.4), ('2003', -9.5)]\n",
    "temps2 = [('2000', -4.4), ('2001', -2.5), ('2002', -4.4), ('2003', -9.5),\n",
    "         ('2004', -8.2), ('2005', -1.6), ('2006', -5.9), ('2007', -2.4),\n",
    "         ('2008', -1.7), ('2009', -3.5), ('2010', -12.1), ('2011', -5.8),\n",
    "         ('2012', -4.9), ('2013', -6.1), ('2014', -6.9), ('2015', -2.7),\n",
    "         ('2016', -11.2), ('2017', -3.9), ('2018', -2.9), ('2019', -6.5),\n",
    "         ('2020', 1.5)]\n",
    "\n",
    "from collections import OrderedDict\n",
    "\n",
    "# Функция вывода словаря с сортировкой в порядке убывания температуры\n",
    "def check(temps):\n",
    "    sorted_dict = OrderedDict(sorted(temps, key=lambda x: x[1], reverse=True))\n",
    "    print(sorted_dict)\n",
    "\n",
    "\n",
    "check(temps1)\n",
    "check(temps2)"
   ]
  },
  {
   "cell_type": "code",
   "execution_count": 92,
   "metadata": {},
   "outputs": [
    {
     "name": "stdout",
     "output_type": "stream",
     "text": [
      "deque([6, 18, 4, 7, 8, 8, 5, 18, 12, 17, 13, 15, 6, 7, 9, 17, 18, 8, 4, 11, 10, 8, 2, 10, 6, 10, 10, 9])\n",
      "6\n"
     ]
    }
   ],
   "source": [
    "# Задание 3.5\n",
    "\n",
    "from hidden import *\n",
    "\n",
    "# Из импортированного словаря clients создаем список кортежей\n",
    "users_dq = deque(users)\n",
    "print(users_dq)\n",
    "\n",
    "# Извлекаем элемент из начала очереди\n",
    "print(users_dq.popleft())"
   ]
  },
  {
   "cell_type": "code",
   "execution_count": 93,
   "metadata": {},
   "outputs": [
    {
     "name": "stdout",
     "output_type": "stream",
     "text": [
      "8\n"
     ]
    }
   ],
   "source": [
    "# Задание 3.6\n",
    "\n",
    "# Переносим 5 первых элементов в конец очереди и извлекаем последний элемент\n",
    "users_dq.rotate(-5)\n",
    "last_elem = users_dq.pop()\n",
    "print(last)"
   ]
  },
  {
   "cell_type": "code",
   "execution_count": 94,
   "metadata": {},
   "outputs": [
    {
     "name": "stdout",
     "output_type": "stream",
     "text": [
      "3\n"
     ]
    }
   ],
   "source": [
    "# Задание 3.7\n",
    "\n",
    "# Считаем количество элементов из предыдущего задания в очереди\n",
    "print(users_dq.count(last_elem))"
   ]
  },
  {
   "cell_type": "markdown",
   "metadata": {},
   "source": [
    "### 4 юнит"
   ]
  },
  {
   "cell_type": "code",
   "execution_count": 86,
   "metadata": {},
   "outputs": [
    {
     "name": "stdout",
     "output_type": "stream",
     "text": [
      "True\n",
      "True\n",
      "False\n",
      "False\n",
      "False\n",
      "False\n"
     ]
    }
   ],
   "source": [
    "# Задание 4.3\n",
    "\n",
    "from collections import deque\n",
    "\n",
    "\n",
    "def brackets(line: str) -> bool:\n",
    "    \"\"\"Функция проверяет правильность расстановки скобок в строке.\n",
    "\n",
    "    Args:\n",
    "        line (str): Строка, в которой нужно проверить расстановку скобок.\n",
    "\n",
    "    Returns:\n",
    "        bool: True, если скобки расставлены правильно, иначе False.\n",
    "    \"\"\"\n",
    "\n",
    "    # Если строка пустая, то скобки расставлены правильно\n",
    "    if not line:\n",
    "        return True\n",
    "    \n",
    "    # Создаем deque для хранения открывающих скобок\n",
    "    temp_deque = deque()\n",
    "    \n",
    "    # Перебираем символы в строке\n",
    "    for sym in line:\n",
    "\n",
    "        # Если символ - открывающая скобка, добавляем ее в deque\n",
    "        if sym == '(':\n",
    "            temp_deque.append(sym)\n",
    "\n",
    "        # Если символ - закрывающая скобка, пытаемся удалить\n",
    "        elif sym == ')':\n",
    "\n",
    "            # Если в deque нет открывающей скобки, \n",
    "            # то скобки расставлены неправильно\n",
    "            try:\n",
    "                temp_deque.pop()\n",
    "            except IndexError:\n",
    "                return False\n",
    "    \n",
    "    # Если в deque не осталось открывающих скобок,\n",
    "    # то скобки расставлены правильно\n",
    "    if not temp_deque:\n",
    "        return True\n",
    "    \n",
    "    # Если в стеке остались скобки,\n",
    "    # то скобки расставлены неправильно\n",
    "    else:\n",
    "        return False\n",
    "\n",
    "\n",
    "print(brackets('(()())'))\n",
    "print(brackets(''))\n",
    "print(brackets('(()()))'))\n",
    "print(brackets('((((((((()))'))\n",
    "print(brackets(')))((('))\n",
    "print(brackets(')'))"
   ]
  },
  {
   "cell_type": "code",
   "execution_count": 150,
   "metadata": {},
   "outputs": [
    {
     "name": "stdout",
     "output_type": "stream",
     "text": [
      "Количество проданных товаров в каждом магазине\n",
      "северный: 548, южный: 478, северный: 500\n"
     ]
    }
   ],
   "source": [
    "# Задание 4.4\n",
    "\n",
    "from hidden import center, south, north\n",
    "from collections import Counter\n",
    "\n",
    "\n",
    "def get_counter(lst: list) -> Counter:\n",
    "    \"\"\"Функция создает объект Counter для подсчета количества товаров.\n",
    "\n",
    "    Args:\n",
    "        lst (list): Список списков, в котором хранятся товар\n",
    "\n",
    "    Returns:\n",
    "        Counter: Объект Counter для подсчета количеств\n",
    "    \"\"\"    \n",
    "    result_lst = []     # список для хранения всех товаров\n",
    "\n",
    "    # Перебираем элементы вложенного списка\n",
    "    for item in lst:\n",
    "        result_lst.extend(item)\n",
    "\n",
    "    # Возвращаем объект Counter для подсчета количества товаров\n",
    "    return Counter(result_lst)\n",
    "\n",
    "\n",
    "# Получаем объекты Counter для каждого магазина\n",
    "center_counter = get_counter(center)\n",
    "south_counter = get_counter(south)\n",
    "north_counter = get_counter(north)\n",
    "\n",
    "# Выводим количество проданных товаров в каждом магазине\n",
    "print('Количество проданных товаров в каждом магазине')\n",
    "print(f'северный: {sum(center_counter.values())}, \\\n",
    "южный: {sum(south_counter.values())}, северный: {sum(north_counter.values())}')"
   ]
  },
  {
   "cell_type": "code",
   "execution_count": 151,
   "metadata": {},
   "outputs": [
    {
     "name": "stdout",
     "output_type": "stream",
     "text": [
      "Самый редкий товар в северном магазине \"Cheese\" был куплен 10 раз\n"
     ]
    }
   ],
   "source": [
    "# Задание 4.5\n",
    "\n",
    "# Находим самый редкий товар в каждом магазине \n",
    "# (самый редкий - с наименьшим количеством)\n",
    "north_rarest_item = north_counter.most_common()[-1]\n",
    "item, count = north_rarest_item\n",
    "\n",
    "print(f'Самый редкий товар в северном магазине \"{item}\" был куплен {count} раз')"
   ]
  },
  {
   "cell_type": "code",
   "execution_count": 153,
   "metadata": {},
   "outputs": [
    {
     "name": "stdout",
     "output_type": "stream",
     "text": [
      "Самый популярный товар в центральном магазине: Bread\n"
     ]
    }
   ],
   "source": [
    "# Задание 4.6\n",
    "\n",
    "\n",
    "def find_more_popular_items(first_dict: Counter, second_dict: Counter) -> dict:\n",
    "    \"\"\"Находит элементы, которые чаще встречаются в первом Counter.\n",
    "\n",
    "    Args:\n",
    "        first_dict (Counter): Первый Counter для сравнения\n",
    "        second_dict (Counter): Второй Counter для сравнения\n",
    "\n",
    "    Returns:\n",
    "        dict: Словарь более популярных элементов с деталями сравнения\n",
    "    \"\"\"    \n",
    "    more_popular_items = {}     # словарь для хранения более популярных элементов\n",
    "\n",
    "    # Перебираем все элементы первого Counter\n",
    "    for item, first_count in first_dict.items():\n",
    "\n",
    "        # Получаем количество того же элемента во втором Counter\n",
    "        second_count = second_dict.get(item, 0)\n",
    "\n",
    "        # Если элемент встречается чаще в первом Counter,\n",
    "        # добавляем его в словарь более популярных элементов\n",
    "        if first_count > second_count:\n",
    "            more_popular_items[item] = first_count\n",
    "\n",
    "    # Возвращаем отсортированный словарь более популярных элементов\n",
    "    return sorted(more_popular_items.items())\n",
    "\n",
    "\n",
    "center_seller_list = find_more_popular_items(center_counter, north_counter)\n",
    "\n",
    "# Выводим самый популярный товар в центральном магазине\n",
    "center_best_item = center_seller_list[0][0]\n",
    "print(f'Самый популярный товар в центральном магазине: {center_best_item}')"
   ]
  },
  {
   "cell_type": "code",
   "execution_count": null,
   "metadata": {},
   "outputs": [],
   "source": [
    "# Задание 4.7\n",
    "\n"
   ]
  },
  {
   "cell_type": "code",
   "execution_count": 160,
   "metadata": {},
   "outputs": [
    {
     "name": "stdout",
     "output_type": "stream",
     "text": [
      "Второй по популярности товар во всех магазинах \"Bread\" был куплен 240 раз\n"
     ]
    }
   ],
   "source": [
    "# Задание 4.8\n",
    "\n",
    "# Определяем суммарное число продаж каждого товара во всех магазина\n",
    "overall_counter = center_counter + south_counter + north_counter\n",
    "\n",
    "\n",
    "second_best_item = overall_counter.most_common()[1]\n",
    "item, count = second_best_item\n",
    "print(f'Второй по популярности товар во всех магазинах \"{item}\" был куплен {count} раз')"
   ]
  }
 ],
 "metadata": {
  "kernelspec": {
   "display_name": "base",
   "language": "python",
   "name": "python3"
  },
  "language_info": {
   "codemirror_mode": {
    "name": "ipython",
    "version": 3
   },
   "file_extension": ".py",
   "mimetype": "text/x-python",
   "name": "python",
   "nbconvert_exporter": "python",
   "pygments_lexer": "ipython3",
   "version": "3.12.7"
  }
 },
 "nbformat": 4,
 "nbformat_minor": 2
}
