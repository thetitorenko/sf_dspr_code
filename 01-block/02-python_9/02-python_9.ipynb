{
 "cells": [
  {
   "cell_type": "markdown",
   "metadata": {},
   "source": [
    "### 2 юнит"
   ]
  },
  {
   "cell_type": "code",
   "execution_count": 156,
   "metadata": {},
   "outputs": [],
   "source": [
    "# Импортируем тип Counter\n",
    "from collections import Counter"
   ]
  },
  {
   "cell_type": "code",
   "execution_count": 157,
   "metadata": {},
   "outputs": [
    {
     "name": "stdout",
     "output_type": "stream",
     "text": [
      "Counter({'red': 1})\n"
     ]
    }
   ],
   "source": [
    "c = Counter()   # пустой объект типа Counter\n",
    "c['red'] += 1\n",
    "\n",
    "print(c)"
   ]
  },
  {
   "cell_type": "code",
   "execution_count": 158,
   "metadata": {},
   "outputs": [
    {
     "name": "stdout",
     "output_type": "stream",
     "text": [
      "Counter({'red': 3, 'black': 3, 'blue': 2, 'white': 1})\n"
     ]
    }
   ],
   "source": [
    "c = Counter()\n",
    "cars = ['red', 'blue', 'black', 'black', 'black', 'red', 'blue', 'red', 'white']\n",
    "\n",
    "# Подсчет количества в цикле\n",
    "for car in cars:\n",
    "    c[car] += 1\n",
    "\n",
    "print(c)"
   ]
  },
  {
   "cell_type": "code",
   "execution_count": 159,
   "metadata": {},
   "outputs": [
    {
     "name": "stdout",
     "output_type": "stream",
     "text": [
      "Counter({'red': 3, 'black': 3, 'blue': 2, 'white': 1})\n"
     ]
    }
   ],
   "source": [
    "cars = ['red', 'blue', 'black', 'black', 'black', 'red', 'blue', 'red', 'white']\n",
    "c = Counter(cars)   # подсчет количества при создании\n",
    "\n",
    "print(c)"
   ]
  },
  {
   "cell_type": "code",
   "execution_count": 160,
   "metadata": {},
   "outputs": [
    {
     "name": "stdout",
     "output_type": "stream",
     "text": [
      "0\n"
     ]
    }
   ],
   "source": [
    "print(c['purple'])  # сколько раз встречается purple"
   ]
  },
  {
   "cell_type": "code",
   "execution_count": 161,
   "metadata": {},
   "outputs": [
    {
     "name": "stdout",
     "output_type": "stream",
     "text": [
      "dict_values([3, 2, 3, 1])\n",
      "9\n"
     ]
    }
   ],
   "source": [
    "print(c.values())       # список значений (как у обычного словаря)\n",
    "print(sum(c.values()))  # количество всех машин (сумма значений)"
   ]
  },
  {
   "cell_type": "code",
   "execution_count": 162,
   "metadata": {},
   "outputs": [
    {
     "name": "stdout",
     "output_type": "stream",
     "text": [
      "Counter({'black': 4, 'yellow': 3, 'white': 2})\n",
      "Counter({'white': 3, 'red': 2, 'black': 2, 'yellow': 2})\n"
     ]
    }
   ],
   "source": [
    "# Списки цветов машин из разных городов\n",
    "cars_moscow = ['black', 'black', 'white', 'black', 'black', 'white', 'yellow', 'yellow', 'yellow']\n",
    "cars_spb = ['red', 'black', 'black', 'white', 'white', 'yellow', 'yellow', 'red', 'white']\n",
    "\n",
    "counter_moscow = Counter(cars_moscow)\n",
    "counter_spb = Counter(cars_spb)\n",
    "\n",
    "print(counter_moscow)\n",
    "print(counter_spb)"
   ]
  },
  {
   "cell_type": "code",
   "execution_count": 163,
   "metadata": {},
   "outputs": [
    {
     "name": "stdout",
     "output_type": "stream",
     "text": [
      "Counter({'black': 6, 'white': 5, 'yellow': 5, 'red': 2})\n"
     ]
    }
   ],
   "source": [
    "print(counter_moscow + counter_spb)     # сложение счетчиков"
   ]
  },
  {
   "cell_type": "code",
   "execution_count": 164,
   "metadata": {},
   "outputs": [
    {
     "name": "stdout",
     "output_type": "stream",
     "text": [
      "Counter({'black': 2, 'yellow': 1, 'white': -1, 'red': -2})\n"
     ]
    }
   ],
   "source": [
    "# Вычитание счетчиков. Метод subtract уменьшает значения \n",
    "# в counter_moscow на соответствующие значения из counter_spb\n",
    "counter_moscow.subtract(counter_spb)\n",
    "print(counter_moscow)"
   ]
  },
  {
   "cell_type": "code",
   "execution_count": 165,
   "metadata": {},
   "outputs": [
    {
     "name": "stdout",
     "output_type": "stream",
     "text": [
      "Counter({'black': 2, 'yellow': 1})\n",
      "Counter({'black': 4, 'yellow': 3, 'white': 2})\n"
     ]
    }
   ],
   "source": [
    "counter_moscow = Counter(cars_moscow)\n",
    "counter_spb = Counter(cars_spb)\n",
    "\n",
    "# Вывод разности счетчиков при которой нету отрицательных значений.\n",
    "# Остаются только положительные значения, но объект counter_moscow не изменяется\n",
    "print(counter_moscow - counter_spb)\n",
    "print(counter_moscow)"
   ]
  },
  {
   "cell_type": "code",
   "execution_count": 166,
   "metadata": {},
   "outputs": [
    {
     "name": "stdout",
     "output_type": "stream",
     "text": [
      "black black black black white white yellow yellow yellow\n"
     ]
    }
   ],
   "source": [
    "# Можно получить все элементы счетчика в виде итератора\n",
    "print(*counter_moscow.elements())"
   ]
  },
  {
   "cell_type": "code",
   "execution_count": 167,
   "metadata": {},
   "outputs": [
    {
     "name": "stdout",
     "output_type": "stream",
     "text": [
      "['black', 'white', 'yellow']\n"
     ]
    }
   ],
   "source": [
    "# Получить список уникальных элементов счетчика\n",
    "print(list(counter_moscow))"
   ]
  },
  {
   "cell_type": "code",
   "execution_count": 168,
   "metadata": {},
   "outputs": [
    {
     "name": "stdout",
     "output_type": "stream",
     "text": [
      "{'black': 4, 'white': 2, 'yellow': 3}\n"
     ]
    }
   ],
   "source": [
    "# Преобразование счетчика в обычный словарь\n",
    "print(dict(counter_moscow))"
   ]
  },
  {
   "cell_type": "code",
   "execution_count": 169,
   "metadata": {},
   "outputs": [
    {
     "data": {
      "text/plain": [
       "[('black', 4), ('yellow', 3), ('white', 2)]"
      ]
     },
     "execution_count": 169,
     "metadata": {},
     "output_type": "execute_result"
    }
   ],
   "source": [
    "# Получение наиболее часто встречающихся элементов\n",
    "counter_moscow.most_common()"
   ]
  },
  {
   "cell_type": "code",
   "execution_count": 170,
   "metadata": {},
   "outputs": [
    {
     "data": {
      "text/plain": [
       "[('black', 4), ('yellow', 3)]"
      ]
     },
     "execution_count": 170,
     "metadata": {},
     "output_type": "execute_result"
    }
   ],
   "source": [
    "# Получение двух наиболее часто встречающихся элементов\n",
    "counter_moscow.most_common(2)"
   ]
  },
  {
   "cell_type": "code",
   "execution_count": 171,
   "metadata": {},
   "outputs": [
    {
     "name": "stdout",
     "output_type": "stream",
     "text": [
      "Counter()\n"
     ]
    }
   ],
   "source": [
    "# Удаление всех элементов счетчика\n",
    "counter_moscow.clear()\n",
    "print(counter_moscow)"
   ]
  },
  {
   "cell_type": "code",
   "execution_count": 172,
   "metadata": {},
   "outputs": [
    {
     "name": "stdout",
     "output_type": "stream",
     "text": [
      "953421116\n"
     ]
    }
   ],
   "source": [
    "# Задание 2.3\n",
    "\n",
    "from hidden import clients\n",
    "\n",
    "\n",
    "counter_clients = Counter(clients)\n",
    "\n",
    "# Наиболее часто встречающийся клиент (номер карты)\n",
    "most_freq_customer = counter_clients.most_common(1)[0][0]\n",
    "print(most_freq_customer)"
   ]
  },
  {
   "cell_type": "code",
   "execution_count": 173,
   "metadata": {},
   "outputs": [
    {
     "name": "stdout",
     "output_type": "stream",
     "text": [
      "5\n"
     ]
    }
   ],
   "source": [
    "# Задание 2.4\n",
    "\n",
    "# Количество покупок клиента с картой 953421102\n",
    "print(counter_clients[953421102])"
   ]
  },
  {
   "cell_type": "code",
   "execution_count": 174,
   "metadata": {},
   "outputs": [
    {
     "name": "stdout",
     "output_type": "stream",
     "text": [
      "94\n"
     ]
    }
   ],
   "source": [
    "# Задание 2.5\n",
    "\n",
    "# Количество уникальных номеров карт\n",
    "print(len(list(counter_clients)))"
   ]
  },
  {
   "cell_type": "code",
   "execution_count": 175,
   "metadata": {},
   "outputs": [],
   "source": [
    "# Импортируем тип defaultdict\n",
    "from collections import defaultdict"
   ]
  },
  {
   "cell_type": "code",
   "execution_count": 176,
   "metadata": {},
   "outputs": [],
   "source": [
    "# Список кортежей с фамилиями студентов и их группами\n",
    "students = [('Ivanov', 1), ('Smirnov', 4), ('Petrov', 3), ('Kuznetsova', 1),\n",
    "            ('Nikitina', 2), ('Markov', 3), ('Pavlov', 2)]"
   ]
  },
  {
   "cell_type": "code",
   "execution_count": 177,
   "metadata": {},
   "outputs": [
    {
     "name": "stdout",
     "output_type": "stream",
     "text": [
      "{1: ['Ivanov', 'Kuznetsova'], 4: ['Smirnov'], 3: ['Petrov', 'Markov'], 2: ['Nikitina', 'Pavlov']}\n"
     ]
    }
   ],
   "source": [
    "# Создадим словарь в котором ключ - номер группы,\n",
    "# а значение - список студентов этой группы\n",
    "groups = {}\n",
    "\n",
    "# Перебираем студентов и их группы\n",
    "for student, group in students:\n",
    "\n",
    "    # Проверяем, есть ли уже эта группа в словаре\n",
    "    if group not in groups:\n",
    "\n",
    "        #  Если группы ещё нет в словаре, создаём для неё пустой список\n",
    "        groups[group] = list()\n",
    "\n",
    "    # Добавляем студента в список группы\n",
    "    groups[group].append(student)\n",
    "\n",
    "print(groups)"
   ]
  },
  {
   "cell_type": "code",
   "execution_count": 178,
   "metadata": {},
   "outputs": [
    {
     "name": "stdout",
     "output_type": "stream",
     "text": [
      "defaultdict(<class 'list'>, {1: ['Ivanov', 'Kuznetsova'], 4: ['Smirnov'], 3: ['Petrov', 'Markov'], 2: ['Nikitina', 'Pavlov']})\n"
     ]
    }
   ],
   "source": [
    "# Создадим defaultdict с аргументом типа list\n",
    "groups = defaultdict(list)\n",
    "\n",
    "# Код становится короче, так как defaultdict сам создаёт список для новой группы\n",
    "for student, group in students:\n",
    "    groups[group].append(student)\n",
    "\n",
    "print(groups)"
   ]
  },
  {
   "cell_type": "code",
   "execution_count": 179,
   "metadata": {},
   "outputs": [
    {
     "name": "stdout",
     "output_type": "stream",
     "text": [
      "['Petrov', 'Markov']\n"
     ]
    }
   ],
   "source": [
    "# Получение значений по ключу, как в обычном словаре\n",
    "print(groups[3])"
   ]
  },
  {
   "cell_type": "code",
   "execution_count": 180,
   "metadata": {},
   "outputs": [
    {
     "name": "stdout",
     "output_type": "stream",
     "text": [
      "[]\n",
      "defaultdict(<class 'list'>, {1: ['Ivanov', 'Kuznetsova'], 4: ['Smirnov'], 3: ['Petrov', 'Markov'], 2: ['Nikitina', 'Pavlov'], 2021: []})\n"
     ]
    }
   ],
   "source": [
    "# Если ключа нет, defaultdict создаст пустой список\n",
    "print(groups[2021])\n",
    "print(groups)"
   ]
  },
  {
   "cell_type": "code",
   "execution_count": 181,
   "metadata": {},
   "outputs": [
    {
     "name": "stdout",
     "output_type": "stream",
     "text": [
      "<class 'collections.deque'>\n"
     ]
    }
   ],
   "source": [
    "# Задание 2.8\n",
    "\n",
    "from hidden import *\n",
    "\n",
    "\n",
    "# Какая структура данных задана по умолчанию\n",
    "print(mystery.default_factory)"
   ]
  },
  {
   "cell_type": "markdown",
   "metadata": {},
   "source": [
    "### 3 юнит"
   ]
  },
  {
   "cell_type": "code",
   "execution_count": 182,
   "metadata": {},
   "outputs": [
    {
     "name": "stdout",
     "output_type": "stream",
     "text": [
      "Python 3.12.9\n"
     ]
    }
   ],
   "source": [
    "!python --version"
   ]
  },
  {
   "cell_type": "code",
   "execution_count": 183,
   "metadata": {},
   "outputs": [
    {
     "name": "stdout",
     "output_type": "stream",
     "text": [
      "{'Ivan': 19, 'Mark': 25, 'Andrey': 23, 'Maria': 20}\n"
     ]
    }
   ],
   "source": [
    "# Начиная с версии Python 3.7 порядок элементов в словаре сохраняется\n",
    "data = [\n",
    "    ('Ivan', 19), ('Mark', 25), \n",
    "    ('Andrey', 23), ('Maria', 20)\n",
    "    ]\n",
    "    \n",
    "client_ages = dict(data)\n",
    "print(client_ages)"
   ]
  },
  {
   "cell_type": "code",
   "execution_count": 184,
   "metadata": {},
   "outputs": [],
   "source": [
    "# Импортируем тип OrderedDict\n",
    "from collections import OrderedDict"
   ]
  },
  {
   "cell_type": "code",
   "execution_count": 185,
   "metadata": {},
   "outputs": [
    {
     "name": "stdout",
     "output_type": "stream",
     "text": [
      "OrderedDict({'Ivan': 19, 'Mark': 25, 'Andrey': 23, 'Maria': 20})\n"
     ]
    }
   ],
   "source": [
    "# Словарь OrderedDict, который сохраняет порядка элементов\n",
    "ordered_client_ages = OrderedDict(data)\n",
    "\n",
    "print(ordered_client_ages)"
   ]
  },
  {
   "cell_type": "code",
   "execution_count": 186,
   "metadata": {},
   "outputs": [
    {
     "name": "stdout",
     "output_type": "stream",
     "text": [
      "OrderedDict({'Ivan': 19, 'Maria': 20, 'Andrey': 23, 'Mark': 25})\n"
     ]
    }
   ],
   "source": [
    "# Сортировка словаря по возрасту клиентов при создании OrderedDict\n",
    "ordered_client_ages = OrderedDict(sorted(data, key=lambda x: x[1]))\n",
    "\n",
    "print(ordered_client_ages)"
   ]
  },
  {
   "cell_type": "code",
   "execution_count": 187,
   "metadata": {},
   "outputs": [
    {
     "name": "stdout",
     "output_type": "stream",
     "text": [
      "OrderedDict({'Ivan': 19, 'Maria': 20, 'Andrey': 23, 'Mark': 25, 'Nikita': 18})\n"
     ]
    }
   ],
   "source": [
    "# Новый элемент добавиться в конец словаря\n",
    "ordered_client_ages['Nikita'] = 18\n",
    "\n",
    "print(ordered_client_ages)"
   ]
  },
  {
   "cell_type": "code",
   "execution_count": 188,
   "metadata": {},
   "outputs": [
    {
     "name": "stdout",
     "output_type": "stream",
     "text": [
      "OrderedDict({'Ivan': 19, 'Maria': 20, 'Mark': 25, 'Nikita': 18, 'Andrey': 23})\n"
     ]
    }
   ],
   "source": [
    "# Если удалить элемент, а затем снова его добавить, он окажется в конце\n",
    "del ordered_client_ages['Andrey']\n",
    "ordered_client_ages['Andrey'] = 23\n",
    "\n",
    "print(ordered_client_ages)"
   ]
  },
  {
   "cell_type": "code",
   "execution_count": 189,
   "metadata": {},
   "outputs": [],
   "source": [
    "# Импортируем тип deque\n",
    "from collections import deque"
   ]
  },
  {
   "cell_type": "code",
   "execution_count": 190,
   "metadata": {},
   "outputs": [
    {
     "name": "stdout",
     "output_type": "stream",
     "text": [
      "deque([])\n"
     ]
    }
   ],
   "source": [
    "dq = deque()\n",
    "print(dq)"
   ]
  },
  {
   "cell_type": "code",
   "execution_count": 191,
   "metadata": {},
   "outputs": [
    {
     "name": "stdout",
     "output_type": "stream",
     "text": [
      "deque(['Ivanov', 'Petrov', 'Smirnova', 'Tikhonova'])\n"
     ]
    }
   ],
   "source": [
    "# Создаем объект deque, который будет эмитировать очередь\n",
    "# звонков клиентов в техподдержку\n",
    "clients = deque()\n",
    "\n",
    "# Поступили звонки от клиентов\n",
    "clients.append('Ivanov')\n",
    "clients.append('Petrov')\n",
    "clients.append('Smirnova')\n",
    "clients.append('Tikhonova')\n",
    "\n",
    "print(clients)"
   ]
  },
  {
   "cell_type": "code",
   "execution_count": 192,
   "metadata": {},
   "outputs": [
    {
     "name": "stdout",
     "output_type": "stream",
     "text": [
      "Smirnova\n"
     ]
    }
   ],
   "source": [
    "# deque поддерживает индексацию. \n",
    "# Посмотрим 3 клиента в очереди\n",
    "print(clients[2])"
   ]
  },
  {
   "cell_type": "code",
   "execution_count": 193,
   "metadata": {},
   "outputs": [
    {
     "name": "stdout",
     "output_type": "stream",
     "text": [
      "First client: Ivanov\n",
      "Second client: Petrov\n",
      "deque(['Smirnova', 'Tikhonova'])\n"
     ]
    }
   ],
   "source": [
    "# Освободился оператор техподдержки и забрал \n",
    "# первых двух клиентов из начала очереди\n",
    "first_client = clients.popleft()\n",
    "second_client = clients.popleft()\n",
    "\n",
    "print(f'First client:', first_client)\n",
    "print(f'Second client:', second_client)\n",
    "print(clients)"
   ]
  },
  {
   "cell_type": "code",
   "execution_count": 194,
   "metadata": {},
   "outputs": [
    {
     "name": "stdout",
     "output_type": "stream",
     "text": [
      "deque(['VIP client', 'Smirnova', 'Tikhonova'])\n"
     ]
    }
   ],
   "source": [
    "# Появился VIP клиент, добавим его в начало очереди\n",
    "clients.appendleft('VIP client')\n",
    "print(clients)"
   ]
  },
  {
   "cell_type": "code",
   "execution_count": 195,
   "metadata": {},
   "outputs": [
    {
     "name": "stdout",
     "output_type": "stream",
     "text": [
      "Tikhonova left the queue\n",
      "deque(['VIP client', 'Smirnova'])\n"
     ]
    }
   ],
   "source": [
    "# Последний клиент устал и отменил вызов\n",
    "tired_client = clients.pop()\n",
    "print(tired_client, 'left the queue')\n",
    "print(clients)"
   ]
  },
  {
   "cell_type": "code",
   "execution_count": 196,
   "metadata": {},
   "outputs": [
    {
     "name": "stdout",
     "output_type": "stream",
     "text": [
      "deque(['Smirnova'])\n"
     ]
    }
   ],
   "source": [
    "# Можно удалить элемент (клиента) по индексу\n",
    "del clients[0]\n",
    "print(clients)"
   ]
  },
  {
   "cell_type": "code",
   "execution_count": 197,
   "metadata": {},
   "outputs": [
    {
     "name": "stdout",
     "output_type": "stream",
     "text": [
      "deque([1, 2, 4, 5])\n",
      "deque([1, 2, 4, 5, 11, 12, 13, 14, 15, 16, 17])\n"
     ]
    }
   ],
   "source": [
    "# Сымитируем очередь в сувенирный магазин\n",
    "shop = deque([1, 2, 4, 5])\n",
    "print(shop)\n",
    "\n",
    "# На туристическом автобусе приехали туристы. Добавим их в конец очереди\n",
    "shop.extend([11, 12, 13, 14, 15, 16, 17])\n",
    "print(shop)"
   ]
  },
  {
   "cell_type": "code",
   "execution_count": 198,
   "metadata": {},
   "outputs": [
    {
     "name": "stdout",
     "output_type": "stream",
     "text": [
      "deque([1, 2, 4, 5])\n",
      "deque([17, 16, 15, 14, 13, 12, 11, 1, 2, 4, 5])\n"
     ]
    }
   ],
   "source": [
    "# Оказалось, что клиенты турфирмы обслуживаются вне очереди\n",
    "shop = deque([1, 2, 4, 5])\n",
    "print(shop)\n",
    "\n",
    "# Добавим их в начало очереди.\n",
    "# Обратите внимание, что порядок элементов добавленных\n",
    "# в очередь обратный от того, как они переданы в метод\n",
    "shop.extendleft([11, 12, 13, 14, 15, 16, 17])\n",
    "print(shop)"
   ]
  },
  {
   "cell_type": "code",
   "execution_count": 199,
   "metadata": {},
   "outputs": [
    {
     "name": "stdout",
     "output_type": "stream",
     "text": [
      "deque([], maxlen=3)\n",
      "deque([5, 6, 7], maxlen=3)\n"
     ]
    }
   ],
   "source": [
    "# Создадим ограниченный deque на 3 элемент\n",
    "limited = deque(maxlen=3)\n",
    "print(limited)\n",
    "\n",
    "# В очереди сохраняются только 3 последних элемента списка\n",
    "limited_from_list = deque([1, 2, 3, 4, 5, 6, 7], maxlen=3)\n",
    "print(limited_from_list)"
   ]
  },
  {
   "cell_type": "code",
   "execution_count": 200,
   "metadata": {},
   "outputs": [
    {
     "name": "stdout",
     "output_type": "stream",
     "text": [
      "20.77; 21.27; 22.16; 23.3; 24.44; 24.94; 25.56; 26.2; 25.97; 25.94; 25.57; 25.1; 24.81; 24.21; 23.23; 22.57; 21.41; 20.4; 19.6; 19.1; 19.04; 18.96; 19.44; 20.01; 20.67; "
     ]
    }
   ],
   "source": [
    "# Средние дневные температуры в Москве за июль\n",
    "temps = [20.6, 19.4, 19.0, 19.0, 22.1,\n",
    "        22.5, 22.8, 24.1, 25.6, 27.0,\n",
    "        27.0, 25.6, 26.8, 27.3, 22.5,\n",
    "        25.4, 24.4, 23.7, 23.6, 22.6,\n",
    "        20.4, 17.9, 17.3, 17.3, 18.1,\n",
    "        20.1, 22.2, 19.8, 21.3, 21.3,\n",
    "        21.9]\n",
    "\n",
    "\n",
    "# Посчитаем динамику средней температуры за последние\n",
    "# 7 дней для каждого дня (скользящее среднее)\n",
    "days = deque(maxlen=7)\n",
    "\n",
    "\n",
    "for temp in temps:\n",
    "    days.append(temp)\n",
    "\n",
    "    # Если набралось 7 дней, считаем среднюю температуру\n",
    "    if len(days) == days.maxlen:\n",
    "        # Средняя температура за 7 дней с округлением до 2 знаков\n",
    "        print(f'{round(sum(days) / len(days), 2)}', end='; ')"
   ]
  },
  {
   "cell_type": "code",
   "execution_count": 201,
   "metadata": {},
   "outputs": [
    {
     "name": "stdout",
     "output_type": "stream",
     "text": [
      "deque([1, 2, 3, 4, 5])\n",
      "deque([5, 4, 3, 2, 1])\n"
     ]
    }
   ],
   "source": [
    "dq = deque([1, 2, 3, 4, 5])\n",
    "print(dq)\n",
    "\n",
    "# Разворачиваем очередь\n",
    "dq.reverse()\n",
    "print(dq)"
   ]
  },
  {
   "cell_type": "code",
   "execution_count": 202,
   "metadata": {},
   "outputs": [
    {
     "name": "stdout",
     "output_type": "stream",
     "text": [
      "deque([1, 2, 3, 4, 5])\n",
      "deque([4, 5, 1, 2, 3])\n"
     ]
    }
   ],
   "source": [
    "dq = deque([1, 2, 3, 4, 5])\n",
    "print(dq)\n",
    "\n",
    "# Переносим 2 элемента из конца очереди в начало\n",
    "dq.rotate(2)\n",
    "print(dq)"
   ]
  },
  {
   "cell_type": "code",
   "execution_count": 203,
   "metadata": {},
   "outputs": [
    {
     "name": "stdout",
     "output_type": "stream",
     "text": [
      "deque([1, 2, 3, 4, 5])\n",
      "deque([3, 4, 5, 1, 2])\n"
     ]
    }
   ],
   "source": [
    "dq = deque([1, 2, 3, 4, 5])\n",
    "print(dq)\n",
    "\n",
    "# Переносим 2 элемента из начала очереди в конец\n",
    "dq.rotate(-2)\n",
    "print(dq)"
   ]
  },
  {
   "cell_type": "code",
   "execution_count": 204,
   "metadata": {},
   "outputs": [
    {
     "name": "stdout",
     "output_type": "stream",
     "text": [
      "2\n",
      "6\n"
     ]
    }
   ],
   "source": [
    "dq = [1, 2, 4, 2, 3, 1, 5, 4, 4, 4, 4, 4, 3]\n",
    "\n",
    "# Поиск первого вхождения элемента 4\n",
    "print(dq.index(4))\n",
    "\n",
    "# Подсчет количества вхождений элемента 4\n",
    "print(dq.count(4))"
   ]
  },
  {
   "cell_type": "code",
   "execution_count": 205,
   "metadata": {},
   "outputs": [
    {
     "ename": "ValueError",
     "evalue": "25 is not in list",
     "output_type": "error",
     "traceback": [
      "\u001b[1;31m---------------------------------------------------------------------------\u001b[0m",
      "\u001b[1;31mValueError\u001b[0m                                Traceback (most recent call last)",
      "Cell \u001b[1;32mIn[205], line 3\u001b[0m\n\u001b[0;32m      1\u001b[0m \u001b[38;5;66;03m# При поиске элемента, которого нет в списке,\u001b[39;00m\n\u001b[0;32m      2\u001b[0m \u001b[38;5;66;03m# возникнет ошибка\u001b[39;00m\n\u001b[1;32m----> 3\u001b[0m \u001b[38;5;28mprint\u001b[39m(dq\u001b[38;5;241m.\u001b[39mindex(\u001b[38;5;241m25\u001b[39m))\n",
      "\u001b[1;31mValueError\u001b[0m: 25 is not in list"
     ]
    }
   ],
   "source": [
    "# При поиске элемента, которого нет в списке,\n",
    "# возникнет ошибка\n",
    "print(dq.index(25))"
   ]
  },
  {
   "cell_type": "code",
   "execution_count": null,
   "metadata": {},
   "outputs": [
    {
     "name": "stdout",
     "output_type": "stream",
     "text": [
      "0\n"
     ]
    }
   ],
   "source": [
    "# При подсчете количества вхождений элемента,\n",
    "# которого нет в списке, вернется 0\n",
    "print(dq.count(25))"
   ]
  },
  {
   "cell_type": "code",
   "execution_count": null,
   "metadata": {},
   "outputs": [
    {
     "name": "stdout",
     "output_type": "stream",
     "text": [
      "[]\n"
     ]
    }
   ],
   "source": [
    "# Удаление всех элементов списка\n",
    "dq.clear()\n",
    "print(dq)"
   ]
  },
  {
   "cell_type": "code",
   "execution_count": null,
   "metadata": {},
   "outputs": [
    {
     "name": "stdout",
     "output_type": "stream",
     "text": [
      "OrderedDict({'2001': -2.5, '2000': -4.4, '2002': -4.4, '2003': -9.5})\n",
      "OrderedDict({'2020': 1.5, '2005': -1.6, '2008': -1.7, '2007': -2.4, '2001': -2.5, '2015': -2.7, '2018': -2.9, '2009': -3.5, '2017': -3.9, '2000': -4.4, '2002': -4.4, '2012': -4.9, '2011': -5.8, '2006': -5.9, '2013': -6.1, '2019': -6.5, '2014': -6.9, '2004': -8.2, '2003': -9.5, '2016': -11.2, '2010': -12.1})\n"
     ]
    }
   ],
   "source": [
    "# Задание 3.2\n",
    "\n",
    "# Списки кортежей, где: 1 - год, 2 - средняя температура в Петербургу\n",
    "temps1 = [('2000', -4.4), ('2001', -2.5), ('2002', -4.4), ('2003', -9.5)]\n",
    "temps2 = [('2000', -4.4), ('2001', -2.5), ('2002', -4.4), ('2003', -9.5),\n",
    "         ('2004', -8.2), ('2005', -1.6), ('2006', -5.9), ('2007', -2.4),\n",
    "         ('2008', -1.7), ('2009', -3.5), ('2010', -12.1), ('2011', -5.8),\n",
    "         ('2012', -4.9), ('2013', -6.1), ('2014', -6.9), ('2015', -2.7),\n",
    "         ('2016', -11.2), ('2017', -3.9), ('2018', -2.9), ('2019', -6.5),\n",
    "         ('2020', 1.5)]\n",
    "\n",
    "from collections import OrderedDict\n",
    "\n",
    "# Функция вывода словаря с сортировкой в порядке убывания температуры\n",
    "def check(temps):\n",
    "    sorted_dict = OrderedDict(sorted(temps, key=lambda x: x[1], reverse=True))\n",
    "    print(sorted_dict)\n",
    "\n",
    "\n",
    "check(temps1)\n",
    "check(temps2)"
   ]
  },
  {
   "cell_type": "code",
   "execution_count": null,
   "metadata": {},
   "outputs": [
    {
     "name": "stdout",
     "output_type": "stream",
     "text": [
      "deque([6, 18, 4, 7, 8, 8, 5, 18, 12, 17, 13, 15, 6, 7, 9, 17, 18, 8, 4, 11, 10, 8, 2, 10, 6, 10, 10, 9])\n",
      "6\n"
     ]
    }
   ],
   "source": [
    "# Задание 3.5\n",
    "\n",
    "from hidden import *\n",
    "\n",
    "# Из импортированного словаря clients создаем список кортежей\n",
    "users_dq = deque(users)\n",
    "print(users_dq)\n",
    "\n",
    "# Извлекаем элемент из начала очереди\n",
    "print(users_dq.popleft())"
   ]
  },
  {
   "cell_type": "code",
   "execution_count": null,
   "metadata": {},
   "outputs": [
    {
     "name": "stdout",
     "output_type": "stream",
     "text": [
      "8\n"
     ]
    }
   ],
   "source": [
    "# Задание 3.6\n",
    "\n",
    "# Переносим 5 первых элементов в конец очереди и извлекаем последний элемент\n",
    "users_dq.rotate(-5)\n",
    "last_elem = users_dq.pop()\n",
    "print(last_elem)"
   ]
  },
  {
   "cell_type": "code",
   "execution_count": null,
   "metadata": {},
   "outputs": [
    {
     "name": "stdout",
     "output_type": "stream",
     "text": [
      "3\n"
     ]
    }
   ],
   "source": [
    "# Задание 3.7\n",
    "\n",
    "# Считаем количество элементов из предыдущего задания в очереди\n",
    "print(users_dq.count(last_elem))"
   ]
  },
  {
   "cell_type": "markdown",
   "metadata": {},
   "source": [
    "### 4 юнит"
   ]
  },
  {
   "cell_type": "code",
   "execution_count": null,
   "metadata": {},
   "outputs": [
    {
     "name": "stdout",
     "output_type": "stream",
     "text": [
      "True\n",
      "True\n",
      "False\n",
      "False\n",
      "False\n",
      "False\n"
     ]
    }
   ],
   "source": [
    "# Задание 4.3\n",
    "\n",
    "from collections import deque\n",
    "\n",
    "\n",
    "def brackets(line: str) -> bool:\n",
    "    \"\"\"Функция проверяет правильность расстановки скобок в строке.\n",
    "\n",
    "    Args:\n",
    "        line (str): Строка, в которой нужно проверить расстановку скобок.\n",
    "\n",
    "    Returns:\n",
    "        bool: True, если скобки расставлены правильно, иначе False.\n",
    "    \"\"\"\n",
    "\n",
    "    # Если строка пустая, то скобки расставлены правильно\n",
    "    if not line:\n",
    "        return True\n",
    "    \n",
    "    # Создаем deque для хранения открывающих скобок\n",
    "    temp_deque = deque()\n",
    "    \n",
    "    # Перебираем символы в строке\n",
    "    for sym in line:\n",
    "\n",
    "        # Если символ - открывающая скобка, добавляем ее в deque\n",
    "        if sym == '(':\n",
    "            temp_deque.append(sym)\n",
    "\n",
    "        # Если символ - закрывающая скобка, пытаемся удалить\n",
    "        elif sym == ')':\n",
    "\n",
    "            # Если в deque нет открывающей скобки, \n",
    "            # то скобки расставлены неправильно\n",
    "            try:\n",
    "                temp_deque.pop()\n",
    "            except IndexError:\n",
    "                return False\n",
    "    \n",
    "    # Если в deque не осталось открывающих скобок,\n",
    "    # то скобки расставлены правильно\n",
    "    if not temp_deque:\n",
    "        return True\n",
    "    \n",
    "    # Если в стеке остались скобки,\n",
    "    # то скобки расставлены неправильно\n",
    "    else:\n",
    "        return False\n",
    "\n",
    "\n",
    "print(brackets('(()())'))\n",
    "print(brackets(''))\n",
    "print(brackets('(()()))'))\n",
    "print(brackets('((((((((()))'))\n",
    "print(brackets(')))((('))\n",
    "print(brackets(')'))"
   ]
  },
  {
   "cell_type": "code",
   "execution_count": null,
   "metadata": {},
   "outputs": [
    {
     "name": "stdout",
     "output_type": "stream",
     "text": [
      "Количество проданных товаров в каждом магазине\n",
      "северный: 548, южный: 478, северный: 500\n"
     ]
    }
   ],
   "source": [
    "# Задание 4.4\n",
    "\n",
    "from hidden import center, south, north\n",
    "from collections import Counter\n",
    "\n",
    "\n",
    "def get_counter(lst: list) -> Counter:\n",
    "    \"\"\"Функция создает объект Counter для подсчета количества товаров.\n",
    "\n",
    "    Args:\n",
    "        lst (list): Список списков, в котором хранятся товар\n",
    "\n",
    "    Returns:\n",
    "        Counter: Объект Counter для подсчета количеств\n",
    "    \"\"\"    \n",
    "    result_lst = []     # список для хранения всех товаров\n",
    "\n",
    "    # Перебираем элементы вложенного списка\n",
    "    for item in lst:\n",
    "        result_lst.extend(item)\n",
    "\n",
    "    # Возвращаем объект Counter для подсчета количества товаров\n",
    "    return Counter(result_lst)\n",
    "\n",
    "\n",
    "# Получаем объекты Counter для каждого магазина\n",
    "center_counter = get_counter(center)\n",
    "south_counter = get_counter(south)\n",
    "north_counter = get_counter(north)\n",
    "\n",
    "# Выводим количество проданных товаров в каждом магазине\n",
    "print('Количество проданных товаров в каждом магазине')\n",
    "print(f'северный: {sum(center_counter.values())}, \\\n",
    "южный: {sum(south_counter.values())}, северный: {sum(north_counter.values())}')"
   ]
  },
  {
   "cell_type": "code",
   "execution_count": null,
   "metadata": {},
   "outputs": [
    {
     "name": "stdout",
     "output_type": "stream",
     "text": [
      "Самый редкий товар в северном магазине \"Cheese\" был куплен 10 раз\n"
     ]
    }
   ],
   "source": [
    "# Задание 4.5\n",
    "\n",
    "# Находим самый редкий товар в каждом магазине \n",
    "# (самый редкий - с наименьшим количеством)\n",
    "north_rarest_item = north_counter.most_common()[-1]\n",
    "item, count = north_rarest_item\n",
    "\n",
    "print(f'Самый редкий товар в северном магазине \"{item}\" был куплен {count} раз')"
   ]
  },
  {
   "cell_type": "code",
   "execution_count": null,
   "metadata": {},
   "outputs": [
    {
     "name": "stdout",
     "output_type": "stream",
     "text": [
      "Самый популярный товар в центральном магазине: Bread\n"
     ]
    }
   ],
   "source": [
    "# Задание 4.6\n",
    "\n",
    "\n",
    "def find_more_popular_items(first_dict: Counter, second_dict: Counter) -> dict:\n",
    "    \"\"\"Находит элементы, которые чаще встречаются в первом Counter.\n",
    "\n",
    "    Args:\n",
    "        first_dict (Counter): Первый Counter для сравнения\n",
    "        second_dict (Counter): Второй Counter для сравнения\n",
    "\n",
    "    Returns:\n",
    "        dict: Словарь более популярных элементов с деталями сравнения\n",
    "    \"\"\"    \n",
    "    more_popular_items = {}     # словарь для хранения более популярных элементов\n",
    "\n",
    "    # Перебираем все элементы первого Counter\n",
    "    for item, first_count in first_dict.items():\n",
    "\n",
    "        # Получаем количество того же элемента во втором Counter\n",
    "        second_count = second_dict.get(item, 0)\n",
    "\n",
    "        # Если элемент встречается чаще в первом Counter,\n",
    "        # добавляем его в словарь более популярных элементов\n",
    "        if first_count > second_count:\n",
    "            more_popular_items[item] = first_count\n",
    "\n",
    "    # Возвращаем отсортированный словарь более популярных элементов\n",
    "    return sorted(more_popular_items.items())\n",
    "\n",
    "\n",
    "center_seller_list = find_more_popular_items(center_counter, north_counter)\n",
    "\n",
    "# Выводим самый популярный товар в центральном магазине\n",
    "center_best_item = center_seller_list[0][0]\n",
    "print(f'Самый популярный товар в центральном магазине: {center_best_item}')"
   ]
  },
  {
   "cell_type": "code",
   "execution_count": null,
   "metadata": {},
   "outputs": [
    {
     "name": "stdout",
     "output_type": "stream",
     "text": [
      "Counter()\n",
      "Counter()\n",
      "Counter({'Cola': 6})\n"
     ]
    }
   ],
   "source": [
    "# Задание 4.7\n",
    "\n",
    "# Ищем товар, который в одном из магазинов покупали чаще,\n",
    "# чем в двух других вместе взятых\n",
    "print(center_counter - (south_counter+north_counter))\n",
    "print(south_counter - (center_counter+south_counter))\n",
    "print(north_counter - (center_counter+south_counter))"
   ]
  },
  {
   "cell_type": "code",
   "execution_count": null,
   "metadata": {},
   "outputs": [
    {
     "name": "stdout",
     "output_type": "stream",
     "text": [
      "Второй по популярности товар во всех магазинах \"Bread\" был куплен 240 раз\n"
     ]
    }
   ],
   "source": [
    "# Задание 4.8\n",
    "\n",
    "# Определяем суммарное число продаж каждого товара во всех магазина\n",
    "overall_counter = center_counter + south_counter + north_counter\n",
    "\n",
    "# Находим второй по популярности товар\n",
    "second_best_item = overall_counter.most_common()[1]\n",
    "item, count = second_best_item\n",
    "print(f'Второй по популярности товар во всех магазинах \"{item}\" был куплен {count} раз')"
   ]
  },
  {
   "cell_type": "code",
   "execution_count": null,
   "metadata": {},
   "outputs": [
    {
     "name": "stdout",
     "output_type": "stream",
     "text": [
      "OrderedDict({'WokAndRice': 4.9, 'WokToWork': 4.9, 'General Foods': 4.8, 'New Age': 4.6, 'Belissimo': 4.5, 'CakeAndCoffee': 4.2, 'CakeOClock': 4.2, 'CakeTime': 4.1, 'Nice Cakes': 3.9, 'Old Gold': 3.3, 'Old Wine Cellar': 3.3, 'Old York': 3.3})\n"
     ]
    }
   ],
   "source": [
    "# Задание 4.9\n",
    "\n",
    "from collections import OrderedDict\n",
    "\n",
    "\n",
    "ratings = [\n",
    "    ('Old York', 3.3), ('New Age', 4.6), ('Old Gold', 3.3), ('General Foods', 4.8),\n",
    "    ('Belissimo', 4.5), ('CakeAndCoffee', 4.2), ('CakeOClock', 4.2), ('CakeTime', 4.1),\n",
    "    ('WokToWork', 4.9), ('WokAndRice', 4.9), ('Old Wine Cellar', 3.3), ('Nice Cakes', 3.9)\n",
    "    ]\n",
    "\n",
    "# Сортируем рейтинги кафе по убыванию оценок, а затем по их названию\n",
    "sorted_ratings = sorted(ratings, key=lambda x: (-x[1], x[0]))\n",
    "cafes = OrderedDict(sorted_ratings)\n",
    "\n",
    "print(cafes)"
   ]
  },
  {
   "cell_type": "code",
   "execution_count": null,
   "metadata": {},
   "outputs": [
    {
     "name": "stdout",
     "output_type": "stream",
     "text": [
      "defaultdict(<class 'collections.deque'>, {'office': deque([36871, 40690, 33850]), 'voltage': deque([41667, 35364])})\n"
     ]
    }
   ],
   "source": [
    "# Задание 4.10\n",
    "\n",
    "from collections import defaultdict, deque\n",
    "\n",
    "\n",
    "# Список кортежей с задачами для серверов (id, название сервера, приоритет)\n",
    "tasks = [\n",
    "    (36871, 'office', False), (40690, 'office', False),\n",
    "    (35364, 'voltage', False), (41667, 'voltage', True),\n",
    "    (33850, 'office', False)\n",
    "    ]\n",
    "\n",
    "# tasks = [\n",
    "#     (36871, 'voltage', False), (40690, 'office', False),\n",
    "#     (35364, 'voltage', False), (41667, 'voltage', True),\n",
    "#     (33850, 'office', False), (36592, 'office', True)\n",
    "#     ]\n",
    "\n",
    "\n",
    "def task_manager(tasks: list) -> defaultdict:\n",
    "    \"\"\"Функция распределяет задачи по серверам.\n",
    "\n",
    "    Args:\n",
    "        tasks (list): Список кортежей с задачами\n",
    "\n",
    "    Returns:\n",
    "        defaultdict: Словарь с задачами для каждого сервера\n",
    "    \"\"\" \n",
    "    # Создаем defaultdict с deque для хранения задач\n",
    "    result_dict = defaultdict(deque)\n",
    "    \n",
    "    # Перебираем задачи и распределяем их по серверам\n",
    "    for task, server, priority in tasks:\n",
    "        if priority:\n",
    "            # Если задача с приоритетом, добавляем ее в начало очереди\n",
    "            result_dict[server].appendleft(task)\n",
    "        else:\n",
    "            # Если задача без приоритета, добавляем ее в конец очереди\n",
    "            result_dict[server].append(task)\n",
    "    \n",
    "    return result_dict\n",
    "\n",
    "\n",
    "print(task_manager(tasks))"
   ]
  },
  {
   "cell_type": "markdown",
   "metadata": {},
   "source": [
    "### 5 юнит"
   ]
  },
  {
   "cell_type": "code",
   "execution_count": null,
   "metadata": {},
   "outputs": [],
   "source": [
    "import numpy as np"
   ]
  },
  {
   "cell_type": "code",
   "execution_count": null,
   "metadata": {},
   "outputs": [
    {
     "name": "stdout",
     "output_type": "stream",
     "text": [
      "-32768 32767\n"
     ]
    }
   ],
   "source": [
    "# Задание 5.1\n",
    "\n",
    "# Находим диапазон чисел, которые можно хранить в 16 битах\n",
    "n_min = int(-(2**16/2))\n",
    "n_max = int((2**16)/2 - 1)\n",
    "\n",
    "print(n_min, n_max)"
   ]
  },
  {
   "cell_type": "code",
   "execution_count": null,
   "metadata": {},
   "outputs": [
    {
     "name": "stdout",
     "output_type": "stream",
     "text": [
      "25\n",
      "<class 'numpy.int8'>\n"
     ]
    }
   ],
   "source": [
    "# Число выглядит как встроенный int,\n",
    "# но на самом деле имеет тип np.int\n",
    "a = np.int8(25)\n",
    "print(a)\n",
    "print(type(a))"
   ]
  },
  {
   "cell_type": "code",
   "execution_count": null,
   "metadata": {},
   "outputs": [
    {
     "name": "stdout",
     "output_type": "stream",
     "text": [
      "Machine parameters for int8\n",
      "---------------------------------------------------------------\n",
      "min = -128\n",
      "max = 127\n",
      "---------------------------------------------------------------\n",
      "\n",
      "Machine parameters for int8\n",
      "---------------------------------------------------------------\n",
      "min = -128\n",
      "max = 127\n",
      "---------------------------------------------------------------\n",
      "\n"
     ]
    }
   ],
   "source": [
    "# Выводим информацию о границах типа\n",
    "print(np.iinfo(np.int8))\n",
    "print(np.iinfo(a))"
   ]
  },
  {
   "cell_type": "code",
   "execution_count": null,
   "metadata": {},
   "outputs": [
    {
     "name": "stdout",
     "output_type": "stream",
     "text": [
      "Machine parameters for int64\n",
      "---------------------------------------------------------------\n",
      "min = -9223372036854775808\n",
      "max = 9223372036854775807\n",
      "---------------------------------------------------------------\n",
      "\n"
     ]
    }
   ],
   "source": [
    "# Задание 5.2\n",
    "\n",
    "# Находим границы типа np.int64\n",
    "print(np.iinfo(np.int64))"
   ]
  },
  {
   "cell_type": "code",
   "execution_count": null,
   "metadata": {},
   "outputs": [
    {
     "name": "stdout",
     "output_type": "stream",
     "text": [
      "124\n",
      "<class 'numpy.uint8'>\n"
     ]
    },
    {
     "data": {
      "text/plain": [
       "iinfo(min=0, max=255, dtype=uint8)"
      ]
     },
     "execution_count": 70,
     "metadata": {},
     "output_type": "execute_result"
    }
   ],
   "source": [
    "# Границы uint типа\n",
    "b = np.uint8(124)\n",
    "\n",
    "print(b)\n",
    "print(type(b))\n",
    "np.iinfo(b)"
   ]
  },
  {
   "cell_type": "code",
   "execution_count": null,
   "metadata": {},
   "outputs": [
    {
     "name": "stdout",
     "output_type": "stream",
     "text": [
      "1000\n",
      "<class 'numpy.int32'>\n",
      "2056\n",
      "<class 'int'>\n"
     ]
    }
   ],
   "source": [
    "# При изменении значения переменной тип данных не сохраняется\n",
    "a = np.int32(1000)\n",
    "print(a)\n",
    "print(type(a))\n",
    "\n",
    "a = 2056\n",
    "print(a)\n",
    "print(type(a))"
   ]
  },
  {
   "cell_type": "code",
   "execution_count": null,
   "metadata": {},
   "outputs": [
    {
     "name": "stdout",
     "output_type": "stream",
     "text": [
      "1025\n",
      "<class 'numpy.int32'>\n"
     ]
    }
   ],
   "source": [
    "# При арифметических операциях тип данных сохраняется\n",
    "a = np.int32(1000)\n",
    "b = a + 25\n",
    "print(b)\n",
    "print(type(b))"
   ]
  },
  {
   "cell_type": "code",
   "execution_count": null,
   "metadata": {},
   "outputs": [
    {
     "name": "stdout",
     "output_type": "stream",
     "text": [
      "1025\n",
      "<class 'numpy.int32'>\n"
     ]
    }
   ],
   "source": [
    "# При арифметических операциях сохраняется наиболее старший тип\n",
    "a = np.int32(1000)\n",
    "b = np.int8(25)\n",
    "c = a + b\n",
    "print(c)\n",
    "print(type(c))"
   ]
  },
  {
   "cell_type": "code",
   "execution_count": null,
   "metadata": {},
   "outputs": [
    {
     "name": "stdout",
     "output_type": "stream",
     "text": [
      "4\n"
     ]
    },
    {
     "name": "stderr",
     "output_type": "stream",
     "text": [
      "C:\\Users\\titor\\AppData\\Local\\Temp\\ipykernel_25656\\1767478629.py:3: DeprecationWarning: NumPy will stop allowing conversion of out-of-bound Python integers to integer arrays.  The conversion of 260 to int8 will fail in the future.\n",
      "For the old behavior, usually:\n",
      "    np.array(value).astype(dtype)\n",
      "will give the desired result (the cast overflows).\n",
      "  a = np.int8(260)\n"
     ]
    }
   ],
   "source": [
    "# Если памяти (битов) не хватает, то происходит переполнение\n",
    "# и в переменную запишется остаток деления 260 на 256 (2**8)\n",
    "a = np.int8(260)\n",
    "print(a)"
   ]
  },
  {
   "cell_type": "code",
   "execution_count": null,
   "metadata": {},
   "outputs": [
    {
     "data": {
      "text/plain": [
       "finfo(resolution=0.001, min=-6.55040e+04, max=6.55040e+04, dtype=float16)"
      ]
     },
     "execution_count": 75,
     "metadata": {},
     "output_type": "execute_result"
    }
   ],
   "source": [
    "# Границы типа np.float16\n",
    "np.finfo(np.float16)"
   ]
  },
  {
   "cell_type": "code",
   "execution_count": null,
   "metadata": {},
   "outputs": [
    {
     "data": {
      "text/plain": [
       "finfo(resolution=1e-15, min=-1.7976931348623157e+308, max=1.7976931348623157e+308, dtype=float64)"
      ]
     },
     "execution_count": 76,
     "metadata": {},
     "output_type": "execute_result"
    }
   ],
   "source": [
    "# Границы типа np.float64\n",
    "np.finfo(np.float64)"
   ]
  },
  {
   "cell_type": "code",
   "execution_count": null,
   "metadata": {},
   "outputs": [
    {
     "name": "stdout",
     "output_type": "stream",
     "text": [
      "132\n"
     ]
    }
   ],
   "source": [
    "# Количество типов данных в numpy (зависит от версии)\n",
    "print(len(np.sctypeDict))"
   ]
  },
  {
   "cell_type": "code",
   "execution_count": null,
   "metadata": {},
   "outputs": [
    {
     "name": "stdout",
     "output_type": "stream",
     "text": [
      "<class 'numpy.int8'>\n",
      "<class 'numpy.uint8'>\n",
      "<class 'numpy.float32'>\n",
      "<class 'numpy.clongdouble'>\n",
      "<class 'numpy.int16'>\n",
      "<class 'numpy.uint16'>\n",
      "<class 'numpy.float64'>\n",
      "<class 'numpy.object_'>\n",
      "<class 'numpy.datetime64'>\n",
      "<class 'numpy.intc'>\n",
      "<class 'numpy.uintc'>\n",
      "<class 'numpy.longdouble'>\n",
      "<class 'numpy.bytes_'>\n",
      "<class 'numpy.timedelta64'>\n",
      "<class 'numpy.int32'>\n",
      "<class 'numpy.uint32'>\n",
      "<class 'numpy.complex64'>\n",
      "<class 'numpy.str_'>\n",
      "<class 'numpy.bool_'>\n",
      "<class 'numpy.float16'>\n",
      "<class 'numpy.int64'>\n",
      "<class 'numpy.uint64'>\n",
      "<class 'numpy.complex128'>\n",
      "<class 'numpy.void'>\n"
     ]
    }
   ],
   "source": [
    "# Выводим все типы данных numpy\n",
    "print(*set(np.sctypeDict.values()), sep='\\n')"
   ]
  },
  {
   "cell_type": "code",
   "execution_count": null,
   "metadata": {},
   "outputs": [
    {
     "name": "stdout",
     "output_type": "stream",
     "text": [
      "56\n"
     ]
    },
    {
     "name": "stderr",
     "output_type": "stream",
     "text": [
      "C:\\Users\\titor\\AppData\\Local\\Temp\\ipykernel_25656\\3779408666.py:5: DeprecationWarning: NumPy will stop allowing conversion of out-of-bound Python integers to integer arrays.  The conversion of -456 to uint8 will fail in the future.\n",
      "For the old behavior, usually:\n",
      "    np.array(value).astype(dtype)\n",
      "will give the desired result (the cast overflows).\n",
      "  print(np.uint8(-456))\n"
     ]
    }
   ],
   "source": [
    "# Задание 5.5\n",
    "\n",
    "# Преобразуем число в беззнаковый целый тип данных\n",
    "# с выделенной памятью 1 байт\n",
    "print(np.uint8(-456))"
   ]
  },
  {
   "cell_type": "markdown",
   "metadata": {},
   "source": [
    "### 6 юнит"
   ]
  },
  {
   "cell_type": "code",
   "execution_count": null,
   "metadata": {},
   "outputs": [
    {
     "name": "stdout",
     "output_type": "stream",
     "text": [
      "<class 'numpy.ndarray'>\n"
     ]
    },
    {
     "data": {
      "text/plain": [
       "array([ 1,  5,  2,  9, 10])"
      ]
     },
     "execution_count": 80,
     "metadata": {},
     "output_type": "execute_result"
    }
   ],
   "source": [
    "import numpy as np\n",
    "\n",
    "\n",
    "# Создадим массив из списка и выведем его и его тип\n",
    "arr = np.array([1, 5, 2, 9, 10])\n",
    "print(type(arr))\n",
    "arr"
   ]
  },
  {
   "cell_type": "code",
   "execution_count": null,
   "metadata": {},
   "outputs": [
    {
     "data": {
      "text/plain": [
       "array([[12, 45, 78],\n",
       "       [34, 89, 12],\n",
       "       [56, 23, 90]])"
      ]
     },
     "execution_count": 81,
     "metadata": {},
     "output_type": "execute_result"
    }
   ],
   "source": [
    "# Создадим двумерный массив из списков\n",
    "nd_arr = np.array([\n",
    "    [12, 45, 78],\n",
    "    [34, 89, 12],\n",
    "    [56, 23, 90]\n",
    "    ])\n",
    "nd_arr"
   ]
  },
  {
   "cell_type": "code",
   "execution_count": null,
   "metadata": {},
   "outputs": [
    {
     "data": {
      "text/plain": [
       "dtype('int32')"
      ]
     },
     "execution_count": 82,
     "metadata": {},
     "output_type": "execute_result"
    }
   ],
   "source": [
    "# Выведем тип данных элементов массива\n",
    "arr.dtype"
   ]
  },
  {
   "cell_type": "code",
   "execution_count": null,
   "metadata": {},
   "outputs": [
    {
     "data": {
      "text/plain": [
       "array([ 1,  5,  2,  9, 10], dtype=int8)"
      ]
     },
     "execution_count": 83,
     "metadata": {},
     "output_type": "execute_result"
    }
   ],
   "source": [
    "# Зададим тип данных элементов массива при его создании\n",
    "arr = np.array([1, 5, 2, 9, 10], dtype=np.int8)\n",
    "arr"
   ]
  },
  {
   "cell_type": "code",
   "execution_count": null,
   "metadata": {},
   "outputs": [
    {
     "name": "stderr",
     "output_type": "stream",
     "text": [
      "C:\\Users\\titor\\AppData\\Local\\Temp\\ipykernel_25656\\1653326291.py:4: DeprecationWarning: NumPy will stop allowing conversion of out-of-bound Python integers to integer arrays.  The conversion of 2000 to int8 will fail in the future.\n",
      "For the old behavior, usually:\n",
      "    np.array(value).astype(dtype)\n",
      "will give the desired result (the cast overflows).\n",
      "  arr[2] = 2000\n"
     ]
    },
    {
     "data": {
      "text/plain": [
       "array([  1,   5, -48,   9,  10], dtype=int8)"
      ]
     },
     "execution_count": 84,
     "metadata": {},
     "output_type": "execute_result"
    }
   ],
   "source": [
    "# Число 2000 не влезет в тип данных и будет обрезано до 16:\n",
    "# 2000 в int16 - 0000 0111 1101 0000,\n",
    "# обрезается до 1101 0000 (8 битов), что преобразуется в -48\n",
    "arr[2] = 2000\n",
    "arr"
   ]
  },
  {
   "cell_type": "code",
   "execution_count": null,
   "metadata": {},
   "outputs": [
    {
     "data": {
      "text/plain": [
       "array([  1,   5, 125,   9,  10], dtype=int8)"
      ]
     },
     "execution_count": 85,
     "metadata": {},
     "output_type": "execute_result"
    }
   ],
   "source": [
    "# Если добавить число с плавающей точкой, оно будет округлено\n",
    "arr[2] = 125.5\n",
    "arr"
   ]
  },
  {
   "cell_type": "code",
   "execution_count": null,
   "metadata": {},
   "outputs": [
    {
     "data": {
      "text/plain": [
       "array([ 1,  5, 12,  9, 10], dtype=int8)"
      ]
     },
     "execution_count": 86,
     "metadata": {},
     "output_type": "execute_result"
    }
   ],
   "source": [
    "# Строку, которую можно преобразовать в число, \n",
    "# можно добавить в массив\n",
    "arr[2] = '12'\n",
    "arr"
   ]
  },
  {
   "cell_type": "code",
   "execution_count": null,
   "metadata": {},
   "outputs": [
    {
     "data": {
      "text/plain": [
       "array([ 1.,  5., 12.,  9., 10.], dtype=float32)"
      ]
     },
     "execution_count": 87,
     "metadata": {},
     "output_type": "execute_result"
    }
   ],
   "source": [
    "# Меняем тип данных массива на float32\n",
    "arr = np.float32(arr)\n",
    "arr"
   ]
  },
  {
   "cell_type": "code",
   "execution_count": null,
   "metadata": {},
   "outputs": [
    {
     "data": {
      "text/plain": [
       "dtype('float64')"
      ]
     },
     "execution_count": 88,
     "metadata": {},
     "output_type": "execute_result"
    }
   ],
   "source": [
    "# Задание 6.3\n",
    "\n",
    "# Какой тип данных будет достаточен без потери точности данных\n",
    "arr = np.float64([345_234, 876_362.12, 0, -1_000, 99_999_999])\n",
    "arr.dtype"
   ]
  },
  {
   "cell_type": "code",
   "execution_count": null,
   "metadata": {},
   "outputs": [
    {
     "name": "stdout",
     "output_type": "stream",
     "text": [
      "1\n",
      "2\n"
     ]
    }
   ],
   "source": [
    "arr = np.array([1,5,2,9,10], dtype=np.int8)\n",
    "nd_arr = np.array([\n",
    "    [12, 45, 78],\n",
    "    [34, 56, 13],\n",
    "    [12, 98, 76]], dtype=np.int16)\n",
    "\n",
    "# Узнаем размерность массивов\n",
    "print(arr.ndim)\n",
    "print(nd_arr.ndim)"
   ]
  },
  {
   "cell_type": "code",
   "execution_count": null,
   "metadata": {},
   "outputs": [
    {
     "name": "stdout",
     "output_type": "stream",
     "text": [
      "5\n",
      "9\n"
     ]
    }
   ],
   "source": [
    "# Узнаем общее число элементов в массивах\n",
    "print(arr.size)\n",
    "print(nd_arr.size)"
   ]
  },
  {
   "cell_type": "code",
   "execution_count": null,
   "metadata": {},
   "outputs": [
    {
     "name": "stdout",
     "output_type": "stream",
     "text": [
      "(5,)\n",
      "(3, 3)\n"
     ]
    }
   ],
   "source": [
    "# Узнаем форму и структуру массивов\n",
    "print(arr.shape)\n",
    "print(nd_arr.shape)"
   ]
  },
  {
   "cell_type": "code",
   "execution_count": null,
   "metadata": {},
   "outputs": [
    {
     "name": "stdout",
     "output_type": "stream",
     "text": [
      "1\n",
      "2\n"
     ]
    }
   ],
   "source": [
    "# Узнаем сколько занимает памяти каждый элемент массива в байтах\n",
    "print(arr.itemsize)\n",
    "print(nd_arr.itemsize)"
   ]
  },
  {
   "cell_type": "code",
   "execution_count": null,
   "metadata": {},
   "outputs": [
    {
     "data": {
      "text/plain": [
       "array([0., 0., 0., 0., 0.])"
      ]
     },
     "execution_count": 93,
     "metadata": {},
     "output_type": "execute_result"
    }
   ],
   "source": [
    "# Создадим одномерный массив из пяти нулей\n",
    "zeros_1d = np.zeros(5)\n",
    "zeros_1d"
   ]
  },
  {
   "cell_type": "code",
   "execution_count": null,
   "metadata": {},
   "outputs": [
    {
     "name": "stdout",
     "output_type": "stream",
     "text": [
      "[[[0. 0. 0.]\n",
      "  [0. 0. 0.]\n",
      "  [0. 0. 0.]\n",
      "  [0. 0. 0.]]\n",
      "\n",
      " [[0. 0. 0.]\n",
      "  [0. 0. 0.]\n",
      "  [0. 0. 0.]\n",
      "  [0. 0. 0.]]\n",
      "\n",
      " [[0. 0. 0.]\n",
      "  [0. 0. 0.]\n",
      "  [0. 0. 0.]\n",
      "  [0. 0. 0.]]\n",
      "\n",
      " [[0. 0. 0.]\n",
      "  [0. 0. 0.]\n",
      "  [0. 0. 0.]\n",
      "  [0. 0. 0.]]\n",
      "\n",
      " [[0. 0. 0.]\n",
      "  [0. 0. 0.]\n",
      "  [0. 0. 0.]\n",
      "  [0. 0. 0.]]]\n",
      "(5, 4, 3)\n"
     ]
    }
   ],
   "source": [
    "# Создадим трехмерный массив формой 5х4х3 и типом float32\n",
    "zeros_3d = np.zeros((5, 4, 3), np.float32)\n",
    "print(zeros_3d)\n",
    "print(zeros_3d.shape)"
   ]
  },
  {
   "cell_type": "code",
   "execution_count": null,
   "metadata": {},
   "outputs": [
    {
     "data": {
      "text/plain": [
       "array([0, 1, 2, 3, 4])"
      ]
     },
     "execution_count": 95,
     "metadata": {},
     "output_type": "execute_result"
    }
   ],
   "source": [
    "# Создадим массив из цифр от 0 до 4\n",
    "np.arange(5)"
   ]
  },
  {
   "cell_type": "code",
   "execution_count": null,
   "metadata": {},
   "outputs": [
    {
     "data": {
      "text/plain": [
       "array([2.5, 3.5, 4.5])"
      ]
     },
     "execution_count": 96,
     "metadata": {},
     "output_type": "execute_result"
    }
   ],
   "source": [
    "# Создадим массив из цифр от 2.5 до 5\n",
    "np.arange(2.5, 5)"
   ]
  },
  {
   "cell_type": "code",
   "execution_count": null,
   "metadata": {},
   "outputs": [
    {
     "data": {
      "text/plain": [
       "array([2.5, 3. , 3.5, 4. , 4.5])"
      ]
     },
     "execution_count": 97,
     "metadata": {},
     "output_type": "execute_result"
    }
   ],
   "source": [
    "# Создадим массив из цифр от 2.5 до 5 с шагом 0.5\n",
    "np.arange(2.5, 5, 0.5)"
   ]
  },
  {
   "cell_type": "code",
   "execution_count": null,
   "metadata": {},
   "outputs": [
    {
     "data": {
      "text/plain": [
       "array([2.5, 3. , 3.5, 4. , 4.5], dtype=float16)"
      ]
     },
     "execution_count": 98,
     "metadata": {},
     "output_type": "execute_result"
    }
   ],
   "source": [
    "# Создадим массив из цифр от 2.5 до 5 с шагом 0.5 и типом float16\n",
    "np.arange(2.5, 5, 0.5, np.float16)"
   ]
  },
  {
   "cell_type": "code",
   "execution_count": null,
   "metadata": {},
   "outputs": [
    {
     "data": {
      "text/plain": [
       "array([1.        , 1.11111111, 1.22222222, 1.33333333, 1.44444444,\n",
       "       1.55555556, 1.66666667, 1.77777778, 1.88888889, 2.        ])"
      ]
     },
     "execution_count": 99,
     "metadata": {},
     "output_type": "execute_result"
    }
   ],
   "source": [
    "# Создадим массив из 10 элементов от 1 до 2\n",
    "arr = np.linspace(1, 2, 10)\n",
    "arr"
   ]
  },
  {
   "cell_type": "code",
   "execution_count": null,
   "metadata": {},
   "outputs": [
    {
     "data": {
      "text/plain": [
       "array([1. , 1.1, 1.2, 1.3, 1.4, 1.5, 1.6, 1.7, 1.8, 1.9])"
      ]
     },
     "execution_count": 100,
     "metadata": {},
     "output_type": "execute_result"
    }
   ],
   "source": [
    "# Создадим массив из 10 элементов от 1 до 2, не включая 2\n",
    "arr = np.linspace(1, 2, 10, endpoint=False)\n",
    "arr"
   ]
  },
  {
   "cell_type": "code",
   "execution_count": null,
   "metadata": {},
   "outputs": [
    {
     "name": "stdout",
     "output_type": "stream",
     "text": [
      "0.1111111111111111\n",
      "0.1\n"
     ]
    }
   ],
   "source": [
    "# Узнаем, какой шаг будет использоваться для\n",
    "# создания массива из 10 чисел от 1 до 2, где\n",
    "# 2 включалось и нет\n",
    "_, step1 = np.linspace(1, 2, 10, retstep=True, endpoint=True)\n",
    "_, step2 = np.linspace(1, 2, 10, retstep=True, endpoint=False)\n",
    "print(step1, step2, sep='\\n')"
   ]
  },
  {
   "cell_type": "code",
   "execution_count": null,
   "metadata": {},
   "outputs": [
    {
     "name": "stdout",
     "output_type": "stream",
     "text": [
      "0.46\n"
     ]
    }
   ],
   "source": [
    "# Задание 6.6\n",
    "\n",
    "# С каким шагом сгенерируется массив из 60 чисел\n",
    "# от -6 до 21 включительно\n",
    "_, step = np.linspace(-6, 21, num=60, endpoint=True, retstep=True)\n",
    "print(round(step, 2))"
   ]
  },
  {
   "cell_type": "code",
   "execution_count": null,
   "metadata": {},
   "outputs": [
    {
     "name": "stdout",
     "output_type": "stream",
     "text": [
      "0.45\n"
     ]
    }
   ],
   "source": [
    "# Задание 6.7\n",
    "\n",
    "# С каким шагом сгенерируется массив из 60 чисел\n",
    "# от -6 до 21 не включительно\n",
    "_, step = np.linspace(-6, 21, num=60, endpoint=False, retstep=True)\n",
    "print(round(step, 2))"
   ]
  },
  {
   "cell_type": "code",
   "execution_count": null,
   "metadata": {},
   "outputs": [
    {
     "name": "stdout",
     "output_type": "stream",
     "text": [
      "3\n"
     ]
    }
   ],
   "source": [
    "# Задание 6.8\n",
    "\n",
    "from hidden import mystery1\n",
    "\n",
    "\n",
    "# Узнайте размерность массива\n",
    "print(mystery1.ndim)"
   ]
  },
  {
   "cell_type": "code",
   "execution_count": null,
   "metadata": {},
   "outputs": [
    {
     "name": "stdout",
     "output_type": "stream",
     "text": [
      "(6, 5, 7)\n"
     ]
    }
   ],
   "source": [
    "# Задание 6.9\n",
    "\n",
    "# Какова максимальная протяжённость по одной из осей массива?\n",
    "print(mystery1.shape)"
   ]
  },
  {
   "cell_type": "code",
   "execution_count": null,
   "metadata": {},
   "outputs": [
    {
     "name": "stdout",
     "output_type": "stream",
     "text": [
      "210\n"
     ]
    }
   ],
   "source": [
    "# Задание 6.10\n",
    "\n",
    "# Узнайте число элементов массива\n",
    "print(mystery1.size)"
   ]
  },
  {
   "cell_type": "code",
   "execution_count": null,
   "metadata": {},
   "outputs": [
    {
     "name": "stdout",
     "output_type": "stream",
     "text": [
      "float16\n"
     ]
    }
   ],
   "source": [
    "# Задание 6.11\n",
    "\n",
    "# Какой тип данных у элементов массива?\n",
    "print(mystery1.dtype)"
   ]
  },
  {
   "cell_type": "code",
   "execution_count": null,
   "metadata": {},
   "outputs": [
    {
     "name": "stdout",
     "output_type": "stream",
     "text": [
      "420\n"
     ]
    }
   ],
   "source": [
    "# Задание 6.12\n",
    "\n",
    "# Узнайте вес всех элементов в массиве в байтах\n",
    "print(mystery1.itemsize * mystery1.size)"
   ]
  },
  {
   "cell_type": "markdown",
   "metadata": {},
   "source": [
    "### 7 юнит"
   ]
  },
  {
   "cell_type": "code",
   "execution_count": null,
   "metadata": {},
   "outputs": [
    {
     "data": {
      "text/plain": [
       "array([[0, 1, 2, 3],\n",
       "       [4, 5, 6, 7]])"
      ]
     },
     "execution_count": 109,
     "metadata": {},
     "output_type": "execute_result"
    }
   ],
   "source": [
    "# Изменим форму массива с одномерного на двумерный\n",
    "arr = np.arange(8)\n",
    "arr.shape = (2, 4)\n",
    "arr"
   ]
  },
  {
   "cell_type": "code",
   "execution_count": null,
   "metadata": {},
   "outputs": [
    {
     "data": {
      "text/plain": [
       "array([[0, 1, 2, 3],\n",
       "       [4, 5, 6, 7]])"
      ]
     },
     "execution_count": 110,
     "metadata": {},
     "output_type": "execute_result"
    }
   ],
   "source": [
    "# Изменим форму массива с одномерного на двумерный\n",
    "# без изменения исходного массива\n",
    "arr = np.arange(8)\n",
    "arr_new = arr.reshape((2, 4))\n",
    "arr_new"
   ]
  },
  {
   "cell_type": "code",
   "execution_count": null,
   "metadata": {},
   "outputs": [
    {
     "data": {
      "text/plain": [
       "array([[0, 2, 4, 6],\n",
       "       [1, 3, 5, 7]])"
      ]
     },
     "execution_count": 111,
     "metadata": {},
     "output_type": "execute_result"
    }
   ],
   "source": [
    "# Изменим форму массива с одномерного на двумерный\n",
    "# с заполнением по столбцам\n",
    "arr_new = arr.reshape((2, 4), order='F')\n",
    "arr_new"
   ]
  },
  {
   "cell_type": "code",
   "execution_count": null,
   "metadata": {},
   "outputs": [
    {
     "name": "stdout",
     "output_type": "stream",
     "text": [
      "[[0 1 2 3]\n",
      " [4 5 6 7]]\n",
      "[[0 4]\n",
      " [1 5]\n",
      " [2 6]\n",
      " [3 7]]\n"
     ]
    }
   ],
   "source": [
    "# Транспонируем массив (переставим строки и столбцы местами)\n",
    "arr = np.arange(8)\n",
    "arr.shape = (2, 4)\n",
    "print(arr)\n",
    "\n",
    "arr_trans = arr.transpose()\n",
    "print(arr_trans)"
   ]
  },
  {
   "cell_type": "code",
   "execution_count": null,
   "metadata": {},
   "outputs": [
    {
     "name": "stdout",
     "output_type": "stream",
     "text": [
      "[1.  1.2 1.4 1.6 1.8 2. ]\n",
      "1.4\n",
      "[1.4 1.6]\n",
      "[2.  1.8 1.6 1.4 1.2 1. ]\n"
     ]
    }
   ],
   "source": [
    "arr = np.linspace(1, 2, 6)\n",
    "print(arr)\n",
    "\n",
    "# Обратимся к элементу массива по индексу\n",
    "print(arr[2])\n",
    "\n",
    "# Сделем срез массива по индексам\n",
    "print(arr[2:4])\n",
    "\n",
    "# Развернем массив в обратном порядке\n",
    "print(arr[::-1])"
   ]
  },
  {
   "cell_type": "code",
   "execution_count": null,
   "metadata": {},
   "outputs": [
    {
     "name": "stdout",
     "output_type": "stream",
     "text": [
      "[[0.  0.5 1.  1.5]\n",
      " [2.  2.5 3.  3.5]\n",
      " [4.  4.5 5.  5.5]]\n",
      "3.0\n",
      "3.0\n"
     ]
    }
   ],
   "source": [
    "# Создадим двумерный массив из 12 чисел от 0 до 6\n",
    "nd_array = np.linspace(0, 6, 12, endpoint=False).reshape(3, 4)\n",
    "print(nd_array)\n",
    "\n",
    "# Получим число из 2 строки и 3 столбца\n",
    "print(nd_array[1][2])\n",
    "print(nd_array[1, 2])"
   ]
  },
  {
   "cell_type": "code",
   "execution_count": null,
   "metadata": {},
   "outputs": [
    {
     "name": "stdout",
     "output_type": "stream",
     "text": [
      "[1. 3.]\n"
     ]
    }
   ],
   "source": [
    "# Получим все элементы из 3 колонки для 1 двух строк\n",
    "print(nd_array[:2, 2])"
   ]
  },
  {
   "cell_type": "code",
   "execution_count": null,
   "metadata": {},
   "outputs": [
    {
     "name": "stdout",
     "output_type": "stream",
     "text": [
      "[[3.  3.5]\n",
      " [5.  5.5]]\n"
     ]
    }
   ],
   "source": [
    "# Получим все элементы начиная со 2 строки\n",
    "# и с 3 по 4 столбец\n",
    "print(nd_array[1:, 2:4])"
   ]
  },
  {
   "cell_type": "code",
   "execution_count": null,
   "metadata": {},
   "outputs": [
    {
     "name": "stdout",
     "output_type": "stream",
     "text": [
      "[[1.  1.5]\n",
      " [3.  3.5]\n",
      " [5.  5.5]]\n"
     ]
    }
   ],
   "source": [
    "# Получим все элементы всех строк начиная\n",
    "# с 3 и 4 столбца\n",
    "print(nd_array[:, 2:4])"
   ]
  },
  {
   "cell_type": "code",
   "execution_count": null,
   "metadata": {},
   "outputs": [
    {
     "name": "stdout",
     "output_type": "stream",
     "text": [
      "[[0.  0.5 1.  1.5]\n",
      " [2.  2.5 3.  3.5]]\n"
     ]
    }
   ],
   "source": [
    "# Получаем 2 первые строки и все столбцы\n",
    "print(nd_array[:2])"
   ]
  },
  {
   "cell_type": "code",
   "execution_count": null,
   "metadata": {},
   "outputs": [],
   "source": [
    "# Задание 7.2\n",
    "\n",
    "mystery = np.array([[-13586,  15203,  28445, -27117,  -1781, -17182, -18049],\n",
    "                    [ 25936, -30968,  -1297,  -4593,   6451,  15790,   7181],\n",
    "                    [ 13348,  28049,  28655,  -6012,  21762,  25397,   8225],\n",
    "                    [ 13240,   7994,  32592,  20149,  13754,  11795,   -564],\n",
    "                    [-21725,  -8681,  30305,  22260, -17918,  12578,  29943],\n",
    "                    [-16841, -25392, -17278,  11740,   5916,    -47, -32037]],\n",
    "                    dtype=np.int16)\n",
    "\n",
    "elem_5_3 = mystery[4, 2]        # пятый элемент третьей строки\n",
    "last = mystery[-1, -1]          # последний элемент\n",
    "line_4 = mystery[3]             # четвертая строка\n",
    "col_2 = mystery[:, -2]          # все строки предпоследнего столбца\n",
    "part = mystery[1:4, 2:5]        # часть массива из 2-4 строки 3-5 столбца\n",
    "rev = mystery[:, -1][::-1]      # последний столбец в обратном порядке\n",
    "trans = mystery.transpose()     # транспонированный массив"
   ]
  },
  {
   "cell_type": "code",
   "execution_count": null,
   "metadata": {},
   "outputs": [
    {
     "name": "stdout",
     "output_type": "stream",
     "text": [
      "[23 12 45 12 23  4 15  3]\n",
      "[ 3  4 12 12 15 23 23 45]\n"
     ]
    }
   ],
   "source": [
    "# Сортируем массив по возрастанию и сохраняем его в переменной\n",
    "arr = np.array([23, 12, 45, 12, 23, 4, 15, 3])\n",
    "arr_new = np.sort(arr)\n",
    "print(arr)\n",
    "print(arr_new)"
   ]
  },
  {
   "cell_type": "code",
   "execution_count": null,
   "metadata": {},
   "outputs": [
    {
     "name": "stdout",
     "output_type": "stream",
     "text": [
      "[23 12 45 12 23  4 15  3]\n",
      "None\n",
      "[ 3  4 12 12 15 23 23 45]\n"
     ]
    }
   ],
   "source": [
    "# Сортируем исходный массив по возрастанию и печатаем None\n",
    "print(arr)\n",
    "print(arr.sort())\n",
    "print(arr)"
   ]
  },
  {
   "cell_type": "code",
   "execution_count": null,
   "metadata": {},
   "outputs": [
    {
     "name": "stderr",
     "output_type": "stream",
     "text": [
      "C:\\Users\\titor\\AppData\\Local\\Temp\\ipykernel_25656\\2252706391.py:5: RuntimeWarning: invalid value encountered in sqrt\n",
      "  roots = np.sqrt(data)\n"
     ]
    },
    {
     "data": {
      "text/plain": [
       "array([2.        , 3.        ,        nan, 1.73205081])"
      ]
     },
     "execution_count": 129,
     "metadata": {},
     "output_type": "execute_result"
    }
   ],
   "source": [
    "data = np.array([4, 9, -4, 3])\n",
    "\n",
    "# Попробуем взять квадратный корень из массива,\n",
    "# где есть отрицательные числа\n",
    "roots = np.sqrt(data)\n",
    "roots   # возвести отрицательное число в степень не получилось (nan)"
   ]
  },
  {
   "cell_type": "code",
   "execution_count": null,
   "metadata": {},
   "outputs": [
    {
     "name": "stdout",
     "output_type": "stream",
     "text": [
      "<class 'NoneType'>\n",
      "<class 'float'>\n"
     ]
    }
   ],
   "source": [
    "# Относятся к разным классам\n",
    "print(type(None))\n",
    "print(type(np.nan))"
   ]
  },
  {
   "cell_type": "code",
   "execution_count": null,
   "metadata": {},
   "outputs": [
    {
     "name": "stdout",
     "output_type": "stream",
     "text": [
      "True\n",
      "False\n"
     ]
    }
   ],
   "source": [
    "# np.nan не равны друг другу\n",
    "print(None == None)\n",
    "print(np.nan == np.nan)"
   ]
  },
  {
   "cell_type": "code",
   "execution_count": null,
   "metadata": {},
   "outputs": [
    {
     "name": "stdout",
     "output_type": "stream",
     "text": [
      "True\n",
      "True\n",
      "False\n"
     ]
    }
   ],
   "source": [
    "# Даже если сравнить np.nan с помощью is,\n",
    "# то результат будет False\n",
    "print(None is None)\n",
    "print(np.nan is np.nan)\n",
    "print(np.nan is None)"
   ]
  },
  {
   "cell_type": "code",
   "execution_count": null,
   "metadata": {},
   "outputs": [
    {
     "name": "stderr",
     "output_type": "stream",
     "text": [
      "C:\\Users\\titor\\AppData\\Local\\Temp\\ipykernel_25656\\2304849203.py:2: RuntimeWarning: invalid value encountered in sqrt\n",
      "  roots = np.sqrt(data)\n"
     ]
    },
    {
     "data": {
      "text/plain": [
       "nan"
      ]
     },
     "execution_count": 133,
     "metadata": {},
     "output_type": "execute_result"
    }
   ],
   "source": [
    "# Посчитать сумму массива,\n",
    "# в котором есть np.nan не получиться\n",
    "data = np.array([4, 9, -4, 3])\n",
    "roots = np.sqrt(data)\n",
    "sum(roots)"
   ]
  },
  {
   "cell_type": "code",
   "execution_count": null,
   "metadata": {},
   "outputs": [
    {
     "data": {
      "text/plain": [
       "array([False, False,  True, False])"
      ]
     },
     "execution_count": 134,
     "metadata": {},
     "output_type": "execute_result"
    }
   ],
   "source": [
    "# Узнать индексы элементов, где находятся не числа\n",
    "np.isnan(roots)"
   ]
  },
  {
   "cell_type": "code",
   "execution_count": null,
   "metadata": {},
   "outputs": [
    {
     "name": "stdout",
     "output_type": "stream",
     "text": [
      "[2.         3.         0.         1.73205081]\n"
     ]
    },
    {
     "data": {
      "text/plain": [
       "6.732050807568877"
      ]
     },
     "execution_count": 138,
     "metadata": {},
     "output_type": "execute_result"
    }
   ],
   "source": [
    "# Узнаем какие элементы в массиве не числа \n",
    "# с помощью np.isnan(), а затем заменим их на 0\n",
    "roots[np.isnan(roots)] = 0\n",
    "print(roots)\n",
    "sum(roots)"
   ]
  },
  {
   "cell_type": "code",
   "execution_count": 229,
   "metadata": {},
   "outputs": [],
   "source": [
    "# Задание 7.4\n",
    "\n",
    "mystery = np.array([ 12279., -26024.,  28745.,  np.nan,  31244.,  -2365.,  -6974.,\n",
    "                    -9212., np.nan, -17722.,  16132.,  25933.,  np.nan, -16431.,\n",
    "                    29810.], dtype=np.float32)\n",
    "\n",
    "# Булевый массив с индексами NaN\n",
    "nans_index = np.isnan(mystery)\n",
    "\n",
    "# Количество NaN в массиве\n",
    "n_nan = len(mystery[nans_index])\n",
    "\n",
    "# Создадим новый массив, в котором NaN заменим на 0\n",
    "mystery_new = mystery.copy()\n",
    "mystery_new[nans_index] = 0\n",
    "\n",
    "# Меняем тип данных на int32\n",
    "mystery_int = np.int32(mystery_new)\n",
    "\n",
    "# Отсортируем массив по возрастанию\n",
    "array = np.sort(mystery)\n",
    "\n",
    "# Меняем форму массива на 5х3 и заполняем его по столбцам\n",
    "table = array.reshape((5, 3), order='F')\n",
    "\n",
    "# Извлекаем средний (2) столбец\n",
    "col = table[:, 1]"
   ]
  }
 ],
 "metadata": {
  "kernelspec": {
   "display_name": "base",
   "language": "python",
   "name": "python3"
  },
  "language_info": {
   "codemirror_mode": {
    "name": "ipython",
    "version": 3
   },
   "file_extension": ".py",
   "mimetype": "text/x-python",
   "name": "python",
   "nbconvert_exporter": "python",
   "pygments_lexer": "ipython3",
   "version": "3.12.9"
  }
 },
 "nbformat": 4,
 "nbformat_minor": 2
}
