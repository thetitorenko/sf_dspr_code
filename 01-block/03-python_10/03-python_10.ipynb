{
 "cells": [
  {
   "cell_type": "markdown",
   "id": "a28384c7",
   "metadata": {},
   "source": [
    "### 0 юнит"
   ]
  },
  {
   "cell_type": "code",
   "execution_count": 1,
   "id": "3a889c9c",
   "metadata": {},
   "outputs": [
    {
     "data": {
      "text/plain": [
       "261.5"
      ]
     },
     "execution_count": 1,
     "metadata": {},
     "output_type": "execute_result"
    }
   ],
   "source": [
    "import numpy as np\n",
    "\n",
    "simplelist = [19, 242, 14, 152, 142, 1000]\n",
    "\n",
    "np.mean(simplelist)"
   ]
  },
  {
   "cell_type": "markdown",
   "id": "00831de6",
   "metadata": {},
   "source": [
    "### 1 юнит"
   ]
  },
  {
   "cell_type": "code",
   "execution_count": 2,
   "id": "f62f0f00",
   "metadata": {},
   "outputs": [
    {
     "data": {
      "text/plain": [
       "'2.2.3'"
      ]
     },
     "execution_count": 2,
     "metadata": {},
     "output_type": "execute_result"
    }
   ],
   "source": [
    "import pandas as pd\n",
    "\n",
    "pd.__version__"
   ]
  },
  {
   "cell_type": "code",
   "execution_count": 3,
   "id": "6430438f",
   "metadata": {},
   "outputs": [
    {
     "name": "stdout",
     "output_type": "stream",
     "text": [
      "pandas\n"
     ]
    }
   ],
   "source": [
    "# Задание 1.3\n",
    "\n",
    "print(pd.__name__)"
   ]
  },
  {
   "cell_type": "markdown",
   "id": "a8b17050",
   "metadata": {},
   "source": [
    "### 2 юнит"
   ]
  },
  {
   "cell_type": "code",
   "execution_count": 4,
   "id": "122cdb26",
   "metadata": {},
   "outputs": [
    {
     "data": {
      "text/plain": [
       "UK       Англия\n",
       "CA       Канада\n",
       "US          США\n",
       "RU       Россия\n",
       "UA      Украина\n",
       "BY     Беларусь\n",
       "KZ    Казахстан\n",
       "Name: countries, dtype: object"
      ]
     },
     "metadata": {},
     "output_type": "display_data"
    }
   ],
   "source": [
    "# Создание Series из списков с данными и индексами\n",
    "countries = pd.Series(\n",
    "    data = ['Англия', 'Канада', 'США', 'Россия', 'Украина', 'Беларусь', 'Казахстан'],\n",
    "    index = ['UK', 'CA', 'US', 'RU', 'UA', 'BY', 'KZ'],\n",
    "    name = 'countries'\n",
    "    )\n",
    "\n",
    "display(countries)"
   ]
  },
  {
   "cell_type": "code",
   "execution_count": 5,
   "id": "ff516976",
   "metadata": {},
   "outputs": [
    {
     "data": {
      "text/plain": [
       "UK       Англия\n",
       "CA       Канада\n",
       "US          США\n",
       "RU       Россия\n",
       "UA      Украина\n",
       "BY     Беларусь\n",
       "KZ    Казахстан\n",
       "Name: countries, dtype: object"
      ]
     },
     "metadata": {},
     "output_type": "display_data"
    }
   ],
   "source": [
    "# Создание Series из словаря,\n",
    "# в котором ключи - это индексы (index), а значения - данные (data)\n",
    "countries = pd.Series({\n",
    "    'UK': 'Англия',\n",
    "    'CA': 'Канада',\n",
    "    'US' : 'США',\n",
    "    'RU': 'Россия',\n",
    "    'UA': 'Украина',\n",
    "    'BY': 'Беларусь',\n",
    "    'KZ': 'Казахстан'},\n",
    "    name = 'countries'\n",
    "    )\n",
    "\n",
    "display(countries)"
   ]
  },
  {
   "cell_type": "code",
   "execution_count": 6,
   "id": "6bb1f475",
   "metadata": {},
   "outputs": [
    {
     "name": "stdout",
     "output_type": "stream",
     "text": [
      "Англия\n",
      "US       США\n",
      "RU    Россия\n",
      "Name: countries, dtype: object\n"
     ]
    }
   ],
   "source": [
    "# Доступ к одному элементу и нескольким Series\n",
    "print(countries.loc['UK'])\n",
    "print(countries.loc[['US', 'RU']])"
   ]
  },
  {
   "cell_type": "code",
   "execution_count": 7,
   "id": "5dcbc833",
   "metadata": {},
   "outputs": [
    {
     "name": "stdout",
     "output_type": "stream",
     "text": [
      "Казахстан\n"
     ]
    }
   ],
   "source": [
    "# Доступ по индексу к элементу в Series\n",
    "print(countries.iloc[6])"
   ]
  },
  {
   "cell_type": "code",
   "execution_count": 8,
   "id": "9477dad4",
   "metadata": {},
   "outputs": [
    {
     "name": "stdout",
     "output_type": "stream",
     "text": [
      "CA    Канада\n",
      "US       США\n",
      "RU    Россия\n",
      "Name: countries, dtype: object\n"
     ]
    }
   ],
   "source": [
    "# Доступ по срезу к элементам (c 2 по 4) в Series\n",
    "print(countries.iloc[1:4])"
   ]
  },
  {
   "cell_type": "code",
   "execution_count": 9,
   "id": "f314d0f6",
   "metadata": {},
   "outputs": [
    {
     "name": "stdout",
     "output_type": "stream",
     "text": [
      "b    6\n",
      "c    7\n",
      "e    9\n",
      "dtype: int64\n",
      "b    6\n",
      "c    7\n",
      "e    9\n",
      "dtype: int64\n"
     ]
    }
   ],
   "source": [
    "# Задание 2.3\n",
    "\n",
    "my_series = pd.Series(data=[5, 6, 7, 8, 9, 10], index=['a', 'b', 'c', 'd', 'e', 'f'])\n",
    "\n",
    "# Извлекаем элементы 6, 7 и 9 из Series\n",
    "print(my_series.loc[['b', 'c', 'e']])\n",
    "print(my_series.iloc[[1, 2, 4]])"
   ]
  },
  {
   "cell_type": "code",
   "execution_count": 10,
   "id": "777b88ce",
   "metadata": {},
   "outputs": [],
   "source": [
    "# Задание 2.4\n",
    "\n",
    "import pandas as pd\n",
    "\n",
    "\n",
    "names = ['chlorhexidine', 'cyntomycin', 'afobazol']     # названия препаратов\n",
    "counts = [15, 18, 7]                                    # количество препаратов\n",
    "\n",
    "# Создание Series из списков с данными и индексами\n",
    "def create_medications(names, counts):\n",
    "    result = pd.Series(index=names, data=counts)\n",
    "    return result\n",
    "\n",
    "# Функция для вычисления процента определенного препарата\n",
    "def get_percent(medications, name):\n",
    "    overall_quantity = medications.sum()\n",
    "    target_quantity = medications.loc[name]\n",
    "    target_proportion = (target_quantity*100) / overall_quantity\n",
    "    return target_proportion\n",
    "\n",
    "\n",
    "medications = create_medications(names, counts)     # создание Series\n",
    "# print(get_percent(medications, 'chlorhexidine'))    # вывод процента препарата"
   ]
  },
  {
   "cell_type": "markdown",
   "id": "930f1f34",
   "metadata": {},
   "source": [
    "### 3 юнит"
   ]
  },
  {
   "cell_type": "code",
   "execution_count": 11,
   "id": "2dcd1a6f",
   "metadata": {},
   "outputs": [
    {
     "data": {
      "text/html": [
       "<div>\n",
       "<style scoped>\n",
       "    .dataframe tbody tr th:only-of-type {\n",
       "        vertical-align: middle;\n",
       "    }\n",
       "\n",
       "    .dataframe tbody tr th {\n",
       "        vertical-align: top;\n",
       "    }\n",
       "\n",
       "    .dataframe thead th {\n",
       "        text-align: right;\n",
       "    }\n",
       "</style>\n",
       "<table border=\"1\" class=\"dataframe\">\n",
       "  <thead>\n",
       "    <tr style=\"text-align: right;\">\n",
       "      <th></th>\n",
       "      <th>country</th>\n",
       "      <th>population</th>\n",
       "      <th>area</th>\n",
       "    </tr>\n",
       "  </thead>\n",
       "  <tbody>\n",
       "    <tr>\n",
       "      <th>0</th>\n",
       "      <td>Англия</td>\n",
       "      <td>56.29</td>\n",
       "      <td>133396</td>\n",
       "    </tr>\n",
       "    <tr>\n",
       "      <th>1</th>\n",
       "      <td>Канада</td>\n",
       "      <td>38.05</td>\n",
       "      <td>9984670</td>\n",
       "    </tr>\n",
       "    <tr>\n",
       "      <th>2</th>\n",
       "      <td>США</td>\n",
       "      <td>322.28</td>\n",
       "      <td>9826630</td>\n",
       "    </tr>\n",
       "    <tr>\n",
       "      <th>3</th>\n",
       "      <td>Россия</td>\n",
       "      <td>146.24</td>\n",
       "      <td>17125191</td>\n",
       "    </tr>\n",
       "    <tr>\n",
       "      <th>4</th>\n",
       "      <td>Украина</td>\n",
       "      <td>45.50</td>\n",
       "      <td>603628</td>\n",
       "    </tr>\n",
       "    <tr>\n",
       "      <th>5</th>\n",
       "      <td>Беларусь</td>\n",
       "      <td>9.50</td>\n",
       "      <td>207600</td>\n",
       "    </tr>\n",
       "    <tr>\n",
       "      <th>6</th>\n",
       "      <td>Казахстан</td>\n",
       "      <td>17.04</td>\n",
       "      <td>2724902</td>\n",
       "    </tr>\n",
       "  </tbody>\n",
       "</table>\n",
       "</div>"
      ],
      "text/plain": [
       "     country  population      area\n",
       "0     Англия       56.29    133396\n",
       "1     Канада       38.05   9984670\n",
       "2        США      322.28   9826630\n",
       "3     Россия      146.24  17125191\n",
       "4    Украина       45.50    603628\n",
       "5   Беларусь        9.50    207600\n",
       "6  Казахстан       17.04   2724902"
      ]
     },
     "metadata": {},
     "output_type": "display_data"
    }
   ],
   "source": [
    "# Создаем DataFrame из словаря\n",
    "countries_df = pd.DataFrame({\n",
    "    'country': ['Англия', 'Канада', 'США', 'Россия', 'Украина', 'Беларусь', 'Казахстан'],\n",
    "    'population': [56.29, 38.05, 322.28, 146.24, 45.5, 9.5, 17.04],\n",
    "    'area': [133396, 9984670, 9826630, 17125191, 603628, 207600, 2724902]\n",
    "    })\n",
    "\n",
    "display(countries_df)"
   ]
  },
  {
   "cell_type": "code",
   "execution_count": 12,
   "id": "2c3cf0dd",
   "metadata": {},
   "outputs": [
    {
     "data": {
      "text/html": [
       "<div>\n",
       "<style scoped>\n",
       "    .dataframe tbody tr th:only-of-type {\n",
       "        vertical-align: middle;\n",
       "    }\n",
       "\n",
       "    .dataframe tbody tr th {\n",
       "        vertical-align: top;\n",
       "    }\n",
       "\n",
       "    .dataframe thead th {\n",
       "        text-align: right;\n",
       "    }\n",
       "</style>\n",
       "<table border=\"1\" class=\"dataframe\">\n",
       "  <thead>\n",
       "    <tr style=\"text-align: right;\">\n",
       "      <th></th>\n",
       "      <th>country</th>\n",
       "      <th>population</th>\n",
       "      <th>area</th>\n",
       "    </tr>\n",
       "  </thead>\n",
       "  <tbody>\n",
       "    <tr>\n",
       "      <th>UK</th>\n",
       "      <td>Англия</td>\n",
       "      <td>56.29</td>\n",
       "      <td>133396</td>\n",
       "    </tr>\n",
       "    <tr>\n",
       "      <th>CA</th>\n",
       "      <td>Канада</td>\n",
       "      <td>38.05</td>\n",
       "      <td>9984670</td>\n",
       "    </tr>\n",
       "    <tr>\n",
       "      <th>US</th>\n",
       "      <td>США</td>\n",
       "      <td>322.28</td>\n",
       "      <td>9826630</td>\n",
       "    </tr>\n",
       "    <tr>\n",
       "      <th>RU</th>\n",
       "      <td>Россия</td>\n",
       "      <td>146.24</td>\n",
       "      <td>17125191</td>\n",
       "    </tr>\n",
       "    <tr>\n",
       "      <th>UA</th>\n",
       "      <td>Украина</td>\n",
       "      <td>45.50</td>\n",
       "      <td>603628</td>\n",
       "    </tr>\n",
       "    <tr>\n",
       "      <th>BY</th>\n",
       "      <td>Беларусь</td>\n",
       "      <td>9.50</td>\n",
       "      <td>207600</td>\n",
       "    </tr>\n",
       "    <tr>\n",
       "      <th>KZ</th>\n",
       "      <td>Казахстан</td>\n",
       "      <td>17.04</td>\n",
       "      <td>2724902</td>\n",
       "    </tr>\n",
       "  </tbody>\n",
       "</table>\n",
       "</div>"
      ],
      "text/plain": [
       "      country  population      area\n",
       "UK     Англия       56.29    133396\n",
       "CA     Канада       38.05   9984670\n",
       "US        США      322.28   9826630\n",
       "RU     Россия      146.24  17125191\n",
       "UA    Украина       45.50    603628\n",
       "BY   Беларусь        9.50    207600\n",
       "KZ  Казахстан       17.04   2724902"
      ]
     },
     "metadata": {},
     "output_type": "display_data"
    }
   ],
   "source": [
    "# Переименовываем индексы DataFrame\n",
    "countries_df.index = ['UK', 'CA', 'US', 'RU', 'UA', 'BY', 'KZ']\n",
    "display(countries_df)"
   ]
  },
  {
   "cell_type": "code",
   "execution_count": 13,
   "id": "597a6942",
   "metadata": {},
   "outputs": [
    {
     "data": {
      "text/html": [
       "<div>\n",
       "<style scoped>\n",
       "    .dataframe tbody tr th:only-of-type {\n",
       "        vertical-align: middle;\n",
       "    }\n",
       "\n",
       "    .dataframe tbody tr th {\n",
       "        vertical-align: top;\n",
       "    }\n",
       "\n",
       "    .dataframe thead th {\n",
       "        text-align: right;\n",
       "    }\n",
       "</style>\n",
       "<table border=\"1\" class=\"dataframe\">\n",
       "  <thead>\n",
       "    <tr style=\"text-align: right;\">\n",
       "      <th></th>\n",
       "      <th>country</th>\n",
       "      <th>population</th>\n",
       "      <th>area</th>\n",
       "    </tr>\n",
       "  </thead>\n",
       "  <tbody>\n",
       "    <tr>\n",
       "      <th>UK</th>\n",
       "      <td>Англия</td>\n",
       "      <td>56.29</td>\n",
       "      <td>133396</td>\n",
       "    </tr>\n",
       "    <tr>\n",
       "      <th>CA</th>\n",
       "      <td>Канада</td>\n",
       "      <td>38.05</td>\n",
       "      <td>9984670</td>\n",
       "    </tr>\n",
       "    <tr>\n",
       "      <th>US</th>\n",
       "      <td>США</td>\n",
       "      <td>322.28</td>\n",
       "      <td>9826630</td>\n",
       "    </tr>\n",
       "    <tr>\n",
       "      <th>RU</th>\n",
       "      <td>Россия</td>\n",
       "      <td>146.24</td>\n",
       "      <td>17125191</td>\n",
       "    </tr>\n",
       "    <tr>\n",
       "      <th>UA</th>\n",
       "      <td>Украина</td>\n",
       "      <td>45.50</td>\n",
       "      <td>603628</td>\n",
       "    </tr>\n",
       "    <tr>\n",
       "      <th>BY</th>\n",
       "      <td>Беларусь</td>\n",
       "      <td>9.50</td>\n",
       "      <td>207600</td>\n",
       "    </tr>\n",
       "    <tr>\n",
       "      <th>KZ</th>\n",
       "      <td>Казахстан</td>\n",
       "      <td>17.04</td>\n",
       "      <td>2724902</td>\n",
       "    </tr>\n",
       "  </tbody>\n",
       "</table>\n",
       "</div>"
      ],
      "text/plain": [
       "      country  population      area\n",
       "UK     Англия       56.29    133396\n",
       "CA     Канада       38.05   9984670\n",
       "US        США      322.28   9826630\n",
       "RU     Россия      146.24  17125191\n",
       "UA    Украина       45.50    603628\n",
       "BY   Беларусь        9.50    207600\n",
       "KZ  Казахстан       17.04   2724902"
      ]
     },
     "metadata": {},
     "output_type": "display_data"
    }
   ],
   "source": [
    "# Создание DataFrame из списков с данными, названиями колонок и индексами\n",
    "countries_df = pd.DataFrame(\n",
    "    data = [\n",
    "        ['Англия', 56.29, 133396],\n",
    "        ['Канада', 38.05, 9984670],\n",
    "        ['США', 322.28, 9826630],\n",
    "        ['Россия', 146.24, 17125191],\n",
    "        ['Украина', 45.5, 603628],\n",
    "        ['Беларусь', 9.5, 207600],\n",
    "        ['Казахстан', 17.04, 2724902]\n",
    "        ],\n",
    "    columns = ['country', 'population', 'area'],\n",
    "    index = ['UK', 'CA', 'US', 'RU', 'UA', 'BY', 'KZ']\n",
    "    )\n",
    "display(countries_df)"
   ]
  },
  {
   "cell_type": "code",
   "execution_count": 14,
   "id": "3d19ac54",
   "metadata": {},
   "outputs": [
    {
     "data": {
      "text/plain": [
       "population    9.070000e+01\n",
       "area          5.800860e+06\n",
       "dtype: float64"
      ]
     },
     "execution_count": 14,
     "metadata": {},
     "output_type": "execute_result"
    }
   ],
   "source": [
    "# Считаем среднее значение по строкам\n",
    "countries_df.mean(axis=0, numeric_only=True)"
   ]
  },
  {
   "cell_type": "code",
   "execution_count": 15,
   "id": "71e39ba5",
   "metadata": {},
   "outputs": [
    {
     "data": {
      "text/plain": [
       "UK      66726.145\n",
       "CA    4992354.025\n",
       "US    4913476.140\n",
       "RU    8562668.620\n",
       "UA     301836.750\n",
       "BY     103804.750\n",
       "KZ    1362459.520\n",
       "dtype: float64"
      ]
     },
     "execution_count": 15,
     "metadata": {},
     "output_type": "execute_result"
    }
   ],
   "source": [
    "# Считаем среднее значение по столбцам\n",
    "countries_df.mean(axis=1, numeric_only=True)"
   ]
  },
  {
   "cell_type": "code",
   "execution_count": 16,
   "id": "4679c0ab",
   "metadata": {},
   "outputs": [
    {
     "data": {
      "text/plain": [
       "UK     56.29\n",
       "CA     38.05\n",
       "US    322.28\n",
       "RU    146.24\n",
       "UA     45.50\n",
       "BY      9.50\n",
       "KZ     17.04\n",
       "Name: population, dtype: float64"
      ]
     },
     "execution_count": 16,
     "metadata": {},
     "output_type": "execute_result"
    }
   ],
   "source": [
    "# Извлекаем столбец 'population' из DataFrame\n",
    "countries_df.population"
   ]
  },
  {
   "cell_type": "code",
   "execution_count": 17,
   "id": "ff0d43fe",
   "metadata": {},
   "outputs": [
    {
     "data": {
      "text/plain": [
       "UK     56.29\n",
       "CA     38.05\n",
       "US    322.28\n",
       "RU    146.24\n",
       "UA     45.50\n",
       "BY      9.50\n",
       "KZ     17.04\n",
       "Name: population, dtype: float64"
      ]
     },
     "execution_count": 17,
     "metadata": {},
     "output_type": "execute_result"
    }
   ],
   "source": [
    "# Извлекаем столбец 'population' по индексу из DataFrame\n",
    "countries_df['population']"
   ]
  },
  {
   "cell_type": "code",
   "execution_count": 18,
   "id": "75845c85",
   "metadata": {},
   "outputs": [
    {
     "data": {
      "text/plain": [
       "pandas.core.series.Series"
      ]
     },
     "execution_count": 18,
     "metadata": {},
     "output_type": "execute_result"
    }
   ],
   "source": [
    "# При извлечении столбца DataFrame получаем Series\n",
    "type(countries_df.population)"
   ]
  },
  {
   "cell_type": "code",
   "execution_count": 19,
   "id": "d12255a6",
   "metadata": {},
   "outputs": [
    {
     "name": "stdout",
     "output_type": "stream",
     "text": [
      "Площадь Великобритании:  133396\n"
     ]
    }
   ],
   "source": [
    "# Извлекаем ячейку из DataFrame\n",
    "print('Площадь Великобритании: ', countries_df.loc['UK', 'area'])"
   ]
  },
  {
   "cell_type": "code",
   "execution_count": 20,
   "id": "3e985a1e",
   "metadata": {},
   "outputs": [
    {
     "name": "stdout",
     "output_type": "stream",
     "text": [
      "Население и площадь России:\n",
      "population      146.24\n",
      "area          17125191\n",
      "Name: RU, dtype: object\n"
     ]
    }
   ],
   "source": [
    "# Извлекаем несколько ко ячеек из DataFrame\n",
    "print('Население и площадь России:', countries_df.loc['RU', ['population', 'area']], sep='\\n')"
   ]
  },
  {
   "cell_type": "code",
   "execution_count": 21,
   "id": "b5bc3b25",
   "metadata": {},
   "outputs": [
    {
     "name": "stdout",
     "output_type": "stream",
     "text": [
      "Население и площадь Украины, Беларуси, Казахстана:\n",
      "    population     area\n",
      "UA       45.50   603628\n",
      "BY        9.50   207600\n",
      "KZ       17.04  2724902\n"
     ]
    }
   ],
   "source": [
    "# Делаем вырезку по строкам и столбцам из DataFrame\n",
    "print('Население и площадь Украины, Беларуси, Казахстана:', \n",
    "      countries_df.loc[['UA', 'BY', 'KZ'], ['population', 'area']], sep='\\n')"
   ]
  },
  {
   "cell_type": "code",
   "execution_count": 22,
   "id": "db10e970",
   "metadata": {},
   "outputs": [
    {
     "name": "stdout",
     "output_type": "stream",
     "text": [
      "Население и площадь Украины, Беларуси, Казахстана:\n",
      "    population     area\n",
      "UA       45.50   603628\n",
      "BY        9.50   207600\n",
      "KZ       17.04  2724902\n"
     ]
    }
   ],
   "source": [
    "# Делаем вырезку по строкам и столбцам из DataFrame с помощью iloc\n",
    "print('Население и площадь Украины, Беларуси, Казахстана:', \n",
    "      countries_df.iloc[4:7, 1:3], sep='\\n')"
   ]
  },
  {
   "cell_type": "code",
   "execution_count": 23,
   "id": "b0f1dbe0",
   "metadata": {},
   "outputs": [
    {
     "name": "stdout",
     "output_type": "stream",
     "text": [
      "   A  B\n",
      "0  0  1\n",
      "1  1  0\n",
      "   A  B\n",
      "0  0  1\n",
      "1  1  0\n"
     ]
    }
   ],
   "source": [
    "# Задание 3.4\n",
    "\n",
    "# Создание DataFrame из списков и словаря\n",
    "print(pd.DataFrame(data=[[0, 1], [1, 0]], columns=['A', 'B']))\n",
    "print(pd.DataFrame({'A': [0, 1], 'B': [1, 0]}))"
   ]
  },
  {
   "cell_type": "code",
   "execution_count": 24,
   "id": "6c1e9f53",
   "metadata": {},
   "outputs": [],
   "source": [
    "# Задание 3.5\n",
    "\n",
    "import pandas as pd\n",
    "\n",
    "# Исходные данные\n",
    "income = [478, 512, 196]\n",
    "expenses = [156, 130, 270]\n",
    "years = [2018, 2019, 2020]\n",
    "\n",
    "# Создание DataFrame из данных\n",
    "def create_companyDF(income, expenses, years):\n",
    "    result = pd.DataFrame({\n",
    "        'Income': income,\n",
    "        'Expenses': expenses\n",
    "        }, index=years)\n",
    "    return result\n",
    "\n",
    "# Функция для вычисления прибыли за определенный год\n",
    "def get_profit(df, year):\n",
    "    if year in df.index:\n",
    "        row_year = df.loc[year]\n",
    "        return row_year.Income - row_year.Expenses\n",
    "    return None\n",
    "\n",
    "\n",
    "df = create_companyDF(income, expenses, years) # создание DataFrame\n",
    "\n",
    "# вывод разницы между доходами и расходами за 2020 год\n",
    "# print(get_profit(df, 2020))                    "
   ]
  },
  {
   "cell_type": "markdown",
   "id": "957184df",
   "metadata": {},
   "source": [
    "### 4 юнит"
   ]
  },
  {
   "cell_type": "code",
   "execution_count": 25,
   "id": "b6e681cb",
   "metadata": {},
   "outputs": [],
   "source": [
    "countries_df = pd.DataFrame({\n",
    "    'country': ['Англия', 'Канада', 'США', 'Россия', 'Украина', 'Беларусь', 'Казахстан'],\n",
    "    'population': [56.29, 38.05, 322.28, 146.24, 45.5, 9.5, 17.04],\n",
    "    'area': [133396, 9984670, 9826630, 17125191, 603628, 207600, 2724902]\n",
    "    })\n",
    "\n",
    "# Сохраняем DataFrame в CSV файл\n",
    "countries_df.to_csv('data/countries.csv', sep=';', index=False)"
   ]
  },
  {
   "cell_type": "code",
   "execution_count": 26,
   "id": "8c382ac6",
   "metadata": {},
   "outputs": [
    {
     "data": {
      "text/html": [
       "<div>\n",
       "<style scoped>\n",
       "    .dataframe tbody tr th:only-of-type {\n",
       "        vertical-align: middle;\n",
       "    }\n",
       "\n",
       "    .dataframe tbody tr th {\n",
       "        vertical-align: top;\n",
       "    }\n",
       "\n",
       "    .dataframe thead th {\n",
       "        text-align: right;\n",
       "    }\n",
       "</style>\n",
       "<table border=\"1\" class=\"dataframe\">\n",
       "  <thead>\n",
       "    <tr style=\"text-align: right;\">\n",
       "      <th></th>\n",
       "      <th>country</th>\n",
       "      <th>population</th>\n",
       "      <th>area</th>\n",
       "    </tr>\n",
       "  </thead>\n",
       "  <tbody>\n",
       "    <tr>\n",
       "      <th>0</th>\n",
       "      <td>Англия</td>\n",
       "      <td>56.29</td>\n",
       "      <td>133396</td>\n",
       "    </tr>\n",
       "    <tr>\n",
       "      <th>1</th>\n",
       "      <td>Канада</td>\n",
       "      <td>38.05</td>\n",
       "      <td>9984670</td>\n",
       "    </tr>\n",
       "    <tr>\n",
       "      <th>2</th>\n",
       "      <td>США</td>\n",
       "      <td>322.28</td>\n",
       "      <td>9826630</td>\n",
       "    </tr>\n",
       "    <tr>\n",
       "      <th>3</th>\n",
       "      <td>Россия</td>\n",
       "      <td>146.24</td>\n",
       "      <td>17125191</td>\n",
       "    </tr>\n",
       "    <tr>\n",
       "      <th>4</th>\n",
       "      <td>Украина</td>\n",
       "      <td>45.50</td>\n",
       "      <td>603628</td>\n",
       "    </tr>\n",
       "    <tr>\n",
       "      <th>5</th>\n",
       "      <td>Беларусь</td>\n",
       "      <td>9.50</td>\n",
       "      <td>207600</td>\n",
       "    </tr>\n",
       "    <tr>\n",
       "      <th>6</th>\n",
       "      <td>Казахстан</td>\n",
       "      <td>17.04</td>\n",
       "      <td>2724902</td>\n",
       "    </tr>\n",
       "  </tbody>\n",
       "</table>\n",
       "</div>"
      ],
      "text/plain": [
       "     country  population      area\n",
       "0     Англия       56.29    133396\n",
       "1     Канада       38.05   9984670\n",
       "2        США      322.28   9826630\n",
       "3     Россия      146.24  17125191\n",
       "4    Украина       45.50    603628\n",
       "5   Беларусь        9.50    207600\n",
       "6  Казахстан       17.04   2724902"
      ]
     },
     "metadata": {},
     "output_type": "display_data"
    }
   ],
   "source": [
    "# Читаем и записываем DataFrame из CSV файла\n",
    "countries_data = pd.read_csv('data/countries.csv', sep=';')\n",
    "display(countries_data)"
   ]
  },
  {
   "cell_type": "code",
   "execution_count": 27,
   "id": "5239e5ef",
   "metadata": {},
   "outputs": [
    {
     "data": {
      "text/html": [
       "<div>\n",
       "<style scoped>\n",
       "    .dataframe tbody tr th:only-of-type {\n",
       "        vertical-align: middle;\n",
       "    }\n",
       "\n",
       "    .dataframe tbody tr th {\n",
       "        vertical-align: top;\n",
       "    }\n",
       "\n",
       "    .dataframe thead th {\n",
       "        text-align: right;\n",
       "    }\n",
       "</style>\n",
       "<table border=\"1\" class=\"dataframe\">\n",
       "  <thead>\n",
       "    <tr style=\"text-align: right;\">\n",
       "      <th></th>\n",
       "      <th>Suburb</th>\n",
       "      <th>Address</th>\n",
       "      <th>Rooms</th>\n",
       "      <th>Type</th>\n",
       "      <th>Price</th>\n",
       "      <th>Method</th>\n",
       "      <th>SellerG</th>\n",
       "      <th>Date</th>\n",
       "      <th>Distance</th>\n",
       "      <th>Postcode</th>\n",
       "      <th>...</th>\n",
       "      <th>Bathroom</th>\n",
       "      <th>Car</th>\n",
       "      <th>Landsize</th>\n",
       "      <th>BuildingArea</th>\n",
       "      <th>YearBuilt</th>\n",
       "      <th>CouncilArea</th>\n",
       "      <th>Lattitude</th>\n",
       "      <th>Longtitude</th>\n",
       "      <th>Regionname</th>\n",
       "      <th>Propertycount</th>\n",
       "    </tr>\n",
       "  </thead>\n",
       "  <tbody>\n",
       "    <tr>\n",
       "      <th>1</th>\n",
       "      <td>Abbotsford</td>\n",
       "      <td>85 Turner St</td>\n",
       "      <td>2</td>\n",
       "      <td>h</td>\n",
       "      <td>1480000.0</td>\n",
       "      <td>S</td>\n",
       "      <td>Biggin</td>\n",
       "      <td>3/12/2016</td>\n",
       "      <td>2.5</td>\n",
       "      <td>3067.0</td>\n",
       "      <td>...</td>\n",
       "      <td>1.0</td>\n",
       "      <td>1.0</td>\n",
       "      <td>202.0</td>\n",
       "      <td>NaN</td>\n",
       "      <td>NaN</td>\n",
       "      <td>Yarra</td>\n",
       "      <td>-37.79960</td>\n",
       "      <td>144.99840</td>\n",
       "      <td>Northern Metropolitan</td>\n",
       "      <td>4019.0</td>\n",
       "    </tr>\n",
       "    <tr>\n",
       "      <th>2</th>\n",
       "      <td>Abbotsford</td>\n",
       "      <td>25 Bloomburg St</td>\n",
       "      <td>2</td>\n",
       "      <td>h</td>\n",
       "      <td>1035000.0</td>\n",
       "      <td>S</td>\n",
       "      <td>Biggin</td>\n",
       "      <td>4/02/2016</td>\n",
       "      <td>2.5</td>\n",
       "      <td>3067.0</td>\n",
       "      <td>...</td>\n",
       "      <td>1.0</td>\n",
       "      <td>0.0</td>\n",
       "      <td>156.0</td>\n",
       "      <td>79.0</td>\n",
       "      <td>1900.0</td>\n",
       "      <td>Yarra</td>\n",
       "      <td>-37.80790</td>\n",
       "      <td>144.99340</td>\n",
       "      <td>Northern Metropolitan</td>\n",
       "      <td>4019.0</td>\n",
       "    </tr>\n",
       "    <tr>\n",
       "      <th>4</th>\n",
       "      <td>Abbotsford</td>\n",
       "      <td>5 Charles St</td>\n",
       "      <td>3</td>\n",
       "      <td>h</td>\n",
       "      <td>1465000.0</td>\n",
       "      <td>SP</td>\n",
       "      <td>Biggin</td>\n",
       "      <td>4/03/2017</td>\n",
       "      <td>2.5</td>\n",
       "      <td>3067.0</td>\n",
       "      <td>...</td>\n",
       "      <td>2.0</td>\n",
       "      <td>0.0</td>\n",
       "      <td>134.0</td>\n",
       "      <td>150.0</td>\n",
       "      <td>1900.0</td>\n",
       "      <td>Yarra</td>\n",
       "      <td>-37.80930</td>\n",
       "      <td>144.99440</td>\n",
       "      <td>Northern Metropolitan</td>\n",
       "      <td>4019.0</td>\n",
       "    </tr>\n",
       "    <tr>\n",
       "      <th>5</th>\n",
       "      <td>Abbotsford</td>\n",
       "      <td>40 Federation La</td>\n",
       "      <td>3</td>\n",
       "      <td>h</td>\n",
       "      <td>850000.0</td>\n",
       "      <td>PI</td>\n",
       "      <td>Biggin</td>\n",
       "      <td>4/03/2017</td>\n",
       "      <td>2.5</td>\n",
       "      <td>3067.0</td>\n",
       "      <td>...</td>\n",
       "      <td>2.0</td>\n",
       "      <td>1.0</td>\n",
       "      <td>94.0</td>\n",
       "      <td>NaN</td>\n",
       "      <td>NaN</td>\n",
       "      <td>Yarra</td>\n",
       "      <td>-37.79690</td>\n",
       "      <td>144.99690</td>\n",
       "      <td>Northern Metropolitan</td>\n",
       "      <td>4019.0</td>\n",
       "    </tr>\n",
       "    <tr>\n",
       "      <th>6</th>\n",
       "      <td>Abbotsford</td>\n",
       "      <td>55a Park St</td>\n",
       "      <td>4</td>\n",
       "      <td>h</td>\n",
       "      <td>1600000.0</td>\n",
       "      <td>VB</td>\n",
       "      <td>Nelson</td>\n",
       "      <td>4/06/2016</td>\n",
       "      <td>2.5</td>\n",
       "      <td>3067.0</td>\n",
       "      <td>...</td>\n",
       "      <td>1.0</td>\n",
       "      <td>2.0</td>\n",
       "      <td>120.0</td>\n",
       "      <td>142.0</td>\n",
       "      <td>2014.0</td>\n",
       "      <td>Yarra</td>\n",
       "      <td>-37.80720</td>\n",
       "      <td>144.99410</td>\n",
       "      <td>Northern Metropolitan</td>\n",
       "      <td>4019.0</td>\n",
       "    </tr>\n",
       "    <tr>\n",
       "      <th>...</th>\n",
       "      <td>...</td>\n",
       "      <td>...</td>\n",
       "      <td>...</td>\n",
       "      <td>...</td>\n",
       "      <td>...</td>\n",
       "      <td>...</td>\n",
       "      <td>...</td>\n",
       "      <td>...</td>\n",
       "      <td>...</td>\n",
       "      <td>...</td>\n",
       "      <td>...</td>\n",
       "      <td>...</td>\n",
       "      <td>...</td>\n",
       "      <td>...</td>\n",
       "      <td>...</td>\n",
       "      <td>...</td>\n",
       "      <td>...</td>\n",
       "      <td>...</td>\n",
       "      <td>...</td>\n",
       "      <td>...</td>\n",
       "      <td>...</td>\n",
       "    </tr>\n",
       "    <tr>\n",
       "      <th>23540</th>\n",
       "      <td>Williamstown</td>\n",
       "      <td>8/2 Thompson St</td>\n",
       "      <td>2</td>\n",
       "      <td>t</td>\n",
       "      <td>622500.0</td>\n",
       "      <td>SP</td>\n",
       "      <td>Greg</td>\n",
       "      <td>26/08/2017</td>\n",
       "      <td>6.8</td>\n",
       "      <td>3016.0</td>\n",
       "      <td>...</td>\n",
       "      <td>2.0</td>\n",
       "      <td>1.0</td>\n",
       "      <td>NaN</td>\n",
       "      <td>89.0</td>\n",
       "      <td>2010.0</td>\n",
       "      <td>NaN</td>\n",
       "      <td>-37.86393</td>\n",
       "      <td>144.90484</td>\n",
       "      <td>Western Metropolitan</td>\n",
       "      <td>6380.0</td>\n",
       "    </tr>\n",
       "    <tr>\n",
       "      <th>23541</th>\n",
       "      <td>Williamstown</td>\n",
       "      <td>96 Verdon St</td>\n",
       "      <td>4</td>\n",
       "      <td>h</td>\n",
       "      <td>2500000.0</td>\n",
       "      <td>PI</td>\n",
       "      <td>Sweeney</td>\n",
       "      <td>26/08/2017</td>\n",
       "      <td>6.8</td>\n",
       "      <td>3016.0</td>\n",
       "      <td>...</td>\n",
       "      <td>1.0</td>\n",
       "      <td>5.0</td>\n",
       "      <td>866.0</td>\n",
       "      <td>157.0</td>\n",
       "      <td>1920.0</td>\n",
       "      <td>NaN</td>\n",
       "      <td>-37.85908</td>\n",
       "      <td>144.89299</td>\n",
       "      <td>Western Metropolitan</td>\n",
       "      <td>6380.0</td>\n",
       "    </tr>\n",
       "    <tr>\n",
       "      <th>23544</th>\n",
       "      <td>Yallambie</td>\n",
       "      <td>17 Amaroo Wy</td>\n",
       "      <td>4</td>\n",
       "      <td>h</td>\n",
       "      <td>1100000.0</td>\n",
       "      <td>S</td>\n",
       "      <td>Buckingham</td>\n",
       "      <td>26/08/2017</td>\n",
       "      <td>12.7</td>\n",
       "      <td>3085.0</td>\n",
       "      <td>...</td>\n",
       "      <td>3.0</td>\n",
       "      <td>2.0</td>\n",
       "      <td>NaN</td>\n",
       "      <td>NaN</td>\n",
       "      <td>NaN</td>\n",
       "      <td>NaN</td>\n",
       "      <td>-37.72006</td>\n",
       "      <td>145.10547</td>\n",
       "      <td>Northern Metropolitan</td>\n",
       "      <td>1369.0</td>\n",
       "    </tr>\n",
       "    <tr>\n",
       "      <th>23545</th>\n",
       "      <td>Yarraville</td>\n",
       "      <td>6 Agnes St</td>\n",
       "      <td>4</td>\n",
       "      <td>h</td>\n",
       "      <td>1285000.0</td>\n",
       "      <td>SP</td>\n",
       "      <td>Village</td>\n",
       "      <td>26/08/2017</td>\n",
       "      <td>6.3</td>\n",
       "      <td>3013.0</td>\n",
       "      <td>...</td>\n",
       "      <td>1.0</td>\n",
       "      <td>1.0</td>\n",
       "      <td>362.0</td>\n",
       "      <td>112.0</td>\n",
       "      <td>1920.0</td>\n",
       "      <td>NaN</td>\n",
       "      <td>-37.81188</td>\n",
       "      <td>144.88449</td>\n",
       "      <td>Western Metropolitan</td>\n",
       "      <td>6543.0</td>\n",
       "    </tr>\n",
       "    <tr>\n",
       "      <th>23546</th>\n",
       "      <td>Yarraville</td>\n",
       "      <td>33 Freeman St</td>\n",
       "      <td>4</td>\n",
       "      <td>h</td>\n",
       "      <td>1050000.0</td>\n",
       "      <td>VB</td>\n",
       "      <td>Village</td>\n",
       "      <td>26/08/2017</td>\n",
       "      <td>6.3</td>\n",
       "      <td>3013.0</td>\n",
       "      <td>...</td>\n",
       "      <td>2.0</td>\n",
       "      <td>2.0</td>\n",
       "      <td>NaN</td>\n",
       "      <td>139.0</td>\n",
       "      <td>1950.0</td>\n",
       "      <td>NaN</td>\n",
       "      <td>-37.81829</td>\n",
       "      <td>144.87404</td>\n",
       "      <td>Western Metropolitan</td>\n",
       "      <td>6543.0</td>\n",
       "    </tr>\n",
       "  </tbody>\n",
       "</table>\n",
       "<p>18396 rows × 21 columns</p>\n",
       "</div>"
      ],
      "text/plain": [
       "             Suburb           Address  Rooms Type      Price Method  \\\n",
       "1        Abbotsford      85 Turner St      2    h  1480000.0      S   \n",
       "2        Abbotsford   25 Bloomburg St      2    h  1035000.0      S   \n",
       "4        Abbotsford      5 Charles St      3    h  1465000.0     SP   \n",
       "5        Abbotsford  40 Federation La      3    h   850000.0     PI   \n",
       "6        Abbotsford       55a Park St      4    h  1600000.0     VB   \n",
       "...             ...               ...    ...  ...        ...    ...   \n",
       "23540  Williamstown   8/2 Thompson St      2    t   622500.0     SP   \n",
       "23541  Williamstown      96 Verdon St      4    h  2500000.0     PI   \n",
       "23544     Yallambie      17 Amaroo Wy      4    h  1100000.0      S   \n",
       "23545    Yarraville        6 Agnes St      4    h  1285000.0     SP   \n",
       "23546    Yarraville     33 Freeman St      4    h  1050000.0     VB   \n",
       "\n",
       "          SellerG        Date  Distance  Postcode  ...  Bathroom  Car  \\\n",
       "1          Biggin   3/12/2016       2.5    3067.0  ...       1.0  1.0   \n",
       "2          Biggin   4/02/2016       2.5    3067.0  ...       1.0  0.0   \n",
       "4          Biggin   4/03/2017       2.5    3067.0  ...       2.0  0.0   \n",
       "5          Biggin   4/03/2017       2.5    3067.0  ...       2.0  1.0   \n",
       "6          Nelson   4/06/2016       2.5    3067.0  ...       1.0  2.0   \n",
       "...           ...         ...       ...       ...  ...       ...  ...   \n",
       "23540        Greg  26/08/2017       6.8    3016.0  ...       2.0  1.0   \n",
       "23541     Sweeney  26/08/2017       6.8    3016.0  ...       1.0  5.0   \n",
       "23544  Buckingham  26/08/2017      12.7    3085.0  ...       3.0  2.0   \n",
       "23545     Village  26/08/2017       6.3    3013.0  ...       1.0  1.0   \n",
       "23546     Village  26/08/2017       6.3    3013.0  ...       2.0  2.0   \n",
       "\n",
       "       Landsize  BuildingArea  YearBuilt  CouncilArea Lattitude  Longtitude  \\\n",
       "1         202.0           NaN        NaN        Yarra -37.79960   144.99840   \n",
       "2         156.0          79.0     1900.0        Yarra -37.80790   144.99340   \n",
       "4         134.0         150.0     1900.0        Yarra -37.80930   144.99440   \n",
       "5          94.0           NaN        NaN        Yarra -37.79690   144.99690   \n",
       "6         120.0         142.0     2014.0        Yarra -37.80720   144.99410   \n",
       "...         ...           ...        ...          ...       ...         ...   \n",
       "23540       NaN          89.0     2010.0          NaN -37.86393   144.90484   \n",
       "23541     866.0         157.0     1920.0          NaN -37.85908   144.89299   \n",
       "23544       NaN           NaN        NaN          NaN -37.72006   145.10547   \n",
       "23545     362.0         112.0     1920.0          NaN -37.81188   144.88449   \n",
       "23546       NaN         139.0     1950.0          NaN -37.81829   144.87404   \n",
       "\n",
       "                  Regionname Propertycount  \n",
       "1      Northern Metropolitan        4019.0  \n",
       "2      Northern Metropolitan        4019.0  \n",
       "4      Northern Metropolitan        4019.0  \n",
       "5      Northern Metropolitan        4019.0  \n",
       "6      Northern Metropolitan        4019.0  \n",
       "...                      ...           ...  \n",
       "23540   Western Metropolitan        6380.0  \n",
       "23541   Western Metropolitan        6380.0  \n",
       "23544  Northern Metropolitan        1369.0  \n",
       "23545   Western Metropolitan        6543.0  \n",
       "23546   Western Metropolitan        6543.0  \n",
       "\n",
       "[18396 rows x 21 columns]"
      ]
     },
     "metadata": {},
     "output_type": "display_data"
    }
   ],
   "source": [
    "link = 'https://raw.githubusercontent.com/esabunor/MLWorkspace/master/melb_data.csv'\n",
    "data = pd.read_csv(link, index_col=0)\n",
    "display(data)"
   ]
  },
  {
   "cell_type": "markdown",
   "id": "25611be6",
   "metadata": {},
   "source": [
    "### 5 юнит"
   ]
  },
  {
   "cell_type": "code",
   "execution_count": 28,
   "id": "88ef8915",
   "metadata": {},
   "outputs": [
    {
     "data": {
      "text/html": [
       "<div>\n",
       "<style scoped>\n",
       "    .dataframe tbody tr th:only-of-type {\n",
       "        vertical-align: middle;\n",
       "    }\n",
       "\n",
       "    .dataframe tbody tr th {\n",
       "        vertical-align: top;\n",
       "    }\n",
       "\n",
       "    .dataframe thead th {\n",
       "        text-align: right;\n",
       "    }\n",
       "</style>\n",
       "<table border=\"1\" class=\"dataframe\">\n",
       "  <thead>\n",
       "    <tr style=\"text-align: right;\">\n",
       "      <th></th>\n",
       "      <th>index</th>\n",
       "      <th>Suburb</th>\n",
       "      <th>Address</th>\n",
       "      <th>Rooms</th>\n",
       "      <th>Type</th>\n",
       "      <th>Price</th>\n",
       "      <th>Method</th>\n",
       "      <th>SellerG</th>\n",
       "      <th>Date</th>\n",
       "      <th>Distance</th>\n",
       "      <th>...</th>\n",
       "      <th>Car</th>\n",
       "      <th>Landsize</th>\n",
       "      <th>BuildingArea</th>\n",
       "      <th>YearBuilt</th>\n",
       "      <th>CouncilArea</th>\n",
       "      <th>Lattitude</th>\n",
       "      <th>Longtitude</th>\n",
       "      <th>Regionname</th>\n",
       "      <th>Propertycount</th>\n",
       "      <th>Coordinates</th>\n",
       "    </tr>\n",
       "  </thead>\n",
       "  <tbody>\n",
       "    <tr>\n",
       "      <th>0</th>\n",
       "      <td>0</td>\n",
       "      <td>Abbotsford</td>\n",
       "      <td>85 Turner St</td>\n",
       "      <td>2</td>\n",
       "      <td>h</td>\n",
       "      <td>1480000.0</td>\n",
       "      <td>S</td>\n",
       "      <td>Biggin</td>\n",
       "      <td>3/12/2016</td>\n",
       "      <td>2.5</td>\n",
       "      <td>...</td>\n",
       "      <td>1.0</td>\n",
       "      <td>202.0</td>\n",
       "      <td>126.0</td>\n",
       "      <td>1970.0</td>\n",
       "      <td>Yarra</td>\n",
       "      <td>-37.79960</td>\n",
       "      <td>144.99840</td>\n",
       "      <td>Northern Metropolitan</td>\n",
       "      <td>4019.0</td>\n",
       "      <td>-37.7996, 144.9984</td>\n",
       "    </tr>\n",
       "    <tr>\n",
       "      <th>1</th>\n",
       "      <td>1</td>\n",
       "      <td>Abbotsford</td>\n",
       "      <td>25 Bloomburg St</td>\n",
       "      <td>2</td>\n",
       "      <td>h</td>\n",
       "      <td>1035000.0</td>\n",
       "      <td>S</td>\n",
       "      <td>Biggin</td>\n",
       "      <td>4/02/2016</td>\n",
       "      <td>2.5</td>\n",
       "      <td>...</td>\n",
       "      <td>0.0</td>\n",
       "      <td>156.0</td>\n",
       "      <td>79.0</td>\n",
       "      <td>1900.0</td>\n",
       "      <td>Yarra</td>\n",
       "      <td>-37.80790</td>\n",
       "      <td>144.99340</td>\n",
       "      <td>Northern Metropolitan</td>\n",
       "      <td>4019.0</td>\n",
       "      <td>-37.8079, 144.9934</td>\n",
       "    </tr>\n",
       "    <tr>\n",
       "      <th>2</th>\n",
       "      <td>2</td>\n",
       "      <td>Abbotsford</td>\n",
       "      <td>5 Charles St</td>\n",
       "      <td>3</td>\n",
       "      <td>h</td>\n",
       "      <td>1465000.0</td>\n",
       "      <td>SP</td>\n",
       "      <td>Biggin</td>\n",
       "      <td>4/03/2017</td>\n",
       "      <td>2.5</td>\n",
       "      <td>...</td>\n",
       "      <td>0.0</td>\n",
       "      <td>134.0</td>\n",
       "      <td>150.0</td>\n",
       "      <td>1900.0</td>\n",
       "      <td>Yarra</td>\n",
       "      <td>-37.80930</td>\n",
       "      <td>144.99440</td>\n",
       "      <td>Northern Metropolitan</td>\n",
       "      <td>4019.0</td>\n",
       "      <td>-37.8093, 144.9944</td>\n",
       "    </tr>\n",
       "    <tr>\n",
       "      <th>3</th>\n",
       "      <td>3</td>\n",
       "      <td>Abbotsford</td>\n",
       "      <td>40 Federation La</td>\n",
       "      <td>3</td>\n",
       "      <td>h</td>\n",
       "      <td>850000.0</td>\n",
       "      <td>PI</td>\n",
       "      <td>Biggin</td>\n",
       "      <td>4/03/2017</td>\n",
       "      <td>2.5</td>\n",
       "      <td>...</td>\n",
       "      <td>1.0</td>\n",
       "      <td>94.0</td>\n",
       "      <td>126.0</td>\n",
       "      <td>1970.0</td>\n",
       "      <td>Yarra</td>\n",
       "      <td>-37.79690</td>\n",
       "      <td>144.99690</td>\n",
       "      <td>Northern Metropolitan</td>\n",
       "      <td>4019.0</td>\n",
       "      <td>-37.7969, 144.9969</td>\n",
       "    </tr>\n",
       "    <tr>\n",
       "      <th>4</th>\n",
       "      <td>4</td>\n",
       "      <td>Abbotsford</td>\n",
       "      <td>55a Park St</td>\n",
       "      <td>4</td>\n",
       "      <td>h</td>\n",
       "      <td>1600000.0</td>\n",
       "      <td>VB</td>\n",
       "      <td>Nelson</td>\n",
       "      <td>4/06/2016</td>\n",
       "      <td>2.5</td>\n",
       "      <td>...</td>\n",
       "      <td>2.0</td>\n",
       "      <td>120.0</td>\n",
       "      <td>142.0</td>\n",
       "      <td>2014.0</td>\n",
       "      <td>Yarra</td>\n",
       "      <td>-37.80720</td>\n",
       "      <td>144.99410</td>\n",
       "      <td>Northern Metropolitan</td>\n",
       "      <td>4019.0</td>\n",
       "      <td>-37.8072, 144.9941</td>\n",
       "    </tr>\n",
       "    <tr>\n",
       "      <th>...</th>\n",
       "      <td>...</td>\n",
       "      <td>...</td>\n",
       "      <td>...</td>\n",
       "      <td>...</td>\n",
       "      <td>...</td>\n",
       "      <td>...</td>\n",
       "      <td>...</td>\n",
       "      <td>...</td>\n",
       "      <td>...</td>\n",
       "      <td>...</td>\n",
       "      <td>...</td>\n",
       "      <td>...</td>\n",
       "      <td>...</td>\n",
       "      <td>...</td>\n",
       "      <td>...</td>\n",
       "      <td>...</td>\n",
       "      <td>...</td>\n",
       "      <td>...</td>\n",
       "      <td>...</td>\n",
       "      <td>...</td>\n",
       "      <td>...</td>\n",
       "    </tr>\n",
       "    <tr>\n",
       "      <th>13575</th>\n",
       "      <td>13575</td>\n",
       "      <td>Wheelers Hill</td>\n",
       "      <td>12 Strada Cr</td>\n",
       "      <td>4</td>\n",
       "      <td>h</td>\n",
       "      <td>1245000.0</td>\n",
       "      <td>S</td>\n",
       "      <td>Barry</td>\n",
       "      <td>26/08/2017</td>\n",
       "      <td>16.7</td>\n",
       "      <td>...</td>\n",
       "      <td>2.0</td>\n",
       "      <td>652.0</td>\n",
       "      <td>126.0</td>\n",
       "      <td>1981.0</td>\n",
       "      <td>NaN</td>\n",
       "      <td>-37.90562</td>\n",
       "      <td>145.16761</td>\n",
       "      <td>South-Eastern Metropolitan</td>\n",
       "      <td>7392.0</td>\n",
       "      <td>-37.90562, 145.16761</td>\n",
       "    </tr>\n",
       "    <tr>\n",
       "      <th>13576</th>\n",
       "      <td>13576</td>\n",
       "      <td>Williamstown</td>\n",
       "      <td>77 Merrett Dr</td>\n",
       "      <td>3</td>\n",
       "      <td>h</td>\n",
       "      <td>1031000.0</td>\n",
       "      <td>SP</td>\n",
       "      <td>Williams</td>\n",
       "      <td>26/08/2017</td>\n",
       "      <td>6.8</td>\n",
       "      <td>...</td>\n",
       "      <td>2.0</td>\n",
       "      <td>333.0</td>\n",
       "      <td>133.0</td>\n",
       "      <td>1995.0</td>\n",
       "      <td>NaN</td>\n",
       "      <td>-37.85927</td>\n",
       "      <td>144.87904</td>\n",
       "      <td>Western Metropolitan</td>\n",
       "      <td>6380.0</td>\n",
       "      <td>-37.85927, 144.87904</td>\n",
       "    </tr>\n",
       "    <tr>\n",
       "      <th>13577</th>\n",
       "      <td>13577</td>\n",
       "      <td>Williamstown</td>\n",
       "      <td>83 Power St</td>\n",
       "      <td>3</td>\n",
       "      <td>h</td>\n",
       "      <td>1170000.0</td>\n",
       "      <td>S</td>\n",
       "      <td>Raine</td>\n",
       "      <td>26/08/2017</td>\n",
       "      <td>6.8</td>\n",
       "      <td>...</td>\n",
       "      <td>4.0</td>\n",
       "      <td>436.0</td>\n",
       "      <td>126.0</td>\n",
       "      <td>1997.0</td>\n",
       "      <td>NaN</td>\n",
       "      <td>-37.85274</td>\n",
       "      <td>144.88738</td>\n",
       "      <td>Western Metropolitan</td>\n",
       "      <td>6380.0</td>\n",
       "      <td>-37.85274, 144.88738</td>\n",
       "    </tr>\n",
       "    <tr>\n",
       "      <th>13578</th>\n",
       "      <td>13578</td>\n",
       "      <td>Williamstown</td>\n",
       "      <td>96 Verdon St</td>\n",
       "      <td>4</td>\n",
       "      <td>h</td>\n",
       "      <td>2500000.0</td>\n",
       "      <td>PI</td>\n",
       "      <td>Sweeney</td>\n",
       "      <td>26/08/2017</td>\n",
       "      <td>6.8</td>\n",
       "      <td>...</td>\n",
       "      <td>5.0</td>\n",
       "      <td>866.0</td>\n",
       "      <td>157.0</td>\n",
       "      <td>1920.0</td>\n",
       "      <td>NaN</td>\n",
       "      <td>-37.85908</td>\n",
       "      <td>144.89299</td>\n",
       "      <td>Western Metropolitan</td>\n",
       "      <td>6380.0</td>\n",
       "      <td>-37.85908, 144.89299</td>\n",
       "    </tr>\n",
       "    <tr>\n",
       "      <th>13579</th>\n",
       "      <td>13579</td>\n",
       "      <td>Yarraville</td>\n",
       "      <td>6 Agnes St</td>\n",
       "      <td>4</td>\n",
       "      <td>h</td>\n",
       "      <td>1285000.0</td>\n",
       "      <td>SP</td>\n",
       "      <td>Village</td>\n",
       "      <td>26/08/2017</td>\n",
       "      <td>6.3</td>\n",
       "      <td>...</td>\n",
       "      <td>1.0</td>\n",
       "      <td>362.0</td>\n",
       "      <td>112.0</td>\n",
       "      <td>1920.0</td>\n",
       "      <td>NaN</td>\n",
       "      <td>-37.81188</td>\n",
       "      <td>144.88449</td>\n",
       "      <td>Western Metropolitan</td>\n",
       "      <td>6543.0</td>\n",
       "      <td>-37.81188, 144.88449</td>\n",
       "    </tr>\n",
       "  </tbody>\n",
       "</table>\n",
       "<p>13580 rows × 23 columns</p>\n",
       "</div>"
      ],
      "text/plain": [
       "       index         Suburb           Address  Rooms Type      Price Method  \\\n",
       "0          0     Abbotsford      85 Turner St      2    h  1480000.0      S   \n",
       "1          1     Abbotsford   25 Bloomburg St      2    h  1035000.0      S   \n",
       "2          2     Abbotsford      5 Charles St      3    h  1465000.0     SP   \n",
       "3          3     Abbotsford  40 Federation La      3    h   850000.0     PI   \n",
       "4          4     Abbotsford       55a Park St      4    h  1600000.0     VB   \n",
       "...      ...            ...               ...    ...  ...        ...    ...   \n",
       "13575  13575  Wheelers Hill      12 Strada Cr      4    h  1245000.0      S   \n",
       "13576  13576   Williamstown     77 Merrett Dr      3    h  1031000.0     SP   \n",
       "13577  13577   Williamstown       83 Power St      3    h  1170000.0      S   \n",
       "13578  13578   Williamstown      96 Verdon St      4    h  2500000.0     PI   \n",
       "13579  13579     Yarraville        6 Agnes St      4    h  1285000.0     SP   \n",
       "\n",
       "        SellerG        Date  Distance  ...  Car  Landsize  BuildingArea  \\\n",
       "0        Biggin   3/12/2016       2.5  ...  1.0     202.0         126.0   \n",
       "1        Biggin   4/02/2016       2.5  ...  0.0     156.0          79.0   \n",
       "2        Biggin   4/03/2017       2.5  ...  0.0     134.0         150.0   \n",
       "3        Biggin   4/03/2017       2.5  ...  1.0      94.0         126.0   \n",
       "4        Nelson   4/06/2016       2.5  ...  2.0     120.0         142.0   \n",
       "...         ...         ...       ...  ...  ...       ...           ...   \n",
       "13575     Barry  26/08/2017      16.7  ...  2.0     652.0         126.0   \n",
       "13576  Williams  26/08/2017       6.8  ...  2.0     333.0         133.0   \n",
       "13577     Raine  26/08/2017       6.8  ...  4.0     436.0         126.0   \n",
       "13578   Sweeney  26/08/2017       6.8  ...  5.0     866.0         157.0   \n",
       "13579   Village  26/08/2017       6.3  ...  1.0     362.0         112.0   \n",
       "\n",
       "       YearBuilt  CouncilArea  Lattitude  Longtitude  \\\n",
       "0         1970.0        Yarra  -37.79960   144.99840   \n",
       "1         1900.0        Yarra  -37.80790   144.99340   \n",
       "2         1900.0        Yarra  -37.80930   144.99440   \n",
       "3         1970.0        Yarra  -37.79690   144.99690   \n",
       "4         2014.0        Yarra  -37.80720   144.99410   \n",
       "...          ...          ...        ...         ...   \n",
       "13575     1981.0          NaN  -37.90562   145.16761   \n",
       "13576     1995.0          NaN  -37.85927   144.87904   \n",
       "13577     1997.0          NaN  -37.85274   144.88738   \n",
       "13578     1920.0          NaN  -37.85908   144.89299   \n",
       "13579     1920.0          NaN  -37.81188   144.88449   \n",
       "\n",
       "                       Regionname  Propertycount           Coordinates  \n",
       "0           Northern Metropolitan         4019.0    -37.7996, 144.9984  \n",
       "1           Northern Metropolitan         4019.0    -37.8079, 144.9934  \n",
       "2           Northern Metropolitan         4019.0    -37.8093, 144.9944  \n",
       "3           Northern Metropolitan         4019.0    -37.7969, 144.9969  \n",
       "4           Northern Metropolitan         4019.0    -37.8072, 144.9941  \n",
       "...                           ...            ...                   ...  \n",
       "13575  South-Eastern Metropolitan         7392.0  -37.90562, 145.16761  \n",
       "13576        Western Metropolitan         6380.0  -37.85927, 144.87904  \n",
       "13577        Western Metropolitan         6380.0  -37.85274, 144.88738  \n",
       "13578        Western Metropolitan         6380.0  -37.85908, 144.89299  \n",
       "13579        Western Metropolitan         6543.0  -37.81188, 144.88449  \n",
       "\n",
       "[13580 rows x 23 columns]"
      ]
     },
     "metadata": {},
     "output_type": "display_data"
    }
   ],
   "source": [
    "melb_data = pd.read_csv('data/melb_data.csv', sep=',')\n",
    "display(melb_data)"
   ]
  },
  {
   "cell_type": "code",
   "execution_count": 29,
   "id": "d1f5e794",
   "metadata": {},
   "outputs": [
    {
     "data": {
      "text/plain": [
       "1310000.0"
      ]
     },
     "execution_count": 29,
     "metadata": {},
     "output_type": "execute_result"
    }
   ],
   "source": [
    "# Задание 5.1\n",
    "\n",
    "# Цена объекта недвижимости с индексом 15\n",
    "melb_data.loc[15, 'Price']"
   ]
  },
  {
   "cell_type": "code",
   "execution_count": 30,
   "id": "347b7c45",
   "metadata": {},
   "outputs": [
    {
     "data": {
      "text/plain": [
       "'10/09/2016'"
      ]
     },
     "execution_count": 30,
     "metadata": {},
     "output_type": "execute_result"
    }
   ],
   "source": [
    "# Задание 5.2\n",
    "\n",
    "# Дата продажи объекта недвижимости с индексом 90\n",
    "melb_data.loc[90, 'Date']"
   ]
  },
  {
   "cell_type": "code",
   "execution_count": 31,
   "id": "ad854aa1",
   "metadata": {},
   "outputs": [
    {
     "name": "stdout",
     "output_type": "stream",
     "text": [
      "3\n"
     ]
    }
   ],
   "source": [
    "# Задание 5.3\n",
    "\n",
    "# Во сколько раз больше площадь участка двух объектов недвижимости\n",
    "property1 = melb_data.loc[3521, 'Landsize']\n",
    "property2 = melb_data.loc[1690, 'Landsize']\n",
    "print(round(property1 / property2))"
   ]
  },
  {
   "cell_type": "markdown",
   "id": "2dd6b5e0",
   "metadata": {},
   "source": [
    "### 6 юнит"
   ]
  },
  {
   "cell_type": "code",
   "execution_count": 32,
   "id": "6bdfd10c",
   "metadata": {},
   "outputs": [
    {
     "data": {
      "text/html": [
       "<div>\n",
       "<style scoped>\n",
       "    .dataframe tbody tr th:only-of-type {\n",
       "        vertical-align: middle;\n",
       "    }\n",
       "\n",
       "    .dataframe tbody tr th {\n",
       "        vertical-align: top;\n",
       "    }\n",
       "\n",
       "    .dataframe thead th {\n",
       "        text-align: right;\n",
       "    }\n",
       "</style>\n",
       "<table border=\"1\" class=\"dataframe\">\n",
       "  <thead>\n",
       "    <tr style=\"text-align: right;\">\n",
       "      <th></th>\n",
       "      <th>index</th>\n",
       "      <th>Suburb</th>\n",
       "      <th>Address</th>\n",
       "      <th>Rooms</th>\n",
       "      <th>Type</th>\n",
       "      <th>Price</th>\n",
       "      <th>Method</th>\n",
       "      <th>SellerG</th>\n",
       "      <th>Date</th>\n",
       "      <th>Distance</th>\n",
       "      <th>...</th>\n",
       "      <th>Car</th>\n",
       "      <th>Landsize</th>\n",
       "      <th>BuildingArea</th>\n",
       "      <th>YearBuilt</th>\n",
       "      <th>CouncilArea</th>\n",
       "      <th>Lattitude</th>\n",
       "      <th>Longtitude</th>\n",
       "      <th>Regionname</th>\n",
       "      <th>Propertycount</th>\n",
       "      <th>Coordinates</th>\n",
       "    </tr>\n",
       "  </thead>\n",
       "  <tbody>\n",
       "    <tr>\n",
       "      <th>0</th>\n",
       "      <td>0</td>\n",
       "      <td>Abbotsford</td>\n",
       "      <td>85 Turner St</td>\n",
       "      <td>2</td>\n",
       "      <td>h</td>\n",
       "      <td>1480000.0</td>\n",
       "      <td>S</td>\n",
       "      <td>Biggin</td>\n",
       "      <td>3/12/2016</td>\n",
       "      <td>2.5</td>\n",
       "      <td>...</td>\n",
       "      <td>1.0</td>\n",
       "      <td>202.0</td>\n",
       "      <td>126.0</td>\n",
       "      <td>1970.0</td>\n",
       "      <td>Yarra</td>\n",
       "      <td>-37.7996</td>\n",
       "      <td>144.9984</td>\n",
       "      <td>Northern Metropolitan</td>\n",
       "      <td>4019.0</td>\n",
       "      <td>-37.7996, 144.9984</td>\n",
       "    </tr>\n",
       "    <tr>\n",
       "      <th>1</th>\n",
       "      <td>1</td>\n",
       "      <td>Abbotsford</td>\n",
       "      <td>25 Bloomburg St</td>\n",
       "      <td>2</td>\n",
       "      <td>h</td>\n",
       "      <td>1035000.0</td>\n",
       "      <td>S</td>\n",
       "      <td>Biggin</td>\n",
       "      <td>4/02/2016</td>\n",
       "      <td>2.5</td>\n",
       "      <td>...</td>\n",
       "      <td>0.0</td>\n",
       "      <td>156.0</td>\n",
       "      <td>79.0</td>\n",
       "      <td>1900.0</td>\n",
       "      <td>Yarra</td>\n",
       "      <td>-37.8079</td>\n",
       "      <td>144.9934</td>\n",
       "      <td>Northern Metropolitan</td>\n",
       "      <td>4019.0</td>\n",
       "      <td>-37.8079, 144.9934</td>\n",
       "    </tr>\n",
       "    <tr>\n",
       "      <th>2</th>\n",
       "      <td>2</td>\n",
       "      <td>Abbotsford</td>\n",
       "      <td>5 Charles St</td>\n",
       "      <td>3</td>\n",
       "      <td>h</td>\n",
       "      <td>1465000.0</td>\n",
       "      <td>SP</td>\n",
       "      <td>Biggin</td>\n",
       "      <td>4/03/2017</td>\n",
       "      <td>2.5</td>\n",
       "      <td>...</td>\n",
       "      <td>0.0</td>\n",
       "      <td>134.0</td>\n",
       "      <td>150.0</td>\n",
       "      <td>1900.0</td>\n",
       "      <td>Yarra</td>\n",
       "      <td>-37.8093</td>\n",
       "      <td>144.9944</td>\n",
       "      <td>Northern Metropolitan</td>\n",
       "      <td>4019.0</td>\n",
       "      <td>-37.8093, 144.9944</td>\n",
       "    </tr>\n",
       "    <tr>\n",
       "      <th>3</th>\n",
       "      <td>3</td>\n",
       "      <td>Abbotsford</td>\n",
       "      <td>40 Federation La</td>\n",
       "      <td>3</td>\n",
       "      <td>h</td>\n",
       "      <td>850000.0</td>\n",
       "      <td>PI</td>\n",
       "      <td>Biggin</td>\n",
       "      <td>4/03/2017</td>\n",
       "      <td>2.5</td>\n",
       "      <td>...</td>\n",
       "      <td>1.0</td>\n",
       "      <td>94.0</td>\n",
       "      <td>126.0</td>\n",
       "      <td>1970.0</td>\n",
       "      <td>Yarra</td>\n",
       "      <td>-37.7969</td>\n",
       "      <td>144.9969</td>\n",
       "      <td>Northern Metropolitan</td>\n",
       "      <td>4019.0</td>\n",
       "      <td>-37.7969, 144.9969</td>\n",
       "    </tr>\n",
       "    <tr>\n",
       "      <th>4</th>\n",
       "      <td>4</td>\n",
       "      <td>Abbotsford</td>\n",
       "      <td>55a Park St</td>\n",
       "      <td>4</td>\n",
       "      <td>h</td>\n",
       "      <td>1600000.0</td>\n",
       "      <td>VB</td>\n",
       "      <td>Nelson</td>\n",
       "      <td>4/06/2016</td>\n",
       "      <td>2.5</td>\n",
       "      <td>...</td>\n",
       "      <td>2.0</td>\n",
       "      <td>120.0</td>\n",
       "      <td>142.0</td>\n",
       "      <td>2014.0</td>\n",
       "      <td>Yarra</td>\n",
       "      <td>-37.8072</td>\n",
       "      <td>144.9941</td>\n",
       "      <td>Northern Metropolitan</td>\n",
       "      <td>4019.0</td>\n",
       "      <td>-37.8072, 144.9941</td>\n",
       "    </tr>\n",
       "  </tbody>\n",
       "</table>\n",
       "<p>5 rows × 23 columns</p>\n",
       "</div>"
      ],
      "text/plain": [
       "   index      Suburb           Address  Rooms Type      Price Method SellerG  \\\n",
       "0      0  Abbotsford      85 Turner St      2    h  1480000.0      S  Biggin   \n",
       "1      1  Abbotsford   25 Bloomburg St      2    h  1035000.0      S  Biggin   \n",
       "2      2  Abbotsford      5 Charles St      3    h  1465000.0     SP  Biggin   \n",
       "3      3  Abbotsford  40 Federation La      3    h   850000.0     PI  Biggin   \n",
       "4      4  Abbotsford       55a Park St      4    h  1600000.0     VB  Nelson   \n",
       "\n",
       "        Date  Distance  ...  Car  Landsize  BuildingArea  YearBuilt  \\\n",
       "0  3/12/2016       2.5  ...  1.0     202.0         126.0     1970.0   \n",
       "1  4/02/2016       2.5  ...  0.0     156.0          79.0     1900.0   \n",
       "2  4/03/2017       2.5  ...  0.0     134.0         150.0     1900.0   \n",
       "3  4/03/2017       2.5  ...  1.0      94.0         126.0     1970.0   \n",
       "4  4/06/2016       2.5  ...  2.0     120.0         142.0     2014.0   \n",
       "\n",
       "   CouncilArea  Lattitude  Longtitude             Regionname  Propertycount  \\\n",
       "0        Yarra   -37.7996    144.9984  Northern Metropolitan         4019.0   \n",
       "1        Yarra   -37.8079    144.9934  Northern Metropolitan         4019.0   \n",
       "2        Yarra   -37.8093    144.9944  Northern Metropolitan         4019.0   \n",
       "3        Yarra   -37.7969    144.9969  Northern Metropolitan         4019.0   \n",
       "4        Yarra   -37.8072    144.9941  Northern Metropolitan         4019.0   \n",
       "\n",
       "          Coordinates  \n",
       "0  -37.7996, 144.9984  \n",
       "1  -37.8079, 144.9934  \n",
       "2  -37.8093, 144.9944  \n",
       "3  -37.7969, 144.9969  \n",
       "4  -37.8072, 144.9941  \n",
       "\n",
       "[5 rows x 23 columns]"
      ]
     },
     "metadata": {},
     "output_type": "display_data"
    }
   ],
   "source": [
    "# Вывод первых 5 строк DataFrame\n",
    "display(melb_data.head())"
   ]
  },
  {
   "cell_type": "code",
   "execution_count": 33,
   "id": "4b6b6257",
   "metadata": {},
   "outputs": [
    {
     "data": {
      "text/html": [
       "<div>\n",
       "<style scoped>\n",
       "    .dataframe tbody tr th:only-of-type {\n",
       "        vertical-align: middle;\n",
       "    }\n",
       "\n",
       "    .dataframe tbody tr th {\n",
       "        vertical-align: top;\n",
       "    }\n",
       "\n",
       "    .dataframe thead th {\n",
       "        text-align: right;\n",
       "    }\n",
       "</style>\n",
       "<table border=\"1\" class=\"dataframe\">\n",
       "  <thead>\n",
       "    <tr style=\"text-align: right;\">\n",
       "      <th></th>\n",
       "      <th>index</th>\n",
       "      <th>Suburb</th>\n",
       "      <th>Address</th>\n",
       "      <th>Rooms</th>\n",
       "      <th>Type</th>\n",
       "      <th>Price</th>\n",
       "      <th>Method</th>\n",
       "      <th>SellerG</th>\n",
       "      <th>Date</th>\n",
       "      <th>Distance</th>\n",
       "      <th>...</th>\n",
       "      <th>Car</th>\n",
       "      <th>Landsize</th>\n",
       "      <th>BuildingArea</th>\n",
       "      <th>YearBuilt</th>\n",
       "      <th>CouncilArea</th>\n",
       "      <th>Lattitude</th>\n",
       "      <th>Longtitude</th>\n",
       "      <th>Regionname</th>\n",
       "      <th>Propertycount</th>\n",
       "      <th>Coordinates</th>\n",
       "    </tr>\n",
       "  </thead>\n",
       "  <tbody>\n",
       "    <tr>\n",
       "      <th>13573</th>\n",
       "      <td>13573</td>\n",
       "      <td>Werribee</td>\n",
       "      <td>5 Nuragi Ct</td>\n",
       "      <td>4</td>\n",
       "      <td>h</td>\n",
       "      <td>635000.0</td>\n",
       "      <td>S</td>\n",
       "      <td>hockingstuart</td>\n",
       "      <td>26/08/2017</td>\n",
       "      <td>14.7</td>\n",
       "      <td>...</td>\n",
       "      <td>1.0</td>\n",
       "      <td>662.0</td>\n",
       "      <td>172.0</td>\n",
       "      <td>1980.0</td>\n",
       "      <td>NaN</td>\n",
       "      <td>-37.89327</td>\n",
       "      <td>144.64789</td>\n",
       "      <td>Western Metropolitan</td>\n",
       "      <td>16166.0</td>\n",
       "      <td>-37.89327, 144.64789</td>\n",
       "    </tr>\n",
       "    <tr>\n",
       "      <th>13574</th>\n",
       "      <td>13574</td>\n",
       "      <td>Westmeadows</td>\n",
       "      <td>9 Black St</td>\n",
       "      <td>3</td>\n",
       "      <td>h</td>\n",
       "      <td>582000.0</td>\n",
       "      <td>S</td>\n",
       "      <td>Red</td>\n",
       "      <td>26/08/2017</td>\n",
       "      <td>16.5</td>\n",
       "      <td>...</td>\n",
       "      <td>2.0</td>\n",
       "      <td>256.0</td>\n",
       "      <td>126.0</td>\n",
       "      <td>1970.0</td>\n",
       "      <td>NaN</td>\n",
       "      <td>-37.67917</td>\n",
       "      <td>144.89390</td>\n",
       "      <td>Northern Metropolitan</td>\n",
       "      <td>2474.0</td>\n",
       "      <td>-37.67917, 144.8939</td>\n",
       "    </tr>\n",
       "    <tr>\n",
       "      <th>13575</th>\n",
       "      <td>13575</td>\n",
       "      <td>Wheelers Hill</td>\n",
       "      <td>12 Strada Cr</td>\n",
       "      <td>4</td>\n",
       "      <td>h</td>\n",
       "      <td>1245000.0</td>\n",
       "      <td>S</td>\n",
       "      <td>Barry</td>\n",
       "      <td>26/08/2017</td>\n",
       "      <td>16.7</td>\n",
       "      <td>...</td>\n",
       "      <td>2.0</td>\n",
       "      <td>652.0</td>\n",
       "      <td>126.0</td>\n",
       "      <td>1981.0</td>\n",
       "      <td>NaN</td>\n",
       "      <td>-37.90562</td>\n",
       "      <td>145.16761</td>\n",
       "      <td>South-Eastern Metropolitan</td>\n",
       "      <td>7392.0</td>\n",
       "      <td>-37.90562, 145.16761</td>\n",
       "    </tr>\n",
       "    <tr>\n",
       "      <th>13576</th>\n",
       "      <td>13576</td>\n",
       "      <td>Williamstown</td>\n",
       "      <td>77 Merrett Dr</td>\n",
       "      <td>3</td>\n",
       "      <td>h</td>\n",
       "      <td>1031000.0</td>\n",
       "      <td>SP</td>\n",
       "      <td>Williams</td>\n",
       "      <td>26/08/2017</td>\n",
       "      <td>6.8</td>\n",
       "      <td>...</td>\n",
       "      <td>2.0</td>\n",
       "      <td>333.0</td>\n",
       "      <td>133.0</td>\n",
       "      <td>1995.0</td>\n",
       "      <td>NaN</td>\n",
       "      <td>-37.85927</td>\n",
       "      <td>144.87904</td>\n",
       "      <td>Western Metropolitan</td>\n",
       "      <td>6380.0</td>\n",
       "      <td>-37.85927, 144.87904</td>\n",
       "    </tr>\n",
       "    <tr>\n",
       "      <th>13577</th>\n",
       "      <td>13577</td>\n",
       "      <td>Williamstown</td>\n",
       "      <td>83 Power St</td>\n",
       "      <td>3</td>\n",
       "      <td>h</td>\n",
       "      <td>1170000.0</td>\n",
       "      <td>S</td>\n",
       "      <td>Raine</td>\n",
       "      <td>26/08/2017</td>\n",
       "      <td>6.8</td>\n",
       "      <td>...</td>\n",
       "      <td>4.0</td>\n",
       "      <td>436.0</td>\n",
       "      <td>126.0</td>\n",
       "      <td>1997.0</td>\n",
       "      <td>NaN</td>\n",
       "      <td>-37.85274</td>\n",
       "      <td>144.88738</td>\n",
       "      <td>Western Metropolitan</td>\n",
       "      <td>6380.0</td>\n",
       "      <td>-37.85274, 144.88738</td>\n",
       "    </tr>\n",
       "    <tr>\n",
       "      <th>13578</th>\n",
       "      <td>13578</td>\n",
       "      <td>Williamstown</td>\n",
       "      <td>96 Verdon St</td>\n",
       "      <td>4</td>\n",
       "      <td>h</td>\n",
       "      <td>2500000.0</td>\n",
       "      <td>PI</td>\n",
       "      <td>Sweeney</td>\n",
       "      <td>26/08/2017</td>\n",
       "      <td>6.8</td>\n",
       "      <td>...</td>\n",
       "      <td>5.0</td>\n",
       "      <td>866.0</td>\n",
       "      <td>157.0</td>\n",
       "      <td>1920.0</td>\n",
       "      <td>NaN</td>\n",
       "      <td>-37.85908</td>\n",
       "      <td>144.89299</td>\n",
       "      <td>Western Metropolitan</td>\n",
       "      <td>6380.0</td>\n",
       "      <td>-37.85908, 144.89299</td>\n",
       "    </tr>\n",
       "    <tr>\n",
       "      <th>13579</th>\n",
       "      <td>13579</td>\n",
       "      <td>Yarraville</td>\n",
       "      <td>6 Agnes St</td>\n",
       "      <td>4</td>\n",
       "      <td>h</td>\n",
       "      <td>1285000.0</td>\n",
       "      <td>SP</td>\n",
       "      <td>Village</td>\n",
       "      <td>26/08/2017</td>\n",
       "      <td>6.3</td>\n",
       "      <td>...</td>\n",
       "      <td>1.0</td>\n",
       "      <td>362.0</td>\n",
       "      <td>112.0</td>\n",
       "      <td>1920.0</td>\n",
       "      <td>NaN</td>\n",
       "      <td>-37.81188</td>\n",
       "      <td>144.88449</td>\n",
       "      <td>Western Metropolitan</td>\n",
       "      <td>6543.0</td>\n",
       "      <td>-37.81188, 144.88449</td>\n",
       "    </tr>\n",
       "  </tbody>\n",
       "</table>\n",
       "<p>7 rows × 23 columns</p>\n",
       "</div>"
      ],
      "text/plain": [
       "       index         Suburb        Address  Rooms Type      Price Method  \\\n",
       "13573  13573       Werribee    5 Nuragi Ct      4    h   635000.0      S   \n",
       "13574  13574    Westmeadows     9 Black St      3    h   582000.0      S   \n",
       "13575  13575  Wheelers Hill   12 Strada Cr      4    h  1245000.0      S   \n",
       "13576  13576   Williamstown  77 Merrett Dr      3    h  1031000.0     SP   \n",
       "13577  13577   Williamstown    83 Power St      3    h  1170000.0      S   \n",
       "13578  13578   Williamstown   96 Verdon St      4    h  2500000.0     PI   \n",
       "13579  13579     Yarraville     6 Agnes St      4    h  1285000.0     SP   \n",
       "\n",
       "             SellerG        Date  Distance  ...  Car  Landsize  BuildingArea  \\\n",
       "13573  hockingstuart  26/08/2017      14.7  ...  1.0     662.0         172.0   \n",
       "13574            Red  26/08/2017      16.5  ...  2.0     256.0         126.0   \n",
       "13575          Barry  26/08/2017      16.7  ...  2.0     652.0         126.0   \n",
       "13576       Williams  26/08/2017       6.8  ...  2.0     333.0         133.0   \n",
       "13577          Raine  26/08/2017       6.8  ...  4.0     436.0         126.0   \n",
       "13578        Sweeney  26/08/2017       6.8  ...  5.0     866.0         157.0   \n",
       "13579        Village  26/08/2017       6.3  ...  1.0     362.0         112.0   \n",
       "\n",
       "       YearBuilt  CouncilArea  Lattitude  Longtitude  \\\n",
       "13573     1980.0          NaN  -37.89327   144.64789   \n",
       "13574     1970.0          NaN  -37.67917   144.89390   \n",
       "13575     1981.0          NaN  -37.90562   145.16761   \n",
       "13576     1995.0          NaN  -37.85927   144.87904   \n",
       "13577     1997.0          NaN  -37.85274   144.88738   \n",
       "13578     1920.0          NaN  -37.85908   144.89299   \n",
       "13579     1920.0          NaN  -37.81188   144.88449   \n",
       "\n",
       "                       Regionname  Propertycount           Coordinates  \n",
       "13573        Western Metropolitan        16166.0  -37.89327, 144.64789  \n",
       "13574       Northern Metropolitan         2474.0   -37.67917, 144.8939  \n",
       "13575  South-Eastern Metropolitan         7392.0  -37.90562, 145.16761  \n",
       "13576        Western Metropolitan         6380.0  -37.85927, 144.87904  \n",
       "13577        Western Metropolitan         6380.0  -37.85274, 144.88738  \n",
       "13578        Western Metropolitan         6380.0  -37.85908, 144.89299  \n",
       "13579        Western Metropolitan         6543.0  -37.81188, 144.88449  \n",
       "\n",
       "[7 rows x 23 columns]"
      ]
     },
     "metadata": {},
     "output_type": "display_data"
    }
   ],
   "source": [
    "# Вывод 7 последних строк DataFrame\n",
    "display(melb_data.tail(7))"
   ]
  },
  {
   "cell_type": "code",
   "execution_count": 34,
   "id": "9880f74a",
   "metadata": {},
   "outputs": [
    {
     "data": {
      "text/html": [
       "<div>\n",
       "<style scoped>\n",
       "    .dataframe tbody tr th:only-of-type {\n",
       "        vertical-align: middle;\n",
       "    }\n",
       "\n",
       "    .dataframe tbody tr th {\n",
       "        vertical-align: top;\n",
       "    }\n",
       "\n",
       "    .dataframe thead th {\n",
       "        text-align: right;\n",
       "    }\n",
       "</style>\n",
       "<table border=\"1\" class=\"dataframe\">\n",
       "  <thead>\n",
       "    <tr style=\"text-align: right;\">\n",
       "      <th></th>\n",
       "      <th>index</th>\n",
       "      <th>Suburb</th>\n",
       "      <th>Address</th>\n",
       "      <th>Rooms</th>\n",
       "      <th>Type</th>\n",
       "      <th>Price</th>\n",
       "      <th>Method</th>\n",
       "      <th>SellerG</th>\n",
       "      <th>Date</th>\n",
       "      <th>Distance</th>\n",
       "      <th>...</th>\n",
       "      <th>Car</th>\n",
       "      <th>Landsize</th>\n",
       "      <th>BuildingArea</th>\n",
       "      <th>YearBuilt</th>\n",
       "      <th>CouncilArea</th>\n",
       "      <th>Lattitude</th>\n",
       "      <th>Longtitude</th>\n",
       "      <th>Regionname</th>\n",
       "      <th>Propertycount</th>\n",
       "      <th>Coordinates</th>\n",
       "    </tr>\n",
       "  </thead>\n",
       "  <tbody>\n",
       "    <tr>\n",
       "      <th>8772</th>\n",
       "      <td>8772</td>\n",
       "      <td>Cheltenham</td>\n",
       "      <td>4/3 MacKenzie St</td>\n",
       "      <td>2</td>\n",
       "      <td>u</td>\n",
       "      <td>425000.0</td>\n",
       "      <td>S</td>\n",
       "      <td>Purplebricks</td>\n",
       "      <td>1/07/2017</td>\n",
       "      <td>17.9</td>\n",
       "      <td>...</td>\n",
       "      <td>1.0</td>\n",
       "      <td>0.0</td>\n",
       "      <td>126.0</td>\n",
       "      <td>1970.0</td>\n",
       "      <td>Bayside</td>\n",
       "      <td>-37.97143</td>\n",
       "      <td>145.05219</td>\n",
       "      <td>Southern Metropolitan</td>\n",
       "      <td>9758.0</td>\n",
       "      <td>-37.97143, 145.05219</td>\n",
       "    </tr>\n",
       "  </tbody>\n",
       "</table>\n",
       "<p>1 rows × 23 columns</p>\n",
       "</div>"
      ],
      "text/plain": [
       "      index      Suburb           Address  Rooms Type     Price Method  \\\n",
       "8772   8772  Cheltenham  4/3 MacKenzie St      2    u  425000.0      S   \n",
       "\n",
       "           SellerG       Date  Distance  ...  Car  Landsize  BuildingArea  \\\n",
       "8772  Purplebricks  1/07/2017      17.9  ...  1.0       0.0         126.0   \n",
       "\n",
       "      YearBuilt  CouncilArea  Lattitude  Longtitude             Regionname  \\\n",
       "8772     1970.0      Bayside  -37.97143   145.05219  Southern Metropolitan   \n",
       "\n",
       "      Propertycount           Coordinates  \n",
       "8772         9758.0  -37.97143, 145.05219  \n",
       "\n",
       "[1 rows x 23 columns]"
      ]
     },
     "metadata": {},
     "output_type": "display_data"
    }
   ],
   "source": [
    "# Вывод случайной строки DataFrame\n",
    "display(melb_data.sample())"
   ]
  },
  {
   "cell_type": "code",
   "execution_count": 35,
   "id": "3f96c96a",
   "metadata": {},
   "outputs": [
    {
     "data": {
      "text/plain": [
       "(13580, 23)"
      ]
     },
     "execution_count": 35,
     "metadata": {},
     "output_type": "execute_result"
    }
   ],
   "source": [
    "# Вывод размера DataFrame\n",
    "melb_data.shape"
   ]
  },
  {
   "cell_type": "code",
   "execution_count": 36,
   "id": "db533183",
   "metadata": {},
   "outputs": [
    {
     "name": "stdout",
     "output_type": "stream",
     "text": [
      "<class 'pandas.core.frame.DataFrame'>\n",
      "RangeIndex: 13580 entries, 0 to 13579\n",
      "Data columns (total 23 columns):\n",
      " #   Column         Non-Null Count  Dtype  \n",
      "---  ------         --------------  -----  \n",
      " 0   index          13580 non-null  int64  \n",
      " 1   Suburb         13580 non-null  object \n",
      " 2   Address        13580 non-null  object \n",
      " 3   Rooms          13580 non-null  int64  \n",
      " 4   Type           13580 non-null  object \n",
      " 5   Price          13580 non-null  float64\n",
      " 6   Method         13580 non-null  object \n",
      " 7   SellerG        13580 non-null  object \n",
      " 8   Date           13580 non-null  object \n",
      " 9   Distance       13580 non-null  float64\n",
      " 10  Postcode       13580 non-null  int64  \n",
      " 11  Bedroom        13580 non-null  float64\n",
      " 12  Bathroom       13580 non-null  float64\n",
      " 13  Car            13580 non-null  float64\n",
      " 14  Landsize       13580 non-null  float64\n",
      " 15  BuildingArea   13580 non-null  float64\n",
      " 16  YearBuilt      13580 non-null  float64\n",
      " 17  CouncilArea    12211 non-null  object \n",
      " 18  Lattitude      13580 non-null  float64\n",
      " 19  Longtitude     13580 non-null  float64\n",
      " 20  Regionname     13580 non-null  object \n",
      " 21  Propertycount  13580 non-null  float64\n",
      " 22  Coordinates    13580 non-null  object \n",
      "dtypes: float64(11), int64(3), object(9)\n",
      "memory usage: 2.4+ MB\n"
     ]
    }
   ],
   "source": [
    "# Вывод детальной информации о DataFrame\n",
    "melb_data.info()"
   ]
  },
  {
   "cell_type": "code",
   "execution_count": 37,
   "id": "aac06748",
   "metadata": {},
   "outputs": [
    {
     "data": {
      "text/plain": [
       "Index(['index', 'Suburb', 'Address', 'Rooms', 'Type', 'Price', 'Method',\n",
       "       'SellerG', 'Date', 'Distance', 'Postcode', 'Bedroom', 'Bathroom', 'Car',\n",
       "       'Landsize', 'BuildingArea', 'YearBuilt', 'CouncilArea', 'Lattitude',\n",
       "       'Longtitude', 'Regionname', 'Propertycount', 'Coordinates'],\n",
       "      dtype='object')"
      ]
     },
     "execution_count": 37,
     "metadata": {},
     "output_type": "execute_result"
    }
   ],
   "source": [
    "# Вывод списка колонок DataFrame\n",
    "melb_data.columns"
   ]
  },
  {
   "cell_type": "code",
   "execution_count": 38,
   "id": "9fbd518c",
   "metadata": {},
   "outputs": [
    {
     "name": "stdout",
     "output_type": "stream",
     "text": [
      "<class 'pandas.core.frame.DataFrame'>\n",
      "RangeIndex: 13580 entries, 0 to 13579\n",
      "Data columns (total 23 columns):\n",
      " #   Column         Non-Null Count  Dtype  \n",
      "---  ------         --------------  -----  \n",
      " 0   index          13580 non-null  int64  \n",
      " 1   Suburb         13580 non-null  object \n",
      " 2   Address        13580 non-null  object \n",
      " 3   Rooms          13580 non-null  int64  \n",
      " 4   Type           13580 non-null  object \n",
      " 5   Price          13580 non-null  float64\n",
      " 6   Method         13580 non-null  object \n",
      " 7   SellerG        13580 non-null  object \n",
      " 8   Date           13580 non-null  object \n",
      " 9   Distance       13580 non-null  float64\n",
      " 10  Postcode       13580 non-null  int64  \n",
      " 11  Bedroom        13580 non-null  int64  \n",
      " 12  Bathroom       13580 non-null  int64  \n",
      " 13  Car            13580 non-null  int64  \n",
      " 14  Landsize       13580 non-null  float64\n",
      " 15  BuildingArea   13580 non-null  float64\n",
      " 16  YearBuilt      13580 non-null  int64  \n",
      " 17  CouncilArea    12211 non-null  object \n",
      " 18  Lattitude      13580 non-null  float64\n",
      " 19  Longtitude     13580 non-null  float64\n",
      " 20  Regionname     13580 non-null  object \n",
      " 21  Propertycount  13580 non-null  int64  \n",
      " 22  Coordinates    13580 non-null  object \n",
      "dtypes: float64(6), int64(8), object(9)\n",
      "memory usage: 2.4+ MB\n"
     ]
    }
   ],
   "source": [
    "# Меняем тип данных в колонках на более подходящий\n",
    "melb_data['Car'] = melb_data['Car'].astype('int64')\n",
    "melb_data['Bedroom'] = melb_data['Bedroom'].astype('int64')\n",
    "melb_data['Bathroom'] = melb_data['Bathroom'].astype('int64')\n",
    "melb_data['Propertycount'] = melb_data['Propertycount'].astype('int64')\n",
    "melb_data['YearBuilt'] = melb_data['YearBuilt'].astype('int64')\n",
    "melb_data.info()"
   ]
  },
  {
   "cell_type": "code",
   "execution_count": 39,
   "id": "80a6152b",
   "metadata": {},
   "outputs": [
    {
     "data": {
      "text/html": [
       "<div>\n",
       "<style scoped>\n",
       "    .dataframe tbody tr th:only-of-type {\n",
       "        vertical-align: middle;\n",
       "    }\n",
       "\n",
       "    .dataframe tbody tr th {\n",
       "        vertical-align: top;\n",
       "    }\n",
       "\n",
       "    .dataframe thead th {\n",
       "        text-align: right;\n",
       "    }\n",
       "</style>\n",
       "<table border=\"1\" class=\"dataframe\">\n",
       "  <thead>\n",
       "    <tr style=\"text-align: right;\">\n",
       "      <th></th>\n",
       "      <th>index</th>\n",
       "      <th>Rooms</th>\n",
       "      <th>Price</th>\n",
       "      <th>Distance</th>\n",
       "      <th>Postcode</th>\n",
       "      <th>Bedroom</th>\n",
       "      <th>Bathroom</th>\n",
       "      <th>Car</th>\n",
       "      <th>Landsize</th>\n",
       "      <th>BuildingArea</th>\n",
       "      <th>YearBuilt</th>\n",
       "      <th>Lattitude</th>\n",
       "      <th>Longtitude</th>\n",
       "      <th>Propertycount</th>\n",
       "    </tr>\n",
       "  </thead>\n",
       "  <tbody>\n",
       "    <tr>\n",
       "      <th>count</th>\n",
       "      <td>13580.000000</td>\n",
       "      <td>13580.000000</td>\n",
       "      <td>1.358000e+04</td>\n",
       "      <td>13580.000000</td>\n",
       "      <td>13580.000000</td>\n",
       "      <td>13580.000000</td>\n",
       "      <td>13580.000000</td>\n",
       "      <td>13580.000000</td>\n",
       "      <td>13580.000000</td>\n",
       "      <td>13580.000000</td>\n",
       "      <td>13580.000000</td>\n",
       "      <td>13580.000000</td>\n",
       "      <td>13580.000000</td>\n",
       "      <td>13580.000000</td>\n",
       "    </tr>\n",
       "    <tr>\n",
       "      <th>mean</th>\n",
       "      <td>6789.500000</td>\n",
       "      <td>2.937997</td>\n",
       "      <td>1.075684e+06</td>\n",
       "      <td>10.137776</td>\n",
       "      <td>3105.301915</td>\n",
       "      <td>2.914728</td>\n",
       "      <td>1.534242</td>\n",
       "      <td>1.611856</td>\n",
       "      <td>558.416127</td>\n",
       "      <td>139.633972</td>\n",
       "      <td>1966.788218</td>\n",
       "      <td>-37.809203</td>\n",
       "      <td>144.995216</td>\n",
       "      <td>7454.417378</td>\n",
       "    </tr>\n",
       "    <tr>\n",
       "      <th>std</th>\n",
       "      <td>3920.352663</td>\n",
       "      <td>0.955748</td>\n",
       "      <td>6.393107e+05</td>\n",
       "      <td>5.868725</td>\n",
       "      <td>90.676964</td>\n",
       "      <td>0.965921</td>\n",
       "      <td>0.691712</td>\n",
       "      <td>0.960793</td>\n",
       "      <td>3990.669241</td>\n",
       "      <td>392.217403</td>\n",
       "      <td>29.088642</td>\n",
       "      <td>0.079260</td>\n",
       "      <td>0.103916</td>\n",
       "      <td>4378.581772</td>\n",
       "    </tr>\n",
       "    <tr>\n",
       "      <th>min</th>\n",
       "      <td>0.000000</td>\n",
       "      <td>1.000000</td>\n",
       "      <td>8.500000e+04</td>\n",
       "      <td>0.000000</td>\n",
       "      <td>3000.000000</td>\n",
       "      <td>0.000000</td>\n",
       "      <td>0.000000</td>\n",
       "      <td>0.000000</td>\n",
       "      <td>0.000000</td>\n",
       "      <td>0.000000</td>\n",
       "      <td>1196.000000</td>\n",
       "      <td>-38.182550</td>\n",
       "      <td>144.431810</td>\n",
       "      <td>249.000000</td>\n",
       "    </tr>\n",
       "    <tr>\n",
       "      <th>25%</th>\n",
       "      <td>3394.750000</td>\n",
       "      <td>2.000000</td>\n",
       "      <td>6.500000e+05</td>\n",
       "      <td>6.100000</td>\n",
       "      <td>3044.000000</td>\n",
       "      <td>2.000000</td>\n",
       "      <td>1.000000</td>\n",
       "      <td>1.000000</td>\n",
       "      <td>177.000000</td>\n",
       "      <td>122.000000</td>\n",
       "      <td>1960.000000</td>\n",
       "      <td>-37.856822</td>\n",
       "      <td>144.929600</td>\n",
       "      <td>4380.000000</td>\n",
       "    </tr>\n",
       "    <tr>\n",
       "      <th>50%</th>\n",
       "      <td>6789.500000</td>\n",
       "      <td>3.000000</td>\n",
       "      <td>9.030000e+05</td>\n",
       "      <td>9.200000</td>\n",
       "      <td>3084.000000</td>\n",
       "      <td>3.000000</td>\n",
       "      <td>1.000000</td>\n",
       "      <td>2.000000</td>\n",
       "      <td>440.000000</td>\n",
       "      <td>126.000000</td>\n",
       "      <td>1970.000000</td>\n",
       "      <td>-37.802355</td>\n",
       "      <td>145.000100</td>\n",
       "      <td>6555.000000</td>\n",
       "    </tr>\n",
       "    <tr>\n",
       "      <th>75%</th>\n",
       "      <td>10184.250000</td>\n",
       "      <td>3.000000</td>\n",
       "      <td>1.330000e+06</td>\n",
       "      <td>13.000000</td>\n",
       "      <td>3148.000000</td>\n",
       "      <td>3.000000</td>\n",
       "      <td>2.000000</td>\n",
       "      <td>2.000000</td>\n",
       "      <td>651.000000</td>\n",
       "      <td>129.940000</td>\n",
       "      <td>1975.000000</td>\n",
       "      <td>-37.756400</td>\n",
       "      <td>145.058305</td>\n",
       "      <td>10331.000000</td>\n",
       "    </tr>\n",
       "    <tr>\n",
       "      <th>max</th>\n",
       "      <td>13579.000000</td>\n",
       "      <td>10.000000</td>\n",
       "      <td>9.000000e+06</td>\n",
       "      <td>48.100000</td>\n",
       "      <td>3977.000000</td>\n",
       "      <td>20.000000</td>\n",
       "      <td>8.000000</td>\n",
       "      <td>10.000000</td>\n",
       "      <td>433014.000000</td>\n",
       "      <td>44515.000000</td>\n",
       "      <td>2018.000000</td>\n",
       "      <td>-37.408530</td>\n",
       "      <td>145.526350</td>\n",
       "      <td>21650.000000</td>\n",
       "    </tr>\n",
       "  </tbody>\n",
       "</table>\n",
       "</div>"
      ],
      "text/plain": [
       "              index         Rooms         Price      Distance      Postcode  \\\n",
       "count  13580.000000  13580.000000  1.358000e+04  13580.000000  13580.000000   \n",
       "mean    6789.500000      2.937997  1.075684e+06     10.137776   3105.301915   \n",
       "std     3920.352663      0.955748  6.393107e+05      5.868725     90.676964   \n",
       "min        0.000000      1.000000  8.500000e+04      0.000000   3000.000000   \n",
       "25%     3394.750000      2.000000  6.500000e+05      6.100000   3044.000000   \n",
       "50%     6789.500000      3.000000  9.030000e+05      9.200000   3084.000000   \n",
       "75%    10184.250000      3.000000  1.330000e+06     13.000000   3148.000000   \n",
       "max    13579.000000     10.000000  9.000000e+06     48.100000   3977.000000   \n",
       "\n",
       "            Bedroom      Bathroom           Car       Landsize  BuildingArea  \\\n",
       "count  13580.000000  13580.000000  13580.000000   13580.000000  13580.000000   \n",
       "mean       2.914728      1.534242      1.611856     558.416127    139.633972   \n",
       "std        0.965921      0.691712      0.960793    3990.669241    392.217403   \n",
       "min        0.000000      0.000000      0.000000       0.000000      0.000000   \n",
       "25%        2.000000      1.000000      1.000000     177.000000    122.000000   \n",
       "50%        3.000000      1.000000      2.000000     440.000000    126.000000   \n",
       "75%        3.000000      2.000000      2.000000     651.000000    129.940000   \n",
       "max       20.000000      8.000000     10.000000  433014.000000  44515.000000   \n",
       "\n",
       "          YearBuilt     Lattitude    Longtitude  Propertycount  \n",
       "count  13580.000000  13580.000000  13580.000000   13580.000000  \n",
       "mean    1966.788218    -37.809203    144.995216    7454.417378  \n",
       "std       29.088642      0.079260      0.103916    4378.581772  \n",
       "min     1196.000000    -38.182550    144.431810     249.000000  \n",
       "25%     1960.000000    -37.856822    144.929600    4380.000000  \n",
       "50%     1970.000000    -37.802355    145.000100    6555.000000  \n",
       "75%     1975.000000    -37.756400    145.058305   10331.000000  \n",
       "max     2018.000000    -37.408530    145.526350   21650.000000  "
      ]
     },
     "execution_count": 39,
     "metadata": {},
     "output_type": "execute_result"
    }
   ],
   "source": [
    "# Выведем статистическую информацию о DataFrame\n",
    "melb_data.describe()"
   ]
  },
  {
   "cell_type": "code",
   "execution_count": 40,
   "id": "e4bcdbc1",
   "metadata": {},
   "outputs": [
    {
     "name": "stdout",
     "output_type": "stream",
     "text": [
      "           Distance  BuildingArea         Price\n",
      "count  13580.000000  13580.000000  1.358000e+04\n",
      "mean      10.137776    139.633972  1.075684e+06\n",
      "std        5.868725    392.217403  6.393107e+05\n",
      "min        0.000000      0.000000  8.500000e+04\n",
      "25%        6.100000    122.000000  6.500000e+05\n",
      "50%        9.200000    126.000000  9.030000e+05\n",
      "75%       13.000000    129.940000  1.330000e+06\n",
      "max       48.100000  44515.000000  9.000000e+06\n"
     ]
    }
   ],
   "source": [
    "# Выведем статистическую информацию только по нескольким числовым колонкам\n",
    "print(melb_data.loc[:, ['Distance', 'BuildingArea', 'Price']].describe())"
   ]
  },
  {
   "cell_type": "code",
   "execution_count": 41,
   "id": "2252ccf0",
   "metadata": {},
   "outputs": [
    {
     "data": {
      "text/html": [
       "<div>\n",
       "<style scoped>\n",
       "    .dataframe tbody tr th:only-of-type {\n",
       "        vertical-align: middle;\n",
       "    }\n",
       "\n",
       "    .dataframe tbody tr th {\n",
       "        vertical-align: top;\n",
       "    }\n",
       "\n",
       "    .dataframe thead th {\n",
       "        text-align: right;\n",
       "    }\n",
       "</style>\n",
       "<table border=\"1\" class=\"dataframe\">\n",
       "  <thead>\n",
       "    <tr style=\"text-align: right;\">\n",
       "      <th></th>\n",
       "      <th>Suburb</th>\n",
       "      <th>Address</th>\n",
       "      <th>Type</th>\n",
       "      <th>Method</th>\n",
       "      <th>SellerG</th>\n",
       "      <th>Date</th>\n",
       "      <th>CouncilArea</th>\n",
       "      <th>Regionname</th>\n",
       "      <th>Coordinates</th>\n",
       "    </tr>\n",
       "  </thead>\n",
       "  <tbody>\n",
       "    <tr>\n",
       "      <th>count</th>\n",
       "      <td>13580</td>\n",
       "      <td>13580</td>\n",
       "      <td>13580</td>\n",
       "      <td>13580</td>\n",
       "      <td>13580</td>\n",
       "      <td>13580</td>\n",
       "      <td>12211</td>\n",
       "      <td>13580</td>\n",
       "      <td>13580</td>\n",
       "    </tr>\n",
       "    <tr>\n",
       "      <th>unique</th>\n",
       "      <td>314</td>\n",
       "      <td>13378</td>\n",
       "      <td>3</td>\n",
       "      <td>5</td>\n",
       "      <td>268</td>\n",
       "      <td>58</td>\n",
       "      <td>33</td>\n",
       "      <td>8</td>\n",
       "      <td>13097</td>\n",
       "    </tr>\n",
       "    <tr>\n",
       "      <th>top</th>\n",
       "      <td>Reservoir</td>\n",
       "      <td>36 Aberfeldie St</td>\n",
       "      <td>h</td>\n",
       "      <td>S</td>\n",
       "      <td>Nelson</td>\n",
       "      <td>27/05/2017</td>\n",
       "      <td>Moreland</td>\n",
       "      <td>Southern Metropolitan</td>\n",
       "      <td>-37.8361, 144.9966</td>\n",
       "    </tr>\n",
       "    <tr>\n",
       "      <th>freq</th>\n",
       "      <td>359</td>\n",
       "      <td>3</td>\n",
       "      <td>9449</td>\n",
       "      <td>9022</td>\n",
       "      <td>1565</td>\n",
       "      <td>473</td>\n",
       "      <td>1163</td>\n",
       "      <td>4695</td>\n",
       "      <td>12</td>\n",
       "    </tr>\n",
       "  </tbody>\n",
       "</table>\n",
       "</div>"
      ],
      "text/plain": [
       "           Suburb           Address   Type Method SellerG        Date  \\\n",
       "count       13580             13580  13580  13580   13580       13580   \n",
       "unique        314             13378      3      5     268          58   \n",
       "top     Reservoir  36 Aberfeldie St      h      S  Nelson  27/05/2017   \n",
       "freq          359                 3   9449   9022    1565         473   \n",
       "\n",
       "       CouncilArea             Regionname         Coordinates  \n",
       "count        12211                  13580               13580  \n",
       "unique          33                      8               13097  \n",
       "top       Moreland  Southern Metropolitan  -37.8361, 144.9966  \n",
       "freq          1163                   4695                  12  "
      ]
     },
     "execution_count": 41,
     "metadata": {},
     "output_type": "execute_result"
    }
   ],
   "source": [
    "# Выводим стастистическую информацию по столбцам с типом данных object\n",
    "melb_data.describe(include=['object'])"
   ]
  },
  {
   "cell_type": "code",
   "execution_count": 42,
   "id": "ed9067d3",
   "metadata": {},
   "outputs": [
    {
     "data": {
      "text/plain": [
       "Regionname\n",
       "Southern Metropolitan         4695\n",
       "Northern Metropolitan         3890\n",
       "Western Metropolitan          2948\n",
       "Eastern Metropolitan          1471\n",
       "South-Eastern Metropolitan     450\n",
       "Eastern Victoria                53\n",
       "Northern Victoria               41\n",
       "Western Victoria                32\n",
       "Name: count, dtype: int64"
      ]
     },
     "execution_count": 42,
     "metadata": {},
     "output_type": "execute_result"
    }
   ],
   "source": [
    "# Выведем частость уникальных значений в колонке 'Regionname'\n",
    "melb_data['Regionname'].value_counts()"
   ]
  },
  {
   "cell_type": "code",
   "execution_count": 43,
   "id": "58b5af57",
   "metadata": {},
   "outputs": [
    {
     "data": {
      "text/plain": [
       "Regionname\n",
       "Southern Metropolitan         0.345729\n",
       "Northern Metropolitan         0.286451\n",
       "Western Metropolitan          0.217084\n",
       "Eastern Metropolitan          0.108321\n",
       "South-Eastern Metropolitan    0.033137\n",
       "Eastern Victoria              0.003903\n",
       "Northern Victoria             0.003019\n",
       "Western Victoria              0.002356\n",
       "Name: proportion, dtype: float64"
      ]
     },
     "execution_count": 43,
     "metadata": {},
     "output_type": "execute_result"
    }
   ],
   "source": [
    "# # Выведем частость уникальных значений в колонке 'Regionname' в процентах\n",
    "melb_data['Regionname'].value_counts(normalize=True)"
   ]
  },
  {
   "cell_type": "code",
   "execution_count": 44,
   "id": "cc19fd4f",
   "metadata": {},
   "outputs": [
    {
     "data": {
      "text/plain": [
       "8"
      ]
     },
     "execution_count": 44,
     "metadata": {},
     "output_type": "execute_result"
    }
   ],
   "source": [
    "# Задание 6.9\n",
    "\n",
    "# Сколько %% от общего количества домов составляют таунхаусы\n",
    "round(melb_data['Type'].value_counts(normalize=True)['t'] * 100)"
   ]
  },
  {
   "cell_type": "markdown",
   "id": "5921957a",
   "metadata": {},
   "source": [
    "### 7 юнит"
   ]
  },
  {
   "cell_type": "code",
   "execution_count": 45,
   "id": "bd392224",
   "metadata": {},
   "outputs": [
    {
     "data": {
      "text/plain": [
       "1075684.079455081"
      ]
     },
     "execution_count": 45,
     "metadata": {},
     "output_type": "execute_result"
    }
   ],
   "source": [
    "# Средняя цена на недвижимость\n",
    "melb_data['Price'].mean()"
   ]
  },
  {
   "cell_type": "code",
   "execution_count": 46,
   "id": "dec914cb",
   "metadata": {},
   "outputs": [
    {
     "data": {
      "text/plain": [
       "10"
      ]
     },
     "execution_count": 46,
     "metadata": {},
     "output_type": "execute_result"
    }
   ],
   "source": [
    "# Найдем максимальное количество парковочных мест\n",
    "melb_data['Car'].max()"
   ]
  },
  {
   "cell_type": "code",
   "execution_count": 47,
   "id": "702d3cb0",
   "metadata": {},
   "outputs": [
    {
     "data": {
      "text/plain": [
       "1752934775.88"
      ]
     },
     "execution_count": 47,
     "metadata": {},
     "output_type": "execute_result"
    }
   ],
   "source": [
    "# Находим общую прибыль всех компаний за продажу\n",
    "realtor_rate = 0.12\n",
    "round(melb_data['Price'].sum() * realtor_rate, 2)"
   ]
  },
  {
   "cell_type": "code",
   "execution_count": 48,
   "id": "c05755af",
   "metadata": {},
   "outputs": [
    {
     "data": {
      "text/plain": [
       "0.21205713983546193"
      ]
     },
     "execution_count": 48,
     "metadata": {},
     "output_type": "execute_result"
    }
   ],
   "source": [
    "# Вычислим модуль разницы между медианой и средним и\n",
    "# разделим результат на среднее, чтобы получить отклонение в долях\n",
    "landsize_median = melb_data['Landsize'].median()\n",
    "landsize_mean = melb_data['Landsize'].mean()\n",
    "landsize_diff = np.abs(landsize_median - landsize_mean) / landsize_mean\n",
    "landsize_diff"
   ]
  },
  {
   "cell_type": "code",
   "execution_count": 49,
   "id": "9a9c9077",
   "metadata": {},
   "outputs": [
    {
     "data": {
      "text/plain": [
       "0    3\n",
       "Name: Rooms, dtype: int64"
      ]
     },
     "execution_count": 49,
     "metadata": {},
     "output_type": "execute_result"
    }
   ],
   "source": [
    "# Вычислим, какое число комнат чаще всего представлено на рынке\n",
    "melb_data['Rooms'].mode()"
   ]
  },
  {
   "cell_type": "code",
   "execution_count": 50,
   "id": "8da0df6c",
   "metadata": {},
   "outputs": [
    {
     "data": {
      "text/plain": [
       "0    Southern Metropolitan\n",
       "Name: Regionname, dtype: object"
      ]
     },
     "execution_count": 50,
     "metadata": {},
     "output_type": "execute_result"
    }
   ],
   "source": [
    "# Выведем самое распространенное название района\n",
    "melb_data['Regionname'].mode()"
   ]
  },
  {
   "cell_type": "code",
   "execution_count": 51,
   "id": "0399d342",
   "metadata": {},
   "outputs": [
    {
     "data": {
      "text/plain": [
       "21650"
      ]
     },
     "execution_count": 51,
     "metadata": {},
     "output_type": "execute_result"
    }
   ],
   "source": [
    "# Задание 7.2\n",
    "\n",
    "#  Максимальное количество домов на продажу в районе\n",
    "melb_data['Propertycount'].max()"
   ]
  },
  {
   "cell_type": "code",
   "execution_count": 52,
   "id": "192791d6",
   "metadata": {},
   "outputs": [
    {
     "data": {
      "text/plain": [
       "6"
      ]
     },
     "execution_count": 52,
     "metadata": {},
     "output_type": "execute_result"
    }
   ],
   "source": [
    "# Задание 7.3\n",
    "\n",
    "# Стандартное отклонение (разброс) расстояния от центра города до объекта недвижимости\n",
    "round(melb_data['Distance'].std())"
   ]
  },
  {
   "cell_type": "code",
   "execution_count": 53,
   "id": "546658b0",
   "metadata": {},
   "outputs": [
    {
     "data": {
      "text/plain": [
       "10"
      ]
     },
     "execution_count": 53,
     "metadata": {},
     "output_type": "execute_result"
    }
   ],
   "source": [
    "# Задание 7.4\n",
    "\n",
    "# Вычисляем отклонение (в процентах) медианного значения площади здания от его среднего значения\n",
    "barea_median = melb_data['BuildingArea'].median()\n",
    "barea_mean = melb_data['BuildingArea'].mean()\n",
    "barea_diff = round(abs(barea_median - barea_mean) / barea_mean * 100)\n",
    "barea_diff"
   ]
  },
  {
   "cell_type": "code",
   "execution_count": 54,
   "id": "156bca2f",
   "metadata": {},
   "outputs": [
    {
     "data": {
      "text/plain": [
       "0    3\n",
       "Name: Bedroom, dtype: int64"
      ]
     },
     "execution_count": 54,
     "metadata": {},
     "output_type": "execute_result"
    }
   ],
   "source": [
    "# Задание 7.6\n",
    "\n",
    "# Сколько спален чаще всего встречается в домах в Мельбурне\n",
    "melb_data['Bedroom'].mode()"
   ]
  },
  {
   "cell_type": "markdown",
   "id": "b6cf9c21",
   "metadata": {},
   "source": [
    "### 8 юнит"
   ]
  },
  {
   "cell_type": "code",
   "execution_count": null,
   "id": "6493296f",
   "metadata": {},
   "outputs": [
    {
     "name": "stdout",
     "output_type": "stream",
     "text": [
      "0        False\n",
      "1        False\n",
      "2        False\n",
      "3        False\n",
      "4        False\n",
      "         ...  \n",
      "13575    False\n",
      "13576    False\n",
      "13577    False\n",
      "13578     True\n",
      "13579    False\n",
      "Name: Price, Length: 13580, dtype: bool\n"
     ]
    }
   ],
   "source": [
    "# Создаем маску для фильтрации данных\n",
    "mask = melb_data['Price'] > 2_000_000\n",
    "print(mask)"
   ]
  },
  {
   "cell_type": "code",
   "execution_count": null,
   "id": "45035ec7",
   "metadata": {},
   "outputs": [
    {
     "data": {
      "text/html": [
       "<div>\n",
       "<style scoped>\n",
       "    .dataframe tbody tr th:only-of-type {\n",
       "        vertical-align: middle;\n",
       "    }\n",
       "\n",
       "    .dataframe tbody tr th {\n",
       "        vertical-align: top;\n",
       "    }\n",
       "\n",
       "    .dataframe thead th {\n",
       "        text-align: right;\n",
       "    }\n",
       "</style>\n",
       "<table border=\"1\" class=\"dataframe\">\n",
       "  <thead>\n",
       "    <tr style=\"text-align: right;\">\n",
       "      <th></th>\n",
       "      <th>index</th>\n",
       "      <th>Suburb</th>\n",
       "      <th>Address</th>\n",
       "      <th>Rooms</th>\n",
       "      <th>Type</th>\n",
       "      <th>Price</th>\n",
       "      <th>Method</th>\n",
       "      <th>SellerG</th>\n",
       "      <th>Date</th>\n",
       "      <th>Distance</th>\n",
       "      <th>...</th>\n",
       "      <th>Car</th>\n",
       "      <th>Landsize</th>\n",
       "      <th>BuildingArea</th>\n",
       "      <th>YearBuilt</th>\n",
       "      <th>CouncilArea</th>\n",
       "      <th>Lattitude</th>\n",
       "      <th>Longtitude</th>\n",
       "      <th>Regionname</th>\n",
       "      <th>Propertycount</th>\n",
       "      <th>Coordinates</th>\n",
       "    </tr>\n",
       "  </thead>\n",
       "  <tbody>\n",
       "    <tr>\n",
       "      <th>80</th>\n",
       "      <td>80</td>\n",
       "      <td>Albert Park</td>\n",
       "      <td>112 Beaconsfield Pde</td>\n",
       "      <td>3</td>\n",
       "      <td>h</td>\n",
       "      <td>2850000.0</td>\n",
       "      <td>PI</td>\n",
       "      <td>Buxton</td>\n",
       "      <td>4/03/2017</td>\n",
       "      <td>3.3</td>\n",
       "      <td>...</td>\n",
       "      <td>0</td>\n",
       "      <td>211.0</td>\n",
       "      <td>198.0</td>\n",
       "      <td>1890</td>\n",
       "      <td>Port Phillip</td>\n",
       "      <td>-37.8481</td>\n",
       "      <td>144.9499</td>\n",
       "      <td>Southern Metropolitan</td>\n",
       "      <td>3280</td>\n",
       "      <td>-37.8481, 144.9499</td>\n",
       "    </tr>\n",
       "    <tr>\n",
       "      <th>85</th>\n",
       "      <td>85</td>\n",
       "      <td>Albert Park</td>\n",
       "      <td>104 Richardson St</td>\n",
       "      <td>4</td>\n",
       "      <td>h</td>\n",
       "      <td>2300000.0</td>\n",
       "      <td>S</td>\n",
       "      <td>Marshall</td>\n",
       "      <td>7/05/2016</td>\n",
       "      <td>3.3</td>\n",
       "      <td>...</td>\n",
       "      <td>1</td>\n",
       "      <td>153.0</td>\n",
       "      <td>180.0</td>\n",
       "      <td>1880</td>\n",
       "      <td>Port Phillip</td>\n",
       "      <td>-37.8447</td>\n",
       "      <td>144.9523</td>\n",
       "      <td>Southern Metropolitan</td>\n",
       "      <td>3280</td>\n",
       "      <td>-37.8447, 144.9523</td>\n",
       "    </tr>\n",
       "    <tr>\n",
       "      <th>88</th>\n",
       "      <td>88</td>\n",
       "      <td>Albert Park</td>\n",
       "      <td>29 Faussett St</td>\n",
       "      <td>2</td>\n",
       "      <td>h</td>\n",
       "      <td>2120000.0</td>\n",
       "      <td>S</td>\n",
       "      <td>Greg</td>\n",
       "      <td>10/09/2016</td>\n",
       "      <td>3.3</td>\n",
       "      <td>...</td>\n",
       "      <td>1</td>\n",
       "      <td>199.0</td>\n",
       "      <td>107.0</td>\n",
       "      <td>1900</td>\n",
       "      <td>Port Phillip</td>\n",
       "      <td>-37.8422</td>\n",
       "      <td>144.9554</td>\n",
       "      <td>Southern Metropolitan</td>\n",
       "      <td>3280</td>\n",
       "      <td>-37.8422, 144.9554</td>\n",
       "    </tr>\n",
       "    <tr>\n",
       "      <th>92</th>\n",
       "      <td>92</td>\n",
       "      <td>Albert Park</td>\n",
       "      <td>2 Dundas Pl</td>\n",
       "      <td>3</td>\n",
       "      <td>h</td>\n",
       "      <td>2615000.0</td>\n",
       "      <td>S</td>\n",
       "      <td>Cayzer</td>\n",
       "      <td>10/12/2016</td>\n",
       "      <td>3.3</td>\n",
       "      <td>...</td>\n",
       "      <td>1</td>\n",
       "      <td>177.0</td>\n",
       "      <td>181.0</td>\n",
       "      <td>1880</td>\n",
       "      <td>Port Phillip</td>\n",
       "      <td>-37.8415</td>\n",
       "      <td>144.9585</td>\n",
       "      <td>Southern Metropolitan</td>\n",
       "      <td>3280</td>\n",
       "      <td>-37.8415, 144.9585</td>\n",
       "    </tr>\n",
       "    <tr>\n",
       "      <th>93</th>\n",
       "      <td>93</td>\n",
       "      <td>Albert Park</td>\n",
       "      <td>23 Finlay St</td>\n",
       "      <td>5</td>\n",
       "      <td>h</td>\n",
       "      <td>2100000.0</td>\n",
       "      <td>S</td>\n",
       "      <td>Greg</td>\n",
       "      <td>10/12/2016</td>\n",
       "      <td>3.3</td>\n",
       "      <td>...</td>\n",
       "      <td>1</td>\n",
       "      <td>237.0</td>\n",
       "      <td>126.0</td>\n",
       "      <td>1970</td>\n",
       "      <td>Port Phillip</td>\n",
       "      <td>-37.8436</td>\n",
       "      <td>144.9557</td>\n",
       "      <td>Southern Metropolitan</td>\n",
       "      <td>3280</td>\n",
       "      <td>-37.8436, 144.9557</td>\n",
       "    </tr>\n",
       "  </tbody>\n",
       "</table>\n",
       "<p>5 rows × 23 columns</p>\n",
       "</div>"
      ],
      "text/plain": [
       "    index       Suburb               Address  Rooms Type      Price Method  \\\n",
       "80     80  Albert Park  112 Beaconsfield Pde      3    h  2850000.0     PI   \n",
       "85     85  Albert Park     104 Richardson St      4    h  2300000.0      S   \n",
       "88     88  Albert Park        29 Faussett St      2    h  2120000.0      S   \n",
       "92     92  Albert Park           2 Dundas Pl      3    h  2615000.0      S   \n",
       "93     93  Albert Park          23 Finlay St      5    h  2100000.0      S   \n",
       "\n",
       "     SellerG        Date  Distance  ...  Car  Landsize  BuildingArea  \\\n",
       "80    Buxton   4/03/2017       3.3  ...    0     211.0         198.0   \n",
       "85  Marshall   7/05/2016       3.3  ...    1     153.0         180.0   \n",
       "88      Greg  10/09/2016       3.3  ...    1     199.0         107.0   \n",
       "92    Cayzer  10/12/2016       3.3  ...    1     177.0         181.0   \n",
       "93      Greg  10/12/2016       3.3  ...    1     237.0         126.0   \n",
       "\n",
       "    YearBuilt   CouncilArea  Lattitude  Longtitude             Regionname  \\\n",
       "80       1890  Port Phillip   -37.8481    144.9499  Southern Metropolitan   \n",
       "85       1880  Port Phillip   -37.8447    144.9523  Southern Metropolitan   \n",
       "88       1900  Port Phillip   -37.8422    144.9554  Southern Metropolitan   \n",
       "92       1880  Port Phillip   -37.8415    144.9585  Southern Metropolitan   \n",
       "93       1970  Port Phillip   -37.8436    144.9557  Southern Metropolitan   \n",
       "\n",
       "    Propertycount         Coordinates  \n",
       "80           3280  -37.8481, 144.9499  \n",
       "85           3280  -37.8447, 144.9523  \n",
       "88           3280  -37.8422, 144.9554  \n",
       "92           3280  -37.8415, 144.9585  \n",
       "93           3280  -37.8436, 144.9557  \n",
       "\n",
       "[5 rows x 23 columns]"
      ]
     },
     "metadata": {},
     "output_type": "display_data"
    }
   ],
   "source": [
    "# Подставим маску в DataFrame\n",
    "display(melb_data[mask].head())"
   ]
  },
  {
   "cell_type": "code",
   "execution_count": null,
   "id": "473d0823",
   "metadata": {},
   "outputs": [
    {
     "data": {
      "text/plain": [
       "5881"
      ]
     },
     "execution_count": 63,
     "metadata": {},
     "output_type": "execute_result"
    }
   ],
   "source": [
    "# Количество домов с 3 комнатами\n",
    "melb_data[melb_data['Rooms'] == 3].shape[0]"
   ]
  },
  {
   "cell_type": "code",
   "execution_count": null,
   "id": "9fff2965",
   "metadata": {},
   "outputs": [
    {
     "data": {
      "text/plain": [
       "3"
      ]
     },
     "execution_count": 68,
     "metadata": {},
     "output_type": "execute_result"
    }
   ],
   "source": [
    "# Количество домов с 3 комнатами и стоимость менее 300 тыс.\n",
    "melb_data[(melb_data['Rooms'] == 3) & (melb_data['Price'] < 300_000)].shape[0]"
   ]
  },
  {
   "cell_type": "code",
   "execution_count": null,
   "id": "be97d832",
   "metadata": {},
   "outputs": [
    {
     "data": {
      "text/plain": [
       "68"
      ]
     },
     "execution_count": 71,
     "metadata": {},
     "output_type": "execute_result"
    }
   ],
   "source": [
    "# Количество домов с ценой менее 300 тыс. у которых либо 3 комнаты либо площадь более 100 кв.м\n",
    "melb_data[(melb_data['Price'] < 300_000) & ((melb_data['Rooms'] == 3) | (melb_data['BuildingArea'] > 100))].shape[0]"
   ]
  },
  {
   "cell_type": "code",
   "execution_count": 79,
   "id": "f220fab7",
   "metadata": {},
   "outputs": [
    {
     "data": {
      "text/plain": [
       "5"
      ]
     },
     "execution_count": 79,
     "metadata": {},
     "output_type": "execute_result"
    }
   ],
   "source": [
    "# Максимальное количество комнат в объектах типа таунхаус\n",
    "mask = melb_data['Type'] == 't'\n",
    "melb_data[mask]['Rooms'].max()"
   ]
  },
  {
   "cell_type": "code",
   "execution_count": null,
   "id": "71a0b8d5",
   "metadata": {},
   "outputs": [
    {
     "data": {
      "text/plain": [
       "126.0"
      ]
     },
     "execution_count": 84,
     "metadata": {},
     "output_type": "execute_result"
    }
   ],
   "source": [
    "# Найдем медианную площадь здания у объектов, чья цена выше средней\n",
    "mask = melb_data['Price'] > melb_data['Price'].mean()\n",
    "melb_data[mask]['BuildingArea'].median()"
   ]
  },
  {
   "cell_type": "code",
   "execution_count": null,
   "id": "e5ce48b2",
   "metadata": {},
   "outputs": [
    {
     "data": {
      "text/plain": [
       "34"
      ]
     },
     "execution_count": 88,
     "metadata": {},
     "output_type": "execute_result"
    }
   ],
   "source": [
    "# Задание 8.1\n",
    "\n",
    "# У скольки объектов недвижимости нет ванной комнаты\n",
    "melb_data[melb_data['Bathroom'] == 0].shape[0]"
   ]
  },
  {
   "cell_type": "code",
   "execution_count": null,
   "id": "982c26ab",
   "metadata": {},
   "outputs": [
    {
     "data": {
      "text/plain": [
       "5"
      ]
     },
     "execution_count": 93,
     "metadata": {},
     "output_type": "execute_result"
    }
   ],
   "source": [
    "# Задание 8.2\n",
    "\n",
    "# Сколько объектов стоимостью более 3 мил. были проданы фирмой Nelson\n",
    "melb_data[(melb_data['SellerG'] == 'Nelson') & (melb_data['Price'] > 3_000_000)].shape[0]"
   ]
  },
  {
   "cell_type": "code",
   "execution_count": null,
   "id": "02a822e3",
   "metadata": {},
   "outputs": [
    {
     "data": {
      "text/plain": [
       "412500"
      ]
     },
     "execution_count": 98,
     "metadata": {},
     "output_type": "execute_result"
    }
   ],
   "source": [
    "# Задание 8.3\n",
    "\n",
    "# Какова минимальная стоимость участка без здания\n",
    "round(melb_data[melb_data['BuildingArea'] == 0]['Price'].min())"
   ]
  },
  {
   "cell_type": "code",
   "execution_count": 111,
   "id": "fab639bc",
   "metadata": {},
   "outputs": [
    {
     "data": {
      "text/plain": [
       "769239"
      ]
     },
     "execution_count": 111,
     "metadata": {},
     "output_type": "execute_result"
    }
   ],
   "source": [
    "# Задание 8.4\n",
    "\n",
    "# Какова средняя цена объектов с ценой менее 1 мил.,\n",
    "# которые имеют 5 комнат либо здание моложе 2015 г.\n",
    "mask1 = melb_data['Price'] < 1_000_000\n",
    "mask2 = (melb_data['Rooms'] > 5) | (melb_data['YearBuilt'] > 2015)\n",
    "round(melb_data[mask1 & mask2]['Price'].mean())"
   ]
  },
  {
   "cell_type": "code",
   "execution_count": 122,
   "id": "56f7d9d8",
   "metadata": {},
   "outputs": [
    {
     "data": {
      "text/plain": [
       "0    Northern Metropolitan\n",
       "Name: Regionname, dtype: object"
      ]
     },
     "execution_count": 122,
     "metadata": {},
     "output_type": "execute_result"
    }
   ],
   "source": [
    "# Задание 8.5\n",
    "\n",
    "# В каком райне чаще всего продаются виллы и коттеджи стоимостью менее 3 мил.\n",
    "mask = (melb_data['Type'] == 'h') & (melb_data['Price'] < 3_000_000)\n",
    "melb_data[mask]['Regionname'].mode()"
   ]
  },
  {
   "cell_type": "markdown",
   "id": "cdeef19f",
   "metadata": {},
   "source": [
    "### 9 юнит"
   ]
  },
  {
   "cell_type": "code",
   "execution_count": 126,
   "id": "49e4504a",
   "metadata": {},
   "outputs": [
    {
     "name": "stdout",
     "output_type": "stream",
     "text": [
      "<class 'pandas.core.frame.DataFrame'>\n",
      "RangeIndex: 1000 entries, 0 to 999\n",
      "Data columns (total 8 columns):\n",
      " #   Column                       Non-Null Count  Dtype \n",
      "---  ------                       --------------  ----- \n",
      " 0   gender                       1000 non-null   object\n",
      " 1   race/ethnicity               1000 non-null   object\n",
      " 2   parental level of education  1000 non-null   object\n",
      " 3   lunch                        1000 non-null   object\n",
      " 4   test preparation course      1000 non-null   object\n",
      " 5   math score                   1000 non-null   int64 \n",
      " 6   reading score                1000 non-null   int64 \n",
      " 7   writing score                1000 non-null   int64 \n",
      "dtypes: int64(3), object(5)\n",
      "memory usage: 62.6+ KB\n"
     ]
    }
   ],
   "source": [
    "student_data = pd.read_csv('data/students_performance.csv')\n",
    "student_data.info()"
   ]
  },
  {
   "cell_type": "code",
   "execution_count": 127,
   "id": "a8cae142",
   "metadata": {},
   "outputs": [
    {
     "data": {
      "text/html": [
       "<div>\n",
       "<style scoped>\n",
       "    .dataframe tbody tr th:only-of-type {\n",
       "        vertical-align: middle;\n",
       "    }\n",
       "\n",
       "    .dataframe tbody tr th {\n",
       "        vertical-align: top;\n",
       "    }\n",
       "\n",
       "    .dataframe thead th {\n",
       "        text-align: right;\n",
       "    }\n",
       "</style>\n",
       "<table border=\"1\" class=\"dataframe\">\n",
       "  <thead>\n",
       "    <tr style=\"text-align: right;\">\n",
       "      <th></th>\n",
       "      <th>gender</th>\n",
       "      <th>race/ethnicity</th>\n",
       "      <th>parental level of education</th>\n",
       "      <th>lunch</th>\n",
       "      <th>test preparation course</th>\n",
       "      <th>math score</th>\n",
       "      <th>reading score</th>\n",
       "      <th>writing score</th>\n",
       "    </tr>\n",
       "  </thead>\n",
       "  <tbody>\n",
       "    <tr>\n",
       "      <th>0</th>\n",
       "      <td>female</td>\n",
       "      <td>group B</td>\n",
       "      <td>bachelor's degree</td>\n",
       "      <td>standard</td>\n",
       "      <td>none</td>\n",
       "      <td>72</td>\n",
       "      <td>72</td>\n",
       "      <td>74</td>\n",
       "    </tr>\n",
       "    <tr>\n",
       "      <th>1</th>\n",
       "      <td>female</td>\n",
       "      <td>group C</td>\n",
       "      <td>some college</td>\n",
       "      <td>standard</td>\n",
       "      <td>completed</td>\n",
       "      <td>69</td>\n",
       "      <td>90</td>\n",
       "      <td>88</td>\n",
       "    </tr>\n",
       "    <tr>\n",
       "      <th>2</th>\n",
       "      <td>female</td>\n",
       "      <td>group B</td>\n",
       "      <td>master's degree</td>\n",
       "      <td>standard</td>\n",
       "      <td>none</td>\n",
       "      <td>90</td>\n",
       "      <td>95</td>\n",
       "      <td>93</td>\n",
       "    </tr>\n",
       "    <tr>\n",
       "      <th>3</th>\n",
       "      <td>male</td>\n",
       "      <td>group A</td>\n",
       "      <td>associate's degree</td>\n",
       "      <td>free/reduced</td>\n",
       "      <td>none</td>\n",
       "      <td>47</td>\n",
       "      <td>57</td>\n",
       "      <td>44</td>\n",
       "    </tr>\n",
       "    <tr>\n",
       "      <th>4</th>\n",
       "      <td>male</td>\n",
       "      <td>group C</td>\n",
       "      <td>some college</td>\n",
       "      <td>standard</td>\n",
       "      <td>none</td>\n",
       "      <td>76</td>\n",
       "      <td>78</td>\n",
       "      <td>75</td>\n",
       "    </tr>\n",
       "  </tbody>\n",
       "</table>\n",
       "</div>"
      ],
      "text/plain": [
       "   gender race/ethnicity parental level of education         lunch  \\\n",
       "0  female        group B           bachelor's degree      standard   \n",
       "1  female        group C                some college      standard   \n",
       "2  female        group B             master's degree      standard   \n",
       "3    male        group A          associate's degree  free/reduced   \n",
       "4    male        group C                some college      standard   \n",
       "\n",
       "  test preparation course  math score  reading score  writing score  \n",
       "0                    none          72             72             74  \n",
       "1               completed          69             90             88  \n",
       "2                    none          90             95             93  \n",
       "3                    none          47             57             44  \n",
       "4                    none          76             78             75  "
      ]
     },
     "execution_count": 127,
     "metadata": {},
     "output_type": "execute_result"
    }
   ],
   "source": [
    "student_data.head()"
   ]
  },
  {
   "cell_type": "code",
   "execution_count": null,
   "id": "8e24f1cf",
   "metadata": {},
   "outputs": [
    {
     "data": {
      "text/plain": [
       "1000"
      ]
     },
     "execution_count": 128,
     "metadata": {},
     "output_type": "execute_result"
    }
   ],
   "source": [
    "# Задание 9.1\n",
    "\n",
    "# Количество записей\n",
    "student_data.shape[0]"
   ]
  },
  {
   "cell_type": "code",
   "execution_count": null,
   "id": "3c97d28a",
   "metadata": {},
   "outputs": [
    {
     "data": {
      "text/plain": [
       "88"
      ]
     },
     "execution_count": 131,
     "metadata": {},
     "output_type": "execute_result"
    }
   ],
   "source": [
    "# Задание 9.2\n",
    "\n",
    "# Балл по письму у студента под индексом 155\n",
    "student_data.loc[155, 'writing score']"
   ]
  },
  {
   "cell_type": "code",
   "execution_count": null,
   "id": "9c15692f",
   "metadata": {},
   "outputs": [
    {
     "data": {
      "text/plain": [
       "5"
      ]
     },
     "execution_count": 136,
     "metadata": {},
     "output_type": "execute_result"
    }
   ],
   "source": [
    "# Задание 9.4\n",
    "\n",
    "# Сколько столбцов имеет тип данных object\n",
    "(student_data.dtypes == 'object').sum()"
   ]
  },
  {
   "cell_type": "code",
   "execution_count": 144,
   "id": "184abb3c",
   "metadata": {},
   "outputs": [
    {
     "data": {
      "text/plain": [
       "63"
      ]
     },
     "execution_count": 144,
     "metadata": {},
     "output_type": "execute_result"
    }
   ],
   "source": [
    "# Задание 9.5\n",
    "\n",
    "# Какой объём памяти (в килобайтах) занимает таблица\n",
    "round(student_data.memory_usage().sum() / 1024)"
   ]
  },
  {
   "cell_type": "code",
   "execution_count": null,
   "id": "28f84632",
   "metadata": {},
   "outputs": [
    {
     "data": {
      "text/plain": [
       "66"
      ]
     },
     "execution_count": 146,
     "metadata": {},
     "output_type": "execute_result"
    }
   ],
   "source": [
    "# Задание 9.6\n",
    "\n",
    "# Средний балл по математике\n",
    "round(student_data['math score'].mean())"
   ]
  },
  {
   "cell_type": "code",
   "execution_count": null,
   "id": "9ed9c69d",
   "metadata": {},
   "outputs": [
    {
     "data": {
      "text/plain": [
       "0    group C\n",
       "Name: race/ethnicity, dtype: object"
      ]
     },
     "execution_count": 148,
     "metadata": {},
     "output_type": "execute_result"
    }
   ],
   "source": [
    "# Задание 9.7\n",
    "\n",
    "# Какая расовая группа является самой крупной\n",
    "student_data['race/ethnicity'].mode()"
   ]
  },
  {
   "cell_type": "code",
   "execution_count": null,
   "id": "11048553",
   "metadata": {},
   "outputs": [
    {
     "data": {
      "text/plain": [
       "74"
      ]
     },
     "execution_count": 151,
     "metadata": {},
     "output_type": "execute_result"
    }
   ],
   "source": [
    "# Задание 9.8\n",
    "\n",
    "# Средний балл по чтению у студентов посещавших курсы подготовки\n",
    "mask = student_data['test preparation course'] == 'completed'\n",
    "round(student_data[mask]['reading score'].mean())"
   ]
  },
  {
   "cell_type": "code",
   "execution_count": null,
   "id": "4f5a1ebd",
   "metadata": {},
   "outputs": [
    {
     "data": {
      "text/plain": [
       "1"
      ]
     },
     "execution_count": 154,
     "metadata": {},
     "output_type": "execute_result"
    }
   ],
   "source": [
    "# Задание 9.9\n",
    "\n",
    "# Сколько студентов получили 0 баллов по математике\n",
    "student_data[student_data['math score'] == 0].shape[0]"
   ]
  },
  {
   "cell_type": "code",
   "execution_count": 188,
   "id": "9ec28d73",
   "metadata": {},
   "outputs": [
    {
     "name": "stdout",
     "output_type": "stream",
     "text": [
      "Средний балл по математике:\n",
      "- у студентов с платным питанием:  70\n",
      "- у студентов с платным питанием:  59\n"
     ]
    }
   ],
   "source": [
    "# Задание 9.10\n",
    "\n",
    "# Проверяем гипотезу о том, что студенты с платным питанием учатся лучше\n",
    "\n",
    "lunch_paid = student_data['lunch'] == 'standard'\n",
    "lunch_free = student_data['lunch'] == 'free/reduced'\n",
    "\n",
    "lunch_paid_math_mean = student_data[lunch_paid]['math score'].mean()\n",
    "lunch_free_math_mean = student_data[lunch_free]['math score'].mean()\n",
    "\n",
    "print('Средний балл по математике:')\n",
    "print('- у студентов с платным питанием: ', round(lunch_paid_math_mean))\n",
    "print('- у студентов с платным питанием: ', round(lunch_free_math_mean))"
   ]
  },
  {
   "cell_type": "code",
   "execution_count": 189,
   "id": "099d1cbc",
   "metadata": {},
   "outputs": [
    {
     "data": {
      "text/plain": [
       "12"
      ]
     },
     "execution_count": 189,
     "metadata": {},
     "output_type": "execute_result"
    }
   ],
   "source": [
    "# Задание 9.11\n",
    "\n",
    "# Каков процент студентов, родители которых имеют высшее образование\n",
    "education_counts = student_data['parental level of education'].value_counts(normalize=True)\n",
    "bachelors_percentage = education_counts.loc['bachelor\\'s degree'] * 100\n",
    "round(bachelors_percentage)"
   ]
  },
  {
   "cell_type": "code",
   "execution_count": null,
   "id": "496bd0e7",
   "metadata": {},
   "outputs": [
    {
     "name": "stdout",
     "output_type": "stream",
     "text": [
      "6\n"
     ]
    }
   ],
   "source": [
    "# Задание 9.12\n",
    "\n",
    "# Насколько медианный балл по письму у студентов в расовой группе А\n",
    "# отличается от среднего балла по письму у студентов в расовой группе C?\n",
    "\n",
    "group_a_write = student_data[student_data['race/ethnicity'] == 'group A']\n",
    "group_c_write = student_data[student_data['race/ethnicity'] == 'group C']\n",
    "\n",
    "group_a_write_median = group_a_write['writing score'].median()\n",
    "group_c_write_mean = group_c_write['writing score'].mean()\n",
    "\n",
    "print(abs(round(group_a_write_median - group_c_write_mean)))"
   ]
  }
 ],
 "metadata": {
  "kernelspec": {
   "display_name": "base",
   "language": "python",
   "name": "python3"
  },
  "language_info": {
   "codemirror_mode": {
    "name": "ipython",
    "version": 3
   },
   "file_extension": ".py",
   "mimetype": "text/x-python",
   "name": "python",
   "nbconvert_exporter": "python",
   "pygments_lexer": "ipython3",
   "version": "3.12.9"
  }
 },
 "nbformat": 4,
 "nbformat_minor": 5
}
