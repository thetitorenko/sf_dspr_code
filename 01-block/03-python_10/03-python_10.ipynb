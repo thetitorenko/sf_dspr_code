{
 "cells": [
  {
   "cell_type": "markdown",
   "id": "a28384c7",
   "metadata": {},
   "source": [
    "### 0 юнит"
   ]
  },
  {
   "cell_type": "code",
   "execution_count": 2,
   "id": "3a889c9c",
   "metadata": {},
   "outputs": [
    {
     "data": {
      "text/plain": [
       "261.5"
      ]
     },
     "execution_count": 2,
     "metadata": {},
     "output_type": "execute_result"
    }
   ],
   "source": [
    "import numpy as np\n",
    "\n",
    "simplelist = [19, 242, 14, 152, 142, 1000]\n",
    "\n",
    "np.mean(simplelist)"
   ]
  },
  {
   "cell_type": "markdown",
   "id": "00831de6",
   "metadata": {},
   "source": [
    "### 1 юнит"
   ]
  },
  {
   "cell_type": "code",
   "execution_count": 2,
   "id": "f62f0f00",
   "metadata": {},
   "outputs": [
    {
     "data": {
      "text/plain": [
       "'2.2.3'"
      ]
     },
     "execution_count": 2,
     "metadata": {},
     "output_type": "execute_result"
    }
   ],
   "source": [
    "import pandas as pd\n",
    "\n",
    "pd.__version__"
   ]
  },
  {
   "cell_type": "code",
   "execution_count": 3,
   "id": "6430438f",
   "metadata": {},
   "outputs": [
    {
     "name": "stdout",
     "output_type": "stream",
     "text": [
      "pandas\n"
     ]
    }
   ],
   "source": [
    "# Задание 1.3\n",
    "\n",
    "print(pd.__name__)"
   ]
  },
  {
   "cell_type": "markdown",
   "id": "a8b17050",
   "metadata": {},
   "source": [
    "### 2 юнит"
   ]
  },
  {
   "cell_type": "code",
   "execution_count": 7,
   "id": "122cdb26",
   "metadata": {},
   "outputs": [
    {
     "data": {
      "text/plain": [
       "UK       Англия\n",
       "CA       Канада\n",
       "US          США\n",
       "RU       Россия\n",
       "UA      Украина\n",
       "BY     Беларусь\n",
       "KZ    Казахстан\n",
       "Name: countries, dtype: object"
      ]
     },
     "metadata": {},
     "output_type": "display_data"
    }
   ],
   "source": [
    "# Создание Series из списков с данными и индексами\n",
    "countries = pd.Series(\n",
    "    data = ['Англия', 'Канада', 'США', 'Россия', 'Украина', 'Беларусь', 'Казахстан'],\n",
    "    index = ['UK', 'CA', 'US', 'RU', 'UA', 'BY', 'KZ'],\n",
    "    name = 'countries'\n",
    "    )\n",
    "\n",
    "display(countries)"
   ]
  },
  {
   "cell_type": "code",
   "execution_count": 8,
   "id": "ff516976",
   "metadata": {},
   "outputs": [
    {
     "data": {
      "text/plain": [
       "UK       Англия\n",
       "CA       Канада\n",
       "US          США\n",
       "RU       Россия\n",
       "UA      Украина\n",
       "BY     Беларусь\n",
       "KZ    Казахстан\n",
       "Name: countries, dtype: object"
      ]
     },
     "metadata": {},
     "output_type": "display_data"
    }
   ],
   "source": [
    "# Создание Series из словаря,\n",
    "# в котором ключи - это индексы (index), а значения - данные (data)\n",
    "countries = pd.Series({\n",
    "    'UK': 'Англия',\n",
    "    'CA': 'Канада',\n",
    "    'US' : 'США',\n",
    "    'RU': 'Россия',\n",
    "    'UA': 'Украина',\n",
    "    'BY': 'Беларусь',\n",
    "    'KZ': 'Казахстан'},\n",
    "    name = 'countries'\n",
    "    )\n",
    "\n",
    "display(countries)"
   ]
  },
  {
   "cell_type": "code",
   "execution_count": 12,
   "id": "6bb1f475",
   "metadata": {},
   "outputs": [
    {
     "name": "stdout",
     "output_type": "stream",
     "text": [
      "Англия\n",
      "US       США\n",
      "RU    Россия\n",
      "Name: countries, dtype: object\n"
     ]
    }
   ],
   "source": [
    "# Доступ к одному элементу и нескольким Series\n",
    "print(countries.loc['UK'])\n",
    "print(countries.loc[['US', 'RU']])"
   ]
  },
  {
   "cell_type": "code",
   "execution_count": 14,
   "id": "5dcbc833",
   "metadata": {},
   "outputs": [
    {
     "name": "stdout",
     "output_type": "stream",
     "text": [
      "Казахстан\n"
     ]
    }
   ],
   "source": [
    "# Доступ по индексу к элементу в Series\n",
    "print(countries.iloc[6])"
   ]
  },
  {
   "cell_type": "code",
   "execution_count": 15,
   "id": "9477dad4",
   "metadata": {},
   "outputs": [
    {
     "name": "stdout",
     "output_type": "stream",
     "text": [
      "CA    Канада\n",
      "US       США\n",
      "RU    Россия\n",
      "Name: countries, dtype: object\n"
     ]
    }
   ],
   "source": [
    "# Доступ по срезу к элементам (c 2 по 4) в Series\n",
    "print(countries.iloc[1:4])"
   ]
  },
  {
   "cell_type": "code",
   "execution_count": 24,
   "id": "f314d0f6",
   "metadata": {},
   "outputs": [
    {
     "name": "stdout",
     "output_type": "stream",
     "text": [
      "b    6\n",
      "c    7\n",
      "e    9\n",
      "dtype: int64\n",
      "b    6\n",
      "c    7\n",
      "e    9\n",
      "dtype: int64\n"
     ]
    }
   ],
   "source": [
    "# Задание 2.3\n",
    "\n",
    "my_series = pd.Series(data=[5, 6, 7, 8, 9, 10], index=['a', 'b', 'c', 'd', 'e', 'f'])\n",
    "\n",
    "# Извлекаем элементы 6, 7 и 9 из Series\n",
    "print(my_series.loc[['b', 'c', 'e']])\n",
    "print(my_series.iloc[[1, 2, 4]])"
   ]
  },
  {
   "cell_type": "code",
   "execution_count": 34,
   "id": "777b88ce",
   "metadata": {},
   "outputs": [],
   "source": [
    "# Задание 2.4\n",
    "\n",
    "import pandas as pd\n",
    "\n",
    "\n",
    "names = ['chlorhexidine', 'cyntomycin', 'afobazol']     # названия препаратов\n",
    "counts = [15, 18, 7]                                    # количество препаратов\n",
    "\n",
    "# Создание Series из списков с данными и индексами\n",
    "def create_medications(names, counts):\n",
    "    result = pd.Series(index=names, data=counts)\n",
    "    return result\n",
    "\n",
    "# Функция для вычисления процента определенного препарата\n",
    "def get_percent(medications, name):\n",
    "    overall_quantity = medications.sum()\n",
    "    target_quantity = medications.loc[name]\n",
    "    target_proportion = (target_quantity*100) / overall_quantity\n",
    "    return target_proportion\n",
    "\n",
    "\n",
    "medications = create_medications(names, counts)     # создание Series\n",
    "# print(get_percent(medications, 'chlorhexidine'))    # вывод процента препарата"
   ]
  }
 ],
 "metadata": {
  "kernelspec": {
   "display_name": "base",
   "language": "python",
   "name": "python3"
  },
  "language_info": {
   "codemirror_mode": {
    "name": "ipython",
    "version": 3
   },
   "file_extension": ".py",
   "mimetype": "text/x-python",
   "name": "python",
   "nbconvert_exporter": "python",
   "pygments_lexer": "ipython3",
   "version": "3.12.9"
  }
 },
 "nbformat": 4,
 "nbformat_minor": 5
}
