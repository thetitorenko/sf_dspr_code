{
 "cells": [
  {
   "cell_type": "markdown",
   "metadata": {},
   "source": [
    "### 3 юнит"
   ]
  },
  {
   "cell_type": "code",
   "execution_count": 6,
   "metadata": {},
   "outputs": [
    {
     "name": "stdout",
     "output_type": "stream",
     "text": [
      "Hello, world\n",
      "Hello world\n",
      "Helloworld\n"
     ]
    }
   ],
   "source": [
    "# Задание 3.1\n",
    "\n",
    "print('Hello, world')\n",
    "print('Hello', 'world')\n",
    "print('Hello'+'world')"
   ]
  },
  {
   "cell_type": "code",
   "execution_count": 7,
   "metadata": {},
   "outputs": [
    {
     "name": "stdout",
     "output_type": "stream",
     "text": [
      "15\n"
     ]
    }
   ],
   "source": [
    "# Задание 3.2.1\n",
    "\n",
    "nums = [1, 2, 3, 4, 5]\n",
    "total = 0\n",
    "\n",
    "for num in nums:\n",
    "    total += num\n",
    "\n",
    "print(total)"
   ]
  },
  {
   "cell_type": "code",
   "execution_count": 8,
   "metadata": {},
   "outputs": [
    {
     "name": "stdout",
     "output_type": "stream",
     "text": [
      "9\n"
     ]
    }
   ],
   "source": [
    "# Задание 3.2.2\n",
    "\n",
    "nums = [3, 8, 1, 9, 4]\n",
    "max_num = nums[0]\n",
    "\n",
    "for num in nums:\n",
    "    if num > max_num:\n",
    "        max_num = num\n",
    "\n",
    "print(max_num)"
   ]
  },
  {
   "cell_type": "code",
   "execution_count": 9,
   "metadata": {},
   "outputs": [
    {
     "name": "stdout",
     "output_type": "stream",
     "text": [
      "120\n"
     ]
    }
   ],
   "source": [
    "# Задание 3.2.3\n",
    "\n",
    "n = 5\n",
    "factorial = 1\n",
    "\n",
    "for i in range(1, n+1):\n",
    "    factorial *= i\n",
    "\n",
    "print(factorial)"
   ]
  },
  {
   "cell_type": "markdown",
   "metadata": {},
   "source": [
    "### 4 юнит"
   ]
  },
  {
   "cell_type": "code",
   "execution_count": 11,
   "metadata": {},
   "outputs": [
    {
     "name": "stdout",
     "output_type": "stream",
     "text": [
      "\n",
      "Hello, Nick T !\n",
      "\n",
      "Your profile:\n",
      "Age: 25  years\n",
      "City: Almaty\n"
     ]
    }
   ],
   "source": [
    "# Задание 5.13\n",
    "\n",
    "first_name = input(\"Enter your first name:\")\n",
    "last_name = input(\"Enter your last name:\")\n",
    "age = input(\"Enter your age:\")\n",
    "city = input(\"Enter your city of residence:\")\n",
    "\n",
    "\n",
    "print(\"\")\n",
    "print(\"Hello,\", first_name, last_name, \"!\")\n",
    "print(\"\")\n",
    "print(\"Your profile:\")\n",
    "print(\"Age:\", age, 'years')\n",
    "print(\"City:\", city)"
   ]
  },
  {
   "cell_type": "code",
   "execution_count": 12,
   "metadata": {},
   "outputs": [
    {
     "name": "stdout",
     "output_type": "stream",
     "text": [
      "<class 'float'>\n"
     ]
    }
   ],
   "source": [
    "a = 3.14\n",
    "print(type(a))"
   ]
  },
  {
   "cell_type": "code",
   "execution_count": 13,
   "metadata": {},
   "outputs": [
    {
     "name": "stdout",
     "output_type": "stream",
     "text": [
      "<class 'str'>\n"
     ]
    }
   ],
   "source": [
    "a = \"3.14\"\n",
    "print(type(a))"
   ]
  },
  {
   "cell_type": "code",
   "execution_count": 15,
   "metadata": {},
   "outputs": [
    {
     "name": "stdout",
     "output_type": "stream",
     "text": [
      "ID переменной a до: 140731880258104\n",
      "ID переменной a после: 140731880258424\n"
     ]
    }
   ],
   "source": [
    "a = 5\n",
    "b = 10\n",
    "\n",
    "print('ID переменной a до:', id(a))\n",
    "\n",
    "a = a + b\n",
    "\n",
    "print('ID переменной a после:', id(a))"
   ]
  },
  {
   "cell_type": "markdown",
   "metadata": {},
   "source": [
    "### 7 юнит"
   ]
  },
  {
   "cell_type": "code",
   "execution_count": 17,
   "metadata": {},
   "outputs": [
    {
     "name": "stdout",
     "output_type": "stream",
     "text": [
      "2.5\n",
      "<class 'float'>\n"
     ]
    }
   ],
   "source": [
    "a = 5/2\n",
    "print(a)\n",
    "print(type(a))"
   ]
  },
  {
   "cell_type": "code",
   "execution_count": 18,
   "metadata": {},
   "outputs": [
    {
     "name": "stdout",
     "output_type": "stream",
     "text": [
      "3\n"
     ]
    }
   ],
   "source": [
    "print(10//3)"
   ]
  },
  {
   "cell_type": "code",
   "execution_count": 19,
   "metadata": {},
   "outputs": [
    {
     "name": "stdout",
     "output_type": "stream",
     "text": [
      "1\n"
     ]
    }
   ],
   "source": [
    "print(10%3)"
   ]
  },
  {
   "cell_type": "code",
   "execution_count": 20,
   "metadata": {},
   "outputs": [
    {
     "name": "stdout",
     "output_type": "stream",
     "text": [
      "512\n"
     ]
    }
   ],
   "source": [
    "print(2 ** 3 ** 2)"
   ]
  },
  {
   "cell_type": "code",
   "execution_count": 22,
   "metadata": {},
   "outputs": [
    {
     "name": "stdout",
     "output_type": "stream",
     "text": [
      "1\n"
     ]
    }
   ],
   "source": [
    "# Задание 7.3\n",
    "\n",
    "print(-7%2)"
   ]
  },
  {
   "cell_type": "code",
   "execution_count": 23,
   "metadata": {},
   "outputs": [
    {
     "name": "stdout",
     "output_type": "stream",
     "text": [
      "-4\n"
     ]
    }
   ],
   "source": [
    "# Задание 7.4\n",
    "\n",
    "print(-7//2)"
   ]
  },
  {
   "cell_type": "code",
   "execution_count": 26,
   "metadata": {},
   "outputs": [
    {
     "name": "stdout",
     "output_type": "stream",
     "text": [
      "3.138886636534116e+73\n"
     ]
    }
   ],
   "source": [
    "a = 5.4321**100\n",
    "print(a)"
   ]
  },
  {
   "cell_type": "code",
   "execution_count": 27,
   "metadata": {},
   "outputs": [
    {
     "name": "stdout",
     "output_type": "stream",
     "text": [
      "3.138886636534116e+75\n"
     ]
    }
   ],
   "source": [
    "print(a*100) # мантисса осталась прежней, а степень увеличилась на 2"
   ]
  },
  {
   "cell_type": "code",
   "execution_count": 28,
   "metadata": {},
   "outputs": [
    {
     "name": "stdout",
     "output_type": "stream",
     "text": [
      "3.138886636534116e+71\n"
     ]
    }
   ],
   "source": [
    "print(a/100) # снова мантисса не меняется, а степень уже уменьшилась"
   ]
  },
  {
   "cell_type": "code",
   "execution_count": 30,
   "metadata": {},
   "outputs": [
    {
     "name": "stdout",
     "output_type": "stream",
     "text": [
      "9.17\n"
     ]
    }
   ],
   "source": [
    "# Задание 7.9\n",
    "\n",
    "print(round(11*2.5/3, 2))"
   ]
  },
  {
   "cell_type": "code",
   "execution_count": 37,
   "metadata": {},
   "outputs": [
    {
     "name": "stdout",
     "output_type": "stream",
     "text": [
      "5\n"
     ]
    }
   ],
   "source": [
    "# Задание 7.10\n",
    "\n",
    "import math\n",
    "\n",
    "print(round((math.pi**2)/2))"
   ]
  },
  {
   "cell_type": "code",
   "execution_count": 40,
   "metadata": {},
   "outputs": [
    {
     "name": "stdout",
     "output_type": "stream",
     "text": [
      "True\n",
      "True\n",
      "False\n"
     ]
    }
   ],
   "source": [
    "# Задание 7.11\n",
    "\n",
    "print(2*2 == 4)\n",
    "\n",
    "print(1.57*3/1.5  == 3.14)\n",
    "\n",
    "print(3**3-3*(6*3)-4.5*2 == 1)"
   ]
  },
  {
   "cell_type": "markdown",
   "metadata": {},
   "source": [
    "### 8 юнит"
   ]
  },
  {
   "cell_type": "code",
   "execution_count": 45,
   "metadata": {},
   "outputs": [
    {
     "name": "stdout",
     "output_type": "stream",
     "text": [
      "Индеск символа c: 5\n",
      "Индеск символа t: 6\n",
      "Индеск символа P: 0\n",
      "Индеск символа r: 2\n"
     ]
    }
   ],
   "source": [
    "# Задание 8.1\n",
    "\n",
    "new_string = \"Perfect\"\n",
    "\n",
    "print('Индеск символа c:', new_string.find('c'))\n",
    "print('Индеск символа t:', new_string.find('t'))\n",
    "print('Индеск символа P:', new_string.find('P'))\n",
    "print('Индеск символа r:', new_string.find('r'))"
   ]
  },
  {
   "cell_type": "code",
   "execution_count": 50,
   "metadata": {},
   "outputs": [
    {
     "name": "stdout",
     "output_type": "stream",
     "text": [
      "erfect\n",
      "Pret\n",
      "t\n"
     ]
    }
   ],
   "source": [
    "# Задание 8.2\n",
    "\n",
    "print(new_string[1:])\n",
    "\n",
    "print(new_string[::2])\n",
    "\n",
    "print(new_string[-1])"
   ]
  },
  {
   "cell_type": "code",
   "execution_count": 60,
   "metadata": {},
   "outputs": [
    {
     "name": "stdout",
     "output_type": "stream",
     "text": [
      "Perfect\n"
     ]
    }
   ],
   "source": [
    "# Задание 8.3\n",
    "\n",
    "s1 = \"fec\"\n",
    "s2 = \"Per\"\n",
    "s3 = \"ct\"\n",
    "s4 = \"fe\"\n",
    "\n",
    "new_string = s2+s4+s3\n",
    "print(new_string)   # должно получиться Perfect"
   ]
  },
  {
   "cell_type": "code",
   "execution_count": 61,
   "metadata": {},
   "outputs": [
    {
     "name": "stdout",
     "output_type": "stream",
     "text": [
      "7\n"
     ]
    }
   ],
   "source": [
    "# Задание 8.4\n",
    "\n",
    "new_string = \"Perfect\"\n",
    "print(len(new_string))"
   ]
  },
  {
   "cell_type": "code",
   "execution_count": 66,
   "metadata": {},
   "outputs": [
    {
     "name": "stdout",
     "output_type": "stream",
     "text": [
      "red green blue\n",
      "red and green and blue\n"
     ]
    }
   ],
   "source": [
    "colors = 'red green blue'\n",
    "print(colors)\n",
    "\n",
    "colors_split = colors.split()\n",
    "colors_joined = ' and '.join(colors_splited)\n",
    "print(colors_joined)"
   ]
  },
  {
   "cell_type": "code",
   "execution_count": 76,
   "metadata": {},
   "outputs": [
    {
     "name": "stdout",
     "output_type": "stream",
     "text": [
      "1\n",
      "2\n",
      "3\n",
      "4\n",
      "5\n",
      "6\n",
      "7\n"
     ]
    }
   ],
   "source": [
    "# Задание 8.6\n",
    "\n",
    "numbers = '1 2 3 4 5 6 7'\n",
    "\n",
    "numbers_split = numbers.split()\n",
    "numbers_joined = '\\n'.join(numbers_split)\n",
    "print(numbers_joined)"
   ]
  },
  {
   "cell_type": "code",
   "execution_count": 78,
   "metadata": {},
   "outputs": [
    {
     "name": "stdout",
     "output_type": "stream",
     "text": [
      "Hello Andrey! \n",
      "Our store is happy to inform you that we have a personal offer for you. \n",
      "We give you a coupon for a 15 % discount on your favorite products. \n",
      "You can learn more about the offer following the link attached below.\n",
      "\n"
     ]
    }
   ],
   "source": [
    "# Задание 8.7\n",
    "\n",
    "script = '''Hello {}! \n",
    "Our store is happy to inform you that we have a personal offer for you. \n",
    "We give you a coupon for a {} % discount on your favorite products. \n",
    "You can learn more about the offer following the link attached below.\n",
    "'''\n",
    "client_name = 'Andrey'\n",
    "discount = 15\n",
    "\n",
    "print(script.format(client_name, discount))"
   ]
  },
  {
   "cell_type": "code",
   "execution_count": 79,
   "metadata": {},
   "outputs": [
    {
     "name": "stdout",
     "output_type": "stream",
     "text": [
      "Model - linear regression, MAE - 42.18\n"
     ]
    }
   ],
   "source": [
    "# Задание 8.8\n",
    "\n",
    "mean_absolute_error = 42.1838\n",
    "model = 'linear regression'\n",
    "print('Model - {}, MAE - {:.2f}'.format(model, mean_absolute_error))"
   ]
  },
  {
   "cell_type": "code",
   "execution_count": 101,
   "metadata": {},
   "outputs": [
    {
     "name": "stdout",
     "output_type": "stream",
     "text": [
      "Hello, John! Yesterday you fulfilled the norm by 45.0%\n",
      "Hello, John! Yesterday you fulfilled the norm by 45.0%\n"
     ]
    }
   ],
   "source": [
    "# Задание 8.10\n",
    "\n",
    "name = 'John'\n",
    "percent= 45\n",
    "\n",
    "print(\"Hello, {0}! Yesterday you fulfilled the norm by {1:.1f}%\".format(name, percent))\n",
    "\n",
    "print(f\"Hello, {name}! Yesterday you fulfilled the norm by {percent:.1f}%\")"
   ]
  },
  {
   "cell_type": "code",
   "execution_count": 103,
   "metadata": {},
   "outputs": [
    {
     "name": "stdout",
     "output_type": "stream",
     "text": [
      "Hello, John! Today is Friday. Have a nice day!\n"
     ]
    }
   ],
   "source": [
    "# Задание 8.11\n",
    "\n",
    "name = 'John'\n",
    "dayofweek = 'Friday'\n",
    "\n",
    "print('Hello, {}! Today is {}. Have a nice day!'.format(name, dayofweek))"
   ]
  },
  {
   "cell_type": "code",
   "execution_count": 107,
   "metadata": {},
   "outputs": [
    {
     "name": "stdout",
     "output_type": "stream",
     "text": [
      "Refrigerator service life: 111 months\n"
     ]
    }
   ],
   "source": [
    "advertisement = 'Refrigerator service life: 9 years 3 months'\n",
    "advertisement_split = advertisement.split()\n",
    "years = advertisement_split[3]\n",
    "months = advertisement_split[5]\n",
    "print(f'Refrigerator service life: {int(years)*12 + int(months)} months')"
   ]
  },
  {
   "cell_type": "markdown",
   "metadata": {},
   "source": [
    "### 10 юнит"
   ]
  },
  {
   "cell_type": "code",
   "execution_count": 112,
   "metadata": {},
   "outputs": [
    {
     "name": "stdout",
     "output_type": "stream",
     "text": [
      "86.5\n"
     ]
    }
   ],
   "source": [
    "# Задание 10.4\n",
    "\n",
    "tax = 13.5\n",
    "salary = float(input())\n",
    "print(salary*(1-tax/100))"
   ]
  },
  {
   "cell_type": "code",
   "execution_count": 124,
   "metadata": {},
   "outputs": [
    {
     "name": "stdout",
     "output_type": "stream",
     "text": [
      "128.5\n"
     ]
    }
   ],
   "source": [
    "# Задание 10.6\n",
    "\n",
    "# salary = '29000 руб.'\n",
    "# salary = '35000 руб.'\n",
    "salary = '128500 руб.'\n",
    "\n",
    "salary_number = float(salary.split()[0])/1_000\n",
    "print(salary_number)"
   ]
  },
  {
   "cell_type": "code",
   "execution_count": 181,
   "metadata": {},
   "outputs": [
    {
     "name": "stdout",
     "output_type": "stream",
     "text": [
      "16\n",
      "10\n"
     ]
    }
   ],
   "source": [
    "# Задание 10.7\n",
    "\n",
    "experience = 'Work experience 202 months'\n",
    "# experience = 'Work experience 60 months'\n",
    "# experience = 'Work experience 3 months'\n",
    "\n",
    "months = int(experience.split()[2])\n",
    "experience_year = int(months/12)\n",
    "experience_month = months - experience_year*12\n",
    "\n",
    "# experience_year = int(experience.split()[2]) // 12    # эталонный ответ\n",
    "# experience_month = int(experience.split()[2]) % 12\n",
    "\n",
    "print(experience_year)\n",
    "print(experience_month)"
   ]
  },
  {
   "cell_type": "code",
   "execution_count": 180,
   "metadata": {},
   "outputs": [
    {
     "name": "stdout",
     "output_type": "stream",
     "text": [
      "woman\n",
      "36\n",
      "1982\n"
     ]
    }
   ],
   "source": [
    "# Задание 10.8\n",
    "\n",
    "# description = 'Male , 39 years old , born on November 27 , 1979'\n",
    "description = 'Woman , 36 years old , born on August 12 , 1982'\n",
    "# description = 'Male , 38 years old , born on June 25 , 1980'\n",
    "\n",
    "description_split = description.split(' , ')\n",
    "gender = description_split[0].lower()\n",
    "age = int(description_split[1].split()[0])\n",
    "year_of_birth = int(description_split[-1])\n",
    "\n",
    "print(gender)\n",
    "print(age)\n",
    "print(year_of_birth)"
   ]
  }
 ],
 "metadata": {
  "kernelspec": {
   "display_name": "base",
   "language": "python",
   "name": "python3"
  },
  "language_info": {
   "codemirror_mode": {
    "name": "ipython",
    "version": 3
   },
   "file_extension": ".py",
   "mimetype": "text/x-python",
   "name": "python",
   "nbconvert_exporter": "python",
   "pygments_lexer": "ipython3",
   "version": "3.12.4"
  }
 },
 "nbformat": 4,
 "nbformat_minor": 2
}
