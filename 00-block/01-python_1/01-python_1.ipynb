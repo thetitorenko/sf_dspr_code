{
 "cells": [
  {
   "cell_type": "markdown",
   "metadata": {},
   "source": [
    "### 3 юнит"
   ]
  },
  {
   "cell_type": "code",
   "execution_count": 6,
   "metadata": {},
   "outputs": [
    {
     "name": "stdout",
     "output_type": "stream",
     "text": [
      "Hello, world\n",
      "Hello world\n",
      "Helloworld\n"
     ]
    }
   ],
   "source": [
    "# Задание 3.1\n",
    "\n",
    "print('Hello, world')\n",
    "print('Hello', 'world')\n",
    "print('Hello'+'world')"
   ]
  },
  {
   "cell_type": "code",
   "execution_count": 7,
   "metadata": {},
   "outputs": [
    {
     "name": "stdout",
     "output_type": "stream",
     "text": [
      "15\n"
     ]
    }
   ],
   "source": [
    "# Задание 3.2.1\n",
    "\n",
    "nums = [1, 2, 3, 4, 5]\n",
    "total = 0\n",
    "\n",
    "for num in nums:\n",
    "    total += num\n",
    "\n",
    "print(total)"
   ]
  },
  {
   "cell_type": "code",
   "execution_count": 8,
   "metadata": {},
   "outputs": [
    {
     "name": "stdout",
     "output_type": "stream",
     "text": [
      "9\n"
     ]
    }
   ],
   "source": [
    "# Задание 3.2.2\n",
    "\n",
    "nums = [3, 8, 1, 9, 4]\n",
    "max_num = nums[0]\n",
    "\n",
    "for num in nums:\n",
    "    if num > max_num:\n",
    "        max_num = num\n",
    "\n",
    "print(max_num)"
   ]
  },
  {
   "cell_type": "code",
   "execution_count": 9,
   "metadata": {},
   "outputs": [
    {
     "name": "stdout",
     "output_type": "stream",
     "text": [
      "120\n"
     ]
    }
   ],
   "source": [
    "# Задание 3.2.3\n",
    "\n",
    "n = 5\n",
    "factorial = 1\n",
    "\n",
    "for i in range(1, n+1):\n",
    "    factorial *= i\n",
    "\n",
    "print(factorial)"
   ]
  },
  {
   "cell_type": "markdown",
   "metadata": {},
   "source": [
    "### 4 юнит"
   ]
  },
  {
   "cell_type": "code",
   "execution_count": 11,
   "metadata": {},
   "outputs": [
    {
     "name": "stdout",
     "output_type": "stream",
     "text": [
      "\n",
      "Hello, Nick T !\n",
      "\n",
      "Your profile:\n",
      "Age: 25  years\n",
      "City: Almaty\n"
     ]
    }
   ],
   "source": [
    "# Задание 5.13\n",
    "\n",
    "first_name = input(\"Enter your first name:\")\n",
    "last_name = input(\"Enter your last name:\")\n",
    "age = input(\"Enter your age:\")\n",
    "city = input(\"Enter your city of residence:\")\n",
    "\n",
    "\n",
    "print(\"\")\n",
    "print(\"Hello,\", first_name, last_name, \"!\")\n",
    "print(\"\")\n",
    "print(\"Your profile:\")\n",
    "print(\"Age:\", age, 'years')\n",
    "print(\"City:\", city)"
   ]
  },
  {
   "cell_type": "code",
   "execution_count": 12,
   "metadata": {},
   "outputs": [
    {
     "name": "stdout",
     "output_type": "stream",
     "text": [
      "<class 'float'>\n"
     ]
    }
   ],
   "source": [
    "a = 3.14\n",
    "print(type(a))"
   ]
  },
  {
   "cell_type": "code",
   "execution_count": 13,
   "metadata": {},
   "outputs": [
    {
     "name": "stdout",
     "output_type": "stream",
     "text": [
      "<class 'str'>\n"
     ]
    }
   ],
   "source": [
    "a = \"3.14\"\n",
    "print(type(a))"
   ]
  },
  {
   "cell_type": "code",
   "execution_count": 15,
   "metadata": {},
   "outputs": [
    {
     "name": "stdout",
     "output_type": "stream",
     "text": [
      "ID переменной a до: 140731880258104\n",
      "ID переменной a после: 140731880258424\n"
     ]
    }
   ],
   "source": [
    "a = 5\n",
    "b = 10\n",
    "\n",
    "print('ID переменной a до:', id(a))\n",
    "\n",
    "a = a + b\n",
    "\n",
    "print('ID переменной a после:', id(a))"
   ]
  }
 ],
 "metadata": {
  "kernelspec": {
   "display_name": "base",
   "language": "python",
   "name": "python3"
  },
  "language_info": {
   "codemirror_mode": {
    "name": "ipython",
    "version": 3
   },
   "file_extension": ".py",
   "mimetype": "text/x-python",
   "name": "python",
   "nbconvert_exporter": "python",
   "pygments_lexer": "ipython3",
   "version": "3.12.4"
  }
 },
 "nbformat": 4,
 "nbformat_minor": 2
}
