{
 "cells": [
  {
   "cell_type": "markdown",
   "metadata": {},
   "source": [
    "### 2 юнит"
   ]
  },
  {
   "cell_type": "code",
   "execution_count": 20,
   "metadata": {},
   "outputs": [
    {
     "name": "stdout",
     "output_type": "stream",
     "text": [
      "Called outer function\n",
      "Called inner function\n"
     ]
    }
   ],
   "source": [
    "def outer():\n",
    "    print('Called outer function')\n",
    "    def inner():\n",
    "        print('Called inner function')\n",
    "    inner()\n",
    "\n",
    "outer()"
   ]
  },
  {
   "cell_type": "code",
   "execution_count": 21,
   "metadata": {},
   "outputs": [
    {
     "data": {
      "text/plain": [
       "3.0"
      ]
     },
     "execution_count": 21,
     "metadata": {},
     "output_type": "execute_result"
    }
   ],
   "source": [
    "def root(value, n=2):\n",
    "    result = value ** (1/n)\n",
    "    return result\n",
    "\n",
    "root(81, 4)"
   ]
  },
  {
   "cell_type": "code",
   "execution_count": 22,
   "metadata": {},
   "outputs": [
    {
     "name": "stdout",
     "output_type": "stream",
     "text": [
      "Root of power 3 from 27 equals 3.0\n"
     ]
    }
   ],
   "source": [
    "# Задаём внешнюю функцию\n",
    "def print_root(value, n=2):\n",
    "\n",
    "    # Задаём внутреннюю функцию\n",
    "    def root2(value, n=2):\n",
    "        result = value ** (1/n)\n",
    "        return result\n",
    "    \n",
    "    # Получаем результат из внутренней функции\n",
    "    res = root2(value, n)\n",
    "    print(f'Root of power {n} from {value} equals {res}')\n",
    "\n",
    "print_root(27, 3)"
   ]
  },
  {
   "cell_type": "code",
   "execution_count": 23,
   "metadata": {},
   "outputs": [
    {
     "ename": "NameError",
     "evalue": "name 'root2' is not defined",
     "output_type": "error",
     "traceback": [
      "\u001b[1;31m---------------------------------------------------------------------------\u001b[0m",
      "\u001b[1;31mNameError\u001b[0m                                 Traceback (most recent call last)",
      "Cell \u001b[1;32mIn[23], line 1\u001b[0m\n\u001b[1;32m----> 1\u001b[0m \u001b[38;5;28mprint\u001b[39m(root2(\u001b[38;5;241m27\u001b[39m, \u001b[38;5;241m3\u001b[39m))\n",
      "\u001b[1;31mNameError\u001b[0m: name 'root2' is not defined"
     ]
    }
   ],
   "source": [
    "print(root2(27, 3))"
   ]
  },
  {
   "cell_type": "code",
   "execution_count": 24,
   "metadata": {},
   "outputs": [
    {
     "ename": "NameError",
     "evalue": "name 'res' is not defined",
     "output_type": "error",
     "traceback": [
      "\u001b[1;31m---------------------------------------------------------------------------\u001b[0m",
      "\u001b[1;31mNameError\u001b[0m                                 Traceback (most recent call last)",
      "Cell \u001b[1;32mIn[24], line 1\u001b[0m\n\u001b[1;32m----> 1\u001b[0m \u001b[38;5;28mprint\u001b[39m(res)\n",
      "\u001b[1;31mNameError\u001b[0m: name 'res' is not defined"
     ]
    }
   ],
   "source": [
    "print(res)"
   ]
  },
  {
   "cell_type": "code",
   "execution_count": 25,
   "metadata": {},
   "outputs": [
    {
     "data": {
      "text/plain": [
       "9"
      ]
     },
     "execution_count": 25,
     "metadata": {},
     "output_type": "execute_result"
    }
   ],
   "source": [
    "# Задание 2.3\n",
    "\n",
    "s = 'Это простая строка'\n",
    "# s = 'This is a simple string'\n",
    "# s = 'String for test'\n",
    "\n",
    "def get_count_unique_symbols(s):\n",
    "    s = s.lower().replace(' ', '')\n",
    "    res = len(set(s))\n",
    "    return res\n",
    "\n",
    "get_count_unique_symbols(s)"
   ]
  },
  {
   "cell_type": "code",
   "execution_count": 26,
   "metadata": {},
   "outputs": [
    {
     "data": {
      "text/plain": [
       "'Это простая строка'"
      ]
     },
     "execution_count": 26,
     "metadata": {},
     "output_type": "execute_result"
    }
   ],
   "source": [
    "# Задание 2.4\n",
    "\n",
    "s1, s2 = 'Это простая строка', 'This is a simple string'\n",
    "# s1, s2 = 'Отличная фраза', 'Great phrase'\n",
    "# s1, s2 = 'школа', 'school'\n",
    "# s1, s2 = 'Шашлык', 'Barbecue'\n",
    "\n",
    "def get_min_string(s1, s2):\n",
    "    def get_count_unique_symbols(s):\n",
    "        s = s.lower().replace(' ', '')\n",
    "        res = len(set(s))\n",
    "        return res\n",
    "    s1_len = get_count_unique_symbols(s1)\n",
    "    s2_len = get_count_unique_symbols(s2)\n",
    "    if s1_len == s2_len:\n",
    "        return s1, s2\n",
    "    elif s1_len < s2_len:\n",
    "        return s1\n",
    "    else:\n",
    "        return s2\n",
    "\n",
    "get_min_string(s1, s2)"
   ]
  },
  {
   "cell_type": "code",
   "execution_count": 7,
   "metadata": {},
   "outputs": [
    {
     "name": "stdout",
     "output_type": "stream",
     "text": [
      "Employee Ivan Ivanov is registered with the company Yandex\n"
     ]
    }
   ],
   "source": [
    "# Внешняя функция для регистрации сотрудника\n",
    "def register_employer(name, surname):\n",
    "\n",
    "    # Внутренняя функция для создания полного имени\n",
    "    def create_full_name():\n",
    "        result = name + ' ' + surname   # использование внешний переменных\n",
    "        return result\n",
    "\n",
    "    # Вызов внутренней функции\n",
    "    full_name = create_full_name()\n",
    "\n",
    "    # Вывод на экран\n",
    "    print(f'Employee {full_name} is registered with the company {company_name}')\n",
    "\n",
    "\n",
    "company_name = 'Yandex'\n",
    "register_employer('Ivan', 'Ivanov')"
   ]
  },
  {
   "cell_type": "code",
   "execution_count": 8,
   "metadata": {},
   "outputs": [
    {
     "ename": "NameError",
     "evalue": "name 'result' is not defined",
     "output_type": "error",
     "traceback": [
      "\u001b[1;31m---------------------------------------------------------------------------\u001b[0m",
      "\u001b[1;31mNameError\u001b[0m                                 Traceback (most recent call last)",
      "Cell \u001b[1;32mIn[8], line 11\u001b[0m\n\u001b[0;32m      7\u001b[0m     \u001b[38;5;28mprint\u001b[39m(\u001b[38;5;124mf\u001b[39m\u001b[38;5;124m'\u001b[39m\u001b[38;5;124mEmployee \u001b[39m\u001b[38;5;132;01m{\u001b[39;00mfull_name\u001b[38;5;132;01m}\u001b[39;00m\u001b[38;5;124m is registered with the company \u001b[39m\u001b[38;5;132;01m{\u001b[39;00mcompany_name\u001b[38;5;132;01m}\u001b[39;00m\u001b[38;5;124m'\u001b[39m)\n\u001b[0;32m     10\u001b[0m company_name \u001b[38;5;241m=\u001b[39m \u001b[38;5;124m'\u001b[39m\u001b[38;5;124mYandex\u001b[39m\u001b[38;5;124m'\u001b[39m\n\u001b[1;32m---> 11\u001b[0m register_employer(\u001b[38;5;124m'\u001b[39m\u001b[38;5;124mIvan\u001b[39m\u001b[38;5;124m'\u001b[39m, \u001b[38;5;124m'\u001b[39m\u001b[38;5;124mIvanov\u001b[39m\u001b[38;5;124m'\u001b[39m)\n",
      "Cell \u001b[1;32mIn[8], line 6\u001b[0m, in \u001b[0;36mregister_employer\u001b[1;34m(name, surname)\u001b[0m\n\u001b[0;32m      4\u001b[0m     \u001b[38;5;28;01mreturn\u001b[39;00m result\n\u001b[0;32m      5\u001b[0m full_name \u001b[38;5;241m=\u001b[39m create_full_name()\n\u001b[1;32m----> 6\u001b[0m \u001b[38;5;28mprint\u001b[39m(result)\n\u001b[0;32m      7\u001b[0m \u001b[38;5;28mprint\u001b[39m(\u001b[38;5;124mf\u001b[39m\u001b[38;5;124m'\u001b[39m\u001b[38;5;124mEmployee \u001b[39m\u001b[38;5;132;01m{\u001b[39;00mfull_name\u001b[38;5;132;01m}\u001b[39;00m\u001b[38;5;124m is registered with the company \u001b[39m\u001b[38;5;132;01m{\u001b[39;00mcompany_name\u001b[38;5;132;01m}\u001b[39;00m\u001b[38;5;124m'\u001b[39m)\n",
      "\u001b[1;31mNameError\u001b[0m: name 'result' is not defined"
     ]
    }
   ],
   "source": [
    "def register_employer(name, surname):\n",
    "    def create_full_name():\n",
    "        result = name + ' ' + surname\n",
    "        return result\n",
    "    full_name = create_full_name()\n",
    "    print(result)\n",
    "    print(f'Employee {full_name} is registered with the company {company_name}')\n",
    "\n",
    "\n",
    "company_name = 'Yandex'\n",
    "register_employer('Ivan', 'Ivanov')"
   ]
  },
  {
   "cell_type": "code",
   "execution_count": 9,
   "metadata": {},
   "outputs": [
    {
     "name": "stdout",
     "output_type": "stream",
     "text": [
      "Employee Ivan Ivanov is registered with the company Yandex\n"
     ]
    },
    {
     "ename": "NameError",
     "evalue": "name 'full_name' is not defined",
     "output_type": "error",
     "traceback": [
      "\u001b[1;31m---------------------------------------------------------------------------\u001b[0m",
      "\u001b[1;31mNameError\u001b[0m                                 Traceback (most recent call last)",
      "Cell \u001b[1;32mIn[9], line 12\u001b[0m\n\u001b[0;32m      9\u001b[0m company_name \u001b[38;5;241m=\u001b[39m \u001b[38;5;124m'\u001b[39m\u001b[38;5;124mYandex\u001b[39m\u001b[38;5;124m'\u001b[39m\n\u001b[0;32m     10\u001b[0m register_employer(\u001b[38;5;124m'\u001b[39m\u001b[38;5;124mIvan\u001b[39m\u001b[38;5;124m'\u001b[39m, \u001b[38;5;124m'\u001b[39m\u001b[38;5;124mIvanov\u001b[39m\u001b[38;5;124m'\u001b[39m)\n\u001b[1;32m---> 12\u001b[0m \u001b[38;5;28mprint\u001b[39m(full_name)\n",
      "\u001b[1;31mNameError\u001b[0m: name 'full_name' is not defined"
     ]
    }
   ],
   "source": [
    "def register_employer(name, surname):\n",
    "    def create_full_name():\n",
    "        result = name + ' ' + surname\n",
    "        return result\n",
    "    full_name = create_full_name()\n",
    "    print(f'Employee {full_name} is registered with the company {company_name}')\n",
    "\n",
    "\n",
    "company_name = 'Yandex'\n",
    "register_employer('Ivan', 'Ivanov')\n",
    "\n",
    "print(full_name)"
   ]
  },
  {
   "cell_type": "code",
   "execution_count": 23,
   "metadata": {},
   "outputs": [
    {
     "name": "stdout",
     "output_type": "stream",
     "text": [
      "{}\n",
      "{}\n",
      "global\n"
     ]
    }
   ],
   "source": [
    "value = 'global'\n",
    "def outer():\n",
    "    print(locals())\n",
    "    def inner():\n",
    "        print(locals())\n",
    "        print(value)\n",
    "    inner()\n",
    "\n",
    "outer()"
   ]
  },
  {
   "cell_type": "code",
   "execution_count": 24,
   "metadata": {},
   "outputs": [
    {
     "name": "stdout",
     "output_type": "stream",
     "text": [
      "{'value': 'enclosing'}\n",
      "{'value': 'enclosing'}\n",
      "enclosing\n"
     ]
    }
   ],
   "source": [
    "value = 'global'\n",
    "def outer():\n",
    "    value = 'enclosing'\n",
    "    print(locals())\n",
    "    def inner():\n",
    "        print(locals())\n",
    "        print(value)\n",
    "    inner()\n",
    "\n",
    "outer()"
   ]
  },
  {
   "cell_type": "code",
   "execution_count": 25,
   "metadata": {},
   "outputs": [
    {
     "name": "stdout",
     "output_type": "stream",
     "text": [
      "{'value': 'enclosing'}\n",
      "{'value': 'local'}\n",
      "local\n"
     ]
    }
   ],
   "source": [
    "value = 'global'\n",
    "def outer():\n",
    "    value = 'enclosing'\n",
    "    print(locals())\n",
    "    def inner():\n",
    "        value = 'local'\n",
    "        print(locals())\n",
    "        print(value)\n",
    "    inner()\n",
    "\n",
    "outer()"
   ]
  },
  {
   "cell_type": "code",
   "execution_count": 30,
   "metadata": {},
   "outputs": [
    {
     "name": "stdout",
     "output_type": "stream",
     "text": [
      "17\n"
     ]
    }
   ],
   "source": [
    "# Задание 2.7\n",
    "\n",
    "num_students = 250      # число студентов\n",
    "\n",
    "# Объявляем функцию для вычисления количества вебинаров\n",
    "def get_num_webinars(max_perticipants):\n",
    "    num_webinars = num_students // max_perticipants\n",
    "    if (num_students % max_perticipants > 0):\n",
    "        num_webinars += 1\n",
    "    return num_webinars\n",
    "\n",
    "webinars = get_num_webinars(15)\n",
    "print(webinars)"
   ]
  },
  {
   "cell_type": "code",
   "execution_count": 36,
   "metadata": {},
   "outputs": [
    {
     "name": "stdout",
     "output_type": "stream",
     "text": [
      "78.54\n",
      "23.562\n",
      "78.5\n",
      "23.55\n",
      "804.25\n",
      "157.08\n"
     ]
    }
   ],
   "source": [
    "# Задание 2.9\n",
    "\n",
    "def calculate_area_circle(r):\n",
    "    area = pi*r**2\n",
    "    return round(area, 3)\n",
    "\n",
    "def calculate_area_ellipse(a, b):\n",
    "    area = pi*a*b\n",
    "    return round(area, 3)\n",
    "\n",
    "pi = 3.1416\n",
    "print(calculate_area_circle(r=5))\n",
    "print(calculate_area_ellipse(a=3, b=2.5))\n",
    "\n",
    "pi = 3.14\n",
    "print(calculate_area_circle(r=5))\n",
    "print(calculate_area_ellipse(a=3, b=2.5))\n",
    "\n",
    "pi = 3.1416\n",
    "print(calculate_area_circle(r=16))\n",
    "print(calculate_area_ellipse(a=5, b=10))"
   ]
  },
  {
   "cell_type": "markdown",
   "metadata": {},
   "source": [
    "### 3 юнит"
   ]
  },
  {
   "cell_type": "code",
   "execution_count": 43,
   "metadata": {},
   "outputs": [
    {
     "name": "stdout",
     "output_type": "stream",
     "text": [
      "global id 140729609693912\n",
      "local id 140729609696792\n",
      "globals value 10\n",
      "locals value 100\n",
      "10\n"
     ]
    }
   ],
   "source": [
    "count = 10\n",
    "print('global id', id(count))\n",
    "\n",
    "def function():\n",
    "    count = 100\n",
    "    print('local id', id(count))\n",
    "    print('globals value', globals()['count'])\n",
    "    print('locals value', locals()['count'])\n",
    "\n",
    "function()\n",
    "print(count)"
   ]
  },
  {
   "cell_type": "code",
   "execution_count": 44,
   "metadata": {},
   "outputs": [
    {
     "name": "stdout",
     "output_type": "stream",
     "text": [
      "global id 194732224\n",
      "global id 194732224\n",
      "['foo', 'quux', 'baz']\n"
     ]
    }
   ],
   "source": [
    "words_list = ['foo', 'bar', 'baz']\n",
    "print('global id', id(words_list))\n",
    "\n",
    "def function():\n",
    "    words_list[1] = 'quux'\n",
    "    print('global id', id(words_list))\n",
    "\n",
    "function()\n",
    "print(words_list)"
   ]
  },
  {
   "cell_type": "code",
   "execution_count": 45,
   "metadata": {},
   "outputs": [
    {
     "name": "stdout",
     "output_type": "stream",
     "text": [
      "global id 194709632\n",
      "global id 194991808\n",
      "['foo', 'bar', 'baz']\n"
     ]
    }
   ],
   "source": [
    "words_list = ['foo', 'bar', 'baz']\n",
    "print('global id', id(words_list))\n",
    "\n",
    "def function():\n",
    "    words_list = ['foo', 'quux', 'baz']\n",
    "    print('global id', id(words_list))\n",
    "\n",
    "function()\n",
    "print(words_list)"
   ]
  },
  {
   "cell_type": "code",
   "execution_count": 51,
   "metadata": {},
   "outputs": [
    {
     "name": "stdout",
     "output_type": "stream",
     "text": [
      "140729609693592\n",
      "140729609693624\n",
      "1\n"
     ]
    }
   ],
   "source": [
    "global_count = 0\n",
    "print(id(global_count))\n",
    "\n",
    "def add_item():\n",
    "    global global_count\n",
    "    global_count = global_count + 1\n",
    "    print(id(global_count))\n",
    "\n",
    "add_item()\n",
    "print(global_count)"
   ]
  },
  {
   "cell_type": "code",
   "execution_count": 52,
   "metadata": {},
   "outputs": [
    {
     "name": "stdout",
     "output_type": "stream",
     "text": [
      "140729609693624\n",
      "140729609693624\n",
      "1\n"
     ]
    }
   ],
   "source": [
    "def add_item():\n",
    "    global global_count\n",
    "    global_count = 0\n",
    "    global_count = global_count + 1\n",
    "    print(id(global_count))\n",
    "\n",
    "add_item()\n",
    "add_item()\n",
    "print(global_count)"
   ]
  },
  {
   "cell_type": "code",
   "execution_count": 53,
   "metadata": {},
   "outputs": [
    {
     "name": "stdout",
     "output_type": "stream",
     "text": [
      "300\n"
     ]
    }
   ],
   "source": [
    "num_students = 250\n",
    "\n",
    "def add_new_students(num_new):\n",
    "    global num_students\n",
    "    num_students += num_new\n",
    "\n",
    "add_new_students(50)\n",
    "print(num_students)"
   ]
  },
  {
   "cell_type": "code",
   "execution_count": 57,
   "metadata": {},
   "outputs": [
    {
     "name": "stdout",
     "output_type": "stream",
     "text": [
      "300\n"
     ]
    }
   ],
   "source": [
    "num_students = 250\n",
    "\n",
    "def add_new_students(num_students, num_new):\n",
    "    num_students += num_new\n",
    "    return num_students\n",
    "\n",
    "num_students = add_new_students(250, 50)\n",
    "print(num_students)"
   ]
  },
  {
   "cell_type": "code",
   "execution_count": 60,
   "metadata": {},
   "outputs": [
    {
     "name": "stdout",
     "output_type": "stream",
     "text": [
      "199000\n",
      "30000\n",
      "6918\n"
     ]
    }
   ],
   "source": [
    "# Задание 3.2\n",
    "\n",
    "def cash(less_money):\n",
    "    global money\n",
    "    money -= less_money\n",
    "    return money\n",
    "\n",
    "money = 200000\n",
    "print(cash(1000))\n",
    "\n",
    "money = 30240\n",
    "print(cash(240))\n",
    "\n",
    "money = 7731\n",
    "print(cash(813))"
   ]
  },
  {
   "cell_type": "code",
   "execution_count": null,
   "metadata": {},
   "outputs": [
    {
     "name": "stdout",
     "output_type": "stream",
     "text": [
      "1351.3513513513512\n",
      "1136.3636363636363\n"
     ]
    }
   ],
   "source": [
    "# Задание 3.3\n",
    "\n",
    "# Словарь с курсами валют (по отношению к рублю)\n",
    "currencies = {'USD': 74, 'EUR': 88, 'GBP': 98 , 'CHF': 82}\n",
    "\n",
    "# Общее количество денег на счету, которое нужно конвертировать\n",
    "money = 100000\n",
    "# money = 35021\n",
    "\n",
    "# Функция для конвертации валюты, аргумент - наименование валюты\n",
    "def convert(currencies, money, currency):\n",
    "    # Производим конвертацию - делим количество денег на счету на соответствующий курс\n",
    "    money = money / currencies[currency]\n",
    "    return money\n",
    "\n",
    "# Вызываем функцию для конвертации валюты\n",
    "convert_money = convert(currencies, money, 'USD')\n",
    "print(convert_money)\n",
    "\n",
    "convert_money = convert(currencies, money, 'EUR')  \n",
    "print(convert_money)  "
   ]
  },
  {
   "cell_type": "code",
   "execution_count": 72,
   "metadata": {},
   "outputs": [
    {
     "name": "stdout",
     "output_type": "stream",
     "text": [
      "140729609693592\n",
      "140729609693592\n",
      "1\n"
     ]
    }
   ],
   "source": [
    "def outer():\n",
    "    nonlocal_counter = 0\n",
    "    print(id(nonlocal_counter))\n",
    "    def inner():\n",
    "        nonlocal nonlocal_counter\n",
    "        print(id(nonlocal_counter))\n",
    "        nonlocal_counter = nonlocal_counter + 1\n",
    "        print(nonlocal_counter)\n",
    "    inner()\n",
    "\n",
    "outer()"
   ]
  },
  {
   "cell_type": "code",
   "execution_count": null,
   "metadata": {},
   "outputs": [
    {
     "name": "stdout",
     "output_type": "stream",
     "text": [
      "1130.5\n",
      "1130.5\n",
      "1130.5\n"
     ]
    }
   ],
   "source": [
    "def calculate_cost(cost, sale):\n",
    "\n",
    "    # Вложенная функция для обработки входных данных о скидке\n",
    "    def preprocessing_sale():\n",
    "        nonlocal sale   # Позволяет изменять переменную sale, объявленную в окружающей функции\n",
    "\n",
    "        # Проверяем корректность типа переменной sale\n",
    "        if not isinstance(sale, (str, int, float)):\n",
    "            raise ValueError('Некорректный формат строки')\n",
    "        \n",
    "        # Если скидка задана строкой, преобразуем в дробь\n",
    "        elif isinstance(sale, str):\n",
    "            sale = float(sale.replace('%', '')) / 100\n",
    "\n",
    "        #  Если скидка задана целым числом, преобразуем в дробь\n",
    "        elif isinstance(sale, int):\n",
    "            sale = sale/100\n",
    "\n",
    "    preprocessing_sale()        # Вызываем функцию обработки скидки\n",
    "    return cost - cost*sale     # Вычисляем стоимость с учетом скидки\n",
    "\n",
    "print(calculate_cost(1330, '15%'))\n",
    "print(calculate_cost(1330, 15))\n",
    "print(calculate_cost(1330, 0.15))\n",
    "# print(calculate_cost(1330, {sale: 15}))"
   ]
  },
  {
   "cell_type": "code",
   "execution_count": 89,
   "metadata": {},
   "outputs": [
    {
     "name": "stdout",
     "output_type": "stream",
     "text": [
      "2\n",
      "4\n"
     ]
    }
   ],
   "source": [
    "# Задание 3.5\n",
    "\n",
    "# Функция для вычисления количества символов (symbol) в строке s\n",
    "def count_occurrences(s, symbol):\n",
    "\n",
    "    # Внутренняя функция для предобработки строки s\n",
    "    def preprocessing_s():\n",
    "        nonlocal s\n",
    "\n",
    "        # Удаляем пробелы из строки\n",
    "        s = s.replace(' ', '')\n",
    "        # Приводим строку к нижнему регистру\n",
    "        s = s.lower()\n",
    "\n",
    "    # Вызываем функцию для предобработки аргумента s\n",
    "    preprocessing_s()\n",
    "\n",
    "    # Считаем количество символов symbol в строке s и возвращаем результат\n",
    "    return s.count(symbol)\n",
    "\n",
    "\n",
    "print(count_occurrences('This is simple string', symbol='t'))\n",
    "print(count_occurrences('МамА мыла рАму', symbol='а'))"
   ]
  },
  {
   "cell_type": "code",
   "execution_count": 95,
   "metadata": {},
   "outputs": [
    {
     "data": {
      "text/plain": [
       "['ArithmeticError',\n",
       " 'AssertionError',\n",
       " 'AttributeError',\n",
       " 'BaseException',\n",
       " 'BaseExceptionGroup',\n",
       " 'BlockingIOError',\n",
       " 'BrokenPipeError',\n",
       " 'BufferError',\n",
       " 'BytesWarning',\n",
       " 'ChildProcessError',\n",
       " 'ConnectionAbortedError',\n",
       " 'ConnectionError',\n",
       " 'ConnectionRefusedError',\n",
       " 'ConnectionResetError',\n",
       " 'DeprecationWarning',\n",
       " 'EOFError',\n",
       " 'Ellipsis',\n",
       " 'EncodingWarning',\n",
       " 'EnvironmentError',\n",
       " 'Exception',\n",
       " 'ExceptionGroup',\n",
       " 'False',\n",
       " 'FileExistsError',\n",
       " 'FileNotFoundError',\n",
       " 'FloatingPointError',\n",
       " 'FutureWarning',\n",
       " 'GeneratorExit',\n",
       " 'IOError',\n",
       " 'ImportError',\n",
       " 'ImportWarning',\n",
       " 'IndentationError',\n",
       " 'IndexError',\n",
       " 'InterruptedError',\n",
       " 'IsADirectoryError',\n",
       " 'KeyError',\n",
       " 'KeyboardInterrupt',\n",
       " 'LookupError',\n",
       " 'MemoryError',\n",
       " 'ModuleNotFoundError',\n",
       " 'NameError',\n",
       " 'None',\n",
       " 'NotADirectoryError',\n",
       " 'NotImplemented',\n",
       " 'NotImplementedError',\n",
       " 'OSError',\n",
       " 'OverflowError',\n",
       " 'PendingDeprecationWarning',\n",
       " 'PermissionError',\n",
       " 'ProcessLookupError',\n",
       " 'RecursionError',\n",
       " 'ReferenceError',\n",
       " 'ResourceWarning',\n",
       " 'RuntimeError',\n",
       " 'RuntimeWarning',\n",
       " 'StopAsyncIteration',\n",
       " 'StopIteration',\n",
       " 'SyntaxError',\n",
       " 'SyntaxWarning',\n",
       " 'SystemError',\n",
       " 'SystemExit',\n",
       " 'TabError',\n",
       " 'TimeoutError',\n",
       " 'True',\n",
       " 'TypeError',\n",
       " 'UnboundLocalError',\n",
       " 'UnicodeDecodeError',\n",
       " 'UnicodeEncodeError',\n",
       " 'UnicodeError',\n",
       " 'UnicodeTranslateError',\n",
       " 'UnicodeWarning',\n",
       " 'UserWarning',\n",
       " 'ValueError',\n",
       " 'Warning',\n",
       " 'WindowsError',\n",
       " 'ZeroDivisionError',\n",
       " '__IPYTHON__',\n",
       " '__build_class__',\n",
       " '__debug__',\n",
       " '__doc__',\n",
       " '__import__',\n",
       " '__loader__',\n",
       " '__name__',\n",
       " '__package__',\n",
       " '__spec__',\n",
       " 'abs',\n",
       " 'aiter',\n",
       " 'all',\n",
       " 'anext',\n",
       " 'any',\n",
       " 'ascii',\n",
       " 'bin',\n",
       " 'bool',\n",
       " 'breakpoint',\n",
       " 'bytearray',\n",
       " 'bytes',\n",
       " 'callable',\n",
       " 'chr',\n",
       " 'classmethod',\n",
       " 'compile',\n",
       " 'complex',\n",
       " 'copyright',\n",
       " 'credits',\n",
       " 'delattr',\n",
       " 'dict',\n",
       " 'dir',\n",
       " 'display',\n",
       " 'divmod',\n",
       " 'enumerate',\n",
       " 'eval',\n",
       " 'exec',\n",
       " 'execfile',\n",
       " 'filter',\n",
       " 'float',\n",
       " 'format',\n",
       " 'frozenset',\n",
       " 'get_ipython',\n",
       " 'getattr',\n",
       " 'globals',\n",
       " 'hasattr',\n",
       " 'hash',\n",
       " 'help',\n",
       " 'hex',\n",
       " 'id',\n",
       " 'input',\n",
       " 'int',\n",
       " 'isinstance',\n",
       " 'issubclass',\n",
       " 'iter',\n",
       " 'len',\n",
       " 'license',\n",
       " 'list',\n",
       " 'locals',\n",
       " 'map',\n",
       " 'max',\n",
       " 'memoryview',\n",
       " 'min',\n",
       " 'next',\n",
       " 'object',\n",
       " 'oct',\n",
       " 'open',\n",
       " 'ord',\n",
       " 'pow',\n",
       " 'print',\n",
       " 'property',\n",
       " 'range',\n",
       " 'repr',\n",
       " 'reversed',\n",
       " 'round',\n",
       " 'runfile',\n",
       " 'set',\n",
       " 'setattr',\n",
       " 'slice',\n",
       " 'sorted',\n",
       " 'staticmethod',\n",
       " 'str',\n",
       " 'sum',\n",
       " 'super',\n",
       " 'tuple',\n",
       " 'type',\n",
       " 'vars',\n",
       " 'zip']"
      ]
     },
     "execution_count": 95,
     "metadata": {},
     "output_type": "execute_result"
    }
   ],
   "source": [
    "dir(__builtins__)"
   ]
  },
  {
   "cell_type": "code",
   "execution_count": 102,
   "metadata": {},
   "outputs": [
    {
     "name": "stdout",
     "output_type": "stream",
     "text": [
      "{'ютуб': 248, 'вк': 514, 'радио': 339}\n"
     ]
    }
   ],
   "source": [
    "# Задание 3.7\n",
    "\n",
    "advertising_campaigns = {\n",
    "    'ютуб': [212, 248],\n",
    "    'вк': [514, 342],\n",
    "    'радио': [339, 125]\n",
    "    }\n",
    "\n",
    "# advertising_campaigns = {\n",
    "#     'ютуб': [403, 234, 512],\n",
    "#     'вк': [128, 241, 81],\n",
    "#     'радио': [47, 78, 190]}\n",
    "\n",
    "advertising_campaigns_max = {}\n",
    "\n",
    "# Создаём новый пустой словарь  \n",
    "advertising_campaigns_max = {}  \n",
    "\n",
    "# Создаём цикл по ключам исходного словаря  \n",
    "for key in advertising_campaigns:  \n",
    "\n",
    "    # Вычисляем максимум в списке, лежащем по ключу key  \n",
    "    max_value = max(advertising_campaigns[key])  \n",
    "    # Добавляем максимум в новый словарь  \n",
    "    advertising_campaigns_max[key] = max_value\n",
    "\n",
    "\n",
    "print(advertising_campaigns_max)"
   ]
  },
  {
   "cell_type": "markdown",
   "metadata": {},
   "source": [
    "### 4 юнит"
   ]
  },
  {
   "cell_type": "code",
   "execution_count": null,
   "metadata": {},
   "outputs": [
    {
     "name": "stdout",
     "output_type": "stream",
     "text": [
      "[('Petrova', 'Maria', 'Ivanovna', 13, 3, 2003), ('Ivanov', 'Sergej', None, 24, 9, 1995), ('Smith', 'John', None, 13, 2, 2003)]\n"
     ]
    }
   ],
   "source": [
    "def register(surname, name, date, middle_name=None, registry=None):\n",
    "    \"\"\" \n",
    "    Функция для регистрации пользователя\n",
    "    \n",
    "    Аргументы:\n",
    "    surname — фамилия пользователя;\n",
    "    name — имя пользователя;\n",
    "    date — дата рождения пользователя в формате строки \"DD.MM.YYYY\" (например, \"13.01.2001\");\n",
    "    middle_name — отчество пользователя (опционально);\n",
    "    registry — список, в который добавляются данные о пользователе в виде кортежа.\n",
    "        Формат кортежа: фамилия, имя, отчество, день, месяц, год рождения.\n",
    "    \"\"\"\n",
    "    \n",
    "    # Вспомогательная функция для разбора даты рождения\n",
    "    def preprocessing_date(date):\n",
    "        # Разбивает строку и преобразует в числа\n",
    "        day, month, year = map(int, date.split('.'))\n",
    "        return day, month, year\n",
    "\n",
    "    # Вспомогательная функция для проверки корректности даты рождения\n",
    "    def check_date(day, month, year):\n",
    "        if (type(day) is not int) or (type(month) is not int) or (type(year) is not int):\n",
    "            return False\n",
    "        if not (1990 <= year <= 2022):\n",
    "            return False\n",
    "        if not (1 <= month <= 12):\n",
    "            return False\n",
    "        if not(1 <= day <= 31):\n",
    "            return False\n",
    "        if (month in [4, 6, 9, 11]) and (day > 30):\n",
    "            return False\n",
    "        if (month == 2) and (day > 28):\n",
    "            return False\n",
    "        return True\n",
    "\n",
    "    # Получаем день, месяц, год из даты\n",
    "    day, month, year = preprocessing_date(date)\n",
    "\n",
    "    # Если дата некорректна, вызываем исключение\n",
    "    if not check_date(day, month, year):\n",
    "        raise ValueError('Invalid Date!')\n",
    "\n",
    "    # Если registry не передан, создаем пустой список\n",
    "    if registry is None:\n",
    "        registry = list()\n",
    "\n",
    "    # Добавляем данные пользователя в виде кортежа\n",
    "    registry.append((surname, name, middle_name, day, month, year))\n",
    "\n",
    "    return registry\n",
    "\n",
    "\n",
    "reg = register('Petrova', 'Maria', '13.03.2003', 'Ivanovna')\n",
    "\n",
    "reg = register('Ivanov', 'Sergej', '24.09.1995', registry=reg)\n",
    "\n",
    "reg = register('Smith', 'John', '13.02.2003', registry=reg)\n",
    "\n",
    "# reg = register('Ivanov', 'Sergej', '24.13.1995')\n",
    "\n",
    "print(reg)\n",
    "# [('Petrova', 'Maria', 'Ivanovna', 13, 3, 2003),\n",
    "# ('Ivanov', 'Sergej', None, 24, 9, 1995),\n",
    "# ('Smith', 'John', None, 13, 2, 2003)]"
   ]
  },
  {
   "cell_type": "code",
   "execution_count": 223,
   "metadata": {},
   "outputs": [
    {
     "name": "stdout",
     "output_type": "stream",
     "text": [
      "True\n",
      "True\n",
      "False\n",
      "False\n",
      "False\n",
      "False\n"
     ]
    }
   ],
   "source": [
    "# Задание 4.4\n",
    "\n",
    "def check_date(day, month, year):\n",
    "\n",
    "    # Вложенная функция для проверки, является ли год високосным\n",
    "    def is_leap(year):\n",
    "        return (year % 4 == 0) and ((year % 100 != 0) or (year % 400 == 0))\n",
    "    \n",
    "    # Проверка, являются ли входные значения целыми числами\n",
    "    if (type(day) is not int) or (type(month) is not int) or (type(year) is not int):\n",
    "        return False\n",
    "    \n",
    "    # Проверка, находится ли год в заданном диапазоне (1990-2022)\n",
    "    if not (1990 <= year <= 2022):\n",
    "        return False\n",
    "    \n",
    "    # Проверка, находится ли месяц в допустимом диапазоне (1-12)\n",
    "    if not (1 <= month <= 12):\n",
    "        return False\n",
    "    \n",
    "    # Проверка, находится ли день в допустимом диапазоне (1-31)\n",
    "    if not(1 <= day <= 31):\n",
    "        return False\n",
    "    \n",
    "    # Проверка на максимальное количество дней в месяцах с 30 днями\n",
    "    if (month in [4, 6, 9, 11]) and (day > 30):\n",
    "        return False\n",
    "\n",
    "    # Проверка на февраль: в обычный год - не больше 28 дней,\n",
    "    # в високосный - не больше 29 дней \n",
    "    if (month == 2) and (day > 28) and not is_leap(year):\n",
    "        return False\n",
    "    return True\n",
    "\n",
    "print(check_date(18, 9, 1999))\n",
    "print(check_date(29, 2, 2000))\n",
    "print(check_date(29, 2, 2021))\n",
    "print(check_date(13, 13, 2021))\n",
    "print(check_date(13.5, 12, 2021))\n",
    "print(check_date(29, 2, 2013))"
   ]
  },
  {
   "cell_type": "code",
   "execution_count": 226,
   "metadata": {},
   "outputs": [],
   "source": [
    "# Задание 4.5\n",
    "\n",
    "def register(surname, name, date, middle_name=None, registry=None):\n",
    "    \"\"\" \n",
    "    Функция для регистрации пользователя\n",
    "    \n",
    "    Аргументы:\n",
    "    surname — фамилия пользователя;\n",
    "    name — имя пользователя;\n",
    "    date — дата рождения пользователя в формате строки \"DD.MM.YYYY\" (например, \"13.01.2001\");\n",
    "    middle_name — отчество пользователя (опционально);\n",
    "    registry — список, в который добавляются данные о пользователе в виде кортежа.\n",
    "        Формат кортежа: фамилия, имя, отчество, день, месяц, год рождения.\n",
    "    \"\"\"\n",
    "    \n",
    "    # Вспомогательная функция для разбора даты рождения\n",
    "    def preprocessing_date(date):\n",
    "        # Разбивает строку и преобразует в числа\n",
    "        day, month, year = map(int, date.split('.'))\n",
    "        return day, month, year\n",
    "\n",
    "    # Вспомогательная функция для проверки корректности даты рождения\n",
    "    def check_date(day, month, year):\n",
    "\n",
    "        # Вложенная функция для проверки, является ли год високосным\n",
    "        def is_leap(year):\n",
    "            return (year % 4 == 0) and ((year % 100 != 0) or (year % 400 == 0))\n",
    "        \n",
    "        # Проверка, являются ли входные значения целыми числами\n",
    "        if (type(day) is not int) or (type(month) is not int) or (type(year) is not int):\n",
    "            return False\n",
    "        \n",
    "        # Проверка, находится ли год в заданном диапазоне (1990-2022)\n",
    "        if not (1990 <= year <= 2022):\n",
    "            return False\n",
    "        \n",
    "        # Проверка, находится ли месяц в допустимом диапазоне (1-12)\n",
    "        if not (1 <= month <= 12):\n",
    "            return False\n",
    "        \n",
    "        # Проверка, находится ли день в допустимом диапазоне (1-31)\n",
    "        if not(1 <= day <= 31):\n",
    "            return False\n",
    "        \n",
    "        # Проверка на максимальное количество дней в месяцах с 30 днями\n",
    "        if (month in [4, 6, 9, 11]) and (day > 30):\n",
    "            return False\n",
    "\n",
    "        # Проверка на февраль: в обычный год - не больше 28 дней,\n",
    "        # в високосный - не больше 29 дней \n",
    "        if (month == 2) and (day > 28) and not is_leap(year):\n",
    "            return False\n",
    "        return True\n",
    "\n",
    "    # Получаем день, месяц, год из даты\n",
    "    day, month, year = preprocessing_date(date)\n",
    "\n",
    "    # Если дата некорректна, вызываем исключение\n",
    "    if not check_date(day, month, year):\n",
    "        raise ValueError('Invalid Date!')\n",
    "\n",
    "    # Если registry не передан, создаем пустой список\n",
    "    if registry is None:\n",
    "        registry = list()\n",
    "\n",
    "    # Добавляем данные пользователя в виде кортежа\n",
    "    registry.append((surname, name, middle_name, day, month, year))\n",
    "\n",
    "    return registry"
   ]
  },
  {
   "cell_type": "code",
   "execution_count": null,
   "metadata": {},
   "outputs": [
    {
     "name": "stdout",
     "output_type": "stream",
     "text": [
      "[('Petrova', 'Maria', 'Ivanovna', 13, 3, 2003), ('Ivanov', 'Sergej', None, 24, 9, 1995), ('Smith', 'John', None, 13, 2, 2003)]\n"
     ]
    }
   ],
   "source": [
    "reg = register('Petrova', 'Maria', '13.03.2003', 'Ivanovna')\n",
    "reg = register('Ivanov', 'Sergej', '24.09.1995', registry=reg)\n",
    "reg = register('Smith', 'John', '13.02.2003', registry=reg)\n",
    "\n",
    "print(reg)"
   ]
  },
  {
   "cell_type": "code",
   "execution_count": 229,
   "metadata": {},
   "outputs": [
    {
     "ename": "ValueError",
     "evalue": "Invalid Date!",
     "output_type": "error",
     "traceback": [
      "\u001b[1;31m---------------------------------------------------------------------------\u001b[0m",
      "\u001b[1;31mValueError\u001b[0m                                Traceback (most recent call last)",
      "Cell \u001b[1;32mIn[229], line 1\u001b[0m\n\u001b[1;32m----> 1\u001b[0m reg \u001b[38;5;241m=\u001b[39m register(\u001b[38;5;124m'\u001b[39m\u001b[38;5;124mIvanov\u001b[39m\u001b[38;5;124m'\u001b[39m, \u001b[38;5;124m'\u001b[39m\u001b[38;5;124mSergej\u001b[39m\u001b[38;5;124m'\u001b[39m, \u001b[38;5;124m'\u001b[39m\u001b[38;5;124m24.13.1995\u001b[39m\u001b[38;5;124m'\u001b[39m)\n",
      "Cell \u001b[1;32mIn[226], line 60\u001b[0m, in \u001b[0;36mregister\u001b[1;34m(surname, name, date, middle_name, registry)\u001b[0m\n\u001b[0;32m     58\u001b[0m \u001b[38;5;66;03m# Если дата некорректна, вызываем исключение\u001b[39;00m\n\u001b[0;32m     59\u001b[0m \u001b[38;5;28;01mif\u001b[39;00m \u001b[38;5;129;01mnot\u001b[39;00m check_date(day, month, year):\n\u001b[1;32m---> 60\u001b[0m     \u001b[38;5;28;01mraise\u001b[39;00m \u001b[38;5;167;01mValueError\u001b[39;00m(\u001b[38;5;124m'\u001b[39m\u001b[38;5;124mInvalid Date!\u001b[39m\u001b[38;5;124m'\u001b[39m)\n\u001b[0;32m     62\u001b[0m \u001b[38;5;66;03m# Если registry не передан, создаем пустой список\u001b[39;00m\n\u001b[0;32m     63\u001b[0m \u001b[38;5;28;01mif\u001b[39;00m registry \u001b[38;5;129;01mis\u001b[39;00m \u001b[38;5;28;01mNone\u001b[39;00m:\n",
      "\u001b[1;31mValueError\u001b[0m: Invalid Date!"
     ]
    }
   ],
   "source": [
    "reg = register('Ivanov', 'Sergej', '24.13.1995')"
   ]
  },
  {
   "cell_type": "code",
   "execution_count": 235,
   "metadata": {},
   "outputs": [
    {
     "name": "stdout",
     "output_type": "stream",
     "text": [
      "[('Иванов', 'Сергей', None, 12, 8, 2000)]\n",
      "[('Иванов', 'Сергей', 'Петрович', 12, 8, 2000)]\n",
      "[('Иванов', 'Сергей', 'Петрович', 15, 10, 2001)]\n",
      "[1, 2, 3, ('Иванов', 'Сергей', 'Петрович', 15, 10, 2001)]\n"
     ]
    }
   ],
   "source": [
    "# Проверки платформы\n",
    "\n",
    "reg = register('Иванов', 'Сергей', '12.08.2000', middle_name=None, registry=None)\n",
    "print(reg)\n",
    "\n",
    "reg = register('Иванов', 'Сергей', '12.08.2000', middle_name='Петрович', registry=None)\n",
    "print(reg)\n",
    "\n",
    "# ValueError: Invalid Date!\n",
    "# reg = register('Иванов', 'Сергей', '29.02.2001', middle_name='Петрович', registry=None)\n",
    "# print(reg)\n",
    "\n",
    "reg = register('Иванов', 'Сергей', '15.10.2001', middle_name='Петрович', registry=None)\n",
    "print(reg)\n",
    "\n",
    "reg = register('Иванов', 'Сергей', '15.10.2001', middle_name='Петрович', registry=[1, 2, 3])\n",
    "print(reg)"
   ]
  }
 ],
 "metadata": {
  "kernelspec": {
   "display_name": "base",
   "language": "python",
   "name": "python3"
  },
  "language_info": {
   "codemirror_mode": {
    "name": "ipython",
    "version": 3
   },
   "file_extension": ".py",
   "mimetype": "text/x-python",
   "name": "python",
   "nbconvert_exporter": "python",
   "pygments_lexer": "ipython3",
   "version": "3.12.7"
  }
 },
 "nbformat": 4,
 "nbformat_minor": 2
}
