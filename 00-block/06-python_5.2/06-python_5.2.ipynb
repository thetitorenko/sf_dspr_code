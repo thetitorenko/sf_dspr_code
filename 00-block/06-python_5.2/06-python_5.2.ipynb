{
 "cells": [
  {
   "cell_type": "markdown",
   "metadata": {},
   "source": [
    "### 2 юнит"
   ]
  },
  {
   "cell_type": "code",
   "execution_count": 20,
   "metadata": {},
   "outputs": [
    {
     "name": "stdout",
     "output_type": "stream",
     "text": [
      "Called outer function\n",
      "Called inner function\n"
     ]
    }
   ],
   "source": [
    "def outer():\n",
    "    print('Called outer function')\n",
    "    def inner():\n",
    "        print('Called inner function')\n",
    "    inner()\n",
    "\n",
    "outer()"
   ]
  },
  {
   "cell_type": "code",
   "execution_count": 21,
   "metadata": {},
   "outputs": [
    {
     "data": {
      "text/plain": [
       "3.0"
      ]
     },
     "execution_count": 21,
     "metadata": {},
     "output_type": "execute_result"
    }
   ],
   "source": [
    "def root(value, n=2):\n",
    "    result = value ** (1/n)\n",
    "    return result\n",
    "\n",
    "root(81, 4)"
   ]
  },
  {
   "cell_type": "code",
   "execution_count": 22,
   "metadata": {},
   "outputs": [
    {
     "name": "stdout",
     "output_type": "stream",
     "text": [
      "Root of power 3 from 27 equals 3.0\n"
     ]
    }
   ],
   "source": [
    "# Задаём внешнюю функцию\n",
    "def print_root(value, n=2):\n",
    "\n",
    "    # Задаём внутреннюю функцию\n",
    "    def root2(value, n=2):\n",
    "        result = value ** (1/n)\n",
    "        return result\n",
    "    \n",
    "    # Получаем результат из внутренней функции\n",
    "    res = root2(value, n)\n",
    "    print(f'Root of power {n} from {value} equals {res}')\n",
    "\n",
    "print_root(27, 3)"
   ]
  },
  {
   "cell_type": "code",
   "execution_count": 23,
   "metadata": {},
   "outputs": [
    {
     "ename": "NameError",
     "evalue": "name 'root2' is not defined",
     "output_type": "error",
     "traceback": [
      "\u001b[1;31m---------------------------------------------------------------------------\u001b[0m",
      "\u001b[1;31mNameError\u001b[0m                                 Traceback (most recent call last)",
      "Cell \u001b[1;32mIn[23], line 1\u001b[0m\n\u001b[1;32m----> 1\u001b[0m \u001b[38;5;28mprint\u001b[39m(root2(\u001b[38;5;241m27\u001b[39m, \u001b[38;5;241m3\u001b[39m))\n",
      "\u001b[1;31mNameError\u001b[0m: name 'root2' is not defined"
     ]
    }
   ],
   "source": [
    "print(root2(27, 3))"
   ]
  },
  {
   "cell_type": "code",
   "execution_count": 24,
   "metadata": {},
   "outputs": [
    {
     "ename": "NameError",
     "evalue": "name 'res' is not defined",
     "output_type": "error",
     "traceback": [
      "\u001b[1;31m---------------------------------------------------------------------------\u001b[0m",
      "\u001b[1;31mNameError\u001b[0m                                 Traceback (most recent call last)",
      "Cell \u001b[1;32mIn[24], line 1\u001b[0m\n\u001b[1;32m----> 1\u001b[0m \u001b[38;5;28mprint\u001b[39m(res)\n",
      "\u001b[1;31mNameError\u001b[0m: name 'res' is not defined"
     ]
    }
   ],
   "source": [
    "print(res)"
   ]
  },
  {
   "cell_type": "code",
   "execution_count": 25,
   "metadata": {},
   "outputs": [
    {
     "data": {
      "text/plain": [
       "9"
      ]
     },
     "execution_count": 25,
     "metadata": {},
     "output_type": "execute_result"
    }
   ],
   "source": [
    "# Задание 2.3\n",
    "\n",
    "s = 'Это простая строка'\n",
    "# s = 'This is a simple string'\n",
    "# s = 'String for test'\n",
    "\n",
    "def get_count_unique_symbols(s):\n",
    "    s = s.lower().replace(' ', '')\n",
    "    res = len(set(s))\n",
    "    return res\n",
    "\n",
    "get_count_unique_symbols(s)"
   ]
  },
  {
   "cell_type": "code",
   "execution_count": 26,
   "metadata": {},
   "outputs": [
    {
     "data": {
      "text/plain": [
       "'Это простая строка'"
      ]
     },
     "execution_count": 26,
     "metadata": {},
     "output_type": "execute_result"
    }
   ],
   "source": [
    "# Задание 2.4\n",
    "\n",
    "s1, s2 = 'Это простая строка', 'This is a simple string'\n",
    "# s1, s2 = 'Отличная фраза', 'Great phrase'\n",
    "# s1, s2 = 'школа', 'school'\n",
    "# s1, s2 = 'Шашлык', 'Barbecue'\n",
    "\n",
    "def get_min_string(s1, s2):\n",
    "    def get_count_unique_symbols(s):\n",
    "        s = s.lower().replace(' ', '')\n",
    "        res = len(set(s))\n",
    "        return res\n",
    "    s1_len = get_count_unique_symbols(s1)\n",
    "    s2_len = get_count_unique_symbols(s2)\n",
    "    if s1_len == s2_len:\n",
    "        return s1, s2\n",
    "    elif s1_len < s2_len:\n",
    "        return s1\n",
    "    else:\n",
    "        return s2\n",
    "\n",
    "get_min_string(s1, s2)"
   ]
  },
  {
   "cell_type": "code",
   "execution_count": 7,
   "metadata": {},
   "outputs": [
    {
     "name": "stdout",
     "output_type": "stream",
     "text": [
      "Employee Ivan Ivanov is registered with the company Yandex\n"
     ]
    }
   ],
   "source": [
    "# Внешняя функция для регистрации сотрудника\n",
    "def register_employer(name, surname):\n",
    "\n",
    "    # Внутренняя функция для создания полного имени\n",
    "    def create_full_name():\n",
    "        result = name + ' ' + surname   # использование внешний переменных\n",
    "        return result\n",
    "\n",
    "    # Вызов внутренней функции\n",
    "    full_name = create_full_name()\n",
    "\n",
    "    # Вывод на экран\n",
    "    print(f'Employee {full_name} is registered with the company {company_name}')\n",
    "\n",
    "\n",
    "company_name = 'Yandex'\n",
    "register_employer('Ivan', 'Ivanov')"
   ]
  },
  {
   "cell_type": "code",
   "execution_count": 8,
   "metadata": {},
   "outputs": [
    {
     "ename": "NameError",
     "evalue": "name 'result' is not defined",
     "output_type": "error",
     "traceback": [
      "\u001b[1;31m---------------------------------------------------------------------------\u001b[0m",
      "\u001b[1;31mNameError\u001b[0m                                 Traceback (most recent call last)",
      "Cell \u001b[1;32mIn[8], line 11\u001b[0m\n\u001b[0;32m      7\u001b[0m     \u001b[38;5;28mprint\u001b[39m(\u001b[38;5;124mf\u001b[39m\u001b[38;5;124m'\u001b[39m\u001b[38;5;124mEmployee \u001b[39m\u001b[38;5;132;01m{\u001b[39;00mfull_name\u001b[38;5;132;01m}\u001b[39;00m\u001b[38;5;124m is registered with the company \u001b[39m\u001b[38;5;132;01m{\u001b[39;00mcompany_name\u001b[38;5;132;01m}\u001b[39;00m\u001b[38;5;124m'\u001b[39m)\n\u001b[0;32m     10\u001b[0m company_name \u001b[38;5;241m=\u001b[39m \u001b[38;5;124m'\u001b[39m\u001b[38;5;124mYandex\u001b[39m\u001b[38;5;124m'\u001b[39m\n\u001b[1;32m---> 11\u001b[0m register_employer(\u001b[38;5;124m'\u001b[39m\u001b[38;5;124mIvan\u001b[39m\u001b[38;5;124m'\u001b[39m, \u001b[38;5;124m'\u001b[39m\u001b[38;5;124mIvanov\u001b[39m\u001b[38;5;124m'\u001b[39m)\n",
      "Cell \u001b[1;32mIn[8], line 6\u001b[0m, in \u001b[0;36mregister_employer\u001b[1;34m(name, surname)\u001b[0m\n\u001b[0;32m      4\u001b[0m     \u001b[38;5;28;01mreturn\u001b[39;00m result\n\u001b[0;32m      5\u001b[0m full_name \u001b[38;5;241m=\u001b[39m create_full_name()\n\u001b[1;32m----> 6\u001b[0m \u001b[38;5;28mprint\u001b[39m(result)\n\u001b[0;32m      7\u001b[0m \u001b[38;5;28mprint\u001b[39m(\u001b[38;5;124mf\u001b[39m\u001b[38;5;124m'\u001b[39m\u001b[38;5;124mEmployee \u001b[39m\u001b[38;5;132;01m{\u001b[39;00mfull_name\u001b[38;5;132;01m}\u001b[39;00m\u001b[38;5;124m is registered with the company \u001b[39m\u001b[38;5;132;01m{\u001b[39;00mcompany_name\u001b[38;5;132;01m}\u001b[39;00m\u001b[38;5;124m'\u001b[39m)\n",
      "\u001b[1;31mNameError\u001b[0m: name 'result' is not defined"
     ]
    }
   ],
   "source": [
    "def register_employer(name, surname):\n",
    "    def create_full_name():\n",
    "        result = name + ' ' + surname\n",
    "        return result\n",
    "    full_name = create_full_name()\n",
    "    print(result)\n",
    "    print(f'Employee {full_name} is registered with the company {company_name}')\n",
    "\n",
    "\n",
    "company_name = 'Yandex'\n",
    "register_employer('Ivan', 'Ivanov')"
   ]
  },
  {
   "cell_type": "code",
   "execution_count": 9,
   "metadata": {},
   "outputs": [
    {
     "name": "stdout",
     "output_type": "stream",
     "text": [
      "Employee Ivan Ivanov is registered with the company Yandex\n"
     ]
    },
    {
     "ename": "NameError",
     "evalue": "name 'full_name' is not defined",
     "output_type": "error",
     "traceback": [
      "\u001b[1;31m---------------------------------------------------------------------------\u001b[0m",
      "\u001b[1;31mNameError\u001b[0m                                 Traceback (most recent call last)",
      "Cell \u001b[1;32mIn[9], line 12\u001b[0m\n\u001b[0;32m      9\u001b[0m company_name \u001b[38;5;241m=\u001b[39m \u001b[38;5;124m'\u001b[39m\u001b[38;5;124mYandex\u001b[39m\u001b[38;5;124m'\u001b[39m\n\u001b[0;32m     10\u001b[0m register_employer(\u001b[38;5;124m'\u001b[39m\u001b[38;5;124mIvan\u001b[39m\u001b[38;5;124m'\u001b[39m, \u001b[38;5;124m'\u001b[39m\u001b[38;5;124mIvanov\u001b[39m\u001b[38;5;124m'\u001b[39m)\n\u001b[1;32m---> 12\u001b[0m \u001b[38;5;28mprint\u001b[39m(full_name)\n",
      "\u001b[1;31mNameError\u001b[0m: name 'full_name' is not defined"
     ]
    }
   ],
   "source": [
    "def register_employer(name, surname):\n",
    "    def create_full_name():\n",
    "        result = name + ' ' + surname\n",
    "        return result\n",
    "    full_name = create_full_name()\n",
    "    print(f'Employee {full_name} is registered with the company {company_name}')\n",
    "\n",
    "\n",
    "company_name = 'Yandex'\n",
    "register_employer('Ivan', 'Ivanov')\n",
    "\n",
    "print(full_name)"
   ]
  },
  {
   "cell_type": "code",
   "execution_count": 23,
   "metadata": {},
   "outputs": [
    {
     "name": "stdout",
     "output_type": "stream",
     "text": [
      "{}\n",
      "{}\n",
      "global\n"
     ]
    }
   ],
   "source": [
    "value = 'global'\n",
    "def outer():\n",
    "    print(locals())\n",
    "    def inner():\n",
    "        print(locals())\n",
    "        print(value)\n",
    "    inner()\n",
    "\n",
    "outer()"
   ]
  },
  {
   "cell_type": "code",
   "execution_count": 24,
   "metadata": {},
   "outputs": [
    {
     "name": "stdout",
     "output_type": "stream",
     "text": [
      "{'value': 'enclosing'}\n",
      "{'value': 'enclosing'}\n",
      "enclosing\n"
     ]
    }
   ],
   "source": [
    "value = 'global'\n",
    "def outer():\n",
    "    value = 'enclosing'\n",
    "    print(locals())\n",
    "    def inner():\n",
    "        print(locals())\n",
    "        print(value)\n",
    "    inner()\n",
    "\n",
    "outer()"
   ]
  },
  {
   "cell_type": "code",
   "execution_count": 25,
   "metadata": {},
   "outputs": [
    {
     "name": "stdout",
     "output_type": "stream",
     "text": [
      "{'value': 'enclosing'}\n",
      "{'value': 'local'}\n",
      "local\n"
     ]
    }
   ],
   "source": [
    "value = 'global'\n",
    "def outer():\n",
    "    value = 'enclosing'\n",
    "    print(locals())\n",
    "    def inner():\n",
    "        value = 'local'\n",
    "        print(locals())\n",
    "        print(value)\n",
    "    inner()\n",
    "\n",
    "outer()"
   ]
  },
  {
   "cell_type": "code",
   "execution_count": 30,
   "metadata": {},
   "outputs": [
    {
     "name": "stdout",
     "output_type": "stream",
     "text": [
      "17\n"
     ]
    }
   ],
   "source": [
    "# Задание 2.7\n",
    "\n",
    "num_students = 250      # число студентов\n",
    "\n",
    "# Объявляем функцию для вычисления количества вебинаров\n",
    "def get_num_webinars(max_perticipants):\n",
    "    num_webinars = num_students // max_perticipants\n",
    "    if (num_students % max_perticipants > 0):\n",
    "        num_webinars += 1\n",
    "    return num_webinars\n",
    "\n",
    "webinars = get_num_webinars(15)\n",
    "print(webinars)"
   ]
  },
  {
   "cell_type": "code",
   "execution_count": 36,
   "metadata": {},
   "outputs": [
    {
     "name": "stdout",
     "output_type": "stream",
     "text": [
      "78.54\n",
      "23.562\n",
      "78.5\n",
      "23.55\n",
      "804.25\n",
      "157.08\n"
     ]
    }
   ],
   "source": [
    "# Задание 2.9\n",
    "\n",
    "def calculate_area_circle(r):\n",
    "    area = pi*r**2\n",
    "    return round(area, 3)\n",
    "\n",
    "def calculate_area_ellipse(a, b):\n",
    "    area = pi*a*b\n",
    "    return round(area, 3)\n",
    "\n",
    "pi = 3.1416\n",
    "print(calculate_area_circle(r=5))\n",
    "print(calculate_area_ellipse(a=3, b=2.5))\n",
    "\n",
    "pi = 3.14\n",
    "print(calculate_area_circle(r=5))\n",
    "print(calculate_area_ellipse(a=3, b=2.5))\n",
    "\n",
    "pi = 3.1416\n",
    "print(calculate_area_circle(r=16))\n",
    "print(calculate_area_ellipse(a=5, b=10))"
   ]
  },
  {
   "cell_type": "markdown",
   "metadata": {},
   "source": [
    "### 3 юнит"
   ]
  },
  {
   "cell_type": "code",
   "execution_count": 43,
   "metadata": {},
   "outputs": [
    {
     "name": "stdout",
     "output_type": "stream",
     "text": [
      "global id 140729609693912\n",
      "local id 140729609696792\n",
      "globals value 10\n",
      "locals value 100\n",
      "10\n"
     ]
    }
   ],
   "source": [
    "count = 10\n",
    "print('global id', id(count))\n",
    "\n",
    "def function():\n",
    "    count = 100\n",
    "    print('local id', id(count))\n",
    "    print('globals value', globals()['count'])\n",
    "    print('locals value', locals()['count'])\n",
    "\n",
    "function()\n",
    "print(count)"
   ]
  },
  {
   "cell_type": "code",
   "execution_count": 44,
   "metadata": {},
   "outputs": [
    {
     "name": "stdout",
     "output_type": "stream",
     "text": [
      "global id 194732224\n",
      "global id 194732224\n",
      "['foo', 'quux', 'baz']\n"
     ]
    }
   ],
   "source": [
    "words_list = ['foo', 'bar', 'baz']\n",
    "print('global id', id(words_list))\n",
    "\n",
    "def function():\n",
    "    words_list[1] = 'quux'\n",
    "    print('global id', id(words_list))\n",
    "\n",
    "function()\n",
    "print(words_list)"
   ]
  },
  {
   "cell_type": "code",
   "execution_count": 45,
   "metadata": {},
   "outputs": [
    {
     "name": "stdout",
     "output_type": "stream",
     "text": [
      "global id 194709632\n",
      "global id 194991808\n",
      "['foo', 'bar', 'baz']\n"
     ]
    }
   ],
   "source": [
    "words_list = ['foo', 'bar', 'baz']\n",
    "print('global id', id(words_list))\n",
    "\n",
    "def function():\n",
    "    words_list = ['foo', 'quux', 'baz']\n",
    "    print('global id', id(words_list))\n",
    "\n",
    "function()\n",
    "print(words_list)"
   ]
  },
  {
   "cell_type": "code",
   "execution_count": 51,
   "metadata": {},
   "outputs": [
    {
     "name": "stdout",
     "output_type": "stream",
     "text": [
      "140729609693592\n",
      "140729609693624\n",
      "1\n"
     ]
    }
   ],
   "source": [
    "global_count = 0\n",
    "print(id(global_count))\n",
    "\n",
    "def add_item():\n",
    "    global global_count\n",
    "    global_count = global_count + 1\n",
    "    print(id(global_count))\n",
    "\n",
    "add_item()\n",
    "print(global_count)"
   ]
  },
  {
   "cell_type": "code",
   "execution_count": 52,
   "metadata": {},
   "outputs": [
    {
     "name": "stdout",
     "output_type": "stream",
     "text": [
      "140729609693624\n",
      "140729609693624\n",
      "1\n"
     ]
    }
   ],
   "source": [
    "def add_item():\n",
    "    global global_count\n",
    "    global_count = 0\n",
    "    global_count = global_count + 1\n",
    "    print(id(global_count))\n",
    "\n",
    "add_item()\n",
    "add_item()\n",
    "print(global_count)"
   ]
  },
  {
   "cell_type": "code",
   "execution_count": 53,
   "metadata": {},
   "outputs": [
    {
     "name": "stdout",
     "output_type": "stream",
     "text": [
      "300\n"
     ]
    }
   ],
   "source": [
    "num_students = 250\n",
    "\n",
    "def add_new_students(num_new):\n",
    "    global num_students\n",
    "    num_students += num_new\n",
    "\n",
    "add_new_students(50)\n",
    "print(num_students)"
   ]
  },
  {
   "cell_type": "code",
   "execution_count": 57,
   "metadata": {},
   "outputs": [
    {
     "name": "stdout",
     "output_type": "stream",
     "text": [
      "300\n"
     ]
    }
   ],
   "source": [
    "num_students = 250\n",
    "\n",
    "def add_new_students(num_students, num_new):\n",
    "    num_students += num_new\n",
    "    return num_students\n",
    "\n",
    "num_students = add_new_students(250, 50)\n",
    "print(num_students)"
   ]
  },
  {
   "cell_type": "code",
   "execution_count": 60,
   "metadata": {},
   "outputs": [
    {
     "name": "stdout",
     "output_type": "stream",
     "text": [
      "199000\n",
      "30000\n",
      "6918\n"
     ]
    }
   ],
   "source": [
    "# Задание 3.2\n",
    "\n",
    "def cash(less_money):\n",
    "    global money\n",
    "    money -= less_money\n",
    "    return money\n",
    "\n",
    "money = 200000\n",
    "print(cash(1000))\n",
    "\n",
    "money = 30240\n",
    "print(cash(240))\n",
    "\n",
    "money = 7731\n",
    "print(cash(813))"
   ]
  },
  {
   "cell_type": "code",
   "execution_count": null,
   "metadata": {},
   "outputs": [
    {
     "name": "stdout",
     "output_type": "stream",
     "text": [
      "1351.3513513513512\n",
      "1136.3636363636363\n"
     ]
    }
   ],
   "source": [
    "# Задание 3.3\n",
    "\n",
    "# Словарь с курсами валют (по отношению к рублю)\n",
    "currencies = {'USD': 74, 'EUR': 88, 'GBP': 98 , 'CHF': 82}\n",
    "\n",
    "# Общее количество денег на счету, которое нужно конвертировать\n",
    "money = 100000\n",
    "# money = 35021\n",
    "\n",
    "# Функция для конвертации валюты, аргумент - наименование валюты\n",
    "def convert(currencies, money, currency):\n",
    "    # Производим конвертацию - делим количество денег на счету на соответствующий курс\n",
    "    money = money / currencies[currency]\n",
    "    return money\n",
    "\n",
    "# Вызываем функцию для конвертации валюты\n",
    "convert_money = convert(currencies, money, 'USD')\n",
    "print(convert_money)\n",
    "\n",
    "convert_money = convert(currencies, money, 'EUR')  \n",
    "print(convert_money)  "
   ]
  }
 ],
 "metadata": {
  "kernelspec": {
   "display_name": "base",
   "language": "python",
   "name": "python3"
  },
  "language_info": {
   "codemirror_mode": {
    "name": "ipython",
    "version": 3
   },
   "file_extension": ".py",
   "mimetype": "text/x-python",
   "name": "python",
   "nbconvert_exporter": "python",
   "pygments_lexer": "ipython3",
   "version": "3.12.7"
  }
 },
 "nbformat": 4,
 "nbformat_minor": 2
}
