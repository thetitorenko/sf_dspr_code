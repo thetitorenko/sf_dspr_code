{
 "cells": [
  {
   "cell_type": "markdown",
   "metadata": {},
   "source": [
    "### 2 юнит"
   ]
  },
  {
   "cell_type": "code",
   "execution_count": 20,
   "metadata": {},
   "outputs": [
    {
     "name": "stdout",
     "output_type": "stream",
     "text": [
      "Called outer function\n",
      "Called inner function\n"
     ]
    }
   ],
   "source": [
    "def outer():\n",
    "    print('Called outer function')\n",
    "    def inner():\n",
    "        print('Called inner function')\n",
    "    inner()\n",
    "\n",
    "outer()"
   ]
  },
  {
   "cell_type": "code",
   "execution_count": 21,
   "metadata": {},
   "outputs": [
    {
     "data": {
      "text/plain": [
       "3.0"
      ]
     },
     "execution_count": 21,
     "metadata": {},
     "output_type": "execute_result"
    }
   ],
   "source": [
    "def root(value, n=2):\n",
    "    result = value ** (1/n)\n",
    "    return result\n",
    "\n",
    "root(81, 4)"
   ]
  },
  {
   "cell_type": "code",
   "execution_count": 22,
   "metadata": {},
   "outputs": [
    {
     "name": "stdout",
     "output_type": "stream",
     "text": [
      "Root of power 3 from 27 equals 3.0\n"
     ]
    }
   ],
   "source": [
    "# Задаём внешнюю функцию\n",
    "def print_root(value, n=2):\n",
    "\n",
    "    # Задаём внутреннюю функцию\n",
    "    def root2(value, n=2):\n",
    "        result = value ** (1/n)\n",
    "        return result\n",
    "    \n",
    "    # Получаем результат из внутренней функции\n",
    "    res = root2(value, n)\n",
    "    print(f'Root of power {n} from {value} equals {res}')\n",
    "\n",
    "print_root(27, 3)"
   ]
  },
  {
   "cell_type": "code",
   "execution_count": 23,
   "metadata": {},
   "outputs": [
    {
     "ename": "NameError",
     "evalue": "name 'root2' is not defined",
     "output_type": "error",
     "traceback": [
      "\u001b[1;31m---------------------------------------------------------------------------\u001b[0m",
      "\u001b[1;31mNameError\u001b[0m                                 Traceback (most recent call last)",
      "Cell \u001b[1;32mIn[23], line 1\u001b[0m\n\u001b[1;32m----> 1\u001b[0m \u001b[38;5;28mprint\u001b[39m(root2(\u001b[38;5;241m27\u001b[39m, \u001b[38;5;241m3\u001b[39m))\n",
      "\u001b[1;31mNameError\u001b[0m: name 'root2' is not defined"
     ]
    }
   ],
   "source": [
    "print(root2(27, 3))"
   ]
  },
  {
   "cell_type": "code",
   "execution_count": 24,
   "metadata": {},
   "outputs": [
    {
     "ename": "NameError",
     "evalue": "name 'res' is not defined",
     "output_type": "error",
     "traceback": [
      "\u001b[1;31m---------------------------------------------------------------------------\u001b[0m",
      "\u001b[1;31mNameError\u001b[0m                                 Traceback (most recent call last)",
      "Cell \u001b[1;32mIn[24], line 1\u001b[0m\n\u001b[1;32m----> 1\u001b[0m \u001b[38;5;28mprint\u001b[39m(res)\n",
      "\u001b[1;31mNameError\u001b[0m: name 'res' is not defined"
     ]
    }
   ],
   "source": [
    "print(res)"
   ]
  },
  {
   "cell_type": "code",
   "execution_count": 25,
   "metadata": {},
   "outputs": [
    {
     "data": {
      "text/plain": [
       "9"
      ]
     },
     "execution_count": 25,
     "metadata": {},
     "output_type": "execute_result"
    }
   ],
   "source": [
    "# Задание 2.3\n",
    "\n",
    "s = 'Это простая строка'\n",
    "# s = 'This is a simple string'\n",
    "# s = 'String for test'\n",
    "\n",
    "def get_count_unique_symbols(s):\n",
    "    s = s.lower().replace(' ', '')\n",
    "    res = len(set(s))\n",
    "    return res\n",
    "\n",
    "get_count_unique_symbols(s)"
   ]
  },
  {
   "cell_type": "code",
   "execution_count": 26,
   "metadata": {},
   "outputs": [
    {
     "data": {
      "text/plain": [
       "'Это простая строка'"
      ]
     },
     "execution_count": 26,
     "metadata": {},
     "output_type": "execute_result"
    }
   ],
   "source": [
    "# Задание 2.4\n",
    "\n",
    "s1, s2 = 'Это простая строка', 'This is a simple string'\n",
    "# s1, s2 = 'Отличная фраза', 'Great phrase'\n",
    "# s1, s2 = 'школа', 'school'\n",
    "# s1, s2 = 'Шашлык', 'Barbecue'\n",
    "\n",
    "def get_min_string(s1, s2):\n",
    "    def get_count_unique_symbols(s):\n",
    "        s = s.lower().replace(' ', '')\n",
    "        res = len(set(s))\n",
    "        return res\n",
    "    s1_len = get_count_unique_symbols(s1)\n",
    "    s2_len = get_count_unique_symbols(s2)\n",
    "    if s1_len == s2_len:\n",
    "        return s1, s2\n",
    "    elif s1_len < s2_len:\n",
    "        return s1\n",
    "    else:\n",
    "        return s2\n",
    "\n",
    "get_min_string(s1, s2)"
   ]
  },
  {
   "cell_type": "code",
   "execution_count": 7,
   "metadata": {},
   "outputs": [
    {
     "name": "stdout",
     "output_type": "stream",
     "text": [
      "Employee Ivan Ivanov is registered with the company Yandex\n"
     ]
    }
   ],
   "source": [
    "# Внешняя функция для регистрации сотрудника\n",
    "def register_employer(name, surname):\n",
    "\n",
    "    # Внутренняя функция для создания полного имени\n",
    "    def create_full_name():\n",
    "        result = name + ' ' + surname   # использование внешний переменных\n",
    "        return result\n",
    "\n",
    "    # Вызов внутренней функции\n",
    "    full_name = create_full_name()\n",
    "\n",
    "    # Вывод на экран\n",
    "    print(f'Employee {full_name} is registered with the company {company_name}')\n",
    "\n",
    "\n",
    "company_name = 'Yandex'\n",
    "register_employer('Ivan', 'Ivanov')"
   ]
  },
  {
   "cell_type": "code",
   "execution_count": 8,
   "metadata": {},
   "outputs": [
    {
     "ename": "NameError",
     "evalue": "name 'result' is not defined",
     "output_type": "error",
     "traceback": [
      "\u001b[1;31m---------------------------------------------------------------------------\u001b[0m",
      "\u001b[1;31mNameError\u001b[0m                                 Traceback (most recent call last)",
      "Cell \u001b[1;32mIn[8], line 11\u001b[0m\n\u001b[0;32m      7\u001b[0m     \u001b[38;5;28mprint\u001b[39m(\u001b[38;5;124mf\u001b[39m\u001b[38;5;124m'\u001b[39m\u001b[38;5;124mEmployee \u001b[39m\u001b[38;5;132;01m{\u001b[39;00mfull_name\u001b[38;5;132;01m}\u001b[39;00m\u001b[38;5;124m is registered with the company \u001b[39m\u001b[38;5;132;01m{\u001b[39;00mcompany_name\u001b[38;5;132;01m}\u001b[39;00m\u001b[38;5;124m'\u001b[39m)\n\u001b[0;32m     10\u001b[0m company_name \u001b[38;5;241m=\u001b[39m \u001b[38;5;124m'\u001b[39m\u001b[38;5;124mYandex\u001b[39m\u001b[38;5;124m'\u001b[39m\n\u001b[1;32m---> 11\u001b[0m register_employer(\u001b[38;5;124m'\u001b[39m\u001b[38;5;124mIvan\u001b[39m\u001b[38;5;124m'\u001b[39m, \u001b[38;5;124m'\u001b[39m\u001b[38;5;124mIvanov\u001b[39m\u001b[38;5;124m'\u001b[39m)\n",
      "Cell \u001b[1;32mIn[8], line 6\u001b[0m, in \u001b[0;36mregister_employer\u001b[1;34m(name, surname)\u001b[0m\n\u001b[0;32m      4\u001b[0m     \u001b[38;5;28;01mreturn\u001b[39;00m result\n\u001b[0;32m      5\u001b[0m full_name \u001b[38;5;241m=\u001b[39m create_full_name()\n\u001b[1;32m----> 6\u001b[0m \u001b[38;5;28mprint\u001b[39m(result)\n\u001b[0;32m      7\u001b[0m \u001b[38;5;28mprint\u001b[39m(\u001b[38;5;124mf\u001b[39m\u001b[38;5;124m'\u001b[39m\u001b[38;5;124mEmployee \u001b[39m\u001b[38;5;132;01m{\u001b[39;00mfull_name\u001b[38;5;132;01m}\u001b[39;00m\u001b[38;5;124m is registered with the company \u001b[39m\u001b[38;5;132;01m{\u001b[39;00mcompany_name\u001b[38;5;132;01m}\u001b[39;00m\u001b[38;5;124m'\u001b[39m)\n",
      "\u001b[1;31mNameError\u001b[0m: name 'result' is not defined"
     ]
    }
   ],
   "source": [
    "def register_employer(name, surname):\n",
    "    def create_full_name():\n",
    "        result = name + ' ' + surname\n",
    "        return result\n",
    "    full_name = create_full_name()\n",
    "    print(result)\n",
    "    print(f'Employee {full_name} is registered with the company {company_name}')\n",
    "\n",
    "\n",
    "company_name = 'Yandex'\n",
    "register_employer('Ivan', 'Ivanov')"
   ]
  },
  {
   "cell_type": "code",
   "execution_count": 9,
   "metadata": {},
   "outputs": [
    {
     "name": "stdout",
     "output_type": "stream",
     "text": [
      "Employee Ivan Ivanov is registered with the company Yandex\n"
     ]
    },
    {
     "ename": "NameError",
     "evalue": "name 'full_name' is not defined",
     "output_type": "error",
     "traceback": [
      "\u001b[1;31m---------------------------------------------------------------------------\u001b[0m",
      "\u001b[1;31mNameError\u001b[0m                                 Traceback (most recent call last)",
      "Cell \u001b[1;32mIn[9], line 12\u001b[0m\n\u001b[0;32m      9\u001b[0m company_name \u001b[38;5;241m=\u001b[39m \u001b[38;5;124m'\u001b[39m\u001b[38;5;124mYandex\u001b[39m\u001b[38;5;124m'\u001b[39m\n\u001b[0;32m     10\u001b[0m register_employer(\u001b[38;5;124m'\u001b[39m\u001b[38;5;124mIvan\u001b[39m\u001b[38;5;124m'\u001b[39m, \u001b[38;5;124m'\u001b[39m\u001b[38;5;124mIvanov\u001b[39m\u001b[38;5;124m'\u001b[39m)\n\u001b[1;32m---> 12\u001b[0m \u001b[38;5;28mprint\u001b[39m(full_name)\n",
      "\u001b[1;31mNameError\u001b[0m: name 'full_name' is not defined"
     ]
    }
   ],
   "source": [
    "def register_employer(name, surname):\n",
    "    def create_full_name():\n",
    "        result = name + ' ' + surname\n",
    "        return result\n",
    "    full_name = create_full_name()\n",
    "    print(f'Employee {full_name} is registered with the company {company_name}')\n",
    "\n",
    "\n",
    "company_name = 'Yandex'\n",
    "register_employer('Ivan', 'Ivanov')\n",
    "\n",
    "print(full_name)"
   ]
  },
  {
   "cell_type": "code",
   "execution_count": 23,
   "metadata": {},
   "outputs": [
    {
     "name": "stdout",
     "output_type": "stream",
     "text": [
      "{}\n",
      "{}\n",
      "global\n"
     ]
    }
   ],
   "source": [
    "value = 'global'\n",
    "def outer():\n",
    "    print(locals())\n",
    "    def inner():\n",
    "        print(locals())\n",
    "        print(value)\n",
    "    inner()\n",
    "\n",
    "outer()"
   ]
  },
  {
   "cell_type": "code",
   "execution_count": 24,
   "metadata": {},
   "outputs": [
    {
     "name": "stdout",
     "output_type": "stream",
     "text": [
      "{'value': 'enclosing'}\n",
      "{'value': 'enclosing'}\n",
      "enclosing\n"
     ]
    }
   ],
   "source": [
    "value = 'global'\n",
    "def outer():\n",
    "    value = 'enclosing'\n",
    "    print(locals())\n",
    "    def inner():\n",
    "        print(locals())\n",
    "        print(value)\n",
    "    inner()\n",
    "\n",
    "outer()"
   ]
  },
  {
   "cell_type": "code",
   "execution_count": 25,
   "metadata": {},
   "outputs": [
    {
     "name": "stdout",
     "output_type": "stream",
     "text": [
      "{'value': 'enclosing'}\n",
      "{'value': 'local'}\n",
      "local\n"
     ]
    }
   ],
   "source": [
    "value = 'global'\n",
    "def outer():\n",
    "    value = 'enclosing'\n",
    "    print(locals())\n",
    "    def inner():\n",
    "        value = 'local'\n",
    "        print(locals())\n",
    "        print(value)\n",
    "    inner()\n",
    "\n",
    "outer()"
   ]
  },
  {
   "cell_type": "code",
   "execution_count": 30,
   "metadata": {},
   "outputs": [
    {
     "name": "stdout",
     "output_type": "stream",
     "text": [
      "17\n"
     ]
    }
   ],
   "source": [
    "# Задание 2.7\n",
    "\n",
    "num_students = 250      # число студентов\n",
    "\n",
    "# Объявляем функцию для вычисления количества вебинаров\n",
    "def get_num_webinars(max_perticipants):\n",
    "    num_webinars = num_students // max_perticipants\n",
    "    if (num_students % max_perticipants > 0):\n",
    "        num_webinars += 1\n",
    "    return num_webinars\n",
    "\n",
    "webinars = get_num_webinars(15)\n",
    "print(webinars)"
   ]
  },
  {
   "cell_type": "code",
   "execution_count": 36,
   "metadata": {},
   "outputs": [
    {
     "name": "stdout",
     "output_type": "stream",
     "text": [
      "78.54\n",
      "23.562\n",
      "78.5\n",
      "23.55\n",
      "804.25\n",
      "157.08\n"
     ]
    }
   ],
   "source": [
    "# Задание 2.9\n",
    "\n",
    "def calculate_area_circle(r):\n",
    "    area = pi*r**2\n",
    "    return round(area, 3)\n",
    "\n",
    "def calculate_area_ellipse(a, b):\n",
    "    area = pi*a*b\n",
    "    return round(area, 3)\n",
    "\n",
    "pi = 3.1416\n",
    "print(calculate_area_circle(r=5))\n",
    "print(calculate_area_ellipse(a=3, b=2.5))\n",
    "\n",
    "pi = 3.14\n",
    "print(calculate_area_circle(r=5))\n",
    "print(calculate_area_ellipse(a=3, b=2.5))\n",
    "\n",
    "pi = 3.1416\n",
    "print(calculate_area_circle(r=16))\n",
    "print(calculate_area_ellipse(a=5, b=10))"
   ]
  },
  {
   "cell_type": "markdown",
   "metadata": {},
   "source": [
    "### 3 юнит"
   ]
  },
  {
   "cell_type": "code",
   "execution_count": 43,
   "metadata": {},
   "outputs": [
    {
     "name": "stdout",
     "output_type": "stream",
     "text": [
      "global id 140729609693912\n",
      "local id 140729609696792\n",
      "globals value 10\n",
      "locals value 100\n",
      "10\n"
     ]
    }
   ],
   "source": [
    "count = 10\n",
    "print('global id', id(count))\n",
    "\n",
    "def function():\n",
    "    count = 100\n",
    "    print('local id', id(count))\n",
    "    print('globals value', globals()['count'])\n",
    "    print('locals value', locals()['count'])\n",
    "\n",
    "function()\n",
    "print(count)"
   ]
  },
  {
   "cell_type": "code",
   "execution_count": 44,
   "metadata": {},
   "outputs": [
    {
     "name": "stdout",
     "output_type": "stream",
     "text": [
      "global id 194732224\n",
      "global id 194732224\n",
      "['foo', 'quux', 'baz']\n"
     ]
    }
   ],
   "source": [
    "words_list = ['foo', 'bar', 'baz']\n",
    "print('global id', id(words_list))\n",
    "\n",
    "def function():\n",
    "    words_list[1] = 'quux'\n",
    "    print('global id', id(words_list))\n",
    "\n",
    "function()\n",
    "print(words_list)"
   ]
  },
  {
   "cell_type": "code",
   "execution_count": 45,
   "metadata": {},
   "outputs": [
    {
     "name": "stdout",
     "output_type": "stream",
     "text": [
      "global id 194709632\n",
      "global id 194991808\n",
      "['foo', 'bar', 'baz']\n"
     ]
    }
   ],
   "source": [
    "words_list = ['foo', 'bar', 'baz']\n",
    "print('global id', id(words_list))\n",
    "\n",
    "def function():\n",
    "    words_list = ['foo', 'quux', 'baz']\n",
    "    print('global id', id(words_list))\n",
    "\n",
    "function()\n",
    "print(words_list)"
   ]
  },
  {
   "cell_type": "code",
   "execution_count": 51,
   "metadata": {},
   "outputs": [
    {
     "name": "stdout",
     "output_type": "stream",
     "text": [
      "140729609693592\n",
      "140729609693624\n",
      "1\n"
     ]
    }
   ],
   "source": [
    "global_count = 0\n",
    "print(id(global_count))\n",
    "\n",
    "def add_item():\n",
    "    global global_count\n",
    "    global_count = global_count + 1\n",
    "    print(id(global_count))\n",
    "\n",
    "add_item()\n",
    "print(global_count)"
   ]
  },
  {
   "cell_type": "code",
   "execution_count": 52,
   "metadata": {},
   "outputs": [
    {
     "name": "stdout",
     "output_type": "stream",
     "text": [
      "140729609693624\n",
      "140729609693624\n",
      "1\n"
     ]
    }
   ],
   "source": [
    "def add_item():\n",
    "    global global_count\n",
    "    global_count = 0\n",
    "    global_count = global_count + 1\n",
    "    print(id(global_count))\n",
    "\n",
    "add_item()\n",
    "add_item()\n",
    "print(global_count)"
   ]
  },
  {
   "cell_type": "code",
   "execution_count": 53,
   "metadata": {},
   "outputs": [
    {
     "name": "stdout",
     "output_type": "stream",
     "text": [
      "300\n"
     ]
    }
   ],
   "source": [
    "num_students = 250\n",
    "\n",
    "def add_new_students(num_new):\n",
    "    global num_students\n",
    "    num_students += num_new\n",
    "\n",
    "add_new_students(50)\n",
    "print(num_students)"
   ]
  },
  {
   "cell_type": "code",
   "execution_count": 57,
   "metadata": {},
   "outputs": [
    {
     "name": "stdout",
     "output_type": "stream",
     "text": [
      "300\n"
     ]
    }
   ],
   "source": [
    "num_students = 250\n",
    "\n",
    "def add_new_students(num_students, num_new):\n",
    "    num_students += num_new\n",
    "    return num_students\n",
    "\n",
    "num_students = add_new_students(250, 50)\n",
    "print(num_students)"
   ]
  },
  {
   "cell_type": "code",
   "execution_count": 60,
   "metadata": {},
   "outputs": [
    {
     "name": "stdout",
     "output_type": "stream",
     "text": [
      "199000\n",
      "30000\n",
      "6918\n"
     ]
    }
   ],
   "source": [
    "# Задание 3.2\n",
    "\n",
    "def cash(less_money):\n",
    "    global money\n",
    "    money -= less_money\n",
    "    return money\n",
    "\n",
    "money = 200000\n",
    "print(cash(1000))\n",
    "\n",
    "money = 30240\n",
    "print(cash(240))\n",
    "\n",
    "money = 7731\n",
    "print(cash(813))"
   ]
  },
  {
   "cell_type": "code",
   "execution_count": null,
   "metadata": {},
   "outputs": [
    {
     "name": "stdout",
     "output_type": "stream",
     "text": [
      "1351.3513513513512\n",
      "1136.3636363636363\n"
     ]
    }
   ],
   "source": [
    "# Задание 3.3\n",
    "\n",
    "# Словарь с курсами валют (по отношению к рублю)\n",
    "currencies = {'USD': 74, 'EUR': 88, 'GBP': 98 , 'CHF': 82}\n",
    "\n",
    "# Общее количество денег на счету, которое нужно конвертировать\n",
    "money = 100000\n",
    "# money = 35021\n",
    "\n",
    "# Функция для конвертации валюты, аргумент - наименование валюты\n",
    "def convert(currencies, money, currency):\n",
    "    # Производим конвертацию - делим количество денег на счету на соответствующий курс\n",
    "    money = money / currencies[currency]\n",
    "    return money\n",
    "\n",
    "# Вызываем функцию для конвертации валюты\n",
    "convert_money = convert(currencies, money, 'USD')\n",
    "print(convert_money)\n",
    "\n",
    "convert_money = convert(currencies, money, 'EUR')  \n",
    "print(convert_money)  "
   ]
  },
  {
   "cell_type": "code",
   "execution_count": 72,
   "metadata": {},
   "outputs": [
    {
     "name": "stdout",
     "output_type": "stream",
     "text": [
      "140729609693592\n",
      "140729609693592\n",
      "1\n"
     ]
    }
   ],
   "source": [
    "def outer():\n",
    "    nonlocal_counter = 0\n",
    "    print(id(nonlocal_counter))\n",
    "    def inner():\n",
    "        nonlocal nonlocal_counter\n",
    "        print(id(nonlocal_counter))\n",
    "        nonlocal_counter = nonlocal_counter + 1\n",
    "        print(nonlocal_counter)\n",
    "    inner()\n",
    "\n",
    "outer()"
   ]
  },
  {
   "cell_type": "code",
   "execution_count": null,
   "metadata": {},
   "outputs": [
    {
     "name": "stdout",
     "output_type": "stream",
     "text": [
      "1130.5\n",
      "1130.5\n",
      "1130.5\n"
     ]
    }
   ],
   "source": [
    "def calculate_cost(cost, sale):\n",
    "\n",
    "    # Вложенная функция для обработки входных данных о скидке\n",
    "    def preprocessing_sale():\n",
    "        nonlocal sale   # Позволяет изменять переменную sale, объявленную в окружающей функции\n",
    "\n",
    "        # Проверяем корректность типа переменной sale\n",
    "        if not isinstance(sale, (str, int, float)):\n",
    "            raise ValueError('Некорректный формат строки')\n",
    "        \n",
    "        # Если скидка задана строкой, преобразуем в дробь\n",
    "        elif isinstance(sale, str):\n",
    "            sale = float(sale.replace('%', '')) / 100\n",
    "\n",
    "        #  Если скидка задана целым числом, преобразуем в дробь\n",
    "        elif isinstance(sale, int):\n",
    "            sale = sale/100\n",
    "\n",
    "    preprocessing_sale()        # Вызываем функцию обработки скидки\n",
    "    return cost - cost*sale     # Вычисляем стоимость с учетом скидки\n",
    "\n",
    "print(calculate_cost(1330, '15%'))\n",
    "print(calculate_cost(1330, 15))\n",
    "print(calculate_cost(1330, 0.15))\n",
    "# print(calculate_cost(1330, {sale: 15}))"
   ]
  },
  {
   "cell_type": "code",
   "execution_count": 89,
   "metadata": {},
   "outputs": [
    {
     "name": "stdout",
     "output_type": "stream",
     "text": [
      "2\n",
      "4\n"
     ]
    }
   ],
   "source": [
    "# Задание 3.5\n",
    "\n",
    "# Функция для вычисления количества символов (symbol) в строке s\n",
    "def count_occurrences(s, symbol):\n",
    "\n",
    "    # Внутренняя функция для предобработки строки s\n",
    "    def preprocessing_s():\n",
    "        nonlocal s\n",
    "\n",
    "        # Удаляем пробелы из строки\n",
    "        s = s.replace(' ', '')\n",
    "        # Приводим строку к нижнему регистру\n",
    "        s = s.lower()\n",
    "\n",
    "    # Вызываем функцию для предобработки аргумента s\n",
    "    preprocessing_s()\n",
    "\n",
    "    # Считаем количество символов symbol в строке s и возвращаем результат\n",
    "    return s.count(symbol)\n",
    "\n",
    "\n",
    "print(count_occurrences('This is simple string', symbol='t'))\n",
    "print(count_occurrences('МамА мыла рАму', symbol='а'))"
   ]
  },
  {
   "cell_type": "code",
   "execution_count": 95,
   "metadata": {},
   "outputs": [
    {
     "data": {
      "text/plain": [
       "['ArithmeticError',\n",
       " 'AssertionError',\n",
       " 'AttributeError',\n",
       " 'BaseException',\n",
       " 'BaseExceptionGroup',\n",
       " 'BlockingIOError',\n",
       " 'BrokenPipeError',\n",
       " 'BufferError',\n",
       " 'BytesWarning',\n",
       " 'ChildProcessError',\n",
       " 'ConnectionAbortedError',\n",
       " 'ConnectionError',\n",
       " 'ConnectionRefusedError',\n",
       " 'ConnectionResetError',\n",
       " 'DeprecationWarning',\n",
       " 'EOFError',\n",
       " 'Ellipsis',\n",
       " 'EncodingWarning',\n",
       " 'EnvironmentError',\n",
       " 'Exception',\n",
       " 'ExceptionGroup',\n",
       " 'False',\n",
       " 'FileExistsError',\n",
       " 'FileNotFoundError',\n",
       " 'FloatingPointError',\n",
       " 'FutureWarning',\n",
       " 'GeneratorExit',\n",
       " 'IOError',\n",
       " 'ImportError',\n",
       " 'ImportWarning',\n",
       " 'IndentationError',\n",
       " 'IndexError',\n",
       " 'InterruptedError',\n",
       " 'IsADirectoryError',\n",
       " 'KeyError',\n",
       " 'KeyboardInterrupt',\n",
       " 'LookupError',\n",
       " 'MemoryError',\n",
       " 'ModuleNotFoundError',\n",
       " 'NameError',\n",
       " 'None',\n",
       " 'NotADirectoryError',\n",
       " 'NotImplemented',\n",
       " 'NotImplementedError',\n",
       " 'OSError',\n",
       " 'OverflowError',\n",
       " 'PendingDeprecationWarning',\n",
       " 'PermissionError',\n",
       " 'ProcessLookupError',\n",
       " 'RecursionError',\n",
       " 'ReferenceError',\n",
       " 'ResourceWarning',\n",
       " 'RuntimeError',\n",
       " 'RuntimeWarning',\n",
       " 'StopAsyncIteration',\n",
       " 'StopIteration',\n",
       " 'SyntaxError',\n",
       " 'SyntaxWarning',\n",
       " 'SystemError',\n",
       " 'SystemExit',\n",
       " 'TabError',\n",
       " 'TimeoutError',\n",
       " 'True',\n",
       " 'TypeError',\n",
       " 'UnboundLocalError',\n",
       " 'UnicodeDecodeError',\n",
       " 'UnicodeEncodeError',\n",
       " 'UnicodeError',\n",
       " 'UnicodeTranslateError',\n",
       " 'UnicodeWarning',\n",
       " 'UserWarning',\n",
       " 'ValueError',\n",
       " 'Warning',\n",
       " 'WindowsError',\n",
       " 'ZeroDivisionError',\n",
       " '__IPYTHON__',\n",
       " '__build_class__',\n",
       " '__debug__',\n",
       " '__doc__',\n",
       " '__import__',\n",
       " '__loader__',\n",
       " '__name__',\n",
       " '__package__',\n",
       " '__spec__',\n",
       " 'abs',\n",
       " 'aiter',\n",
       " 'all',\n",
       " 'anext',\n",
       " 'any',\n",
       " 'ascii',\n",
       " 'bin',\n",
       " 'bool',\n",
       " 'breakpoint',\n",
       " 'bytearray',\n",
       " 'bytes',\n",
       " 'callable',\n",
       " 'chr',\n",
       " 'classmethod',\n",
       " 'compile',\n",
       " 'complex',\n",
       " 'copyright',\n",
       " 'credits',\n",
       " 'delattr',\n",
       " 'dict',\n",
       " 'dir',\n",
       " 'display',\n",
       " 'divmod',\n",
       " 'enumerate',\n",
       " 'eval',\n",
       " 'exec',\n",
       " 'execfile',\n",
       " 'filter',\n",
       " 'float',\n",
       " 'format',\n",
       " 'frozenset',\n",
       " 'get_ipython',\n",
       " 'getattr',\n",
       " 'globals',\n",
       " 'hasattr',\n",
       " 'hash',\n",
       " 'help',\n",
       " 'hex',\n",
       " 'id',\n",
       " 'input',\n",
       " 'int',\n",
       " 'isinstance',\n",
       " 'issubclass',\n",
       " 'iter',\n",
       " 'len',\n",
       " 'license',\n",
       " 'list',\n",
       " 'locals',\n",
       " 'map',\n",
       " 'max',\n",
       " 'memoryview',\n",
       " 'min',\n",
       " 'next',\n",
       " 'object',\n",
       " 'oct',\n",
       " 'open',\n",
       " 'ord',\n",
       " 'pow',\n",
       " 'print',\n",
       " 'property',\n",
       " 'range',\n",
       " 'repr',\n",
       " 'reversed',\n",
       " 'round',\n",
       " 'runfile',\n",
       " 'set',\n",
       " 'setattr',\n",
       " 'slice',\n",
       " 'sorted',\n",
       " 'staticmethod',\n",
       " 'str',\n",
       " 'sum',\n",
       " 'super',\n",
       " 'tuple',\n",
       " 'type',\n",
       " 'vars',\n",
       " 'zip']"
      ]
     },
     "execution_count": 95,
     "metadata": {},
     "output_type": "execute_result"
    }
   ],
   "source": [
    "dir(__builtins__)"
   ]
  },
  {
   "cell_type": "code",
   "execution_count": 102,
   "metadata": {},
   "outputs": [
    {
     "name": "stdout",
     "output_type": "stream",
     "text": [
      "{'ютуб': 248, 'вк': 514, 'радио': 339}\n"
     ]
    }
   ],
   "source": [
    "# Задание 3.7\n",
    "\n",
    "advertising_campaigns = {\n",
    "    'ютуб': [212, 248],\n",
    "    'вк': [514, 342],\n",
    "    'радио': [339, 125]\n",
    "    }\n",
    "\n",
    "# advertising_campaigns = {\n",
    "#     'ютуб': [403, 234, 512],\n",
    "#     'вк': [128, 241, 81],\n",
    "#     'радио': [47, 78, 190]}\n",
    "\n",
    "advertising_campaigns_max = {}\n",
    "\n",
    "# Создаём новый пустой словарь  \n",
    "advertising_campaigns_max = {}  \n",
    "\n",
    "# Создаём цикл по ключам исходного словаря  \n",
    "for key in advertising_campaigns:  \n",
    "\n",
    "    # Вычисляем максимум в списке, лежащем по ключу key  \n",
    "    max_value = max(advertising_campaigns[key])  \n",
    "    # Добавляем максимум в новый словарь  \n",
    "    advertising_campaigns_max[key] = max_value\n",
    "\n",
    "\n",
    "print(advertising_campaigns_max)"
   ]
  },
  {
   "cell_type": "markdown",
   "metadata": {},
   "source": [
    "### 4 юнит"
   ]
  },
  {
   "cell_type": "code",
   "execution_count": null,
   "metadata": {},
   "outputs": [
    {
     "name": "stdout",
     "output_type": "stream",
     "text": [
      "[('Petrova', 'Maria', 'Ivanovna', 13, 3, 2003), ('Ivanov', 'Sergej', None, 24, 9, 1995), ('Smith', 'John', None, 13, 2, 2003)]\n"
     ]
    }
   ],
   "source": [
    "def register(surname, name, date, middle_name=None, registry=None):\n",
    "    \"\"\" \n",
    "    Функция для регистрации пользователя\n",
    "    \n",
    "    Аргументы:\n",
    "    surname — фамилия пользователя;\n",
    "    name — имя пользователя;\n",
    "    date — дата рождения пользователя в формате строки \"DD.MM.YYYY\" (например, \"13.01.2001\");\n",
    "    middle_name — отчество пользователя (опционально);\n",
    "    registry — список, в который добавляются данные о пользователе в виде кортежа.\n",
    "        Формат кортежа: фамилия, имя, отчество, день, месяц, год рождения.\n",
    "    \"\"\"\n",
    "    \n",
    "    # Вспомогательная функция для разбора даты рождения\n",
    "    def preprocessing_date(date):\n",
    "        # Разбивает строку и преобразует в числа\n",
    "        day, month, year = map(int, date.split('.'))\n",
    "        return day, month, year\n",
    "\n",
    "    # Вспомогательная функция для проверки корректности даты рождения\n",
    "    def check_date(day, month, year):\n",
    "        if (type(day) is not int) or (type(month) is not int) or (type(year) is not int):\n",
    "            return False\n",
    "        if not (1990 <= year <= 2022):\n",
    "            return False\n",
    "        if not (1 <= month <= 12):\n",
    "            return False\n",
    "        if not(1 <= day <= 31):\n",
    "            return False\n",
    "        if (month in [4, 6, 9, 11]) and (day > 30):\n",
    "            return False\n",
    "        if (month == 2) and (day > 28):\n",
    "            return False\n",
    "        return True\n",
    "\n",
    "    # Получаем день, месяц, год из даты\n",
    "    day, month, year = preprocessing_date(date)\n",
    "\n",
    "    # Если дата некорректна, вызываем исключение\n",
    "    if not check_date(day, month, year):\n",
    "        raise ValueError('Invalid Date!')\n",
    "\n",
    "    # Если registry не передан, создаем пустой список\n",
    "    if registry is None:\n",
    "        registry = list()\n",
    "\n",
    "    # Добавляем данные пользователя в виде кортежа\n",
    "    registry.append((surname, name, middle_name, day, month, year))\n",
    "\n",
    "    return registry\n",
    "\n",
    "\n",
    "reg = register('Petrova', 'Maria', '13.03.2003', 'Ivanovna')\n",
    "\n",
    "reg = register('Ivanov', 'Sergej', '24.09.1995', registry=reg)\n",
    "\n",
    "reg = register('Smith', 'John', '13.02.2003', registry=reg)\n",
    "\n",
    "# reg = register('Ivanov', 'Sergej', '24.13.1995')\n",
    "\n",
    "print(reg)\n",
    "# [('Petrova', 'Maria', 'Ivanovna', 13, 3, 2003),\n",
    "# ('Ivanov', 'Sergej', None, 24, 9, 1995),\n",
    "# ('Smith', 'John', None, 13, 2, 2003)]"
   ]
  },
  {
   "cell_type": "code",
   "execution_count": 237,
   "metadata": {},
   "outputs": [
    {
     "name": "stdout",
     "output_type": "stream",
     "text": [
      "True\n",
      "False\n",
      "True\n",
      "False\n",
      "False\n"
     ]
    }
   ],
   "source": [
    "# Задание 4.3\n",
    "\n",
    "def is_leap(year):\n",
    "    return (year % 4 == 0) and ((year % 100 != 0) or (year % 400 == 0))\n",
    "\n",
    "print(is_leap(2000))\n",
    "print(is_leap(1900))\n",
    "print(is_leap(2020))\n",
    "print(is_leap(1700))\n",
    "print(is_leap(2001))"
   ]
  },
  {
   "cell_type": "code",
   "execution_count": 223,
   "metadata": {},
   "outputs": [
    {
     "name": "stdout",
     "output_type": "stream",
     "text": [
      "True\n",
      "True\n",
      "False\n",
      "False\n",
      "False\n",
      "False\n"
     ]
    }
   ],
   "source": [
    "# Задание 4.4\n",
    "\n",
    "def check_date(day, month, year):\n",
    "\n",
    "    # Вложенная функция для проверки, является ли год високосным\n",
    "    def is_leap(year):\n",
    "        return (year % 4 == 0) and ((year % 100 != 0) or (year % 400 == 0))\n",
    "    \n",
    "    # Проверка, являются ли входные значения целыми числами\n",
    "    if (type(day) is not int) or (type(month) is not int) or (type(year) is not int):\n",
    "        return False\n",
    "    \n",
    "    # Проверка, находится ли год в заданном диапазоне (1990-2022)\n",
    "    if not (1990 <= year <= 2022):\n",
    "        return False\n",
    "    \n",
    "    # Проверка, находится ли месяц в допустимом диапазоне (1-12)\n",
    "    if not (1 <= month <= 12):\n",
    "        return False\n",
    "    \n",
    "    # Проверка, находится ли день в допустимом диапазоне (1-31)\n",
    "    if not(1 <= day <= 31):\n",
    "        return False\n",
    "    \n",
    "    # Проверка на максимальное количество дней в месяцах с 30 днями\n",
    "    if (month in [4, 6, 9, 11]) and (day > 30):\n",
    "        return False\n",
    "\n",
    "    # Проверка на февраль: в обычный год - не больше 28 дней,\n",
    "    # в високосный - не больше 29 дней \n",
    "    if (month == 2) and (day > 28) and not is_leap(year):\n",
    "        return False\n",
    "    return True\n",
    "\n",
    "print(check_date(18, 9, 1999))\n",
    "print(check_date(29, 2, 2000))\n",
    "print(check_date(29, 2, 2021))\n",
    "print(check_date(13, 13, 2021))\n",
    "print(check_date(13.5, 12, 2021))\n",
    "print(check_date(29, 2, 2013))"
   ]
  },
  {
   "cell_type": "code",
   "execution_count": 226,
   "metadata": {},
   "outputs": [],
   "source": [
    "# Задание 4.5\n",
    "\n",
    "def register(surname, name, date, middle_name=None, registry=None):\n",
    "    \"\"\" \n",
    "    Функция для регистрации пользователя\n",
    "    \n",
    "    Аргументы:\n",
    "    surname — фамилия пользователя;\n",
    "    name — имя пользователя;\n",
    "    date — дата рождения пользователя в формате строки \"DD.MM.YYYY\" (например, \"13.01.2001\");\n",
    "    middle_name — отчество пользователя (опционально);\n",
    "    registry — список, в который добавляются данные о пользователе в виде кортежа.\n",
    "        Формат кортежа: фамилия, имя, отчество, день, месяц, год рождения.\n",
    "    \"\"\"\n",
    "    \n",
    "    # Вспомогательная функция для разбора даты рождения\n",
    "    def preprocessing_date(date):\n",
    "        # Разбивает строку и преобразует в числа\n",
    "        day, month, year = map(int, date.split('.'))\n",
    "        return day, month, year\n",
    "\n",
    "    # Вспомогательная функция для проверки корректности даты рождения\n",
    "    def check_date(day, month, year):\n",
    "\n",
    "        # Вложенная функция для проверки, является ли год високосным\n",
    "        def is_leap(year):\n",
    "            return (year % 4 == 0) and ((year % 100 != 0) or (year % 400 == 0))\n",
    "        \n",
    "        # Проверка, являются ли входные значения целыми числами\n",
    "        if (type(day) is not int) or (type(month) is not int) or (type(year) is not int):\n",
    "            return False\n",
    "        \n",
    "        # Проверка, находится ли год в заданном диапазоне (1990-2022)\n",
    "        if not (1990 <= year <= 2022):\n",
    "            return False\n",
    "        \n",
    "        # Проверка, находится ли месяц в допустимом диапазоне (1-12)\n",
    "        if not (1 <= month <= 12):\n",
    "            return False\n",
    "        \n",
    "        # Проверка, находится ли день в допустимом диапазоне (1-31)\n",
    "        if not(1 <= day <= 31):\n",
    "            return False\n",
    "        \n",
    "        # Проверка на максимальное количество дней в месяцах с 30 днями\n",
    "        if (month in [4, 6, 9, 11]) and (day > 30):\n",
    "            return False\n",
    "\n",
    "        # Проверка на февраль: в обычный год - не больше 28 дней,\n",
    "        # в високосный - не больше 29 дней \n",
    "        if (month == 2) and (day > 28) and not is_leap(year):\n",
    "            return False\n",
    "        return True\n",
    "\n",
    "    # Получаем день, месяц, год из даты\n",
    "    day, month, year = preprocessing_date(date)\n",
    "\n",
    "    # Если дата некорректна, вызываем исключение\n",
    "    if not check_date(day, month, year):\n",
    "        raise ValueError('Invalid Date!')\n",
    "\n",
    "    # Если registry не передан, создаем пустой список\n",
    "    if registry is None:\n",
    "        registry = list()\n",
    "\n",
    "    # Добавляем данные пользователя в виде кортежа\n",
    "    registry.append((surname, name, middle_name, day, month, year))\n",
    "\n",
    "    return registry"
   ]
  },
  {
   "cell_type": "code",
   "execution_count": null,
   "metadata": {},
   "outputs": [
    {
     "name": "stdout",
     "output_type": "stream",
     "text": [
      "[('Petrova', 'Maria', 'Ivanovna', 13, 3, 2003), ('Ivanov', 'Sergej', None, 24, 9, 1995), ('Smith', 'John', None, 13, 2, 2003)]\n"
     ]
    }
   ],
   "source": [
    "reg = register('Petrova', 'Maria', '13.03.2003', 'Ivanovna')\n",
    "reg = register('Ivanov', 'Sergej', '24.09.1995', registry=reg)\n",
    "reg = register('Smith', 'John', '13.02.2003', registry=reg)\n",
    "\n",
    "print(reg)"
   ]
  },
  {
   "cell_type": "code",
   "execution_count": 229,
   "metadata": {},
   "outputs": [
    {
     "ename": "ValueError",
     "evalue": "Invalid Date!",
     "output_type": "error",
     "traceback": [
      "\u001b[1;31m---------------------------------------------------------------------------\u001b[0m",
      "\u001b[1;31mValueError\u001b[0m                                Traceback (most recent call last)",
      "Cell \u001b[1;32mIn[229], line 1\u001b[0m\n\u001b[1;32m----> 1\u001b[0m reg \u001b[38;5;241m=\u001b[39m register(\u001b[38;5;124m'\u001b[39m\u001b[38;5;124mIvanov\u001b[39m\u001b[38;5;124m'\u001b[39m, \u001b[38;5;124m'\u001b[39m\u001b[38;5;124mSergej\u001b[39m\u001b[38;5;124m'\u001b[39m, \u001b[38;5;124m'\u001b[39m\u001b[38;5;124m24.13.1995\u001b[39m\u001b[38;5;124m'\u001b[39m)\n",
      "Cell \u001b[1;32mIn[226], line 60\u001b[0m, in \u001b[0;36mregister\u001b[1;34m(surname, name, date, middle_name, registry)\u001b[0m\n\u001b[0;32m     58\u001b[0m \u001b[38;5;66;03m# Если дата некорректна, вызываем исключение\u001b[39;00m\n\u001b[0;32m     59\u001b[0m \u001b[38;5;28;01mif\u001b[39;00m \u001b[38;5;129;01mnot\u001b[39;00m check_date(day, month, year):\n\u001b[1;32m---> 60\u001b[0m     \u001b[38;5;28;01mraise\u001b[39;00m \u001b[38;5;167;01mValueError\u001b[39;00m(\u001b[38;5;124m'\u001b[39m\u001b[38;5;124mInvalid Date!\u001b[39m\u001b[38;5;124m'\u001b[39m)\n\u001b[0;32m     62\u001b[0m \u001b[38;5;66;03m# Если registry не передан, создаем пустой список\u001b[39;00m\n\u001b[0;32m     63\u001b[0m \u001b[38;5;28;01mif\u001b[39;00m registry \u001b[38;5;129;01mis\u001b[39;00m \u001b[38;5;28;01mNone\u001b[39;00m:\n",
      "\u001b[1;31mValueError\u001b[0m: Invalid Date!"
     ]
    }
   ],
   "source": [
    "reg = register('Ivanov', 'Sergej', '24.13.1995')"
   ]
  },
  {
   "cell_type": "code",
   "execution_count": 235,
   "metadata": {},
   "outputs": [
    {
     "name": "stdout",
     "output_type": "stream",
     "text": [
      "[('Иванов', 'Сергей', None, 12, 8, 2000)]\n",
      "[('Иванов', 'Сергей', 'Петрович', 12, 8, 2000)]\n",
      "[('Иванов', 'Сергей', 'Петрович', 15, 10, 2001)]\n",
      "[1, 2, 3, ('Иванов', 'Сергей', 'Петрович', 15, 10, 2001)]\n"
     ]
    }
   ],
   "source": [
    "# Проверки платформы\n",
    "\n",
    "reg = register('Иванов', 'Сергей', '12.08.2000', middle_name=None, registry=None)\n",
    "print(reg)\n",
    "\n",
    "reg = register('Иванов', 'Сергей', '12.08.2000', middle_name='Петрович', registry=None)\n",
    "print(reg)\n",
    "\n",
    "# ValueError: Invalid Date!\n",
    "# reg = register('Иванов', 'Сергей', '29.02.2001', middle_name='Петрович', registry=None)\n",
    "# print(reg)\n",
    "\n",
    "reg = register('Иванов', 'Сергей', '15.10.2001', middle_name='Петрович', registry=None)\n",
    "print(reg)\n",
    "\n",
    "reg = register('Иванов', 'Сергей', '15.10.2001', middle_name='Петрович', registry=[1, 2, 3])\n",
    "print(reg)"
   ]
  },
  {
   "cell_type": "code",
   "execution_count": null,
   "metadata": {},
   "outputs": [
    {
     "name": "stdout",
     "output_type": "stream",
     "text": [
      "{'a': 2.1360009363293826, 'b': 2.692582403567252, 'c': 4.422951503238533, 'perimeter': 9.251534843135168, 'area': 2.1250000000000027}\n",
      "{'a': 3.0, 'b': 4.0, 'c': 5.0, 'perimeter': 12.0, 'area': 6.0}\n"
     ]
    }
   ],
   "source": [
    "# Функция вычисления параметров треугольника по координатам\n",
    "def triangle(p1, p2, p3):\n",
    "    # Функция вычисления сторон треугольника\n",
    "    def sides(p1, p2, p3):\n",
    "        # Распаковка точек\n",
    "        x1, y1 = p1\n",
    "        x2, y2 = p2\n",
    "        x3, y3 = p3\n",
    "        # Вычисление длин сторон треугольника\n",
    "        a = ((x2-x1)**2 + (y2-y1)**2) ** (1/2)\n",
    "        b = ((x3-x1)**2 + (y3-y1)**2) ** (1/2)\n",
    "        c = ((x2-x3)**2 + (y3-y2)**2) ** (1/2)\n",
    "        return a, b, c\n",
    "    \n",
    "    # Функция вычисления периметра треугольника\n",
    "    def calculate_perimeter_triangle(a, b, c):\n",
    "        perimeter = a + b + c\n",
    "        return perimeter\n",
    "\n",
    "    # Функция вычисления периметра треугольника\n",
    "    def calculate_area_triangle(a, b, c):\n",
    "        # Вычисляем полупериметр треугольника\n",
    "        p = perimeter / 2\n",
    "        # Используем формулу Герона для вычисления площади\n",
    "        area = (p * (p-a) * (p-b) * (p-c)) ** (1/2)\n",
    "        return area\n",
    "    \n",
    "    a, b, c = sides(p1, p2, p3)                         # Вычисляем длины сторон треугольника\n",
    "    perimeter = calculate_perimeter_triangle(a, b, c)   # Вычисляем периметр\n",
    "    area = calculate_area_triangle(a, b, c)             # Вычисляем площадь\n",
    "\n",
    "    # Возвращаем результаты в виде словаря\n",
    "    return {'a': a, 'b': b, 'c': c, 'perimeter': perimeter, 'area': area}\n",
    "\n",
    "\n",
    "print(triangle(p1=(2, 2), p2=(4, 1.25), p3=(1, 4.5)))\n",
    "print(triangle(p1=(1, 1), p2=(1, 4), p3=(5, 1)))"
   ]
  },
  {
   "cell_type": "code",
   "execution_count": 248,
   "metadata": {},
   "outputs": [
    {
     "name": "stdout",
     "output_type": "stream",
     "text": [
      "True\n",
      "False\n",
      "True\n"
     ]
    }
   ],
   "source": [
    "# Задание 4.6\n",
    "\n",
    "# Функция проверки существования треугольника\n",
    "def check_exist_triangle(a, b, c):\n",
    "    # Условия существования треугольника\n",
    "    cond1 = a + b > c\n",
    "    cond2 = a + c > b\n",
    "    cond3 = b + c > a\n",
    "    # Треугольник существует, если выполняются все три условия\n",
    "    result = cond1 and cond2 and cond3\n",
    "    return result\n",
    "\n",
    "print(check_exist_triangle(a=3, b=4, c=5))\n",
    "print(check_exist_triangle(a=1.8, b=1.8, c=3.6))\n",
    "print(check_exist_triangle(a=2, b=2.7, c=4.4))"
   ]
  },
  {
   "cell_type": "code",
   "execution_count": null,
   "metadata": {},
   "outputs": [
    {
     "name": "stdout",
     "output_type": "stream",
     "text": [
      "{'a': 2.1360009363293826, 'b': 2.692582403567252, 'c': 4.422951503238533, 'perimeter': 9.251534843135168, 'area': 2.1250000000000027}\n",
      "{'a': 3.0, 'b': 4.0, 'c': 5.0, 'perimeter': 12.0, 'area': 6.0}\n"
     ]
    }
   ],
   "source": [
    "# Задание 4.7\n",
    "\n",
    "# Объемлющая функция вычисления параметров треугольника по координатам\n",
    "def triangle(p1, p2, p3):\n",
    "    # Функция проверки существования треугольника\n",
    "    def check_exist_triangle(a, b, c):\n",
    "        # Условия существования треугольника\n",
    "        cond1 = a + b > c\n",
    "        cond2 = a + c > b\n",
    "        cond3 = b + c > a\n",
    "        # Треугольник существует, если выполняются все три условия\n",
    "        result = cond1 and cond2 and cond3\n",
    "        return result\n",
    "\n",
    "    # Функция вычисления сторон треугольника\n",
    "    def sides(p1, p2, p3):\n",
    "        # Распаковка точек\n",
    "        x1, y1 = p1\n",
    "        x2, y2 = p2\n",
    "        x3, y3 = p3\n",
    "        # Вычисление длин сторон треугольника\n",
    "        a = ((x2-x1)**2 + (y2-y1)**2) ** (1/2)\n",
    "        b = ((x3-x1)**2 + (y3-y1)**2) ** (1/2)\n",
    "        c = ((x2-x3)**2 + (y3-y2)**2) ** (1/2)\n",
    "        return a, b, c\n",
    "    \n",
    "    # Функция вычисления периметра треугольника\n",
    "    def calculate_perimeter_triangle(a, b, c):\n",
    "        perimeter = a + b + c\n",
    "        return perimeter\n",
    "\n",
    "    # Функция вычисления периметра треугольника\n",
    "    def calculate_area_triangle(a, b, c):\n",
    "        # Вычисляем полупериметр треугольника\n",
    "        p = perimeter / 2\n",
    "        # Используем формулу Герона для вычисления площади\n",
    "        area = (p * (p-a) * (p-b) * (p-c)) ** (1/2)\n",
    "        return area\n",
    "    \n",
    "    a, b, c = sides(p1, p2, p3)                         # Вычисляем длины сторон треугольника\n",
    "    if not check_exist_triangle(a, b, c):               # Проверка существования треугольника\n",
    "        raise ValueError('Треугольник не существует')\n",
    "    perimeter = calculate_perimeter_triangle(a, b, c)   # Вычисляем периметр\n",
    "    area = calculate_area_triangle(a, b, c)             # Вычисляем площадь\n",
    "\n",
    "    # Возвращаем результаты в виде словаря\n",
    "    return {'a': a, 'b': b, 'c': c, 'perimeter': perimeter, 'area': area}\n",
    "\n",
    "\n",
    "print(triangle(p1=(2, 2), p2=(4, 1.25), p3=(1, 4.5)))\n",
    "print(triangle(p1=(1, 1), p2=(1, 4), p3=(5, 1)))\n",
    "# print(triangle(p1=(2.5, 2), p2=(4, 1), p3=(1, 3))) ValueError"
   ]
  },
  {
   "cell_type": "code",
   "execution_count": null,
   "metadata": {},
   "outputs": [
    {
     "name": "stdout",
     "output_type": "stream",
     "text": [
      "2.23606797749979\n",
      "1.4142135623730951\n",
      "3.0\n"
     ]
    }
   ],
   "source": [
    "# Задание 4.8\n",
    "\n",
    "# Функция расчета радиуса окружности\n",
    "def radius(p1, p2):\n",
    "    # Распаковка координат\n",
    "    x1, y1 = p1\n",
    "    x2, y2 = p2\n",
    "    # Вычисление расстояния между двумя точками\n",
    "    result = ((x2-x1)**2 + (y2-y1)**2) ** (1/2)\n",
    "    return result\n",
    "\n",
    "\n",
    "print(radius(p1=(3, 2.5), p2=(4, 4.5)))\n",
    "print(radius(p1=(0, 0), p2=(1, 1)))\n",
    "print(radius(p1=(1, 8), p2=(4, 8)))"
   ]
  },
  {
   "cell_type": "code",
   "execution_count": 260,
   "metadata": {},
   "outputs": [
    {
     "name": "stdout",
     "output_type": "stream",
     "text": [
      "{'radius': 2.236, 'circumference': 14.05, 'area': 15.708}\n",
      "{'radius': 1.414, 'circumference': 8.886, 'area': 6.283}\n",
      "{'radius': 2.236, 'circumference': 14.043, 'area': 15.7}\n"
     ]
    }
   ],
   "source": [
    "# Задание 4.9\n",
    "\n",
    "# Объемлющая функция вычисления параметров окружности по координатам\n",
    "def circle(p1, p2):\n",
    "    # Функция расчета радиуса окружности\n",
    "    def radius(p1, p2):\n",
    "        # Распаковка координат\n",
    "        x1, y1 = p1\n",
    "        x2, y2 = p2\n",
    "        # Вычисление расстояния между двумя точками\n",
    "        result = ((x2-x1)**2 + (y2-y1)**2) ** (1/2)\n",
    "        return result\n",
    "    \n",
    "    # Функция вычисления длины окружности (периметра)\n",
    "    def calculate_circumference(r):\n",
    "        result = 2*pi*r\n",
    "        return result \n",
    "\n",
    "    # Функция вычисления площади окружности\n",
    "    def calculate_area_circle(r):\n",
    "        result = pi*r**2\n",
    "        return result\n",
    "    \n",
    "    r = radius(p1, p2)                          # Вычисляем радиус\n",
    "    circumference = calculate_circumference(r)  # Вычисляем длину (периметр)\n",
    "    area = calculate_area_circle(r)             # Вычисляем площадь\n",
    "\n",
    "    # Возвращаем результаты в виде словаря\n",
    "    result = {\n",
    "        'radius': round(r, 3),\n",
    "        'circumference': round(circumference, 3),\n",
    "        'area': round(area, 3)}\n",
    "    return result\n",
    "\n",
    "\n",
    "pi = 3.1416\n",
    "print(circle(p1=(3, 2.5), p2=(4, 4.5)))\n",
    "\n",
    "pi = 3.1416\n",
    "print(circle(p1=(0, 0), p2=(1, 1)))\n",
    "\n",
    "pi = 3.14\n",
    "print(circle(p1=(3, 2.5), p2=(4, 4.5)))"
   ]
  },
  {
   "cell_type": "code",
   "execution_count": null,
   "metadata": {},
   "outputs": [
    {
     "name": "stdout",
     "output_type": "stream",
     "text": [
      "(1.5, 1.0)\n",
      "(1.0, 1.0)\n",
      "(1.0, 1.0)\n"
     ]
    }
   ],
   "source": [
    "# *Задание 4.10\n",
    "\n",
    "# Функция вычисления длин полуосей эллипса по координатам\n",
    "def semi_axes(p1, p2, p3):\n",
    "    # Распаковка координат\n",
    "    x1, y1 = p1\n",
    "    x2, y2 = p2\n",
    "    x3, y3 = p3\n",
    "    # Вычисление длин полуосей\n",
    "    a = ((x2-x1)**2 + (y2-y1)**2) ** (1/2)\n",
    "    b = ((x3-x1)**2 + (y3-y1)**2) ** (1/2)\n",
    "    # Возвращаем результаты в виде кортежа\n",
    "    result = (a, b)\n",
    "    return result\n",
    "\n",
    "\n",
    "print(semi_axes(p1=(3, 2.5), p2=(4.5, 2.5), p3=(3, 3.5)))\n",
    "print(semi_axes(p1=(0, 0), p2=(0, 1), p3=(1, 0)))\n",
    "print(semi_axes(p1=(1, 1), p2=(1, 2), p3=(2, 1)))"
   ]
  },
  {
   "cell_type": "code",
   "execution_count": null,
   "metadata": {},
   "outputs": [
    {
     "name": "stdout",
     "output_type": "stream",
     "text": [
      "{'a': 1.5, 'b': 1.0, 'length': 8.01, 'area': 4.712}\n",
      "{'a': 1.0, 'b': 1.0, 'length': 6.283, 'area': 3.142}\n",
      "{'a': 1.0, 'b': 1.0, 'length': 6.28, 'area': 3.14}\n"
     ]
    }
   ],
   "source": [
    "# *Задание 4.11\n",
    "\n",
    "# Объемлющая функция вычисления параметров эллипса по координатам\n",
    "def ellipse(p1, p2, p3):\n",
    "    # Функция вычисления длин полуосей эллипса по координатам\n",
    "    def semi_axes(p1, p2, p3):\n",
    "        # Распаковка координат\n",
    "        x1, y1 = p1\n",
    "        x2, y2 = p2\n",
    "        x3, y3 = p3\n",
    "        # Вычисление длин полуосей\n",
    "        a = ((x2-x1)**2 + (y2-y1)**2) ** (1/2)\n",
    "        b = ((x3-x1)**2 + (y3-y1)**2) ** (1/2)\n",
    "        # Возвращаем результаты в виде кортежа\n",
    "        result = (a, b)\n",
    "        return result\n",
    "    \n",
    "    # Функция вычисления площади эллипса\n",
    "    def calculate_area_ellipse(a, b):\n",
    "        result = pi*a*b\n",
    "        return result\n",
    "    \n",
    "    # Функция вычисления длины окружности\n",
    "    def calculate_length_ellipse(a, b):\n",
    "        result = 2*pi * ((a**2 + b**2) / 2) ** (1/2)\n",
    "        return result\n",
    "    \n",
    "    a, b = semi_axes(p1, p2, p3)                # Вычисляем длины полуосей эллипса\n",
    "    area = calculate_area_ellipse(a, b)         # Вычисляем площадь эллипса\n",
    "    length = calculate_length_ellipse(a, b)     # Вычисляем длину окружности эллипса\n",
    "\n",
    "    # Возвращаем результаты в виде словаря\n",
    "    result = {\n",
    "        'a': round(a, 3),\n",
    "        'b': round(b, 3),\n",
    "        'length': round(length, 3),\n",
    "        'area': round(area, 3)\n",
    "        }\n",
    "    return result\n",
    "\n",
    "\n",
    "pi = 3.1416\n",
    "print(ellipse(p1=(3, 2.5), p2=(4.5, 2.5), p3=(3, 3.5)))\n",
    "\n",
    "pi = 3.1416\n",
    "print(ellipse(p1=(0, 0), p2=(0, 1), p3=(1, 0)))\n",
    "\n",
    "pi = 3.14\n",
    "print(ellipse(p1=(0, 0), p2=(0, 1), p3=(1, 0)))\n"
   ]
  },
  {
   "cell_type": "markdown",
   "metadata": {},
   "source": [
    "### 5 юнит"
   ]
  },
  {
   "cell_type": "code",
   "execution_count": null,
   "metadata": {},
   "outputs": [
    {
     "name": "stdout",
     "output_type": "stream",
     "text": [
      "[10, 21, 24, 12]\n",
      "[21, 24, 12]\n",
      "[24, 12]\n",
      "[12]\n",
      "[]\n",
      "67\n"
     ]
    }
   ],
   "source": [
    "lst = [10, 21, 24, 12]\n",
    "\n",
    "# Рекурсивная функция сложения элементов списка\n",
    "def sum_lst(lst):\n",
    "    print(lst)\n",
    "    # if len(lst) == 0:\n",
    "    if not lst:\n",
    "        return 0\n",
    "    return lst[0] + sum_lst(lst[1:])\n",
    "\n",
    "print(sum_lst(lst))"
   ]
  },
  {
   "cell_type": "code",
   "execution_count": 7,
   "metadata": {},
   "outputs": [
    {
     "name": "stdout",
     "output_type": "stream",
     "text": [
      "15.0\n",
      "1\n",
      "60480\n",
      "660\n"
     ]
    }
   ],
   "source": [
    "# Задание 5.4\n",
    "\n",
    "# Рекурсивная функция перемножения элементов списка\n",
    "def multiply_lst(lst):\n",
    "    if not lst:\n",
    "        return 1\n",
    "    return lst[0] * multiply_lst(lst[1:])\n",
    "\n",
    "\n",
    "print(multiply_lst([1, 5, 2, 1.5]))\n",
    "print(multiply_lst([]))\n",
    "print(multiply_lst([10, 21, 24, 12]))\n",
    "print(multiply_lst([15, 1, 2, 22]))"
   ]
  },
  {
   "cell_type": "code",
   "execution_count": null,
   "metadata": {},
   "outputs": [
    {
     "name": "stdout",
     "output_type": "stream",
     "text": [
      "0.475\n",
      "1.975\n",
      "0\n"
     ]
    }
   ],
   "source": [
    "# Задание 5.5\n",
    "\n",
    "# Рекурсивная функция вычисления суммы обратных элементов списка\n",
    "def inv_sum_list(lst):\n",
    "    if not lst:\n",
    "        return 0\n",
    "    return 1/lst[0] + inv_sum_list(lst[1:])\n",
    "\n",
    "\n",
    "print(inv_sum_list([10, 4, 8]))\n",
    "print(inv_sum_list([10, 1, 2, 4, 8]))\n",
    "print(inv_sum_list([]))"
   ]
  },
  {
   "cell_type": "code",
   "execution_count": null,
   "metadata": {},
   "outputs": [
    {
     "name": "stdout",
     "output_type": "stream",
     "text": [
      "1\n",
      "1\n",
      "6\n",
      "120\n"
     ]
    }
   ],
   "source": [
    "# Рекурсивная функция расчета факториала\n",
    "def factorial(n):\n",
    "    if n==0: return 1\n",
    "    if n==1: return 1\n",
    "    return n * factorial(n-1)\n",
    "\n",
    "\n",
    "print(factorial(0))\n",
    "print(factorial(1))\n",
    "print(factorial(3))\n",
    "print(factorial(5))"
   ]
  },
  {
   "cell_type": "code",
   "execution_count": null,
   "metadata": {},
   "outputs": [
    {
     "name": "stdout",
     "output_type": "stream",
     "text": [
      "252.0\n",
      "220.0\n",
      "1.0\n",
      "1.0\n",
      "10.0\n"
     ]
    }
   ],
   "source": [
    "# Задание 5.6\n",
    "\n",
    "# Рекурсивная функция расчета сочетания по формуле С = n! / ((n-k)! * k!)\n",
    "def combination(n, k):\n",
    "    def factorial(n):\n",
    "        if n==0: return 1\n",
    "        if n==1: return 1\n",
    "        return n * factorial(n-1)\n",
    "    result = factorial(n) / (factorial(n-k) * factorial(k))\n",
    "    return result\n",
    "\n",
    "\n",
    "print(combination(n=10, k=5))\n",
    "print(combination(n=12, k=3))\n",
    "print(combination(n=1, k=1))\n",
    "print(combination(n=0, k=0))\n",
    "print(combination(n=5, k=3))"
   ]
  },
  {
   "cell_type": "code",
   "execution_count": 21,
   "metadata": {},
   "outputs": [
    {
     "ename": "RecursionError",
     "evalue": "maximum recursion depth exceeded",
     "output_type": "error",
     "traceback": [
      "\u001b[1;31m---------------------------------------------------------------------------\u001b[0m",
      "\u001b[1;31mRecursionError\u001b[0m                            Traceback (most recent call last)",
      "Cell \u001b[1;32mIn[21], line 5\u001b[0m\n\u001b[0;32m      2\u001b[0m \u001b[38;5;28;01mdef\u001b[39;00m \u001b[38;5;21mwrong_factorial\u001b[39m(n):\n\u001b[0;32m      3\u001b[0m     \u001b[38;5;28;01mreturn\u001b[39;00m n \u001b[38;5;241m*\u001b[39m wrong_factorial(n\u001b[38;5;241m-\u001b[39m\u001b[38;5;241m1\u001b[39m)\n\u001b[1;32m----> 5\u001b[0m wrong_factorial(\u001b[38;5;241m5\u001b[39m)\n",
      "Cell \u001b[1;32mIn[21], line 3\u001b[0m, in \u001b[0;36mwrong_factorial\u001b[1;34m(n)\u001b[0m\n\u001b[0;32m      2\u001b[0m \u001b[38;5;28;01mdef\u001b[39;00m \u001b[38;5;21mwrong_factorial\u001b[39m(n):\n\u001b[1;32m----> 3\u001b[0m     \u001b[38;5;28;01mreturn\u001b[39;00m n \u001b[38;5;241m*\u001b[39m wrong_factorial(n\u001b[38;5;241m-\u001b[39m\u001b[38;5;241m1\u001b[39m)\n",
      "Cell \u001b[1;32mIn[21], line 3\u001b[0m, in \u001b[0;36mwrong_factorial\u001b[1;34m(n)\u001b[0m\n\u001b[0;32m      2\u001b[0m \u001b[38;5;28;01mdef\u001b[39;00m \u001b[38;5;21mwrong_factorial\u001b[39m(n):\n\u001b[1;32m----> 3\u001b[0m     \u001b[38;5;28;01mreturn\u001b[39;00m n \u001b[38;5;241m*\u001b[39m wrong_factorial(n\u001b[38;5;241m-\u001b[39m\u001b[38;5;241m1\u001b[39m)\n",
      "    \u001b[1;31m[... skipping similar frames: wrong_factorial at line 3 (2974 times)]\u001b[0m\n",
      "Cell \u001b[1;32mIn[21], line 3\u001b[0m, in \u001b[0;36mwrong_factorial\u001b[1;34m(n)\u001b[0m\n\u001b[0;32m      2\u001b[0m \u001b[38;5;28;01mdef\u001b[39;00m \u001b[38;5;21mwrong_factorial\u001b[39m(n):\n\u001b[1;32m----> 3\u001b[0m     \u001b[38;5;28;01mreturn\u001b[39;00m n \u001b[38;5;241m*\u001b[39m wrong_factorial(n\u001b[38;5;241m-\u001b[39m\u001b[38;5;241m1\u001b[39m)\n",
      "\u001b[1;31mRecursionError\u001b[0m: maximum recursion depth exceeded"
     ]
    }
   ],
   "source": [
    "# Не верная рекурсивная функция расчета факториала\n",
    "def wrong_factorial(n):\n",
    "    return n * wrong_factorial(n-1)\n",
    "\n",
    "wrong_factorial(5)"
   ]
  },
  {
   "cell_type": "code",
   "execution_count": null,
   "metadata": {},
   "outputs": [
    {
     "name": "stdout",
     "output_type": "stream",
     "text": [
      "4115\n"
     ]
    }
   ],
   "source": [
    "import sys\n",
    "\n",
    "# Увеличим глубину рекурсии\n",
    "sys.setrecursionlimit(1000000000)\n",
    "\n",
    "\n",
    "def factorial(n):\n",
    "    if n==0: return 1\n",
    "    if n==1: return 1\n",
    "    return n * factorial(n-1)\n",
    "\n",
    "\n",
    "print(len(str(factorial(1500))))"
   ]
  },
  {
   "cell_type": "code",
   "execution_count": 33,
   "metadata": {},
   "outputs": [
    {
     "name": "stdout",
     "output_type": "stream",
     "text": [
      "1.8848931789398193\n"
     ]
    }
   ],
   "source": [
    "from time import time\n",
    "import sys\n",
    "\n",
    "sys.setrecursionlimit(1000000000)\n",
    "\n",
    "def factorial(n):\n",
    "    if n==0: return 1\n",
    "    if n==1: return 1\n",
    "    return n * factorial(n-1)\n",
    "\n",
    "\n",
    "a = time()                  # Засекаем время до начала выполнения цикла\n",
    "\n",
    "for i in range(100):\n",
    "    factorial(10_000)\n",
    "\n",
    "b = time()                  # Засекаем время после выполнения цикла\n",
    "print(b-a)                  # Разница во временах"
   ]
  },
  {
   "cell_type": "code",
   "execution_count": 34,
   "metadata": {},
   "outputs": [
    {
     "name": "stdout",
     "output_type": "stream",
     "text": [
      "0.03149867057800293\n"
     ]
    }
   ],
   "source": [
    "# Функция считающая факториал в цикле\n",
    "def factorial_for(n):\n",
    "    fac = 1\n",
    "    for i in range(n):\n",
    "        fac *= i\n",
    "    return fac\n",
    "\n",
    "a = time()                  # Засекаем время до начала выполнения цикла\n",
    "\n",
    "for i in range(100):\n",
    "    factorial_for(10_000)\n",
    "\n",
    "b = time()                  # Засекаем время после выполнения цикла\n",
    "print(b-a)                  # Разница во временах"
   ]
  },
  {
   "cell_type": "code",
   "execution_count": 45,
   "metadata": {},
   "outputs": [
    {
     "name": "stdout",
     "output_type": "stream",
     "text": [
      "1\n",
      "1\n",
      "8\n",
      "5\n"
     ]
    }
   ],
   "source": [
    "# Задание 5.9\n",
    "\n",
    "# Рекурсивная функция расчета n-го числа Фибоначчи\n",
    "def fib(n):\n",
    "    if n==1 or n==2: return 1\n",
    "    return fib(n-1) + fib(n-2)\n",
    "\n",
    "\n",
    "print(fib(1))\n",
    "print(fib(2))\n",
    "print(fib(6))\n",
    "print(fib(5))"
   ]
  },
  {
   "cell_type": "markdown",
   "metadata": {},
   "source": [
    "### 6 юнит"
   ]
  },
  {
   "cell_type": "code",
   "execution_count": 1,
   "metadata": {},
   "outputs": [
    {
     "name": "stdout",
     "output_type": "stream",
     "text": [
      "1\n",
      "625\n",
      "125\n",
      "12.96\n",
      "25\n"
     ]
    }
   ],
   "source": [
    "# Задание 6.5\n",
    "\n",
    "# Рекурсивная функция возведения числа (val) в степень (n)\n",
    "def power(val, n):\n",
    "    if n == 0: return 1\n",
    "    if n == 1: return val\n",
    "    return val * power(val, n-1)\n",
    "\n",
    "\n",
    "print(power(25, 0))\n",
    "print(power(-5, 4))\n",
    "print(power(5, 3))\n",
    "print(power(3.6, 2))\n",
    "print(power(25, 1))"
   ]
  },
  {
   "cell_type": "code",
   "execution_count": 36,
   "metadata": {},
   "outputs": [
    {
     "name": "stdout",
     "output_type": "stream",
     "text": [
      "e(x(a(m)p)l)e\n",
      "c(ar)d\n"
     ]
    }
   ],
   "source": [
    "# Рекурсивная функция добавляющая скобки в строку\n",
    "def add_brackets(s):\n",
    "    # Базовый случай: если длина строки 1 - нечетное кол-во символов\n",
    "    # если 2 - четное кол-во символов\n",
    "    if len(s) == 1 or len(s) == 2:\n",
    "        return s\n",
    "    \n",
    "    # Рекурсивный случай: добавляем первую букву, открывающую скобку,\n",
    "    # результат вызова функции для строки без первой и последней букв,\n",
    "    # закрывающую скобку и последнюю букву\n",
    "    return s[0] + '(' + add_brackets(s[1:-1]) + ')' + s[-1]\n",
    "\n",
    "\n",
    "print(add_brackets('example'))\n",
    "print(add_brackets('card'))"
   ]
  },
  {
   "cell_type": "code",
   "execution_count": 3,
   "metadata": {},
   "outputs": [
    {
     "name": "stdout",
     "output_type": "stream",
     "text": [
      "h*e*l*l*o\n",
      "L*I*t*B*e*o*F*L*c*S*G*B*O*F*Q*x*M*H*o*I*u*D*D*W*c*q*c*V*g*k*c*R*o*A*e*o*c*X*O\n",
      "g*k*a*f*k*a*f*k*K*d*a*f*l*k*f*a\n"
     ]
    }
   ],
   "source": [
    "# Задание 6.6\n",
    "\n",
    "# Рекурсивная функция добавления символа * между буквами\n",
    "def add_asterisk(s):\n",
    "    if len(s) == 1: return s\n",
    "    return s[0] + '*' + add_asterisk(s[1:])\n",
    "\n",
    "\n",
    "print(add_asterisk('hello'))\n",
    "print(add_asterisk('LItBeoFLcSGBOFQxMHoIuDDWcqcVgkcRoAeocXO'))\n",
    "print(add_asterisk('gkafkafkKdaflkfa'))"
   ]
  },
  {
   "cell_type": "code",
   "execution_count": 20,
   "metadata": {},
   "outputs": [
    {
     "name": "stdout",
     "output_type": "stream",
     "text": [
      "[1, 1, 0, 4, 2, 1, 0, 2, 1]\n",
      "[1, 1, [5, 10, 34, [24, 1, 0]], 4, [9, 8, 10], 1, 0, 2, 1]\n"
     ]
    }
   ],
   "source": [
    "matrix = [\n",
    "    [1, 1, 0],\n",
    "    [4, 2, 1],\n",
    "    [0, 2, 1]\n",
    "    ]\n",
    "\n",
    "matrix2 = [\n",
    "    [1, 1, [5, 10, 34, [24, 1, 0]]],\n",
    "    [4, [9, 8, 10], 1],\n",
    "    [0, 2, 1]\n",
    "]\n",
    "\n",
    "\n",
    "# Рекурсивная функция преобразующая матрицу в плоский список\n",
    "def my_flatten(lst):\n",
    "    if len(lst) == 1: return lst[0]\n",
    "    return lst[0] + flatten(lst[1:])\n",
    "\n",
    "\n",
    "print(my_flatten(matrix))"
   ]
  },
  {
   "cell_type": "code",
   "execution_count": 21,
   "metadata": {},
   "outputs": [
    {
     "name": "stdout",
     "output_type": "stream",
     "text": [
      "[1, 1, 0, 4, 2, 1, 0, 2, 1]\n",
      "[1, 1, 5, 10, 34, 24, 1, 0, 4, 9, 8, 10, 1, 0, 2, 1]\n"
     ]
    }
   ],
   "source": [
    "# Функция для выпрямления списка\n",
    "def flatten(lst):\n",
    "    result = []\n",
    "    for elem in lst:\n",
    "        # Если элемент списка является списком,\n",
    "        if isinstance(elem, list):\n",
    "            # Применяем к нему функцию выпрямления и добавляем элементы к результату\n",
    "            result += flatten(elem)\n",
    "        else:\n",
    "            # Если элемент не является списком,\n",
    "            # Добавляем элемент в новый список\n",
    "            result.append(elem)\n",
    "    return result\n",
    "\n",
    "\n",
    "print(flatten(matrix))\n",
    "print(flatten(matrix2))"
   ]
  },
  {
   "cell_type": "code",
   "execution_count": 25,
   "metadata": {},
   "outputs": [
    {
     "name": "stdout",
     "output_type": "stream",
     "text": [
      "12\n",
      "82\n",
      "62\n"
     ]
    }
   ],
   "source": [
    "# Задание 6.7\n",
    "\n",
    "# Функция суммирования элементов исходной матрицы\n",
    "def sum_list(lst):\n",
    "    result = 0\n",
    "    for elem in lst:\n",
    "        if type(elem) is list:\n",
    "            result += sum_list(elem)\n",
    "        else:\n",
    "            result += elem\n",
    "    return result\n",
    "\n",
    "\n",
    "matrix = [\n",
    "    [1, 1, 0],\n",
    "    [4, 2, 1],\n",
    "    [0, 2, 1]]\n",
    "print(sum_list(matrix))\n",
    "\n",
    "\n",
    "matrix = [\n",
    "    [1, 1, [1, 2, 3], 0],\n",
    "    [4, 2, 1, [10, 52, 2]],\n",
    "    [0, 2, 1]]\n",
    "print(sum_list(matrix))\n",
    "\n",
    "\n",
    "matrix = [\n",
    "    [1, 1, 3, 5, [1, 10], 5, [5, 3]],\n",
    "    [1, [10, 2], [3, 2]],\n",
    "    10]\n",
    "print(sum_list(matrix))"
   ]
  },
  {
   "cell_type": "code",
   "execution_count": 47,
   "metadata": {},
   "outputs": [
    {
     "name": "stdout",
     "output_type": "stream",
     "text": [
      "{1: {'parent_link': None, 'child_link': [4]}, 2: {'parent_link': None, 'child_link': [5]}, 4: {'parent_link': 1, 'child_link': []}, 5: {'parent_link': 2, 'child_link': []}}\n",
      "{1: {'parent_link': None, 'child_link': [3, 4]}, 2: {'parent_link': None, 'child_link': []}, 3: {'parent_link': 1, 'child_link': [6]}, 4: {'parent_link': 1, 'child_link': []}, 6: {'parent_link': 3, 'child_link': []}}\n",
      "{2: {'parent_link': None, 'child_link': [5]}, 5: {'parent_link': 2, 'child_link': []}}\n"
     ]
    }
   ],
   "source": [
    "\"\"\"\n",
    "parent_link - родительская ссылка: int - ответ на др. сообщение; None - корневое сообщение\n",
    "child_link - список идентификаторов дочерних сообщений\n",
    "\"\"\"\n",
    "\n",
    "# Функция удаления сообщения и всех его потомков\n",
    "def my_delete_message(messages, msg_id):\n",
    "\n",
    "    # Есть ли сообщение с заданным идентификатором\n",
    "    if msg_id in messages:\n",
    "\n",
    "        # Получаем идентификатор родительского сообщения\n",
    "        parent_link = messages[msg_id]['parent_link']\n",
    "        # Если есть родительское сообщение\n",
    "        if parent_link is not None:\n",
    "            # Удаляем идентификатор сообщения со списка дочерних сообщений\n",
    "            messages[parent_link]['child_link'].remove(msg_id)\n",
    "\n",
    "        # Проверяем дочерние сообщения\n",
    "        child_link_list = list(messages[msg_id]['child_link'])\n",
    "        # Если они есть,\n",
    "        if child_link_list is not None:\n",
    "            # То повторяем шаги по их удалению из словаря\n",
    "            for elem in child_link_list:\n",
    "                my_delete_message(messages, elem)\n",
    "\n",
    "        # Удаляем сообщение с заданным идентификатором\n",
    "        messages.pop(msg_id)\n",
    "\n",
    "    # Возвращаем словарь\n",
    "    return messages\n",
    "    \n",
    "\n",
    "forum_messages = {\n",
    "    1: {'parent_link': None, 'child_link': [3, 4]},\n",
    "    2: {'parent_link': None, 'child_link': [5]},\n",
    "    3: {'parent_link': 1, 'child_link': [6]},\n",
    "    4: {'parent_link': 1, 'child_link': []},\n",
    "    5: {'parent_link': 2, 'child_link': []},\n",
    "    6: {'parent_link': 3, 'child_link': []}}\n",
    "print(my_delete_message(forum_messages, 3))\n",
    "\n",
    "\n",
    "forum_messages = {\n",
    "    1: {'parent_link': None, 'child_link': [3, 4]},\n",
    "    2: {'parent_link': None, 'child_link': [5]},\n",
    "    3: {'parent_link': 1, 'child_link': [6]},\n",
    "    4: {'parent_link': 1, 'child_link': []},\n",
    "    5: {'parent_link': 2, 'child_link': []},\n",
    "    6: {'parent_link': 3, 'child_link': []}}\n",
    "print(my_delete_message(forum_messages, 5))\n",
    "\n",
    "\n",
    "forum_messages = {\n",
    "    1: {'parent_link': None, 'child_link': [3, 4]},\n",
    "    2: {'parent_link': None, 'child_link': [5]},\n",
    "    3: {'parent_link': 1, 'child_link': [6]},\n",
    "    4: {'parent_link': 1, 'child_link': []},\n",
    "    5: {'parent_link': 2, 'child_link': []},\n",
    "    6: {'parent_link': 3, 'child_link': []}}\n",
    "print(my_delete_message(forum_messages, 1))"
   ]
  },
  {
   "cell_type": "code",
   "execution_count": 46,
   "metadata": {},
   "outputs": [
    {
     "name": "stdout",
     "output_type": "stream",
     "text": [
      "{1: {'parent_link': None, 'child_link': [4]}, 2: {'parent_link': None, 'child_link': [5]}, 4: {'parent_link': 1, 'child_link': []}, 5: {'parent_link': 2, 'child_link': []}}\n",
      "{1: {'parent_link': None, 'child_link': [3, 4]}, 2: {'parent_link': None, 'child_link': []}, 3: {'parent_link': 1, 'child_link': [6]}, 4: {'parent_link': 1, 'child_link': []}, 6: {'parent_link': 3, 'child_link': []}}\n",
      "{2: {'parent_link': None, 'child_link': [5]}, 5: {'parent_link': 2, 'child_link': []}}\n"
     ]
    }
   ],
   "source": [
    "# Функция для удаления сообщения на форуме и всех его потомков\n",
    "def delete_message(messages, msg_id):\n",
    "    # Удаляем из словаря сообщение с идентификатором msg_id\n",
    "    # Метод pop() возвращает значение, лежащее по удаляемому ключу\n",
    "    result = messages.pop(msg_id)\n",
    "\n",
    "    # Получаем идентификатор родителя\n",
    "    parent_link = result['parent_link']\n",
    "\n",
    "    # Получаем список идентификаторов потомков\n",
    "    child_link = result['child_link']\n",
    "\n",
    "    # Если у сообщения был родитель и он ещё не был удален\n",
    "    # Эта запись будет аналогична parent_link is not None\n",
    "    if parent_link and parent_link in messages:\n",
    "\n",
    "        # Обращаемся к словарю messages по ключу родителя\n",
    "        # Удаляем потомка из списка потомков\n",
    "        messages[parent_link]['child_link'].remove(msg_id)\n",
    "\n",
    "    # Если у сообщения были потомки\n",
    "    # Эта запись будет аналогична child_link == [<значение_1>, <значение_2>, ...]\n",
    "    if child_link:\n",
    "\n",
    "        # В цикле проходимся по всем потомкам \n",
    "        for child_id in child_link:\n",
    "\n",
    "            # И повторяем те же самые действия для каждого из них\n",
    "            # (рекурсивно вызываем функцию delete_message)\n",
    "            delete_message(messages, msg_id=child_id)\n",
    "\n",
    "    return messages\n",
    "\n",
    "\n",
    "forum_messages = {\n",
    "    1: {'parent_link': None, 'child_link': [3, 4]},\n",
    "    2: {'parent_link': None, 'child_link': [5]},\n",
    "    3: {'parent_link': 1, 'child_link': [6]},\n",
    "    4: {'parent_link': 1, 'child_link': []},\n",
    "    5: {'parent_link': 2, 'child_link': []},\n",
    "    6: {'parent_link': 3, 'child_link': []}}\n",
    "print(delete_message(forum_messages, 3))\n",
    "\n",
    "\n",
    "forum_messages = {\n",
    "    1: {'parent_link': None, 'child_link': [3, 4]},\n",
    "    2: {'parent_link': None, 'child_link': [5]},\n",
    "    3: {'parent_link': 1, 'child_link': [6]},\n",
    "    4: {'parent_link': 1, 'child_link': []},\n",
    "    5: {'parent_link': 2, 'child_link': []},\n",
    "    6: {'parent_link': 3, 'child_link': []}}\n",
    "print(delete_message(forum_messages, 5))\n",
    "\n",
    "\n",
    "forum_messages = {\n",
    "    1: {'parent_link': None, 'child_link': [3, 4]},\n",
    "    2: {'parent_link': None, 'child_link': [5]},\n",
    "    3: {'parent_link': 1, 'child_link': [6]},\n",
    "    4: {'parent_link': 1, 'child_link': []},\n",
    "    5: {'parent_link': 2, 'child_link': []},\n",
    "    6: {'parent_link': 3, 'child_link': []}}\n",
    "print(delete_message(forum_messages, 1))"
   ]
  },
  {
   "cell_type": "code",
   "execution_count": 64,
   "metadata": {},
   "outputs": [
    {
     "name": "stdout",
     "output_type": "stream",
     "text": [
      "key1 ->\n",
      "  key2 ->\n",
      "    ['value1', 'value2']\n",
      "  key3 ->\n",
      "    key4 ->\n",
      "      ['value3']\n",
      "key5 ->\n",
      "  key6 ->\n",
      "    key7 ->\n",
      "      ['value3', 'value5', 'value6']\n",
      "---\n",
      "key1 ->\n",
      "  key2 ->\n",
      "    [1, 2, 3]\n",
      "  key3 ->\n",
      "    [4]\n",
      "key4 ->\n",
      "  key5 ->\n",
      "    [5, 6, 7]\n"
     ]
    }
   ],
   "source": [
    "# Задание 6.8\n",
    "\n",
    "def print_dict(input_data, level=0):\n",
    "    # Если input_data — словарь \n",
    "    if type(input_data) is dict:\n",
    "        # Создаём цикл по ключам словаря\n",
    "        for key in input_data:\n",
    "            # Выводим ключ в формате \"<пробелы> <имя ключа> ->\"\n",
    "            print('  ' * level + '{} ->'.format(key))\n",
    "            # Повторяем те же операции для каждого значения словаря с отступом\n",
    "            print_dict(input_data[key], level=level+1)  \n",
    "    else: # В противном случае\n",
    "        # Выводим значения в формате \"<пробелы> <значения>\"\n",
    "        print('  ' * level + str(input_data))\n",
    "\n",
    "\n",
    "input_dict = {\n",
    "    'key1': {\n",
    "        'key2': ['value1', 'value2'], \n",
    "        'key3': {\n",
    "            'key4': ['value3']\n",
    "        }\n",
    "    }, \n",
    "    'key5': {\n",
    "        'key6': {\n",
    "            'key7': ['value3', 'value5', 'value6']\n",
    "        }\n",
    "    }\n",
    "}\n",
    "print_dict(input_dict)\n",
    "\n",
    "print('---')\n",
    "\n",
    "input_dict = {\n",
    "    'key1': {\n",
    "        'key2': [1, 2, 3],\n",
    "        'key3': [4]\n",
    "    },\n",
    "    'key4': {\n",
    "        'key5': [5, 6, 7]\n",
    "    }\n",
    "}\n",
    "print_dict(input_dict)"
   ]
  },
  {
   "cell_type": "markdown",
   "metadata": {},
   "source": [
    "### 7 юнит"
   ]
  },
  {
   "cell_type": "code",
   "execution_count": 1,
   "metadata": {},
   "outputs": [
    {
     "name": "stdout",
     "output_type": "stream",
     "text": [
      "Hello, World!\n"
     ]
    }
   ],
   "source": [
    "p = print\n",
    "\n",
    "p('Hello, World!')"
   ]
  },
  {
   "cell_type": "code",
   "execution_count": 5,
   "metadata": {},
   "outputs": [
    {
     "name": "stdout",
     "output_type": "stream",
     "text": [
      "35\n",
      "-1\n",
      "5\n"
     ]
    }
   ],
   "source": [
    "def apply_func(func, x):\n",
    "    return func(x)\n",
    "\n",
    "print(apply_func(max, [1, 10, 35, 20, -1]))\n",
    "print(apply_func(min, [1, 10, 35, 20, -1]))\n",
    "print(apply_func(len, [1, 10, 35, 20, -1]))"
   ]
  },
  {
   "cell_type": "code",
   "execution_count": 6,
   "metadata": {},
   "outputs": [
    {
     "name": "stdout",
     "output_type": "stream",
     "text": [
      "<class 'function'>\n"
     ]
    }
   ],
   "source": [
    "print(type(apply_func))"
   ]
  },
  {
   "cell_type": "code",
   "execution_count": 10,
   "metadata": {},
   "outputs": [
    {
     "name": "stdout",
     "output_type": "stream",
     "text": [
      "[5, 2, 1, 5, 7, 4, 7, 2, 8, 7, 8]\n",
      "[5, 2, 1, 5, 7, 4, 7, 2, 8, 7, 8]\n"
     ]
    }
   ],
   "source": [
    "# Список из слов, длину которых мы хотим вычислить\n",
    "words_list = [\n",
    "    \"We're\", 'in', 'a', 'small', 'village', 'near', \n",
    "    'Chicago', 'My', \"cousin's\", 'getting', 'married.'\n",
    "    ]\n",
    "\n",
    "lengths_list = []\n",
    "\n",
    "for word in words_list:\n",
    "    lengths_list.append(len(word))\n",
    "\n",
    "print(lengths_list)\n",
    "print(list(map(len, words_list)))"
   ]
  },
  {
   "cell_type": "code",
   "execution_count": 11,
   "metadata": {},
   "outputs": [
    {
     "data": {
      "text/plain": [
       "[203, 752, 2537, 852]"
      ]
     },
     "execution_count": 11,
     "metadata": {},
     "output_type": "execute_result"
    }
   ],
   "source": [
    "expenses = [(101, 203, 167), (214, 351, 752), (255, 2537), (852, 362, 366)]\n",
    "\n",
    "list(map(max, expenses))"
   ]
  },
  {
   "cell_type": "code",
   "execution_count": 13,
   "metadata": {},
   "outputs": [
    {
     "name": "stdout",
     "output_type": "stream",
     "text": [
      "[101, 203, 33, 45, 51, 46, 77]\n"
     ]
    }
   ],
   "source": [
    "# Задание 7.1\n",
    "\n",
    "old_list = ['1', '2', '3', '4', '5', '6', '7']\n",
    "# old_list = ['101', '203', '33', '45', '51', '46', '77']\n",
    "\n",
    "new_list = list(map(int, old_list))\n",
    "\n",
    "print(new_list)"
   ]
  },
  {
   "cell_type": "code",
   "execution_count": 15,
   "metadata": {},
   "outputs": [
    {
     "name": "stdout",
     "output_type": "stream",
     "text": [
      "[471, 1452, 2792, 1580]\n"
     ]
    }
   ],
   "source": [
    "# Задание 7.2\n",
    "\n",
    "expenses = [\n",
    "    [2356, 4537, 8678], [7395, 1298, 6500, 4791], [6341, 3408],\n",
    "    [1105, 8374, 5914], [1024, 7333], [3500, 2008, 9375, 6144]\n",
    "    ]\n",
    "\n",
    "# expenses = [[101, 203, 167], [214, 351, 135, 752],[255, 2537], [852, 362, 366]]  \n",
    "\n",
    "expenses_sum = list(map(sum, expenses))\n",
    "\n",
    "print(expenses_sum)"
   ]
  },
  {
   "cell_type": "code",
   "execution_count": 16,
   "metadata": {},
   "outputs": [
    {
     "name": "stdout",
     "output_type": "stream",
     "text": [
      "[150.0, 330.0, 525.0, 120.0]\n"
     ]
    }
   ],
   "source": [
    "salaries = [1500, 2200, 3500, 1200]\n",
    "\n",
    "taxes = []\n",
    "\n",
    "for salary in salaries:\n",
    "    if salary < 1_000:\n",
    "        taxes.append(salary * 0.05)\n",
    "    if 1000 <= salary <= 2000:\n",
    "        taxes.append(salary * 0.1)\n",
    "    else:\n",
    "        taxes.append(salary * 0.15)\n",
    "\n",
    "print(taxes)"
   ]
  },
  {
   "cell_type": "code",
   "execution_count": 17,
   "metadata": {},
   "outputs": [
    {
     "name": "stdout",
     "output_type": "stream",
     "text": [
      "[150.0, 330.0, 525.0, 120.0]\n"
     ]
    }
   ],
   "source": [
    "salaries = [1500, 2200, 3500, 1200]\n",
    "\n",
    "def calculate_tax(salary):\n",
    "    if salary < 1_000:\n",
    "        return salary* 0.05\n",
    "    if 1000 <= salary <= 2000:\n",
    "        return salary * 0.1\n",
    "    else:\n",
    "        return salary * 0.15\n",
    "\n",
    "print(list(map(calculate_tax, salaries)))"
   ]
  },
  {
   "cell_type": "code",
   "execution_count": 32,
   "metadata": {},
   "outputs": [
    {
     "data": {
      "text/plain": [
       "{'Преступление и наказание': ['а',\n",
       "  'знаешь',\n",
       "  'ли',\n",
       "  'что',\n",
       "  'низкие',\n",
       "  'потолки',\n",
       "  'и',\n",
       "  'тесные',\n",
       "  'комнаты',\n",
       "  'душу',\n",
       "  'и',\n",
       "  'ум',\n",
       "  'теснят'],\n",
       " 'Война и мир': ['и',\n",
       "  'нет',\n",
       "  'величия',\n",
       "  'там',\n",
       "  'где',\n",
       "  'нет',\n",
       "  'простоты',\n",
       "  'добра',\n",
       "  'и',\n",
       "  'правды'],\n",
       " 'Анна Каренина': ['если',\n",
       "  'искать',\n",
       "  'совершенства',\n",
       "  'то',\n",
       "  'никогда',\n",
       "  'не',\n",
       "  'будешь',\n",
       "  'доволен'],\n",
       " 'Детство': ['правил', 'у', 'нас', 'много', 'а', 'правды', 'нет'],\n",
       " 'Колесо времени': ['ничто',\n",
       "  'так',\n",
       "  'на',\n",
       "  'соединяет',\n",
       "  'людей',\n",
       "  'как',\n",
       "  'улыбка']}"
      ]
     },
     "execution_count": 32,
     "metadata": {},
     "output_type": "execute_result"
    }
   ],
   "source": [
    "quotes_dict = {\n",
    "    'Преступление и наказание': 'А знаешь ли... что низкие потолки и тесные комнаты душу и ум теснят.', \n",
    "    'Война и мир': 'И нет величия там, где нет простоты, добра и правды.', \n",
    "    'Анна Каренина': 'Если искать совершенства, то никогда не будешь доволен.', \n",
    "    'Детство': 'Правил у нас много, а правды нет.', \n",
    "    'Колесо времени': 'Ничто так на соединяет людей, как улыбка.'\n",
    "    }\n",
    "\n",
    "\n",
    "# Функция для предобработки цитат\n",
    "def  preprocessing_quotes(name_quotes_tuple):\n",
    "    name, quote = name_quotes_tuple \n",
    "\n",
    "    # Приводим к нижнему регистру\n",
    "    quote = quote.lower()\n",
    "    quote = quote.replace('.', '').replace(',', '')\n",
    "    quote = quote.split()\n",
    "\n",
    "    # Возвращаем имя произведения и предобработанную цитату\n",
    "    return name, quote\n",
    "\n",
    "\n",
    "quotes_dict_pre = dict(map(preprocessing_quotes, quotes_dict.items()))\n",
    "quotes_dict_pre"
   ]
  },
  {
   "cell_type": "code",
   "execution_count": 38,
   "metadata": {},
   "outputs": [
    {
     "name": "stdout",
     "output_type": "stream",
     "text": [
      "{'яблоко': 94.05, 'апельсин': 94.05, 'вишня': 139.65, 'персик': 137.75, 'грейпфрут': 132.05}\n",
      "{'Штаны': 1995.0, 'Кофта': 1444.0, 'Свитер': 3344.0, 'Галстук': 741.0, 'Ремень': 1320.5}\n"
     ]
    }
   ],
   "source": [
    "# Задание 7.3\n",
    "\n",
    "# Функция для вычисления скидки товара\n",
    "def discount(name_price):\n",
    "    name, price = name_price                # Распаковываем кортеж\n",
    "    discount_calc = round(price * 0.05, 2)  # Скидка 5%\n",
    "    return (name, price-discount_calc)      # Возвращаем название и новую цену\n",
    "\n",
    "prices = {'яблоко': 99, 'апельсин': 99, 'вишня': 147, 'персик': 145, 'грейпфрут': 139}\n",
    "new_prices = dict(map(discount, prices.items()))\n",
    "print(new_prices)\n",
    "\n",
    "prices = {'Штаны': 2100, 'Кофта': 1520, 'Свитер': 3520, 'Галстук': 780, 'Ремень': 1390}\n",
    "new_prices = dict(map(discount, prices.items()))\n",
    "print(new_prices)"
   ]
  },
  {
   "cell_type": "code",
   "execution_count": 39,
   "metadata": {},
   "outputs": [
    {
     "name": "stdout",
     "output_type": "stream",
     "text": [
      "[1331, 1728, 2197, 2744, 3375, 4096]\n"
     ]
    }
   ],
   "source": [
    "# Список чисел\n",
    "number_list = [11, 12, 13, 14, 15, 16]\n",
    "\n",
    "cube_number_list = list(map(lambda x: x**3, number_list))\n",
    "print(cube_number_list)"
   ]
  },
  {
   "cell_type": "code",
   "execution_count": 40,
   "metadata": {},
   "outputs": [
    {
     "name": "stdout",
     "output_type": "stream",
     "text": [
      "['шалаш', 'казак', 'морднилап', 'рвал дед лавр']\n"
     ]
    }
   ],
   "source": [
    "# Список строк, которые надо развернуть\n",
    "str_list = ['шалаш', 'казак', 'палиндром', 'рвал дед лавр']\n",
    "\n",
    "reverse_str_list = list(map(lambda x: x[::-1], str_list))\n",
    "print(reverse_str_list)"
   ]
  },
  {
   "cell_type": "code",
   "execution_count": 53,
   "metadata": {},
   "outputs": [
    {
     "name": "stdout",
     "output_type": "stream",
     "text": [
      "[('Amanda', 1.61, 51, 19.7), ('Patricia', 1.65, 61, 22.4), ('Marcos', 1.91, 101, 27.7)]\n"
     ]
    }
   ],
   "source": [
    "data = [('Amanda', 1.61, 51), ('Patricia', 1.65, 61), ('Marcos', 1.91, 101)]\n",
    "\n",
    "updated_data = list(map(lambda x: (*x, round(x[2] / x[1]**2, 1)), data))\n",
    "print(updated_data)"
   ]
  },
  {
   "cell_type": "code",
   "execution_count": 54,
   "metadata": {},
   "outputs": [
    {
     "name": "stdout",
     "output_type": "stream",
     "text": [
      "['https://www.kommersant.ru//doc/5041434?query=data%20science', 'https://www.kommersant.ru//doc/5041567?query=data%20science', 'https://www.kommersant.ru//doc/4283670?query=data%20science', 'https://www.kommersant.ru//doc/3712659?query=data%20science', 'https://www.kommersant.ru//doc/4997267?query=data%20science', 'https://www.kommersant.ru//doc/4372673?query=data%20science', 'https://www.kommersant.ru//doc/3779060?query=data%20science', 'https://www.kommersant.ru//doc/3495410?query=data%20science', 'https://www.kommersant.ru//doc/4308832?query=data%20science', 'https://www.kommersant.ru//doc/4079881?query=data%20science']\n"
     ]
    }
   ],
   "source": [
    "# Задание 7.5\n",
    "\n",
    "docs = [  \n",
    "'//doc/5041434?query=data%20science',  \n",
    "'//doc/5041567?query=data%20science',  \n",
    "'//doc/4283670?query=data%20science',  \n",
    "'//doc/3712659?query=data%20science',  \n",
    "'//doc/4997267?query=data%20science',  \n",
    "'//doc/4372673?query=data%20science',  \n",
    "'//doc/3779060?query=data%20science',  \n",
    "'//doc/3495410?query=data%20science',  \n",
    "'//doc/4308832?query=data%20science',  \n",
    "'//doc/4079881?query=data%20science'  \n",
    "]\n",
    "\n",
    "# Функция для преобразования ссылки\n",
    "links = list(map(lambda x: 'https://www.kommersant.ru' + x, docs))\n",
    "print(links)"
   ]
  },
  {
   "cell_type": "code",
   "execution_count": 62,
   "metadata": {},
   "outputs": [
    {
     "data": {
      "text/plain": [
       "[(0.00632, 6.575, 65.2, 296.0, 4.98, 9.32),\n",
       " (0.02731, 6.421, 78.9, 242.0, 9.14, 60.41),\n",
       " (0.02729, 7.185, 61.1, 242.0, 4.03, 26.61),\n",
       " (0.03237, 6.998, 45.8, 222.0, 2.94, 21.13),\n",
       " (0.06905, 7.147, 54.2, 222.0, 5.33, 81.7),\n",
       " (0.02985, 6.43, 58.7, 222.0, 5.21, 34.53),\n",
       " (0.08829, 6.012, 66.6, 311.0, 12.43, 341.31)]"
      ]
     },
     "execution_count": 62,
     "metadata": {},
     "output_type": "execute_result"
    }
   ],
   "source": [
    "# Задание 7.6\n",
    "\n",
    "data = [\n",
    "    (0.00632, 6.575, 65.2, 296.0, 4.98),\n",
    "    (0.02731, 6.421, 78.9, 242.0, 9.14),\n",
    "    (0.02729, 7.185, 61.1, 242.0, 4.03),\n",
    "    (0.03237, 6.998, 45.8, 222.0, 2.94),\n",
    "    (0.06905, 7.147, 54.2, 222.0, 5.33),\n",
    "    (0.02985, 6.43, 58.7, 222.0, 5.21),\n",
    "    (0.08829, 6.012, 66.6, 311.0, 12.43)\n",
    "    ]\n",
    "\n",
    "# data = [\n",
    "#     (1, 2, 3, 4, 5),\n",
    "#     (6, 7, 8, 9, 10),\n",
    "#     (11, 12, 13, 14, 15),\n",
    "#     (16, 17, 18, 19, 20),\n",
    "#     (21, 22, 23, 24, 25),\n",
    "#     (26, 27, 28, 29, 30),\n",
    "#     (31, 32, 33, 34, 35)\n",
    "#     ]\n",
    "\n",
    "\n",
    "# Функция для вычисления нового параметра\n",
    "updated_data = list(map(lambda x: (*x, round(x[0]*x[3]*x[4], 2)), data))\n",
    "updated_data"
   ]
  },
  {
   "cell_type": "markdown",
   "metadata": {},
   "source": [
    "### 8 юнит"
   ]
  },
  {
   "cell_type": "code",
   "execution_count": 9,
   "metadata": {},
   "outputs": [
    {
     "name": "stdout",
     "output_type": "stream",
     "text": [
      "['in', 'near', 'My', \"cousin's\", 'married.']\n"
     ]
    }
   ],
   "source": [
    "words_list = [\n",
    "    \"We're\", 'in', 'a', 'small', 'village', 'near', \n",
    "    'Chicago', 'My', \"cousin's\", 'getting', 'married.']\n",
    "\n",
    "even_list = []\n",
    "\n",
    "for word in words_list:\n",
    "    if len(word)%2 == 0:\n",
    "        even_list.append(word)\n",
    "\n",
    "\n",
    "print(even_list)"
   ]
  },
  {
   "cell_type": "code",
   "execution_count": 13,
   "metadata": {},
   "outputs": [
    {
     "name": "stdout",
     "output_type": "stream",
     "text": [
      "['in', 'near', 'My', \"cousin's\", 'married.']\n"
     ]
    }
   ],
   "source": [
    "def is_even(x):\n",
    "    return len(x)%2 == 0\n",
    "\n",
    "even = list(filter(is_even, words_list))\n",
    "print(even)"
   ]
  },
  {
   "cell_type": "code",
   "execution_count": 15,
   "metadata": {},
   "outputs": [
    {
     "name": "stdout",
     "output_type": "stream",
     "text": [
      "['in', 'near', 'My', \"cousin's\", 'married.']\n"
     ]
    }
   ],
   "source": [
    "even = list(filter(lambda x: len(x)%2==0, words_list))\n",
    "print(even)"
   ]
  },
  {
   "cell_type": "code",
   "execution_count": 20,
   "metadata": {},
   "outputs": [
    {
     "name": "stdout",
     "output_type": "stream",
     "text": [
      "('Москва', 'зацвело', 'рассвет')\n"
     ]
    }
   ],
   "source": [
    "str_tuple = (\"Москва\", \"15.1 см\", \"зацвело\", \"было пол 5 утра\", \"рассвет\")\n",
    "\n",
    "filtered_tuple = tuple(filter(lambda x: x.isalpha(), str_tuple))\n",
    "print(filtered_tuple)"
   ]
  },
  {
   "cell_type": "code",
   "execution_count": 28,
   "metadata": {},
   "outputs": [
    {
     "data": {
      "text/plain": [
       "[('FPW-2.0', 'Бонус: Тренажер по JavaScript', 9.2, 70, 180),\n",
       " ('FPW-2.0', 'Бонусный: IT в современном мире', 8.64, 83.74, 856)]"
      ]
     },
     "execution_count": 28,
     "metadata": {},
     "output_type": "execute_result"
    }
   ],
   "source": [
    "data = [\n",
    "    (\"FPW-2.0_D\", \"Бонус: Тренажер по HTML\", 10, 100, 10),\n",
    "    (\"FPW-2.0\", \"Бонус: Тренажер по JavaScript\", 9.2, 70, 180),\n",
    "    (\"FPW-2.0_D\", \"Бонус: Тренажер по React\", 8.5, 66.67, 68),\n",
    "    (\"FPW-2.0\", \"Бонусный: IT в современном мире\", 8.64, 83.74, 856),\n",
    "    (\"FPW-2.0\", \"Бонусный: Введение\", 8.73, 56.24, 745),\n",
    "    (\"FPW-2.0\", \"Бонус: D1. Знакомство с Django (NEW)\", 9.76, 95.24, 21),\n",
    "    (\"FPW-2.0_D\", \"Бонус: D2. Модели (NEW)\", 9.44, 77.78, 18)\n",
    "    ]\n",
    "\n",
    "def filter_module(module):\n",
    "    code, name, avg_votes, nessa, count = module\n",
    "    cond1 = code == 'FPW-2.0'\n",
    "    cond2 = nessa >= 70\n",
    "    cond3 = count > 50\n",
    "    return cond1 and cond2 and cond3\n",
    "\n",
    "\n",
    "filtered_data = list(filter(filter_module, data))\n",
    "print(filtered_data)"
   ]
  },
  {
   "cell_type": "code",
   "execution_count": 29,
   "metadata": {},
   "outputs": [
    {
     "name": "stdout",
     "output_type": "stream",
     "text": [
      "[('FPW-2.0', 'Бонус: Тренажер по JavaScript', 9.2, 70, 180), ('FPW-2.0', 'Бонусный: IT в современном мире', 8.64, 83.74, 856)]\n"
     ]
    }
   ],
   "source": [
    "lambda_filter_module = lambda x: (x[0] == 'FPW-2.0') and (x[3] >= 70) and (x[4] >= 50)\n",
    "\n",
    "filtered_data = list(filter(lambda_filter_module, data))\n",
    "print(filtered_data)"
   ]
  },
  {
   "cell_type": "code",
   "execution_count": 32,
   "metadata": {},
   "outputs": [
    {
     "name": "stdout",
     "output_type": "stream",
     "text": [
      "[21490, 24901, 24901, 24142]\n"
     ]
    }
   ],
   "source": [
    "# Задание 8.1\n",
    "\n",
    "prices = [34562, 66572, 25683, 17683, 56389, 28973]\n",
    "# prices = [21490, 24901, 24901, 34901, 24142, 64521]\n",
    "\n",
    "filtered_prices = list(filter(lambda x: x <=30_000, prices))\n",
    "print(filtered_prices)"
   ]
  },
  {
   "cell_type": "code",
   "execution_count": 36,
   "metadata": {},
   "outputs": [
    {
     "name": "stdout",
     "output_type": "stream",
     "text": [
      "['parking permit', 'maternity capital', 'tax benefit']\n",
      "['reimbursement of expenses', 'parking permit', 'maternity capital']\n"
     ]
    }
   ],
   "source": [
    "# Задание 8.2\n",
    "\n",
    "family_list = [\n",
    "    'certificate of a large family',\n",
    "    'social card',\n",
    "    'maternity capital',\n",
    "    'parking permit',\n",
    "    'tax benefit',\n",
    "    'reimbursement of expenses',\n",
    "    \"compensation for the purchase of children's goods\"\n",
    "    ]\n",
    "\n",
    "\n",
    "# Функция для фильтрации услуг, которые входят в список\n",
    "def filter_family(service_list):\n",
    "    result = filter(lambda x: x in family_list, service_list)\n",
    "    return list(result)\n",
    "\n",
    "\n",
    "print(filter_family([\n",
    "    'newborn registration', 'parking permit', \n",
    "    'maternity capital', 'tax benefit', 'medical policy']))\n",
    "\n",
    "print(filter_family([\n",
    "    'reimbursement of expenses', 'parking permit',\n",
    "    'maternity capital', 'medical policy']))"
   ]
  },
  {
   "cell_type": "code",
   "execution_count": 46,
   "metadata": {},
   "outputs": [
    {
     "name": "stdout",
     "output_type": "stream",
     "text": [
      "[(\"We're\", 0), ('small', 1), ('village', 1), ('Chicago', 1), (\"cousin's\", 0), ('getting', 0), ('married.', 1)]\n"
     ]
    }
   ],
   "source": [
    "words_list = [\n",
    "    \"We're\", 'in', 'a', 'small', 'village', 'near', \n",
    "    'Chicago', 'My', \"cousin's\", 'getting', 'married.']\n",
    "\n",
    "# Функция для фильтрации слов по длине\n",
    "filtered_words = filter(lambda x: len(x) >= 5, words_list)\n",
    "\n",
    "# Функция подсчета кол-ва буквы 'а' в словах\n",
    "count_a = map(lambda x: (x, x.lower().count('a')), filtered_words)\n",
    "\n",
    "print(list(count_a))"
   ]
  },
  {
   "cell_type": "code",
   "execution_count": 54,
   "metadata": {},
   "outputs": [
    {
     "name": "stdout",
     "output_type": "stream",
     "text": [
      "[('Amanda', 1.61, 51, 19.675166853130666), ('Patricia', 1.65, 61, 22.4058769513315), ('Andrey', 1.79, 61, 19.038107424861895), ('Felicia', 1.63, 56, 21.077195227520797)]\n"
     ]
    }
   ],
   "source": [
    "# Выгрузка данных о параметрах человеческого тела\n",
    "data = [\n",
    "    ('Amanda', 1.61, 51),\n",
    "    ('Patricia', 1.65, 61), \n",
    "    ('Marcos', 1.91, 101),\n",
    "    ('Andrey', 1.79, 61),\n",
    "    ('Nikos', 1.57, 78),\n",
    "    ('Felicia', 1.63, 56),\n",
    "    ('Lubov', 1.53, 34)\n",
    "    ]\n",
    "\n",
    "map_func = lambda x: (*x, x[2]/(x[1]**2))\n",
    "updated_data = map(map_func, data)\n",
    "\n",
    "filter_func = lambda x: 18.5 <= x[3] <= 25\n",
    "filtered_data = filter(filter_func, updated_data)\n",
    "\n",
    "print(list(filtered_data))"
   ]
  },
  {
   "cell_type": "code",
   "execution_count": 66,
   "metadata": {},
   "outputs": [
    {
     "name": "stdout",
     "output_type": "stream",
     "text": [
      "[('Smith J.', 13, 2, 2003), ('Petrova M.', 13, 3, 2003)]\n"
     ]
    }
   ],
   "source": [
    "# Задание 8.3\n",
    "\n",
    "reg = [\n",
    "    ('Ivanov', 'Sergej', 24, 9, 1995),\n",
    "    ('Smith', 'John', 13, 2, 2003),\n",
    "    ('Petrova', 'Maria', 13, 3, 2003)\n",
    "    ]\n",
    "\n",
    "# reg = [\n",
    "#     ('Lihanova', 'Vika', 21, 10, 1899),\n",
    "#     ('Nabokov', 'John', 7, 1, 2001),\n",
    "#     ('Varlamov', 'Ilya', 4, 12, 1995)\n",
    "#     ]\n",
    "\n",
    "# Функция для фильтрации данных\n",
    "filter_func = lambda x: x[-1] > 2000\n",
    "filtered_data = filter(filter_func, reg)\n",
    "\n",
    "# Функция для преобразования данных\n",
    "map_func = lambda x: (x[0] + ' ' + x[1][0] + '.', x[2], x[3], x[4])\n",
    "updated_reg = map(map_func, filtered_data)\n",
    "new_reg = list(updated_reg)\n",
    "\n",
    "print(new_reg)"
   ]
  },
  {
   "cell_type": "code",
   "execution_count": 70,
   "metadata": {},
   "outputs": [
    {
     "name": "stdout",
     "output_type": "stream",
     "text": [
      "[(0.1, 5.345, 65.2, 296.0, 4.98, 147.41), (0.2, 7.145, 78.9, 242.0, 9.14, 442.38), (0.3, 4.131, 61.1, 242.0, 4.03, 292.58), (0.4, 6.008, 45.8, 222.0, 2.94, 261.07), (0.5, 7.25, 54.2, 222.0, 5.33, 591.63), (0.6, 5.413, 58.7, 222.0, 5.21, 693.97), (0.7, 7.015, 66.6, 311.0, 12.43, 2706.01)]\n"
     ]
    }
   ],
   "source": [
    "# Задание 8.4\n",
    "\n",
    "data = [\n",
    "    (0.00632, 6.575, 65.2, 296.0, 4.98),\n",
    "    (0.02731, 6.421, 78.9, 242.0, 9.14),\n",
    "    (0.02729, 7.185, 61.1, 242.0, 4.03),\n",
    "    (0.03237, 6.998, 45.8, 222.0, 2.94),\n",
    "    (0.06905, 7.147, 54.2, 222.0, 5.33),\n",
    "    (0.02985, 6.43, 58.7, 222.0, 5.21),\n",
    "    (0.08829, 6.012, 66.6, 311.0, 12.43)\n",
    "    ]\n",
    "\n",
    "# data = [\n",
    "#     (0.1, 5.345, 65.2, 296.0, 4.98),\n",
    "#     (0.2, 7.145, 78.9, 242.0, 9.14),\n",
    "#     (0.3, 4.131, 61.1, 242.0, 4.03),\n",
    "#     (0.4, 6.008, 45.8, 222.0, 2.94),\n",
    "#     (0.5, 7.250, 54.2, 222.0, 5.33),\n",
    "#     (0.6, 5.413, 58.7, 222.0, 5.21),\n",
    "#     (0.7, 7.015, 66.6, 311.0, 12.43)\n",
    "#     ]\n",
    "\n",
    "\n",
    "# Функция для вычисления нового параметра\n",
    "new_feature = lambda x: (*x, round(x[0]*x[3]*x[4], 2))\n",
    "data_updated = map(new_feature, data)\n",
    "\n",
    "# Функция для фильтрации данных\n",
    "filtered_data = list(filter(lambda x: x[5] > 60, data_updated))\n",
    "\n",
    "print(filtered_data)"
   ]
  }
 ],
 "metadata": {
  "kernelspec": {
   "display_name": "base",
   "language": "python",
   "name": "python3"
  },
  "language_info": {
   "codemirror_mode": {
    "name": "ipython",
    "version": 3
   },
   "file_extension": ".py",
   "mimetype": "text/x-python",
   "name": "python",
   "nbconvert_exporter": "python",
   "pygments_lexer": "ipython3",
   "version": "3.12.7"
  }
 },
 "nbformat": 4,
 "nbformat_minor": 2
}
