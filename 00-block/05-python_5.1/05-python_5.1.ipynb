{
 "cells": [
  {
   "cell_type": "markdown",
   "metadata": {},
   "source": [
    "### 0 юнит"
   ]
  },
  {
   "cell_type": "code",
   "execution_count": 57,
   "metadata": {},
   "outputs": [
    {
     "ename": "TypeError",
     "evalue": "'tuple' object does not support item assignment",
     "output_type": "error",
     "traceback": [
      "\u001b[1;31m---------------------------------------------------------------------------\u001b[0m",
      "\u001b[1;31mTypeError\u001b[0m                                 Traceback (most recent call last)",
      "Cell \u001b[1;32mIn[57], line 4\u001b[0m\n\u001b[0;32m      1\u001b[0m \u001b[38;5;66;03m# Задание 0.3\u001b[39;00m\n\u001b[0;32m      3\u001b[0m tup \u001b[38;5;241m=\u001b[39m (\u001b[38;5;241m13\u001b[39m, \u001b[38;5;241m45\u001b[39m, \u001b[38;5;241m79\u001b[39m)\n\u001b[1;32m----> 4\u001b[0m tup[\u001b[38;5;241m2\u001b[39m] \u001b[38;5;241m=\u001b[39m \u001b[38;5;241m10\u001b[39m\n",
      "\u001b[1;31mTypeError\u001b[0m: 'tuple' object does not support item assignment"
     ]
    }
   ],
   "source": [
    "# Задание 0.3\n",
    "\n",
    "tup = (13, 45, 79)\n",
    "tup[2] = 10"
   ]
  },
  {
   "cell_type": "markdown",
   "metadata": {},
   "source": [
    "### 1 юнит"
   ]
  },
  {
   "cell_type": "code",
   "execution_count": null,
   "metadata": {},
   "outputs": [
    {
     "name": "stdout",
     "output_type": "stream",
     "text": [
      "Hello world!\n",
      "Hello world!\n"
     ]
    }
   ],
   "source": [
    "def first_function():\n",
    "    print(\"Hello world!\")\n",
    "    \n",
    "first_function()\n",
    "first_function()"
   ]
  },
  {
   "cell_type": "markdown",
   "metadata": {},
   "source": [
    "### 2 юнит"
   ]
  },
  {
   "cell_type": "code",
   "execution_count": null,
   "metadata": {},
   "outputs": [
    {
     "name": "stdout",
     "output_type": "stream",
     "text": [
      "Hours: 1\n",
      "Minutes: 30\n"
     ]
    }
   ],
   "source": [
    "def print_hours(minutes):\n",
    "    hours = minutes // 60\n",
    "    left_minutes = minutes % 60\n",
    "    print('Hours:', hours)\n",
    "    print('Minutes:', left_minutes)\n",
    "\n",
    "print_hours(90)"
   ]
  },
  {
   "cell_type": "code",
   "execution_count": null,
   "metadata": {},
   "outputs": [
    {
     "name": "stdout",
     "output_type": "stream",
     "text": [
      "Trave time will be 2.0 hours\n"
     ]
    }
   ],
   "source": [
    "def get_time(distance, speed):\n",
    "    result = distance / speed\n",
    "    return result\n",
    "\n",
    "time = get_time(120, 60)\n",
    "\n",
    "print(f'Trave time will be {time} hours')"
   ]
  },
  {
   "cell_type": "code",
   "execution_count": null,
   "metadata": {},
   "outputs": [
    {
     "name": "stdout",
     "output_type": "stream",
     "text": [
      "Hours to travel: 1\n",
      "Minutes to travel: 12\n"
     ]
    }
   ],
   "source": [
    "def get_time_tuple(distance, speed):\n",
    "    # расстояние в км, скорость в км/ч\n",
    "    hours = distance // speed           # целое число часов в пути\n",
    "    distance_left = distance % speed    # остаток км в пути\n",
    "    kms_per_minute = speed / 60         # перевод скорости из км/ч в км/м\n",
    "    minutes = round(distance_left / kms_per_minute)\n",
    "    return hours, minutes\n",
    "\n",
    "result = get_time_tuple(120, 100)\n",
    "print(f'Hours to travel: {result[0]}')\n",
    "print(f'Minutes to travel: {result[1]}')"
   ]
  },
  {
   "cell_type": "code",
   "execution_count": null,
   "metadata": {},
   "outputs": [
    {
     "name": "stdout",
     "output_type": "stream",
     "text": [
      "Hours to travel: 1\n",
      "Minutes to travel: 12\n"
     ]
    }
   ],
   "source": [
    "hours, minutes = get_time_tuple(120, 100)\n",
    "print(f'Hours to travel: {hours}')\n",
    "print(f'Minutes to travel: {minutes}')"
   ]
  },
  {
   "cell_type": "code",
   "execution_count": null,
   "metadata": {},
   "outputs": [
    {
     "name": "stdout",
     "output_type": "stream",
     "text": [
      "2.0\n",
      "None\n"
     ]
    }
   ],
   "source": [
    "def get_time(distance, speed):\n",
    "    result = distance / speed\n",
    "    print(result)\n",
    "\n",
    "time = get_time(120, 60)\n",
    "print(time)"
   ]
  },
  {
   "cell_type": "code",
   "execution_count": null,
   "metadata": {},
   "outputs": [
    {
     "name": "stdout",
     "output_type": "stream",
     "text": [
      "Element is NOT found\n",
      "False\n"
     ]
    }
   ],
   "source": [
    "def list_in(list_in, obj):\n",
    "    for elem in list_in:\n",
    "        if elem == obj:\n",
    "            print('Element is found')\n",
    "            return True\n",
    "            print('This won\\'t be printed')\n",
    "    print('Element is NOT found')\n",
    "    return False\n",
    "    print('This won\\'t be printed')\n",
    "\n",
    "result = list_in([1, 2, 5, 7, 10], 3)\n",
    "print(result)"
   ]
  },
  {
   "cell_type": "code",
   "execution_count": null,
   "metadata": {},
   "outputs": [
    {
     "name": "stdout",
     "output_type": "stream",
     "text": [
      "Element is found\n",
      "True\n"
     ]
    }
   ],
   "source": [
    "result = list_in([1, 2, 5, 7, 10], 7)\n",
    "print(result)"
   ]
  },
  {
   "cell_type": "code",
   "execution_count": null,
   "metadata": {},
   "outputs": [
    {
     "name": "stdout",
     "output_type": "stream",
     "text": [
      "360\n"
     ]
    }
   ],
   "source": [
    "# Задание 2.3\n",
    "\n",
    "units, price = 10, 36\n",
    "# units, price = 1, 100\n",
    "# units, price = 0, 100\n",
    "\n",
    "\n",
    "def get_total(units, price):\n",
    "    return units*price\n",
    "\n",
    "print(get_total(units, price))"
   ]
  },
  {
   "cell_type": "markdown",
   "metadata": {},
   "source": [
    "### 3 юнит"
   ]
  },
  {
   "cell_type": "code",
   "execution_count": null,
   "metadata": {},
   "outputs": [
    {
     "ename": "KeyError",
     "evalue": "'Vavilov'",
     "output_type": "error",
     "traceback": [
      "\u001b[1;31m---------------------------------------------------------------------------\u001b[0m",
      "\u001b[1;31mKeyError\u001b[0m                                  Traceback (most recent call last)",
      "Cell \u001b[1;32mIn[30], line 3\u001b[0m\n\u001b[0;32m      1\u001b[0m grades \u001b[38;5;241m=\u001b[39m {\u001b[38;5;124m'\u001b[39m\u001b[38;5;124mIvanov\u001b[39m\u001b[38;5;124m'\u001b[39m: \u001b[38;5;241m5\u001b[39m, \u001b[38;5;124m'\u001b[39m\u001b[38;5;124mSmirnov\u001b[39m\u001b[38;5;124m'\u001b[39m: \u001b[38;5;241m3\u001b[39m, \u001b[38;5;124m'\u001b[39m\u001b[38;5;124mKuznetsova\u001b[39m\u001b[38;5;124m'\u001b[39m: \u001b[38;5;241m4\u001b[39m, \u001b[38;5;124m'\u001b[39m\u001b[38;5;124mTihonova\u001b[39m\u001b[38;5;124m'\u001b[39m: \u001b[38;5;241m5\u001b[39m}\n\u001b[1;32m----> 3\u001b[0m grades[\u001b[38;5;124m'\u001b[39m\u001b[38;5;124mVavilov\u001b[39m\u001b[38;5;124m'\u001b[39m]\n",
      "\u001b[1;31mKeyError\u001b[0m: 'Vavilov'"
     ]
    }
   ],
   "source": [
    "grades = {'Ivanov': 5, 'Smirnov': 3, 'Kuznetsova': 4, 'Tihonova': 5}\n",
    "\n",
    "print(grades['Vavilov'])"
   ]
  },
  {
   "cell_type": "code",
   "execution_count": null,
   "metadata": {},
   "outputs": [
    {
     "name": "stdout",
     "output_type": "stream",
     "text": [
      "Student’s mark was not found!\n"
     ]
    }
   ],
   "source": [
    "grades = {'Ivanov': 5, 'Smirnov': 3, 'Kuznetsova': 4, 'Tihonova': 5}\n",
    "\n",
    "try:\n",
    "    print(grades['Vavilov'])\n",
    "except KeyError:\n",
    "    print('Student’s mark was not found!')"
   ]
  },
  {
   "cell_type": "code",
   "execution_count": null,
   "metadata": {},
   "outputs": [
    {
     "ename": "ValueError",
     "evalue": "Distance or speed cannot be below or equal to zero",
     "output_type": "error",
     "traceback": [
      "\u001b[1;31m---------------------------------------------------------------------------\u001b[0m",
      "\u001b[1;31mValueError\u001b[0m                                Traceback (most recent call last)",
      "Cell \u001b[1;32mIn[34], line 7\u001b[0m\n\u001b[0;32m      4\u001b[0m     result \u001b[38;5;241m=\u001b[39m distance \u001b[38;5;241m/\u001b[39m speed\n\u001b[0;32m      5\u001b[0m     \u001b[38;5;28;01mreturn\u001b[39;00m result\n\u001b[1;32m----> 7\u001b[0m get_time(\u001b[38;5;241m-\u001b[39m\u001b[38;5;241m120\u001b[39m, \u001b[38;5;241m60\u001b[39m)\n",
      "Cell \u001b[1;32mIn[34], line 3\u001b[0m, in \u001b[0;36mget_time\u001b[1;34m(distance, speed)\u001b[0m\n\u001b[0;32m      1\u001b[0m \u001b[38;5;28;01mdef\u001b[39;00m \u001b[38;5;21mget_time\u001b[39m(distance, speed):\n\u001b[0;32m      2\u001b[0m     \u001b[38;5;28;01mif\u001b[39;00m distance \u001b[38;5;241m<\u001b[39m \u001b[38;5;241m0\u001b[39m \u001b[38;5;129;01mor\u001b[39;00m speed \u001b[38;5;241m<\u001b[39m\u001b[38;5;241m=\u001b[39m \u001b[38;5;241m0\u001b[39m:\n\u001b[1;32m----> 3\u001b[0m         \u001b[38;5;28;01mraise\u001b[39;00m \u001b[38;5;167;01mValueError\u001b[39;00m(\u001b[38;5;124m'\u001b[39m\u001b[38;5;124mDistance or speed cannot be below or equal to zero\u001b[39m\u001b[38;5;124m'\u001b[39m)\n\u001b[0;32m      4\u001b[0m     result \u001b[38;5;241m=\u001b[39m distance \u001b[38;5;241m/\u001b[39m speed\n\u001b[0;32m      5\u001b[0m     \u001b[38;5;28;01mreturn\u001b[39;00m result\n",
      "\u001b[1;31mValueError\u001b[0m: Distance or speed cannot be below or equal to zero"
     ]
    }
   ],
   "source": [
    "def get_time(distance, speed):\n",
    "    if distance < 0 or speed <= 0:\n",
    "        raise ValueError('Distance or speed cannot be below or equal to zero')\n",
    "    result = distance / speed\n",
    "    return result\n",
    "\n",
    "get_time(-120, 60)"
   ]
  },
  {
   "cell_type": "code",
   "execution_count": null,
   "metadata": {},
   "outputs": [
    {
     "ename": "ValueError",
     "evalue": "Speed cannot be equal to 0!",
     "output_type": "error",
     "traceback": [
      "\u001b[1;31m---------------------------------------------------------------------------\u001b[0m",
      "\u001b[1;31mValueError\u001b[0m                                Traceback (most recent call last)",
      "Cell \u001b[1;32mIn[40], line 17\u001b[0m\n\u001b[0;32m     14\u001b[0m     result \u001b[38;5;241m=\u001b[39m distance \u001b[38;5;241m/\u001b[39m speed\n\u001b[0;32m     15\u001b[0m     \u001b[38;5;28;01mreturn\u001b[39;00m result\n\u001b[1;32m---> 17\u001b[0m get_time(distance, speed)\n",
      "Cell \u001b[1;32mIn[40], line 11\u001b[0m, in \u001b[0;36mget_time\u001b[1;34m(distance, speed)\u001b[0m\n\u001b[0;32m      9\u001b[0m \u001b[38;5;28;01mdef\u001b[39;00m \u001b[38;5;21mget_time\u001b[39m(distance, speed):\n\u001b[0;32m     10\u001b[0m     \u001b[38;5;28;01mif\u001b[39;00m speed \u001b[38;5;241m==\u001b[39m \u001b[38;5;241m0\u001b[39m:\n\u001b[1;32m---> 11\u001b[0m         \u001b[38;5;28;01mraise\u001b[39;00m \u001b[38;5;167;01mValueError\u001b[39;00m(\u001b[38;5;124m\"\u001b[39m\u001b[38;5;124mSpeed cannot be equal to 0!\u001b[39m\u001b[38;5;124m\"\u001b[39m)\n\u001b[0;32m     12\u001b[0m     \u001b[38;5;28;01mif\u001b[39;00m distance \u001b[38;5;241m<\u001b[39m \u001b[38;5;241m0\u001b[39m \u001b[38;5;129;01mor\u001b[39;00m speed \u001b[38;5;241m<\u001b[39m \u001b[38;5;241m0\u001b[39m:\n\u001b[0;32m     13\u001b[0m         \u001b[38;5;28;01mraise\u001b[39;00m \u001b[38;5;167;01mValueError\u001b[39;00m(\u001b[38;5;124m\"\u001b[39m\u001b[38;5;124mDistance or speed cannot be below 0!\u001b[39m\u001b[38;5;124m\"\u001b[39m)\n",
      "\u001b[1;31mValueError\u001b[0m: Speed cannot be equal to 0!"
     ]
    }
   ],
   "source": [
    "# Задание 3.1\n",
    "\n",
    "distance, speed = 100, 0\n",
    "# distance, speed = 100, 10\n",
    "# distance, speed = 100, -10\n",
    "# distance, speed = -100, 10\n",
    "\n",
    "\n",
    "def get_time(distance, speed):\n",
    "    if speed == 0:\n",
    "        raise ValueError(\"Speed cannot be equal to 0!\")\n",
    "    if distance < 0 or speed < 0:\n",
    "        raise ValueError(\"Distance or speed cannot be below 0!\")\n",
    "    result = distance / speed\n",
    "    return result\n",
    "\n",
    "get_time(distance, speed)"
   ]
  },
  {
   "cell_type": "code",
   "execution_count": null,
   "metadata": {},
   "outputs": [
    {
     "name": "stdout",
     "output_type": "stream",
     "text": [
      "Cola with ice is ready\n",
      "Cola without ice is ready\n"
     ]
    }
   ],
   "source": [
    "def get_cola(ice=True):\n",
    "    if ice == True:\n",
    "        print('Cola with ice is ready')\n",
    "    else:\n",
    "        print('Cola without ice is ready')\n",
    "\n",
    "get_cola()\n",
    "get_cola(False)"
   ]
  },
  {
   "cell_type": "code",
   "execution_count": null,
   "metadata": {},
   "outputs": [
    {
     "name": "stdout",
     "output_type": "stream",
     "text": [
      "2.0\n",
      "3.0\n"
     ]
    }
   ],
   "source": [
    "def root(value, n):\n",
    "    result = value ** (1/n)\n",
    "    return result\n",
    "\n",
    "print(root(16, 4))\n",
    "print(root(27, 3))"
   ]
  },
  {
   "cell_type": "code",
   "execution_count": null,
   "metadata": {},
   "outputs": [
    {
     "name": "stdout",
     "output_type": "stream",
     "text": [
      "9.0\n"
     ]
    }
   ],
   "source": [
    "# Задание 3.2\n",
    "\n",
    "def root(value, n=2):\n",
    "    result = value ** (1/n)\n",
    "    return result\n",
    "\n",
    "print(root(81))"
   ]
  },
  {
   "cell_type": "code",
   "execution_count": null,
   "metadata": {},
   "outputs": [],
   "source": [
    "def add_mark(name, mark, journal={}):\n",
    "    journal[name] = mark\n",
    "    return journal"
   ]
  },
  {
   "cell_type": "code",
   "execution_count": null,
   "metadata": {},
   "outputs": [
    {
     "name": "stdout",
     "output_type": "stream",
     "text": [
      "{'Ivanov': 5, 'Tihonova': 4}\n"
     ]
    }
   ],
   "source": [
    "group1 = {}\n",
    "\n",
    "group1 = add_mark('Ivanov', 5, group1)\n",
    "group1 = add_mark('Tihonova', 4, group1)\n",
    "\n",
    "print(group1)"
   ]
  },
  {
   "cell_type": "code",
   "execution_count": null,
   "metadata": {},
   "outputs": [
    {
     "name": "stdout",
     "output_type": "stream",
     "text": [
      "{'Smirnov': 3}\n",
      "{'Smirnov': 3, 'Kuznetsova': 5}\n"
     ]
    }
   ],
   "source": [
    "group2 = add_mark('Smirnov', 3)\n",
    "print(group2)\n",
    "\n",
    "group3 = add_mark('Kuznetsova', 5)\n",
    "print(group3)"
   ]
  },
  {
   "cell_type": "code",
   "execution_count": null,
   "metadata": {},
   "outputs": [],
   "source": [
    "def add_mark(name, mark, journal=None):\n",
    "    if journal is None:\n",
    "        journal = {}\n",
    "    journal[name] = mark\n",
    "    return journal"
   ]
  },
  {
   "cell_type": "code",
   "execution_count": null,
   "metadata": {},
   "outputs": [
    {
     "name": "stdout",
     "output_type": "stream",
     "text": [
      "{'Smirnov': 3}\n",
      "{'Kuznetsova': 5}\n"
     ]
    }
   ],
   "source": [
    "group2 = add_mark('Smirnov', 3)\n",
    "print(group2)\n",
    "\n",
    "group3 = add_mark('Kuznetsova', 5)\n",
    "print(group3)"
   ]
  },
  {
   "cell_type": "code",
   "execution_count": null,
   "metadata": {},
   "outputs": [
    {
     "ename": "ValueError",
     "evalue": "Invalid Mark!",
     "output_type": "error",
     "traceback": [
      "\u001b[1;31m---------------------------------------------------------------------------\u001b[0m",
      "\u001b[1;31mValueError\u001b[0m                                Traceback (most recent call last)",
      "Cell \u001b[1;32mIn[54], line 19\u001b[0m\n\u001b[0;32m     16\u001b[0m    journal[name] \u001b[38;5;241m=\u001b[39m mark\n\u001b[0;32m     17\u001b[0m    \u001b[38;5;28;01mreturn\u001b[39;00m journal\n\u001b[1;32m---> 19\u001b[0m add_mark(name, mark)\n",
      "Cell \u001b[1;32mIn[54], line 13\u001b[0m, in \u001b[0;36madd_mark\u001b[1;34m(name, mark, journal)\u001b[0m\n\u001b[0;32m     11\u001b[0m \u001b[38;5;28;01mdef\u001b[39;00m \u001b[38;5;21madd_mark\u001b[39m(name, mark, journal\u001b[38;5;241m=\u001b[39m\u001b[38;5;28;01mNone\u001b[39;00m):\n\u001b[0;32m     12\u001b[0m    \u001b[38;5;28;01mif\u001b[39;00m mark \u001b[38;5;129;01mnot\u001b[39;00m \u001b[38;5;129;01min\u001b[39;00m [\u001b[38;5;241m2\u001b[39m, \u001b[38;5;241m3\u001b[39m, \u001b[38;5;241m4\u001b[39m, \u001b[38;5;241m5\u001b[39m]:\n\u001b[1;32m---> 13\u001b[0m        \u001b[38;5;28;01mraise\u001b[39;00m \u001b[38;5;167;01mValueError\u001b[39;00m(\u001b[38;5;124m'\u001b[39m\u001b[38;5;124mInvalid Mark!\u001b[39m\u001b[38;5;124m'\u001b[39m)\n\u001b[0;32m     14\u001b[0m    \u001b[38;5;28;01mif\u001b[39;00m journal \u001b[38;5;129;01mis\u001b[39;00m \u001b[38;5;28;01mNone\u001b[39;00m:\n\u001b[0;32m     15\u001b[0m        journal \u001b[38;5;241m=\u001b[39m {}\n",
      "\u001b[1;31mValueError\u001b[0m: Invalid Mark!"
     ]
    }
   ],
   "source": [
    "# Задание 3.5\n",
    "\n",
    "name, mark = 'Ivanov', 6\n",
    "# name, mark = 'Иванов', 6\n",
    "# name, mark = 'Петров', 1\n",
    "# name, mark = 'Петров', 3\n",
    "# name, mark = 'Петров', 4\n",
    "# name, mark = 'Петров', 10\n",
    "\n",
    "\n",
    "def add_mark(name, mark, journal=None):\n",
    "   if mark not in [2, 3, 4, 5]:\n",
    "       raise ValueError('Invalid Mark!')\n",
    "   if journal is None:\n",
    "       journal = {}\n",
    "   journal[name] = mark\n",
    "   return journal\n",
    "\n",
    "add_mark(name, mark)"
   ]
  },
  {
   "cell_type": "markdown",
   "metadata": {},
   "source": [
    "### 4 юнит"
   ]
  },
  {
   "cell_type": "code",
   "execution_count": null,
   "metadata": {},
   "outputs": [
    {
     "name": "stdout",
     "output_type": "stream",
     "text": [
      "5.0\n",
      "3.0\n",
      "Root of power 3 from 27 equals 3.0\n",
      "3.0\n",
      "Root of power 2 from 25 equals 5.0\n",
      "5.0\n"
     ]
    }
   ],
   "source": [
    "def root(value, n=2, verbose=False):\n",
    "    result = value ** (1/n)\n",
    "    if verbose is True:\n",
    "        print(f'Root of power {n} from {value} equals {result}')\n",
    "    return result\n",
    "\n",
    "print(root(25))\n",
    "print(root(27, 3))\n",
    "print(root(27, 3, True))\n",
    "print(root(25, verbose=True))"
   ]
  },
  {
   "cell_type": "code",
   "execution_count": null,
   "metadata": {},
   "outputs": [
    {
     "name": "stdout",
     "output_type": "stream",
     "text": [
      "25 125 652\n"
     ]
    }
   ],
   "source": [
    "print(25, 125, 652)"
   ]
  },
  {
   "cell_type": "code",
   "execution_count": null,
   "metadata": {},
   "outputs": [
    {
     "name": "stdout",
     "output_type": "stream",
     "text": [
      "25, 125, 652\n"
     ]
    }
   ],
   "source": [
    "print(25, 125, 652, sep=', ')"
   ]
  },
  {
   "cell_type": "code",
   "execution_count": null,
   "metadata": {},
   "outputs": [
    {
     "name": "stdout",
     "output_type": "stream",
     "text": [
      "Shopping list:\n",
      "bread butter eggs\n"
     ]
    }
   ],
   "source": [
    "print('Shopping list:')\n",
    "print('bread', 'butter', 'eggs')"
   ]
  },
  {
   "cell_type": "code",
   "execution_count": null,
   "metadata": {},
   "outputs": [
    {
     "name": "stdout",
     "output_type": "stream",
     "text": [
      "Shopping list: bread butter eggs\n"
     ]
    }
   ],
   "source": [
    "print('Shopping list:', end=' ')\n",
    "print('bread', 'butter', 'eggs')"
   ]
  },
  {
   "cell_type": "code",
   "execution_count": null,
   "metadata": {},
   "outputs": [
    {
     "name": "stdout",
     "output_type": "stream",
     "text": [
      "Shopping list: bread, butter, eggs\n"
     ]
    }
   ],
   "source": [
    "# Задание 4.1\n",
    "\n",
    "print('Shopping list:', end=' ')\n",
    "print('bread', 'butter', 'eggs', sep=', ')"
   ]
  },
  {
   "cell_type": "markdown",
   "metadata": {},
   "source": [
    "### 5 юнит"
   ]
  },
  {
   "cell_type": "code",
   "execution_count": null,
   "metadata": {},
   "outputs": [
    {
     "data": {
      "text/plain": [
       "4.0"
      ]
     },
     "execution_count": 1,
     "metadata": {},
     "output_type": "execute_result"
    }
   ],
   "source": [
    "def mean(*args):\n",
    "    result = sum(args) / len(args)\n",
    "    return result\n",
    "\n",
    "mean(5, 4, 4, 3)"
   ]
  },
  {
   "cell_type": "code",
   "execution_count": null,
   "metadata": {},
   "outputs": [
    {
     "name": "stdout",
     "output_type": "stream",
     "text": [
      "True\n",
      "(5, 4, 4, 3)\n"
     ]
    },
    {
     "data": {
      "text/plain": [
       "4.0"
      ]
     },
     "execution_count": 3,
     "metadata": {},
     "output_type": "execute_result"
    }
   ],
   "source": [
    "def mean(*numbers):\n",
    "    print(isinstance(numbers, tuple))\n",
    "    print(numbers)\n",
    "    result = sum(numbers) / len(numbers)\n",
    "    return result\n",
    "\n",
    "mean(5, 4, 4, 3)"
   ]
  },
  {
   "cell_type": "code",
   "execution_count": null,
   "metadata": {},
   "outputs": [
    {
     "name": "stdout",
     "output_type": "stream",
     "text": [
      "Ivanov: 4.75\n",
      "Petrov: 4.25\n"
     ]
    }
   ],
   "source": [
    "def mean_mark(name, *marks):\n",
    "    result = sum(marks) / len(marks)\n",
    "    print(f'{name}: {result}')\n",
    "\n",
    "mean_mark('Ivanov', 5, 5, 5, 4)\n",
    "mean_mark('Petrov', 5, 3, 5, 4)"
   ]
  },
  {
   "cell_type": "code",
   "execution_count": null,
   "metadata": {},
   "outputs": [
    {
     "name": "stdout",
     "output_type": "stream",
     "text": [
      "Ivanov: 4.75\n"
     ]
    }
   ],
   "source": [
    "def mean_mark_wrong(*marks, name):\n",
    "    result = sum(marks) / len(marks)\n",
    "    print(f'{name}: {result}')\n",
    "\n",
    "mean_mark_wrong(5, 5, 5, 4, name='Ivanov')"
   ]
  },
  {
   "cell_type": "code",
   "execution_count": null,
   "metadata": {},
   "outputs": [
    {
     "name": "stdout",
     "output_type": "stream",
     "text": [
      "150\n",
      "60\n",
      "10\n",
      "72396180\n"
     ]
    }
   ],
   "source": [
    "# Задание 5.1\n",
    "\n",
    "def mult(*nums):\n",
    "    result = 1\n",
    "    for num in nums:\n",
    "        result *= num\n",
    "    return result\n",
    "\n",
    "print(mult(3, 5, 10))\n",
    "print(mult(1, 3, 4, 5))\n",
    "print(mult(10))\n",
    "print(mult(23, 45, 67, 87, 12))"
   ]
  },
  {
   "cell_type": "code",
   "execution_count": null,
   "metadata": {},
   "outputs": [
    {
     "name": "stdout",
     "output_type": "stream",
     "text": [
      "Python SQL Machine Learning Statistics\n"
     ]
    }
   ],
   "source": [
    "langs = ['Python', 'SQL', 'Machine Learning', 'Statistics']\n",
    "print(*langs)"
   ]
  },
  {
   "cell_type": "code",
   "execution_count": null,
   "metadata": {},
   "outputs": [
    {
     "name": "stdout",
     "output_type": "stream",
     "text": [
      "Python, SQL, Machine Learning, Statistics\n"
     ]
    }
   ],
   "source": [
    "# Задание 5.2\n",
    "\n",
    "langs = ['Python', 'SQL', 'Machine Learning', 'Statistics']\n",
    "print(*langs, sep=', ')"
   ]
  },
  {
   "cell_type": "code",
   "execution_count": null,
   "metadata": {},
   "outputs": [
    {
     "name": "stdout",
     "output_type": "stream",
     "text": [
      "Kuznetsov: 4.454545454545454\n"
     ]
    }
   ],
   "source": [
    "# Задание 5.3\n",
    "\n",
    "marks = [4, 5, 5, 5, 5, 3, 4, 4, 5, 4, 5]\n",
    "\n",
    "def mean_mark(name, *marks):\n",
    "    result = sum(marks) / len(marks)\n",
    "    # Не возвращаем результат, а печатаем его\n",
    "    print(name+':', result)\n",
    "\n",
    "\n",
    "mean_mark('Kuznetsov' ,*marks)"
   ]
  },
  {
   "cell_type": "code",
   "execution_count": null,
   "metadata": {},
   "outputs": [
    {
     "name": "stdout",
     "output_type": "stream",
     "text": [
      "True\n",
      "{'monday': 'Python', 'tuesday': 'SQL', 'friday': 'ML'}\n"
     ]
    }
   ],
   "source": [
    "def schedule(**kwargs):\n",
    "    print(isinstance(kwargs, dict))\n",
    "    print(kwargs)\n",
    "\n",
    "schedule(monday='Python', tuesday='SQL', friday='ML')"
   ]
  },
  {
   "cell_type": "code",
   "execution_count": null,
   "metadata": {},
   "outputs": [
    {
     "name": "stdout",
     "output_type": "stream",
     "text": [
      "Week schedule:\n",
      "monday - Python\n",
      "tuesday - SQL\n",
      "friday - ML\n"
     ]
    }
   ],
   "source": [
    "def schedule(**kwargs):\n",
    "    print('Week schedule:')\n",
    "    for key in kwargs:\n",
    "        print(key, kwargs[key], sep=' - ')\n",
    "\n",
    "schedule(monday='Python', tuesday='SQL', friday='ML')"
   ]
  },
  {
   "cell_type": "code",
   "execution_count": null,
   "metadata": {},
   "outputs": [
    {
     "name": "stdout",
     "output_type": "stream",
     "text": [
      "Week schedule:\n",
      "Wednesday - Maths\n",
      "Thursday - SQL\n",
      "Friday - Statistics\n"
     ]
    }
   ],
   "source": [
    "lessons = {\n",
    "    'Wednesday': 'Maths',\n",
    "    'Thursday': 'SQL',\n",
    "    'Friday': 'Statistics'\n",
    "    }\n",
    "\n",
    "schedule(**lessons)"
   ]
  },
  {
   "cell_type": "code",
   "execution_count": null,
   "metadata": {},
   "outputs": [
    {
     "name": "stdout",
     "output_type": "stream",
     "text": [
      "(1, 4, 5, 7)\n",
      "{'name': 'Ivanov', 'age': 19, 'city': 'Moscow'}\n"
     ]
    }
   ],
   "source": [
    "def print_args(*args, **kwargs):\n",
    "    print(args)\n",
    "    print(kwargs)\n",
    "\n",
    "print_args(1, 4, 5, 7, name='Ivanov', age=19, city='Moscow')"
   ]
  },
  {
   "cell_type": "code",
   "execution_count": null,
   "metadata": {},
   "outputs": [
    {
     "name": "stdout",
     "output_type": "stream",
     "text": [
      "1, 4, 6, 8; 12, 45, 56, 190, 111; Python, Functions; "
     ]
    }
   ],
   "source": [
    "list1 = [1, 4, 6, 8]\n",
    "list2 = [12, 45, 56, 190, 111]\n",
    "list3 = ['Python', 'Functions']\n",
    "\n",
    "how = {'sep':', ', 'end':'; '}\n",
    "\n",
    "print(*list1, **how)\n",
    "print(*list2, **how)\n",
    "print(*list3, **how)"
   ]
  },
  {
   "cell_type": "markdown",
   "metadata": {},
   "source": [
    "### 6 юнит"
   ]
  },
  {
   "cell_type": "code",
   "execution_count": null,
   "metadata": {},
   "outputs": [
    {
     "data": {
      "text/plain": [
       "2.0"
      ]
     },
     "execution_count": 42,
     "metadata": {},
     "output_type": "execute_result"
    }
   ],
   "source": [
    "def root(num):\n",
    "    return num**(1/2)\n",
    "\n",
    "root(4)"
   ]
  },
  {
   "cell_type": "code",
   "execution_count": null,
   "metadata": {},
   "outputs": [
    {
     "name": "stdout",
     "output_type": "stream",
     "text": [
      "<class 'function'>\n",
      "2.0\n"
     ]
    }
   ],
   "source": [
    "root = lambda num: num**(1/2)\n",
    "\n",
    "print(type(root))\n",
    "print(root(4))"
   ]
  },
  {
   "cell_type": "code",
   "execution_count": null,
   "metadata": {},
   "outputs": [
    {
     "name": "stdout",
     "output_type": "stream",
     "text": [
      "3.0\n"
     ]
    }
   ],
   "source": [
    "root = lambda num, n: num**(1/n)\n",
    "\n",
    "print(root(27, 3))"
   ]
  },
  {
   "cell_type": "code",
   "execution_count": null,
   "metadata": {},
   "outputs": [
    {
     "data": {
      "text/plain": [
       "'even'"
      ]
     },
     "execution_count": 53,
     "metadata": {},
     "output_type": "execute_result"
    }
   ],
   "source": [
    "is_even = lambda num: 'even' if num%2 == 0 else 'odd'\n",
    "\n",
    "is_even(10)"
   ]
  },
  {
   "cell_type": "code",
   "execution_count": null,
   "metadata": {},
   "outputs": [
    {
     "data": {
      "text/plain": [
       "(1, 4, 6, 7)"
      ]
     },
     "execution_count": 54,
     "metadata": {},
     "output_type": "execute_result"
    }
   ],
   "source": [
    "func_args = lambda *args: args\n",
    "\n",
    "func_args(1, 4, 6, 7)"
   ]
  },
  {
   "cell_type": "code",
   "execution_count": null,
   "metadata": {},
   "outputs": [
    {
     "data": {
      "text/plain": [
       "((1, 5, 6, 7), {'name': 'Ivan', 'age': 25})"
      ]
     },
     "execution_count": 55,
     "metadata": {},
     "output_type": "execute_result"
    }
   ],
   "source": [
    "full_func = lambda *args, **kwargs: (args, kwargs)\n",
    "\n",
    "full_func(1, 5, 6, 7, name='Ivan', age=25)"
   ]
  },
  {
   "cell_type": "code",
   "execution_count": 59,
   "metadata": {},
   "outputs": [
    {
     "data": {
      "text/plain": [
       "['German', 'Ivan', 'Kim', 'Margarita', 'Simon']"
      ]
     },
     "execution_count": 59,
     "metadata": {},
     "output_type": "execute_result"
    }
   ],
   "source": [
    "names = ['Ivan', 'Kim', 'German', 'Margarita', 'Simon']\n",
    "\n",
    "names.sort()\n",
    "names"
   ]
  },
  {
   "cell_type": "code",
   "execution_count": 60,
   "metadata": {},
   "outputs": [
    {
     "data": {
      "text/plain": [
       "['Kim', 'Ivan', 'Simon', 'German', 'Margarita']"
      ]
     },
     "execution_count": 60,
     "metadata": {},
     "output_type": "execute_result"
    }
   ],
   "source": [
    "names.sort(key=lambda name: len(name))\n",
    "names"
   ]
  },
  {
   "cell_type": "code",
   "execution_count": 64,
   "metadata": {},
   "outputs": [
    {
     "data": {
      "text/plain": [
       "['cc', 'bbb', 'aaa', 'ababa', 'aaaaa']"
      ]
     },
     "execution_count": 64,
     "metadata": {},
     "output_type": "execute_result"
    }
   ],
   "source": [
    "# Задание 6.1\n",
    "\n",
    "new_list = ['bbb', 'ababa','aaa', 'aaaaa',  'cc']\n",
    "\n",
    "def get_length(sym):\n",
    "    return len(sym)\n",
    "\n",
    "new_list.sort(key=get_length)\n",
    "new_list"
   ]
  },
  {
   "cell_type": "code",
   "execution_count": 67,
   "metadata": {},
   "outputs": [
    {
     "data": {
      "text/plain": [
       "['cc', 'bbb', 'aaa', 'ababa', 'aaaaa']"
      ]
     },
     "execution_count": 67,
     "metadata": {},
     "output_type": "execute_result"
    }
   ],
   "source": [
    "new_list = ['bbb', 'ababa','aaa', 'aaaaa',  'cc']\n",
    "\n",
    "new_list.sort(key=lambda sym: len(sym))\n",
    "new_list"
   ]
  },
  {
   "cell_type": "code",
   "execution_count": null,
   "metadata": {},
   "outputs": [
    {
     "data": {
      "text/plain": [
       "['cc', 'aaa', 'bbb', 'aaaaa', 'ababa']"
      ]
     },
     "execution_count": 65,
     "metadata": {},
     "output_type": "execute_result"
    }
   ],
   "source": [
    "new_list = ['bbb', 'ababa','aaa', 'aaaaa',  'cc']\n",
    "\n",
    "new_list.sort(key=lambda sym: (len(sym), sym))\n",
    "new_list"
   ]
  },
  {
   "cell_type": "code",
   "execution_count": 79,
   "metadata": {},
   "outputs": [
    {
     "name": "stdout",
     "output_type": "stream",
     "text": [
      "5.0\n",
      "9.055385138137417\n",
      "0.0\n",
      "22.360679774997898\n",
      "26.419689627245813\n",
      "True\n",
      "5.0\n",
      "2.23606797749979\n",
      "14.142135623730951\n"
     ]
    }
   ],
   "source": [
    "# Задание 6.3\n",
    "\n",
    "import types\n",
    "\n",
    "hyp = lambda a, b: (a**2 + b**2) ** (1/2)\n",
    "\n",
    "print(hyp(3, 4))\n",
    "print(hyp(1, 9))\n",
    "print(hyp(0, 0))\n",
    "print(hyp(10, 20))\n",
    "print(hyp(13, 23))\n",
    "print(isinstance(hyp, types.LambdaType))\n",
    "\n",
    "print(hyp(3, 4))\n",
    "print(hyp(1, 2))\n",
    "print(hyp(10, 10))"
   ]
  },
  {
   "cell_type": "code",
   "execution_count": null,
   "metadata": {},
   "outputs": [
    {
     "name": "stdout",
     "output_type": "stream",
     "text": [
      "[(1, 2), (3, 4), (10, 10)]\n"
     ]
    }
   ],
   "source": [
    "# Задание 6.4\n",
    "\n",
    "l_in = [(3,4), (1,2), (10,10)]\n",
    "# l_in = []\n",
    "# l_in = [(1, 10), (2, 9), (5, 12), (3, 4)]\n",
    "# # l_in = [(1, 2), (3, 4)]\n",
    "# # l_in = [(3, 4)]\n",
    "\n",
    "hyp = lambda a, b: (a**2 + b**2) ** (1/2)\n",
    "\n",
    "# Функция для сортировки списка кортежей по их длине гипотенузы\n",
    "def sort_sides(l_in):\n",
    "    result = {}\n",
    "    for a, b in l_in:\n",
    "        result[a, b] = hyp(a, b)\n",
    "    # Сортируем список по возрастанию длины гипотенузы\n",
    "    return sorted(result, key=lambda key: result[key])\n",
    "\n",
    "print(sort_sides(l_in))"
   ]
  },
  {
   "cell_type": "code",
   "execution_count": null,
   "metadata": {},
   "outputs": [
    {
     "name": "stdout",
     "output_type": "stream",
     "text": [
      "[(1, 2), (3, 4), (10, 10)]\n"
     ]
    }
   ],
   "source": [
    "l_in = [(3,4), (1,2), (10,10)]\n",
    "\n",
    "# Функция для сортировки списка кортежей по их длине гипотенузы\n",
    "def sort_sides(l_in):\n",
    "    # Сортируем список по возрастанию длины гипотенузы,\n",
    "    l_in.sort(key=lambda x: (x[0]**2 + x[1]**2) ** (1/2))\n",
    "    return l_in\n",
    "\n",
    "print(sort_sides(l_in))"
   ]
  },
  {
   "cell_type": "markdown",
   "metadata": {},
   "source": [
    "### 7 юнит"
   ]
  },
  {
   "cell_type": "code",
   "execution_count": null,
   "metadata": {},
   "outputs": [
    {
     "name": "stdout",
     "output_type": "stream",
     "text": [
      "1\n"
     ]
    }
   ],
   "source": [
    "# Задание 7.9\n",
    "\n",
    "list_in, num = [1, 5, 8, 10], 8\n",
    "# list_in, num = [1, 5, 8,  10], 0\n",
    "# list_in, num = [1, 2, 4, 5, 8, 10], 6\n",
    "# list_in, num = [1, 2, 4, 5, 8, 10], 0\n",
    "# list_in, num = [25, 26, 24, 1, 0], 25\n",
    "# list_in, num = [], 25\n",
    "\n",
    "def get_less(list_in, num):\n",
    "    for item in list_in:\n",
    "        if item < num:\n",
    "            return item\n",
    "    return None\n",
    "\n",
    "print(get_less(list_in, num))"
   ]
  },
  {
   "cell_type": "code",
   "execution_count": 136,
   "metadata": {},
   "outputs": [
    {
     "name": "stdout",
     "output_type": "stream",
     "text": [
      "(31, 1, 2019)\n"
     ]
    }
   ],
   "source": [
    "# Задание 7.10\n",
    "\n",
    "date = '31012019'\n",
    "# date = '18091999'\n",
    "# date = '07112022'\n",
    "\n",
    "def split_date(date):\n",
    "    day = int(date[:2])\n",
    "    month = int(date[2:4])\n",
    "    year = int(date[4:])\n",
    "    return day, month, year\n",
    "\n",
    "print(split_date(date))"
   ]
  },
  {
   "cell_type": "code",
   "execution_count": 156,
   "metadata": {},
   "outputs": [
    {
     "name": "stdout",
     "output_type": "stream",
     "text": [
      "False\n"
     ]
    }
   ],
   "source": [
    "# Задание 7.11\n",
    "\n",
    "num = 1\n",
    "# num = 10\n",
    "# num = 13\n",
    "# num = 3\n",
    "\n",
    "def is_prime(num):\n",
    "    if num <= 1:            # Если искомое число <= 1, оно не может быть простым\n",
    "        return False\n",
    "    \n",
    "    # Перебираем числа от 2 до искомого_числа-1\n",
    "    for i in range(2, num):\n",
    "        if num%i == 0:      # Если находится делитель отличный от искомого числа,\n",
    "            return False    # значит число не простое\n",
    "    return True\n",
    "\n",
    "print(is_prime(num))"
   ]
  },
  {
   "cell_type": "code",
   "execution_count": 254,
   "metadata": {},
   "outputs": [
    {
     "name": "stdout",
     "output_type": "stream",
     "text": [
      "10.0\n"
     ]
    }
   ],
   "source": [
    "# Задание 7.12\n",
    "\n",
    "value_list = [10]\n",
    "# value_list = [1, 2, 3, 4, 5]\n",
    "# value_list = [12]\n",
    "\n",
    "def between_min_max(*nums):\n",
    "    max_value = min_value = nums[0]\n",
    "    for value in nums:\n",
    "        if max_value < value:\n",
    "            max_value = value\n",
    "        if min_value > value:\n",
    "            min_value = value\n",
    "    return (max_value + min_value)/2\n",
    "\n",
    "print(between_min_max(*value_list))"
   ]
  },
  {
   "cell_type": "code",
   "execution_count": 163,
   "metadata": {},
   "outputs": [
    {
     "name": "stdout",
     "output_type": "stream",
     "text": [
      "10.0\n",
      "3.0\n"
     ]
    }
   ],
   "source": [
    "def between_min_max(*nums):\n",
    "    max_value = max(nums)\n",
    "    min_value = min(nums)\n",
    "    return (max_value + min_value)/2\n",
    "\n",
    "print(between_min_max(10))\n",
    "print(between_min_max(1, 2, 3, 4, 5))"
   ]
  },
  {
   "cell_type": "code",
   "execution_count": 170,
   "metadata": {},
   "outputs": [
    {
     "name": "stdout",
     "output_type": "stream",
     "text": [
      "Mike\n",
      "Tom\n",
      "Jerry\n",
      "Mike\n"
     ]
    }
   ],
   "source": [
    "# Задание 7.13\n",
    "\n",
    "# Функция, которая принимает аргументы и формирует словарь stud_dict,\n",
    "# сортирует ключи словаря по значениям и возвращает ключ с минимальным значением\n",
    "best_student = lambda **stud_dict: sorted(stud_dict, key=lambda key: stud_dict[key])[0]\n",
    "\n",
    "print(best_student(Tom=12, Mike=3))\n",
    "print(best_student(Tom=12))\n",
    "print(best_student(Tom=12, Jerry=1, Jane=2))\n",
    "print(best_student(Mike=100))\n"
   ]
  },
  {
   "cell_type": "code",
   "execution_count": 192,
   "metadata": {},
   "outputs": [
    {
     "name": "stdout",
     "output_type": "stream",
     "text": [
      "no\n",
      "True\n"
     ]
    }
   ],
   "source": [
    "# Задание 7.14\n",
    "\n",
    "import types\n",
    "\n",
    "x = '1234'\n",
    "# x = '12321'\n",
    "# x = '121'\n",
    "# x = 'abba'\n",
    "# x = 'Привет'\n",
    "\n",
    "is_palindrom = lambda x: 'yes' if x == x[::-1] else 'no'\n",
    "\n",
    "print(is_palindrom(x))\n",
    "print(isinstance(is_palindrom, types.LambdaType))"
   ]
  },
  {
   "cell_type": "code",
   "execution_count": 195,
   "metadata": {},
   "outputs": [
    {
     "name": "stdout",
     "output_type": "stream",
     "text": [
      "10\n",
      "True\n"
     ]
    }
   ],
   "source": [
    "# Задание 7.15\n",
    "\n",
    "a, b = 2, 5\n",
    "# a, b = 1, 5\n",
    "# a, b = 3, 5\n",
    "\n",
    "area = lambda a, b: a*b\n",
    "\n",
    "print(area(a, b))\n",
    "print(isinstance(area, types.LambdaType))"
   ]
  },
  {
   "cell_type": "code",
   "execution_count": 201,
   "metadata": {},
   "outputs": [
    {
     "name": "stdout",
     "output_type": "stream",
     "text": [
      "3.0\n"
     ]
    }
   ],
   "source": [
    "# Задание 7.16\n",
    "\n",
    "value_list = [1, 2, 3, 4, 5]\n",
    "# value_list = [8, 2, 4, 12, 42]\n",
    "# value_list = [15, -1, -9, 90]\n",
    "\n",
    "between_min_max = lambda *nums: (max(nums) + min(nums))/2\n",
    "\n",
    "print(between_min_max(*value_list))"
   ]
  },
  {
   "cell_type": "code",
   "execution_count": null,
   "metadata": {},
   "outputs": [
    {
     "name": "stdout",
     "output_type": "stream",
     "text": [
      "['aslac', 'labac']\n"
     ]
    }
   ],
   "source": [
    "# Задание 7.17\n",
    "\n",
    "ls = ['Acc', 'abc']\n",
    "ls = ['labac', 'aslac']\n",
    "\n",
    "def sort_ignore_case(ls):\n",
    "    # Отсортированный в алфавитном порядке без учета регистра букв\n",
    "    return sorted(ls, key=lambda x: x.lower())\n",
    "\n",
    "print(sort_ignore_case(ls))"
   ]
  },
  {
   "cell_type": "code",
   "execution_count": 253,
   "metadata": {},
   "outputs": [
    {
     "name": "stdout",
     "output_type": "stream",
     "text": [
      "2.0\n",
      "11.764705882352942\n",
      "850\n"
     ]
    }
   ],
   "source": [
    "# Задание 7.18\n",
    "\n",
    "def exchange(usd=None, rub=None, rate=None):\n",
    "    data = (usd, rub, rate)\n",
    "\n",
    "    # Проверка на количество аргументов\n",
    "    if all(i is not None for i in data):\n",
    "        raise ValueError('Too many arguments')\n",
    "    elif sum(i is not None for i in data) == 1:\n",
    "        raise ValueError('Not enough arguments')\n",
    "    \n",
    "    # Логика вычислений\n",
    "    if usd is not None and rub is not None: \n",
    "        return rub/usd\n",
    "    if usd is not None and rate is not None:\n",
    "        return usd*rate\n",
    "    if rub is not None and rate is not None:\n",
    "        return rub/rate\n",
    "\n",
    "# print(exchange(usd=12, rub=24, rate=10))  # Too many arguments\n",
    "# print(exchange(usd=12))                   # Not enough arguments\n",
    "print(exchange(usd=12, rub=24))\n",
    "print(exchange(rub=1000, rate=85))\n",
    "print(exchange(usd=10, rate=85))"
   ]
  }
 ],
 "metadata": {
  "kernelspec": {
   "display_name": "base",
   "language": "python",
   "name": "python3"
  },
  "language_info": {
   "codemirror_mode": {
    "name": "ipython",
    "version": 3
   },
   "file_extension": ".py",
   "mimetype": "text/x-python",
   "name": "python",
   "nbconvert_exporter": "python",
   "pygments_lexer": "ipython3",
   "version": "3.12.4"
  }
 },
 "nbformat": 4,
 "nbformat_minor": 2
}
