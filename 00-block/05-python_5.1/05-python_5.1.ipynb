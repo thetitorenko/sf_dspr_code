{
 "cells": [
  {
   "cell_type": "markdown",
   "metadata": {},
   "source": [
    "### 0 юнит"
   ]
  },
  {
   "cell_type": "code",
   "execution_count": 4,
   "metadata": {},
   "outputs": [
    {
     "ename": "TypeError",
     "evalue": "'tuple' object does not support item assignment",
     "output_type": "error",
     "traceback": [
      "\u001b[1;31m---------------------------------------------------------------------------\u001b[0m",
      "\u001b[1;31mTypeError\u001b[0m                                 Traceback (most recent call last)",
      "Cell \u001b[1;32mIn[4], line 4\u001b[0m\n\u001b[0;32m      1\u001b[0m \u001b[38;5;66;03m# Задание 0.3\u001b[39;00m\n\u001b[0;32m      3\u001b[0m tup \u001b[38;5;241m=\u001b[39m (\u001b[38;5;241m13\u001b[39m, \u001b[38;5;241m45\u001b[39m, \u001b[38;5;241m79\u001b[39m)\n\u001b[1;32m----> 4\u001b[0m tup[\u001b[38;5;241m2\u001b[39m] \u001b[38;5;241m=\u001b[39m \u001b[38;5;241m10\u001b[39m\n",
      "\u001b[1;31mTypeError\u001b[0m: 'tuple' object does not support item assignment"
     ]
    }
   ],
   "source": [
    "# Задание 0.3\n",
    "\n",
    "tup = (13, 45, 79)\n",
    "tup[2] = 10"
   ]
  },
  {
   "cell_type": "markdown",
   "metadata": {},
   "source": [
    "### 1 юнит"
   ]
  },
  {
   "cell_type": "code",
   "execution_count": null,
   "metadata": {},
   "outputs": [
    {
     "name": "stdout",
     "output_type": "stream",
     "text": [
      "Hello world!\n",
      "Hello world!\n"
     ]
    }
   ],
   "source": [
    "def first_function():\n",
    "    print(\"Hello world!\")\n",
    "    \n",
    "first_function()\n",
    "first_function()"
   ]
  },
  {
   "cell_type": "code",
   "execution_count": 8,
   "metadata": {},
   "outputs": [
    {
     "name": "stdout",
     "output_type": "stream",
     "text": [
      "Hours: 1\n",
      "Minutes: 30\n"
     ]
    }
   ],
   "source": [
    "def print_hours(minutes):\n",
    "    hours = minutes // 60\n",
    "    left_minutes = minutes % 60\n",
    "    print('Hours:', hours)\n",
    "    print('Minutes:', left_minutes)\n",
    "\n",
    "print_hours(90)"
   ]
  },
  {
   "cell_type": "code",
   "execution_count": 11,
   "metadata": {},
   "outputs": [
    {
     "name": "stdout",
     "output_type": "stream",
     "text": [
      "Trave time will be 2.0 hours\n"
     ]
    }
   ],
   "source": [
    "def get_time(distance, speed):\n",
    "    result = distance / speed\n",
    "    return result\n",
    "\n",
    "time = get_time(120, 60)\n",
    "\n",
    "print(f'Trave time will be {time} hours')"
   ]
  },
  {
   "cell_type": "code",
   "execution_count": 13,
   "metadata": {},
   "outputs": [
    {
     "name": "stdout",
     "output_type": "stream",
     "text": [
      "Hours to travel: 1\n",
      "Minutes to travel: 12\n"
     ]
    }
   ],
   "source": [
    "def get_time_tuple(distance, speed):\n",
    "    # расстояние в км, скорость в км/ч\n",
    "    hours = distance // speed           # целое число часов в пути\n",
    "    distance_left = distance % speed    # остаток км в пути\n",
    "    kms_per_minute = speed / 60         # перевод скорости из км/ч в км/м\n",
    "    minutes = round(distance_left / kms_per_minute)\n",
    "    return hours, minutes\n",
    "\n",
    "result = get_time_tuple(120, 100)\n",
    "print(f'Hours to travel: {result[0]}')\n",
    "print(f'Minutes to travel: {result[1]}')"
   ]
  },
  {
   "cell_type": "code",
   "execution_count": 14,
   "metadata": {},
   "outputs": [
    {
     "name": "stdout",
     "output_type": "stream",
     "text": [
      "Hours to travel: 1\n",
      "Minutes to travel: 12\n"
     ]
    }
   ],
   "source": [
    "hours, minutes = get_time_tuple(120, 100)\n",
    "print(f'Hours to travel: {hours}')\n",
    "print(f'Minutes to travel: {minutes}')"
   ]
  },
  {
   "cell_type": "code",
   "execution_count": 16,
   "metadata": {},
   "outputs": [
    {
     "name": "stdout",
     "output_type": "stream",
     "text": [
      "2.0\n",
      "None\n"
     ]
    }
   ],
   "source": [
    "def get_time(distance, speed):\n",
    "    result = distance / speed\n",
    "    print(result)\n",
    "\n",
    "time = get_time(120, 60)\n",
    "print(time)"
   ]
  },
  {
   "cell_type": "code",
   "execution_count": 24,
   "metadata": {},
   "outputs": [
    {
     "name": "stdout",
     "output_type": "stream",
     "text": [
      "Element is NOT found\n",
      "False\n"
     ]
    }
   ],
   "source": [
    "def list_in(list_in, obj):\n",
    "    for elem in list_in:\n",
    "        if elem == obj:\n",
    "            print('Element is found')\n",
    "            return True\n",
    "            print('This won\\'t be printed')\n",
    "    print('Element is NOT found')\n",
    "    return False\n",
    "    print('This won\\'t be printed')\n",
    "\n",
    "result = list_in([1, 2, 5, 7, 10], 3)\n",
    "print(result)"
   ]
  },
  {
   "cell_type": "code",
   "execution_count": 25,
   "metadata": {},
   "outputs": [
    {
     "name": "stdout",
     "output_type": "stream",
     "text": [
      "Element is found\n",
      "True\n"
     ]
    }
   ],
   "source": [
    "result = list_in([1, 2, 5, 7, 10], 7)\n",
    "print(result)"
   ]
  },
  {
   "cell_type": "code",
   "execution_count": null,
   "metadata": {},
   "outputs": [
    {
     "name": "stdout",
     "output_type": "stream",
     "text": [
      "100\n"
     ]
    }
   ],
   "source": [
    "# Задание 2.3\n",
    "\n",
    "units, price = 10, 36\n",
    "# units, price = 1, 100\n",
    "\n",
    "\n",
    "def get_total(units, price):\n",
    "    return units*price\n",
    "\n",
    "print(get_total(units, price))"
   ]
  }
 ],
 "metadata": {
  "kernelspec": {
   "display_name": "base",
   "language": "python",
   "name": "python3"
  },
  "language_info": {
   "codemirror_mode": {
    "name": "ipython",
    "version": 3
   },
   "file_extension": ".py",
   "mimetype": "text/x-python",
   "name": "python",
   "nbconvert_exporter": "python",
   "pygments_lexer": "ipython3",
   "version": "3.12.4"
  }
 },
 "nbformat": 4,
 "nbformat_minor": 2
}
