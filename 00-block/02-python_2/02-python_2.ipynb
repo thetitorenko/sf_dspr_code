{
 "cells": [
  {
   "cell_type": "markdown",
   "metadata": {},
   "source": [
    "### 2 юнит"
   ]
  },
  {
   "cell_type": "code",
   "execution_count": 100,
   "metadata": {},
   "outputs": [
    {
     "name": "stdout",
     "output_type": "stream",
     "text": [
      "[]\n"
     ]
    }
   ],
   "source": [
    "# Задание 2.4\n",
    "\n",
    "empty_list = list()\n",
    "print(empty_list)"
   ]
  },
  {
   "cell_type": "code",
   "execution_count": 101,
   "metadata": {},
   "outputs": [
    {
     "name": "stdout",
     "output_type": "stream",
     "text": [
      "[]\n"
     ]
    }
   ],
   "source": [
    "# Задание 2.5\n",
    "\n",
    "another_empty_list = []\n",
    "print(another_empty_list)"
   ]
  },
  {
   "cell_type": "code",
   "execution_count": 102,
   "metadata": {},
   "outputs": [
    {
     "data": {
      "text/plain": [
       "[1, 2, 3, 4, 5, 6, 7, 8, 9]"
      ]
     },
     "execution_count": 102,
     "metadata": {},
     "output_type": "execute_result"
    }
   ],
   "source": [
    "a = range(1, 10)\n",
    "list(a)"
   ]
  },
  {
   "cell_type": "code",
   "execution_count": 103,
   "metadata": {},
   "outputs": [
    {
     "data": {
      "text/plain": [
       "[0, 1, 2, 3, 4, 5, 6, 7, 8, 9]"
      ]
     },
     "execution_count": 103,
     "metadata": {},
     "output_type": "execute_result"
    }
   ],
   "source": [
    "a = range(10)\n",
    "list(a)"
   ]
  },
  {
   "cell_type": "code",
   "execution_count": 104,
   "metadata": {},
   "outputs": [
    {
     "data": {
      "text/plain": [
       "[10, 9, 8, 7, 6, 5, 4, 3, 2]"
      ]
     },
     "execution_count": 104,
     "metadata": {},
     "output_type": "execute_result"
    }
   ],
   "source": [
    "a = range(10, 1, -1)\n",
    "list(a)"
   ]
  },
  {
   "cell_type": "code",
   "execution_count": 105,
   "metadata": {},
   "outputs": [
    {
     "data": {
      "text/plain": [
       "[-10,\n",
       " -9,\n",
       " -8,\n",
       " -7,\n",
       " -6,\n",
       " -5,\n",
       " -4,\n",
       " -3,\n",
       " -2,\n",
       " -1,\n",
       " 0,\n",
       " 1,\n",
       " 2,\n",
       " 3,\n",
       " 4,\n",
       " 5,\n",
       " 6,\n",
       " 7,\n",
       " 8,\n",
       " 9,\n",
       " 10,\n",
       " 11,\n",
       " 12,\n",
       " 13,\n",
       " 14,\n",
       " 15,\n",
       " 16,\n",
       " 17,\n",
       " 18,\n",
       " 19,\n",
       " 20,\n",
       " 21,\n",
       " 22,\n",
       " 23,\n",
       " 24,\n",
       " 25,\n",
       " 26,\n",
       " 27,\n",
       " 28,\n",
       " 29,\n",
       " 30,\n",
       " 31,\n",
       " 32,\n",
       " 33,\n",
       " 34,\n",
       " 35,\n",
       " 36,\n",
       " 37,\n",
       " 38,\n",
       " 39,\n",
       " 40,\n",
       " 41,\n",
       " 42,\n",
       " 43,\n",
       " 44,\n",
       " 45,\n",
       " 46,\n",
       " 47,\n",
       " 48,\n",
       " 49,\n",
       " 50,\n",
       " 51,\n",
       " 52,\n",
       " 53,\n",
       " 54,\n",
       " 55,\n",
       " 56,\n",
       " 57,\n",
       " 58,\n",
       " 59,\n",
       " 60,\n",
       " 61,\n",
       " 62,\n",
       " 63,\n",
       " 64,\n",
       " 65,\n",
       " 66,\n",
       " 67,\n",
       " 68,\n",
       " 69,\n",
       " 70,\n",
       " 71,\n",
       " 72,\n",
       " 73,\n",
       " 74,\n",
       " 75,\n",
       " 76,\n",
       " 77,\n",
       " 78,\n",
       " 79,\n",
       " 80,\n",
       " 81,\n",
       " 82,\n",
       " 83,\n",
       " 84,\n",
       " 85,\n",
       " 86,\n",
       " 87,\n",
       " 88,\n",
       " 89,\n",
       " 90,\n",
       " 91,\n",
       " 92,\n",
       " 93,\n",
       " 94,\n",
       " 95,\n",
       " 96,\n",
       " 97,\n",
       " 98,\n",
       " 99]"
      ]
     },
     "execution_count": 105,
     "metadata": {},
     "output_type": "execute_result"
    }
   ],
   "source": [
    "# Задание 2.6\n",
    "\n",
    "a = list(range(-10, 100))\n",
    "a"
   ]
  },
  {
   "cell_type": "code",
   "execution_count": 106,
   "metadata": {},
   "outputs": [
    {
     "data": {
      "text/plain": [
       "[50, 48, 46, 44, 42, 40, 38, 36, 34, 32, 30, 28, 26, 24, 22]"
      ]
     },
     "execution_count": 106,
     "metadata": {},
     "output_type": "execute_result"
    }
   ],
   "source": [
    "# Задание 2.7\n",
    "\n",
    "b = list(range(50, 20, -2))\n",
    "b"
   ]
  },
  {
   "cell_type": "code",
   "execution_count": 107,
   "metadata": {},
   "outputs": [
    {
     "name": "stdout",
     "output_type": "stream",
     "text": [
      "a\n",
      "c\n",
      "c\n"
     ]
    }
   ],
   "source": [
    "a = ['a', 'b', 'c']\n",
    "\n",
    "print(a[0])\n",
    "print(a[2])\n",
    "print(a[-1])"
   ]
  },
  {
   "cell_type": "code",
   "execution_count": 108,
   "metadata": {},
   "outputs": [
    {
     "name": "stdout",
     "output_type": "stream",
     "text": [
      "['a', 'b']\n",
      "['c', 'd']\n",
      "['a', 'c']\n",
      "['e', 'd', 'c', 'b', 'a']\n"
     ]
    }
   ],
   "source": [
    "a = [\"a\", \"b\", \"c\", \"d\", \"e\"]\n",
    "\n",
    "print(a[:2])\n",
    "print(a[2:4])\n",
    "print(a[0:4:2])\n",
    "print(a[::-1])"
   ]
  },
  {
   "cell_type": "code",
   "execution_count": 109,
   "metadata": {},
   "outputs": [
    {
     "name": "stdout",
     "output_type": "stream",
     "text": [
      "[1, 2]\n"
     ]
    }
   ],
   "source": [
    "# Задание 2.8\n",
    "\n",
    "a = list(range(1, 11))\n",
    "a_slice = a[:2]\n",
    "print(a_slice)"
   ]
  },
  {
   "cell_type": "code",
   "execution_count": 110,
   "metadata": {},
   "outputs": [
    {
     "data": {
      "text/plain": [
       "[-1, 0, 1, 2, 3]"
      ]
     },
     "execution_count": 110,
     "metadata": {},
     "output_type": "execute_result"
    }
   ],
   "source": [
    "# Задание 2.9\n",
    "\n",
    "a = list(range(-5, 6))\n",
    "a[4:9]"
   ]
  },
  {
   "cell_type": "code",
   "execution_count": 111,
   "metadata": {},
   "outputs": [
    {
     "data": {
      "text/plain": [
       "[6, 5, 4, 3, 2, 1, 0, -1, -2, -3]"
      ]
     },
     "execution_count": 111,
     "metadata": {},
     "output_type": "execute_result"
    }
   ],
   "source": [
    "# Задание 2.10\n",
    "\n",
    "a = list(range(-3, 7))[::-1]\n",
    "a"
   ]
  },
  {
   "cell_type": "code",
   "execution_count": 112,
   "metadata": {},
   "outputs": [
    {
     "name": "stdout",
     "output_type": "stream",
     "text": [
      "['hello', 'kitty']\n"
     ]
    }
   ],
   "source": [
    "# Задание 2.11\n",
    "\n",
    "my_str = 'hello kitty'\n",
    "my_list = my_str.split()\n",
    "print(my_list[-2:])"
   ]
  },
  {
   "cell_type": "code",
   "execution_count": 113,
   "metadata": {},
   "outputs": [
    {
     "name": "stdout",
     "output_type": "stream",
     "text": [
      "[]\n",
      "['order1']\n"
     ]
    }
   ],
   "source": [
    "orders_daily = []\n",
    "print(orders_daily)\n",
    "\n",
    "orders_daily.append('order1')\n",
    "print(orders_daily)"
   ]
  },
  {
   "cell_type": "code",
   "execution_count": 114,
   "metadata": {},
   "outputs": [
    {
     "name": "stdout",
     "output_type": "stream",
     "text": [
      "['order1', 'order2', 'order3']\n"
     ]
    }
   ],
   "source": [
    "# Задание 2.12\n",
    "\n",
    "a = 'order1'\n",
    "b = 'order2'\n",
    "c = 'order3'\n",
    "orders = []\n",
    "\n",
    "orders.append(a)\n",
    "orders.append(b)\n",
    "orders.append(c)\n",
    "\n",
    "print(orders)"
   ]
  },
  {
   "cell_type": "code",
   "execution_count": 115,
   "metadata": {},
   "outputs": [
    {
     "name": "stdout",
     "output_type": "stream",
     "text": [
      "['all_books', 'my book', 'your book']\n"
     ]
    }
   ],
   "source": [
    "# Задание 2.13\n",
    "\n",
    "book1 = 'my book'\n",
    "book2 = 'your book'\n",
    "books = ['all_books']\n",
    "\n",
    "books.append(book1)\n",
    "books.append(book2)\n",
    "\n",
    "print(books)"
   ]
  },
  {
   "cell_type": "code",
   "execution_count": 116,
   "metadata": {},
   "outputs": [
    {
     "name": "stdout",
     "output_type": "stream",
     "text": [
      "['order1', 'order2', 'order3', 'order4']\n"
     ]
    },
    {
     "data": {
      "text/plain": [
       "[]"
      ]
     },
     "execution_count": 116,
     "metadata": {},
     "output_type": "execute_result"
    }
   ],
   "source": [
    "a = [\"order1\", \"order2\", \"order3\", \"order4\"]\n",
    "print(a)\n",
    "a.clear()\n",
    "a"
   ]
  },
  {
   "cell_type": "code",
   "execution_count": 117,
   "metadata": {},
   "outputs": [
    {
     "name": "stdout",
     "output_type": "stream",
     "text": [
      "['a', 'b', 'c', 'd', 'e']\n",
      "[]\n"
     ]
    }
   ],
   "source": [
    "# Задание 2.14\n",
    "\n",
    "letters = ['a', 'b', 'c', 'd', 'e']\n",
    "print(letters)\n",
    "\n",
    "letters.clear()\n",
    "print(letters)"
   ]
  },
  {
   "cell_type": "code",
   "execution_count": 118,
   "metadata": {},
   "outputs": [
    {
     "data": {
      "text/plain": [
       "4"
      ]
     },
     "execution_count": 118,
     "metadata": {},
     "output_type": "execute_result"
    }
   ],
   "source": [
    "a = [\"a\", \"b\", \"c\", \"d\", \"b\", \"b\", \"g\", \"b\", \"r\"]\n",
    "a.count(\"b\")"
   ]
  },
  {
   "cell_type": "code",
   "execution_count": 119,
   "metadata": {},
   "outputs": [
    {
     "data": {
      "text/plain": [
       "3"
      ]
     },
     "execution_count": 119,
     "metadata": {},
     "output_type": "execute_result"
    }
   ],
   "source": [
    "# Задание 2.15\n",
    "\n",
    "numbers = [5, 5, 5, 1, 1, 7, 9, 3, 8, 2]\n",
    "numbers.count(5)\n"
   ]
  },
  {
   "cell_type": "code",
   "execution_count": 120,
   "metadata": {},
   "outputs": [
    {
     "data": {
      "text/plain": [
       "[1, 2, 3]"
      ]
     },
     "execution_count": 120,
     "metadata": {},
     "output_type": "execute_result"
    }
   ],
   "source": [
    "a = [1, 2, 3]\n",
    "b = a.copy()\n",
    "b"
   ]
  },
  {
   "cell_type": "code",
   "execution_count": 121,
   "metadata": {},
   "outputs": [
    {
     "data": {
      "text/plain": [
       "[1, 2, 3]"
      ]
     },
     "execution_count": 121,
     "metadata": {},
     "output_type": "execute_result"
    }
   ],
   "source": [
    "a = [1, 2, 3]\n",
    "b = a[:]\n",
    "b"
   ]
  },
  {
   "cell_type": "code",
   "execution_count": 122,
   "metadata": {},
   "outputs": [
    {
     "name": "stdout",
     "output_type": "stream",
     "text": [
      "['book1', 'book2', 'book3', 'book4', 'book5'] ['book1', 'book2', 'book3', 'book4', 'book5']\n"
     ]
    }
   ],
   "source": [
    "# Задание 2.16\n",
    "\n",
    "my_books = ['book1', 'book2', 'book3', 'book4', 'book5']\n",
    "tom_books = my_books.copy()\n",
    "\n",
    "print(my_books, tom_books)"
   ]
  },
  {
   "cell_type": "code",
   "execution_count": 123,
   "metadata": {},
   "outputs": [
    {
     "name": "stdout",
     "output_type": "stream",
     "text": [
      "['order1', 'order2', 'order3', 'order4', 'order5'] ['order1', 'order2', 'order3', 'order4', 'order5']\n"
     ]
    }
   ],
   "source": [
    "# Задание 2.17\n",
    "\n",
    "my_orders = ['order1', 'order2', 'order3', 'order4', 'order5']\n",
    "anne_orders = my_orders[:]\n",
    "\n",
    "print(my_orders, anne_orders)"
   ]
  },
  {
   "cell_type": "code",
   "execution_count": 124,
   "metadata": {},
   "outputs": [
    {
     "data": {
      "text/plain": [
       "['a', 'b', 'c', 'd', 'e']"
      ]
     },
     "execution_count": 124,
     "metadata": {},
     "output_type": "execute_result"
    }
   ],
   "source": [
    "a = ['a', 'b', 'c']\n",
    "b = ['d', 'e']\n",
    "\n",
    "a.extend(b)\n",
    "a"
   ]
  },
  {
   "cell_type": "code",
   "execution_count": 125,
   "metadata": {},
   "outputs": [
    {
     "data": {
      "text/plain": [
       "['order1', 'order2', 'order3', 'book1', 'book2']"
      ]
     },
     "execution_count": 125,
     "metadata": {},
     "output_type": "execute_result"
    }
   ],
   "source": [
    "# Задание 2.18\n",
    "\n",
    "all_things = ['order1', 'order2', 'order3']\n",
    "only_books = ['book1', 'book2']\n",
    "all_things.extend(only_books)\n",
    "all_things"
   ]
  },
  {
   "cell_type": "code",
   "execution_count": 126,
   "metadata": {},
   "outputs": [
    {
     "data": {
      "text/plain": [
       "[5, 4, 3, 2, 1]"
      ]
     },
     "execution_count": 126,
     "metadata": {},
     "output_type": "execute_result"
    }
   ],
   "source": [
    "a = [1, 2, 3, 4, 5]\n",
    "a.reverse()\n",
    "a"
   ]
  },
  {
   "cell_type": "code",
   "execution_count": 127,
   "metadata": {},
   "outputs": [
    {
     "data": {
      "text/plain": [
       "[5, 4, 3, 2, 1]"
      ]
     },
     "execution_count": 127,
     "metadata": {},
     "output_type": "execute_result"
    }
   ],
   "source": [
    "a = [1, 2, 3, 4, 5]\n",
    "b = a[::-1]\n",
    "b"
   ]
  },
  {
   "cell_type": "code",
   "execution_count": 128,
   "metadata": {},
   "outputs": [
    {
     "data": {
      "text/plain": [
       "[10, 9, 8, 7, 6, 5, 4, 3, 2, 1]"
      ]
     },
     "execution_count": 128,
     "metadata": {},
     "output_type": "execute_result"
    }
   ],
   "source": [
    "# Задание 2.19\n",
    "\n",
    "nums = list(range(1, 11))\n",
    "nums.reverse()\n",
    "nums"
   ]
  },
  {
   "cell_type": "code",
   "execution_count": 129,
   "metadata": {},
   "outputs": [
    {
     "data": {
      "text/plain": [
       "[0, 1, 2, 3, 4, 5, 10]"
      ]
     },
     "execution_count": 129,
     "metadata": {},
     "output_type": "execute_result"
    }
   ],
   "source": [
    "a = [3, 4 ,1 ,5 ,10 ,0, 2]\n",
    "a.sort()\n",
    "a"
   ]
  },
  {
   "cell_type": "code",
   "execution_count": 130,
   "metadata": {},
   "outputs": [
    {
     "data": {
      "text/plain": [
       "[-5, -1, 0, 2, 3, 5, 10, 15]"
      ]
     },
     "execution_count": 130,
     "metadata": {},
     "output_type": "execute_result"
    }
   ],
   "source": [
    "# Задание 2.20\n",
    "\n",
    "random_values = [3, 5, 0, -1, 2, 10, 15, -5]\n",
    "random_values.sort()\n",
    "random_values"
   ]
  },
  {
   "cell_type": "code",
   "execution_count": 131,
   "metadata": {},
   "outputs": [
    {
     "data": {
      "text/plain": [
       "[5, 0.2, 'hello there', [1, 2, 3, 4], 'bye']"
      ]
     },
     "execution_count": 131,
     "metadata": {},
     "output_type": "execute_result"
    }
   ],
   "source": [
    "# Задание 2.21\n",
    "\n",
    "list1 = []\n",
    "list1.append(5)\n",
    "list1.append(0.2)\n",
    "list1.append('hello there')\n",
    "list1.append([1, 2, 3, 4])\n",
    "list1.append('bye')\n",
    "list1"
   ]
  },
  {
   "cell_type": "code",
   "execution_count": 132,
   "metadata": {},
   "outputs": [
    {
     "data": {
      "text/plain": [
       "()"
      ]
     },
     "execution_count": 132,
     "metadata": {},
     "output_type": "execute_result"
    }
   ],
   "source": [
    "# Задание 2.24\n",
    "\n",
    "tpl = tuple()\n",
    "tpl"
   ]
  },
  {
   "cell_type": "code",
   "execution_count": 133,
   "metadata": {},
   "outputs": [
    {
     "data": {
      "text/plain": [
       "(255,)"
      ]
     },
     "execution_count": 133,
     "metadata": {},
     "output_type": "execute_result"
    }
   ],
   "source": [
    "# Задание 2.25\n",
    "\n",
    "tpl2 = (255, )\n",
    "tpl2"
   ]
  },
  {
   "cell_type": "code",
   "execution_count": 134,
   "metadata": {},
   "outputs": [
    {
     "data": {
      "text/plain": [
       "(15, 22, 0)"
      ]
     },
     "execution_count": 134,
     "metadata": {},
     "output_type": "execute_result"
    }
   ],
   "source": [
    "# Задание 2.26\n",
    "\n",
    "tpl3 = (15, 22, 0)\n",
    "tpl3"
   ]
  },
  {
   "cell_type": "markdown",
   "metadata": {},
   "source": [
    "### 3 юнит"
   ]
  },
  {
   "cell_type": "code",
   "execution_count": 135,
   "metadata": {},
   "outputs": [
    {
     "data": {
      "text/plain": [
       "'Ekaterina Dmitrieva'"
      ]
     },
     "execution_count": 135,
     "metadata": {},
     "output_type": "execute_result"
    }
   ],
   "source": [
    "phones = {\n",
    "    '+79033923029': 'Ivan Ivanov',\n",
    "    '+78125849204': 'Kirill Smirnov',\n",
    "    '+79053049385': 'Mark Parkhomenko',\n",
    "    '+79265748370': 'Ekaterina Dmitrieva',\n",
    "    '+79030598495': 'Ruslan Belyi'}\n",
    "\n",
    "phones['+79265748370']"
   ]
  },
  {
   "cell_type": "code",
   "execution_count": 136,
   "metadata": {},
   "outputs": [
    {
     "data": {
      "text/plain": [
       "5"
      ]
     },
     "execution_count": 136,
     "metadata": {},
     "output_type": "execute_result"
    }
   ],
   "source": [
    "d = {'a': 1, 'b': 3, 'a':5}\n",
    "d['a']"
   ]
  },
  {
   "cell_type": "code",
   "execution_count": 137,
   "metadata": {},
   "outputs": [
    {
     "name": "stdout",
     "output_type": "stream",
     "text": [
      "{}\n"
     ]
    }
   ],
   "source": [
    "# Задание 3.4\n",
    "\n",
    "empty_dict = dict()\n",
    "print(empty_dict)"
   ]
  },
  {
   "cell_type": "code",
   "execution_count": 138,
   "metadata": {},
   "outputs": [
    {
     "name": "stdout",
     "output_type": "stream",
     "text": [
      "{} {}\n"
     ]
    }
   ],
   "source": [
    "# Задание 3.5\n",
    "\n",
    "empty_dict1 = dict()\n",
    "empty_dict2 = {}\n",
    "\n",
    "print(empty_dict1, empty_dict2)"
   ]
  },
  {
   "cell_type": "code",
   "execution_count": 139,
   "metadata": {},
   "outputs": [
    {
     "data": {
      "text/plain": [
       "4"
      ]
     },
     "execution_count": 139,
     "metadata": {},
     "output_type": "execute_result"
    }
   ],
   "source": [
    "# Задание 3.6\n",
    "\n",
    "alphbet_dict = {\n",
    "    'a': 1,\n",
    "    'b': 2,\n",
    "    'c': 3,\n",
    "    'd': 4,\n",
    "    'e': 5\n",
    "}\n",
    "\n",
    "alphbet_dict['d']"
   ]
  },
  {
   "cell_type": "code",
   "execution_count": 140,
   "metadata": {},
   "outputs": [
    {
     "data": {
      "text/plain": [
       "50"
      ]
     },
     "execution_count": 140,
     "metadata": {},
     "output_type": "execute_result"
    }
   ],
   "source": [
    "# Задание 3.7\n",
    "\n",
    "place_and_money = {\n",
    "    1: 100,\n",
    "    2: 50,\n",
    "    3: 10\n",
    "}\n",
    "\n",
    "place_and_money[2]"
   ]
  },
  {
   "cell_type": "code",
   "execution_count": 141,
   "metadata": {},
   "outputs": [
    {
     "name": "stdout",
     "output_type": "stream",
     "text": [
      "{'+79033923029': 'Ivan Ivanov', '+78125849204': 'Kirill Smirnov', '+79053049385': 'Mark Parkhomenko', '+79265748370': 'Ekaterina Dmitrieva', '+79030598495': 'Ruslan Belyi'}\n",
      "{'+79033923029': 'Ivan Ivanov', '+78125849204': 'Kirill Smirnov', '+79053049385': 'Mark Parkhomenko', '+79265748370': 'Ekaterina Dmitrieva', '+79030598495': 'Ruslan Belyi', '+79686581788': 'Artem Pliev'}\n"
     ]
    }
   ],
   "source": [
    "print(phones)\n",
    "\n",
    "phones[\"+79686581788\"]  = 'Artem Pliev'\n",
    "print(phones)"
   ]
  },
  {
   "cell_type": "code",
   "execution_count": 142,
   "metadata": {},
   "outputs": [
    {
     "name": "stdout",
     "output_type": "stream",
     "text": [
      "{1: 100, 2: 50, 3: 10, 4: 5}\n"
     ]
    }
   ],
   "source": [
    "# Задание 3.8\n",
    "\n",
    "place_and_money = {\n",
    "    1: 100,\n",
    "    2: 50,\n",
    "    3: 10\n",
    "}\n",
    "\n",
    "place_and_money[4] = 5\n",
    "print(place_and_money)"
   ]
  },
  {
   "cell_type": "code",
   "execution_count": 143,
   "metadata": {},
   "outputs": [
    {
     "name": "stdout",
     "output_type": "stream",
     "text": [
      "{1: 100, 2: 50, 3: 25}\n"
     ]
    }
   ],
   "source": [
    "# Задание 3.9\n",
    "\n",
    "place_and_money = {\n",
    "    1: 100,\n",
    "    2: 50,\n",
    "    3: 10\n",
    "}\n",
    "\n",
    "place_and_money[3] = 25\n",
    "print(place_and_money)"
   ]
  },
  {
   "cell_type": "code",
   "execution_count": 144,
   "metadata": {},
   "outputs": [
    {
     "data": {
      "text/plain": [
       "{'Kolya': 180,\n",
       " 'Marina': 176,\n",
       " 'Misha': 158,\n",
       " 'Dima': 201,\n",
       " 'Yana': 183,\n",
       " 'Nina': 156}"
      ]
     },
     "execution_count": 144,
     "metadata": {},
     "output_type": "execute_result"
    }
   ],
   "source": [
    "friends = {\"Kolya\": 180, \"Marina\": 176, \"Misha\": 158, \"Dima\": 201, \"Yana\": 183, \"Nina\": 156}\n",
    "friends"
   ]
  },
  {
   "cell_type": "code",
   "execution_count": 145,
   "metadata": {},
   "outputs": [],
   "source": [
    "# friends.clear()\n",
    "# friends"
   ]
  },
  {
   "cell_type": "code",
   "execution_count": 146,
   "metadata": {},
   "outputs": [
    {
     "data": {
      "text/plain": [
       "{}"
      ]
     },
     "execution_count": 146,
     "metadata": {},
     "output_type": "execute_result"
    }
   ],
   "source": [
    "# Задание 3.10\n",
    "\n",
    "place_and_money = {\n",
    "    1: 100,\n",
    "    2: 50,\n",
    "    3: 10\n",
    "}\n",
    "\n",
    "place_and_money.clear()\n",
    "place_and_money"
   ]
  },
  {
   "cell_type": "code",
   "execution_count": 147,
   "metadata": {},
   "outputs": [
    {
     "data": {
      "text/plain": [
       "dict_keys(['Kolya', 'Marina', 'Misha', 'Dima', 'Yana', 'Nina'])"
      ]
     },
     "execution_count": 147,
     "metadata": {},
     "output_type": "execute_result"
    }
   ],
   "source": [
    "friends.keys()"
   ]
  },
  {
   "cell_type": "code",
   "execution_count": 148,
   "metadata": {},
   "outputs": [
    {
     "data": {
      "text/plain": [
       "dict_keys([1, 2, 3])"
      ]
     },
     "execution_count": 148,
     "metadata": {},
     "output_type": "execute_result"
    }
   ],
   "source": [
    "# Задание 3.11\n",
    "\n",
    "place_and_money = {\n",
    "    1: 100,\n",
    "    2: 50,\n",
    "    3: 10\n",
    "}\n",
    "\n",
    "place_and_money.keys()"
   ]
  },
  {
   "cell_type": "code",
   "execution_count": 149,
   "metadata": {},
   "outputs": [
    {
     "data": {
      "text/plain": [
       "dict_keys(['Anne', 'Anton', 'Phillip'])"
      ]
     },
     "execution_count": 149,
     "metadata": {},
     "output_type": "execute_result"
    }
   ],
   "source": [
    "# Задание 3.12\n",
    "\n",
    "name_to_age = {\n",
    "    'Anne': 22,\n",
    "    'Anton': 27,\n",
    "    'Phillip': 30\n",
    "}\n",
    "\n",
    "name_to_age.keys()"
   ]
  },
  {
   "cell_type": "code",
   "execution_count": 150,
   "metadata": {},
   "outputs": [
    {
     "data": {
      "text/plain": [
       "dict_values([180, 176, 158, 201, 183, 156])"
      ]
     },
     "execution_count": 150,
     "metadata": {},
     "output_type": "execute_result"
    }
   ],
   "source": [
    "friends.values()"
   ]
  },
  {
   "cell_type": "code",
   "execution_count": 151,
   "metadata": {},
   "outputs": [
    {
     "data": {
      "text/plain": [
       "dict_values([22, 27, 30])"
      ]
     },
     "execution_count": 151,
     "metadata": {},
     "output_type": "execute_result"
    }
   ],
   "source": [
    "# Задание 3.13\n",
    "\n",
    "name_to_age = {\n",
    "    'Anne': 22,\n",
    "    'Anton': 27,\n",
    "    'Phillip': 30\n",
    "}\n",
    "\n",
    "name_to_age.values()"
   ]
  },
  {
   "cell_type": "code",
   "execution_count": 152,
   "metadata": {},
   "outputs": [
    {
     "data": {
      "text/plain": [
       "dict_values([100, 50, 10])"
      ]
     },
     "execution_count": 152,
     "metadata": {},
     "output_type": "execute_result"
    }
   ],
   "source": [
    "# Задание 3.14\n",
    "\n",
    "place_and_money = {\n",
    "    1: 100,\n",
    "    2: 50,\n",
    "    3: 10\n",
    "}\n",
    "\n",
    "place_and_money.values()"
   ]
  },
  {
   "cell_type": "code",
   "execution_count": 153,
   "metadata": {},
   "outputs": [
    {
     "name": "stdout",
     "output_type": "stream",
     "text": [
      "{'Kolya': 180, 'Marina': 176, 'Misha': 158, 'Dima': 201, 'Yana': 183, 'Nina': 156}\n"
     ]
    },
    {
     "ename": "KeyError",
     "evalue": "'Matvey'",
     "output_type": "error",
     "traceback": [
      "\u001b[1;31m---------------------------------------------------------------------------\u001b[0m",
      "\u001b[1;31mKeyError\u001b[0m                                  Traceback (most recent call last)",
      "Cell \u001b[1;32mIn[153], line 2\u001b[0m\n\u001b[0;32m      1\u001b[0m \u001b[38;5;28mprint\u001b[39m(friends)\n\u001b[1;32m----> 2\u001b[0m friends[\u001b[38;5;124m'\u001b[39m\u001b[38;5;124mMatvey\u001b[39m\u001b[38;5;124m'\u001b[39m]\n",
      "\u001b[1;31mKeyError\u001b[0m: 'Matvey'"
     ]
    }
   ],
   "source": [
    "print(friends)\n",
    "friends['Matvey']"
   ]
  },
  {
   "cell_type": "code",
   "execution_count": 33,
   "metadata": {},
   "outputs": [
    {
     "data": {
      "text/plain": [
       "\"I don't have a friend with such a name.\""
      ]
     },
     "execution_count": 33,
     "metadata": {},
     "output_type": "execute_result"
    }
   ],
   "source": [
    "friends.get('Matvey', \"I don't have a friend with such a name.\")"
   ]
  },
  {
   "cell_type": "code",
   "execution_count": 34,
   "metadata": {},
   "outputs": [
    {
     "data": {
      "text/plain": [
       "0"
      ]
     },
     "execution_count": 34,
     "metadata": {},
     "output_type": "execute_result"
    }
   ],
   "source": [
    "# Задание 3.15\n",
    "\n",
    "place_and_money = {\n",
    "    1: 100,\n",
    "    2: 50,\n",
    "    3: 10\n",
    "}\n",
    "\n",
    "place_and_money.get(20, 0)"
   ]
  },
  {
   "cell_type": "code",
   "execution_count": 35,
   "metadata": {},
   "outputs": [
    {
     "data": {
      "text/plain": [
       "-1"
      ]
     },
     "execution_count": 35,
     "metadata": {},
     "output_type": "execute_result"
    }
   ],
   "source": [
    "# Задание 3.16\n",
    "\n",
    "name_to_age = {\n",
    "    'Anne': 22,\n",
    "    'Anton': 27,\n",
    "    'Phillip': 30\n",
    "}\n",
    "\n",
    "name_to_age.get('Danny', -1)"
   ]
  },
  {
   "cell_type": "code",
   "execution_count": 37,
   "metadata": {},
   "outputs": [
    {
     "name": "stdout",
     "output_type": "stream",
     "text": [
      "{'Kolya': 180, 'Marina': 176, 'Misha': 158, 'Dima': 201, 'Yana': 183, 'Nina': 156}\n",
      "{'Kolya': 180, 'Marina': 176, 'Misha': 158, 'Dima': 201, 'Yana': 183, 'Nina': 156, 'Stas': 171, 'Nastya': 163}\n"
     ]
    }
   ],
   "source": [
    "print(friends)\n",
    "\n",
    "friends.update({\n",
    "    'Stas': 171,\n",
    "    'Nastya': 163\n",
    "})\n",
    "\n",
    "print(friends)"
   ]
  },
  {
   "cell_type": "code",
   "execution_count": 38,
   "metadata": {},
   "outputs": [
    {
     "name": "stdout",
     "output_type": "stream",
     "text": [
      "{'Kolya': 180, 'Marina': 176, 'Misha': 158, 'Dima': 201, 'Yana': 183, 'Nina': 156, 'Stas': 183, 'Nastya': 163}\n"
     ]
    }
   ],
   "source": [
    "friends.update({\n",
    "    'Stas': 183\n",
    "})\n",
    "\n",
    "print(friends)"
   ]
  },
  {
   "cell_type": "code",
   "execution_count": 39,
   "metadata": {},
   "outputs": [
    {
     "data": {
      "text/plain": [
       "{1: 100, 2: 50, 3: 10, 4: 5, 5: 1}"
      ]
     },
     "execution_count": 39,
     "metadata": {},
     "output_type": "execute_result"
    }
   ],
   "source": [
    "# Задание 3.17\n",
    "\n",
    "place_and_money = {\n",
    "    1: 100,\n",
    "    2: 50,\n",
    "    3: 10\n",
    "}\n",
    "\n",
    "place_and_money.update({\n",
    "    4: 5,\n",
    "    5: 1\n",
    "})\n",
    "\n",
    "place_and_money"
   ]
  },
  {
   "cell_type": "code",
   "execution_count": 40,
   "metadata": {},
   "outputs": [
    {
     "data": {
      "text/plain": [
       "{'Anne': 23, 'Anton': 27, 'Phillip': 29}"
      ]
     },
     "execution_count": 40,
     "metadata": {},
     "output_type": "execute_result"
    }
   ],
   "source": [
    "# Задание 3.18\n",
    "\n",
    "name_to_age = {\n",
    "    'Anne': 22,\n",
    "    'Anton': 27,\n",
    "    'Phillip': 30\n",
    "}\n",
    "\n",
    "name_to_age.update({\n",
    "    'Anne': 23,\n",
    "    'Phillip': 29\n",
    "})\n",
    "\n",
    "name_to_age"
   ]
  },
  {
   "cell_type": "code",
   "execution_count": 154,
   "metadata": {},
   "outputs": [
    {
     "name": "stdout",
     "output_type": "stream",
     "text": [
      "{'Kolya': 180, 'Marina': 176, 'Misha': 158, 'Dima': 201, 'Yana': 183, 'Nina': 156}\n",
      "{'Kolya': 180, 'Marina': 176, 'Dima': 201, 'Yana': 183, 'Nina': 156}\n",
      "158\n"
     ]
    }
   ],
   "source": [
    "print(friends)\n",
    "\n",
    "best_friend_height = friends.pop('Misha')\n",
    "print(friends)\n",
    "print(best_friend_height)"
   ]
  },
  {
   "cell_type": "code",
   "execution_count": 155,
   "metadata": {},
   "outputs": [
    {
     "data": {
      "text/plain": [
       "10"
      ]
     },
     "execution_count": 155,
     "metadata": {},
     "output_type": "execute_result"
    }
   ],
   "source": [
    "# Задание 3.19\n",
    "\n",
    "place_and_money = {\n",
    "    1: 100,\n",
    "    2: 50,\n",
    "    3: 10\n",
    "}\n",
    "\n",
    "result = place_and_money.pop(3)\n",
    "result"
   ]
  },
  {
   "cell_type": "code",
   "execution_count": 156,
   "metadata": {},
   "outputs": [
    {
     "data": {
      "text/plain": [
       "27"
      ]
     },
     "execution_count": 156,
     "metadata": {},
     "output_type": "execute_result"
    }
   ],
   "source": [
    "# Задание 3.20\n",
    "\n",
    "name_to_age = {\n",
    "    'Anne': 22,\n",
    "    'Anton': 27,\n",
    "    'Phillip': 30\n",
    "}\n",
    "\n",
    "result = name_to_age.pop('Anton')\n",
    "result"
   ]
  },
  {
   "cell_type": "code",
   "execution_count": 160,
   "metadata": {},
   "outputs": [
    {
     "name": "stdout",
     "output_type": "stream",
     "text": [
      "{'Kolya': 180, 'Marina': 176, 'Dima': 201, 'Yana\"': 183, 'Nina': 156, 'Stas': 183, 'Nastya': 163}\n",
      "163\n"
     ]
    }
   ],
   "source": [
    "friends = {'Kolya': 180, 'Marina': 176, 'Dima': 201, 'Yana\"': 183, 'Nina': 156, 'Stas': 183, 'Nastya': 163}\n",
    "print(friends)\n",
    "\n",
    "friends.setdefault('Nastya', 100)\n",
    "print(friends['Nastya'])"
   ]
  },
  {
   "cell_type": "code",
   "execution_count": 163,
   "metadata": {},
   "outputs": [
    {
     "name": "stdout",
     "output_type": "stream",
     "text": [
      "dict_keys(['Kolya', 'Marina', 'Dima', 'Yana\"', 'Nina', 'Stas', 'Nastya'])\n",
      "170\n",
      "{'Kolya': 180, 'Marina': 176, 'Dima': 201, 'Yana\"': 183, 'Nina': 156, 'Stas': 183, 'Nastya': 163, 'Alena': 170}\n"
     ]
    }
   ],
   "source": [
    "print(friends.keys())\n",
    "\n",
    "friends.setdefault('Alena', 170)\n",
    "print(friends['Alena'])\n",
    "print(friends)"
   ]
  },
  {
   "cell_type": "code",
   "execution_count": 164,
   "metadata": {},
   "outputs": [
    {
     "name": "stdout",
     "output_type": "stream",
     "text": [
      "{1: 100, 2: 50, 3: 10, 10: 1}\n"
     ]
    }
   ],
   "source": [
    "# Задание 3.21\n",
    "\n",
    "place_and_money = {\n",
    "    1: 100,\n",
    "    2: 50,\n",
    "    3: 10\n",
    "}\n",
    "\n",
    "place_and_money.setdefault(10, 1)\n",
    "print(place_and_money)"
   ]
  },
  {
   "cell_type": "code",
   "execution_count": 165,
   "metadata": {},
   "outputs": [
    {
     "name": "stdout",
     "output_type": "stream",
     "text": [
      "{'Anne': 22, 'Anton': 27, 'Phillip': 30}\n"
     ]
    }
   ],
   "source": [
    "# Задание 3.22\n",
    "\n",
    "name_to_age = {\n",
    "    'Anne': 22,\n",
    "    'Anton': 27,\n",
    "    'Phillip': 30\n",
    "}\n",
    "\n",
    "name_to_age.setdefault('Anne', 32)\n",
    "print(name_to_age)"
   ]
  },
  {
   "cell_type": "code",
   "execution_count": 166,
   "metadata": {},
   "outputs": [
    {
     "name": "stdout",
     "output_type": "stream",
     "text": [
      "{5: [3, 4, 5], (3, 4, 5): 'strong man'}\n"
     ]
    }
   ],
   "source": [
    "# Задание 3.23\n",
    "\n",
    "test_dict = {\n",
    "    5: [3, 4, 5]\n",
    "}\n",
    "\n",
    "test_dict[(3, 4, 5)] = 'strong man'\n",
    "\n",
    "print(test_dict)"
   ]
  },
  {
   "cell_type": "code",
   "execution_count": 168,
   "metadata": {},
   "outputs": [
    {
     "name": "stdout",
     "output_type": "stream",
     "text": [
      "{'name': 'Sancho', 'surname': 'Panso', 'info': {'age': 35, 'country': 'Mexico'}}\n"
     ]
    }
   ],
   "source": [
    "# Задание 3.24\n",
    "\n",
    "test_dict2 = {\n",
    "    'name': 'Sancho',\n",
    "    'surname': 'Panso',\n",
    "    'info': {\n",
    "        'age': 35,\n",
    "        'country': 'Mexico'\n",
    "    }\n",
    "}\n",
    "\n",
    "print(test_dict2)"
   ]
  },
  {
   "cell_type": "code",
   "execution_count": 171,
   "metadata": {},
   "outputs": [
    {
     "name": "stdout",
     "output_type": "stream",
     "text": [
      "{'info': [10, 15, 27], 'about': {'game': 'football', 'period': 5}}\n",
      "{'info': [10, 15, 27], 'about': 'dont know'}\n"
     ]
    }
   ],
   "source": [
    "# Задание 3.25\n",
    "\n",
    "test_dict3 = {\n",
    "    'info': [10, 15, 27],\n",
    "    'about': {\n",
    "        'game': 'football',\n",
    "        'period': 5\n",
    "    }\n",
    "}\n",
    "print(test_dict3)\n",
    "\n",
    "test_dict3['about'] = 'dont know'\n",
    "print(test_dict3)"
   ]
  },
  {
   "cell_type": "markdown",
   "metadata": {},
   "source": [
    "### 4 юнит"
   ]
  },
  {
   "cell_type": "code",
   "execution_count": 172,
   "metadata": {},
   "outputs": [
    {
     "data": {
      "text/plain": [
       "set()"
      ]
     },
     "execution_count": 172,
     "metadata": {},
     "output_type": "execute_result"
    }
   ],
   "source": [
    "set1 = set()\n",
    "set1"
   ]
  },
  {
   "cell_type": "code",
   "execution_count": 175,
   "metadata": {},
   "outputs": [
    {
     "data": {
      "text/plain": [
       "{'e', 'h', 'l', 'o'}"
      ]
     },
     "execution_count": 175,
     "metadata": {},
     "output_type": "execute_result"
    }
   ],
   "source": [
    "s1 = set('hello')\n",
    "s1"
   ]
  },
  {
   "cell_type": "code",
   "execution_count": 176,
   "metadata": {},
   "outputs": [
    {
     "data": {
      "text/plain": [
       "dict"
      ]
     },
     "execution_count": 176,
     "metadata": {},
     "output_type": "execute_result"
    }
   ],
   "source": [
    "s1 = {}\n",
    "type(s1)"
   ]
  },
  {
   "cell_type": "code",
   "execution_count": 177,
   "metadata": {},
   "outputs": [
    {
     "data": {
      "text/plain": [
       "set"
      ]
     },
     "execution_count": 177,
     "metadata": {},
     "output_type": "execute_result"
    }
   ],
   "source": [
    "s1 = {1}\n",
    "type(s1)"
   ]
  },
  {
   "cell_type": "code",
   "execution_count": 178,
   "metadata": {},
   "outputs": [
    {
     "name": "stdout",
     "output_type": "stream",
     "text": [
      "set()\n"
     ]
    }
   ],
   "source": [
    "# Задание 4.1\n",
    "\n",
    "s1 = set()\n",
    "print(s1)"
   ]
  },
  {
   "cell_type": "code",
   "execution_count": null,
   "metadata": {},
   "outputs": [],
   "source": [
    "# Задание 4.2\n",
    "\n",
    "s2 = {5, 10, 3, 2, 11}"
   ]
  },
  {
   "cell_type": "code",
   "execution_count": 179,
   "metadata": {},
   "outputs": [
    {
     "name": "stdout",
     "output_type": "stream",
     "text": [
      "{' ', 'o', 'w', 't', 'h', 'c', 'a', 'l', 's'}\n"
     ]
    }
   ],
   "source": [
    "# Задание 4.3\n",
    "\n",
    "s3 = set('wow thats cool')\n",
    "print(s3)"
   ]
  },
  {
   "cell_type": "code",
   "execution_count": 183,
   "metadata": {},
   "outputs": [
    {
     "name": "stdout",
     "output_type": "stream",
     "text": [
      "{1, 2, 3, 4, 5}\n",
      "{1, 2, 3, 4, 5, 6, 7, 8}\n"
     ]
    }
   ],
   "source": [
    "s = {1, 2, 3, 4}\n",
    "s.add(5)\n",
    "print(s)\n",
    "\n",
    "s.update({6, 7, 8})\n",
    "print(s)"
   ]
  },
  {
   "cell_type": "code",
   "execution_count": 184,
   "metadata": {},
   "outputs": [
    {
     "name": "stdout",
     "output_type": "stream",
     "text": [
      "{'b', 'hello', 'e', 'c', 'a', 'd'}\n"
     ]
    }
   ],
   "source": [
    "# Задание 4.4\n",
    "\n",
    "s1 = {'a', 'b', 'c', 'd', 'e'}\n",
    "s1.add('hello')\n",
    "print(s1)"
   ]
  },
  {
   "cell_type": "code",
   "execution_count": 185,
   "metadata": {},
   "outputs": [
    {
     "ename": "KeyError",
     "evalue": "10",
     "output_type": "error",
     "traceback": [
      "\u001b[1;31m---------------------------------------------------------------------------\u001b[0m",
      "\u001b[1;31mKeyError\u001b[0m                                  Traceback (most recent call last)",
      "Cell \u001b[1;32mIn[185], line 2\u001b[0m\n\u001b[0;32m      1\u001b[0m s1 \u001b[38;5;241m=\u001b[39m {\u001b[38;5;241m1\u001b[39m,\u001b[38;5;241m2\u001b[39m,\u001b[38;5;241m3\u001b[39m,\u001b[38;5;241m4\u001b[39m,\u001b[38;5;241m5\u001b[39m}\n\u001b[1;32m----> 2\u001b[0m s1\u001b[38;5;241m.\u001b[39mremove(\u001b[38;5;241m10\u001b[39m)\n",
      "\u001b[1;31mKeyError\u001b[0m: 10"
     ]
    }
   ],
   "source": [
    "s1 = {1,2,3,4,5}\n",
    "s1.remove(10)"
   ]
  },
  {
   "cell_type": "code",
   "execution_count": 186,
   "metadata": {},
   "outputs": [],
   "source": [
    "s1.discard(10)"
   ]
  },
  {
   "cell_type": "code",
   "execution_count": 187,
   "metadata": {},
   "outputs": [
    {
     "name": "stdout",
     "output_type": "stream",
     "text": [
      "{'b', 'e', 'c', 'a'}\n"
     ]
    }
   ],
   "source": [
    "# Задание 4.5\n",
    "\n",
    "s1 = {'a', 'b', 'c', 'd', 'e'}\n",
    "s1.remove('d')\n",
    "print(s1)"
   ]
  },
  {
   "cell_type": "code",
   "execution_count": 189,
   "metadata": {},
   "outputs": [
    {
     "name": "stdout",
     "output_type": "stream",
     "text": [
      "{'b', 'e', 'c', 'a', 'd'}\n"
     ]
    }
   ],
   "source": [
    "# Задание 4.6\n",
    "\n",
    "s1 = {'a', 'b', 'c', 'd', 'e', 'f'}\n",
    "s1.discard('f')\n",
    "print(s1)"
   ]
  },
  {
   "cell_type": "code",
   "execution_count": 190,
   "metadata": {},
   "outputs": [
    {
     "name": "stdout",
     "output_type": "stream",
     "text": [
      "{'b', 'e', 'c', 'a', 'd'}\n"
     ]
    }
   ],
   "source": [
    "# Задание 4.7\n",
    "\n",
    "s1 = {'a', 'b', 'c', 'd', 'e', 'f'}\n",
    "s1.remove('f')\n",
    "print(s1)"
   ]
  },
  {
   "cell_type": "code",
   "execution_count": 191,
   "metadata": {},
   "outputs": [
    {
     "data": {
      "text/plain": [
       "{'item1', 'item2', 'item3', 'item4', 'item5', 'item7'}"
      ]
     },
     "execution_count": 191,
     "metadata": {},
     "output_type": "execute_result"
    }
   ],
   "source": [
    "cluster1 = {\"item1\", \"item2\", \"item3\", \"item4\"}\n",
    "cluster2 = {\"item2\", \"item3\", \"item5\", \"item7\"}\n",
    "\n",
    "cluster1.union(cluster2)"
   ]
  },
  {
   "cell_type": "code",
   "execution_count": 200,
   "metadata": {},
   "outputs": [
    {
     "data": {
      "text/plain": [
       "{' ', 'a', 'b', 'c', 'd', 'e', 'o', 'y'}"
      ]
     },
     "execution_count": 200,
     "metadata": {},
     "output_type": "execute_result"
    }
   ],
   "source": [
    "# Задание 4.8\n",
    "\n",
    "alpha_set = {'a', 'b', 'c', 'd', 'e'}\n",
    "name = set('bad boy')\n",
    "\n",
    "alpha_set.union(name)"
   ]
  },
  {
   "cell_type": "code",
   "execution_count": 202,
   "metadata": {},
   "outputs": [
    {
     "data": {
      "text/plain": [
       "{0, 1, 2, 3, 4, 5, 6, 7, 8, 9, 10}"
      ]
     },
     "execution_count": 202,
     "metadata": {},
     "output_type": "execute_result"
    }
   ],
   "source": [
    "# Задание 4.9\n",
    "\n",
    "num_set = {0, 1, 2, 3, 4, 5, 6, 7, 8, 9, 10}\n",
    "date_num = set([1, 9, 4, 8])\n",
    "\n",
    "num_set.union(date_num)"
   ]
  },
  {
   "cell_type": "code",
   "execution_count": 203,
   "metadata": {},
   "outputs": [
    {
     "data": {
      "text/plain": [
       "{'item2', 'item3'}"
      ]
     },
     "execution_count": 203,
     "metadata": {},
     "output_type": "execute_result"
    }
   ],
   "source": [
    "cluster1 = {\"item1\", \"item2\", \"item3\", \"item4\"}\n",
    "cluster2 = {\"item2\", \"item3\", \"item5\", \"item7\"}\n",
    "\n",
    "cluster1.intersection(cluster2)"
   ]
  },
  {
   "cell_type": "code",
   "execution_count": 204,
   "metadata": {},
   "outputs": [
    {
     "data": {
      "text/plain": [
       "{'a', 'b', 'd'}"
      ]
     },
     "execution_count": 204,
     "metadata": {},
     "output_type": "execute_result"
    }
   ],
   "source": [
    "# Задание 4.10\n",
    "\n",
    "alpha_set = {'a', 'b', 'c', 'd', 'e'}\n",
    "name = set('bad boy')\n",
    "\n",
    "alpha_set.intersection(name)"
   ]
  },
  {
   "cell_type": "code",
   "execution_count": 205,
   "metadata": {},
   "outputs": [
    {
     "data": {
      "text/plain": [
       "{1, 4, 8, 9}"
      ]
     },
     "execution_count": 205,
     "metadata": {},
     "output_type": "execute_result"
    }
   ],
   "source": [
    "# Задание 4.11\n",
    "\n",
    "num_set = {0, 1, 2, 3, 4, 5, 6, 7, 8, 9, 10}\n",
    "date_num = set([1, 9, 4, 8])\n",
    "\n",
    "num_set.intersection(date_num)"
   ]
  },
  {
   "cell_type": "code",
   "execution_count": 206,
   "metadata": {},
   "outputs": [
    {
     "data": {
      "text/plain": [
       "{'item1', 'item2'}"
      ]
     },
     "execution_count": 206,
     "metadata": {},
     "output_type": "execute_result"
    }
   ],
   "source": [
    "cluster1 = {\"item1\", \"item2\", \"item3\", \"item4\", \"item5\"}\n",
    "cluster2 = {\"item3\", \"item4\", \"item5\", \"item6\"}\n",
    "\n",
    "cluster1.difference(cluster2) "
   ]
  },
  {
   "cell_type": "code",
   "execution_count": 207,
   "metadata": {},
   "outputs": [
    {
     "data": {
      "text/plain": [
       "{'c', 'e'}"
      ]
     },
     "execution_count": 207,
     "metadata": {},
     "output_type": "execute_result"
    }
   ],
   "source": [
    "# Задание 4.12\n",
    "\n",
    "alpha_set = {'a', 'b', 'c', 'd', 'e'}\n",
    "name = set('bad boy')\n",
    "\n",
    "alpha_set.difference(name)"
   ]
  },
  {
   "cell_type": "code",
   "execution_count": 208,
   "metadata": {},
   "outputs": [
    {
     "data": {
      "text/plain": [
       "{0, 2, 3, 5, 6, 7, 10}"
      ]
     },
     "execution_count": 208,
     "metadata": {},
     "output_type": "execute_result"
    }
   ],
   "source": [
    "# Задание 4.13\n",
    "\n",
    "num_set = {0, 1, 2, 3, 4, 5, 6, 7, 8, 9, 10}\n",
    "date_num = set([1, 9, 4, 8])\n",
    "\n",
    "num_set.difference(date_num)"
   ]
  },
  {
   "cell_type": "code",
   "execution_count": 209,
   "metadata": {},
   "outputs": [
    {
     "data": {
      "text/plain": [
       "False"
      ]
     },
     "execution_count": 209,
     "metadata": {},
     "output_type": "execute_result"
    }
   ],
   "source": [
    "cluster1 = {\"item1\", \"item2\", \"item3\"}\n",
    "cluster2 = {\"item2\", \"item3\", \"item4\", \"item5\", \"item6\"}\n",
    "\n",
    "cluster1.issubset(cluster2)"
   ]
  },
  {
   "cell_type": "code",
   "execution_count": 210,
   "metadata": {},
   "outputs": [
    {
     "data": {
      "text/plain": [
       "True"
      ]
     },
     "execution_count": 210,
     "metadata": {},
     "output_type": "execute_result"
    }
   ],
   "source": [
    "cluster1 = {\"item1\", \"item2\", \"item3\"}\n",
    "cluster2 = {\"item2\", \"item3\", \"item4\", \"item5\", \"item6\", \"item1\"}\n",
    "\n",
    "cluster1.issubset(cluster2)"
   ]
  },
  {
   "cell_type": "markdown",
   "metadata": {},
   "source": [
    "### 5 юнит"
   ]
  },
  {
   "cell_type": "code",
   "execution_count": 217,
   "metadata": {},
   "outputs": [
    {
     "name": "stdout",
     "output_type": "stream",
     "text": [
      "10\n",
      "10.2\n"
     ]
    }
   ],
   "source": [
    "int_var = 10\n",
    "float_var = float(int_var)+0.2\n",
    "print(int_var)\n",
    "print(float_var)"
   ]
  },
  {
   "cell_type": "code",
   "execution_count": 218,
   "metadata": {},
   "outputs": [
    {
     "data": {
      "text/plain": [
       "20.4"
      ]
     },
     "execution_count": 218,
     "metadata": {},
     "output_type": "execute_result"
    }
   ],
   "source": [
    "float_var += 0.2\n",
    "int_var + float_var"
   ]
  },
  {
   "cell_type": "code",
   "execution_count": 220,
   "metadata": {},
   "outputs": [
    {
     "name": "stdout",
     "output_type": "stream",
     "text": [
      "3.0\n"
     ]
    }
   ],
   "source": [
    "# Задание 5.1\n",
    "\n",
    "a = 3\n",
    "b = float(a)\n",
    "\n",
    "print(b)"
   ]
  },
  {
   "cell_type": "code",
   "execution_count": 222,
   "metadata": {},
   "outputs": [
    {
     "name": "stdout",
     "output_type": "stream",
     "text": [
      "6.5 6.5\n"
     ]
    }
   ],
   "source": [
    "# Задание 5.2\n",
    "\n",
    "num1 = 3\n",
    "num2 = 3.5\n",
    "\n",
    "sum1 = num1+num2\n",
    "\n",
    "num1 = float(num1)\n",
    "sum2 = num1+num2\n",
    "\n",
    "print(sum1, sum2)"
   ]
  },
  {
   "cell_type": "code",
   "execution_count": 229,
   "metadata": {},
   "outputs": [
    {
     "ename": "TypeError",
     "evalue": "can only concatenate str (not \"int\") to str",
     "output_type": "error",
     "traceback": [
      "\u001b[1;31m---------------------------------------------------------------------------\u001b[0m",
      "\u001b[1;31mTypeError\u001b[0m                                 Traceback (most recent call last)",
      "Cell \u001b[1;32mIn[229], line 5\u001b[0m\n\u001b[0;32m      2\u001b[0m int_var1 \u001b[38;5;241m=\u001b[39m \u001b[38;5;241m10\u001b[39m\n\u001b[0;32m      3\u001b[0m str_var2 \u001b[38;5;241m=\u001b[39m \u001b[38;5;124m'\u001b[39m\u001b[38;5;124m years old\u001b[39m\u001b[38;5;124m'\u001b[39m\n\u001b[1;32m----> 5\u001b[0m str_var1 \u001b[38;5;241m+\u001b[39m int_var1 \u001b[38;5;241m+\u001b[39m str_var2\n",
      "\u001b[1;31mTypeError\u001b[0m: can only concatenate str (not \"int\") to str"
     ]
    }
   ],
   "source": [
    "str_var1 = 'I am '\n",
    "int_var1 = 10\n",
    "str_var2 = ' years old'\n",
    "\n",
    "str_var1 + int_var1 + str_var2"
   ]
  },
  {
   "cell_type": "code",
   "execution_count": 230,
   "metadata": {},
   "outputs": [
    {
     "data": {
      "text/plain": [
       "'I am 10 years old'"
      ]
     },
     "execution_count": 230,
     "metadata": {},
     "output_type": "execute_result"
    }
   ],
   "source": [
    "str_var1 + str(int_var1) + str_var2"
   ]
  },
  {
   "cell_type": "code",
   "execution_count": 231,
   "metadata": {},
   "outputs": [
    {
     "name": "stdout",
     "output_type": "stream",
     "text": [
      "1\n"
     ]
    }
   ],
   "source": [
    "# Задание 5.3\n",
    "\n",
    "int_one = 1\n",
    "str_one = str(int_one)\n",
    "\n",
    "print(str_one)"
   ]
  },
  {
   "cell_type": "code",
   "execution_count": 232,
   "metadata": {},
   "outputs": [
    {
     "name": "stdout",
     "output_type": "stream",
     "text": [
      "my age is 18\n"
     ]
    }
   ],
   "source": [
    "# Задание 5.4\n",
    "\n",
    "str_age_begin = 'my age is '\n",
    "int_age = 18\n",
    "\n",
    "result_string = str_age_begin + str(int_age)\n",
    "\n",
    "print(result_string)"
   ]
  },
  {
   "cell_type": "code",
   "execution_count": 233,
   "metadata": {},
   "outputs": [
    {
     "name": "stdout",
     "output_type": "stream",
     "text": [
      "I have 5 brothers\n"
     ]
    }
   ],
   "source": [
    "# Задание 5.5\n",
    "\n",
    "str_brothers_begin = 'I have '\n",
    "count = 5\n",
    "str_brothers_end = ' brothers'\n",
    "\n",
    "result_sentence = str_brothers_begin + str(count) + str_brothers_end\n",
    "\n",
    "print(result_sentence)"
   ]
  },
  {
   "cell_type": "code",
   "execution_count": 234,
   "metadata": {},
   "outputs": [
    {
     "ename": "ValueError",
     "evalue": "invalid literal for int() with base 10: 'hello world'",
     "output_type": "error",
     "traceback": [
      "\u001b[1;31m---------------------------------------------------------------------------\u001b[0m",
      "\u001b[1;31mValueError\u001b[0m                                Traceback (most recent call last)",
      "Cell \u001b[1;32mIn[234], line 4\u001b[0m\n\u001b[0;32m      1\u001b[0m \u001b[38;5;66;03m# Задание 5.6\u001b[39;00m\n\u001b[0;32m      3\u001b[0m s \u001b[38;5;241m=\u001b[39m \u001b[38;5;124m'\u001b[39m\u001b[38;5;124mhello world\u001b[39m\u001b[38;5;124m'\u001b[39m\n\u001b[1;32m----> 4\u001b[0m \u001b[38;5;28mint\u001b[39m(s)\n",
      "\u001b[1;31mValueError\u001b[0m: invalid literal for int() with base 10: 'hello world'"
     ]
    }
   ],
   "source": [
    "# Задание 5.6\n",
    "\n",
    "s = 'hello world'\n",
    "int(s)"
   ]
  },
  {
   "cell_type": "code",
   "execution_count": 235,
   "metadata": {},
   "outputs": [
    {
     "data": {
      "text/plain": [
       "10"
      ]
     },
     "execution_count": 235,
     "metadata": {},
     "output_type": "execute_result"
    }
   ],
   "source": [
    "# Задание 5.7\n",
    "\n",
    "s = '10'\n",
    "int(s)"
   ]
  },
  {
   "cell_type": "code",
   "execution_count": 236,
   "metadata": {},
   "outputs": [
    {
     "data": {
      "text/plain": [
       "11.0"
      ]
     },
     "execution_count": 236,
     "metadata": {},
     "output_type": "execute_result"
    }
   ],
   "source": [
    "# Задание 5.8\n",
    "\n",
    "s = '11'\n",
    "float(s)"
   ]
  },
  {
   "cell_type": "code",
   "execution_count": 237,
   "metadata": {},
   "outputs": [
    {
     "ename": "ValueError",
     "evalue": "invalid literal for int() with base 10: '50.4'",
     "output_type": "error",
     "traceback": [
      "\u001b[1;31m---------------------------------------------------------------------------\u001b[0m",
      "\u001b[1;31mValueError\u001b[0m                                Traceback (most recent call last)",
      "Cell \u001b[1;32mIn[237], line 4\u001b[0m\n\u001b[0;32m      1\u001b[0m \u001b[38;5;66;03m# Задание 5.9\u001b[39;00m\n\u001b[0;32m      3\u001b[0m s \u001b[38;5;241m=\u001b[39m \u001b[38;5;124m'\u001b[39m\u001b[38;5;124m50.4\u001b[39m\u001b[38;5;124m'\u001b[39m\n\u001b[1;32m----> 4\u001b[0m \u001b[38;5;28mint\u001b[39m(s)\n",
      "\u001b[1;31mValueError\u001b[0m: invalid literal for int() with base 10: '50.4'"
     ]
    }
   ],
   "source": [
    "# Задание 5.9\n",
    "\n",
    "s = '50.4'\n",
    "int(s)"
   ]
  },
  {
   "cell_type": "code",
   "execution_count": 238,
   "metadata": {},
   "outputs": [
    {
     "data": {
      "text/plain": [
       "['Anne', 'Sam', 'Marie', 'Tom', 'Curt']"
      ]
     },
     "execution_count": 238,
     "metadata": {},
     "output_type": "execute_result"
    }
   ],
   "source": [
    "dictionary = {\n",
    "    'Anne': 15,\n",
    "    'Sam': 30,\n",
    "    'Marie': 22\n",
    "}\n",
    "\n",
    "only_keys = list(dictionary.keys())\n",
    "only_keys + ['Tom', 'Curt']"
   ]
  },
  {
   "cell_type": "code",
   "execution_count": 241,
   "metadata": {},
   "outputs": [
    {
     "data": {
      "text/plain": [
       "{('Collin', 23, 'LA'): '2nd place'}"
      ]
     },
     "execution_count": 241,
     "metadata": {},
     "output_type": "execute_result"
    }
   ],
   "source": [
    "d = {}\n",
    "input_list = ['Collin', 23, 'LA']\n",
    "input_place = '2nd place'\n",
    "\n",
    "d[tuple(input_list)] = input_place\n",
    "d"
   ]
  },
  {
   "cell_type": "code",
   "execution_count": 242,
   "metadata": {},
   "outputs": [
    {
     "data": {
      "text/plain": [
       "(1, 2, 3, 4, 5)"
      ]
     },
     "execution_count": 242,
     "metadata": {},
     "output_type": "execute_result"
    }
   ],
   "source": [
    "# Задание 5.10\n",
    "\n",
    "list1 = [1, 2, 3, 4, 5]\n",
    "tpl1 = tuple(list1)\n",
    "tpl1"
   ]
  },
  {
   "cell_type": "code",
   "execution_count": 245,
   "metadata": {},
   "outputs": [
    {
     "data": {
      "text/plain": [
       "['a', 'b', 'c', 'd', 'e']"
      ]
     },
     "execution_count": 245,
     "metadata": {},
     "output_type": "execute_result"
    }
   ],
   "source": [
    "# Задание 5.11\n",
    "\n",
    "tpl1 = ('a', 'b', 'c', 'd', 'e')\n",
    "list2 = list(tpl1)\n",
    "list2"
   ]
  },
  {
   "cell_type": "markdown",
   "metadata": {},
   "source": [
    "### 6 юнит"
   ]
  },
  {
   "cell_type": "code",
   "execution_count": 246,
   "metadata": {},
   "outputs": [
    {
     "name": "stdout",
     "output_type": "stream",
     "text": [
      "[1, 2, 3]\n"
     ]
    }
   ],
   "source": [
    "# Задание 6.1\n",
    "\n",
    "list1 = []\n",
    "\n",
    "list1.append(1)\n",
    "list1.append(2)\n",
    "list1.append(3)\n",
    "\n",
    "print(list1)"
   ]
  },
  {
   "cell_type": "code",
   "execution_count": 252,
   "metadata": {},
   "outputs": [
    {
     "name": "stdout",
     "output_type": "stream",
     "text": [
      "[1, 2, 3, 4, -5, -3, -1, 1, 3, 5, 7, 9, 11, 13]\n"
     ]
    }
   ],
   "source": [
    "# Задание 6.2\n",
    "\n",
    "list2 = list(range(-5, 15, 2))\n",
    "list3 = [1, 2, 3, 4]\n",
    "\n",
    "list3.extend(list2)\n",
    "\n",
    "print(list3)"
   ]
  },
  {
   "cell_type": "code",
   "execution_count": 261,
   "metadata": {},
   "outputs": [
    {
     "name": "stdout",
     "output_type": "stream",
     "text": [
      "[3, 1, -10, 5, 11, 20, 1, -10] [20, 11, 5, 3, 1, 1, -10, -10]\n"
     ]
    }
   ],
   "source": [
    "# Задание 6.3\n",
    "\n",
    "list6 = [3, 1, -10, 5, 11, 20, 1, -10]\n",
    "list7 = list6.copy()\n",
    "\n",
    "list6.sort()\n",
    "list_result = list6[::-1]\n",
    "\n",
    "print(list7, list_result)"
   ]
  },
  {
   "cell_type": "code",
   "execution_count": 262,
   "metadata": {},
   "outputs": [
    {
     "name": "stdout",
     "output_type": "stream",
     "text": [
      "{(10, 15): 'hello'}\n"
     ]
    }
   ],
   "source": [
    "# Задание 6.4\n",
    "\n",
    "list1 = [10, 15]\n",
    "tpl1 = tuple(list1)\n",
    "\n",
    "dict1 = {}\n",
    "dict1[tpl1] = 'hello'\n",
    "\n",
    "print(dict1)"
   ]
  },
  {
   "cell_type": "code",
   "execution_count": 265,
   "metadata": {},
   "outputs": [
    {
     "name": "stdout",
     "output_type": "stream",
     "text": [
      "{'name': 'unknown'} {'name': 'Tom'}\n",
      "dict_keys(['name']) dict_values(['unknown'])\n"
     ]
    }
   ],
   "source": [
    "# Задание 6.5\n",
    "\n",
    "dict1 = {'name': 'unknown'}\n",
    "dict2 = {'name': 'Tom'}\n",
    "\n",
    "print(dict1, dict2)\n",
    "print(dict1.keys(), dict1.values())"
   ]
  },
  {
   "cell_type": "code",
   "execution_count": 271,
   "metadata": {},
   "outputs": [
    {
     "name": "stdout",
     "output_type": "stream",
     "text": [
      "{'h', 'e', 'o', 'l', 'w'} {'o'} {'l', 'h', 'e'}\n"
     ]
    }
   ],
   "source": [
    "# Задание 6.6\n",
    "\n",
    "s1 = set('hello')\n",
    "s2 = set(['w', 'o', 'w'])\n",
    "\n",
    "print(s1.union(s2), s1.intersection(s2), s1.difference(s2))"
   ]
  },
  {
   "cell_type": "code",
   "execution_count": 272,
   "metadata": {},
   "outputs": [
    {
     "name": "stdout",
     "output_type": "stream",
     "text": [
      "age is 15\n"
     ]
    }
   ],
   "source": [
    "# Задание 6.7\n",
    "\n",
    "result = 'age is ' + str(15)\n",
    "\n",
    "print(result)"
   ]
  },
  {
   "cell_type": "code",
   "execution_count": 282,
   "metadata": {},
   "outputs": [
    {
     "data": {
      "text/plain": [
       "[('a', 1), ('b', 2), ('c', 3), ('d', 4)]"
      ]
     },
     "execution_count": 282,
     "metadata": {},
     "output_type": "execute_result"
    }
   ],
   "source": [
    "# Вопрос 11\n",
    "\n",
    "dic1 = {'c':3, 'd':4, 'b':2, 'a':1}\n",
    "\n",
    "sorted(dic1.items())"
   ]
  },
  {
   "cell_type": "code",
   "execution_count": 284,
   "metadata": {},
   "outputs": [
    {
     "data": {
      "text/plain": [
       "'Astringwithwhitespace'"
      ]
     },
     "execution_count": 284,
     "metadata": {},
     "output_type": "execute_result"
    }
   ],
   "source": [
    "# Вопрос 12\n",
    "\n",
    "s = 'A string with white space'\n",
    "\n",
    "''.join(s.split())"
   ]
  },
  {
   "cell_type": "code",
   "execution_count": 285,
   "metadata": {},
   "outputs": [
    {
     "data": {
      "text/plain": [
       "['id', 'name', 'color', 'speed']"
      ]
     },
     "execution_count": 285,
     "metadata": {},
     "output_type": "execute_result"
    }
   ],
   "source": [
    "# Вопрос 13\n",
    "\n",
    "d = {'id':7, 'name':'Shiba', 'color':'brown', 'speed':'very slow'}\n",
    "\n",
    "list(d)"
   ]
  },
  {
   "cell_type": "code",
   "execution_count": 289,
   "metadata": {},
   "outputs": [
    {
     "name": "stdout",
     "output_type": "stream",
     "text": [
      "a string with white space\n",
      "A STRING WITH WHITE SPACE\n"
     ]
    }
   ],
   "source": [
    "# Вопрос 14\n",
    "\n",
    "s = 'A string with white space'\n",
    "\n",
    "print(s.lower())\n",
    "print(s.upper())"
   ]
  }
 ],
 "metadata": {
  "kernelspec": {
   "display_name": "base",
   "language": "python",
   "name": "python3"
  },
  "language_info": {
   "codemirror_mode": {
    "name": "ipython",
    "version": 3
   },
   "file_extension": ".py",
   "mimetype": "text/x-python",
   "name": "python",
   "nbconvert_exporter": "python",
   "pygments_lexer": "ipython3",
   "version": "3.12.4"
  }
 },
 "nbformat": 4,
 "nbformat_minor": 2
}
