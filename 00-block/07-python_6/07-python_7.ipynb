{
 "cells": [
  {
   "cell_type": "markdown",
   "metadata": {},
   "source": [
    "### 2 юнит"
   ]
  },
  {
   "cell_type": "code",
   "execution_count": 4,
   "metadata": {},
   "outputs": [
    {
     "data": {
      "text/plain": [
       "'Python'"
      ]
     },
     "execution_count": 4,
     "metadata": {},
     "output_type": "execute_result"
    }
   ],
   "source": [
    "# Задание 2.4\n",
    "\n",
    "python_string = 'Hello! My name is Python. I will help you to analyze some data.'\n",
    "\n",
    "python_string[18:24]"
   ]
  },
  {
   "cell_type": "code",
   "execution_count": 10,
   "metadata": {},
   "outputs": [
    {
     "name": "stdout",
     "output_type": "stream",
     "text": [
      "389017\n"
     ]
    }
   ],
   "source": [
    "# Задание 2.5\n",
    "\n",
    "python_string = 'Hello! My name is Python. I will help you to analyze some data.'\n",
    "# python_string = 'Привет! Меня зовут Питон. Я помогу вам проанализировать некоторые данные.'\n",
    "\n",
    "\n",
    "result = len(python_string)**3\n",
    "\n",
    "\n",
    "print(result)"
   ]
  },
  {
   "cell_type": "code",
   "execution_count": 16,
   "metadata": {},
   "outputs": [
    {
     "name": "stdout",
     "output_type": "stream",
     "text": [
      "7.0\n"
     ]
    }
   ],
   "source": [
    "# Задание 2.6\n",
    "\n",
    "predicted_time = 67.321\n",
    "real_time = 59.839\n",
    "\n",
    "# predicted_time = 38.873\n",
    "# real_time = 26.124\n",
    "\n",
    "\n",
    "absolute_error = round(abs(predicted_time-real_time), 0)\n",
    "\n",
    "\n",
    "print(absolute_error)"
   ]
  },
  {
   "cell_type": "code",
   "execution_count": 24,
   "metadata": {},
   "outputs": [
    {
     "name": "stdout",
     "output_type": "stream",
     "text": [
      "27\n"
     ]
    }
   ],
   "source": [
    "# Задание 2.7\n",
    "\n",
    "input_string = 'Hello! My name is Python. I will help you to analyze some data.'\n",
    "# input_string = 'There are many great articles about Artificial Intelligence and \\\n",
    "#     its benefits for business and society. However, many of these articles are too \\\n",
    "#     technical for the average reader.'\n",
    "\n",
    "\n",
    "# Удаление символы пунктуации из строки\n",
    "input_string_cleaned = input_string.replace('.', '').replace(',', ''). \\\n",
    "    replace('!', '').replace('?', '')\n",
    "\n",
    "# Подсчет кол-ва слов в строке\n",
    "count_words = len(input_string_cleaned.split())\n",
    "\n",
    "\n",
    "print(count_words)"
   ]
  },
  {
   "cell_type": "code",
   "execution_count": 45,
   "metadata": {},
   "outputs": [
    {
     "name": "stdout",
     "output_type": "stream",
     "text": [
      "384300 png\n"
     ]
    }
   ],
   "source": [
    "# Задание 2.8\n",
    "\n",
    "file_path = 'data/images/train/10394.jpg'\n",
    "# file_path = 'data/images/validation/748923.gif'\n",
    "# file_path = 'data/images/384300.png'\n",
    "\n",
    "\n",
    "# Разбиваем адрес и получаем последний элемент\n",
    "file_name_ext = file_path.split('/')[-1]\n",
    "\n",
    "# Разбиваем имя и расширение\n",
    "file_name, file_extension = file_name_ext.split('.')\n",
    "\n",
    "print(file_name, file_extension)"
   ]
  },
  {
   "cell_type": "code",
   "execution_count": 53,
   "metadata": {},
   "outputs": [
    {
     "name": "stdout",
     "output_type": "stream",
     "text": [
      "когда человек вводит запрос в поисковик он ищет информацию или способ решения своей задачи\n"
     ]
    }
   ],
   "source": [
    "# Задание 2.9\n",
    "\n",
    "generated_text = \"глаза нее на поднял он и она попросила что-нибудь скажи\"\n",
    "# generated_text = \"задачи своей решения способ или информацию ищет он поисковик \\\n",
    "#     в запрос вводит человек когда\"\n",
    "\n",
    "\n",
    "# Разделяем текст и переворачиваем его\n",
    "generated_text_splitted = generated_text.split()[::-1]\n",
    "\n",
    "# Объединяем текст\n",
    "updated_text = ' '.join(generated_text_splitted)\n",
    "\n",
    "\n",
    "print(updated_text)"
   ]
  },
  {
   "cell_type": "code",
   "execution_count": 56,
   "metadata": {},
   "outputs": [
    {
     "name": "stdout",
     "output_type": "stream",
     "text": [
      "Пользователь Andrey сменил пароль на 31andrey12QK\n",
      "Пользователь Vasilisk сменил пароль на uaf12laK\n"
     ]
    }
   ],
   "source": [
    "# Задание 2.10\n",
    "\n",
    "# Функция для вывода информации о смене пароля\n",
    "def change_password(user_name, new_password): \n",
    "    return f'Пользователь {user_name} сменил пароль на {new_password}'\n",
    "\n",
    "\n",
    "print(change_password('Andrey', '31andrey12QK'))\n",
    "\n",
    "print(change_password('Vasilisk', 'uaf12laK'))"
   ]
  },
  {
   "cell_type": "markdown",
   "metadata": {},
   "source": [
    "### 3 юнит"
   ]
  },
  {
   "cell_type": "code",
   "execution_count": 57,
   "metadata": {},
   "outputs": [
    {
     "name": "stdout",
     "output_type": "stream",
     "text": [
      "20000\n",
      "20000\n"
     ]
    }
   ],
   "source": [
    "# Задание 3.3\n",
    "\n",
    "employee_info = {'salary': 20000, 'prize': 1000}\n",
    "\n",
    "print(employee_info.get('salary'))\n",
    "print(employee_info['salary'])"
   ]
  },
  {
   "cell_type": "code",
   "execution_count": 62,
   "metadata": {},
   "outputs": [
    {
     "name": "stdout",
     "output_type": "stream",
     "text": [
      "{'d', 'a', 'b', 'e'}\n"
     ]
    }
   ],
   "source": [
    "# Задание 3.4\n",
    "\n",
    "symbol_set = {'a', 'b', 'c', 'd', 'e'}\n",
    "\n",
    "symbol_set.discard('c')\n",
    "# symbol_set.remove('c')\n",
    "\n",
    "print(symbol_set)"
   ]
  },
  {
   "cell_type": "code",
   "execution_count": 81,
   "metadata": {},
   "outputs": [
    {
     "name": "stdout",
     "output_type": "stream",
     "text": [
      "mean_price = 13973.9\n",
      "count_diesel = 2\n",
      "min_horsepower = 62\n"
     ]
    }
   ],
   "source": [
    "# Задание 3.5\n",
    "\n",
    "car_dict = {\n",
    "    'car_ID': [123, 117, 111, 82, 101, 96, 156, 2, 58, 49],\n",
    "    'fueltype': ['gas', 'diesel', 'diesel', 'gas', 'gas', 'gas', 'gas', 'gas', 'gas', 'gas'],\n",
    "    'horsepower': [68, 95, 95, 88, 97, 69, 62, 111, 101, 176],\n",
    "    'price': [7609.0, 17950.0, 13860.0, 8499.0, 9549.0, 7799.0, 8778.0, 16500.0, 13645.0, 35550.0]\n",
    "    }\n",
    "\n",
    "\n",
    "# Вычисляем значения\n",
    "mean_price = round(sum(car_dict['price']) / len(car_dict['price']), 1)\n",
    "count_diesel = car_dict['fueltype'].count('diesel')\n",
    "min_horsepower = min(car_dict['horsepower'])\n",
    "\n",
    "\n",
    "print(f'mean_price = {mean_price}')\n",
    "print(f'count_diesel = {count_diesel}')\n",
    "print(f'min_horsepower = {min_horsepower}')"
   ]
  },
  {
   "cell_type": "code",
   "execution_count": 87,
   "metadata": {},
   "outputs": [
    {
     "name": "stdout",
     "output_type": "stream",
     "text": [
      "True\n",
      "False\n"
     ]
    }
   ],
   "source": [
    "# Задание 3.6\n",
    "\n",
    "# Функция для проверки наличия дубликатов\n",
    "def check_duplicates(lst):\n",
    "    return len(set(lst)) != len(lst)\n",
    "\n",
    "\n",
    "lst = [0, 0, 1, 2, 3, 4, 5, 5, 6, 7]\n",
    "print(check_duplicates(lst))\n",
    "\n",
    "lst = list(range(0, 15))\n",
    "print(check_duplicates(lst))"
   ]
  },
  {
   "cell_type": "code",
   "execution_count": 108,
   "metadata": {},
   "outputs": [
    {
     "name": "stdout",
     "output_type": "stream",
     "text": [
      "[3, 2, 1]\n",
      "[5, 2, 3, 4, 1]\n",
      "['с', 'л', 'о', 'н']\n"
     ]
    }
   ],
   "source": [
    "# Задание 3.7\n",
    "\n",
    "# Функция изменения местами первого и последнего элемента\n",
    "def swap_places(lst):\n",
    "    lst[0], lst[-1] = lst[-1], lst[0]\n",
    "    return lst\n",
    "\n",
    "\n",
    "print(swap_places([1, 2, 3]))\n",
    "print(swap_places([1, 2, 3, 4, 5]))\n",
    "print(swap_places(['н', 'л', 'о', 'с']))"
   ]
  },
  {
   "cell_type": "code",
   "execution_count": 3,
   "metadata": {},
   "outputs": [
    {
     "name": "stdout",
     "output_type": "stream",
     "text": [
      "['выхухоль', 'белка___', 'крот____']\n",
      "['aaaaa', 'aaaa_', 'aaa__', 'aa___', 'a____']\n",
      "['qweasdqweas', 'ewqqqqq____', 'rteww______', 'q__________']\n"
     ]
    }
   ],
   "source": [
    "# *Задание 3.8 \n",
    "\n",
    "# Функция для создания нового списка с дополнением строк до максимальной длины строки\n",
    "def equalize_lengths(lst):\n",
    "    # Сортируем список по длине строк в порядке убывания\n",
    "    sorted_lst = sorted(lst, key=lambda x: len(x), reverse=True)\n",
    "\n",
    "    # Определяем максимальную длину строки\n",
    "    max_len = len(sorted_lst[0])\n",
    "\n",
    "    # Создаем новый список с дополнением строк до максимальной длины строки\n",
    "    for i in range(1, len(sorted_lst)):\n",
    "        sorted_lst[i] = sorted_lst[i] + '_' * (max_len - len(sorted_lst[i]))\n",
    "\n",
    "    return sorted_lst\n",
    "\n",
    "\n",
    "print(equalize_lengths(['крот', 'белка', 'выхухоль']))\n",
    "print(equalize_lengths(['a', 'aa', 'aaa', 'aaaa', 'aaaaa']))\n",
    "print(equalize_lengths(['qweasdqweas', 'q', 'rteww', 'ewqqqqq']))"
   ]
  },
  {
   "cell_type": "markdown",
   "metadata": {},
   "source": [
    "### 4 юнит"
   ]
  },
  {
   "cell_type": "code",
   "execution_count": 8,
   "metadata": {},
   "outputs": [
    {
     "name": "stdout",
     "output_type": "stream",
     "text": [
      "1\n",
      "-1\n",
      "0\n",
      "1\n",
      "-1\n"
     ]
    }
   ],
   "source": [
    "# Задание 4.5\n",
    "\n",
    "# Функция для проверки знака числа\n",
    "def check_number_sign(number):\n",
    "    if number == 0: return number\n",
    "    return -1 if number < 0 else 1\n",
    "\n",
    "\n",
    "print(check_number_sign(5290))\n",
    "print(check_number_sign(-983))\n",
    "print(check_number_sign(0))\n",
    "print(check_number_sign(36))\n",
    "print(check_number_sign(-10))"
   ]
  },
  {
   "cell_type": "code",
   "execution_count": 17,
   "metadata": {},
   "outputs": [
    {
     "name": "stdout",
     "output_type": "stream",
     "text": [
      "19\n",
      "10.9\n",
      "-1\n",
      "10\n",
      "-6\n"
     ]
    }
   ],
   "source": [
    "# Задание 4.6\n",
    "\n",
    "# Функция для вычисления минимального числа\n",
    "def find_min_number(a, b, c):\n",
    "    if a < b:\n",
    "        if a < c: return a\n",
    "    else:\n",
    "        if b < c: return b\n",
    "    return c\n",
    "\n",
    "\n",
    "print(find_min_number(130, 122, 19))\n",
    "print(find_min_number(10.9, 12.2, 18.4))\n",
    "print(find_min_number(-1, 0, 10))\n",
    "print(find_min_number(150, 360, 10))\n",
    "print(find_min_number(15, -6, 50))"
   ]
  },
  {
   "cell_type": "code",
   "execution_count": 31,
   "metadata": {},
   "outputs": [
    {
     "name": "stdout",
     "output_type": "stream",
     "text": [
      "3\n",
      "-9\n",
      "-1\n",
      "26\n",
      "-41\n"
     ]
    }
   ],
   "source": [
    "# Задание 4.7\n",
    "\n",
    "# Функция для вычисления минимального числа\n",
    "def find_min_number(a, b, c):\n",
    "    if a < b:\n",
    "        if a < c: return a\n",
    "    else:\n",
    "        if b < c: return b\n",
    "    return c\n",
    "\n",
    "\n",
    "# Функция для вычисления суммы двух минимальных чисел\n",
    "def sum_min_numbers(a, b, c):\n",
    "    min_num_1 = find_min_number(a, b, c)    # Находим минимальное число\n",
    "\n",
    "    # Находим второе минимальное число\n",
    "    if min_num_1 == a:\n",
    "        min_num_2 = find_min_number(b, c, c)\n",
    "    elif min_num_1 == b:\n",
    "        min_num_2 = find_min_number(a, c, c)\n",
    "    elif min_num_1 == c:\n",
    "        min_num_2 = find_min_number(a, b, b)\n",
    "\n",
    "    return min_num_1 + min_num_2\n",
    "\n",
    "\n",
    "print(sum_min_numbers(1, 2, 3))\n",
    "print(sum_min_numbers(1, 2, -10))\n",
    "print(sum_min_numbers(-1, 0, 10))\n",
    "print(sum_min_numbers(10, 25, 16))\n",
    "print(sum_min_numbers(-10, -25, -16))"
   ]
  },
  {
   "cell_type": "code",
   "execution_count": 36,
   "metadata": {},
   "outputs": [
    {
     "name": "stdout",
     "output_type": "stream",
     "text": [
      "5.25\n",
      "Zero division error!\n",
      "None\n",
      "6.0\n",
      "Zero division error!\n",
      "None\n"
     ]
    }
   ],
   "source": [
    "# Задание 4.8\n",
    "\n",
    "# Функция деления с отловом деления на 0\n",
    "def division(a, b):\n",
    "    try:\n",
    "        c = a / b\n",
    "    except ZeroDivisionError:\n",
    "        print('Zero division error!')\n",
    "        return\n",
    "    return c\n",
    "\n",
    "\n",
    "print(division(189, 36))\n",
    "print(division(1, 0))\n",
    "print(division(36, 6))\n",
    "print(division(36, 0))"
   ]
  },
  {
   "cell_type": "code",
   "execution_count": 38,
   "metadata": {},
   "outputs": [
    {
     "name": "stdout",
     "output_type": "stream",
     "text": [
      "300.5\n",
      "65.7\n",
      "-64.1\n",
      "0.7\n",
      "1023\n"
     ]
    }
   ],
   "source": [
    "# Задание 4.9\n",
    "\n",
    "def get_prediction(x1, x2):\n",
    "    if x1 < 20:\n",
    "        if x2 < 200: return 300.5\n",
    "        return 65.7\n",
    "    else:\n",
    "        if x2 < 170:\n",
    "            if x1 < 40: return -64.1\n",
    "            return 0.7\n",
    "        return 1023\n",
    "\n",
    "\n",
    "print(get_prediction(x1=15, x2=150))\n",
    "print(get_prediction(x1=15, x2=350))\n",
    "print(get_prediction(x1=35, x2=100))\n",
    "print(get_prediction(x1=175, x2=100))\n",
    "print(get_prediction(x1=175, x2=200))"
   ]
  },
  {
   "cell_type": "markdown",
   "metadata": {},
   "source": [
    "### 5 юнит"
   ]
  },
  {
   "cell_type": "code",
   "execution_count": 42,
   "metadata": {},
   "outputs": [
    {
     "name": "stdout",
     "output_type": "stream",
     "text": [
      "[4, 4.2, 42.2, -3.4, -5.2]\n",
      "[42.2]\n",
      "[]\n",
      "[42.2, -5.2]\n"
     ]
    }
   ],
   "source": [
    "# Задание 5.4\n",
    "\n",
    "# Функция возвращающая новый список, в котором содержатся \n",
    "# только те числа, которые больше n по модулю\n",
    "def more_than_n(lst, n):\n",
    "    result = []\n",
    "    for x in lst:\n",
    "        if abs(x) > n:\n",
    "            result.append(x)\n",
    "    return result\n",
    "\n",
    "\n",
    "print(more_than_n([-1, 4, 4.2, 42.2, -3.4, -5.2], 3))\n",
    "print(more_than_n([-1, 4, 4.2, 42.2, -3.4, -5.2], 10))\n",
    "print(more_than_n([], 10))\n",
    "print(more_than_n([-1, 4, 4.2, 42.2, -3.4, -5.2], 5))"
   ]
  },
  {
   "cell_type": "code",
   "execution_count": 65,
   "metadata": {},
   "outputs": [
    {
     "name": "stdout",
     "output_type": "stream",
     "text": [
      "True\n",
      "False\n",
      "True\n",
      "True\n"
     ]
    }
   ],
   "source": [
    "# Задание 5.5\n",
    "\n",
    "# Функция проверки счастливого билета\n",
    "def lucky_ticket(num):\n",
    "    # Переводим число в строку и вычисляем индекс половины числа\n",
    "    num_str = str(num)\n",
    "    num_half_length = int(len(num_str)/2)\n",
    "\n",
    "    # Разбиваем число на две части\n",
    "    first_part = num_str[:num_half_length]\n",
    "    second_part = num_str[num_half_length:]\n",
    "\n",
    "    # Считаем сумму цифр в каждой части\n",
    "    sum_first_part, sum_second_part = 0, 0\n",
    "\n",
    "    for x in first_part:\n",
    "        sum_first_part += int(x)\n",
    "    \n",
    "    for x in second_part:\n",
    "        sum_second_part += int(x)\n",
    "\n",
    "    # Сравниваем суммы\n",
    "    return sum_first_part == sum_second_part\n",
    "\n",
    "\n",
    "print(lucky_ticket(111111))\n",
    "print(lucky_ticket(123456))\n",
    "print(lucky_ticket(464464))\n",
    "print(lucky_ticket(515740))"
   ]
  },
  {
   "cell_type": "code",
   "execution_count": 68,
   "metadata": {},
   "outputs": [
    {
     "name": "stdout",
     "output_type": "stream",
     "text": [
      "2\n",
      "2\n",
      "6\n",
      "0\n"
     ]
    }
   ],
   "source": [
    "# Задание 5.6\n",
    "\n",
    "# Функция для подсчета количества дырок в числе\n",
    "def holes_count(number):\n",
    "    result = 0\n",
    "    for x in str(number):\n",
    "        if int(x) == 8:\n",
    "            result += 2\n",
    "        if int(x) in [0, 4, 6]:\n",
    "            result += 1\n",
    "    return result\n",
    "\n",
    "\n",
    "print(holes_count(8))\n",
    "print(holes_count(146))\n",
    "print(holes_count(84628))\n",
    "print(holes_count(17111))"
   ]
  },
  {
   "cell_type": "code",
   "execution_count": 73,
   "metadata": {},
   "outputs": [
    {
     "name": "stdout",
     "output_type": "stream",
     "text": [
      "5\n",
      "5\n",
      "5\n"
     ]
    }
   ],
   "source": [
    "# Задание 5.7\n",
    "\n",
    "# Функция для подсчета количества четных чисел в матрице\n",
    "def even_numbers_in_matrix(matrix):\n",
    "    result = 0\n",
    "    for row in matrix:\n",
    "        for value in row:\n",
    "            if value%2 == 0:\n",
    "                result += 1\n",
    "    return result\n",
    "\n",
    "\n",
    "matrix_example = [[1, 5, 4], [4, 2, -2], [7, 65, 88]]\n",
    "print(even_numbers_in_matrix(matrix=matrix_example))\n",
    "\n",
    "matrix = [[1, 5, 1], [1, 3, -1], [7, 65, 1]]\n",
    "print(even_numbers_in_matrix(matrix=matrix_example))\n",
    "\n",
    "matrix = [[12, 50, 10], [10, 30, -10], [70, 6, 10]]\n",
    "print(even_numbers_in_matrix(matrix=matrix_example))"
   ]
  },
  {
   "cell_type": "code",
   "execution_count": 91,
   "metadata": {},
   "outputs": [
    {
     "name": "stdout",
     "output_type": "stream",
     "text": [
      "[[2, 10, 8], [8, 4, -4], [14, 130, 176]]\n",
      "\n",
      "Error! Matrices dimensions are different!\n",
      "None\n",
      "\n",
      "Error! Matrices dimensions are different!\n",
      "None\n",
      "\n",
      "Error! Matrices dimensions are different!\n",
      "None\n"
     ]
    }
   ],
   "source": [
    "# *Задание 5.8\n",
    "\n",
    "# Функция для подсчета суммы элементов двух матриц\n",
    "def matrix_sum(matrix1, matrix2):\n",
    "\n",
    "    # Функция для проверки совпадения размеров матриц\n",
    "    def get_matrix_dimension(matrix):\n",
    "        return len(matrix), len(matrix[0])\n",
    "\n",
    "    # Получение размеров матриц\n",
    "    matrix1_dimension = get_matrix_dimension(matrix1)\n",
    "    matrix2_dimension = get_matrix_dimension(matrix2)\n",
    "\n",
    "    # Если размеры матриц НЕ совпадают, то выводим ошибку\n",
    "    if matrix1_dimension != matrix2_dimension:\n",
    "        print('Error! Matrices dimensions are different!')\n",
    "        return\n",
    "    \n",
    "    result = []     # Результирующая матрица\n",
    "\n",
    "    # Складываем матрицы\n",
    "    for i in range(matrix1_dimension[0]):\n",
    "        row = []            # Строка результирующей матрицы\n",
    "        for j in range(matrix1_dimension[1]):\n",
    "            row.append(matrix1[i][j] + matrix2[i][j])\n",
    "        result.append(row)  # Добавляем строку в результирующую матрицу\n",
    "    \n",
    "    return result   # Возвращаем результат\n",
    "\n",
    "\n",
    "matrix_example = [[1, 5, 4], [4, 2, -2], [7, 65, 88]]\n",
    "print(matrix_sum(matrix_example, matrix_example), end='\\n\\n')\n",
    "\n",
    "matrix1_example = [[1, 5, 4], [4, 2, -2]]\n",
    "matrix2_example = [[10, 15, 43], [41, 2, -2], [7, 5, 7]]\n",
    "print(matrix_sum(matrix1_example, matrix2_example), end='\\n\\n')\n",
    "\n",
    "matrix1_example = [[1, 5, 4, 5], [4, 2, -2, -5], [4, 2, -2, -5]]\n",
    "matrix2_example = [[10, 15, 43], [41, 2, -2], [7, 5, 7]]\n",
    "print(matrix_sum(matrix1_example, matrix2_example), end='\\n\\n')\n",
    "\n",
    "matrix1_example = [[1, 1, 1, 1], [1, 1, 1, 1], [1, 1, 1, 1]]\n",
    "matrix2_example = [[1, 1, 1, 1], [1, 1, 1, 1], [1, 1, 1, 1], [1, 1, 1, 1]]\n",
    "print(matrix_sum(matrix1_example, matrix2_example))"
   ]
  },
  {
   "cell_type": "markdown",
   "metadata": {},
   "source": [
    "### 6 юнит"
   ]
  },
  {
   "cell_type": "code",
   "execution_count": 105,
   "metadata": {},
   "outputs": [
    {
     "name": "stdout",
     "output_type": "stream",
     "text": [
      "age: 28\n",
      "first_name: John\n",
      "last_name: Doe\n",
      "position: Python developer\n",
      "age: 32\n",
      "first_name: Jack\n",
      "last_name: Smith\n",
      "position: Project manager\n",
      "work_experience: 5 years\n",
      "first_name: Jack\n",
      "last_name: Smith\n"
     ]
    }
   ],
   "source": [
    "# Задание 6.5\n",
    "\n",
    "# Функция для вывода информации\n",
    "def print_personal_data(**kwargs):\n",
    "    kwargs_sorted = dict(sorted(kwargs.items()))\n",
    "    for key in kwargs_sorted:\n",
    "        print(f'{key}: {kwargs_sorted[key]}')\n",
    "\n",
    "\n",
    "print_personal_data(first_name='John', last_name='Doe', age=28, position='Python developer')\n",
    "print_personal_data(first_name='Jack', last_name='Smith', age=32, work_experience = '5 years', position='Project manager')\n",
    "print_personal_data(first_name = 'Jack', last_name = 'Smith')"
   ]
  },
  {
   "cell_type": "code",
   "execution_count": 115,
   "metadata": {},
   "outputs": [
    {
     "name": "stdout",
     "output_type": "stream",
     "text": [
      "['arrakis', 'the', 'planet', 'known', 'as', 'dune', 'is', 'forever', 'his', 'place']\n",
      "['для', 'начала', 'необходимо', 'задать', 'ограничение', 'на', 'тип', 'переменных', 'в', 'нашем', 'случае', 'предполагаются', 'строго', 'ключевые', 'аргументы', 'также', 'по', 'условию', 'сказано', 'что', 'переменных', 'может', 'быть', 'от', 'одной', 'до', 'трех', 'поэтому', 'двум', 'последним', 'параметрам', 'присваиваем', 'дефолтное', 'значение', 'none']\n",
      "['afjk', '7fs']\n"
     ]
    }
   ],
   "source": [
    "# Задание 6.6\n",
    "\n",
    "# Функция для очистки и подготовки текста\n",
    "def get_words_list(text):\n",
    "    punctuation_list = ['.', ',', ';', ':', '...', '!', '?', '-', '\"', '(', ')']\n",
    "    text = text.lower()     # Переводим текст в нижний регистр\n",
    "\n",
    "    # Удаляем знаки пунктуации\n",
    "    for punctuation in punctuation_list:\n",
    "        text = text.replace(punctuation, '')\n",
    "\n",
    "    return text.split()     # Возвращаем список слов\n",
    "\n",
    "\n",
    "text_example = \"Arrakis, the planet known as Dune, is forever his place.\"\n",
    "print(get_words_list(text=text_example))\n",
    "\n",
    "text_example = 'Для начала необходимо задать ограничение на тип \\\n",
    "    переменных (в нашем случае предполагаются строго ключевые аргументы). \\\n",
    "    Также, по условию сказано, что переменных может быть от одной до трех. \\\n",
    "    Поэтому двум последним параметрам присваиваем дефолтное значение None.'\n",
    "print(get_words_list(text=text_example))\n",
    "\n",
    "text_example = \"(afjk?.,! 7FS-,...,;()\"\n",
    "print(get_words_list(text=text_example))"
   ]
  },
  {
   "cell_type": "code",
   "execution_count": 124,
   "metadata": {},
   "outputs": [
    {
     "name": "stdout",
     "output_type": "stream",
     "text": [
      "['and', 'arrakis', 'as', 'be', 'born', 'by', 'caladan', 'care', 'deceived', 'do', 'dune', 'fact', 'fifteen', 'first', 'forever', 'he', 'his', 'in', 'is', 'known', 'lived', 'locate', 'most', \"muad'dib\", 'not', 'on', 'place', 'planet', 'special', 'take', 'that', 'the', 'there', 'was', 'years', 'you']\n",
      "['diesel', 'gas']\n"
     ]
    }
   ],
   "source": [
    "# Задание 6.7\n",
    "\n",
    "# Функция возвращающая список уникальных слов\n",
    "# отсортированный по алфавиту\n",
    "def get_unique_words(words_list):\n",
    "    return sorted(list(set(words_list)))\n",
    "\n",
    "\n",
    "words_list_example = [\n",
    "    'and', 'take', 'the', 'most', 'special', 'care', 'that',\n",
    "    'you', 'locate', \"muad'dib\", 'in', 'his', 'place', 'the',\n",
    "    'planet', 'arrakis', 'do', 'not', 'be', 'deceived', 'by',\n",
    "    'the', 'fact', 'that', 'he', 'was', 'born', 'on', 'caladan',\n",
    "    'and', 'lived', 'his', 'first', 'fifteen', 'years', 'there',\n",
    "    'arrakis', 'the', 'planet', 'known', 'as', 'dune', 'is',\n",
    "    'forever', 'his', 'place']\n",
    "print(get_unique_words(words_list=words_list_example))\n",
    "\n",
    "words_list_example = [\n",
    "    'gas', 'diesel', 'diesel', 'gas', 'gas',\n",
    "    'gas', 'gas', 'gas', 'gas', 'gas']\n",
    "print(get_unique_words(words_list=words_list_example))"
   ]
  },
  {
   "cell_type": "code",
   "execution_count": 138,
   "metadata": {},
   "outputs": [
    {
     "name": "stdout",
     "output_type": "stream",
     "text": [
      "the\n",
      "и\n"
     ]
    }
   ],
   "source": [
    "# Задание 6.8\n",
    "\n",
    "# Функция возвращающая самое упоминаемое слово\n",
    "def get_most_frequent_word(text):\n",
    "\n",
    "    # Функция для очистки и подготовки текста\n",
    "    def get_words_list(text):\n",
    "        punctuation_list = ['.', ',', ';', ':', '...', '!', '?', '-', '\"', '(', ')']\n",
    "        text = text.lower()     # Переводим текст в нижний регистр\n",
    "\n",
    "        # Удаляем знаки пунктуации\n",
    "        for punctuation in punctuation_list:\n",
    "            text = text.replace(punctuation, '')\n",
    "\n",
    "        return text.split()     # Возвращаем список слов\n",
    "    \n",
    "\n",
    "    # Функция возвращающая список уникальных слов\n",
    "    # отсортированный по алфавиту\n",
    "    def get_unique_words(words_list):\n",
    "        return sorted(list(set(words_list)))\n",
    "    \n",
    "\n",
    "    text_cleaned = get_words_list(text)                  # Очищаем текст\n",
    "    text_unique_list = get_unique_words(text_cleaned)    # Получаем список уникальных слова\n",
    "\n",
    "    result = {}                                          # Результирующий словарь\n",
    "\n",
    "    # Считаем количество каждого слова в текст\n",
    "    for word in text_unique_list:\n",
    "        result[word] = text_cleaned.count(word)\n",
    "\n",
    "    # Сортируем словарь по самому упоминаемому слову\n",
    "    result_sorted = sorted(result.items(), key=lambda x: x[1], reverse=True)\n",
    "\n",
    "    return result_sorted[0][0]                          # Возвращаем самое упоминаемое слово\n",
    "\n",
    "\n",
    "\n",
    "text_example = \"A beginning is the time for taking the most delicate care that the balances \\\n",
    "    are correct. This every sister of the Bene Gesserit knows. To begin your study of the \\\n",
    "    life of Muad'Dib, then take care that you first place him in his time: born in the 57th \\\n",
    "    year of the Padishah Emperor, Shaddam IV. And take the most special care that you locate \\\n",
    "    Muad'Dib in his place: the planet Arrakis. Do not be deceived by the fact that he was born \\\n",
    "    on Caladan and lived his first fifteen years there. Arrakis, the planet known as Dune, is \\\n",
    "    forever his place.\"\n",
    "print(get_most_frequent_word(text_example))\n",
    "\n",
    "text_example = \"Есть урок, который идет не сорок пять минут, а всю жизнь. Этот урок проходит \\\n",
    "    и в классе, и в поле, и дома, и в лесу. Я назвал этот урок седьмым потому, что в школе \\\n",
    "    обычно бывает не больше шести уроков. Не удивляйтесь, если я скажу, что учителем на этом \\\n",
    "    уроке может быть и береза возле вашего дома, и бабушка, и вы сами (В. Песков)\"\n",
    "print(get_most_frequent_word(text_example))\n"
   ]
  },
  {
   "cell_type": "code",
   "execution_count": 158,
   "metadata": {},
   "outputs": [
    {
     "name": "stdout",
     "output_type": "stream",
     "text": [
      "[('Amanda', 37, 78, 67, 182), ('Marcos', 79, 67, 89, 235), ('Dmitry', 67, 68, 100, 235), ('Patricia', 78, 93, 68, 239), ('Andrey', 100, 78, 76, 254), ('Victoria', 93, 69, 96, 258)]\n",
      "[('Dmitry', 15, 93, 16, 124), ('Patricia', 35, 36, 78, 149), ('Marcos', 56, 35, 78, 169), ('Kirill', 56, 24, 98, 178), ('Amanda', 100, 45, 94, 239), ('Victoria', 97, 84, 97, 278), ('Andrey', 100, 100, 100, 300)]\n"
     ]
    }
   ],
   "source": [
    "# Задание 6.9\n",
    "\n",
    "# Функция для подсчета общего балла и возвращении\n",
    "# данных в отсортированном виде\n",
    "def get_total_score(data):\n",
    "    # Функция для подсчета общего балла\n",
    "    map_lambda = lambda x: (*x, x[1] + x[2] + x[3])\n",
    "\n",
    "    # Добавляем общий балл к каждой записи\n",
    "    data = list(map(map_lambda, data))\n",
    "\n",
    "    # Сортируем данные по общему баллу\n",
    "    data.sort(key=lambda x: x[4])\n",
    "\n",
    "    return data\n",
    "        \n",
    "\n",
    "data = [\n",
    "    ('Amanda', 37, 78, 67), ('Patricia', 78, 93, 68),\n",
    "    ('Marcos', 79, 67, 89), ('Dmitry', 67, 68, 100),\n",
    "    ('Andrey', 100, 78, 76), ('Victoria', 93, 69, 96)]\n",
    "print(get_total_score(data))\n",
    "\n",
    "data = [\n",
    "    ('Amanda', 100, 45, 94), ('Patricia', 35, 36, 78),\n",
    "    ('Marcos', 56, 35, 78), ('Dmitry', 15, 93, 16),\n",
    "    ('Andrey', 100, 100, 100), ('Victoria', 97, 84, 97),\n",
    "    ('Kirill', 56, 24, 98)]\n",
    "print(get_total_score(data))"
   ]
  },
  {
   "cell_type": "code",
   "execution_count": 224,
   "metadata": {},
   "outputs": [
    {
     "name": "stdout",
     "output_type": "stream",
     "text": [
      "['vid001', 'vid002', 'vid003', 'vid004', 'vid005', 'vid006', 'vid007', 'vid008', 'vid009', 'vid010']\n"
     ]
    }
   ],
   "source": [
    "# *Задание 6.10\n",
    "\n",
    "# Рекурсивная функция извлечения значения по ключу\n",
    "# из данных сложной (почти любой) вложенности\n",
    "def find_video(data):\n",
    "\n",
    "    result = []         # Результирующий список\n",
    "\n",
    "    # Если данные словарь,\n",
    "    if isinstance(data, dict):\n",
    "\n",
    "        # проверяем наличие ключа и вносим его в результаты\n",
    "        if 'videoID' in data:\n",
    "            result.append(data['videoID'])\n",
    "\n",
    "        # Рекурсивно обрабатываем вложенные элементы\n",
    "        for key, value in data.items():\n",
    "            if isinstance(value, (dict, list)):\n",
    "                result.extend(find_video(data[key]))\n",
    "\n",
    "    # Если данные список,\n",
    "    if isinstance(data, list):\n",
    "        for item in data:\n",
    "            # рекурсивно проходим по каждому элементу\n",
    "            result.extend(find_video(item))\n",
    "\n",
    "    return result\n",
    "\n",
    "\n",
    "\n",
    "data = {\n",
    "    \"type\": \"video\",\n",
    "    \"videoID\": \"vid001\",\n",
    "    \"links\": [\n",
    "        {\"type\":\"video\", \"videoID\":\"vid002\", \"links\":[]},\n",
    "        {   \"type\":\"video\",\n",
    "            \"videoID\":\"vid003\",\n",
    "            \"links\": [\n",
    "            {\"type\": \"video\", \"videoID\":\"vid004\"},\n",
    "            {\"type\": \"video\", \"videoID\":\"vid005\"},\n",
    "            ]\n",
    "        },\n",
    "        {\"type\":\"video\", \"videoID\":\"vid006\"},\n",
    "        {   \"type\":\"video\",\n",
    "            \"videoID\":\"vid007\",\n",
    "            \"links\": [\n",
    "            {\"type\":\"video\", \"videoID\":\"vid008\", \"links\": [\n",
    "                {   \"type\":\"video\",\n",
    "                    \"videoID\":\"vid009\",\n",
    "                    \"links\": [{\"type\":\"video\", \"videoID\":\"vid010\"}]\n",
    "                }\n",
    "            ]}\n",
    "        ]},\n",
    "    ]\n",
    "}\n",
    "\n",
    "print(find_video(data))"
   ]
  },
  {
   "cell_type": "code",
   "execution_count": 225,
   "metadata": {},
   "outputs": [
    {
     "name": "stdout",
     "output_type": "stream",
     "text": [
      "['vid001', 'vid002', 'vid003', 'vid004', 'vid005', 'vid006', 'vid07']\n"
     ]
    }
   ],
   "source": [
    "data = {\n",
    "    'type': 'video',\n",
    "    'links': [\n",
    "        {\n",
    "            'type': 'video',\n",
    "            'videoID': 'vid001',\n",
    "            'links': [\n",
    "                {'type': 'video', 'videoID': 'vid002'},\n",
    "                {'type': 'video', 'videoID': 'vid003'}\n",
    "            ]\n",
    "        },\n",
    "        {\n",
    "            'type': 'video',\n",
    "            'videoID': 'vid004',\n",
    "            'links': [\n",
    "                {\n",
    "                    'type': 'video',\n",
    "                    'videoID': 'vid005',\n",
    "                    'links': [\n",
    "                        {\n",
    "                            'type': 'video',\n",
    "                            'videoID': 'vid006',\n",
    "                            'links': [\n",
    "                                {'type': 'video', 'videoID': 'vid07'}\n",
    "                            ]\n",
    "                        }\n",
    "                    ]\n",
    "                }\n",
    "            ]\n",
    "        }\n",
    "    ]\n",
    "}\n",
    "\n",
    "print(find_video(data))"
   ]
  },
  {
   "cell_type": "markdown",
   "metadata": {},
   "source": [
    "### 7 юнит"
   ]
  },
  {
   "cell_type": "code",
   "execution_count": 227,
   "metadata": {},
   "outputs": [],
   "source": [
    "\"\"\"\n",
    "значения списков (последовательно):\n",
    "    - закупочная цена (рублей за 100 грамм);\n",
    "    - максимальный объём производства (килограммов в месяц);\n",
    "    - жирность (в процентах);\n",
    "    - тип.\n",
    "\"\"\"\n",
    "\n",
    "cheese_data = {\n",
    "    'чеддер': [370, 5000, 33, 'твердый'],\n",
    "    'пармезан': [510, 4000, 29, 'твердый'],\n",
    "    'гауда': [250, 3700, 27, 'полутвердый'],\n",
    "    'эдам': [220, 10000, 30, 'полутвердый'],\n",
    "    'горгонзола': [320, 3000, 32, 'полумягкий'],\n",
    "    'рокфор': [340, 15000, 31, 'полумягкий'],\n",
    "    'стилтон': [360, 7000, 35, 'полумягкий'],\n",
    "    'камамбер': [250, 8000, 24, 'мягкий'],\n",
    "    'бри': [310, 6500, 28, 'мягкий'],\n",
    "}"
   ]
  },
  {
   "cell_type": "code",
   "execution_count": 237,
   "metadata": {},
   "outputs": [
    {
     "name": "stdout",
     "output_type": "stream",
     "text": [
      "{'пармезан': 29, 'гауда': 27, 'камамбер': 24, 'бри': 28}\n",
      "{'камамбер': 24}\n",
      "{'камамбер': 24}\n"
     ]
    }
   ],
   "source": [
    "# Задание 7.1\n",
    "\n",
    "# Функция для фильтрации данных по жирности\n",
    "def filter_by_fat(data, n):\n",
    "    result = {}                 # Результирующий словарь\n",
    "\n",
    "    # Проходим по каждому элементу словаря\n",
    "    for key in data:\n",
    "        fat = data[key][2]      # Получаем жирность\n",
    "        if fat < n:             # Если жирность меньше n\n",
    "            result[key] = fat   # Добавляем в результирующий словарь\n",
    "    \n",
    "    return result\n",
    "\n",
    "\n",
    "print(filter_by_fat(cheese_data, n=30))\n",
    "print(filter_by_fat(cheese_data, n=25))\n",
    "print(filter_by_fat(cheese_data, n=27))"
   ]
  },
  {
   "cell_type": "code",
   "execution_count": 250,
   "metadata": {},
   "outputs": [
    {
     "name": "stdout",
     "output_type": "stream",
     "text": [
      "196100000\n"
     ]
    }
   ],
   "source": [
    "# Задание 7.2\n",
    "\n",
    "# Функция для подсчета общего дохода за месяц\n",
    "def count_money(data):\n",
    "    result = 0      # Общий доход\n",
    "\n",
    "    # Проходим по каждому элементу словаря\n",
    "    for key in data:\n",
    "        price = data[key][0] * 10          # Получаем цену за кг\n",
    "        max_production = data[key][1]      # Получаем максимальный объем производства в кг\n",
    "\n",
    "        # Считаем общий доход\n",
    "        result += int(price * max_production)\n",
    "    \n",
    "    return result\n",
    "\n",
    "\n",
    "print(count_money(cheese_data))"
   ]
  },
  {
   "cell_type": "code",
   "execution_count": 262,
   "metadata": {},
   "outputs": [
    {
     "name": "stdout",
     "output_type": "stream",
     "text": [
      "['камамбер', 'бри']\n",
      "['горгонзола', 'рокфор', 'стилтон']\n",
      "['чеддер', 'пармезан']\n"
     ]
    }
   ],
   "source": [
    "# Задание 7.3\n",
    "\n",
    "# Функция вывода списка сыров запрещенного типа\n",
    "def find_cheese_type(data, cheese_type):\n",
    "    # Фильтруем данные (кортежи) по типу сыра, \n",
    "    # результат конвертируем обратно в словарь\n",
    "    data_filtered = dict(filter(lambda x: x[1][3] == cheese_type, data.items()))\n",
    "\n",
    "    # Возвращаем названия сыров в виде списка\n",
    "    return list(data_filtered.keys())\n",
    "\n",
    "\n",
    "print(find_cheese_type(cheese_data, cheese_type='мягкий'))\n",
    "print(find_cheese_type(cheese_data, cheese_type='полумягкий'))\n",
    "print(find_cheese_type(cheese_data, cheese_type='твердый'))"
   ]
  },
  {
   "cell_type": "code",
   "execution_count": 279,
   "metadata": {},
   "outputs": [
    {
     "name": "stdout",
     "output_type": "stream",
     "text": [
      "['эдам', 'гауда', 'камамбер', 'бри', 'горгонзола', 'рокфор', 'стилтон', 'чеддер', 'пармезан']\n",
      "['камамбер', 'стилтон', 'эдам', 'гауда', 'горгонзола', 'чеддер', 'рокфор', 'пармезан']\n",
      "['чеддер', 'горгонзола', 'стилтон', 'рокфор', 'пармезан', 'эдам', 'гауда', 'камамбер', 'бри']\n"
     ]
    }
   ],
   "source": [
    "# Задание 7.4\n",
    "\n",
    "# Функция для сортировки сыров по цене\n",
    "def sort_cheese(data):\n",
    "    # Сортируем данные (кортежи) по цене,\n",
    "    # результат конвертируем обратно в словарь\n",
    "    data_sorted = dict(sorted(data.items(), key=lambda x: x[1][0]))\n",
    "\n",
    "    # Возвращаем названия сыров в виде списка\n",
    "    return list(data_sorted.keys())\n",
    "\n",
    "\n",
    "print(sort_cheese({\n",
    "    'чеддер': [370, 5000, 33, 'твердый'], 'пармезан': [510, 4000, 29, 'твердый'],\n",
    "    'гауда': [250, 3700, 27, 'полутвердый'], 'эдам': [220, 10000, 30, 'полутвердый'],\n",
    "    'горгонзола': [320, 3000, 32, 'полумягкий'], 'рокфор': [340, 15000, 31, 'полумягкий'],\n",
    "    'стилтон': [360, 7000, 35, 'полумягкий'], 'камамбер': [250, 8000, 24, 'мягкий'],\n",
    "    'бри': [310, 6500, 28, 'мягкий']}))\n",
    "\n",
    "print(sort_cheese({\n",
    "    'чеддер': [400, 5000, 33, 'твердый'], 'пармезан': [540, 4000, 29, 'твердый'],\n",
    "    'гауда': [270, 3700, 27, 'полутвердый'], 'эдам': [250, 10000, 30, 'полутвердый'],\n",
    "    'горгонзола': [300, 3000, 32, 'полумягкий'], 'рокфор': [478, 15000, 31, 'полумягкий'],\n",
    "    'стилтон': [245, 7000, 35, 'полумягкий'], 'камамбер': [200, 8000, 24, 'мягкий']}))\n",
    "\n",
    "print(sort_cheese({\n",
    "    'чеддер': [10, 5000, 33, 'твердый'], 'пармезан': [20, 4000, 29, 'твердый'],\n",
    "    'гауда': [25, 3700, 27, 'полутвердый'], 'эдам': [22, 10000, 30, 'полутвердый'],\n",
    "    'горгонзола': [10, 3000, 32, 'полумягкий'], 'рокфор': [15, 15000, 31, 'полумягкий'],\n",
    "    'стилтон': [10, 7000, 35, 'полумягкий'], 'камамбер': [30, 8000, 24, 'мягкий'],\n",
    "    'бри': [50, 6500, 28, 'мягкий']}))"
   ]
  },
  {
   "cell_type": "code",
   "execution_count": 292,
   "metadata": {},
   "outputs": [
    {
     "name": "stdout",
     "output_type": "stream",
     "text": [
      "Ваш заказ оформлен верно\n",
      "Вы продублировали ингредиент бактерии в заказе 2 раз(а)\n",
      "Вы продублировали ингредиент молоко коровье в заказе 3 раз(а)\n",
      "Вы продублировали ингредиент молоко овечье в заказе 2 раз(а)\n",
      "Вы продублировали ингредиент соль в заказе 3 раз(а)\n"
     ]
    }
   ],
   "source": [
    "# Задание 7.5\n",
    "\n",
    "# Функция для проверки уникальности ингридиентов в списке покупок\n",
    "def purchase(ingredients):\n",
    "\n",
    "    # Проверяем наличие дубликатов\n",
    "    if len(ingredients) == len(set(ingredients)):\n",
    "        print('Ваш заказ оформлен верно')\n",
    "        return\n",
    "\n",
    "    # Считаем количество каждого ингридиента, если дубли есть\n",
    "    result = {}     # Результирующий словарь\n",
    "\n",
    "    # Считаем количество каждого ингридиента\n",
    "    for item in ingredients:\n",
    "        if item not in result:\n",
    "            result[item] = 1\n",
    "        else:\n",
    "            result[item] += 1\n",
    "\n",
    "    # Выводим информацию о дубликатах\n",
    "    for key in result:\n",
    "        if result[key] > 1:\n",
    "            print(f'Вы продублировали ингредиент {key} в заказе {result[key]} раз(а)')\n",
    "\n",
    "\n",
    "ingredients = [\n",
    "    'кислота уксусная', 'кислота лимонная', 'закваска', 'кислота молочная',\n",
    "    'пряность', 'бактерии', 'аннато', 'кальций', 'калий', 'специя',\n",
    "    'молоко коровье', 'молоко овечье', 'фермент', 'соль', 'сливки', 'грибки',\n",
    "    'ароматизатор', 'молоко козье', 'дрожжи', 'каротин']\n",
    "purchase(ingredients)\n",
    "\n",
    "ingredients = ['молоко коровье', 'молоко овечье', 'бактерии', 'молоко козье',\n",
    "               'сливки', 'фермент', 'закваска', 'молоко коровье', 'соль',\n",
    "               'молоко коровье', 'бактерии', 'молоко овечье', 'кислота лимонная',\n",
    "               'грибки', 'соль', 'дрожжи', 'кислота уксусная', 'кальций',\n",
    "               'калий', 'каротин', 'аннато', 'специя', 'пряность', 'ароматизатор',\n",
    "               'соль', 'кислота молочная']\n",
    "purchase(ingredients)"
   ]
  }
 ],
 "metadata": {
  "kernelspec": {
   "display_name": "base",
   "language": "python",
   "name": "python3"
  },
  "language_info": {
   "codemirror_mode": {
    "name": "ipython",
    "version": 3
   },
   "file_extension": ".py",
   "mimetype": "text/x-python",
   "name": "python",
   "nbconvert_exporter": "python",
   "pygments_lexer": "ipython3",
   "version": "3.12.7"
  }
 },
 "nbformat": 4,
 "nbformat_minor": 2
}
