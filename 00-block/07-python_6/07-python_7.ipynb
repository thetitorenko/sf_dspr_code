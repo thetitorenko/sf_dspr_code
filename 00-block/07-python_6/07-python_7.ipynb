{
 "cells": [
  {
   "cell_type": "markdown",
   "metadata": {},
   "source": [
    "### 2 юнит"
   ]
  },
  {
   "cell_type": "code",
   "execution_count": 4,
   "metadata": {},
   "outputs": [
    {
     "data": {
      "text/plain": [
       "'Python'"
      ]
     },
     "execution_count": 4,
     "metadata": {},
     "output_type": "execute_result"
    }
   ],
   "source": [
    "# Задание 2.4\n",
    "\n",
    "python_string = 'Hello! My name is Python. I will help you to analyze some data.'\n",
    "\n",
    "python_string[18:24]"
   ]
  },
  {
   "cell_type": "code",
   "execution_count": 10,
   "metadata": {},
   "outputs": [
    {
     "name": "stdout",
     "output_type": "stream",
     "text": [
      "389017\n"
     ]
    }
   ],
   "source": [
    "# Задание 2.5\n",
    "\n",
    "python_string = 'Hello! My name is Python. I will help you to analyze some data.'\n",
    "# python_string = 'Привет! Меня зовут Питон. Я помогу вам проанализировать некоторые данные.'\n",
    "\n",
    "\n",
    "result = len(python_string)**3\n",
    "\n",
    "\n",
    "print(result)"
   ]
  },
  {
   "cell_type": "code",
   "execution_count": 16,
   "metadata": {},
   "outputs": [
    {
     "name": "stdout",
     "output_type": "stream",
     "text": [
      "7.0\n"
     ]
    }
   ],
   "source": [
    "# Задание 2.6\n",
    "\n",
    "predicted_time = 67.321\n",
    "real_time = 59.839\n",
    "\n",
    "# predicted_time = 38.873\n",
    "# real_time = 26.124\n",
    "\n",
    "\n",
    "absolute_error = round(abs(predicted_time-real_time), 0)\n",
    "\n",
    "\n",
    "print(absolute_error)"
   ]
  },
  {
   "cell_type": "code",
   "execution_count": 24,
   "metadata": {},
   "outputs": [
    {
     "name": "stdout",
     "output_type": "stream",
     "text": [
      "27\n"
     ]
    }
   ],
   "source": [
    "# Задание 2.7\n",
    "\n",
    "input_string = 'Hello! My name is Python. I will help you to analyze some data.'\n",
    "# input_string = 'There are many great articles about Artificial Intelligence and \\\n",
    "#     its benefits for business and society. However, many of these articles are too \\\n",
    "#     technical for the average reader.'\n",
    "\n",
    "\n",
    "# Удаление символы пунктуации из строки\n",
    "input_string_cleaned = input_string.replace('.', '').replace(',', ''). \\\n",
    "    replace('!', '').replace('?', '')\n",
    "\n",
    "# Подсчет кол-ва слов в строке\n",
    "count_words = len(input_string_cleaned.split())\n",
    "\n",
    "\n",
    "print(count_words)"
   ]
  },
  {
   "cell_type": "code",
   "execution_count": 45,
   "metadata": {},
   "outputs": [
    {
     "name": "stdout",
     "output_type": "stream",
     "text": [
      "384300 png\n"
     ]
    }
   ],
   "source": [
    "# Задание 2.8\n",
    "\n",
    "file_path = 'data/images/train/10394.jpg'\n",
    "# file_path = 'data/images/validation/748923.gif'\n",
    "# file_path = 'data/images/384300.png'\n",
    "\n",
    "\n",
    "# Разбиваем адрес и получаем последний элемент\n",
    "file_name_ext = file_path.split('/')[-1]\n",
    "\n",
    "# Разбиваем имя и расширение\n",
    "file_name, file_extension = file_name_ext.split('.')\n",
    "\n",
    "print(file_name, file_extension)"
   ]
  },
  {
   "cell_type": "code",
   "execution_count": 53,
   "metadata": {},
   "outputs": [
    {
     "name": "stdout",
     "output_type": "stream",
     "text": [
      "когда человек вводит запрос в поисковик он ищет информацию или способ решения своей задачи\n"
     ]
    }
   ],
   "source": [
    "# Задание 2.9\n",
    "\n",
    "generated_text = \"глаза нее на поднял он и она попросила что-нибудь скажи\"\n",
    "# generated_text = \"задачи своей решения способ или информацию ищет он поисковик \\\n",
    "#     в запрос вводит человек когда\"\n",
    "\n",
    "\n",
    "# Разделяем текст и переворачиваем его\n",
    "generated_text_splitted = generated_text.split()[::-1]\n",
    "\n",
    "# Объединяем текст\n",
    "updated_text = ' '.join(generated_text_splitted)\n",
    "\n",
    "\n",
    "print(updated_text)"
   ]
  },
  {
   "cell_type": "code",
   "execution_count": 56,
   "metadata": {},
   "outputs": [
    {
     "name": "stdout",
     "output_type": "stream",
     "text": [
      "Пользователь Andrey сменил пароль на 31andrey12QK\n",
      "Пользователь Vasilisk сменил пароль на uaf12laK\n"
     ]
    }
   ],
   "source": [
    "# Задание 2.10\n",
    "\n",
    "# Функция для вывода информации о смене пароля\n",
    "def change_password(user_name, new_password): \n",
    "    return f'Пользователь {user_name} сменил пароль на {new_password}'\n",
    "\n",
    "\n",
    "print(change_password('Andrey', '31andrey12QK'))\n",
    "\n",
    "print(change_password('Vasilisk', 'uaf12laK'))"
   ]
  },
  {
   "cell_type": "markdown",
   "metadata": {},
   "source": [
    "### 3 юнит"
   ]
  },
  {
   "cell_type": "code",
   "execution_count": 57,
   "metadata": {},
   "outputs": [
    {
     "name": "stdout",
     "output_type": "stream",
     "text": [
      "20000\n",
      "20000\n"
     ]
    }
   ],
   "source": [
    "# Задание 3.3\n",
    "\n",
    "employee_info = {'salary': 20000, 'prize': 1000}\n",
    "\n",
    "print(employee_info.get('salary'))\n",
    "print(employee_info['salary'])"
   ]
  },
  {
   "cell_type": "code",
   "execution_count": 62,
   "metadata": {},
   "outputs": [
    {
     "name": "stdout",
     "output_type": "stream",
     "text": [
      "{'d', 'a', 'b', 'e'}\n"
     ]
    }
   ],
   "source": [
    "# Задание 3.4\n",
    "\n",
    "symbol_set = {'a', 'b', 'c', 'd', 'e'}\n",
    "\n",
    "symbol_set.discard('c')\n",
    "# symbol_set.remove('c')\n",
    "\n",
    "print(symbol_set)"
   ]
  },
  {
   "cell_type": "code",
   "execution_count": 81,
   "metadata": {},
   "outputs": [
    {
     "name": "stdout",
     "output_type": "stream",
     "text": [
      "mean_price = 13973.9\n",
      "count_diesel = 2\n",
      "min_horsepower = 62\n"
     ]
    }
   ],
   "source": [
    "# Задание 3.5\n",
    "\n",
    "car_dict = {\n",
    "    'car_ID': [123, 117, 111, 82, 101, 96, 156, 2, 58, 49],\n",
    "    'fueltype': ['gas', 'diesel', 'diesel', 'gas', 'gas', 'gas', 'gas', 'gas', 'gas', 'gas'],\n",
    "    'horsepower': [68, 95, 95, 88, 97, 69, 62, 111, 101, 176],\n",
    "    'price': [7609.0, 17950.0, 13860.0, 8499.0, 9549.0, 7799.0, 8778.0, 16500.0, 13645.0, 35550.0]\n",
    "    }\n",
    "\n",
    "\n",
    "# Вычисляем значения\n",
    "mean_price = round(sum(car_dict['price']) / len(car_dict['price']), 1)\n",
    "count_diesel = car_dict['fueltype'].count('diesel')\n",
    "min_horsepower = min(car_dict['horsepower'])\n",
    "\n",
    "\n",
    "print(f'mean_price = {mean_price}')\n",
    "print(f'count_diesel = {count_diesel}')\n",
    "print(f'min_horsepower = {min_horsepower}')"
   ]
  },
  {
   "cell_type": "code",
   "execution_count": 87,
   "metadata": {},
   "outputs": [
    {
     "name": "stdout",
     "output_type": "stream",
     "text": [
      "True\n",
      "False\n"
     ]
    }
   ],
   "source": [
    "# Задание 3.6\n",
    "\n",
    "# Функция для проверки наличия дубликатов\n",
    "def check_duplicates(lst):\n",
    "    return len(set(lst)) != len(lst)\n",
    "\n",
    "\n",
    "lst = [0, 0, 1, 2, 3, 4, 5, 5, 6, 7]\n",
    "print(check_duplicates(lst))\n",
    "\n",
    "lst = list(range(0, 15))\n",
    "print(check_duplicates(lst))"
   ]
  },
  {
   "cell_type": "code",
   "execution_count": 108,
   "metadata": {},
   "outputs": [
    {
     "name": "stdout",
     "output_type": "stream",
     "text": [
      "[3, 2, 1]\n",
      "[5, 2, 3, 4, 1]\n",
      "['с', 'л', 'о', 'н']\n"
     ]
    }
   ],
   "source": [
    "# Задание 3.7\n",
    "\n",
    "# Функция изменения местами первого и последнего элемента\n",
    "def swap_places(lst):\n",
    "    lst[0], lst[-1] = lst[-1], lst[0]\n",
    "    return lst\n",
    "\n",
    "\n",
    "print(swap_places([1, 2, 3]))\n",
    "print(swap_places([1, 2, 3, 4, 5]))\n",
    "print(swap_places(['н', 'л', 'о', 'с']))"
   ]
  },
  {
   "cell_type": "code",
   "execution_count": 3,
   "metadata": {},
   "outputs": [
    {
     "name": "stdout",
     "output_type": "stream",
     "text": [
      "['выхухоль', 'белка___', 'крот____']\n",
      "['aaaaa', 'aaaa_', 'aaa__', 'aa___', 'a____']\n",
      "['qweasdqweas', 'ewqqqqq____', 'rteww______', 'q__________']\n"
     ]
    }
   ],
   "source": [
    "# *Задание 3.8 \n",
    "\n",
    "# Функция для создания нового списка с дополнением строк до максимальной длины строки\n",
    "def equalize_lengths(lst):\n",
    "    # Сортируем список по длине строк в порядке убывания\n",
    "    sorted_lst = sorted(lst, key=lambda x: len(x), reverse=True)\n",
    "\n",
    "    # Определяем максимальную длину строки\n",
    "    max_len = len(sorted_lst[0])\n",
    "\n",
    "    # Создаем новый список с дополнением строк до максимальной длины строки\n",
    "    for i in range(1, len(sorted_lst)):\n",
    "        sorted_lst[i] = sorted_lst[i] + '_' * (max_len - len(sorted_lst[i]))\n",
    "\n",
    "    return sorted_lst\n",
    "\n",
    "\n",
    "print(equalize_lengths(['крот', 'белка', 'выхухоль']))\n",
    "print(equalize_lengths(['a', 'aa', 'aaa', 'aaaa', 'aaaaa']))\n",
    "print(equalize_lengths(['qweasdqweas', 'q', 'rteww', 'ewqqqqq']))"
   ]
  },
  {
   "cell_type": "markdown",
   "metadata": {},
   "source": [
    "### 4 юнит"
   ]
  },
  {
   "cell_type": "code",
   "execution_count": 8,
   "metadata": {},
   "outputs": [
    {
     "name": "stdout",
     "output_type": "stream",
     "text": [
      "1\n",
      "-1\n",
      "0\n",
      "1\n",
      "-1\n"
     ]
    }
   ],
   "source": [
    "# Задание 4.5\n",
    "\n",
    "# Функция для проверки знака числа\n",
    "def check_number_sign(number):\n",
    "    if number == 0: return number\n",
    "    return -1 if number < 0 else 1\n",
    "\n",
    "\n",
    "print(check_number_sign(5290))\n",
    "print(check_number_sign(-983))\n",
    "print(check_number_sign(0))\n",
    "print(check_number_sign(36))\n",
    "print(check_number_sign(-10))"
   ]
  },
  {
   "cell_type": "code",
   "execution_count": 17,
   "metadata": {},
   "outputs": [
    {
     "name": "stdout",
     "output_type": "stream",
     "text": [
      "19\n",
      "10.9\n",
      "-1\n",
      "10\n",
      "-6\n"
     ]
    }
   ],
   "source": [
    "# Задание 4.6\n",
    "\n",
    "# Функция для вычисления минимального числа\n",
    "def find_min_number(a, b, c):\n",
    "    if a < b:\n",
    "        if a < c: return a\n",
    "    else:\n",
    "        if b < c: return b\n",
    "    return c\n",
    "\n",
    "\n",
    "print(find_min_number(130, 122, 19))\n",
    "print(find_min_number(10.9, 12.2, 18.4))\n",
    "print(find_min_number(-1, 0, 10))\n",
    "print(find_min_number(150, 360, 10))\n",
    "print(find_min_number(15, -6, 50))"
   ]
  },
  {
   "cell_type": "code",
   "execution_count": 31,
   "metadata": {},
   "outputs": [
    {
     "name": "stdout",
     "output_type": "stream",
     "text": [
      "3\n",
      "-9\n",
      "-1\n",
      "26\n",
      "-41\n"
     ]
    }
   ],
   "source": [
    "# Задание 4.7\n",
    "\n",
    "# Функция для вычисления минимального числа\n",
    "def find_min_number(a, b, c):\n",
    "    if a < b:\n",
    "        if a < c: return a\n",
    "    else:\n",
    "        if b < c: return b\n",
    "    return c\n",
    "\n",
    "\n",
    "# Функция для вычисления суммы двух минимальных чисел\n",
    "def sum_min_numbers(a, b, c):\n",
    "    min_num_1 = find_min_number(a, b, c)    # Находим минимальное число\n",
    "\n",
    "    # Находим второе минимальное число\n",
    "    if min_num_1 == a:\n",
    "        min_num_2 = find_min_number(b, c, c)\n",
    "    elif min_num_1 == b:\n",
    "        min_num_2 = find_min_number(a, c, c)\n",
    "    elif min_num_1 == c:\n",
    "        min_num_2 = find_min_number(a, b, b)\n",
    "\n",
    "    return min_num_1 + min_num_2\n",
    "\n",
    "\n",
    "print(sum_min_numbers(1, 2, 3))\n",
    "print(sum_min_numbers(1, 2, -10))\n",
    "print(sum_min_numbers(-1, 0, 10))\n",
    "print(sum_min_numbers(10, 25, 16))\n",
    "print(sum_min_numbers(-10, -25, -16))"
   ]
  },
  {
   "cell_type": "code",
   "execution_count": 36,
   "metadata": {},
   "outputs": [
    {
     "name": "stdout",
     "output_type": "stream",
     "text": [
      "5.25\n",
      "Zero division error!\n",
      "None\n",
      "6.0\n",
      "Zero division error!\n",
      "None\n"
     ]
    }
   ],
   "source": [
    "# Задание 4.8\n",
    "\n",
    "# Функция деления с отловом деления на 0\n",
    "def division(a, b):\n",
    "    try:\n",
    "        c = a / b\n",
    "    except ZeroDivisionError:\n",
    "        print('Zero division error!')\n",
    "        return\n",
    "    return c\n",
    "\n",
    "\n",
    "print(division(189, 36))\n",
    "print(division(1, 0))\n",
    "print(division(36, 6))\n",
    "print(division(36, 0))"
   ]
  },
  {
   "cell_type": "code",
   "execution_count": 38,
   "metadata": {},
   "outputs": [
    {
     "name": "stdout",
     "output_type": "stream",
     "text": [
      "300.5\n",
      "65.7\n",
      "-64.1\n",
      "0.7\n",
      "1023\n"
     ]
    }
   ],
   "source": [
    "# Задание 4.9\n",
    "\n",
    "def get_prediction(x1, x2):\n",
    "    if x1 < 20:\n",
    "        if x2 < 200: return 300.5\n",
    "        return 65.7\n",
    "    else:\n",
    "        if x2 < 170:\n",
    "            if x1 < 40: return -64.1\n",
    "            return 0.7\n",
    "        return 1023\n",
    "\n",
    "\n",
    "print(get_prediction(x1=15, x2=150))\n",
    "print(get_prediction(x1=15, x2=350))\n",
    "print(get_prediction(x1=35, x2=100))\n",
    "print(get_prediction(x1=175, x2=100))\n",
    "print(get_prediction(x1=175, x2=200))"
   ]
  }
 ],
 "metadata": {
  "kernelspec": {
   "display_name": "base",
   "language": "python",
   "name": "python3"
  },
  "language_info": {
   "codemirror_mode": {
    "name": "ipython",
    "version": 3
   },
   "file_extension": ".py",
   "mimetype": "text/x-python",
   "name": "python",
   "nbconvert_exporter": "python",
   "pygments_lexer": "ipython3",
   "version": "3.12.7"
  }
 },
 "nbformat": 4,
 "nbformat_minor": 2
}
