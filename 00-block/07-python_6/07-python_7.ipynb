{
 "cells": [
  {
   "cell_type": "markdown",
   "metadata": {},
   "source": [
    "### 2 юнит"
   ]
  },
  {
   "cell_type": "code",
   "execution_count": 4,
   "metadata": {},
   "outputs": [
    {
     "data": {
      "text/plain": [
       "'Python'"
      ]
     },
     "execution_count": 4,
     "metadata": {},
     "output_type": "execute_result"
    }
   ],
   "source": [
    "# Задание 2.4\n",
    "\n",
    "python_string = 'Hello! My name is Python. I will help you to analyze some data.'\n",
    "\n",
    "python_string[18:24]"
   ]
  },
  {
   "cell_type": "code",
   "execution_count": 10,
   "metadata": {},
   "outputs": [
    {
     "name": "stdout",
     "output_type": "stream",
     "text": [
      "389017\n"
     ]
    }
   ],
   "source": [
    "# Задание 2.5\n",
    "\n",
    "python_string = 'Hello! My name is Python. I will help you to analyze some data.'\n",
    "# python_string = 'Привет! Меня зовут Питон. Я помогу вам проанализировать некоторые данные.'\n",
    "\n",
    "\n",
    "result = len(python_string)**3\n",
    "\n",
    "\n",
    "print(result)"
   ]
  },
  {
   "cell_type": "code",
   "execution_count": 16,
   "metadata": {},
   "outputs": [
    {
     "name": "stdout",
     "output_type": "stream",
     "text": [
      "7.0\n"
     ]
    }
   ],
   "source": [
    "# Задание 2.6\n",
    "\n",
    "predicted_time = 67.321\n",
    "real_time = 59.839\n",
    "\n",
    "# predicted_time = 38.873\n",
    "# real_time = 26.124\n",
    "\n",
    "\n",
    "absolute_error = round(abs(predicted_time-real_time), 0)\n",
    "\n",
    "\n",
    "print(absolute_error)"
   ]
  },
  {
   "cell_type": "code",
   "execution_count": 24,
   "metadata": {},
   "outputs": [
    {
     "name": "stdout",
     "output_type": "stream",
     "text": [
      "27\n"
     ]
    }
   ],
   "source": [
    "# Задание 2.7\n",
    "\n",
    "input_string = 'Hello! My name is Python. I will help you to analyze some data.'\n",
    "# input_string = 'There are many great articles about Artificial Intelligence and \\\n",
    "#     its benefits for business and society. However, many of these articles are too \\\n",
    "#     technical for the average reader.'\n",
    "\n",
    "\n",
    "# Удаление символы пунктуации из строки\n",
    "input_string_cleaned = input_string.replace('.', '').replace(',', ''). \\\n",
    "    replace('!', '').replace('?', '')\n",
    "\n",
    "# Подсчет кол-ва слов в строке\n",
    "count_words = len(input_string_cleaned.split())\n",
    "\n",
    "\n",
    "print(count_words)"
   ]
  },
  {
   "cell_type": "code",
   "execution_count": 45,
   "metadata": {},
   "outputs": [
    {
     "name": "stdout",
     "output_type": "stream",
     "text": [
      "384300 png\n"
     ]
    }
   ],
   "source": [
    "# Задание 2.8\n",
    "\n",
    "file_path = 'data/images/train/10394.jpg'\n",
    "# file_path = 'data/images/validation/748923.gif'\n",
    "# file_path = 'data/images/384300.png'\n",
    "\n",
    "\n",
    "# Разбиваем адрес и получаем последний элемент\n",
    "file_name_ext = file_path.split('/')[-1]\n",
    "\n",
    "# Разбиваем имя и расширение\n",
    "file_name, file_extension = file_name_ext.split('.')\n",
    "\n",
    "print(file_name, file_extension)"
   ]
  },
  {
   "cell_type": "code",
   "execution_count": 53,
   "metadata": {},
   "outputs": [
    {
     "name": "stdout",
     "output_type": "stream",
     "text": [
      "когда человек вводит запрос в поисковик он ищет информацию или способ решения своей задачи\n"
     ]
    }
   ],
   "source": [
    "# Задание 2.9\n",
    "\n",
    "generated_text = \"глаза нее на поднял он и она попросила что-нибудь скажи\"\n",
    "# generated_text = \"задачи своей решения способ или информацию ищет он поисковик \\\n",
    "#     в запрос вводит человек когда\"\n",
    "\n",
    "\n",
    "# Разделяем текст и переворачиваем его\n",
    "generated_text_splitted = generated_text.split()[::-1]\n",
    "\n",
    "# Объединяем текст\n",
    "updated_text = ' '.join(generated_text_splitted)\n",
    "\n",
    "\n",
    "print(updated_text)"
   ]
  },
  {
   "cell_type": "code",
   "execution_count": 56,
   "metadata": {},
   "outputs": [
    {
     "name": "stdout",
     "output_type": "stream",
     "text": [
      "Пользователь Andrey сменил пароль на 31andrey12QK\n",
      "Пользователь Vasilisk сменил пароль на uaf12laK\n"
     ]
    }
   ],
   "source": [
    "# Задание 2.10\n",
    "\n",
    "# Функция для вывода информации о смене пароля\n",
    "def change_password(user_name, new_password): \n",
    "    return f'Пользователь {user_name} сменил пароль на {new_password}'\n",
    "\n",
    "\n",
    "print(change_password('Andrey', '31andrey12QK'))\n",
    "\n",
    "print(change_password('Vasilisk', 'uaf12laK'))"
   ]
  }
 ],
 "metadata": {
  "kernelspec": {
   "display_name": "base",
   "language": "python",
   "name": "python3"
  },
  "language_info": {
   "codemirror_mode": {
    "name": "ipython",
    "version": 3
   },
   "file_extension": ".py",
   "mimetype": "text/x-python",
   "name": "python",
   "nbconvert_exporter": "python",
   "pygments_lexer": "ipython3",
   "version": "3.12.7"
  }
 },
 "nbformat": 4,
 "nbformat_minor": 2
}
