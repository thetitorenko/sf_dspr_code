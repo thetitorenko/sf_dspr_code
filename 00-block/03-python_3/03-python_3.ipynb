{
 "cells": [
  {
   "cell_type": "markdown",
   "metadata": {},
   "source": [
    "### 2 юнит"
   ]
  },
  {
   "cell_type": "code",
   "execution_count": 2,
   "metadata": {},
   "outputs": [
    {
     "name": "stdout",
     "output_type": "stream",
     "text": [
      "False\n",
      "True\n"
     ]
    }
   ],
   "source": [
    "income_2019 = 15\n",
    "income_2020 = 16.5\n",
    "income_2021 = 16.5\n",
    "\n",
    "# сравним прибыли на каждый год между собой\n",
    "print(income_2019 == income_2020)\n",
    "print(income_2020 == income_2021)"
   ]
  },
  {
   "cell_type": "code",
   "execution_count": 3,
   "metadata": {},
   "outputs": [
    {
     "data": {
      "text/plain": [
       "False"
      ]
     },
     "execution_count": 3,
     "metadata": {},
     "output_type": "execute_result"
    }
   ],
   "source": [
    "a = 14\n",
    "a == 150"
   ]
  },
  {
   "cell_type": "code",
   "execution_count": 4,
   "metadata": {},
   "outputs": [
    {
     "name": "stdout",
     "output_type": "stream",
     "text": [
      "False\n",
      "True\n"
     ]
    }
   ],
   "source": [
    "# сравним прибыли с помощью >=\n",
    "print(income_2019 >= income_2020)\n",
    "print(income_2020 >= income_2021)"
   ]
  },
  {
   "cell_type": "code",
   "execution_count": 14,
   "metadata": {},
   "outputs": [
    {
     "name": "stdout",
     "output_type": "stream",
     "text": [
      "65\n",
      "97\n"
     ]
    }
   ],
   "source": [
    "print(ord('A'))    # Unicode\n",
    "print(ord('a'))"
   ]
  },
  {
   "cell_type": "code",
   "execution_count": 13,
   "metadata": {},
   "outputs": [
    {
     "name": "stdout",
     "output_type": "stream",
     "text": [
      "False\n",
      "True\n"
     ]
    }
   ],
   "source": [
    "name_user_1029 = 'Andrey'\n",
    "name_user_1040 = 'Vladimir'\n",
    "name_user_1042 = 'Andrey'\n",
    "\n",
    "print(name_user_1029 == name_user_1040)\n",
    "print(name_user_1029 == name_user_1042)"
   ]
  },
  {
   "cell_type": "code",
   "execution_count": 34,
   "metadata": {},
   "outputs": [
    {
     "data": {
      "text/plain": [
       "False"
      ]
     },
     "execution_count": 34,
     "metadata": {},
     "output_type": "execute_result"
    }
   ],
   "source": [
    "# target_string = 'коту тащат уток'\n",
    "# target_string = 'Шалаш'\n",
    "target_string = 'кота тащат в шалаш'\n",
    "\n",
    "target_string_new = target_string.lower().replace(' ', '')[::-1]\n",
    "result = target_string_new == target_string.lower().replace(' ', '')\n",
    "\n",
    "result"
   ]
  },
  {
   "cell_type": "code",
   "execution_count": 38,
   "metadata": {},
   "outputs": [
    {
     "name": "stdout",
     "output_type": "stream",
     "text": [
      "False\n",
      "True\n",
      "True\n",
      "False\n"
     ]
    }
   ],
   "source": [
    "print(not True)\n",
    "print(not False)\n",
    "print(not (5 == 10))\n",
    "print(not ('abc' != 'bca'))"
   ]
  },
  {
   "cell_type": "code",
   "execution_count": 39,
   "metadata": {},
   "outputs": [
    {
     "name": "stdout",
     "output_type": "stream",
     "text": [
      "True\n"
     ]
    }
   ],
   "source": [
    "# находится ли значение в промежутке 0-4\n",
    "a = 1\n",
    "cond1 = 0 < a\n",
    "cond2 = 4 > a\n",
    "print(cond1 and cond2)"
   ]
  },
  {
   "cell_type": "code",
   "execution_count": 41,
   "metadata": {},
   "outputs": [
    {
     "name": "stdout",
     "output_type": "stream",
     "text": [
      "False\n"
     ]
    }
   ],
   "source": [
    "sym = 't'\n",
    "cond3 = sym in 'Python'\n",
    "cond4 = sym in 'django'\n",
    "print(cond3 and cond4)"
   ]
  },
  {
   "cell_type": "code",
   "execution_count": 42,
   "metadata": {},
   "outputs": [
    {
     "name": "stdout",
     "output_type": "stream",
     "text": [
      "True\n"
     ]
    }
   ],
   "source": [
    "word1 = 'Institute'\n",
    "word2 = 'University'\n",
    "target_string = 'I graduated from the Moscow Aviation Institute in 2015, after which I got a job at…'\n",
    "print((word1 in target_string) or (word2 in target_string))"
   ]
  },
  {
   "cell_type": "code",
   "execution_count": 43,
   "metadata": {},
   "outputs": [
    {
     "name": "stdout",
     "output_type": "stream",
     "text": [
      "True\n"
     ]
    }
   ],
   "source": [
    "print(('t' in 'Python') or ('t' in 'django'))"
   ]
  },
  {
   "cell_type": "code",
   "execution_count": 81,
   "metadata": {},
   "outputs": [
    {
     "name": "stdout",
     "output_type": "stream",
     "text": [
      "False\n"
     ]
    }
   ],
   "source": [
    "# Задание 2.8\n",
    "\n",
    "a, b, c = 2, 5, 10\n",
    "# a, b, c = 3, 5, 8\n",
    "\n",
    "result = (a**2 > b) and (a**2 > c)\n",
    "\n",
    "print(result)"
   ]
  },
  {
   "cell_type": "code",
   "execution_count": 80,
   "metadata": {},
   "outputs": [
    {
     "name": "stdout",
     "output_type": "stream",
     "text": [
      "False\n"
     ]
    }
   ],
   "source": [
    "# Задание 2.9\n",
    "\n",
    "# diagnosis_1, diagnosis_2, diagnosis_3 = 'yes', 'yes', 'no'\n",
    "diagnosis_1, diagnosis_2, diagnosis_3 = 'no', 'no', 'no'\n",
    "\n",
    "result = (diagnosis_1 == 'yes') or (diagnosis_2 == 'yes') or (diagnosis_3 == 'yes')\n",
    "\n",
    "print(result)"
   ]
  },
  {
   "cell_type": "code",
   "execution_count": 97,
   "metadata": {},
   "outputs": [
    {
     "name": "stdout",
     "output_type": "stream",
     "text": [
      "2103497108976\n"
     ]
    }
   ],
   "source": [
    "a = 'Hello World!'\n",
    "print(id(a))    # id будет меняться каждый раз"
   ]
  },
  {
   "cell_type": "code",
   "execution_count": 101,
   "metadata": {},
   "outputs": [
    {
     "name": "stdout",
     "output_type": "stream",
     "text": [
      "2103466160240 2103466160240\n"
     ]
    }
   ],
   "source": [
    "a = 'simple string'\n",
    "b = a\n",
    "print(id(a), id(b))\n"
   ]
  },
  {
   "cell_type": "code",
   "execution_count": 102,
   "metadata": {},
   "outputs": [
    {
     "name": "stdout",
     "output_type": "stream",
     "text": [
      "True\n",
      "True\n"
     ]
    }
   ],
   "source": [
    "print(id(a) == id(b))\n",
    "print(a is b)"
   ]
  },
  {
   "cell_type": "code",
   "execution_count": 111,
   "metadata": {},
   "outputs": [
    {
     "name": "stdout",
     "output_type": "stream",
     "text": [
      "2103444425072 2103496759280\n",
      "True\n",
      "False\n"
     ]
    }
   ],
   "source": [
    "a = 15.35\n",
    "b = 15.35\n",
    "print(id(a), id(b))\n",
    "print(a == b)\n",
    "print(a is b)"
   ]
  },
  {
   "cell_type": "code",
   "execution_count": 106,
   "metadata": {},
   "outputs": [
    {
     "name": "stdout",
     "output_type": "stream",
     "text": [
      "140729065232792 140729065232792\n",
      "True True\n"
     ]
    }
   ],
   "source": [
    "x = 256\n",
    "y = 256\n",
    "print(id(x), id(y))\n",
    "print(x == y, x is y)"
   ]
  },
  {
   "cell_type": "markdown",
   "metadata": {},
   "source": [
    "### 3 юнит"
   ]
  },
  {
   "cell_type": "code",
   "execution_count": 127,
   "metadata": {},
   "outputs": [
    {
     "name": "stdout",
     "output_type": "stream",
     "text": [
      "True\n"
     ]
    }
   ],
   "source": [
    "# Задача №1\n",
    "\n",
    "orders = {\n",
    "    '2022-10-10': ['F124', 'D89D', '142L'],\n",
    "    '2022-10-11': ['H241', 'OR24', 'BE14', '348F'],\n",
    "    '2022-10-12': ['H429', 'JAS2']\n",
    "    }\n",
    "\n",
    "target_string = 'BE14'\n",
    "\n",
    "# поступал ли заказ в один из дней\n",
    "print((target_string in orders['2022-10-10']) or \\\n",
    "      (target_string in orders['2022-10-11']) or \\\n",
    "      (target_string in orders['2022-10-12'])\n",
    "    )"
   ]
  },
  {
   "cell_type": "code",
   "execution_count": 128,
   "metadata": {},
   "outputs": [
    {
     "name": "stdout",
     "output_type": "stream",
     "text": [
      "False\n"
     ]
    }
   ],
   "source": [
    "# Задача №2\n",
    "\n",
    "message = 14693539613536593\n",
    "\n",
    "print('5' not in str(message)[:6])"
   ]
  },
  {
   "cell_type": "code",
   "execution_count": 132,
   "metadata": {},
   "outputs": [
    {
     "name": "stdout",
     "output_type": "stream",
     "text": [
      "True\n"
     ]
    }
   ],
   "source": [
    "# Задание 3.1\n",
    "\n",
    "N = 12043879584\n",
    "# N = 59005085801\n",
    "# N = 1023659713\n",
    "# N = 1000000\n",
    "# N = 3000000\n",
    "# N = 17200000\n",
    "\n",
    "contains = ('3' in str(N)) and ('7' in str(N))\n",
    "print(contains)"
   ]
  },
  {
   "cell_type": "code",
   "execution_count": 139,
   "metadata": {},
   "outputs": [
    {
     "name": "stdout",
     "output_type": "stream",
     "text": [
      "False\n"
     ]
    }
   ],
   "source": [
    "# Задание 3.2\n",
    "\n",
    "x, y = 'F', 7\n",
    "# x, y = 'K', 1\n",
    "# x, y = 'D', 2\n",
    "# x, t = 'P', 2\n",
    "# x, y = 'F', 15\n",
    "# x, y = 'L', 9\n",
    "\n",
    "hor = ['A', 'B', 'C', 'D', 'E', 'F', 'G', 'H']\n",
    "vert = list(range(1, 9))\n",
    "\n",
    "move_is_correct = (x in hor) and (y in vert)\n",
    "\n",
    "print(move_is_correct)"
   ]
  },
  {
   "cell_type": "code",
   "execution_count": 165,
   "metadata": {},
   "outputs": [
    {
     "name": "stdout",
     "output_type": "stream",
     "text": [
      "False\n"
     ]
    }
   ],
   "source": [
    "# Задача №3\n",
    "\n",
    "available_packages = 105\n",
    "total_count = 1677\n",
    "\n",
    "cond1 = total_count % 13 == 0\n",
    "cond2 = total_count // 13 <= available_packages\n",
    "result = cond1 and cond2\n",
    "\n",
    "print(result)"
   ]
  },
  {
   "cell_type": "code",
   "execution_count": 178,
   "metadata": {},
   "outputs": [
    {
     "name": "stdout",
     "output_type": "stream",
     "text": [
      "False\n"
     ]
    }
   ],
   "source": [
    "# Задание 3.3\n",
    "\n",
    "N = 782\n",
    "# N = 45901\n",
    "# N = 2\n",
    "# N = 15\n",
    "# N = 0\n",
    "\n",
    "source_num = int(str(N)[0])\n",
    "first_is_even = (source_num % 2 == 0)\n",
    "\n",
    "print(first_is_even)"
   ]
  },
  {
   "cell_type": "code",
   "execution_count": 199,
   "metadata": {},
   "outputs": [
    {
     "name": "stdout",
     "output_type": "stream",
     "text": [
      "False\n"
     ]
    }
   ],
   "source": [
    "# Задание 3.4\n",
    "\n",
    "year = 2000\n",
    "# year = 1900\n",
    "# year = 2015\n",
    "# year = 2022\n",
    "# year = 2023\n",
    "\n",
    "cond1 = year % 400 == 0\n",
    "cond2 = (year % 4 == 0) and (year % 100 == 0)\n",
    "year_is_leap = cond1 and cond2\n",
    "\n",
    "print(year_is_leap)"
   ]
  },
  {
   "cell_type": "code",
   "execution_count": 217,
   "metadata": {},
   "outputs": [
    {
     "name": "stdout",
     "output_type": "stream",
     "text": [
      "True\n"
     ]
    }
   ],
   "source": [
    "# Задание 3.5\n",
    "\n",
    "n, m, k = 5, 4, 8\n",
    "# n, m, k = 5, 4, 3\n",
    "# n, m, k = 5, 4, 25\n",
    "# n, m, k = 4, 2, 8\n",
    "# n, m, k = 4, 4, 7\n",
    "# n, m, k = 4, 2, 9\n",
    "\n",
    "cond1 = (n <= k) and (m <= k)\n",
    "cond2 = (n*m) > k\n",
    "cond3 = k % 2 == 0\n",
    "result = cond1 and cond2 and cond3\n",
    "\n",
    "print(result)"
   ]
  },
  {
   "cell_type": "code",
   "execution_count": 226,
   "metadata": {},
   "outputs": [
    {
     "name": "stdout",
     "output_type": "stream",
     "text": [
      "140729064179664\n",
      "140729064179664\n"
     ]
    }
   ],
   "source": [
    "n = None\n",
    "print(id(n))\n",
    "n = None\n",
    "print(id(n))"
   ]
  },
  {
   "cell_type": "code",
   "execution_count": 227,
   "metadata": {},
   "outputs": [
    {
     "name": "stdout",
     "output_type": "stream",
     "text": [
      "None\n"
     ]
    }
   ],
   "source": [
    "name = None\n",
    "surname = None\n",
    "second_name = None\n",
    "\n",
    "print(name)"
   ]
  },
  {
   "cell_type": "code",
   "execution_count": 229,
   "metadata": {},
   "outputs": [
    {
     "name": "stdout",
     "output_type": "stream",
     "text": [
      "True\n"
     ]
    }
   ],
   "source": [
    "print(\n",
    "    (id(name) == id(surname)) and \\\n",
    "    (id(surname) == id(second_name))\n",
    "    )"
   ]
  },
  {
   "cell_type": "code",
   "execution_count": 231,
   "metadata": {},
   "outputs": [
    {
     "name": "stdout",
     "output_type": "stream",
     "text": [
      "True\n"
     ]
    }
   ],
   "source": [
    "print(surname is None)"
   ]
  },
  {
   "cell_type": "code",
   "execution_count": 234,
   "metadata": {},
   "outputs": [
    {
     "name": "stdout",
     "output_type": "stream",
     "text": [
      "False\n"
     ]
    }
   ],
   "source": [
    "# Задание 3.6\n",
    "\n",
    "# phone = '+7 927 124 42 12'\n",
    "phone = None\n",
    "\n",
    "phone_is_defined = phone is not None\n",
    "\n",
    "print(phone_is_defined)"
   ]
  },
  {
   "cell_type": "code",
   "execution_count": 237,
   "metadata": {},
   "outputs": [
    {
     "name": "stdout",
     "output_type": "stream",
     "text": [
      "15\n",
      "False\n"
     ]
    }
   ],
   "source": [
    "product_dict = {'Сок яблочный': 15, 'Сок тыквенный': 10, 'Сок ананасовый': 5}\n",
    "value = product_dict.get('Сок яблочный')\n",
    "print(value)\n",
    "print(value is None)"
   ]
  },
  {
   "cell_type": "code",
   "execution_count": 242,
   "metadata": {},
   "outputs": [
    {
     "data": {
      "text/plain": [
       "True"
      ]
     },
     "execution_count": 242,
     "metadata": {},
     "output_type": "execute_result"
    }
   ],
   "source": [
    "# Задание 3.7\n",
    "\n",
    "invoice_number = '148902'\n",
    "# invoice_number = '892421'\n",
    "# invoice_number = '32'\n",
    "# invoice_number = '893516'\n",
    "\n",
    "arrival_of_goods = {\n",
    "    '148902': {\n",
    "        'Футболка с принтом': 180,\n",
    "        'Свитшот черный': 245,\n",
    "        'Джинсы серые': 252\n",
    "    },\n",
    "    '893516': {\n",
    "        'Футболка с принтом': 43,\n",
    "        'Свитшот черный': 64,\n",
    "        'Джинсы черные': 102\n",
    "    },\n",
    "    '893481': {\n",
    "        'Кружка керамическая': 35,\n",
    "        'Свитшот черный': 10,\n",
    "        'Джинсы сервые': 14\n",
    "    }\n",
    "}\n",
    "\n",
    "invoice_exists = arrival_of_goods.get(invoice_number) is not None"
   ]
  },
  {
   "cell_type": "markdown",
   "metadata": {},
   "source": [
    "### 4 юнит"
   ]
  },
  {
   "cell_type": "code",
   "execution_count": 243,
   "metadata": {},
   "outputs": [
    {
     "name": "stdout",
     "output_type": "stream",
     "text": [
      "Take an umbrella\n"
     ]
    }
   ],
   "source": [
    "is_rainy = True\n",
    "\n",
    "if is_rainy:\n",
    "    print(\"Take an umbrella\")\n",
    "else:\n",
    "    print(\"Don't take an umbrella\")"
   ]
  },
  {
   "cell_type": "code",
   "execution_count": 246,
   "metadata": {},
   "outputs": [
    {
     "name": "stdout",
     "output_type": "stream",
     "text": [
      "Value of variable a > value of variable b\n"
     ]
    }
   ],
   "source": [
    "a = 2**10\n",
    "b = 3**5\n",
    "# a = 3**5\n",
    "# b = 2**10\n",
    "\n",
    "if a > b:\n",
    "    print('Value of variable a > value of variable b')\n",
    "else:\n",
    "    print('Value of variable a <= value of variable b')"
   ]
  },
  {
   "cell_type": "code",
   "execution_count": 254,
   "metadata": {},
   "outputs": [
    {
     "name": "stdout",
     "output_type": "stream",
     "text": [
      "on - target word\n",
      "['and', 'or', 'not'] - list of words\n"
     ]
    }
   ],
   "source": [
    "# target_word = 'and'\n",
    "target_word = 'on'\n",
    "words = ['and', 'or', 'not']\n",
    "\n",
    "if target_word in words:\n",
    "    print('String \"{}\" is in list'.format(target_word))\n",
    "\n",
    "print('{} - target word'.format(target_word))\n",
    "print('{} - list of words'.format(words))"
   ]
  },
  {
   "cell_type": "code",
   "execution_count": 255,
   "metadata": {},
   "outputs": [
    {
     "name": "stdout",
     "output_type": "stream",
     "text": [
      "-5\n",
      "0\n"
     ]
    }
   ],
   "source": [
    "# Задание 4.3\n",
    "\n",
    "mx = 0\n",
    "s = 0\n",
    "x = -5\n",
    "\n",
    "if x < 0:\n",
    "    s = x\n",
    "    \n",
    "if x > mx:\n",
    "        mx = x\n",
    "        \n",
    "print(s)\n",
    "print(mx)"
   ]
  },
  {
   "cell_type": "code",
   "execution_count": 259,
   "metadata": {},
   "outputs": [
    {
     "name": "stdout",
     "output_type": "stream",
     "text": [
      "Добро пожаловать!\n"
     ]
    }
   ],
   "source": [
    "# Задание 4.4\n",
    "\n",
    "people_count = 5\n",
    "# people_count = 10\n",
    "# people_count = 15\n",
    "\n",
    "if people_count < 10:\n",
    "    print('Добро пожаловать!')\n",
    "else:\n",
    "    print('Всё занято. Подождите!')"
   ]
  },
  {
   "cell_type": "code",
   "execution_count": 264,
   "metadata": {},
   "outputs": [
    {
     "name": "stdout",
     "output_type": "stream",
     "text": [
      "Добро пожаловать!\n"
     ]
    }
   ],
   "source": [
    "# Задание 4.5\n",
    "\n",
    "password = '879f2aabS'\n",
    "answer = '879f2aabS'\n",
    "# password = '879f2aabS'\n",
    "# answer = '879f2aabs'\n",
    "# password = '879f22bS'\n",
    "# answer = '879f22bS'\n",
    "# password = '123456789'\n",
    "# answer = '2365987'\n",
    "\n",
    "if password == answer:\n",
    "    print('Добро пожаловать!')\n",
    "else:\n",
    "    print('Вы ввели неверный пароль!')"
   ]
  },
  {
   "cell_type": "code",
   "execution_count": 266,
   "metadata": {},
   "outputs": [
    {
     "name": "stdout",
     "output_type": "stream",
     "text": [
      "Привет, Павел! Приносим свои извинения, но вы не можете гулять после 22:00\n"
     ]
    }
   ],
   "source": [
    "# Задание 4.6\n",
    "\n",
    "name = 'Андрей'\n",
    "age = 21\n",
    "# name = 'Павел'\n",
    "# age = 17\n",
    "# name = 'Игорь'\n",
    "# age = 23\n",
    "# name = 'Ольга'\n",
    "# age = 12\n",
    "\n",
    "if age > 18:\n",
    "    print(f'Добрый вечер, {name}!')\n",
    "else:\n",
    "    print(f'Привет, {name}! Приносим свои извинения, но вы не можете гулять после 22:00')"
   ]
  },
  {
   "cell_type": "code",
   "execution_count": 267,
   "metadata": {},
   "outputs": [
    {
     "name": "stdout",
     "output_type": "stream",
     "text": [
      "Put on a raincoat\n"
     ]
    }
   ],
   "source": [
    "is_rainy = True\n",
    "is_heavy_rain = False\n",
    "\n",
    "if is_rainy:\n",
    "    if is_heavy_rain:\n",
    "        print(\"Take an umbrella\")\n",
    "    else:\n",
    "        print(\"Put on a raincoat\")\n",
    "else:\n",
    "    print(\"Don't take an umbrella\")"
   ]
  },
  {
   "cell_type": "code",
   "execution_count": 271,
   "metadata": {},
   "outputs": [
    {
     "name": "stdout",
     "output_type": "stream",
     "text": [
      "Не выдавать\n"
     ]
    }
   ],
   "source": [
    "# credit_history = 'good'     # кредитная история\n",
    "# deposit = True              # есть ли залог\n",
    "# guarantors = False          # есть ли поручители\n",
    "# credit = 500.0              # сумма долга\n",
    "credit_history = 'bad'\n",
    "deposit = True\n",
    "guarantors = False\n",
    "credit = 3000.0\n",
    "\n",
    "if credit_history == 'bad':\n",
    "    if deposit:\n",
    "        if guarantors:\n",
    "            print('Выдать')\n",
    "        else:\n",
    "            print('Не выдавать')\n",
    "    else:\n",
    "       print('Не выдавать') \n",
    "else:\n",
    "    if credit < 1000:\n",
    "        print('Выдать')\n",
    "    else:\n",
    "        print('Не выдавать')"
   ]
  },
  {
   "cell_type": "code",
   "execution_count": 272,
   "metadata": {},
   "outputs": [
    {
     "name": "stdout",
     "output_type": "stream",
     "text": [
      "Не выдавать\n"
     ]
    }
   ],
   "source": [
    "cond1 = credit_history == 'bad' and deposit and guarantors\n",
    "cond2 = credit_history == 'good' and credit < 1000\n",
    "\n",
    "if cond1 or cond2:\n",
    "    print('Выдать')\n",
    "else:\n",
    "    print('Не выдавать')"
   ]
  },
  {
   "cell_type": "code",
   "execution_count": 276,
   "metadata": {},
   "outputs": [
    {
     "name": "stdout",
     "output_type": "stream",
     "text": [
      "27 не делится ни на 2, ни на 5\n"
     ]
    }
   ],
   "source": [
    "# Задание 4.7\n",
    "\n",
    "number = 200\n",
    "# number = 8\n",
    "# number = 15\n",
    "# number = 27\n",
    "# number = 10\n",
    "# number = 77\n",
    "\n",
    "if number % 2 == 0:\n",
    "    if number % 5 == 0:\n",
    "        print(f'{number} делится на 2 и на 5')\n",
    "    else:\n",
    "        print(f'{number} делится на 2, но не делится на 5')\n",
    "else:\n",
    "    if number % 5 == 0:\n",
    "        print(f'{number} не делится на 2, но делится на 5')\n",
    "    else:\n",
    "        print(f'{number} не делится ни на 2, ни на 5')"
   ]
  },
  {
   "cell_type": "code",
   "execution_count": 277,
   "metadata": {},
   "outputs": [
    {
     "name": "stdout",
     "output_type": "stream",
     "text": [
      "True True False\n"
     ]
    }
   ],
   "source": [
    "print(bool(1024), bool(-8), bool(0))"
   ]
  },
  {
   "cell_type": "code",
   "execution_count": 280,
   "metadata": {},
   "outputs": [
    {
     "name": "stdout",
     "output_type": "stream",
     "text": [
      "You can't divide by zero\n"
     ]
    }
   ],
   "source": [
    "# number = 5\n",
    "number = 0\n",
    "\n",
    "if number:\n",
    "    print(10/number)\n",
    "else:\n",
    "    print(\"You can't divide by zero\")"
   ]
  },
  {
   "cell_type": "code",
   "execution_count": 281,
   "metadata": {},
   "outputs": [
    {
     "name": "stdout",
     "output_type": "stream",
     "text": [
      "True False\n"
     ]
    }
   ],
   "source": [
    "print(bool('Hello World!'), bool(''))"
   ]
  },
  {
   "cell_type": "code",
   "execution_count": 285,
   "metadata": {},
   "outputs": [
    {
     "name": "stdout",
     "output_type": "stream",
     "text": [
      "You forgot to enter password\n"
     ]
    }
   ],
   "source": [
    "# password = '123'\n",
    "password = ''\n",
    "\n",
    "if not password:\n",
    "    print('You forgot to enter password')\n",
    "else:\n",
    "    print('Password entered')"
   ]
  },
  {
   "cell_type": "code",
   "execution_count": 286,
   "metadata": {},
   "outputs": [
    {
     "name": "stdout",
     "output_type": "stream",
     "text": [
      "True False\n"
     ]
    }
   ],
   "source": [
    "print(bool([1, 2]), bool([]))"
   ]
  },
  {
   "cell_type": "code",
   "execution_count": 289,
   "metadata": {},
   "outputs": [
    {
     "name": "stdout",
     "output_type": "stream",
     "text": [
      "You don't have any orders at the moment\n"
     ]
    }
   ],
   "source": [
    "# orders_list = [1]\n",
    "orders_list = []\n",
    "\n",
    "if not orders_list:\n",
    "    print(\"You don't have any orders at the moment\")\n",
    "else:\n",
    "    print(\"You have current orders\")"
   ]
  },
  {
   "cell_type": "code",
   "execution_count": 292,
   "metadata": {},
   "outputs": [
    {
     "name": "stdout",
     "output_type": "stream",
     "text": [
      "42\n"
     ]
    }
   ],
   "source": [
    "a = 42\n",
    "b = 41\n",
    "\n",
    "if a > b:\n",
    "    result = a\n",
    "else:\n",
    "    result = b\n",
    "    \n",
    "print(result)"
   ]
  },
  {
   "cell_type": "code",
   "execution_count": 293,
   "metadata": {},
   "outputs": [],
   "source": [
    "result = a if a > b else b"
   ]
  },
  {
   "cell_type": "code",
   "execution_count": 295,
   "metadata": {},
   "outputs": [
    {
     "name": "stdout",
     "output_type": "stream",
     "text": [
      "Not eligible for discount\n"
     ]
    }
   ],
   "source": [
    "cust_age = 18\n",
    "\n",
    "print('Eligible for discount' if cust_age >= 60 else 'Not eligible for discount')"
   ]
  },
  {
   "cell_type": "code",
   "execution_count": 298,
   "metadata": {},
   "outputs": [
    {
     "name": "stdout",
     "output_type": "stream",
     "text": [
      "Eligible for discount\n"
     ]
    }
   ],
   "source": [
    "cust_age = 63\n",
    "\n",
    "answer_dict = {\n",
    "    True: 'Eligible for discount',\n",
    "    False: 'Not eligible for discount'\n",
    "    }\n",
    "\n",
    "print(answer_dict[cust_age >= 60])"
   ]
  },
  {
   "cell_type": "code",
   "execution_count": 302,
   "metadata": {},
   "outputs": [
    {
     "name": "stdout",
     "output_type": "stream",
     "text": [
      "20\n"
     ]
    }
   ],
   "source": [
    "# Задание 4.10\n",
    "\n",
    "cust_age = 40\n",
    "# cust_age = 68\n",
    "# cust_age = 71\n",
    "\n",
    "cust_discount = 10 if cust_age <= 60 else 20\n",
    "\n",
    "print(cust_discount)"
   ]
  },
  {
   "cell_type": "markdown",
   "metadata": {},
   "source": [
    "### 5 юнит"
   ]
  },
  {
   "cell_type": "code",
   "execution_count": 332,
   "metadata": {},
   "outputs": [
    {
     "name": "stdout",
     "output_type": "stream",
     "text": [
      "Утро\n"
     ]
    }
   ],
   "source": [
    "# Задача №1\n",
    "\n",
    "now = '11:24:39'\n",
    "\n",
    "hour, minute, second = now.split(':')\n",
    "hour, minute, second = int(hour), int(minute), int(second)\n",
    "\n",
    "# if (hour >= 6) and (hour < 12):\n",
    "if 6 <= hour < 12:\n",
    "    print('Утро')\n",
    "else:\n",
    "    print('День')"
   ]
  },
  {
   "cell_type": "code",
   "execution_count": 359,
   "metadata": {},
   "outputs": [
    {
     "name": "stdout",
     "output_type": "stream",
     "text": [
      "IV четверть\n"
     ]
    }
   ],
   "source": [
    "# Задача №2\n",
    "\n",
    "x, y = (6.3, -5.3)\n",
    "# x, y = (-1, 5)\n",
    "# x, y = (0.1, 0.1)\n",
    "\n",
    "if x > 0:\n",
    "    if y > 0:\n",
    "        print('I четверть')\n",
    "    else:\n",
    "        print('IV четверть')\n",
    "else:\n",
    "    if y > 0:\n",
    "        print('II четверть')\n",
    "    else:\n",
    "        print('III четверть')"
   ]
  },
  {
   "cell_type": "code",
   "execution_count": 363,
   "metadata": {},
   "outputs": [
    {
     "name": "stdout",
     "output_type": "stream",
     "text": [
      "Точка не принадлежит ни одной из четвертей\n"
     ]
    }
   ],
   "source": [
    "x, y = (0, 1)\n",
    "# x, y = (0, 0)\n",
    "\n",
    "if x > 0 and y > 0:\n",
    "   print('I четверть')\n",
    "if x < 0 and y > 0:\n",
    "   print('II четверть')\n",
    "if x < 0 and y < 0:\n",
    "   print('III четверть')\n",
    "if x > 0 and y < 0:\n",
    "   print('IV четверть')\n",
    "if x == 0 or y == 0:\n",
    "   if x == 0 and y == 0:\n",
    "      print('Точка находится в начале координат')\n",
    "   else:\n",
    "      print('Точка не принадлежит ни одной из четвертей')"
   ]
  },
  {
   "cell_type": "code",
   "execution_count": 366,
   "metadata": {},
   "outputs": [
    {
     "name": "stdout",
     "output_type": "stream",
     "text": [
      "Пора вставать!\n"
     ]
    }
   ],
   "source": [
    "# Задание 5.1\n",
    "\n",
    "time = 8\n",
    "# time = 12\n",
    "# time = 9\n",
    "# time = 7\n",
    "# time = 10\n",
    "\n",
    "if 7 <= time <= 10:\n",
    "    print('Пора вставать!')\n",
    "else:\n",
    "    print('Ты проспал!')"
   ]
  },
  {
   "cell_type": "code",
   "execution_count": 369,
   "metadata": {},
   "outputs": [
    {
     "name": "stdout",
     "output_type": "stream",
     "text": [
      "Ух ты! Вы ввели редкое слово!\n"
     ]
    }
   ],
   "source": [
    "# Задание 5.2\n",
    "\n",
    "target_word = 'quantity'\n",
    "# target_word = 'apply'\n",
    "# target_word = 'education'\n",
    "# target_word = 'zero'\n",
    "\n",
    "if ('q' in target_word) or ('z' in target_word):\n",
    "    print('Ух ты! Вы ввели редкое слово!')\n",
    "else:\n",
    "    print('Это не очень редкое слово...')"
   ]
  },
  {
   "cell_type": "code",
   "execution_count": 376,
   "metadata": {},
   "outputs": [
    {
     "name": "stdout",
     "output_type": "stream",
     "text": [
      "Ваша половинка нашлась!\n"
     ]
    }
   ],
   "source": [
    "# Задание 5.3\n",
    "\n",
    "height, weight, zodiac_sign  = 183, 78, 'козерог'\n",
    "# height, weight, zodiac_sign  = 171, 75, 'весы'\n",
    "# height, weight, zodiac_sign  = 183, 78, 'лев'\n",
    "# height, weight, zodiac_sign  = 183, 78, 'дева'\n",
    "# height, weight, zodiac_sign  = 188, 78, 'дева'\n",
    "\n",
    "cond_height = height > 180\n",
    "cond_weight = weight < 80\n",
    "cond_zodiac_sign = zodiac_sign in ['весы', 'дева', 'овен', 'козерог']\n",
    "\n",
    "if cond_height and cond_weight and cond_zodiac_sign:\n",
    "    print('Ваша половинка нашлась!')\n",
    "else:\n",
    "    print('Попробуем поискать еще!')"
   ]
  }
 ],
 "metadata": {
  "kernelspec": {
   "display_name": "base",
   "language": "python",
   "name": "python3"
  },
  "language_info": {
   "codemirror_mode": {
    "name": "ipython",
    "version": 3
   },
   "file_extension": ".py",
   "mimetype": "text/x-python",
   "name": "python",
   "nbconvert_exporter": "python",
   "pygments_lexer": "ipython3",
   "version": "3.12.4"
  }
 },
 "nbformat": 4,
 "nbformat_minor": 2
}
