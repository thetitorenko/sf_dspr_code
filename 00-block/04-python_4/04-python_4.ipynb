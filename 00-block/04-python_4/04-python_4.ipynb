{
 "cells": [
  {
   "cell_type": "markdown",
   "metadata": {},
   "source": [
    "### 0 юнит"
   ]
  },
  {
   "cell_type": "code",
   "execution_count": 1,
   "metadata": {},
   "outputs": [
    {
     "name": "stdout",
     "output_type": "stream",
     "text": [
      "3\n"
     ]
    }
   ],
   "source": [
    "# Задание 0.1\n",
    "\n",
    "lst=[90, 230, 23]\n",
    "print(len(lst))"
   ]
  },
  {
   "cell_type": "code",
   "execution_count": 2,
   "metadata": {},
   "outputs": [
    {
     "name": "stdout",
     "output_type": "stream",
     "text": [
      "230\n"
     ]
    }
   ],
   "source": [
    "# Задание 0.3\n",
    "\n",
    "lst=[90, 230, 23]\n",
    "print(lst[1])"
   ]
  },
  {
   "cell_type": "code",
   "execution_count": 3,
   "metadata": {},
   "outputs": [
    {
     "data": {
      "text/plain": [
       "'east or west home is best'"
      ]
     },
     "execution_count": 3,
     "metadata": {},
     "output_type": "execute_result"
    }
   ],
   "source": [
    "# Задание 0.4\n",
    "\n",
    "sentences = 'East or West home is best'\n",
    "sentences.lower()"
   ]
  },
  {
   "cell_type": "code",
   "execution_count": 4,
   "metadata": {},
   "outputs": [
    {
     "data": {
      "text/plain": [
       "'East or We'"
      ]
     },
     "execution_count": 4,
     "metadata": {},
     "output_type": "execute_result"
    }
   ],
   "source": [
    "# Задание 0.5\n",
    "\n",
    "sentences = 'East or West home is best'\n",
    "sentences[:10]"
   ]
  },
  {
   "cell_type": "code",
   "execution_count": 5,
   "metadata": {},
   "outputs": [
    {
     "data": {
      "text/plain": [
       "'Your age is 18, welcome'"
      ]
     },
     "execution_count": 5,
     "metadata": {},
     "output_type": "execute_result"
    }
   ],
   "source": [
    "# Задание 0.6\n",
    "\n",
    "age=18\n",
    "'Your age is {}, welcome'.format(age)"
   ]
  },
  {
   "cell_type": "code",
   "execution_count": 6,
   "metadata": {},
   "outputs": [
    {
     "data": {
      "text/plain": [
       "['East', 'or', 'West', 'home', 'is', 'best']"
      ]
     },
     "execution_count": 6,
     "metadata": {},
     "output_type": "execute_result"
    }
   ],
   "source": [
    "# Задание 0.7\n",
    "\n",
    "sentences = 'East or West home is best'\n",
    "sentences.split()"
   ]
  },
  {
   "cell_type": "markdown",
   "metadata": {},
   "source": [
    "### 2 юнит"
   ]
  },
  {
   "cell_type": "code",
   "execution_count": 7,
   "metadata": {},
   "outputs": [
    {
     "name": "stdout",
     "output_type": "stream",
     "text": [
      "Element 5\n",
      "Element 9\n",
      "Element 19\n"
     ]
    }
   ],
   "source": [
    "my_list = [5, 9, 19]\n",
    "\n",
    "for element in my_list:\n",
    "    print('Element', element)"
   ]
  },
  {
   "cell_type": "code",
   "execution_count": 8,
   "metadata": {},
   "outputs": [
    {
     "name": "stdout",
     "output_type": "stream",
     "text": [
      "Current income 120\n",
      "Current S 0\n",
      "New S 120\n",
      "\n",
      "Current income 38.5\n",
      "Current S 120\n",
      "New S 158.5\n",
      "\n",
      "Current income 40.5\n",
      "Current S 158.5\n",
      "New S 199.0\n",
      "\n",
      "Current income 80\n",
      "Current S 199.0\n",
      "New S 279.0\n",
      "\n",
      "Answer: s= 279.0\n"
     ]
    }
   ],
   "source": [
    "# Задача №1\n",
    "\n",
    "incomes = [120, 38.5, 40.5, 80]     # список доходов\n",
    "S = 0                               # начальное значение сумму доходов\n",
    "\n",
    "for income in incomes:\n",
    "    print('Current income', income)\n",
    "    print('Current S', S)\n",
    "    S += income                     # равносильно S = S + income\n",
    "    print('New S', S)\n",
    "    print()\n",
    "\n",
    "print('Answer: s=',S)\n",
    "# print(sum(incomes))"
   ]
  },
  {
   "cell_type": "code",
   "execution_count": 9,
   "metadata": {},
   "outputs": [
    {
     "name": "stdout",
     "output_type": "stream",
     "text": [
      "279.0\n"
     ]
    }
   ],
   "source": [
    "S = sum(incomes)\n",
    "print(S)"
   ]
  },
  {
   "cell_type": "code",
   "execution_count": 10,
   "metadata": {},
   "outputs": [
    {
     "name": "stdout",
     "output_type": "stream",
     "text": [
      "1947456\n"
     ]
    }
   ],
   "source": [
    "# Задание 2.2\n",
    "\n",
    "num_list = [98, 24, 23, 12, 3]\n",
    "# num_list = [1, 10, 0.5, 21, 0.13]\n",
    "# num_list = [0.1, 0.24, 0.1, 2, 0]\n",
    "\n",
    "p = 1\n",
    "\n",
    "for num in num_list:\n",
    "    p *= num\n",
    "\n",
    "print(p)"
   ]
  },
  {
   "cell_type": "code",
   "execution_count": 11,
   "metadata": {},
   "outputs": [
    {
     "name": "stdout",
     "output_type": "stream",
     "text": [
      "Currecnt S: 0\n",
      "Current number: 1\n",
      "Sum after addition: 1\n",
      "\n",
      "Currecnt S: 1\n",
      "Current number: 2\n",
      "Sum after addition: 3\n",
      "\n",
      "Currecnt S: 3\n",
      "Current number: 3\n",
      "Sum after addition: 6\n",
      "\n",
      "Currecnt S: 6\n",
      "Current number: 4\n",
      "Sum after addition: 10\n",
      "\n",
      "Currecnt S: 10\n",
      "Current number: 5\n",
      "Sum after addition: 15\n",
      "\n",
      "Currecnt S: 15\n",
      "Current number: 6\n",
      "Sum after addition: 21\n",
      "\n",
      "Currecnt S: 21\n",
      "Current number: 7\n",
      "Sum after addition: 28\n",
      "\n",
      "Currecnt S: 28\n",
      "Current number: 8\n",
      "Sum after addition: 36\n",
      "\n",
      "Currecnt S: 36\n",
      "Current number: 9\n",
      "Sum after addition: 45\n",
      "\n",
      "Currecnt S: 45\n",
      "Current number: 10\n",
      "Sum after addition: 55\n",
      "\n",
      "Answer: sum = 55\n"
     ]
    }
   ],
   "source": [
    "# Задача №2\n",
    "\n",
    "N = 10      # последний элемент последовательности\n",
    "S = 0       # накопительная переменная\n",
    "\n",
    "for i in range(1, N+1):     # равносильно for i in [1, 2, 3, ... , N]\n",
    "    print('Currecnt S:', S)\n",
    "    print('Current number:', i)\n",
    "    S += i                  # равносильно S = S + i\n",
    "    print('Sum after addition:', S)\n",
    "    print()\n",
    "\n",
    "print('Answer: sum =', S)"
   ]
  },
  {
   "cell_type": "code",
   "execution_count": 12,
   "metadata": {},
   "outputs": [
    {
     "name": "stdout",
     "output_type": "stream",
     "text": [
      "6\n"
     ]
    }
   ],
   "source": [
    "# Задание 2.4\n",
    "\n",
    "n = 3\n",
    "# n = 5\n",
    "# n = 10\n",
    "\n",
    "p = 1\n",
    "\n",
    "for i in range(1, n+1):\n",
    "    p *= i\n",
    "\n",
    "print(p)"
   ]
  },
  {
   "cell_type": "code",
   "execution_count": 13,
   "metadata": {},
   "outputs": [
    {
     "name": "stdout",
     "output_type": "stream",
     "text": [
      "*\n",
      "**\n",
      "***\n"
     ]
    }
   ],
   "source": [
    "# Задание 2.5\n",
    "\n",
    "n = 3\n",
    "# n = 4\n",
    "# n = 5\n",
    "# n = 7\n",
    "\n",
    "for i in range(1, n+1):\n",
    "    print('*' * i)"
   ]
  },
  {
   "cell_type": "code",
   "execution_count": 14,
   "metadata": {},
   "outputs": [
    {
     "name": "stdout",
     "output_type": "stream",
     "text": [
      "Товар 1 весом 10 кг перевозиться на легковой машине\n",
      "Товар 2 весом 42.4 кг перевозиться на легковой машине\n",
      "Товар 3 весом 240.1 кг перевозиться на грузовой машине\n",
      "Товар 4 весом 101.5 кг перевозиться на грузовой машине\n",
      "Товар 5 весом 98 кг перевозиться на легковой машине\n",
      "Товар 6 весом 0.4 кг перевозиться на легковой машине\n",
      "Товар 7 весом 0.3 кг перевозиться на легковой машине\n",
      "Товар 8 весом 15 кг перевозиться на легковой машине\n"
     ]
    }
   ],
   "source": [
    "# Задача №3\n",
    "\n",
    "weight_of_products = [10, 42.4, 240.1, 101.5, 98, 0.4, 0.3, 15]\n",
    "\n",
    "max_weight = 100\n",
    "n = 1\n",
    "\n",
    "for weight in weight_of_products:\n",
    "    if weight < max_weight:\n",
    "        print('Товар {} весом {} кг перевозиться на легковой машине'.format(n, weight))\n",
    "    else:\n",
    "        print('Товар {} весом {} кг перевозиться на грузовой машине'.format(n, weight))\n",
    "    n += 1"
   ]
  },
  {
   "cell_type": "code",
   "execution_count": 15,
   "metadata": {},
   "outputs": [
    {
     "name": "stdout",
     "output_type": "stream",
     "text": [
      "Товар 1 весом 10 кг перевозиться на легковой машине\n",
      "Товар 2 весом 42.4 кг перевозиться на легковой машине\n",
      "Товар 3 весом 240.1 кг перевозиться на грузовой машине\n",
      "Товар 4 весом 101.5 кг перевозиться на грузовой машине\n",
      "Товар 5 весом 98 кг перевозиться на легковой машине\n",
      "Товар 6 весом 0.4 кг перевозиться на легковой машине\n",
      "Товар 7 весом 0.3 кг перевозиться на легковой машине\n",
      "Товар 8 весом 15 кг перевозиться на легковой машине\n"
     ]
    }
   ],
   "source": [
    "weight_of_products = [10, 42.4, 240.1, 101.5, 98, 0.4, 0.3, 15]\n",
    "\n",
    "max_weight = 100\n",
    "n = len(weight_of_products)\n",
    "\n",
    "for i in range(n):\n",
    "    weight = weight_of_products[i]\n",
    "    if weight < max_weight:\n",
    "        print('Товар {} весом {} кг перевозиться на легковой машине'.format(i+1, weight))\n",
    "    else:\n",
    "        print('Товар {} весом {} кг перевозиться на грузовой машине'.format(i+1, weight))\n",
    "    "
   ]
  },
  {
   "cell_type": "code",
   "execution_count": 16,
   "metadata": {},
   "outputs": [
    {
     "data": {
      "text/plain": [
       "['Red Square',\n",
       " 'Swallow Nest',\n",
       " 'Unavailable',\n",
       " 'Unavailable',\n",
       " 'Unavailable',\n",
       " 'Hermitage']"
      ]
     },
     "execution_count": 16,
     "metadata": {},
     "output_type": "execute_result"
    }
   ],
   "source": [
    "# Задача №4\n",
    "\n",
    "# список мест, которые пользователь хотел бы посетит\n",
    "places = [\n",
    "    'Red Square',\n",
    "    'Swallow Nest',\n",
    "    'Niagara Falls',\n",
    "    'Grand Canyon',\n",
    "    'Louvre',\n",
    "    'Hermitage'\n",
    "    ]\n",
    "\n",
    "# словарь, ключи которого — места, которые пользователь хочет посетить,\n",
    "# значения — названия стран, где находятся эти места\n",
    "location = {\n",
    "    'Red Square': 'Russia',\n",
    "    'Swallow Nest': 'Russia',\n",
    "    'Niagara Falls': 'USA',\n",
    "    'Grand Canyon': 'USA',\n",
    "    'Louvre': 'France',\n",
    "    'Hermitage': 'Russia'\n",
    "    }\n",
    "\n",
    "N = len(places)\n",
    "\n",
    "for i in range(N):\n",
    "    country = location[places[i]]\n",
    "    if country != 'Russia':\n",
    "        places[i] = 'Unavailable'\n",
    "\n",
    "places"
   ]
  },
  {
   "cell_type": "code",
   "execution_count": 17,
   "metadata": {},
   "outputs": [
    {
     "name": "stdout",
     "output_type": "stream",
     "text": [
      "element 0: -5\n",
      "element 1: 1\n",
      "element 2: 3\n",
      "element 3: 10\n"
     ]
    }
   ],
   "source": [
    "# Задание 2.9\n",
    "\n",
    "num_list = [1, 10, 3, -5]\n",
    "# num_list = [98, 24, 23, 12, 3]\n",
    "# num_list = [1, 10, 0.5, 21, 0.13]\n",
    "\n",
    "num_list.sort()\n",
    "N = len(num_list)\n",
    "\n",
    "for i in range(N):\n",
    "    elem = num_list[i]\n",
    "    print(f'element {i}: {elem}')"
   ]
  },
  {
   "cell_type": "code",
   "execution_count": 18,
   "metadata": {},
   "outputs": [
    {
     "data": {
      "text/plain": [
       "17"
      ]
     },
     "execution_count": 18,
     "metadata": {},
     "output_type": "execute_result"
    }
   ],
   "source": [
    "# Задание 2.10\n",
    "\n",
    "num_list = list(range(0, 100, 3))\n",
    "# num_list = [10, 4, 4, 21, 2, 0, -10]\n",
    "# num_list = list(range(0, 81, 5))\n",
    "\n",
    "count_even = 0\n",
    "\n",
    "for num in num_list:\n",
    "    if num % 2 == 0:\n",
    "        count_even += 1\n",
    "\n",
    "count_even"
   ]
  },
  {
   "cell_type": "code",
   "execution_count": 19,
   "metadata": {},
   "outputs": [
    {
     "data": {
      "text/plain": [
       "3"
      ]
     },
     "execution_count": 19,
     "metadata": {},
     "output_type": "execute_result"
    }
   ],
   "source": [
    "# Задание 2.11\n",
    "\n",
    "mixture_list = [True, 1, -10, 'hello', False, 'string_1', 123, 2.5, [1, 2], 'another']\n",
    "# mixture_list = ['My', 'Simple', -10, True, 'False', 'string_1', False, 2.5, [1, 2], 'True']\n",
    "\n",
    "count_str = 0\n",
    "\n",
    "for elem in mixture_list:\n",
    "    if type(elem) is str:\n",
    "        count_str += 1\n",
    "\n",
    "count_str"
   ]
  },
  {
   "cell_type": "code",
   "execution_count": 20,
   "metadata": {},
   "outputs": [
    {
     "data": {
      "text/plain": [
       "\"My name is Sergei. I'm from Moscow.\""
      ]
     },
     "execution_count": 20,
     "metadata": {},
     "output_type": "execute_result"
    }
   ],
   "source": [
    "# Задание 2.12\n",
    "\n",
    "word_list = [\"My\", \"name\", \"is\", \"Sergei\", \"EOS\", \"I'm\", \"from\", \"Moscow\", \"EOS\"]\n",
    "# word_list = [\"Человек\", \"он\", \"умный\", \"EOS\", \"Но\", \"чтоб\", \"умно\", \"поступать\", \"одного\", \"ума\", \"мало\", \"EOS\"]\n",
    "\n",
    "text = ''\n",
    "\n",
    "for word in word_list:\n",
    "    if word != 'EOS':\n",
    "        text += word + ' '\n",
    "    else:\n",
    "        text = text[:-1] + '.' + ' '\n",
    "\n",
    "text.strip()"
   ]
  },
  {
   "cell_type": "markdown",
   "metadata": {},
   "source": [
    "### 3 юнит"
   ]
  },
  {
   "cell_type": "code",
   "execution_count": 21,
   "metadata": {},
   "outputs": [
    {
     "name": "stdout",
     "output_type": "stream",
     "text": [
      "['b', 'c', 'd', 'e']\n",
      "['c', 'd', 'e']\n",
      "['d', 'e']\n",
      "Result ['d', 'e']\n"
     ]
    }
   ],
   "source": [
    "lst = ['a', 'b', 'c', 'd', 'e']\n",
    "\n",
    "while len(lst) > 2:\n",
    "    lst.pop(0)\n",
    "    print(lst)\n",
    "\n",
    "print('Result', lst)"
   ]
  },
  {
   "cell_type": "code",
   "execution_count": 22,
   "metadata": {},
   "outputs": [
    {
     "name": "stdout",
     "output_type": "stream",
     "text": [
      "Iteration: 1  x = 23\n",
      "Iteration: 2  x = 25\n",
      "Iteration: 3  x = 27\n",
      "Iteration: 4  x = 29\n",
      "Iteration: 5  x = 31\n",
      "Iteration: 6  x = 33\n",
      "Iteration: 7  x = 35\n",
      "Iteration: 8  x = 37\n",
      "Iteration: 9  x = 39\n",
      "Iteration: 10  x = 41\n",
      "Iteration: 11  x = 43\n",
      "Iteration: 12  x = 45\n",
      "Iteration: 13  x = 47\n",
      "Iteration: 14  x = 49\n",
      "Iteration: 15  x = 51\n",
      "Iteration: 16  x = 53\n",
      "Iteration: 17  x = 55\n",
      "Answer: 17\n"
     ]
    }
   ],
   "source": [
    "x, y = 21, 55\n",
    "count = 0\n",
    "\n",
    "while x < y:\n",
    "    x += 2\n",
    "    count += 1\n",
    "    print('Iteration:', count, ' x =', x,)\n",
    "\n",
    "print('Answer:', count)"
   ]
  },
  {
   "cell_type": "code",
   "execution_count": 23,
   "metadata": {},
   "outputs": [
    {
     "name": "stdout",
     "output_type": "stream",
     "text": [
      "Current sum weight 67\n",
      "Current sum weight 134\n",
      "Current sum weight 201\n",
      "Current sum weight 268\n",
      "Current sum weight 335\n",
      "Current sum weight 402\n",
      "\n",
      "Overweight 2 kg\n"
     ]
    }
   ],
   "source": [
    "# задача №1\n",
    "\n",
    "weight = 67\n",
    "max_weight = 400\n",
    "S = 0\n",
    "\n",
    "while S < max_weight:\n",
    "    S += weight\n",
    "    print('Current sum weight', S)\n",
    "\n",
    "print()\n",
    "print('Overweight {} kg'.format(S-max_weight))"
   ]
  },
  {
   "cell_type": "code",
   "execution_count": 24,
   "metadata": {},
   "outputs": [
    {
     "name": "stdout",
     "output_type": "stream",
     "text": [
      "3.1999999999999993\n"
     ]
    }
   ],
   "source": [
    "# Задание 3.2\n",
    "\n",
    "# объем сосуда в литрах\n",
    "volume = 10\n",
    "# volume = 15\n",
    "\n",
    "increment = 0.0033 * 1000   # преобразуем куб.м в литры\n",
    "current_volume = 0          # текущий объем в сосуде\n",
    "\n",
    "while current_volume <= volume:\n",
    "    current_volume += increment\n",
    "\n",
    "# объем жидкости, который вельется из сосуда\n",
    "cost = current_volume - volume\n",
    "\n",
    "print(cost)"
   ]
  },
  {
   "cell_type": "code",
   "execution_count": 25,
   "metadata": {},
   "outputs": [
    {
     "name": "stdout",
     "output_type": "stream",
     "text": [
      "Still counting...\n",
      "Still counting...\n",
      "Still counting...\n",
      "Still counting...\n",
      "Still counting...\n",
      "Still counting...\n",
      "Still counting...\n",
      "Still counting...\n",
      "Still counting...\n",
      "Still counting...\n",
      "Still counting...\n",
      "Still counting...\n",
      "Still counting...\n",
      "Still counting...\n",
      "Still counting...\n",
      "Still counting...\n",
      "Still counting...\n",
      "Still counting...\n",
      "Still counting...\n",
      "Still counting...\n",
      "Still counting...\n",
      "Still counting...\n",
      "Still counting...\n",
      "Still counting...\n",
      "Still counting...\n",
      "Still counting...\n",
      "Still counting...\n",
      "Still counting...\n",
      "Still counting...\n",
      "Still counting...\n",
      "Still counting...\n",
      "Still counting...\n",
      "Still counting...\n",
      "Still counting...\n",
      "Still counting...\n",
      "Still counting...\n",
      "Still counting...\n",
      "Still counting...\n",
      "Still counting...\n",
      "Still counting...\n",
      "Still counting...\n",
      "Still counting...\n",
      "Still counting...\n",
      "Still counting...\n",
      "Still counting...\n",
      "Still counting...\n",
      "Still counting...\n",
      "Still counting...\n",
      "Still counting...\n",
      "Still counting...\n",
      "Still counting...\n",
      "Still counting...\n",
      "Still counting...\n",
      "Still counting...\n",
      "Still counting...\n",
      "Still counting...\n",
      "Still counting...\n",
      "Still counting...\n",
      "Still counting...\n",
      "Still counting...\n",
      "Still counting...\n",
      "Still counting...\n",
      "Still counting...\n",
      "Still counting...\n",
      "Still counting...\n",
      "Still counting...\n",
      "Still counting...\n",
      "Still counting...\n",
      "Still counting...\n",
      "Still counting...\n",
      "Still counting...\n",
      "Still counting...\n",
      "Still counting...\n",
      "Still counting...\n",
      "Still counting...\n",
      "Still counting...\n",
      "Still counting...\n",
      "Still counting...\n",
      "Still counting...\n",
      "Still counting...\n",
      "Still counting...\n",
      "Still counting...\n",
      "Still counting...\n",
      "Still counting...\n",
      "Still counting...\n",
      "Still counting...\n",
      "Still counting...\n",
      "Still counting...\n",
      "Still counting...\n",
      "Still counting...\n",
      "Still counting...\n",
      "Still counting...\n",
      "Still counting...\n",
      "Still counting...\n",
      "Still counting...\n",
      "Still counting...\n",
      "Still counting...\n",
      "Still counting...\n",
      "Still counting...\n",
      "Still counting...\n",
      "Still counting...\n",
      "Still counting...\n",
      "Still counting...\n",
      "Still counting...\n",
      "Still counting...\n",
      "Still counting...\n",
      "Still counting...\n",
      "Still counting...\n",
      "Still counting...\n",
      "Still counting...\n",
      "Still counting...\n",
      "Still counting...\n",
      "Still counting...\n",
      "Still counting...\n",
      "Still counting...\n",
      "Still counting...\n",
      "Still counting...\n",
      "Still counting...\n",
      "Still counting...\n",
      "Still counting...\n",
      "Still counting...\n",
      "Still counting...\n",
      "Still counting...\n",
      "Still counting...\n",
      "Still counting...\n",
      "Still counting...\n",
      "Still counting...\n",
      "Still counting...\n",
      "Still counting...\n",
      "Still counting...\n",
      "Still counting...\n",
      "Still counting...\n",
      "Still counting...\n",
      "Still counting...\n",
      "Still counting...\n",
      "Still counting...\n",
      "Still counting...\n",
      "Still counting...\n",
      "Still counting...\n",
      "Still counting...\n",
      "Still counting...\n",
      "Still counting...\n",
      "Still counting...\n",
      "Still counting...\n",
      "Still counting...\n",
      "Still counting...\n",
      "Still counting...\n",
      "Still counting...\n",
      "Still counting...\n",
      "Still counting...\n",
      "Still counting...\n",
      "Still counting...\n",
      "Still counting...\n",
      "Still counting...\n",
      "Still counting...\n",
      "Still counting...\n",
      "Still counting...\n",
      "Still counting...\n",
      "Still counting...\n",
      "Still counting...\n",
      "Still counting...\n",
      "Still counting...\n",
      "Still counting...\n",
      "Still counting...\n",
      "Still counting...\n",
      "Still counting...\n",
      "Still counting...\n",
      "Still counting...\n",
      "Still counting...\n",
      "Still counting...\n",
      "Still counting...\n",
      "Still counting...\n",
      "Still counting...\n",
      "Still counting...\n",
      "Still counting...\n",
      "Still counting...\n",
      "Still counting...\n",
      "Still counting...\n",
      "Still counting...\n",
      "Still counting...\n",
      "Still counting...\n",
      "Still counting...\n",
      "Still counting...\n",
      "Still counting...\n",
      "Still counting...\n",
      "Still counting...\n",
      "Still counting...\n",
      "Still counting...\n",
      "Still counting...\n",
      "Still counting...\n",
      "Still counting...\n",
      "Still counting...\n",
      "Still counting...\n",
      "Still counting...\n",
      "Still counting...\n",
      "Still counting...\n",
      "Still counting...\n",
      "Still counting...\n",
      "Still counting...\n",
      "Still counting...\n",
      "Still counting...\n",
      "Still counting...\n",
      "Still counting...\n",
      "Still counting...\n",
      "Still counting...\n",
      "Still counting...\n",
      "Still counting...\n",
      "Still counting...\n",
      "Still counting...\n",
      "Still counting...\n",
      "Still counting...\n",
      "Still counting...\n",
      "Still counting...\n",
      "Still counting...\n",
      "Still counting...\n",
      "Still counting...\n",
      "Still counting...\n",
      "Still counting...\n",
      "Still counting...\n",
      "Still counting...\n",
      "Still counting...\n",
      "Still counting...\n",
      "Still counting...\n",
      "Still counting...\n",
      "Still counting...\n",
      "Still counting...\n",
      "Still counting...\n",
      "Still counting...\n",
      "Still counting...\n",
      "Still counting...\n",
      "Still counting...\n",
      "Still counting...\n",
      "Still counting...\n",
      "Still counting...\n",
      "Still counting...\n",
      "Still counting...\n",
      "Still counting...\n",
      "Still counting...\n",
      "Still counting...\n",
      "Still counting...\n",
      "Still counting...\n",
      "Still counting...\n",
      "Still counting...\n",
      "Still counting...\n",
      "Still counting...\n",
      "Still counting...\n",
      "Still counting...\n",
      "Still counting...\n",
      "Still counting...\n",
      "Still counting...\n",
      "Still counting...\n",
      "Still counting...\n",
      "Still counting...\n",
      "Still counting...\n",
      "Still counting...\n",
      "Still counting...\n",
      "Still counting...\n",
      "Still counting...\n",
      "Still counting...\n",
      "Still counting...\n",
      "Still counting...\n",
      "Still counting...\n",
      "Still counting...\n",
      "Still counting...\n",
      "Still counting...\n",
      "Still counting...\n",
      "Still counting...\n",
      "Still counting...\n",
      "Still counting...\n",
      "Still counting...\n",
      "Still counting...\n",
      "Still counting...\n",
      "Still counting...\n",
      "Still counting...\n",
      "Still counting...\n",
      "Still counting...\n",
      "Still counting...\n",
      "Still counting...\n",
      "Still counting...\n",
      "Still counting...\n",
      "Still counting...\n",
      "Still counting...\n",
      "Still counting...\n",
      "Still counting...\n",
      "Still counting...\n",
      "Still counting...\n",
      "Still counting...\n",
      "Still counting...\n",
      "Still counting...\n",
      "Still counting...\n",
      "Still counting...\n",
      "Still counting...\n",
      "Still counting...\n",
      "Still counting...\n",
      "Still counting...\n",
      "Still counting...\n",
      "Still counting...\n",
      "Still counting...\n",
      "Still counting...\n",
      "Still counting...\n",
      "Still counting...\n",
      "Still counting...\n",
      "Still counting...\n",
      "Still counting...\n",
      "Still counting...\n",
      "Still counting...\n",
      "Still counting...\n",
      "Still counting...\n",
      "Still counting...\n",
      "Still counting...\n",
      "Still counting...\n",
      "Still counting...\n",
      "Still counting...\n",
      "Still counting...\n",
      "Still counting...\n",
      "Still counting...\n",
      "Still counting...\n",
      "Still counting...\n",
      "Still counting...\n",
      "Still counting...\n",
      "Still counting...\n",
      "Still counting...\n",
      "Still counting...\n",
      "Still counting...\n",
      "Still counting...\n",
      "Still counting...\n",
      "Still counting...\n",
      "Still counting...\n",
      "Still counting...\n",
      "Still counting...\n",
      "Still counting...\n",
      "Still counting...\n",
      "Still counting...\n",
      "Still counting...\n",
      "Still counting...\n",
      "Still counting...\n",
      "Still counting...\n",
      "Still counting...\n",
      "Still counting...\n",
      "Still counting...\n",
      "Still counting...\n",
      "Still counting...\n",
      "Still counting...\n",
      "Still counting...\n",
      "Still counting...\n",
      "Still counting...\n",
      "Still counting...\n",
      "Still counting...\n",
      "Still counting...\n",
      "Still counting...\n",
      "Still counting...\n",
      "Still counting...\n",
      "Still counting...\n",
      "Still counting...\n",
      "Still counting...\n",
      "Still counting...\n",
      "Still counting...\n",
      "Still counting...\n",
      "Still counting...\n",
      "Still counting...\n",
      "Still counting...\n",
      "Still counting...\n",
      "Still counting...\n",
      "Still counting...\n",
      "Still counting...\n",
      "Still counting...\n",
      "Still counting...\n",
      "Still counting...\n",
      "Still counting...\n",
      "Still counting...\n",
      "Still counting...\n",
      "Still counting...\n",
      "Still counting...\n",
      "Still counting...\n",
      "Still counting...\n",
      "Still counting...\n",
      "Still counting...\n",
      "Still counting...\n",
      "Still counting...\n",
      "Still counting...\n",
      "Still counting...\n",
      "Still counting...\n",
      "Still counting...\n",
      "Still counting...\n",
      "Still counting...\n",
      "Still counting...\n",
      "Still counting...\n",
      "Still counting...\n",
      "Still counting...\n",
      "Still counting...\n",
      "Still counting...\n",
      "Still counting...\n",
      "Still counting...\n",
      "Still counting...\n",
      "Still counting...\n",
      "Still counting...\n",
      "Still counting...\n",
      "Still counting...\n",
      "Still counting...\n",
      "Still counting...\n",
      "Still counting...\n",
      "Still counting...\n",
      "Still counting...\n",
      "Still counting...\n",
      "Still counting...\n",
      "Still counting...\n",
      "Still counting...\n",
      "Still counting...\n",
      "Still counting...\n",
      "Still counting...\n",
      "Still counting...\n",
      "Still counting...\n",
      "Still counting...\n",
      "Still counting...\n",
      "Still counting...\n",
      "Still counting...\n",
      "Still counting...\n",
      "Still counting...\n",
      "Still counting...\n",
      "Still counting...\n",
      "Still counting...\n",
      "Still counting...\n",
      "Still counting...\n",
      "Still counting...\n",
      "Still counting...\n",
      "Still counting...\n",
      "Still counting...\n",
      "Still counting...\n",
      "Still counting...\n",
      "Still counting...\n",
      "Still counting...\n",
      "Still counting...\n",
      "Still counting...\n",
      "Still counting...\n",
      "Still counting...\n",
      "Still counting...\n",
      "Still counting...\n",
      "Still counting...\n",
      "Still counting...\n",
      "Still counting...\n",
      "Still counting...\n",
      "Still counting...\n",
      "Still counting...\n",
      "Still counting...\n",
      "Still counting...\n",
      "Still counting...\n",
      "Still counting...\n",
      "Still counting...\n",
      "Still counting...\n",
      "Still counting...\n",
      "Still counting...\n",
      "Still counting...\n",
      "Still counting...\n",
      "Still counting...\n",
      "Still counting...\n",
      "Still counting...\n",
      "Still counting...\n",
      "Still counting...\n",
      "Still counting...\n",
      "Still counting...\n",
      "Still counting...\n",
      "Still counting...\n",
      "Still counting...\n",
      "Still counting...\n",
      "Still counting...\n",
      "Still counting...\n",
      "Still counting...\n",
      "Still counting...\n",
      "Still counting...\n",
      "Still counting...\n",
      "Still counting...\n",
      "Still counting...\n",
      "Still counting...\n",
      "Still counting...\n",
      "Still counting...\n",
      "Still counting...\n",
      "Still counting...\n",
      "Still counting...\n",
      "Still counting...\n",
      "Still counting...\n",
      "Still counting...\n",
      "Still counting...\n",
      "Still counting...\n",
      "Still counting...\n",
      "Still counting...\n",
      "Still counting...\n",
      "Still counting...\n",
      "Still counting...\n",
      "Still counting...\n",
      "Still counting...\n",
      "Still counting...\n",
      "Still counting...\n",
      "Still counting...\n",
      "Still counting...\n",
      "Still counting...\n",
      "Still counting...\n",
      "Still counting...\n",
      "Still counting...\n",
      "Still counting...\n",
      "Sum is: 124750\n",
      "Numbers total: 499\n"
     ]
    }
   ],
   "source": [
    "# Задача №2\n",
    "\n",
    "S = 0   # накопительная переменная\n",
    "n = 1   # текущее натуральное число\n",
    "\n",
    "while n < 500:\n",
    "    S += n\n",
    "    n += 1\n",
    "    print('Still counting...')\n",
    "\n",
    "print('Sum is:', S)\n",
    "print('Numbers total:', n-1)    # корректируем n до предпоследного цикла"
   ]
  },
  {
   "cell_type": "code",
   "execution_count": 26,
   "metadata": {},
   "outputs": [
    {
     "name": "stdout",
     "output_type": "stream",
     "text": [
      "4\n"
     ]
    }
   ],
   "source": [
    "# Задание 3.3\n",
    "\n",
    "# заданное число\n",
    "value = 10\n",
    "# value = 159\n",
    "# value = 1000\n",
    "\n",
    "number = 1      # начальное натуральное число\n",
    "\n",
    "while number**2 < value:\n",
    "    number += 1\n",
    "\n",
    "print(number)"
   ]
  },
  {
   "cell_type": "code",
   "execution_count": 27,
   "metadata": {},
   "outputs": [
    {
     "name": "stdout",
     "output_type": "stream",
     "text": [
      "New client!\n",
      "New client!\n",
      "New client!\n",
      "New client!\n",
      "New client!\n",
      "New client!\n",
      "New client!\n",
      "New client!\n",
      "New client!\n",
      "New client!\n"
     ]
    }
   ],
   "source": [
    "n = 1\n",
    "\n",
    "while True:\n",
    "    print('New client!')\n",
    "    n += 1\n",
    "    if n > 10:\n",
    "        break"
   ]
  },
  {
   "cell_type": "code",
   "execution_count": 28,
   "metadata": {},
   "outputs": [
    {
     "name": "stdout",
     "output_type": "stream",
     "text": [
      "Такого пользователя нет\n",
      "Такого пользователя нет\n",
      "Такого пользователя нет\n",
      "Такого пользователя нет\n",
      "Такого пользователя нет\n",
      "Такого пользователя нет\n",
      "Такого пользователя нет\n",
      "Такого пользователя нет\n",
      "Такого пользователя нет\n",
      "Добро пожаловать\n"
     ]
    }
   ],
   "source": [
    "# Задача №3\n",
    "\n",
    "secret_passwords = {\n",
    "    'Enot': 'ulybaka',\n",
    "    'Agent12': '1password1',\n",
    "    'MouseLulu': 'myshkanaruhka'\n",
    "    }\n",
    "\n",
    "while True:\n",
    "    name = input('Логин: ')\n",
    "    if name in secret_passwords:\n",
    "        password = input('Пароль: ')\n",
    "        if secret_passwords[name] == password:\n",
    "            print('Добро пожаловать')\n",
    "            break\n",
    "        else:\n",
    "            print('Неверный пароль')\n",
    "    else:\n",
    "        print('Такого пользователя нет')"
   ]
  },
  {
   "cell_type": "code",
   "execution_count": 29,
   "metadata": {},
   "outputs": [
    {
     "name": "stdout",
     "output_type": "stream",
     "text": [
      "4\n"
     ]
    }
   ],
   "source": [
    "# Задание 3.4 \n",
    "\n",
    "# условие\n",
    "value = 10\n",
    "# value = 159\n",
    "# value = 1000\n",
    "\n",
    "number = 1   # начальное натуральное число\n",
    "\n",
    "while True:\n",
    "    if number**2 > value:\n",
    "        break\n",
    "    else:\n",
    "        number += 1\n",
    "\n",
    "print(number)"
   ]
  },
  {
   "cell_type": "code",
   "execution_count": 30,
   "metadata": {},
   "outputs": [
    {
     "name": "stdout",
     "output_type": "stream",
     "text": [
      "Hello\n",
      "Hello\n",
      "Hello\n"
     ]
    }
   ],
   "source": [
    "# Задание 3.8\n",
    "\n",
    "n = 3\n",
    "# n = 5\n",
    "\n",
    "i = 0   # количество повторений цикла\n",
    "\n",
    "while i < n:\n",
    "    print('Hello')\n",
    "    i += 1"
   ]
  },
  {
   "cell_type": "code",
   "execution_count": 31,
   "metadata": {},
   "outputs": [
    {
     "name": "stdout",
     "output_type": "stream",
     "text": [
      "10\n"
     ]
    }
   ],
   "source": [
    "# Задание 3.9\n",
    "\n",
    "n = 10\n",
    "# n = 156\n",
    "# n = 12\n",
    "\n",
    "x = 1\n",
    "\n",
    "while x ** 2 % n != 0:\n",
    "    x += 1\n",
    "\n",
    "print(x)"
   ]
  },
  {
   "cell_type": "code",
   "execution_count": 32,
   "metadata": {},
   "outputs": [
    {
     "name": "stdout",
     "output_type": "stream",
     "text": [
      "5040\n"
     ]
    }
   ],
   "source": [
    "# Задание 3.10\n",
    "\n",
    "value = 1000\n",
    "# value = 178\n",
    "# value = 10\n",
    "\n",
    "p = 1       # начальный множитель\n",
    "n = 1       # начальное натуральное число\n",
    "\n",
    "while p <= value:\n",
    "    p *= n\n",
    "    n += 1\n",
    "\n",
    "print(p)"
   ]
  },
  {
   "cell_type": "code",
   "execution_count": 33,
   "metadata": {},
   "outputs": [
    {
     "name": "stdout",
     "output_type": "stream",
     "text": [
      "15\n"
     ]
    }
   ],
   "source": [
    "# Задание 3.11\n",
    "\n",
    "money = 1000            # начальная сумма денег\n",
    "target_money = 3000     # целевая сумма\n",
    "# money = 8000\n",
    "# target_money = 15000\n",
    "# money = 1500\n",
    "# target_money = 300\n",
    "\n",
    "year_count = 0          # счетчик лет\n",
    "\n",
    "while not target_money < money:\n",
    "    money *= 1.08       # 8% годовых\n",
    "    year_count += 1     # еще год\n",
    "\n",
    "print(year_count)"
   ]
  },
  {
   "cell_type": "code",
   "execution_count": 34,
   "metadata": {},
   "outputs": [
    {
     "data": {
      "text/plain": [
       "7"
      ]
     },
     "execution_count": 34,
     "metadata": {},
     "output_type": "execute_result"
    }
   ],
   "source": [
    "# Задание 3.12\n",
    "\n",
    "health = 500\n",
    "damage = 80\n",
    "# health = 3014\n",
    "# damage = 174\n",
    "\n",
    "seconds_num = 1\n",
    "\n",
    "while health > damage:\n",
    "    health -= damage\n",
    "    seconds_num += 1\n",
    "\n",
    "seconds_num"
   ]
  },
  {
   "cell_type": "code",
   "execution_count": 35,
   "metadata": {},
   "outputs": [
    {
     "name": "stdout",
     "output_type": "stream",
     "text": [
      "[1, 1, 2]\n"
     ]
    }
   ],
   "source": [
    "# Задание 3.13\n",
    "\n",
    "n = 3\n",
    "# n = 5\n",
    "# n = 9\n",
    "\n",
    "fibonacci_list = []     # инициализация пустого списка\n",
    "\n",
    "while len(fibonacci_list) < n:\n",
    "    if len(fibonacci_list) < 2:\n",
    "        # инициализация первых чисел\n",
    "        fibonacci_list += [1, 1]\n",
    "    # новое число, равное сумме двух последних\n",
    "    fibonacci_list.append(fibonacci_list[-2] + fibonacci_list[-1])\n",
    "\n",
    "print(fibonacci_list)"
   ]
  },
  {
   "cell_type": "markdown",
   "metadata": {},
   "source": [
    "### 4 юнит"
   ]
  },
  {
   "cell_type": "code",
   "execution_count": 36,
   "metadata": {},
   "outputs": [],
   "source": [
    "temperature = [\n",
    "    [13, 15, 10],\n",
    "    [14, 13, 9],\n",
    "    [8, 9, 6]\n",
    "    ]"
   ]
  },
  {
   "cell_type": "code",
   "execution_count": 37,
   "metadata": {},
   "outputs": [
    {
     "name": "stdout",
     "output_type": "stream",
     "text": [
      "[14, 13, 9]\n",
      "9\n"
     ]
    }
   ],
   "source": [
    "print(temperature[1])\n",
    "print(temperature[1][2])"
   ]
  },
  {
   "cell_type": "code",
   "execution_count": 38,
   "metadata": {},
   "outputs": [
    {
     "name": "stdout",
     "output_type": "stream",
     "text": [
      "10\n",
      "13\n",
      "8\n"
     ]
    }
   ],
   "source": [
    "# Задание 4.1\n",
    "\n",
    "print(temperature[0][2])\n",
    "print(temperature[1][1])\n",
    "print(temperature[2][0])"
   ]
  },
  {
   "cell_type": "code",
   "execution_count": 39,
   "metadata": {},
   "outputs": [
    {
     "name": "stdout",
     "output_type": "stream",
     "text": [
      "Current row [1, 2]\n",
      "Current elem 1\n",
      "Current elem 2\n",
      "\n",
      "Current row [3, 4]\n",
      "Current elem 3\n",
      "Current elem 4\n",
      "\n",
      "Current row [5, 6]\n",
      "Current elem 5\n",
      "Current elem 6\n",
      "\n"
     ]
    }
   ],
   "source": [
    "matrix = [\n",
    "    [1, 2], \n",
    "    [3, 4], \n",
    "    [5, 6]\n",
    "    ]\n",
    "\n",
    "for row in matrix:\n",
    "    print('Current row', row)\n",
    "    for elem in row:\n",
    "        print('Current elem', elem)\n",
    "    print()"
   ]
  },
  {
   "cell_type": "code",
   "execution_count": 40,
   "metadata": {},
   "outputs": [
    {
     "name": "stdout",
     "output_type": "stream",
     "text": [
      "Current i 0\n",
      "Current row [1, 2]\n",
      "Current row 0\n",
      "Current elem 1\n",
      "Current row 1\n",
      "Current elem 2\n",
      "Current i 1\n",
      "Current row [3, 4]\n",
      "Current row 0\n",
      "Current elem 3\n",
      "Current row 1\n",
      "Current elem 4\n",
      "Current i 2\n",
      "Current row [5, 6]\n",
      "Current row 0\n",
      "Current elem 5\n",
      "Current row 1\n",
      "Current elem 6\n"
     ]
    }
   ],
   "source": [
    "N = len(matrix)\n",
    "M = len(matrix[0])\n",
    "\n",
    "for i in range(N):\n",
    "    print('Current i', i)\n",
    "    print('Current row', matrix[i])\n",
    "    for j in range(M):\n",
    "        print('Current row', j)\n",
    "        print('Current elem', matrix[i][j])"
   ]
  },
  {
   "cell_type": "code",
   "execution_count": 41,
   "metadata": {},
   "outputs": [
    {
     "name": "stdout",
     "output_type": "stream",
     "text": [
      "0.99\n"
     ]
    }
   ],
   "source": [
    "scores = [\n",
    "    [0.5, 0.6, 0.6, 0.65, 0.3],\n",
    "    [0.55, 0.7, 0.9, 0.5, 0.5],\n",
    "    [0.59, 0.35, 0.99, 0.5, 0.6]\n",
    "    ]\n",
    "\n",
    "N = len(scores)\n",
    "M = len(scores[0])\n",
    "\n",
    "max_value = 0\n",
    "\n",
    "for i in range(N):\n",
    "    for j in range(M):\n",
    "        if max_value < scores[i][j]:\n",
    "            max_value = scores[i][j]\n",
    "\n",
    "print(max_value)"
   ]
  },
  {
   "cell_type": "code",
   "execution_count": 42,
   "metadata": {},
   "outputs": [
    {
     "data": {
      "text/plain": [
       "0.99"
      ]
     },
     "execution_count": 42,
     "metadata": {},
     "output_type": "execute_result"
    }
   ],
   "source": [
    "max(max(scores))"
   ]
  },
  {
   "cell_type": "code",
   "execution_count": 43,
   "metadata": {},
   "outputs": [
    {
     "name": "stdout",
     "output_type": "stream",
     "text": [
      "Alarm is set 10:00\n",
      "Alarm is set 10:30\n",
      "Alarm is set 15:00\n",
      "Alarm is set 15:30\n",
      "Alarm is set 20:00\n",
      "Alarm is set 20:30\n"
     ]
    }
   ],
   "source": [
    "# ЗАДАЧА №1\n",
    "\n",
    "hours = list(range(10, 24, 5))\n",
    "minutes = list(range(0, 60, 30))\n",
    "\n",
    "for hour in hours:\n",
    "    for minute in minutes:\n",
    "        if minute == 0:\n",
    "            print(f'Alarm is set {hour}:{minute}0')\n",
    "        else:\n",
    "            print(f'Alarm is set {hour}:{minute}')"
   ]
  },
  {
   "cell_type": "code",
   "execution_count": 44,
   "metadata": {},
   "outputs": [
    {
     "name": "stdout",
     "output_type": "stream",
     "text": [
      "Alarm is set 9:00\n",
      "Alarm is set 9:15\n",
      "Alarm is set 9:30\n",
      "Alarm is set 9:45\n",
      "Alarm is set 11:00\n",
      "Alarm is set 11:15\n",
      "Alarm is set 11:30\n",
      "Alarm is set 11:45\n",
      "Alarm is set 13:00\n",
      "Alarm is set 13:15\n",
      "Alarm is set 13:30\n",
      "Alarm is set 13:45\n",
      "Alarm is set 15:00\n",
      "Alarm is set 15:15\n",
      "Alarm is set 15:30\n",
      "Alarm is set 15:45\n",
      "Alarm is set 17:00\n",
      "Alarm is set 17:15\n",
      "Alarm is set 17:30\n",
      "Alarm is set 17:45\n",
      "Alarm is set 19:00\n",
      "Alarm is set 19:15\n",
      "Alarm is set 19:30\n",
      "Alarm is set 19:45\n",
      "Alarm is set 21:00\n",
      "Alarm is set 21:15\n",
      "Alarm is set 21:30\n",
      "Alarm is set 21:45\n",
      "Alarm is set 23:00\n",
      "Alarm is set 23:15\n",
      "Alarm is set 23:30\n",
      "Alarm is set 23:45\n"
     ]
    }
   ],
   "source": [
    "# Задание 4.2\n",
    "\n",
    "hours = list(range(9, 24, 2))\n",
    "minutes = list(range(0, 60, 15))\n",
    "\n",
    "for hour in hours:\n",
    "    for minute in minutes:\n",
    "        if minute == 0:\n",
    "            print(f'Alarm is set {hour}:{minute}0')\n",
    "        else:\n",
    "            print(f'Alarm is set {hour}:{minute}')"
   ]
  },
  {
   "cell_type": "code",
   "execution_count": 45,
   "metadata": {},
   "outputs": [
    {
     "name": "stdout",
     "output_type": "stream",
     "text": [
      "Count symbol 'e': 5\n"
     ]
    }
   ],
   "source": [
    "# ЗАДАЧА №2\n",
    "\n",
    "str_list = ['text', 'morning', 'notepad', 'television', 'ornament']\n",
    "\n",
    "letter = 'e'\n",
    "count = 0\n",
    "\n",
    "for text  in str_list:\n",
    "    for symbol in text:\n",
    "        if symbol == letter:\n",
    "            count += 1\n",
    "\n",
    "print(f'Count symbol \\'{letter}\\': {count}')"
   ]
  },
  {
   "cell_type": "code",
   "execution_count": 46,
   "metadata": {},
   "outputs": [
    {
     "name": "stdout",
     "output_type": "stream",
     "text": [
      "Count symbol 'e': 5\n"
     ]
    }
   ],
   "source": [
    "str_list = ['text', 'morning', 'notepad', 'television', 'ornament']\n",
    "\n",
    "letter = 'e'\n",
    "count = 0\n",
    "\n",
    "for text  in str_list:\n",
    "    count += text.count(letter)\n",
    "\n",
    "print(f'Count symbol \\'{letter}\\': {count}')"
   ]
  },
  {
   "cell_type": "code",
   "execution_count": 47,
   "metadata": {},
   "outputs": [
    {
     "name": "stdout",
     "output_type": "stream",
     "text": [
      "s\n",
      "i\n",
      "m\n",
      "p\n",
      "l\n",
      "e\n",
      " \n",
      "s\n",
      "t\n",
      "r\n",
      "i\n",
      "n\n",
      "g\n"
     ]
    }
   ],
   "source": [
    "simple_string = 'simple string'\n",
    "\n",
    "for s in simple_string:\n",
    "    print(s)"
   ]
  },
  {
   "cell_type": "code",
   "execution_count": 48,
   "metadata": {},
   "outputs": [
    {
     "name": "stdout",
     "output_type": "stream",
     "text": [
      "10\n"
     ]
    }
   ],
   "source": [
    "# Задание 4.3\n",
    "\n",
    "text_list = [\n",
    "    'afbaad',\n",
    "    'faaf',\n",
    "    'afaga',\n",
    "    'agag']\n",
    "\n",
    "count = 0\n",
    "\n",
    "for text in text_list:\n",
    "    for symbol in text:\n",
    "        if symbol == 'a':\n",
    "            count += 1\n",
    "\n",
    "print(count)"
   ]
  },
  {
   "cell_type": "code",
   "execution_count": 49,
   "metadata": {},
   "outputs": [
    {
     "name": "stdout",
     "output_type": "stream",
     "text": [
      "[1, 2, 4]\n"
     ]
    }
   ],
   "source": [
    "# ЗАДАЧА №3\n",
    "\n",
    "random_matrix = [\n",
    "    [9, 2, 1],\n",
    "    [2, 5, 3],\n",
    "    [4, 8, 5]\n",
    "    ]\n",
    "\n",
    "N = len(random_matrix)\n",
    "M = len(random_matrix[0])\n",
    "min_value_rows = []\n",
    "\n",
    "for i in range(N):\n",
    "    for j in range(M):\n",
    "        min_value = random_matrix[i][0]\n",
    "        if min_value >= random_matrix[i][j]:\n",
    "            min_value = random_matrix[i][j]\n",
    "    min_value_rows.append(min_value)\n",
    "\n",
    "print(min_value_rows)"
   ]
  },
  {
   "cell_type": "code",
   "execution_count": 50,
   "metadata": {},
   "outputs": [
    {
     "name": "stdout",
     "output_type": "stream",
     "text": [
      "[9, 5, 8]\n"
     ]
    }
   ],
   "source": [
    "# Задание 4.4\n",
    "\n",
    "random_matrix = [\n",
    "    [9, 2, 1],\n",
    "    [2, 5, 3],\n",
    "    [4, 8, 5]\n",
    "    ]\n",
    "\n",
    "# random_matrix = [\n",
    "#     [9, 121, 1, 10, 42],\n",
    "#     [91, 5, 3, 34, -1],\n",
    "#     [-8, 98, 5, 24, -420]\n",
    "#     ]\n",
    "\n",
    "max_value_rows = []\n",
    "\n",
    "for row in random_matrix:\n",
    "    max_value = row[0]\n",
    "    for value in row:\n",
    "        if value > max_value:\n",
    "            max_value = value\n",
    "    max_value_rows.append(max_value)\n",
    "\n",
    "print(max_value_rows)"
   ]
  },
  {
   "cell_type": "code",
   "execution_count": 51,
   "metadata": {},
   "outputs": [
    {
     "name": "stdout",
     "output_type": "stream",
     "text": [
      "math mean mark is 76.6\n",
      "info mean mark is 64.8\n",
      "russ mean mark is 82.2\n",
      "overall mean mark is 74.53\n"
     ]
    }
   ],
   "source": [
    "# ЗАДАЧА №4\n",
    "\n",
    "student_scores = [\n",
    "    [56, 90, 80],\n",
    "    [80, 86, 92],\n",
    "    [91, 76, 89],\n",
    "    [91, 42, 60],\n",
    "    [65, 30, 90]\n",
    "    ]\n",
    "\n",
    "stud_dict = {}\n",
    "overall_mean_mark = []\n",
    "\n",
    "for student in student_scores:\n",
    "    if not stud_dict:\n",
    "        stud_dict['math'] = [student[0]]\n",
    "        stud_dict['info'] = [student[1]]\n",
    "        stud_dict['russ'] = [student[2]]\n",
    "    else:\n",
    "        stud_dict['math'].append(student[0])\n",
    "        stud_dict['info'].append(student[1])\n",
    "        stud_dict['russ'].append(student[2])\n",
    "\n",
    "for exam, marks in stud_dict.items():\n",
    "    mean_mark = sum(marks) / len(marks)\n",
    "    overall_mean_mark.append(mean_mark)\n",
    "    print(f'{exam} mean mark is {mean_mark}')\n",
    "\n",
    "overall_mean_mark = sum(overall_mean_mark) / len(overall_mean_mark)\n",
    "\n",
    "print(f'overall mean mark is {overall_mean_mark:.2f}')"
   ]
  },
  {
   "cell_type": "code",
   "execution_count": 52,
   "metadata": {},
   "outputs": [
    {
     "name": "stdout",
     "output_type": "stream",
     "text": [
      "Average math score 383\n",
      "Average info score 324\n",
      "Average russ score 411\n",
      "Average score 74.53333333333333\n"
     ]
    }
   ],
   "source": [
    "N = len(student_scores)\n",
    "M = len(student_scores[0])\n",
    "\n",
    "summa, math_sum, info_sum, russ_sum = 0, 0, 0, 0\n",
    "\n",
    "for i in range(N):\n",
    "    math_sum += student_scores[i][0]\n",
    "    info_sum += student_scores[i][1]\n",
    "    russ_sum += student_scores[i][2]\n",
    "    for j in range(M):\n",
    "        summa += student_scores[i][j]\n",
    "\n",
    "print('Average math score {}'.format(math_sum))\n",
    "print('Average info score {}'.format(info_sum))\n",
    "print('Average russ score {}'.format(russ_sum))\n",
    "print('Average score {}'.format(summa/(N*M)))"
   ]
  },
  {
   "cell_type": "code",
   "execution_count": 53,
   "metadata": {},
   "outputs": [
    {
     "data": {
      "text/plain": [
       "0.9"
      ]
     },
     "execution_count": 53,
     "metadata": {},
     "output_type": "execute_result"
    }
   ],
   "source": [
    "# Задание 4.5\n",
    "\n",
    "scores = [\n",
    "    [0.5, 0.6, 0.6, 0.65, 0.3],\n",
    "    [0.55, 0.7, 0.9, 0.5, 0.5]]\n",
    "\n",
    "scores[1][2]"
   ]
  },
  {
   "cell_type": "code",
   "execution_count": 54,
   "metadata": {},
   "outputs": [
    {
     "name": "stdout",
     "output_type": "stream",
     "text": [
      "[0.5, 0.6, 0.6, 0.65, 0.3, 0.55, 0.7, 0.9, 0.5, 0.5]\n"
     ]
    }
   ],
   "source": [
    "# Задание 4.7\n",
    "\n",
    "scores = [\n",
    "    [0.5, 0.6, 0.6, 0.65, 0.3],\n",
    "    [0.55, 0.7, 0.9, 0.5, 0.5]\n",
    "]\n",
    "scores_lst = []\n",
    "for row in scores:\n",
    "    for score in row:\n",
    "        scores_lst.append(score)\n",
    "print(scores_lst)"
   ]
  },
  {
   "cell_type": "code",
   "execution_count": 55,
   "metadata": {},
   "outputs": [
    {
     "name": "stdout",
     "output_type": "stream",
     "text": [
      "True\n"
     ]
    }
   ],
   "source": [
    "# Задание 4.8\n",
    "\n",
    "test_matrix = [\n",
    "    [1, 2, 3],\n",
    "    [7, -1, 2],\n",
    "    [123, 2, -1]]\n",
    "\n",
    "# test_matrix = [\n",
    "#     [1, 2, 3],\n",
    "#     [7, -1, 2],\n",
    "#     [123, 2, -1],\n",
    "#     [123, 5, 1]]\n",
    "\n",
    "# test_matrix = [\n",
    "#     [1, 2, 3,  4],\n",
    "#     [7, -1, 2, 5],\n",
    "#     [123, 2, -1, 3],\n",
    "#     [123, 5, 1]]\n",
    "\n",
    "# test_matrix = [\n",
    "#     [1, 2, 3, 1, 1, 1, 1],\n",
    "#     [7, -1, 2, 1, 1, 1, 1],\n",
    "#     [123, 2, -1, 1, 1, 1]]\n",
    "\n",
    "# test_matrix = [\n",
    "#     [1, 2, 3],\n",
    "#     [7, -1, 2],\n",
    "#     [123, 2, -1, 6]]\n",
    "\n",
    "N = len(test_matrix)            # количество строк в матрице\n",
    "M = None                        # переменная для хранения количества столбцов\n",
    "\n",
    "for i in range(N):\n",
    "    M = len(test_matrix[i])     # находим количество столбцов в текущей строке\n",
    "\n",
    "is_square = N == M              # проверяем, является ли матрица квадратной\n",
    "\n",
    "print(is_square)"
   ]
  },
  {
   "cell_type": "code",
   "execution_count": 68,
   "metadata": {},
   "outputs": [
    {
     "data": {
      "text/plain": [
       "[[25, 27, 28, 26, 27, 26, 25, 2, 26],\n",
       " [21, 22, 28, 27, 28, 26, 25, 19, 26],\n",
       " [19, 21, 25, 27, 28, 25, 21, 20, 26]]"
      ]
     },
     "execution_count": 68,
     "metadata": {},
     "output_type": "execute_result"
    }
   ],
   "source": [
    "# Задание 4.9\n",
    "\n",
    "temp = [\n",
    "    [25, 27, 28, 26, 27, -26, -25, -2, 26],\n",
    "    [21, 22, 28, 27, 28, 26, 25, 19, 26],\n",
    "    [-19, 21, 25, -27, 28, 25, 21, 20, 26]]\n",
    "\n",
    "# temp = [\n",
    "#     [-12, -34, 24, 25, 25, -25, 25, 23, -30],\n",
    "#     [12, 15, 31, -27, -28, 26, 25, 19, 26],\n",
    "#     [-19, 21, 25, -27, 28, 25, 21, 20, 26]]\n",
    "\n",
    "N = len(temp)\n",
    "M = len(temp[0])\n",
    "\n",
    "for i in range(N):\n",
    "    for j in range(M):\n",
    "        value = temp[i][j]\n",
    "        if value < 0:\n",
    "            temp[i][j] *= -1\n",
    "\n",
    "temp"
   ]
  },
  {
   "cell_type": "code",
   "execution_count": 69,
   "metadata": {},
   "outputs": [
    {
     "data": {
      "text/plain": [
       "[[25, 27, 28, 26, 27, 26, 25, 2, 26],\n",
       " [21, 22, 28, 27, 28, 26, 25, 19, 26],\n",
       " [19, 21, 25, 27, 28, 25, 21, 20, 26]]"
      ]
     },
     "execution_count": 69,
     "metadata": {},
     "output_type": "execute_result"
    }
   ],
   "source": [
    "temp = [\n",
    "    [25, 27, 28, 26, 27, -26, -25, -2, 26],\n",
    "    [21, 22, 28, 27, 28, 26, 25, 19, 26],\n",
    "    [-19, 21, 25, -27, 28, 25, 21, 20, 26]]\n",
    "\n",
    "for i in range(len(temp)):\n",
    "    row = temp[i]\n",
    "    for j in range(len(row)):\n",
    "        if temp[i][j] < 0:\n",
    "            temp[i][j] *= -1\n",
    "\n",
    "temp"
   ]
  },
  {
   "cell_type": "code",
   "execution_count": null,
   "metadata": {},
   "outputs": [
    {
     "name": "stdout",
     "output_type": "stream",
     "text": [
      "[0.73, 0.62, 0.52, 0.76]\n",
      "0.76\n"
     ]
    }
   ],
   "source": [
    "# Задание 4.10\n",
    "\n",
    "# Показателями удовлетворённости клиентов компании по месяцам\n",
    "customer_satisfaction = [\n",
    "    [0.87, 0.56, 0.77],\n",
    "    [0.22, 0.46, 0.56, 0.89, 0.95],\n",
    "    [0.45, 0.44, 0.68],\n",
    "    [0.73, 0.88, 0.95, 0.49]]\n",
    "\n",
    "# customer_satisfaction = [\n",
    "#     [0.87, 0.56, 0.77],\n",
    "#     [0.22, 0.46, 0.56, 0.89, 0.95],\n",
    "#     [0.45, 0.44, 0.68],\n",
    "#     [0.73, 0.88, 0.95, 0.49]]\n",
    "\n",
    "# customer_satisfaction = [\n",
    "#     [0.15, 0.13, 0.2, 0.12, 0.4, 0.96],\n",
    "#     [0.1, 0.15, 0.21, 0.93, 0.81],\n",
    "#     [0.45, 0.71],\n",
    "#     [0.73, 0.88, 0.95, 0.49]]\n",
    "\n",
    "# customer_satisfaction = [\n",
    "#     [0.15, 0.13, 0.2, 0.12, 0.4, 0.96],\n",
    "#     [0.1, 0.15, 0.21, 0.93, 0.81],\n",
    "#     [0.45, 0.71],\n",
    "#     [0.73, 0.88, 0.95, 0.49]]\n",
    "\n",
    "month_satisfaction = [] # хранение среднего показателя удовлетворённости по каждому месяцу\n",
    "max_satisfaction = 0    # хранение макс. сред. показателя удовлетворённости за месяц\n",
    "\n",
    "for i in range(len(customer_satisfaction)):\n",
    "    sum_satisfaction = 0               # сумма удовлетворённости за текущий месяц\n",
    "    month = customer_satisfaction[i]    # данные за текущий месяц\n",
    "    \n",
    "    # Суммируем показатели удовлетворённости за месяц\n",
    "    for j in range(len(month)):\n",
    "        sum_satisfaction += customer_satisfaction[i][j]\n",
    "\n",
    "    # Рассчитываем и добавляем среднее значение удовлетворённости за месяц\n",
    "    mean_month_satisfaction = round(sum_satisfaction / len(month), 2)\n",
    "    month_satisfaction.append(mean_month_satisfaction)\n",
    "\n",
    "    # Проверяем, является ли текущий средний показатель максимальным\n",
    "    if mean_month_satisfaction > max_satisfaction:\n",
    "        max_satisfaction = mean_month_satisfaction\n",
    "\n",
    "print(month_satisfaction)\n",
    "print(max_satisfaction)"
   ]
  }
 ],
 "metadata": {
  "kernelspec": {
   "display_name": "base",
   "language": "python",
   "name": "python3"
  },
  "language_info": {
   "codemirror_mode": {
    "name": "ipython",
    "version": 3
   },
   "file_extension": ".py",
   "mimetype": "text/x-python",
   "name": "python",
   "nbconvert_exporter": "python",
   "pygments_lexer": "ipython3",
   "version": "3.12.4"
  }
 },
 "nbformat": 4,
 "nbformat_minor": 2
}
