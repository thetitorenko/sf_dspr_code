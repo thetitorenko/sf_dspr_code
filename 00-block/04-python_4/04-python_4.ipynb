{
 "cells": [
  {
   "cell_type": "markdown",
   "metadata": {},
   "source": [
    "### 0 юнит"
   ]
  },
  {
   "cell_type": "code",
   "execution_count": 1,
   "metadata": {},
   "outputs": [
    {
     "name": "stdout",
     "output_type": "stream",
     "text": [
      "3\n"
     ]
    }
   ],
   "source": [
    "# Задание 0.1\n",
    "\n",
    "lst=[90, 230, 23]\n",
    "print(len(lst))"
   ]
  },
  {
   "cell_type": "code",
   "execution_count": null,
   "metadata": {},
   "outputs": [
    {
     "name": "stdout",
     "output_type": "stream",
     "text": [
      "230\n"
     ]
    }
   ],
   "source": [
    "# Задание 0.3\n",
    "\n",
    "lst=[90, 230, 23]\n",
    "print(lst[1])"
   ]
  },
  {
   "cell_type": "code",
   "execution_count": null,
   "metadata": {},
   "outputs": [
    {
     "data": {
      "text/plain": [
       "'east or west home is best'"
      ]
     },
     "execution_count": 3,
     "metadata": {},
     "output_type": "execute_result"
    }
   ],
   "source": [
    "# Задание 0.4\n",
    "\n",
    "sentences = 'East or West home is best'\n",
    "sentences.lower()"
   ]
  },
  {
   "cell_type": "code",
   "execution_count": null,
   "metadata": {},
   "outputs": [
    {
     "data": {
      "text/plain": [
       "'East or We'"
      ]
     },
     "execution_count": 4,
     "metadata": {},
     "output_type": "execute_result"
    }
   ],
   "source": [
    "# Задание 0.5\n",
    "\n",
    "sentences = 'East or West home is best'\n",
    "sentences[:10]"
   ]
  },
  {
   "cell_type": "code",
   "execution_count": null,
   "metadata": {},
   "outputs": [
    {
     "data": {
      "text/plain": [
       "'Your age is 18, welcome'"
      ]
     },
     "execution_count": 5,
     "metadata": {},
     "output_type": "execute_result"
    }
   ],
   "source": [
    "# Задание 0.6\n",
    "\n",
    "age=18\n",
    "'Your age is {}, welcome'.format(age)"
   ]
  },
  {
   "cell_type": "code",
   "execution_count": null,
   "metadata": {},
   "outputs": [
    {
     "data": {
      "text/plain": [
       "['East', 'or', 'West', 'home', 'is', 'best']"
      ]
     },
     "execution_count": 6,
     "metadata": {},
     "output_type": "execute_result"
    }
   ],
   "source": [
    "# Задание 0.7\n",
    "\n",
    "sentences = 'East or West home is best'\n",
    "sentences.split()"
   ]
  },
  {
   "cell_type": "markdown",
   "metadata": {},
   "source": [
    "### 1 юнит"
   ]
  },
  {
   "cell_type": "code",
   "execution_count": 7,
   "metadata": {},
   "outputs": [
    {
     "name": "stdout",
     "output_type": "stream",
     "text": [
      "Element 5\n",
      "Element 9\n",
      "Element 19\n"
     ]
    }
   ],
   "source": [
    "my_list = [5, 9, 19]\n",
    "\n",
    "for element in my_list:\n",
    "    print('Element', element)"
   ]
  },
  {
   "cell_type": "code",
   "execution_count": 19,
   "metadata": {},
   "outputs": [
    {
     "name": "stdout",
     "output_type": "stream",
     "text": [
      "Current income 120\n",
      "Current S 0\n",
      "New S 120\n",
      "\n",
      "Current income 38.5\n",
      "Current S 120\n",
      "New S 158.5\n",
      "\n",
      "Current income 40.5\n",
      "Current S 158.5\n",
      "New S 199.0\n",
      "\n",
      "Current income 80\n",
      "Current S 199.0\n",
      "New S 279.0\n",
      "\n",
      "Answer: s= 279.0\n"
     ]
    }
   ],
   "source": [
    "# Задача №1\n",
    "\n",
    "incomes = [120, 38.5, 40.5, 80]     # список доходов\n",
    "S = 0                               # начальное значение сумму доходов\n",
    "\n",
    "for income in incomes:\n",
    "    print('Current income', income)\n",
    "    print('Current S', S)\n",
    "    S += income                     # равносильно S = S + income\n",
    "    print('New S', S)\n",
    "    print()\n",
    "\n",
    "print('Answer: s=',S)\n",
    "# print(sum(incomes))"
   ]
  },
  {
   "cell_type": "code",
   "execution_count": 20,
   "metadata": {},
   "outputs": [
    {
     "name": "stdout",
     "output_type": "stream",
     "text": [
      "279.0\n"
     ]
    }
   ],
   "source": [
    "S = sum(incomes)\n",
    "print(S)"
   ]
  },
  {
   "cell_type": "code",
   "execution_count": 23,
   "metadata": {},
   "outputs": [
    {
     "name": "stdout",
     "output_type": "stream",
     "text": [
      "1947456\n"
     ]
    }
   ],
   "source": [
    "# Задание 2.2\n",
    "\n",
    "num_list = [98, 24, 23, 12, 3]\n",
    "# num_list = [1, 10, 0.5, 21, 0.13]\n",
    "# num_list = [0.1, 0.24, 0.1, 2, 0]\n",
    "\n",
    "p = 1\n",
    "\n",
    "for num in num_list:\n",
    "    p *= num\n",
    "\n",
    "print(p)"
   ]
  },
  {
   "cell_type": "code",
   "execution_count": 36,
   "metadata": {},
   "outputs": [
    {
     "name": "stdout",
     "output_type": "stream",
     "text": [
      "Currecnt S: 0\n",
      "Current number: 1\n",
      "Sum after addition: 1\n",
      "\n",
      "Currecnt S: 1\n",
      "Current number: 2\n",
      "Sum after addition: 3\n",
      "\n",
      "Currecnt S: 3\n",
      "Current number: 3\n",
      "Sum after addition: 6\n",
      "\n",
      "Currecnt S: 6\n",
      "Current number: 4\n",
      "Sum after addition: 10\n",
      "\n",
      "Currecnt S: 10\n",
      "Current number: 5\n",
      "Sum after addition: 15\n",
      "\n",
      "Currecnt S: 15\n",
      "Current number: 6\n",
      "Sum after addition: 21\n",
      "\n",
      "Currecnt S: 21\n",
      "Current number: 7\n",
      "Sum after addition: 28\n",
      "\n",
      "Currecnt S: 28\n",
      "Current number: 8\n",
      "Sum after addition: 36\n",
      "\n",
      "Currecnt S: 36\n",
      "Current number: 9\n",
      "Sum after addition: 45\n",
      "\n",
      "Currecnt S: 45\n",
      "Current number: 10\n",
      "Sum after addition: 55\n",
      "\n",
      "Answer: sum = 55\n"
     ]
    }
   ],
   "source": [
    "# Задача №2\n",
    "\n",
    "N = 10      # последний элемент последовательности\n",
    "S = 0       # накопительная переменная\n",
    "\n",
    "for i in range(1, N+1):     # равносильно for i in [1, 2, 3, ... , N]\n",
    "    print('Currecnt S:', S)\n",
    "    print('Current number:', i)\n",
    "    S += i                  # равносильно S = S + i\n",
    "    print('Sum after addition:', S)\n",
    "    print()\n",
    "\n",
    "print('Answer: sum =', S)"
   ]
  },
  {
   "cell_type": "code",
   "execution_count": null,
   "metadata": {},
   "outputs": [
    {
     "name": "stdout",
     "output_type": "stream",
     "text": [
      "3628800\n"
     ]
    }
   ],
   "source": [
    "# Задание 2.4\n",
    "\n",
    "n = 3\n",
    "# n = 5\n",
    "# n = 10\n",
    "\n",
    "p = 1\n",
    "\n",
    "for i in range(1, n+1):\n",
    "    p *= i\n",
    "\n",
    "print(p)"
   ]
  },
  {
   "cell_type": "code",
   "execution_count": null,
   "metadata": {},
   "outputs": [
    {
     "name": "stdout",
     "output_type": "stream",
     "text": [
      "*\n",
      "**\n",
      "***\n",
      "****\n"
     ]
    }
   ],
   "source": [
    "# Задание 2.5\n",
    "\n",
    "n = 3\n",
    "# n = 4\n",
    "# n = 5\n",
    "# n = 7\n",
    "\n",
    "for i in range(1, n+1):\n",
    "    print('*' * i)"
   ]
  },
  {
   "cell_type": "code",
   "execution_count": null,
   "metadata": {},
   "outputs": [
    {
     "name": "stdout",
     "output_type": "stream",
     "text": [
      "Товар 1 весом 10 кг перевозиться на легковой машине\n",
      "Товар 2 весом 42.4 кг перевозиться на легковой машине\n",
      "Товар 3 весом 240.1 кг перевозиться на грузовой машине\n",
      "Товар 4 весом 101.5 кг перевозиться на грузовой машине\n",
      "Товар 5 весом 98 кг перевозиться на легковой машине\n",
      "Товар 6 весом 0.4 кг перевозиться на легковой машине\n",
      "Товар 7 весом 0.3 кг перевозиться на легковой машине\n",
      "Товар 8 весом 15 кг перевозиться на легковой машине\n"
     ]
    }
   ],
   "source": [
    "# Задача №3\n",
    "\n",
    "weight_of_products = [10, 42.4, 240.1, 101.5, 98, 0.4, 0.3, 15]\n",
    "\n",
    "max_weight = 100\n",
    "n = 1\n",
    "\n",
    "for weight in weight_of_products:\n",
    "    if weight < max_weight:\n",
    "        print('Товар {} весом {} кг перевозиться на легковой машине'.format(n, weight))\n",
    "    else:\n",
    "        print('Товар {} весом {} кг перевозиться на грузовой машине'.format(n, weight))\n",
    "    n += 1"
   ]
  },
  {
   "cell_type": "code",
   "execution_count": 75,
   "metadata": {},
   "outputs": [
    {
     "name": "stdout",
     "output_type": "stream",
     "text": [
      "Товар 1 весом 10 кг перевозиться на легковой машине\n",
      "Товар 2 весом 42.4 кг перевозиться на легковой машине\n",
      "Товар 3 весом 240.1 кг перевозиться на грузовой машине\n",
      "Товар 4 весом 101.5 кг перевозиться на грузовой машине\n",
      "Товар 5 весом 98 кг перевозиться на легковой машине\n",
      "Товар 6 весом 0.4 кг перевозиться на легковой машине\n",
      "Товар 7 весом 0.3 кг перевозиться на легковой машине\n",
      "Товар 8 весом 15 кг перевозиться на легковой машине\n"
     ]
    }
   ],
   "source": [
    "weight_of_products = [10, 42.4, 240.1, 101.5, 98, 0.4, 0.3, 15]\n",
    "\n",
    "max_weight = 100\n",
    "n = len(weight_of_products)\n",
    "\n",
    "for i in range(n):\n",
    "    weight = weight_of_products[i]\n",
    "    if weight < max_weight:\n",
    "        print('Товар {} весом {} кг перевозиться на легковой машине'.format(i+1, weight))\n",
    "    else:\n",
    "        print('Товар {} весом {} кг перевозиться на грузовой машине'.format(i+1, weight))\n",
    "    "
   ]
  },
  {
   "cell_type": "code",
   "execution_count": 92,
   "metadata": {},
   "outputs": [
    {
     "data": {
      "text/plain": [
       "['Red Square',\n",
       " 'Swallow Nest',\n",
       " 'Unavailable',\n",
       " 'Unavailable',\n",
       " 'Unavailable',\n",
       " 'Hermitage']"
      ]
     },
     "execution_count": 92,
     "metadata": {},
     "output_type": "execute_result"
    }
   ],
   "source": [
    "# Задача №4\n",
    "\n",
    "# список мест, которые пользователь хотел бы посетит\n",
    "places = [\n",
    "    'Red Square',\n",
    "    'Swallow Nest',\n",
    "    'Niagara Falls',\n",
    "    'Grand Canyon',\n",
    "    'Louvre',\n",
    "    'Hermitage'\n",
    "    ]\n",
    "\n",
    "# словарь, ключи которого — места, которые пользователь хочет посетить,\n",
    "# значения — названия стран, где находятся эти места\n",
    "location = {\n",
    "    'Red Square': 'Russia',\n",
    "    'Swallow Nest': 'Russia',\n",
    "    'Niagara Falls': 'USA',\n",
    "    'Grand Canyon': 'USA',\n",
    "    'Louvre': 'France',\n",
    "    'Hermitage': 'Russia'\n",
    "    }\n",
    "\n",
    "N = len(places)\n",
    "\n",
    "for i in range(N):\n",
    "    country = location[places[i]]\n",
    "    if country != 'Russia':\n",
    "        places[i] = 'Unavailable'\n",
    "\n",
    "places"
   ]
  },
  {
   "cell_type": "code",
   "execution_count": null,
   "metadata": {},
   "outputs": [
    {
     "name": "stdout",
     "output_type": "stream",
     "text": [
      "element 0: -5\n",
      "element 1: 1\n",
      "element 2: 3\n",
      "element 3: 10\n"
     ]
    }
   ],
   "source": [
    "# Задание 2.9\n",
    "\n",
    "num_list = [1, 10, 3, -5]\n",
    "# num_list = [98, 24, 23, 12, 3]\n",
    "# num_list = [1, 10, 0.5, 21, 0.13]\n",
    "\n",
    "num_list.sort()\n",
    "N = len(num_list)\n",
    "\n",
    "for i in range(N):\n",
    "    elem = num_list[i]\n",
    "    print(f'element {i}: {elem}')"
   ]
  },
  {
   "cell_type": "code",
   "execution_count": 99,
   "metadata": {},
   "outputs": [
    {
     "data": {
      "text/plain": [
       "17"
      ]
     },
     "execution_count": 99,
     "metadata": {},
     "output_type": "execute_result"
    }
   ],
   "source": [
    "# Задание 2.10\n",
    "\n",
    "num_list = list(range(0, 100, 3))\n",
    "# num_list = [10, 4, 4, 21, 2, 0, -10]\n",
    "# num_list = list(range(0, 81, 5))\n",
    "\n",
    "count_even = 0\n",
    "\n",
    "for num in num_list:\n",
    "    if num % 2 == 0:\n",
    "        count_even += 1\n",
    "\n",
    "count_even"
   ]
  },
  {
   "cell_type": "code",
   "execution_count": 107,
   "metadata": {},
   "outputs": [
    {
     "data": {
      "text/plain": [
       "3"
      ]
     },
     "execution_count": 107,
     "metadata": {},
     "output_type": "execute_result"
    }
   ],
   "source": [
    "# Задание 2.11\n",
    "\n",
    "mixture_list = [True, 1, -10, 'hello', False, 'string_1', 123, 2.5, [1, 2], 'another']\n",
    "# mixture_list = ['My', 'Simple', -10, True, 'False', 'string_1', False, 2.5, [1, 2], 'True']\n",
    "\n",
    "count_str = 0\n",
    "\n",
    "for elem in mixture_list:\n",
    "    if type(elem) is str:\n",
    "        count_str += 1\n",
    "\n",
    "count_str"
   ]
  },
  {
   "cell_type": "code",
   "execution_count": 132,
   "metadata": {},
   "outputs": [
    {
     "data": {
      "text/plain": [
       "\"My name is Sergei. I'm from Moscow.\""
      ]
     },
     "execution_count": 132,
     "metadata": {},
     "output_type": "execute_result"
    }
   ],
   "source": [
    "# Задание 2.12\n",
    "\n",
    "word_list = [\"My\", \"name\", \"is\", \"Sergei\", \"EOS\", \"I'm\", \"from\", \"Moscow\", \"EOS\"]\n",
    "# word_list = [\"Человек\", \"он\", \"умный\", \"EOS\", \"Но\", \"чтоб\", \"умно\", \"поступать\", \"одного\", \"ума\", \"мало\", \"EOS\"]\n",
    "\n",
    "text = ''\n",
    "\n",
    "for word in word_list:\n",
    "    if word != 'EOS':\n",
    "        text += word + ' '\n",
    "    else:\n",
    "        text = text[:-1] + '.' + ' '\n",
    "\n",
    "text.strip()"
   ]
  }
 ],
 "metadata": {
  "kernelspec": {
   "display_name": "base",
   "language": "python",
   "name": "python3"
  },
  "language_info": {
   "codemirror_mode": {
    "name": "ipython",
    "version": 3
   },
   "file_extension": ".py",
   "mimetype": "text/x-python",
   "name": "python",
   "nbconvert_exporter": "python",
   "pygments_lexer": "ipython3",
   "version": "3.12.4"
  }
 },
 "nbformat": 4,
 "nbformat_minor": 2
}
