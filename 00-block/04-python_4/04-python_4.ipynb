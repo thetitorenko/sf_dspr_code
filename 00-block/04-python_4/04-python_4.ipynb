{
 "cells": [
  {
   "cell_type": "markdown",
   "metadata": {},
   "source": [
    "### 0 юнит"
   ]
  },
  {
   "cell_type": "code",
   "execution_count": 1,
   "metadata": {},
   "outputs": [
    {
     "name": "stdout",
     "output_type": "stream",
     "text": [
      "3\n"
     ]
    }
   ],
   "source": [
    "# Задание 0.1\n",
    "\n",
    "lst=[90, 230, 23]\n",
    "print(len(lst))"
   ]
  },
  {
   "cell_type": "code",
   "execution_count": 2,
   "metadata": {},
   "outputs": [
    {
     "name": "stdout",
     "output_type": "stream",
     "text": [
      "230\n"
     ]
    }
   ],
   "source": [
    "# Задание 0.3\n",
    "\n",
    "lst=[90, 230, 23]\n",
    "print(lst[1])"
   ]
  },
  {
   "cell_type": "code",
   "execution_count": 3,
   "metadata": {},
   "outputs": [
    {
     "data": {
      "text/plain": [
       "'east or west home is best'"
      ]
     },
     "execution_count": 3,
     "metadata": {},
     "output_type": "execute_result"
    }
   ],
   "source": [
    "# Задание 0.4\n",
    "\n",
    "sentences = 'East or West home is best'\n",
    "sentences.lower()"
   ]
  },
  {
   "cell_type": "code",
   "execution_count": 4,
   "metadata": {},
   "outputs": [
    {
     "data": {
      "text/plain": [
       "'East or We'"
      ]
     },
     "execution_count": 4,
     "metadata": {},
     "output_type": "execute_result"
    }
   ],
   "source": [
    "# Задание 0.5\n",
    "\n",
    "sentences = 'East or West home is best'\n",
    "sentences[:10]"
   ]
  },
  {
   "cell_type": "code",
   "execution_count": 5,
   "metadata": {},
   "outputs": [
    {
     "data": {
      "text/plain": [
       "'Your age is 18, welcome'"
      ]
     },
     "execution_count": 5,
     "metadata": {},
     "output_type": "execute_result"
    }
   ],
   "source": [
    "# Задание 0.6\n",
    "\n",
    "age=18\n",
    "'Your age is {}, welcome'.format(age)"
   ]
  },
  {
   "cell_type": "code",
   "execution_count": 6,
   "metadata": {},
   "outputs": [
    {
     "data": {
      "text/plain": [
       "['East', 'or', 'West', 'home', 'is', 'best']"
      ]
     },
     "execution_count": 6,
     "metadata": {},
     "output_type": "execute_result"
    }
   ],
   "source": [
    "# Задание 0.7\n",
    "\n",
    "sentences = 'East or West home is best'\n",
    "sentences.split()"
   ]
  },
  {
   "cell_type": "markdown",
   "metadata": {},
   "source": [
    "### 2 юнит"
   ]
  },
  {
   "cell_type": "code",
   "execution_count": 7,
   "metadata": {},
   "outputs": [
    {
     "name": "stdout",
     "output_type": "stream",
     "text": [
      "Element 5\n",
      "Element 9\n",
      "Element 19\n"
     ]
    }
   ],
   "source": [
    "my_list = [5, 9, 19]\n",
    "\n",
    "for element in my_list:\n",
    "    print('Element', element)"
   ]
  },
  {
   "cell_type": "code",
   "execution_count": 8,
   "metadata": {},
   "outputs": [
    {
     "name": "stdout",
     "output_type": "stream",
     "text": [
      "Current income 120\n",
      "Current S 0\n",
      "New S 120\n",
      "\n",
      "Current income 38.5\n",
      "Current S 120\n",
      "New S 158.5\n",
      "\n",
      "Current income 40.5\n",
      "Current S 158.5\n",
      "New S 199.0\n",
      "\n",
      "Current income 80\n",
      "Current S 199.0\n",
      "New S 279.0\n",
      "\n",
      "Answer: s= 279.0\n"
     ]
    }
   ],
   "source": [
    "# Задача №1\n",
    "\n",
    "incomes = [120, 38.5, 40.5, 80]     # список доходов\n",
    "S = 0                               # начальное значение сумму доходов\n",
    "\n",
    "for income in incomes:\n",
    "    print('Current income', income)\n",
    "    print('Current S', S)\n",
    "    S += income                     # равносильно S = S + income\n",
    "    print('New S', S)\n",
    "    print()\n",
    "\n",
    "print('Answer: s=',S)\n",
    "# print(sum(incomes))"
   ]
  },
  {
   "cell_type": "code",
   "execution_count": 9,
   "metadata": {},
   "outputs": [
    {
     "name": "stdout",
     "output_type": "stream",
     "text": [
      "279.0\n"
     ]
    }
   ],
   "source": [
    "S = sum(incomes)\n",
    "print(S)"
   ]
  },
  {
   "cell_type": "code",
   "execution_count": 10,
   "metadata": {},
   "outputs": [
    {
     "name": "stdout",
     "output_type": "stream",
     "text": [
      "1947456\n"
     ]
    }
   ],
   "source": [
    "# Задание 2.2\n",
    "\n",
    "num_list = [98, 24, 23, 12, 3]\n",
    "# num_list = [1, 10, 0.5, 21, 0.13]\n",
    "# num_list = [0.1, 0.24, 0.1, 2, 0]\n",
    "\n",
    "p = 1\n",
    "\n",
    "for num in num_list:\n",
    "    p *= num\n",
    "\n",
    "print(p)"
   ]
  },
  {
   "cell_type": "code",
   "execution_count": 11,
   "metadata": {},
   "outputs": [
    {
     "name": "stdout",
     "output_type": "stream",
     "text": [
      "Currecnt S: 0\n",
      "Current number: 1\n",
      "Sum after addition: 1\n",
      "\n",
      "Currecnt S: 1\n",
      "Current number: 2\n",
      "Sum after addition: 3\n",
      "\n",
      "Currecnt S: 3\n",
      "Current number: 3\n",
      "Sum after addition: 6\n",
      "\n",
      "Currecnt S: 6\n",
      "Current number: 4\n",
      "Sum after addition: 10\n",
      "\n",
      "Currecnt S: 10\n",
      "Current number: 5\n",
      "Sum after addition: 15\n",
      "\n",
      "Currecnt S: 15\n",
      "Current number: 6\n",
      "Sum after addition: 21\n",
      "\n",
      "Currecnt S: 21\n",
      "Current number: 7\n",
      "Sum after addition: 28\n",
      "\n",
      "Currecnt S: 28\n",
      "Current number: 8\n",
      "Sum after addition: 36\n",
      "\n",
      "Currecnt S: 36\n",
      "Current number: 9\n",
      "Sum after addition: 45\n",
      "\n",
      "Currecnt S: 45\n",
      "Current number: 10\n",
      "Sum after addition: 55\n",
      "\n",
      "Answer: sum = 55\n"
     ]
    }
   ],
   "source": [
    "# Задача №2\n",
    "\n",
    "N = 10      # последний элемент последовательности\n",
    "S = 0       # накопительная переменная\n",
    "\n",
    "for i in range(1, N+1):     # равносильно for i in [1, 2, 3, ... , N]\n",
    "    print('Currecnt S:', S)\n",
    "    print('Current number:', i)\n",
    "    S += i                  # равносильно S = S + i\n",
    "    print('Sum after addition:', S)\n",
    "    print()\n",
    "\n",
    "print('Answer: sum =', S)"
   ]
  },
  {
   "cell_type": "code",
   "execution_count": 12,
   "metadata": {},
   "outputs": [
    {
     "name": "stdout",
     "output_type": "stream",
     "text": [
      "6\n"
     ]
    }
   ],
   "source": [
    "# Задание 2.4\n",
    "\n",
    "n = 3\n",
    "# n = 5\n",
    "# n = 10\n",
    "\n",
    "p = 1\n",
    "\n",
    "for i in range(1, n+1):\n",
    "    p *= i\n",
    "\n",
    "print(p)"
   ]
  },
  {
   "cell_type": "code",
   "execution_count": 13,
   "metadata": {},
   "outputs": [
    {
     "name": "stdout",
     "output_type": "stream",
     "text": [
      "*\n",
      "**\n",
      "***\n"
     ]
    }
   ],
   "source": [
    "# Задание 2.5\n",
    "\n",
    "n = 3\n",
    "# n = 4\n",
    "# n = 5\n",
    "# n = 7\n",
    "\n",
    "for i in range(1, n+1):\n",
    "    print('*' * i)"
   ]
  },
  {
   "cell_type": "code",
   "execution_count": 14,
   "metadata": {},
   "outputs": [
    {
     "name": "stdout",
     "output_type": "stream",
     "text": [
      "Товар 1 весом 10 кг перевозиться на легковой машине\n",
      "Товар 2 весом 42.4 кг перевозиться на легковой машине\n",
      "Товар 3 весом 240.1 кг перевозиться на грузовой машине\n",
      "Товар 4 весом 101.5 кг перевозиться на грузовой машине\n",
      "Товар 5 весом 98 кг перевозиться на легковой машине\n",
      "Товар 6 весом 0.4 кг перевозиться на легковой машине\n",
      "Товар 7 весом 0.3 кг перевозиться на легковой машине\n",
      "Товар 8 весом 15 кг перевозиться на легковой машине\n"
     ]
    }
   ],
   "source": [
    "# Задача №3\n",
    "\n",
    "weight_of_products = [10, 42.4, 240.1, 101.5, 98, 0.4, 0.3, 15]\n",
    "\n",
    "max_weight = 100\n",
    "n = 1\n",
    "\n",
    "for weight in weight_of_products:\n",
    "    if weight < max_weight:\n",
    "        print('Товар {} весом {} кг перевозиться на легковой машине'.format(n, weight))\n",
    "    else:\n",
    "        print('Товар {} весом {} кг перевозиться на грузовой машине'.format(n, weight))\n",
    "    n += 1"
   ]
  },
  {
   "cell_type": "code",
   "execution_count": 15,
   "metadata": {},
   "outputs": [
    {
     "name": "stdout",
     "output_type": "stream",
     "text": [
      "Товар 1 весом 10 кг перевозиться на легковой машине\n",
      "Товар 2 весом 42.4 кг перевозиться на легковой машине\n",
      "Товар 3 весом 240.1 кг перевозиться на грузовой машине\n",
      "Товар 4 весом 101.5 кг перевозиться на грузовой машине\n",
      "Товар 5 весом 98 кг перевозиться на легковой машине\n",
      "Товар 6 весом 0.4 кг перевозиться на легковой машине\n",
      "Товар 7 весом 0.3 кг перевозиться на легковой машине\n",
      "Товар 8 весом 15 кг перевозиться на легковой машине\n"
     ]
    }
   ],
   "source": [
    "weight_of_products = [10, 42.4, 240.1, 101.5, 98, 0.4, 0.3, 15]\n",
    "\n",
    "max_weight = 100\n",
    "n = len(weight_of_products)\n",
    "\n",
    "for i in range(n):\n",
    "    weight = weight_of_products[i]\n",
    "    if weight < max_weight:\n",
    "        print('Товар {} весом {} кг перевозиться на легковой машине'.format(i+1, weight))\n",
    "    else:\n",
    "        print('Товар {} весом {} кг перевозиться на грузовой машине'.format(i+1, weight))\n",
    "    "
   ]
  },
  {
   "cell_type": "code",
   "execution_count": 16,
   "metadata": {},
   "outputs": [
    {
     "data": {
      "text/plain": [
       "['Red Square',\n",
       " 'Swallow Nest',\n",
       " 'Unavailable',\n",
       " 'Unavailable',\n",
       " 'Unavailable',\n",
       " 'Hermitage']"
      ]
     },
     "execution_count": 16,
     "metadata": {},
     "output_type": "execute_result"
    }
   ],
   "source": [
    "# Задача №4\n",
    "\n",
    "# список мест, которые пользователь хотел бы посетит\n",
    "places = [\n",
    "    'Red Square',\n",
    "    'Swallow Nest',\n",
    "    'Niagara Falls',\n",
    "    'Grand Canyon',\n",
    "    'Louvre',\n",
    "    'Hermitage'\n",
    "    ]\n",
    "\n",
    "# словарь, ключи которого — места, которые пользователь хочет посетить,\n",
    "# значения — названия стран, где находятся эти места\n",
    "location = {\n",
    "    'Red Square': 'Russia',\n",
    "    'Swallow Nest': 'Russia',\n",
    "    'Niagara Falls': 'USA',\n",
    "    'Grand Canyon': 'USA',\n",
    "    'Louvre': 'France',\n",
    "    'Hermitage': 'Russia'\n",
    "    }\n",
    "\n",
    "N = len(places)\n",
    "\n",
    "for i in range(N):\n",
    "    country = location[places[i]]\n",
    "    if country != 'Russia':\n",
    "        places[i] = 'Unavailable'\n",
    "\n",
    "places"
   ]
  },
  {
   "cell_type": "code",
   "execution_count": 17,
   "metadata": {},
   "outputs": [
    {
     "name": "stdout",
     "output_type": "stream",
     "text": [
      "element 0: -5\n",
      "element 1: 1\n",
      "element 2: 3\n",
      "element 3: 10\n"
     ]
    }
   ],
   "source": [
    "# Задание 2.9\n",
    "\n",
    "num_list = [1, 10, 3, -5]\n",
    "# num_list = [98, 24, 23, 12, 3]\n",
    "# num_list = [1, 10, 0.5, 21, 0.13]\n",
    "\n",
    "num_list.sort()\n",
    "N = len(num_list)\n",
    "\n",
    "for i in range(N):\n",
    "    elem = num_list[i]\n",
    "    print(f'element {i}: {elem}')"
   ]
  },
  {
   "cell_type": "code",
   "execution_count": 18,
   "metadata": {},
   "outputs": [
    {
     "data": {
      "text/plain": [
       "17"
      ]
     },
     "execution_count": 18,
     "metadata": {},
     "output_type": "execute_result"
    }
   ],
   "source": [
    "# Задание 2.10\n",
    "\n",
    "num_list = list(range(0, 100, 3))\n",
    "# num_list = [10, 4, 4, 21, 2, 0, -10]\n",
    "# num_list = list(range(0, 81, 5))\n",
    "\n",
    "count_even = 0\n",
    "\n",
    "for num in num_list:\n",
    "    if num % 2 == 0:\n",
    "        count_even += 1\n",
    "\n",
    "count_even"
   ]
  },
  {
   "cell_type": "code",
   "execution_count": 19,
   "metadata": {},
   "outputs": [
    {
     "data": {
      "text/plain": [
       "3"
      ]
     },
     "execution_count": 19,
     "metadata": {},
     "output_type": "execute_result"
    }
   ],
   "source": [
    "# Задание 2.11\n",
    "\n",
    "mixture_list = [True, 1, -10, 'hello', False, 'string_1', 123, 2.5, [1, 2], 'another']\n",
    "# mixture_list = ['My', 'Simple', -10, True, 'False', 'string_1', False, 2.5, [1, 2], 'True']\n",
    "\n",
    "count_str = 0\n",
    "\n",
    "for elem in mixture_list:\n",
    "    if type(elem) is str:\n",
    "        count_str += 1\n",
    "\n",
    "count_str"
   ]
  },
  {
   "cell_type": "code",
   "execution_count": 20,
   "metadata": {},
   "outputs": [
    {
     "data": {
      "text/plain": [
       "\"My name is Sergei. I'm from Moscow.\""
      ]
     },
     "execution_count": 20,
     "metadata": {},
     "output_type": "execute_result"
    }
   ],
   "source": [
    "# Задание 2.12\n",
    "\n",
    "word_list = [\"My\", \"name\", \"is\", \"Sergei\", \"EOS\", \"I'm\", \"from\", \"Moscow\", \"EOS\"]\n",
    "# word_list = [\"Человек\", \"он\", \"умный\", \"EOS\", \"Но\", \"чтоб\", \"умно\", \"поступать\", \"одного\", \"ума\", \"мало\", \"EOS\"]\n",
    "\n",
    "text = ''\n",
    "\n",
    "for word in word_list:\n",
    "    if word != 'EOS':\n",
    "        text += word + ' '\n",
    "    else:\n",
    "        text = text[:-1] + '.' + ' '\n",
    "\n",
    "text.strip()"
   ]
  },
  {
   "cell_type": "markdown",
   "metadata": {},
   "source": [
    "### 3 юнит"
   ]
  },
  {
   "cell_type": "code",
   "execution_count": 21,
   "metadata": {},
   "outputs": [
    {
     "name": "stdout",
     "output_type": "stream",
     "text": [
      "['b', 'c', 'd', 'e']\n",
      "['c', 'd', 'e']\n",
      "['d', 'e']\n",
      "Result ['d', 'e']\n"
     ]
    }
   ],
   "source": [
    "lst = ['a', 'b', 'c', 'd', 'e']\n",
    "\n",
    "while len(lst) > 2:\n",
    "    lst.pop(0)\n",
    "    print(lst)\n",
    "\n",
    "print('Result', lst)"
   ]
  },
  {
   "cell_type": "code",
   "execution_count": 22,
   "metadata": {},
   "outputs": [
    {
     "name": "stdout",
     "output_type": "stream",
     "text": [
      "Iteration: 1  x = 23\n",
      "Iteration: 2  x = 25\n",
      "Iteration: 3  x = 27\n",
      "Iteration: 4  x = 29\n",
      "Iteration: 5  x = 31\n",
      "Iteration: 6  x = 33\n",
      "Iteration: 7  x = 35\n",
      "Iteration: 8  x = 37\n",
      "Iteration: 9  x = 39\n",
      "Iteration: 10  x = 41\n",
      "Iteration: 11  x = 43\n",
      "Iteration: 12  x = 45\n",
      "Iteration: 13  x = 47\n",
      "Iteration: 14  x = 49\n",
      "Iteration: 15  x = 51\n",
      "Iteration: 16  x = 53\n",
      "Iteration: 17  x = 55\n",
      "Answer: 17\n"
     ]
    }
   ],
   "source": [
    "x, y = 21, 55\n",
    "count = 0\n",
    "\n",
    "while x < y:\n",
    "    x += 2\n",
    "    count += 1\n",
    "    print('Iteration:', count, ' x =', x,)\n",
    "\n",
    "print('Answer:', count)"
   ]
  },
  {
   "cell_type": "code",
   "execution_count": 23,
   "metadata": {},
   "outputs": [
    {
     "name": "stdout",
     "output_type": "stream",
     "text": [
      "Current sum weight 67\n",
      "Current sum weight 134\n",
      "Current sum weight 201\n",
      "Current sum weight 268\n",
      "Current sum weight 335\n",
      "Current sum weight 402\n",
      "\n",
      "Overweight 2 kg\n"
     ]
    }
   ],
   "source": [
    "# задача №1\n",
    "\n",
    "weight = 67\n",
    "max_weight = 400\n",
    "S = 0\n",
    "\n",
    "while S < max_weight:\n",
    "    S += weight\n",
    "    print('Current sum weight', S)\n",
    "\n",
    "print()\n",
    "print('Overweight {} kg'.format(S-max_weight))"
   ]
  },
  {
   "cell_type": "code",
   "execution_count": 24,
   "metadata": {},
   "outputs": [
    {
     "name": "stdout",
     "output_type": "stream",
     "text": [
      "3.1999999999999993\n"
     ]
    }
   ],
   "source": [
    "# Задание 3.2\n",
    "\n",
    "# объем сосуда в литрах\n",
    "volume = 10\n",
    "# volume = 15\n",
    "\n",
    "increment = 0.0033 * 1000   # преобразуем куб.м в литры\n",
    "current_volume = 0          # текущий объем в сосуде\n",
    "\n",
    "while current_volume <= volume:\n",
    "    current_volume += increment\n",
    "\n",
    "# объем жидкости, который вельется из сосуда\n",
    "cost = current_volume - volume\n",
    "\n",
    "print(cost)"
   ]
  },
  {
   "cell_type": "code",
   "execution_count": 25,
   "metadata": {},
   "outputs": [
    {
     "name": "stdout",
     "output_type": "stream",
     "text": [
      "Still counting...\n",
      "Still counting...\n",
      "Still counting...\n",
      "Still counting...\n",
      "Still counting...\n",
      "Still counting...\n",
      "Still counting...\n",
      "Still counting...\n",
      "Still counting...\n",
      "Still counting...\n",
      "Still counting...\n",
      "Still counting...\n",
      "Still counting...\n",
      "Still counting...\n",
      "Still counting...\n",
      "Still counting...\n",
      "Still counting...\n",
      "Still counting...\n",
      "Still counting...\n",
      "Still counting...\n",
      "Still counting...\n",
      "Still counting...\n",
      "Still counting...\n",
      "Still counting...\n",
      "Still counting...\n",
      "Still counting...\n",
      "Still counting...\n",
      "Still counting...\n",
      "Still counting...\n",
      "Still counting...\n",
      "Still counting...\n",
      "Still counting...\n",
      "Still counting...\n",
      "Still counting...\n",
      "Still counting...\n",
      "Still counting...\n",
      "Still counting...\n",
      "Still counting...\n",
      "Still counting...\n",
      "Still counting...\n",
      "Still counting...\n",
      "Still counting...\n",
      "Still counting...\n",
      "Still counting...\n",
      "Still counting...\n",
      "Still counting...\n",
      "Still counting...\n",
      "Still counting...\n",
      "Still counting...\n",
      "Still counting...\n",
      "Still counting...\n",
      "Still counting...\n",
      "Still counting...\n",
      "Still counting...\n",
      "Still counting...\n",
      "Still counting...\n",
      "Still counting...\n",
      "Still counting...\n",
      "Still counting...\n",
      "Still counting...\n",
      "Still counting...\n",
      "Still counting...\n",
      "Still counting...\n",
      "Still counting...\n",
      "Still counting...\n",
      "Still counting...\n",
      "Still counting...\n",
      "Still counting...\n",
      "Still counting...\n",
      "Still counting...\n",
      "Still counting...\n",
      "Still counting...\n",
      "Still counting...\n",
      "Still counting...\n",
      "Still counting...\n",
      "Still counting...\n",
      "Still counting...\n",
      "Still counting...\n",
      "Still counting...\n",
      "Still counting...\n",
      "Still counting...\n",
      "Still counting...\n",
      "Still counting...\n",
      "Still counting...\n",
      "Still counting...\n",
      "Still counting...\n",
      "Still counting...\n",
      "Still counting...\n",
      "Still counting...\n",
      "Still counting...\n",
      "Still counting...\n",
      "Still counting...\n",
      "Still counting...\n",
      "Still counting...\n",
      "Still counting...\n",
      "Still counting...\n",
      "Still counting...\n",
      "Still counting...\n",
      "Still counting...\n",
      "Still counting...\n",
      "Still counting...\n",
      "Still counting...\n",
      "Still counting...\n",
      "Still counting...\n",
      "Still counting...\n",
      "Still counting...\n",
      "Still counting...\n",
      "Still counting...\n",
      "Still counting...\n",
      "Still counting...\n",
      "Still counting...\n",
      "Still counting...\n",
      "Still counting...\n",
      "Still counting...\n",
      "Still counting...\n",
      "Still counting...\n",
      "Still counting...\n",
      "Still counting...\n",
      "Still counting...\n",
      "Still counting...\n",
      "Still counting...\n",
      "Still counting...\n",
      "Still counting...\n",
      "Still counting...\n",
      "Still counting...\n",
      "Still counting...\n",
      "Still counting...\n",
      "Still counting...\n",
      "Still counting...\n",
      "Still counting...\n",
      "Still counting...\n",
      "Still counting...\n",
      "Still counting...\n",
      "Still counting...\n",
      "Still counting...\n",
      "Still counting...\n",
      "Still counting...\n",
      "Still counting...\n",
      "Still counting...\n",
      "Still counting...\n",
      "Still counting...\n",
      "Still counting...\n",
      "Still counting...\n",
      "Still counting...\n",
      "Still counting...\n",
      "Still counting...\n",
      "Still counting...\n",
      "Still counting...\n",
      "Still counting...\n",
      "Still counting...\n",
      "Still counting...\n",
      "Still counting...\n",
      "Still counting...\n",
      "Still counting...\n",
      "Still counting...\n",
      "Still counting...\n",
      "Still counting...\n",
      "Still counting...\n",
      "Still counting...\n",
      "Still counting...\n",
      "Still counting...\n",
      "Still counting...\n",
      "Still counting...\n",
      "Still counting...\n",
      "Still counting...\n",
      "Still counting...\n",
      "Still counting...\n",
      "Still counting...\n",
      "Still counting...\n",
      "Still counting...\n",
      "Still counting...\n",
      "Still counting...\n",
      "Still counting...\n",
      "Still counting...\n",
      "Still counting...\n",
      "Still counting...\n",
      "Still counting...\n",
      "Still counting...\n",
      "Still counting...\n",
      "Still counting...\n",
      "Still counting...\n",
      "Still counting...\n",
      "Still counting...\n",
      "Still counting...\n",
      "Still counting...\n",
      "Still counting...\n",
      "Still counting...\n",
      "Still counting...\n",
      "Still counting...\n",
      "Still counting...\n",
      "Still counting...\n",
      "Still counting...\n",
      "Still counting...\n",
      "Still counting...\n",
      "Still counting...\n",
      "Still counting...\n",
      "Still counting...\n",
      "Still counting...\n",
      "Still counting...\n",
      "Still counting...\n",
      "Still counting...\n",
      "Still counting...\n",
      "Still counting...\n",
      "Still counting...\n",
      "Still counting...\n",
      "Still counting...\n",
      "Still counting...\n",
      "Still counting...\n",
      "Still counting...\n",
      "Still counting...\n",
      "Still counting...\n",
      "Still counting...\n",
      "Still counting...\n",
      "Still counting...\n",
      "Still counting...\n",
      "Still counting...\n",
      "Still counting...\n",
      "Still counting...\n",
      "Still counting...\n",
      "Still counting...\n",
      "Still counting...\n",
      "Still counting...\n",
      "Still counting...\n",
      "Still counting...\n",
      "Still counting...\n",
      "Still counting...\n",
      "Still counting...\n",
      "Still counting...\n",
      "Still counting...\n",
      "Still counting...\n",
      "Still counting...\n",
      "Still counting...\n",
      "Still counting...\n",
      "Still counting...\n",
      "Still counting...\n",
      "Still counting...\n",
      "Still counting...\n",
      "Still counting...\n",
      "Still counting...\n",
      "Still counting...\n",
      "Still counting...\n",
      "Still counting...\n",
      "Still counting...\n",
      "Still counting...\n",
      "Still counting...\n",
      "Still counting...\n",
      "Still counting...\n",
      "Still counting...\n",
      "Still counting...\n",
      "Still counting...\n",
      "Still counting...\n",
      "Still counting...\n",
      "Still counting...\n",
      "Still counting...\n",
      "Still counting...\n",
      "Still counting...\n",
      "Still counting...\n",
      "Still counting...\n",
      "Still counting...\n",
      "Still counting...\n",
      "Still counting...\n",
      "Still counting...\n",
      "Still counting...\n",
      "Still counting...\n",
      "Still counting...\n",
      "Still counting...\n",
      "Still counting...\n",
      "Still counting...\n",
      "Still counting...\n",
      "Still counting...\n",
      "Still counting...\n",
      "Still counting...\n",
      "Still counting...\n",
      "Still counting...\n",
      "Still counting...\n",
      "Still counting...\n",
      "Still counting...\n",
      "Still counting...\n",
      "Still counting...\n",
      "Still counting...\n",
      "Still counting...\n",
      "Still counting...\n",
      "Still counting...\n",
      "Still counting...\n",
      "Still counting...\n",
      "Still counting...\n",
      "Still counting...\n",
      "Still counting...\n",
      "Still counting...\n",
      "Still counting...\n",
      "Still counting...\n",
      "Still counting...\n",
      "Still counting...\n",
      "Still counting...\n",
      "Still counting...\n",
      "Still counting...\n",
      "Still counting...\n",
      "Still counting...\n",
      "Still counting...\n",
      "Still counting...\n",
      "Still counting...\n",
      "Still counting...\n",
      "Still counting...\n",
      "Still counting...\n",
      "Still counting...\n",
      "Still counting...\n",
      "Still counting...\n",
      "Still counting...\n",
      "Still counting...\n",
      "Still counting...\n",
      "Still counting...\n",
      "Still counting...\n",
      "Still counting...\n",
      "Still counting...\n",
      "Still counting...\n",
      "Still counting...\n",
      "Still counting...\n",
      "Still counting...\n",
      "Still counting...\n",
      "Still counting...\n",
      "Still counting...\n",
      "Still counting...\n",
      "Still counting...\n",
      "Still counting...\n",
      "Still counting...\n",
      "Still counting...\n",
      "Still counting...\n",
      "Still counting...\n",
      "Still counting...\n",
      "Still counting...\n",
      "Still counting...\n",
      "Still counting...\n",
      "Still counting...\n",
      "Still counting...\n",
      "Still counting...\n",
      "Still counting...\n",
      "Still counting...\n",
      "Still counting...\n",
      "Still counting...\n",
      "Still counting...\n",
      "Still counting...\n",
      "Still counting...\n",
      "Still counting...\n",
      "Still counting...\n",
      "Still counting...\n",
      "Still counting...\n",
      "Still counting...\n",
      "Still counting...\n",
      "Still counting...\n",
      "Still counting...\n",
      "Still counting...\n",
      "Still counting...\n",
      "Still counting...\n",
      "Still counting...\n",
      "Still counting...\n",
      "Still counting...\n",
      "Still counting...\n",
      "Still counting...\n",
      "Still counting...\n",
      "Still counting...\n",
      "Still counting...\n",
      "Still counting...\n",
      "Still counting...\n",
      "Still counting...\n",
      "Still counting...\n",
      "Still counting...\n",
      "Still counting...\n",
      "Still counting...\n",
      "Still counting...\n",
      "Still counting...\n",
      "Still counting...\n",
      "Still counting...\n",
      "Still counting...\n",
      "Still counting...\n",
      "Still counting...\n",
      "Still counting...\n",
      "Still counting...\n",
      "Still counting...\n",
      "Still counting...\n",
      "Still counting...\n",
      "Still counting...\n",
      "Still counting...\n",
      "Still counting...\n",
      "Still counting...\n",
      "Still counting...\n",
      "Still counting...\n",
      "Still counting...\n",
      "Still counting...\n",
      "Still counting...\n",
      "Still counting...\n",
      "Still counting...\n",
      "Still counting...\n",
      "Still counting...\n",
      "Still counting...\n",
      "Still counting...\n",
      "Still counting...\n",
      "Still counting...\n",
      "Still counting...\n",
      "Still counting...\n",
      "Still counting...\n",
      "Still counting...\n",
      "Still counting...\n",
      "Still counting...\n",
      "Still counting...\n",
      "Still counting...\n",
      "Still counting...\n",
      "Still counting...\n",
      "Still counting...\n",
      "Still counting...\n",
      "Still counting...\n",
      "Still counting...\n",
      "Still counting...\n",
      "Still counting...\n",
      "Still counting...\n",
      "Still counting...\n",
      "Still counting...\n",
      "Still counting...\n",
      "Still counting...\n",
      "Still counting...\n",
      "Still counting...\n",
      "Still counting...\n",
      "Still counting...\n",
      "Still counting...\n",
      "Still counting...\n",
      "Still counting...\n",
      "Still counting...\n",
      "Still counting...\n",
      "Still counting...\n",
      "Still counting...\n",
      "Still counting...\n",
      "Still counting...\n",
      "Still counting...\n",
      "Still counting...\n",
      "Still counting...\n",
      "Still counting...\n",
      "Still counting...\n",
      "Still counting...\n",
      "Still counting...\n",
      "Still counting...\n",
      "Still counting...\n",
      "Still counting...\n",
      "Still counting...\n",
      "Still counting...\n",
      "Still counting...\n",
      "Still counting...\n",
      "Still counting...\n",
      "Still counting...\n",
      "Still counting...\n",
      "Still counting...\n",
      "Still counting...\n",
      "Still counting...\n",
      "Still counting...\n",
      "Still counting...\n",
      "Still counting...\n",
      "Still counting...\n",
      "Still counting...\n",
      "Still counting...\n",
      "Still counting...\n",
      "Still counting...\n",
      "Still counting...\n",
      "Still counting...\n",
      "Still counting...\n",
      "Still counting...\n",
      "Still counting...\n",
      "Still counting...\n",
      "Still counting...\n",
      "Still counting...\n",
      "Still counting...\n",
      "Still counting...\n",
      "Still counting...\n",
      "Still counting...\n",
      "Still counting...\n",
      "Still counting...\n",
      "Still counting...\n",
      "Still counting...\n",
      "Still counting...\n",
      "Still counting...\n",
      "Still counting...\n",
      "Still counting...\n",
      "Still counting...\n",
      "Still counting...\n",
      "Still counting...\n",
      "Still counting...\n",
      "Still counting...\n",
      "Still counting...\n",
      "Still counting...\n",
      "Still counting...\n",
      "Still counting...\n",
      "Still counting...\n",
      "Still counting...\n",
      "Still counting...\n",
      "Still counting...\n",
      "Still counting...\n",
      "Still counting...\n",
      "Still counting...\n",
      "Still counting...\n",
      "Still counting...\n",
      "Still counting...\n",
      "Still counting...\n",
      "Sum is: 124750\n",
      "Numbers total: 499\n"
     ]
    }
   ],
   "source": [
    "# Задача №2\n",
    "\n",
    "S = 0   # накопительная переменная\n",
    "n = 1   # текущее натуральное число\n",
    "\n",
    "while n < 500:\n",
    "    S += n\n",
    "    n += 1\n",
    "    print('Still counting...')\n",
    "\n",
    "print('Sum is:', S)\n",
    "print('Numbers total:', n-1)    # корректируем n до предпоследного цикла"
   ]
  },
  {
   "cell_type": "code",
   "execution_count": 26,
   "metadata": {},
   "outputs": [
    {
     "name": "stdout",
     "output_type": "stream",
     "text": [
      "4\n"
     ]
    }
   ],
   "source": [
    "# Задание 3.3\n",
    "\n",
    "# заданное число\n",
    "value = 10\n",
    "# value = 159\n",
    "# value = 1000\n",
    "\n",
    "number = 1      # начальное натуральное число\n",
    "\n",
    "while number**2 < value:\n",
    "    number += 1\n",
    "\n",
    "print(number)"
   ]
  },
  {
   "cell_type": "code",
   "execution_count": 27,
   "metadata": {},
   "outputs": [
    {
     "name": "stdout",
     "output_type": "stream",
     "text": [
      "New client!\n",
      "New client!\n",
      "New client!\n",
      "New client!\n",
      "New client!\n",
      "New client!\n",
      "New client!\n",
      "New client!\n",
      "New client!\n",
      "New client!\n"
     ]
    }
   ],
   "source": [
    "n = 1\n",
    "\n",
    "while True:\n",
    "    print('New client!')\n",
    "    n += 1\n",
    "    if n > 10:\n",
    "        break"
   ]
  },
  {
   "cell_type": "code",
   "execution_count": 28,
   "metadata": {},
   "outputs": [
    {
     "name": "stdout",
     "output_type": "stream",
     "text": [
      "Такого пользователя нет\n",
      "Такого пользователя нет\n",
      "Такого пользователя нет\n",
      "Такого пользователя нет\n",
      "Такого пользователя нет\n",
      "Такого пользователя нет\n",
      "Такого пользователя нет\n",
      "Такого пользователя нет\n",
      "Такого пользователя нет\n",
      "Добро пожаловать\n"
     ]
    }
   ],
   "source": [
    "# Задача №3\n",
    "\n",
    "secret_passwords = {\n",
    "    'Enot': 'ulybaka',\n",
    "    'Agent12': '1password1',\n",
    "    'MouseLulu': 'myshkanaruhka'\n",
    "    }\n",
    "\n",
    "while True:\n",
    "    name = input('Логин: ')\n",
    "    if name in secret_passwords:\n",
    "        password = input('Пароль: ')\n",
    "        if secret_passwords[name] == password:\n",
    "            print('Добро пожаловать')\n",
    "            break\n",
    "        else:\n",
    "            print('Неверный пароль')\n",
    "    else:\n",
    "        print('Такого пользователя нет')"
   ]
  },
  {
   "cell_type": "code",
   "execution_count": 29,
   "metadata": {},
   "outputs": [
    {
     "name": "stdout",
     "output_type": "stream",
     "text": [
      "4\n"
     ]
    }
   ],
   "source": [
    "# Задание 3.4 \n",
    "\n",
    "# условие\n",
    "value = 10\n",
    "# value = 159\n",
    "# value = 1000\n",
    "\n",
    "number = 1   # начальное натуральное число\n",
    "\n",
    "while True:\n",
    "    if number**2 > value:\n",
    "        break\n",
    "    else:\n",
    "        number += 1\n",
    "\n",
    "print(number)"
   ]
  },
  {
   "cell_type": "code",
   "execution_count": 30,
   "metadata": {},
   "outputs": [
    {
     "name": "stdout",
     "output_type": "stream",
     "text": [
      "Hello\n",
      "Hello\n",
      "Hello\n"
     ]
    }
   ],
   "source": [
    "# Задание 3.8\n",
    "\n",
    "n = 3\n",
    "# n = 5\n",
    "\n",
    "i = 0   # количество повторений цикла\n",
    "\n",
    "while i < n:\n",
    "    print('Hello')\n",
    "    i += 1"
   ]
  },
  {
   "cell_type": "code",
   "execution_count": 31,
   "metadata": {},
   "outputs": [
    {
     "name": "stdout",
     "output_type": "stream",
     "text": [
      "10\n"
     ]
    }
   ],
   "source": [
    "# Задание 3.9\n",
    "\n",
    "n = 10\n",
    "# n = 156\n",
    "# n = 12\n",
    "\n",
    "x = 1\n",
    "\n",
    "while x ** 2 % n != 0:\n",
    "    x += 1\n",
    "\n",
    "print(x)"
   ]
  },
  {
   "cell_type": "code",
   "execution_count": 32,
   "metadata": {},
   "outputs": [
    {
     "name": "stdout",
     "output_type": "stream",
     "text": [
      "5040\n"
     ]
    }
   ],
   "source": [
    "# Задание 3.10\n",
    "\n",
    "value = 1000\n",
    "# value = 178\n",
    "# value = 10\n",
    "\n",
    "p = 1       # начальный множитель\n",
    "n = 1       # начальное натуральное число\n",
    "\n",
    "while p <= value:\n",
    "    p *= n\n",
    "    n += 1\n",
    "\n",
    "print(p)"
   ]
  },
  {
   "cell_type": "code",
   "execution_count": 33,
   "metadata": {},
   "outputs": [
    {
     "name": "stdout",
     "output_type": "stream",
     "text": [
      "15\n"
     ]
    }
   ],
   "source": [
    "# Задание 3.11\n",
    "\n",
    "money = 1000            # начальная сумма денег\n",
    "target_money = 3000     # целевая сумма\n",
    "# money = 8000\n",
    "# target_money = 15000\n",
    "# money = 1500\n",
    "# target_money = 300\n",
    "\n",
    "year_count = 0          # счетчик лет\n",
    "\n",
    "while not target_money < money:\n",
    "    money *= 1.08       # 8% годовых\n",
    "    year_count += 1     # еще год\n",
    "\n",
    "print(year_count)"
   ]
  },
  {
   "cell_type": "code",
   "execution_count": 34,
   "metadata": {},
   "outputs": [
    {
     "data": {
      "text/plain": [
       "7"
      ]
     },
     "execution_count": 34,
     "metadata": {},
     "output_type": "execute_result"
    }
   ],
   "source": [
    "# Задание 3.12\n",
    "\n",
    "health = 500\n",
    "damage = 80\n",
    "# health = 3014\n",
    "# damage = 174\n",
    "\n",
    "seconds_num = 1\n",
    "\n",
    "while health > damage:\n",
    "    health -= damage\n",
    "    seconds_num += 1\n",
    "\n",
    "seconds_num"
   ]
  },
  {
   "cell_type": "code",
   "execution_count": 35,
   "metadata": {},
   "outputs": [
    {
     "name": "stdout",
     "output_type": "stream",
     "text": [
      "[1, 1, 2]\n"
     ]
    }
   ],
   "source": [
    "# Задание 3.13\n",
    "\n",
    "n = 3\n",
    "# n = 5\n",
    "# n = 9\n",
    "\n",
    "fibonacci_list = []     # инициализация пустого списка\n",
    "\n",
    "while len(fibonacci_list) < n:\n",
    "    if len(fibonacci_list) < 2:\n",
    "        # инициализация первых чисел\n",
    "        fibonacci_list += [1, 1]\n",
    "    # новое число, равное сумме двух последних\n",
    "    fibonacci_list.append(fibonacci_list[-2] + fibonacci_list[-1])\n",
    "\n",
    "print(fibonacci_list)"
   ]
  },
  {
   "cell_type": "markdown",
   "metadata": {},
   "source": [
    "### 4 юнит"
   ]
  },
  {
   "cell_type": "code",
   "execution_count": 36,
   "metadata": {},
   "outputs": [],
   "source": [
    "temperature = [\n",
    "    [13, 15, 10],\n",
    "    [14, 13, 9],\n",
    "    [8, 9, 6]\n",
    "    ]"
   ]
  },
  {
   "cell_type": "code",
   "execution_count": 37,
   "metadata": {},
   "outputs": [
    {
     "name": "stdout",
     "output_type": "stream",
     "text": [
      "[14, 13, 9]\n",
      "9\n"
     ]
    }
   ],
   "source": [
    "print(temperature[1])\n",
    "print(temperature[1][2])"
   ]
  },
  {
   "cell_type": "code",
   "execution_count": 38,
   "metadata": {},
   "outputs": [
    {
     "name": "stdout",
     "output_type": "stream",
     "text": [
      "10\n",
      "13\n",
      "8\n"
     ]
    }
   ],
   "source": [
    "# Задание 4.1\n",
    "\n",
    "print(temperature[0][2])\n",
    "print(temperature[1][1])\n",
    "print(temperature[2][0])"
   ]
  },
  {
   "cell_type": "code",
   "execution_count": 39,
   "metadata": {},
   "outputs": [
    {
     "name": "stdout",
     "output_type": "stream",
     "text": [
      "Current row [1, 2]\n",
      "Current elem 1\n",
      "Current elem 2\n",
      "\n",
      "Current row [3, 4]\n",
      "Current elem 3\n",
      "Current elem 4\n",
      "\n",
      "Current row [5, 6]\n",
      "Current elem 5\n",
      "Current elem 6\n",
      "\n"
     ]
    }
   ],
   "source": [
    "matrix = [\n",
    "    [1, 2], \n",
    "    [3, 4], \n",
    "    [5, 6]\n",
    "    ]\n",
    "\n",
    "for row in matrix:\n",
    "    print('Current row', row)\n",
    "    for elem in row:\n",
    "        print('Current elem', elem)\n",
    "    print()"
   ]
  },
  {
   "cell_type": "code",
   "execution_count": 40,
   "metadata": {},
   "outputs": [
    {
     "name": "stdout",
     "output_type": "stream",
     "text": [
      "Current i 0\n",
      "Current row [1, 2]\n",
      "Current row 0\n",
      "Current elem 1\n",
      "Current row 1\n",
      "Current elem 2\n",
      "Current i 1\n",
      "Current row [3, 4]\n",
      "Current row 0\n",
      "Current elem 3\n",
      "Current row 1\n",
      "Current elem 4\n",
      "Current i 2\n",
      "Current row [5, 6]\n",
      "Current row 0\n",
      "Current elem 5\n",
      "Current row 1\n",
      "Current elem 6\n"
     ]
    }
   ],
   "source": [
    "N = len(matrix)\n",
    "M = len(matrix[0])\n",
    "\n",
    "for i in range(N):\n",
    "    print('Current i', i)\n",
    "    print('Current row', matrix[i])\n",
    "    for j in range(M):\n",
    "        print('Current row', j)\n",
    "        print('Current elem', matrix[i][j])"
   ]
  },
  {
   "cell_type": "code",
   "execution_count": 41,
   "metadata": {},
   "outputs": [
    {
     "name": "stdout",
     "output_type": "stream",
     "text": [
      "0.99\n"
     ]
    }
   ],
   "source": [
    "scores = [\n",
    "    [0.5, 0.6, 0.6, 0.65, 0.3],\n",
    "    [0.55, 0.7, 0.9, 0.5, 0.5],\n",
    "    [0.59, 0.35, 0.99, 0.5, 0.6]\n",
    "    ]\n",
    "\n",
    "N = len(scores)\n",
    "M = len(scores[0])\n",
    "\n",
    "max_value = 0\n",
    "\n",
    "for i in range(N):\n",
    "    for j in range(M):\n",
    "        if max_value < scores[i][j]:\n",
    "            max_value = scores[i][j]\n",
    "\n",
    "print(max_value)"
   ]
  },
  {
   "cell_type": "code",
   "execution_count": 42,
   "metadata": {},
   "outputs": [
    {
     "data": {
      "text/plain": [
       "0.99"
      ]
     },
     "execution_count": 42,
     "metadata": {},
     "output_type": "execute_result"
    }
   ],
   "source": [
    "max(max(scores))"
   ]
  },
  {
   "cell_type": "code",
   "execution_count": 43,
   "metadata": {},
   "outputs": [
    {
     "name": "stdout",
     "output_type": "stream",
     "text": [
      "Alarm is set 10:00\n",
      "Alarm is set 10:30\n",
      "Alarm is set 15:00\n",
      "Alarm is set 15:30\n",
      "Alarm is set 20:00\n",
      "Alarm is set 20:30\n"
     ]
    }
   ],
   "source": [
    "# ЗАДАЧА №1\n",
    "\n",
    "hours = list(range(10, 24, 5))\n",
    "minutes = list(range(0, 60, 30))\n",
    "\n",
    "for hour in hours:\n",
    "    for minute in minutes:\n",
    "        if minute == 0:\n",
    "            print(f'Alarm is set {hour}:{minute}0')\n",
    "        else:\n",
    "            print(f'Alarm is set {hour}:{minute}')"
   ]
  },
  {
   "cell_type": "code",
   "execution_count": 44,
   "metadata": {},
   "outputs": [
    {
     "name": "stdout",
     "output_type": "stream",
     "text": [
      "Alarm is set 9:00\n",
      "Alarm is set 9:15\n",
      "Alarm is set 9:30\n",
      "Alarm is set 9:45\n",
      "Alarm is set 11:00\n",
      "Alarm is set 11:15\n",
      "Alarm is set 11:30\n",
      "Alarm is set 11:45\n",
      "Alarm is set 13:00\n",
      "Alarm is set 13:15\n",
      "Alarm is set 13:30\n",
      "Alarm is set 13:45\n",
      "Alarm is set 15:00\n",
      "Alarm is set 15:15\n",
      "Alarm is set 15:30\n",
      "Alarm is set 15:45\n",
      "Alarm is set 17:00\n",
      "Alarm is set 17:15\n",
      "Alarm is set 17:30\n",
      "Alarm is set 17:45\n",
      "Alarm is set 19:00\n",
      "Alarm is set 19:15\n",
      "Alarm is set 19:30\n",
      "Alarm is set 19:45\n",
      "Alarm is set 21:00\n",
      "Alarm is set 21:15\n",
      "Alarm is set 21:30\n",
      "Alarm is set 21:45\n",
      "Alarm is set 23:00\n",
      "Alarm is set 23:15\n",
      "Alarm is set 23:30\n",
      "Alarm is set 23:45\n"
     ]
    }
   ],
   "source": [
    "# Задание 4.2\n",
    "\n",
    "hours = list(range(9, 24, 2))\n",
    "minutes = list(range(0, 60, 15))\n",
    "\n",
    "for hour in hours:\n",
    "    for minute in minutes:\n",
    "        if minute == 0:\n",
    "            print(f'Alarm is set {hour}:{minute}0')\n",
    "        else:\n",
    "            print(f'Alarm is set {hour}:{minute}')"
   ]
  },
  {
   "cell_type": "code",
   "execution_count": 45,
   "metadata": {},
   "outputs": [
    {
     "name": "stdout",
     "output_type": "stream",
     "text": [
      "Count symbol 'e': 5\n"
     ]
    }
   ],
   "source": [
    "# ЗАДАЧА №2\n",
    "\n",
    "str_list = ['text', 'morning', 'notepad', 'television', 'ornament']\n",
    "\n",
    "letter = 'e'\n",
    "count = 0\n",
    "\n",
    "for text  in str_list:\n",
    "    for symbol in text:\n",
    "        if symbol == letter:\n",
    "            count += 1\n",
    "\n",
    "print(f'Count symbol \\'{letter}\\': {count}')"
   ]
  },
  {
   "cell_type": "code",
   "execution_count": 46,
   "metadata": {},
   "outputs": [
    {
     "name": "stdout",
     "output_type": "stream",
     "text": [
      "Count symbol 'e': 5\n"
     ]
    }
   ],
   "source": [
    "str_list = ['text', 'morning', 'notepad', 'television', 'ornament']\n",
    "\n",
    "letter = 'e'\n",
    "count = 0\n",
    "\n",
    "for text  in str_list:\n",
    "    count += text.count(letter)\n",
    "\n",
    "print(f'Count symbol \\'{letter}\\': {count}')"
   ]
  },
  {
   "cell_type": "code",
   "execution_count": 47,
   "metadata": {},
   "outputs": [
    {
     "name": "stdout",
     "output_type": "stream",
     "text": [
      "s\n",
      "i\n",
      "m\n",
      "p\n",
      "l\n",
      "e\n",
      " \n",
      "s\n",
      "t\n",
      "r\n",
      "i\n",
      "n\n",
      "g\n"
     ]
    }
   ],
   "source": [
    "simple_string = 'simple string'\n",
    "\n",
    "for s in simple_string:\n",
    "    print(s)"
   ]
  },
  {
   "cell_type": "code",
   "execution_count": 48,
   "metadata": {},
   "outputs": [
    {
     "name": "stdout",
     "output_type": "stream",
     "text": [
      "10\n"
     ]
    }
   ],
   "source": [
    "# Задание 4.3\n",
    "\n",
    "text_list = [\n",
    "    'afbaad',\n",
    "    'faaf',\n",
    "    'afaga',\n",
    "    'agag']\n",
    "\n",
    "count = 0\n",
    "\n",
    "for text in text_list:\n",
    "    for symbol in text:\n",
    "        if symbol == 'a':\n",
    "            count += 1\n",
    "\n",
    "print(count)"
   ]
  },
  {
   "cell_type": "code",
   "execution_count": 49,
   "metadata": {},
   "outputs": [
    {
     "name": "stdout",
     "output_type": "stream",
     "text": [
      "[1, 2, 4]\n"
     ]
    }
   ],
   "source": [
    "# ЗАДАЧА №3\n",
    "\n",
    "random_matrix = [\n",
    "    [9, 2, 1],\n",
    "    [2, 5, 3],\n",
    "    [4, 8, 5]\n",
    "    ]\n",
    "\n",
    "N = len(random_matrix)\n",
    "M = len(random_matrix[0])\n",
    "min_value_rows = []\n",
    "\n",
    "for i in range(N):\n",
    "    for j in range(M):\n",
    "        min_value = random_matrix[i][0]\n",
    "        if min_value >= random_matrix[i][j]:\n",
    "            min_value = random_matrix[i][j]\n",
    "    min_value_rows.append(min_value)\n",
    "\n",
    "print(min_value_rows)"
   ]
  },
  {
   "cell_type": "code",
   "execution_count": 50,
   "metadata": {},
   "outputs": [
    {
     "name": "stdout",
     "output_type": "stream",
     "text": [
      "[9, 5, 8]\n"
     ]
    }
   ],
   "source": [
    "# Задание 4.4\n",
    "\n",
    "random_matrix = [\n",
    "    [9, 2, 1],\n",
    "    [2, 5, 3],\n",
    "    [4, 8, 5]\n",
    "    ]\n",
    "\n",
    "# random_matrix = [\n",
    "#     [9, 121, 1, 10, 42],\n",
    "#     [91, 5, 3, 34, -1],\n",
    "#     [-8, 98, 5, 24, -420]\n",
    "#     ]\n",
    "\n",
    "max_value_rows = []\n",
    "\n",
    "for row in random_matrix:\n",
    "    max_value = row[0]\n",
    "    for value in row:\n",
    "        if value > max_value:\n",
    "            max_value = value\n",
    "    max_value_rows.append(max_value)\n",
    "\n",
    "print(max_value_rows)"
   ]
  },
  {
   "cell_type": "code",
   "execution_count": 51,
   "metadata": {},
   "outputs": [
    {
     "name": "stdout",
     "output_type": "stream",
     "text": [
      "math mean mark is 76.6\n",
      "info mean mark is 64.8\n",
      "russ mean mark is 82.2\n",
      "overall mean mark is 74.53\n"
     ]
    }
   ],
   "source": [
    "# ЗАДАЧА №4\n",
    "\n",
    "student_scores = [\n",
    "    [56, 90, 80],\n",
    "    [80, 86, 92],\n",
    "    [91, 76, 89],\n",
    "    [91, 42, 60],\n",
    "    [65, 30, 90]\n",
    "    ]\n",
    "\n",
    "stud_dict = {}\n",
    "overall_mean_mark = []\n",
    "\n",
    "for student in student_scores:\n",
    "    if not stud_dict:\n",
    "        stud_dict['math'] = [student[0]]\n",
    "        stud_dict['info'] = [student[1]]\n",
    "        stud_dict['russ'] = [student[2]]\n",
    "    else:\n",
    "        stud_dict['math'].append(student[0])\n",
    "        stud_dict['info'].append(student[1])\n",
    "        stud_dict['russ'].append(student[2])\n",
    "\n",
    "for exam, marks in stud_dict.items():\n",
    "    mean_mark = sum(marks) / len(marks)\n",
    "    overall_mean_mark.append(mean_mark)\n",
    "    print(f'{exam} mean mark is {mean_mark}')\n",
    "\n",
    "overall_mean_mark = sum(overall_mean_mark) / len(overall_mean_mark)\n",
    "\n",
    "print(f'overall mean mark is {overall_mean_mark:.2f}')"
   ]
  },
  {
   "cell_type": "code",
   "execution_count": 52,
   "metadata": {},
   "outputs": [
    {
     "name": "stdout",
     "output_type": "stream",
     "text": [
      "Average math score 383\n",
      "Average info score 324\n",
      "Average russ score 411\n",
      "Average score 74.53333333333333\n"
     ]
    }
   ],
   "source": [
    "N = len(student_scores)\n",
    "M = len(student_scores[0])\n",
    "\n",
    "summa, math_sum, info_sum, russ_sum = 0, 0, 0, 0\n",
    "\n",
    "for i in range(N):\n",
    "    math_sum += student_scores[i][0]\n",
    "    info_sum += student_scores[i][1]\n",
    "    russ_sum += student_scores[i][2]\n",
    "    for j in range(M):\n",
    "        summa += student_scores[i][j]\n",
    "\n",
    "print('Average math score {}'.format(math_sum))\n",
    "print('Average info score {}'.format(info_sum))\n",
    "print('Average russ score {}'.format(russ_sum))\n",
    "print('Average score {}'.format(summa/(N*M)))"
   ]
  },
  {
   "cell_type": "code",
   "execution_count": 53,
   "metadata": {},
   "outputs": [
    {
     "data": {
      "text/plain": [
       "0.9"
      ]
     },
     "execution_count": 53,
     "metadata": {},
     "output_type": "execute_result"
    }
   ],
   "source": [
    "# Задание 4.5\n",
    "\n",
    "scores = [\n",
    "    [0.5, 0.6, 0.6, 0.65, 0.3],\n",
    "    [0.55, 0.7, 0.9, 0.5, 0.5]]\n",
    "\n",
    "scores[1][2]"
   ]
  },
  {
   "cell_type": "code",
   "execution_count": 54,
   "metadata": {},
   "outputs": [
    {
     "name": "stdout",
     "output_type": "stream",
     "text": [
      "[0.5, 0.6, 0.6, 0.65, 0.3, 0.55, 0.7, 0.9, 0.5, 0.5]\n"
     ]
    }
   ],
   "source": [
    "# Задание 4.7\n",
    "\n",
    "scores = [\n",
    "    [0.5, 0.6, 0.6, 0.65, 0.3],\n",
    "    [0.55, 0.7, 0.9, 0.5, 0.5]\n",
    "]\n",
    "scores_lst = []\n",
    "for row in scores:\n",
    "    for score in row:\n",
    "        scores_lst.append(score)\n",
    "print(scores_lst)"
   ]
  },
  {
   "cell_type": "code",
   "execution_count": 55,
   "metadata": {},
   "outputs": [
    {
     "name": "stdout",
     "output_type": "stream",
     "text": [
      "True\n"
     ]
    }
   ],
   "source": [
    "# Задание 4.8\n",
    "\n",
    "test_matrix = [\n",
    "    [1, 2, 3],\n",
    "    [7, -1, 2],\n",
    "    [123, 2, -1]]\n",
    "\n",
    "# test_matrix = [\n",
    "#     [1, 2, 3],\n",
    "#     [7, -1, 2],\n",
    "#     [123, 2, -1],\n",
    "#     [123, 5, 1]]\n",
    "\n",
    "# test_matrix = [\n",
    "#     [1, 2, 3,  4],\n",
    "#     [7, -1, 2, 5],\n",
    "#     [123, 2, -1, 3],\n",
    "#     [123, 5, 1]]\n",
    "\n",
    "# test_matrix = [\n",
    "#     [1, 2, 3, 1, 1, 1, 1],\n",
    "#     [7, -1, 2, 1, 1, 1, 1],\n",
    "#     [123, 2, -1, 1, 1, 1]]\n",
    "\n",
    "# test_matrix = [\n",
    "#     [1, 2, 3],\n",
    "#     [7, -1, 2],\n",
    "#     [123, 2, -1, 6]]\n",
    "\n",
    "N = len(test_matrix)            # количество строк в матрице\n",
    "M = None                        # переменная для хранения количества столбцов\n",
    "\n",
    "for i in range(N):\n",
    "    M = len(test_matrix[i])     # находим количество столбцов в текущей строке\n",
    "\n",
    "is_square = N == M              # проверяем, является ли матрица квадратной\n",
    "\n",
    "print(is_square)"
   ]
  },
  {
   "cell_type": "code",
   "execution_count": 68,
   "metadata": {},
   "outputs": [
    {
     "data": {
      "text/plain": [
       "[[25, 27, 28, 26, 27, 26, 25, 2, 26],\n",
       " [21, 22, 28, 27, 28, 26, 25, 19, 26],\n",
       " [19, 21, 25, 27, 28, 25, 21, 20, 26]]"
      ]
     },
     "execution_count": 68,
     "metadata": {},
     "output_type": "execute_result"
    }
   ],
   "source": [
    "# Задание 4.9\n",
    "\n",
    "temp = [\n",
    "    [25, 27, 28, 26, 27, -26, -25, -2, 26],\n",
    "    [21, 22, 28, 27, 28, 26, 25, 19, 26],\n",
    "    [-19, 21, 25, -27, 28, 25, 21, 20, 26]]\n",
    "\n",
    "# temp = [\n",
    "#     [-12, -34, 24, 25, 25, -25, 25, 23, -30],\n",
    "#     [12, 15, 31, -27, -28, 26, 25, 19, 26],\n",
    "#     [-19, 21, 25, -27, 28, 25, 21, 20, 26]]\n",
    "\n",
    "N = len(temp)\n",
    "M = len(temp[0])\n",
    "\n",
    "for i in range(N):\n",
    "    for j in range(M):\n",
    "        value = temp[i][j]\n",
    "        if value < 0:\n",
    "            temp[i][j] *= -1\n",
    "\n",
    "temp"
   ]
  },
  {
   "cell_type": "code",
   "execution_count": 69,
   "metadata": {},
   "outputs": [
    {
     "data": {
      "text/plain": [
       "[[25, 27, 28, 26, 27, 26, 25, 2, 26],\n",
       " [21, 22, 28, 27, 28, 26, 25, 19, 26],\n",
       " [19, 21, 25, 27, 28, 25, 21, 20, 26]]"
      ]
     },
     "execution_count": 69,
     "metadata": {},
     "output_type": "execute_result"
    }
   ],
   "source": [
    "temp = [\n",
    "    [25, 27, 28, 26, 27, -26, -25, -2, 26],\n",
    "    [21, 22, 28, 27, 28, 26, 25, 19, 26],\n",
    "    [-19, 21, 25, -27, 28, 25, 21, 20, 26]]\n",
    "\n",
    "for i in range(len(temp)):\n",
    "    row = temp[i]\n",
    "    for j in range(len(row)):\n",
    "        if temp[i][j] < 0:\n",
    "            temp[i][j] *= -1\n",
    "\n",
    "temp"
   ]
  },
  {
   "cell_type": "code",
   "execution_count": null,
   "metadata": {},
   "outputs": [
    {
     "name": "stdout",
     "output_type": "stream",
     "text": [
      "[0.73, 0.62, 0.52, 0.76]\n",
      "0.76\n"
     ]
    }
   ],
   "source": [
    "# Задание 4.10\n",
    "\n",
    "# Показателями удовлетворённости клиентов компании по месяцам\n",
    "customer_satisfaction = [\n",
    "    [0.87, 0.56, 0.77],\n",
    "    [0.22, 0.46, 0.56, 0.89, 0.95],\n",
    "    [0.45, 0.44, 0.68],\n",
    "    [0.73, 0.88, 0.95, 0.49]]\n",
    "\n",
    "# customer_satisfaction = [\n",
    "#     [0.87, 0.56, 0.77],\n",
    "#     [0.22, 0.46, 0.56, 0.89, 0.95],\n",
    "#     [0.45, 0.44, 0.68],\n",
    "#     [0.73, 0.88, 0.95, 0.49]]\n",
    "\n",
    "# customer_satisfaction = [\n",
    "#     [0.15, 0.13, 0.2, 0.12, 0.4, 0.96],\n",
    "#     [0.1, 0.15, 0.21, 0.93, 0.81],\n",
    "#     [0.45, 0.71],\n",
    "#     [0.73, 0.88, 0.95, 0.49]]\n",
    "\n",
    "# customer_satisfaction = [\n",
    "#     [0.15, 0.13, 0.2, 0.12, 0.4, 0.96],\n",
    "#     [0.1, 0.15, 0.21, 0.93, 0.81],\n",
    "#     [0.45, 0.71],\n",
    "#     [0.73, 0.88, 0.95, 0.49]]\n",
    "\n",
    "month_satisfaction = [] # хранение среднего показателя удовлетворённости по каждому месяцу\n",
    "max_satisfaction = 0    # хранение макс. сред. показателя удовлетворённости за месяц\n",
    "\n",
    "for i in range(len(customer_satisfaction)):\n",
    "    sum_satisfaction = 0               # сумма удовлетворённости за текущий месяц\n",
    "    month = customer_satisfaction[i]    # данные за текущий месяц\n",
    "    \n",
    "    # Суммируем показатели удовлетворённости за месяц\n",
    "    for j in range(len(month)):\n",
    "        sum_satisfaction += customer_satisfaction[i][j]\n",
    "\n",
    "    # Рассчитываем и добавляем среднее значение удовлетворённости за месяц\n",
    "    mean_month_satisfaction = round(sum_satisfaction / len(month), 2)\n",
    "    month_satisfaction.append(mean_month_satisfaction)\n",
    "\n",
    "    # Проверяем, является ли текущий средний показатель максимальным\n",
    "    if mean_month_satisfaction > max_satisfaction:\n",
    "        max_satisfaction = mean_month_satisfaction\n",
    "\n",
    "print(month_satisfaction)\n",
    "print(max_satisfaction)"
   ]
  },
  {
   "cell_type": "code",
   "execution_count": 1,
   "metadata": {},
   "outputs": [
    {
     "name": "stdout",
     "output_type": "stream",
     "text": [
      "футболка белый\n",
      "футболка чёрный\n",
      "футболка синий\n",
      "футболка красный\n",
      "футболка зелёный\n",
      "футболка жёлтый\n",
      "худи белый\n",
      "худи чёрный\n",
      "худи синий\n",
      "худи красный\n",
      "худи зелёный\n",
      "худи жёлтый\n",
      "свитшот белый\n",
      "свитшот чёрный\n",
      "свитшот синий\n",
      "свитшот красный\n",
      "свитшот зелёный\n",
      "свитшот жёлтый\n",
      "брюки белый\n",
      "брюки чёрный\n",
      "брюки синий\n",
      "брюки красный\n",
      "брюки зелёный\n",
      "брюки жёлтый\n",
      "джинсы белый\n",
      "джинсы чёрный\n",
      "джинсы синий\n",
      "джинсы красный\n",
      "джинсы зелёный\n",
      "джинсы жёлтый\n"
     ]
    }
   ],
   "source": [
    "clothes = ['футболка', 'худи', 'свитшот', 'брюки', 'джинсы']\n",
    "colors = ['белый', 'чёрный', 'синий', 'красный', 'зелёный', 'жёлтый']\n",
    "\n",
    "for cloth in clothes:\n",
    "    for color in colors:\n",
    "        print(cloth, color)"
   ]
  },
  {
   "cell_type": "markdown",
   "metadata": {},
   "source": [
    "### 5 юнит"
   ]
  },
  {
   "cell_type": "code",
   "execution_count": 3,
   "metadata": {},
   "outputs": [
    {
     "name": "stdout",
     "output_type": "stream",
     "text": [
      "Day 1: -5\n",
      "Day 2: 2\n",
      "Day 3: 4\n",
      "Day 4: 8\n",
      "Day 5: 12\n",
      "Day 6: -7\n",
      "Day 7: 5\n"
     ]
    }
   ],
   "source": [
    "user_dynamics = [-5, 2, 4, 8, 12, -7, 5]\n",
    "\n",
    "number = 1\n",
    "\n",
    "for dynamic in user_dynamics:\n",
    "    print(f'Day {number}: {dynamic}')\n",
    "    number += 1"
   ]
  },
  {
   "cell_type": "code",
   "execution_count": 4,
   "metadata": {},
   "outputs": [
    {
     "name": "stdout",
     "output_type": "stream",
     "text": [
      "Day 1: -5\n",
      "Day 2: 2\n",
      "Day 3: 4\n",
      "Day 4: 8\n",
      "Day 5: 12\n",
      "Day 6: -7\n",
      "Day 7: 5\n"
     ]
    }
   ],
   "source": [
    "for i in range(len(user_dynamics)):\n",
    "    print(f'Day {i+1}: {user_dynamics[i]}')"
   ]
  },
  {
   "cell_type": "code",
   "execution_count": 5,
   "metadata": {},
   "outputs": [
    {
     "name": "stdout",
     "output_type": "stream",
     "text": [
      "0 5\n",
      "1 9\n",
      "2 13\n"
     ]
    }
   ],
   "source": [
    "my_list = [5, 9, 13]\n",
    "\n",
    "for i, value in enumerate(my_list):\n",
    "    print(i, value)"
   ]
  },
  {
   "cell_type": "code",
   "execution_count": 6,
   "metadata": {},
   "outputs": [
    {
     "name": "stdout",
     "output_type": "stream",
     "text": [
      "Day 1: -5\n",
      "Day 2: 2\n",
      "Day 3: 4\n",
      "Day 4: 8\n",
      "Day 5: 12\n",
      "Day 6: -7\n",
      "Day 7: 5\n"
     ]
    }
   ],
   "source": [
    "user_dynamics = [-5, 2, 4, 8, 12, -7, 5]\n",
    "\n",
    "for number, dynamic in enumerate(user_dynamics):\n",
    "    print(f'Day {number+1}: {dynamic}')"
   ]
  },
  {
   "cell_type": "code",
   "execution_count": 11,
   "metadata": {},
   "outputs": [
    {
     "name": "stdout",
     "output_type": "stream",
     "text": [
      "Churn value: -5\n",
      "Number day: 1\n",
      "\n",
      "Churn value: -7\n",
      "Number day: 6\n",
      "\n"
     ]
    }
   ],
   "source": [
    "# Задание 5.3\n",
    "\n",
    "user_dynamics = [-5, 2, 4, 8, 12, -7, 5]\n",
    "\n",
    "number_negative = None\n",
    "\n",
    "for i, dynamic in enumerate(user_dynamics):\n",
    "    if dynamic < 0:\n",
    "        print('Churn value:', dynamic)\n",
    "        print('Number day:', i+1)\n",
    "        print()"
   ]
  },
  {
   "cell_type": "code",
   "execution_count": 21,
   "metadata": {},
   "outputs": [
    {
     "name": "stdout",
     "output_type": "stream",
     "text": [
      "[[0, 'Hel'], [1, 'my'], [2, 'nam'], [3, 'is'], [4, 'Eze'], [5, 'I'], [6, 'lik'], [7, 'kni']]\n"
     ]
    }
   ],
   "source": [
    "# Задание 5.4\n",
    "\n",
    "str_list = ['Hello', 'my', 'name', 'is', 'Ezeikel', 'I', 'like', 'knitting']\n",
    "# str_list = ['afifalfa', 'agagag', 'gklwlf', 'is', 'fkbjal', 'ab', 'nkw']\n",
    "\n",
    "cut_str_list = []\n",
    "\n",
    "for i, text in enumerate(str_list):\n",
    "    cut_str_list.append([i, text[:3]])\n",
    "\n",
    "print(cut_str_list)"
   ]
  },
  {
   "cell_type": "code",
   "execution_count": 37,
   "metadata": {},
   "outputs": [
    {
     "name": "stdout",
     "output_type": "stream",
     "text": [
      "New item: Blood Moon Sword\n",
      "Add to inventory:  ['Blood Moon Sword']\n",
      "\n",
      "New item: Sunset-colored sword\n",
      "Add to inventory:  ['Blood Moon Sword', 'Sunset-colored sword']\n",
      "\n",
      "New item: Bow of Stars\n",
      "Add to inventory:  ['Blood Moon Sword', 'Sunset-colored sword', 'Bow of Stars']\n",
      "\n",
      "New item: Gain Stone\n",
      "Inventory is full!\n",
      "\n",
      "Final inventory: ['Blood Moon Sword', 'Sunset-colored sword', 'Bow of Stars']\n"
     ]
    }
   ],
   "source": [
    "# Задача №1\n",
    "\n",
    "to_inventory = ['Blood Moon Sword', 'Sunset-colored sword', 'Bow of Stars', 'Gain Stone']\n",
    "inventory = []\n",
    "\n",
    "for item in to_inventory:\n",
    "    print('New item:', item)\n",
    "    if len(inventory) == 3:\n",
    "        print('Inventory is full!')\n",
    "        print()\n",
    "        break\n",
    "    else:\n",
    "        inventory.append(item)\n",
    "        print('Add to inventory: ', inventory)\n",
    "    print()\n",
    "\n",
    "print('Final inventory:', inventory)"
   ]
  },
  {
   "cell_type": "code",
   "execution_count": 59,
   "metadata": {},
   "outputs": [
    {
     "name": "stdout",
     "output_type": "stream",
     "text": [
      "27\n",
      "9\n",
      "3\n",
      "n - is the power of the number 3!\n"
     ]
    }
   ],
   "source": [
    "# ЗАДАЧА №2\n",
    "\n",
    "n = 27\n",
    "# n = 12\n",
    "\n",
    "while True:\n",
    "    print(n)\n",
    "    if n % 3 == 0:\n",
    "        n = n // 3\n",
    "        if n == 1:\n",
    "            print('n - is the power of the number 3!')\n",
    "            break\n",
    "    else:\n",
    "        print('n - is not the power of the number 3!')\n",
    "        break"
   ]
  },
  {
   "cell_type": "code",
   "execution_count": null,
   "metadata": {},
   "outputs": [
    {
     "name": "stdout",
     "output_type": "stream",
     "text": [
      "Syracuse hypothesis holds for number 25921\n"
     ]
    }
   ],
   "source": [
    "# Задание 5.7\n",
    "\n",
    "n = 20\n",
    "# n = 25921\n",
    "\n",
    "origin = n\n",
    "\n",
    "# Создаём бесконечный цикл\n",
    "while True:\n",
    "    if n % 2 == 0:\n",
    "        n = n // 2\n",
    "    else:\n",
    "        n = (n*3 + 1) // 2\n",
    "\n",
    "    # Проверяем, что результат равен 1\n",
    "    if n == 1:\n",
    "        # Если условие выполняется, выводим утвердительное сообщение.\n",
    "        print('Syracuse hypothesis holds for number', origin)\n",
    "        break"
   ]
  },
  {
   "cell_type": "code",
   "execution_count": 106,
   "metadata": {},
   "outputs": [
    {
     "name": "stdout",
     "output_type": "stream",
     "text": [
      "Current client: 103303\n",
      "Send present: yes\n",
      "\n",
      "Current client: 103044\n",
      "Send present: no\n",
      "\n",
      "Current client: 100423\n",
      "Send present: yes\n",
      "\n",
      "Current client: 103032\n",
      "Send present: no\n",
      "\n",
      "Current client: 103902\n",
      "Send present: no\n",
      "\n"
     ]
    }
   ],
   "source": [
    "# ЗАДАЧА №3\n",
    "\n",
    "client_status = {\n",
    "    103303: 'yes', \n",
    "    103044: 'no',\n",
    "    100423: 'yes',\n",
    "    103032: 'no',\n",
    "    103902: 'no'\n",
    "    }\n",
    "\n",
    "for client in client_status:\n",
    "    print('Current client:', client)\n",
    "    if client_status[client] == 'no':\n",
    "        print('Send present:', client_status[client])\n",
    "        print()\n",
    "        continue\n",
    "    else:\n",
    "        print('Send present:', client_status[client])\n",
    "        print()"
   ]
  },
  {
   "cell_type": "code",
   "execution_count": 100,
   "metadata": {},
   "outputs": [
    {
     "name": "stdout",
     "output_type": "stream",
     "text": [
      "103303\n",
      "100423\n"
     ]
    }
   ],
   "source": [
    "for client in client_status:\n",
    "    if client_status[client] == 'yes':\n",
    "        print(client)"
   ]
  },
  {
   "cell_type": "code",
   "execution_count": null,
   "metadata": {},
   "outputs": [
    {
     "name": "stdout",
     "output_type": "stream",
     "text": [
      "4\n"
     ]
    }
   ],
   "source": [
    "# Задание 5.10\n",
    "\n",
    "mixture_dict = {'a': 15, 'b': 10.5, 'c': '15', 'd': 50, 'e': 15, 'f': '15'}\n",
    "# mixture_dict = {'key1': 24, 'key2': '1.4', 'key3': 14, 'key4': 16.24, 'key6': 124.2414, 'key7': 12.2}\n",
    "\n",
    "count_numbers = 0    # счетчик\n",
    "\n",
    "for value in mixture_dict.values():\n",
    "    # Если значение является строкой, пропускаем его\n",
    "    if type(value) is str:\n",
    "        continue\n",
    "    else:\n",
    "        # Если значение не строка (число), увеличиваем счетчик на 1\n",
    "        count_numbers += 1\n",
    "    \n",
    "print(count_numbers)"
   ]
  },
  {
   "cell_type": "code",
   "execution_count": 118,
   "metadata": {},
   "outputs": [
    {
     "name": "stdout",
     "output_type": "stream",
     "text": [
      "1\n",
      "2\n",
      "3\n"
     ]
    }
   ],
   "source": [
    "lst = [1, 2, 3, 4, 5]\n",
    "for i in lst:\n",
    "\tif i > 3:\n",
    "\t\tpass  \t\t# Ничего не делаем, если i больше 3\n",
    "\telse:\n",
    "\t\tprint(i)  \t# Выводим i, если оно меньше или равно 3"
   ]
  },
  {
   "cell_type": "code",
   "execution_count": 132,
   "metadata": {},
   "outputs": [
    {
     "name": "stdout",
     "output_type": "stream",
     "text": [
      "therabbit-holewentstraightonlikeatunnelforsomeway,andthendippedsuddenlydown,sosuddenlythatalicehadnotamomenttothinkaboutstoppingherselfbeforeshefoundherselffallingdownaverydeepwell.eitherthewellwasverydeep,orshefellveryslowly,forshehadplentyoftimeasshewentdowntolookaboutherandtowonderwhatwasgoingtohappennext.first,shetriedtolookdownandmakeoutwhatshewascomingto,butitwastoodarktoseeanything;thenshelookedatthesidesofthewell,andnoticedthattheywerefilledwithcupboardsandbook-shelves;hereandthereshesawmapsandpictureshunguponpegs.shetookdownajarfromoneoftheshelvesasshepassed;itwaslabelled`orangemarmalade',buttohergreatdisappointmentitwasempty:shedidnotliketodropthejarforfearofkillingsomebody,somanagedtoputitintooneofthecupboardsasshefellpastit.`well!'thoughtalicetoherself,`aftersuchafallasthis,ishallthinknothingoftumblingdownstairs!howbravethey'llallthinkmeathome!why,iwouldn'tsayanythingaboutit,evenififelloffthetopofthehouse!'(whichwasverylikelytrue.)\n",
      "{'t': 88, 'h': 63, 'e': 112, 'r': 39, 'a': 70, 'b': 15, 'i': 47, '-': 2, 'o': 80, 'l': 55, 'w': 31, 'n': 57, 's': 60, 'g': 17, 'k': 14, 'u': 22, 'f': 28, 'm': 17, 'y': 18, ',': 13, 'd': 43, 'p': 23, 'c': 9, 'v': 8, '.': 5, 'x': 1, ';': 3, 'j': 2, '`': 3, \"'\": 5, ':': 1, '!': 4, '(': 1, ')': 1}\n"
     ]
    }
   ],
   "source": [
    "# задача №1\n",
    "\n",
    "text = \"\"\"\n",
    "The rabbit-hole went straight on like a tunnel for some way, and then dipped suddenly down, \\\n",
    "so suddenly that Alice had not a moment to think about stopping herself before she found \\\n",
    "herself falling down a very deep well.\n",
    "\n",
    "Either the well was very deep, or she fell very slowly, for she had plenty of time as she \\\n",
    "went down to look about her and to wonder what was going to happen next. First, she tried \\\n",
    "to look down and make out what she was coming to, but it was too dark to see anything; \\\n",
    "then she looked at the sides of the well, and noticed that they were filled with cupboards \\\n",
    "and book-shelves; here and there she saw maps and pictures hung upon pegs. She took down a \\\n",
    "jar from one of the shelves as she passed; it was labelled `ORANGE MARMALADE', but to her \\\n",
    "great disappointment it was empty: she did not like to drop the jar for fear of killing \\\n",
    "somebody, so managed to put it into one of the cupboards as she fell past it.\n",
    "\n",
    "`Well!' thought Alice to herself, `after such a fall as this, I shall think nothing of \\\n",
    "tumbling down stairs! How brave they'll all think me at home! Why, I wouldn't say anything \\\n",
    "about it, even if I fell off the top of the house!' (Which was very likely true.)\n",
    "\"\"\"\n",
    "\n",
    "text = text.lower().replace('\\n', '').replace(' ', '')\n",
    "print(text)\n",
    "\n",
    "count_dict = {}\n",
    "\n",
    "for symbol in text:\n",
    "    # print(count_dict)\n",
    "    if symbol not in count_dict:\n",
    "        count_dict[symbol] = 1\n",
    "    else:\n",
    "        count_dict[symbol] += 1\n",
    "\n",
    "print(count_dict)"
   ]
  },
  {
   "cell_type": "code",
   "execution_count": 173,
   "metadata": {},
   "outputs": [
    {
     "name": "stdout",
     "output_type": "stream",
     "text": [
      "{'.': 2, ',': 1, ';': 1, '!': 0, '?': 0, '—': 0}\n"
     ]
    }
   ],
   "source": [
    "# Задание 5.11\n",
    "\n",
    "text = \"She sells sea shells on the sea shore;\\\n",
    "The shells that she sells are sea shells I am sure.\\\n",
    "So if she sells sea shells on the sea shore,\\\n",
    "I am sure that the shells are sea shore shells.\"\n",
    "\n",
    "# text = \"\"\"\n",
    "# Иной раз казалось ему, что он уже с месяц лежит; \\\n",
    "# в другой раз — что всё тот же день идет. Но об том — \\\n",
    "# об том он совершенно забыл; зато ежеминутно помнил, \\\n",
    "# что об чем-то забыл, чего нельзя забывать, — терзался, \\\n",
    "# мучился, припоминая, стонал, впадал в бешенство или в ужасный, \\\n",
    "# невыносимый страх.\n",
    "# Тогда он порывался с места, хотел бежать, но всегда кто-нибудь \\\n",
    "# его останавливал силой, и он опять впадал в бессилие и \\\n",
    "# беспамятство. Наконец он совсем пришел в себя!\n",
    "# \"\"\"\n",
    "\n",
    "count_punctuation = {}  # Словарь для хранения количества знаков\n",
    "punctuation_list = ['.', ',', ';', '!', '?', '—']   # Список знаков препинания\n",
    "\n",
    "# Проходим по каждому знаку препинания из списка\n",
    "for punctuation in punctuation_list:\n",
    "    count = 0   # Счетчик для текущего знака препинания\n",
    "\n",
    "    # Проверяем каждый символ в тексте\n",
    "    for symbol in text:\n",
    "        # Если символ совпадает с текущим знаком препинания, увеличиваем счетчик\n",
    "        if symbol == punctuation:\n",
    "            count += 1\n",
    "            continue\n",
    "\n",
    "    # Записываем количество текущего знака препинания в словарь\n",
    "    count_punctuation[punctuation] = count\n",
    "\n",
    "print(count_punctuation)"
   ]
  },
  {
   "cell_type": "code",
   "execution_count": 156,
   "metadata": {},
   "outputs": [
    {
     "name": "stdout",
     "output_type": "stream",
     "text": [
      "{',': 12, '.': 3, '—': 3, ';': 2, '!': 1, '?': 0}\n"
     ]
    }
   ],
   "source": [
    "count_punctuation = {}  # Словарь для хранения количества знаков\n",
    "punctuation_list = ['.', ',', ';', '!', '?', '—']   # Список знаков препинания\n",
    "\n",
    "# Проходим по каждому знаку препинания из списка\n",
    "for punctuation in punctuation_list:\n",
    "    count = 0   # Счетчик для текущего знака препинания\n",
    "\n",
    "    # Проверяем каждый символ в тексте\n",
    "    for symbol in text:\n",
    "        # Если символ совпадает с текущим знаком препинания, увеличиваем счетчик\n",
    "        if symbol == punctuation:\n",
    "            count += 1\n",
    "            continue\n",
    "\n",
    "    # Записываем количество текущего знака препинания в словарь\n",
    "    count_punctuation[punctuation] = count\n",
    "\n",
    "sorted_dict = dict(sorted(count_punctuation.items(), key=lambda item: (-item[1], item[0])))\n",
    "print(sorted_dict)"
   ]
  },
  {
   "cell_type": "code",
   "execution_count": 172,
   "metadata": {},
   "outputs": [
    {
     "name": "stdout",
     "output_type": "stream",
     "text": [
      "\n",
      "She sells sea shells on the sea shore;\n",
      "The shells that she sells are sea shells I am sure.\n",
      "So if she sells sea shells on the sea shore,\n",
      "I am sure that the shells are sea shore shells.\n",
      "\n",
      "{'she': 3, 'sells': 3, 'sea': 6, 'shells': 6, 'on': 2, 'the': 4, 'shore': 3, 'that': 2, 'are': 2, 'i': 2, 'am': 2, 'sure': 2, 'so': 1, 'if': 1}\n"
     ]
    }
   ],
   "source": [
    "# задача №2\n",
    "\n",
    "text = \"\"\"\n",
    "She sells sea shells on the sea shore;\n",
    "The shells that she sells are sea shells I am sure.\n",
    "So if she sells sea shells on the sea shore,\n",
    "I am sure that the shells are sea shore shells.\n",
    "\"\"\"\n",
    "\n",
    "print(text)\n",
    "\n",
    "# Подготовка текста\n",
    "text = text.replace('\\n', ' ').replace('.', '').replace(',', '').replace(';', '')\n",
    "text = text.lower()\n",
    "word_list = text.split()\n",
    "\n",
    "count_dict = {}\n",
    "\n",
    "for word in word_list:\n",
    "    # print(count_dict)\n",
    "    if word not in count_dict:\n",
    "        count_dict[word] = 1\n",
    "    else:\n",
    "        count_dict[word] += 1\n",
    "\n",
    "print(count_dict)"
   ]
  },
  {
   "cell_type": "code",
   "execution_count": null,
   "metadata": {},
   "outputs": [
    {
     "name": "stdout",
     "output_type": "stream",
     "text": [
      "{'счастье': 1, 'не': 1, 'в': 2, 'том': 2, 'чтобы': 2, 'делать': 1, 'всегда': 2, 'что': 2, 'хочешь': 1, 'а': 1, 'хотеть': 1, 'того': 1, 'делаешь': 1}\n"
     ]
    }
   ],
   "source": [
    "# Задание 5.12\n",
    "\n",
    "sentence = 'A roboT MAY Not injure a humAn BEING or, tHROugh INACtion, allow a \\\n",
    "    human BEING to come to harm.'\n",
    "\n",
    "# sentence = 'СчастьЕ нЕ в тоМ, чтобы делать всегда, что хочешь, а в Том, чтОБЫ \\\n",
    "#     всегдА хотеть того, ЧТО дЕлаешь.'\n",
    "\n",
    "# Подготовка текста\n",
    "sentence = sentence.lower()\n",
    "sentence = sentence.replace(',', '').replace('.', '')\n",
    "word_list = sentence.split()\n",
    "\n",
    "word_dict = {}                  # Инициализация пустого словаря\n",
    "\n",
    "# Подсчет количества вхождений каждого слова\n",
    "for word in word_list:\n",
    "    if word not in word_dict:   # Если слово еще не добавлено в словарь\n",
    "        word_dict[word] = 1     # Добавляем слово в словарь с начальным значением 1\n",
    "    else:\n",
    "        word_dict[word] += 1    # Увеличиваем значение, если слово уже есть в словаре\n",
    "\n",
    "print(word_dict)"
   ]
  },
  {
   "cell_type": "code",
   "execution_count": null,
   "metadata": {},
   "outputs": [
    {
     "name": "stdout",
     "output_type": "stream",
     "text": [
      "{'text': 0, 'morning': 2, 'notepad': 1, 'television': 1, 'ornament': 2}\n"
     ]
    }
   ],
   "source": [
    "# Задание 5.13\n",
    "\n",
    "symbol_to_check = 't'\n",
    "# symbol_to_check = 'n'\n",
    "# symbol_to_check = 'g'\n",
    "\n",
    "str_list = [\"text\", \"morning\", \"notepad\", \"television\", \"ornament\"]\n",
    "\n",
    "word_dict = {}                          # Инициализация пустого словаря\n",
    "\n",
    "# Перебор каждого слова в списке\n",
    "for word in str_list:\n",
    "    count = 0                           # Счетчик для символов в каждом слове\n",
    "\n",
    "    # Перебор каждого символа в слове\n",
    "    for symbol in word:\n",
    "        if symbol == symbol_to_check:   # Проверка, равен ли символ заданному\n",
    "            count += 1                  # Увеличиваем счетчик, если символ найден\n",
    "    word_dict[word] = count             # Записываем количество вхождений символа в словарь\n",
    "\n",
    "print(word_dict)"
   ]
  }
 ],
 "metadata": {
  "kernelspec": {
   "display_name": "base",
   "language": "python",
   "name": "python3"
  },
  "language_info": {
   "codemirror_mode": {
    "name": "ipython",
    "version": 3
   },
   "file_extension": ".py",
   "mimetype": "text/x-python",
   "name": "python",
   "nbconvert_exporter": "python",
   "pygments_lexer": "ipython3",
   "version": "3.12.4"
  }
 },
 "nbformat": 4,
 "nbformat_minor": 2
}
